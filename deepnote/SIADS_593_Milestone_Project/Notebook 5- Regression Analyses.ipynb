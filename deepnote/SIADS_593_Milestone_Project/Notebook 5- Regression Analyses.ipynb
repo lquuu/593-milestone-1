{
  "cells": [
    {
      "cell_type": "markdown",
      "metadata": {
        "formattedRanges": [],
        "cell_id": "705fc787fca448f7a054811cedba6bb1",
        "deepnote_cell_type": "text-cell-h1"
      },
      "source": "# Notebook 5: Regression Analysis",
      "block_group": "11ed7f567aa1489786c6afa0d2e87153"
    },
    {
      "cell_type": "markdown",
      "metadata": {
        "cell_id": "b251f6fcb91e4d288fe419eb216d62d8",
        "deepnote_cell_type": "markdown"
      },
      "source": "To further dive into the effect of demographics (i.e., race/ethnicity, student status) and locale on per-pupil spending, we will perform regression analyses. Please note that, throughout the notebook, we will be interpreting the slopes to be **the change in per-pupil spending for a 1% increase in the demographic variable**.\n\n\n1. **Initial Heat Map**\n     We will first create a heat map to visualize the correlations between the demographic variables and per-pupil spending.\n\n2. **Demographics Regression Analysis**\n     - **Bivariate Regression:** We will perform a bivariate OLS linear regression analysis to determine the relationship between each student demographic variable (i.e., race, ethnicity, student status) and per-pupil spending. We will identify the demographic variables with the strongest correlations to per-pupil spending (R-squared) and check for statistical significance $$(p<0.05)$$.\n     - **Multiple Regression:** We will then perform a multiple OLS regression analysis [that considers all demographic variables *simultaneously*] to determine how much of the variance in per-pupil spending can be explained by the demographic variables.\n\n3. **Locale Regression Analysis**\n     Next, we will perform a **multiple OLS regression analyses** to determine how much of the variance in per-pupil spending can be explained by the demographic variables. We use `smf.ols` for this because the independent variable, `'Locale'`, is categorical data.\n\n4. **Our Combined Model:**\n     We create a final model incorporating **only** statistically significant demographic predictors and locale; and revealed that these factors together explain about 12.3% of the variance in per-pupil spending. Interestingly, `English Learner` lost its significance in our final model, suggesting that its earlier significance was partly due to \"between-locale\" differences and overlap with other demographics.\n\nOverall, the analyses suggest that certain demographics and rural locales are associated with higher per-pupil spending, although the explained variance remains relatively low at 12.3%, suggesting other factors are part of California's LCFF. Further research and analysis will give us a broader picture of what goes into district funding distribution.",
      "block_group": "b37a9e118f3d4f2e9edd9f452b8d231b"
    },
    {
      "cell_type": "markdown",
      "metadata": {
        "formattedRanges": [],
        "cell_id": "d714b6fcfb854259a234facfba69444f",
        "deepnote_cell_type": "text-cell-h2"
      },
      "source": "## 1.0. Project Dependencies",
      "block_group": "52df0c6a928d4a03839d94c531c56981"
    },
    {
      "cell_type": "markdown",
      "metadata": {
        "formattedRanges": [],
        "cell_id": "ba9a6cd0ea9f434eaf53c1a9c08b1db4",
        "deepnote_cell_type": "text-cell-h3"
      },
      "source": "### 1.1 Import Libraries",
      "block_group": "f0611dff16784dffa4f37359f2869506"
    },
    {
      "cell_type": "code",
      "metadata": {
        "source_hash": "df89c005",
        "execution_start": 1759972266956,
        "execution_millis": 1,
        "execution_context_id": "81b7e790-0822-4f8a-a867-857b78ed30d1",
        "cell_id": "ae2925f5ddb34476aa1be8509cb3a06f",
        "deepnote_cell_type": "code"
      },
      "source": "import pandas as pd\nimport matplotlib.pyplot as plt\nimport seaborn as sns\nimport statsmodels.formula.api as smf\nimport statsmodels.api as sm",
      "block_group": "ae2925f5ddb34476aa1be8509cb3a06f",
      "execution_count": 57,
      "outputs": [],
      "outputs_reference": null,
      "content_dependencies": null
    },
    {
      "cell_type": "markdown",
      "metadata": {
        "formattedRanges": [
          {
            "type": "marks",
            "marks": {
              "code": true
            },
            "toCodePoint": 46,
            "fromCodePoint": 23
          }
        ],
        "cell_id": "46b6cd94296049bda192b95a03066bbc",
        "deepnote_cell_type": "text-cell-h3"
      },
      "source": "### 1.2 Import the Cleaned 'district_and_expenses' CSV Data ",
      "block_group": "e0cb8591fb0948cdbf86acf38db7bf82"
    },
    {
      "cell_type": "code",
      "metadata": {
        "source_hash": "507662f8",
        "execution_start": 1759972099266,
        "execution_millis": 258,
        "execution_context_id": "81b7e790-0822-4f8a-a867-857b78ed30d1",
        "cell_id": "8c2cb00964714f0ab8923b715e3c084c",
        "deepnote_cell_type": "code"
      },
      "source": "# Import and store the cleaned DataFrame from the 'district_and_expenses.csv' file\ndistrict_and_expenses = pd.read_csv('district_and_expenses.csv')\n\n# Display the imported 'district_and_expenses' DataFrame\ndisplay(district_and_expenses)",
      "block_group": "be3f196fa78b4c4aabfd13916d04ab02",
      "execution_count": 39,
      "outputs": [
        {
          "data": {
            "application/vnd.deepnote.dataframe.v3+json": {
              "column_count": 51,
              "columns": [
                {
                  "name": "Fed ID",
                  "dtype": "float64",
                  "stats": {
                    "unique_count": 927,
                    "nan_count": 5,
                    "min": "600001.0",
                    "max": "691137.0",
                    "histogram": [
                      {
                        "bin_start": 600001,
                        "bin_end": 609114.6,
                        "count": 225
                      },
                      {
                        "bin_start": 609114.6,
                        "bin_end": 618228.2,
                        "count": 172
                      },
                      {
                        "bin_start": 618228.2,
                        "bin_end": 627341.8,
                        "count": 197
                      },
                      {
                        "bin_start": 627341.8,
                        "bin_end": 636455.4,
                        "count": 189
                      },
                      {
                        "bin_start": 636455.4,
                        "bin_end": 645569,
                        "count": 139
                      },
                      {
                        "bin_start": 645569,
                        "bin_end": 654682.6,
                        "count": 0
                      },
                      {
                        "bin_start": 654682.6,
                        "bin_end": 663796.2,
                        "count": 0
                      },
                      {
                        "bin_start": 663796.2,
                        "bin_end": 672909.8,
                        "count": 0
                      },
                      {
                        "bin_start": 672909.8,
                        "bin_end": 682023.4,
                        "count": 0
                      },
                      {
                        "bin_start": 682023.4,
                        "bin_end": 691137,
                        "count": 5
                      }
                    ],
                    "categories": null
                  }
                },
                {
                  "name": "District Code",
                  "dtype": "int64",
                  "stats": {
                    "unique_count": 932,
                    "nan_count": 0,
                    "min": "40246",
                    "max": "77388",
                    "histogram": [
                      {
                        "bin_start": 40246,
                        "bin_end": 43960.2,
                        "count": 4
                      },
                      {
                        "bin_start": 43960.2,
                        "bin_end": 47674.4,
                        "count": 0
                      },
                      {
                        "bin_start": 47674.4,
                        "bin_end": 51388.6,
                        "count": 0
                      },
                      {
                        "bin_start": 51388.6,
                        "bin_end": 55102.8,
                        "count": 0
                      },
                      {
                        "bin_start": 55102.8,
                        "bin_end": 58817,
                        "count": 0
                      },
                      {
                        "bin_start": 58817,
                        "bin_end": 62531.2,
                        "count": 89
                      },
                      {
                        "bin_start": 62531.2,
                        "bin_end": 66245.4,
                        "count": 261
                      },
                      {
                        "bin_start": 66245.4,
                        "bin_end": 69959.6,
                        "count": 256
                      },
                      {
                        "bin_start": 69959.6,
                        "bin_end": 73673.79999999999,
                        "count": 216
                      },
                      {
                        "bin_start": 73673.79999999999,
                        "bin_end": 77388,
                        "count": 106
                      }
                    ],
                    "categories": null
                  }
                },
                {
                  "name": "CDS Code",
                  "dtype": "float64",
                  "stats": {
                    "unique_count": 927,
                    "nan_count": 5,
                    "min": "1611190000000.0",
                    "max": "58727690000000.0",
                    "histogram": [
                      {
                        "bin_start": 1611190000000,
                        "bin_end": 7322840000000,
                        "count": 41
                      },
                      {
                        "bin_start": 7322840000000,
                        "bin_end": 13034490000000,
                        "count": 105
                      },
                      {
                        "bin_start": 13034490000000,
                        "bin_end": 18746140000000,
                        "count": 96
                      },
                      {
                        "bin_start": 18746140000000,
                        "bin_end": 24457790000000,
                        "count": 117
                      },
                      {
                        "bin_start": 24457790000000,
                        "bin_end": 30169440000000,
                        "count": 63
                      },
                      {
                        "bin_start": 30169440000000,
                        "bin_end": 35881090000000,
                        "count": 92
                      },
                      {
                        "bin_start": 35881090000000,
                        "bin_end": 41592740000000,
                        "count": 99
                      },
                      {
                        "bin_start": 41592740000000,
                        "bin_end": 47304390000000,
                        "count": 108
                      },
                      {
                        "bin_start": 47304390000000,
                        "bin_end": 53016040000000,
                        "count": 114
                      },
                      {
                        "bin_start": 53016040000000,
                        "bin_end": 58727690000000,
                        "count": 92
                      }
                    ],
                    "categories": null
                  }
                },
                {
                  "name": "County Name",
                  "dtype": "object",
                  "stats": {
                    "unique_count": 58,
                    "nan_count": 0,
                    "min": null,
                    "max": null,
                    "histogram": null,
                    "categories": [
                      {
                        "name": "Los Angeles",
                        "count": 79
                      },
                      {
                        "name": "Kern",
                        "count": 46
                      },
                      {
                        "name": "56 others",
                        "count": 807
                      }
                    ]
                  }
                },
                {
                  "name": "District Type",
                  "dtype": "object",
                  "stats": {
                    "unique_count": 3,
                    "nan_count": 0,
                    "min": null,
                    "max": null,
                    "histogram": null,
                    "categories": [
                      {
                        "name": "Elementary",
                        "count": 516
                      },
                      {
                        "name": "Unified",
                        "count": 345
                      },
                      {
                        "name": "High",
                        "count": 71
                      }
                    ]
                  }
                },
                {
                  "name": "Grade Low",
                  "dtype": "object",
                  "stats": {
                    "unique_count": 6,
                    "nan_count": 0,
                    "min": null,
                    "max": null,
                    "histogram": null,
                    "categories": [
                      {
                        "name": "KG",
                        "count": 870
                      },
                      {
                        "name": "09",
                        "count": 52
                      },
                      {
                        "name": "4 others",
                        "count": 10
                      }
                    ]
                  }
                },
                {
                  "name": "Grade High",
                  "dtype": "int64",
                  "stats": {
                    "unique_count": 4,
                    "nan_count": 0,
                    "min": "5",
                    "max": "12",
                    "histogram": [
                      {
                        "bin_start": 5,
                        "bin_end": 5.7,
                        "count": 3
                      },
                      {
                        "bin_start": 5.7,
                        "bin_end": 6.4,
                        "count": 39
                      },
                      {
                        "bin_start": 6.4,
                        "bin_end": 7.1,
                        "count": 0
                      },
                      {
                        "bin_start": 7.1,
                        "bin_end": 7.8,
                        "count": 0
                      },
                      {
                        "bin_start": 7.8,
                        "bin_end": 8.5,
                        "count": 414
                      },
                      {
                        "bin_start": 8.5,
                        "bin_end": 9.2,
                        "count": 0
                      },
                      {
                        "bin_start": 9.2,
                        "bin_end": 9.899999999999999,
                        "count": 0
                      },
                      {
                        "bin_start": 9.899999999999999,
                        "bin_end": 10.6,
                        "count": 0
                      },
                      {
                        "bin_start": 10.6,
                        "bin_end": 11.3,
                        "count": 0
                      },
                      {
                        "bin_start": 11.3,
                        "bin_end": 12,
                        "count": 476
                      }
                    ],
                    "categories": null
                  }
                },
                {
                  "name": "Grade Low Census",
                  "dtype": "object",
                  "stats": {
                    "unique_count": 4,
                    "nan_count": 0,
                    "min": null,
                    "max": null,
                    "histogram": null,
                    "categories": [
                      {
                        "name": "KG",
                        "count": 858
                      },
                      {
                        "name": "09",
                        "count": 64
                      },
                      {
                        "name": "2 others",
                        "count": 10
                      }
                    ]
                  }
                },
                {
                  "name": "Grade High Census",
                  "dtype": "int64",
                  "stats": {
                    "unique_count": 4,
                    "nan_count": 0,
                    "min": "5",
                    "max": "12",
                    "histogram": [
                      {
                        "bin_start": 5,
                        "bin_end": 5.7,
                        "count": 1
                      },
                      {
                        "bin_start": 5.7,
                        "bin_end": 6.4,
                        "count": 63
                      },
                      {
                        "bin_start": 6.4,
                        "bin_end": 7.1,
                        "count": 0
                      },
                      {
                        "bin_start": 7.1,
                        "bin_end": 7.8,
                        "count": 0
                      },
                      {
                        "bin_start": 7.8,
                        "bin_end": 8.5,
                        "count": 449
                      },
                      {
                        "bin_start": 8.5,
                        "bin_end": 9.2,
                        "count": 0
                      },
                      {
                        "bin_start": 9.2,
                        "bin_end": 9.899999999999999,
                        "count": 0
                      },
                      {
                        "bin_start": 9.899999999999999,
                        "bin_end": 10.6,
                        "count": 0
                      },
                      {
                        "bin_start": 10.6,
                        "bin_end": 11.3,
                        "count": 0
                      },
                      {
                        "bin_start": 11.3,
                        "bin_end": 12,
                        "count": 419
                      }
                    ],
                    "categories": null
                  }
                },
                {
                  "name": "Assistance Status",
                  "dtype": "object",
                  "stats": {
                    "unique_count": 2,
                    "nan_count": 6,
                    "min": null,
                    "max": null,
                    "histogram": null,
                    "categories": [
                      {
                        "name": "General Assistance",
                        "count": 483
                      },
                      {
                        "name": "Differentiated Assistance",
                        "count": 443
                      },
                      {
                        "name": "Missing",
                        "count": 6
                      }
                    ]
                  }
                },
                {
                  "name": "Locale",
                  "dtype": "object",
                  "stats": {
                    "unique_count": 5,
                    "nan_count": 0,
                    "min": null,
                    "max": null,
                    "histogram": null,
                    "categories": [
                      {
                        "name": "Rural",
                        "count": 341
                      },
                      {
                        "name": "Suburban",
                        "count": 296
                      },
                      {
                        "name": "3 others",
                        "count": 295
                      }
                    ]
                  }
                },
                {
                  "name": "Enroll Total",
                  "dtype": "float64",
                  "stats": {
                    "unique_count": 836,
                    "nan_count": 0,
                    "min": "3.0",
                    "max": "529902.0",
                    "histogram": [
                      {
                        "bin_start": 3,
                        "bin_end": 52992.9,
                        "count": 926
                      },
                      {
                        "bin_start": 52992.9,
                        "bin_end": 105982.8,
                        "count": 4
                      },
                      {
                        "bin_start": 105982.8,
                        "bin_end": 158972.7,
                        "count": 1
                      },
                      {
                        "bin_start": 158972.7,
                        "bin_end": 211962.6,
                        "count": 0
                      },
                      {
                        "bin_start": 211962.6,
                        "bin_end": 264952.5,
                        "count": 0
                      },
                      {
                        "bin_start": 264952.5,
                        "bin_end": 317942.4,
                        "count": 0
                      },
                      {
                        "bin_start": 317942.4,
                        "bin_end": 370932.3,
                        "count": 0
                      },
                      {
                        "bin_start": 370932.3,
                        "bin_end": 423922.2,
                        "count": 0
                      },
                      {
                        "bin_start": 423922.2,
                        "bin_end": 476912.10000000003,
                        "count": 0
                      },
                      {
                        "bin_start": 476912.10000000003,
                        "bin_end": 529902,
                        "count": 1
                      }
                    ],
                    "categories": null
                  }
                },
                {
                  "name": "Enroll Charter",
                  "dtype": "float64",
                  "stats": {
                    "unique_count": 266,
                    "nan_count": 0,
                    "min": "0.0",
                    "max": "148786.0",
                    "histogram": [
                      {
                        "bin_start": 0,
                        "bin_end": 14878.6,
                        "count": 929
                      },
                      {
                        "bin_start": 14878.6,
                        "bin_end": 29757.2,
                        "count": 2
                      },
                      {
                        "bin_start": 29757.2,
                        "bin_end": 44635.8,
                        "count": 0
                      },
                      {
                        "bin_start": 44635.8,
                        "bin_end": 59514.4,
                        "count": 0
                      },
                      {
                        "bin_start": 59514.4,
                        "bin_end": 74393,
                        "count": 0
                      },
                      {
                        "bin_start": 74393,
                        "bin_end": 89271.6,
                        "count": 0
                      },
                      {
                        "bin_start": 89271.6,
                        "bin_end": 104150.2,
                        "count": 0
                      },
                      {
                        "bin_start": 104150.2,
                        "bin_end": 119028.8,
                        "count": 0
                      },
                      {
                        "bin_start": 119028.8,
                        "bin_end": 133907.4,
                        "count": 0
                      },
                      {
                        "bin_start": 133907.4,
                        "bin_end": 148786,
                        "count": 1
                      }
                    ],
                    "categories": null
                  }
                },
                {
                  "name": "Enroll Non Charter",
                  "dtype": "float64",
                  "stats": {
                    "unique_count": 817,
                    "nan_count": 0,
                    "min": "0.0",
                    "max": "381116.0",
                    "histogram": [
                      {
                        "bin_start": 0,
                        "bin_end": 38111.6,
                        "count": 919
                      },
                      {
                        "bin_start": 38111.6,
                        "bin_end": 76223.2,
                        "count": 11
                      },
                      {
                        "bin_start": 76223.2,
                        "bin_end": 114334.79999999999,
                        "count": 1
                      },
                      {
                        "bin_start": 114334.79999999999,
                        "bin_end": 152446.4,
                        "count": 0
                      },
                      {
                        "bin_start": 152446.4,
                        "bin_end": 190558,
                        "count": 0
                      },
                      {
                        "bin_start": 190558,
                        "bin_end": 228669.59999999998,
                        "count": 0
                      },
                      {
                        "bin_start": 228669.59999999998,
                        "bin_end": 266781.2,
                        "count": 0
                      },
                      {
                        "bin_start": 266781.2,
                        "bin_end": 304892.8,
                        "count": 0
                      },
                      {
                        "bin_start": 304892.8,
                        "bin_end": 343004.39999999997,
                        "count": 0
                      },
                      {
                        "bin_start": 343004.39999999997,
                        "bin_end": 381116,
                        "count": 1
                      }
                    ],
                    "categories": null
                  }
                },
                {
                  "name": "African American",
                  "dtype": "float64",
                  "stats": {
                    "unique_count": 314,
                    "nan_count": 0,
                    "min": "0.0",
                    "max": "38494.0",
                    "histogram": [
                      {
                        "bin_start": 0,
                        "bin_end": 3849.4,
                        "count": 922
                      },
                      {
                        "bin_start": 3849.4,
                        "bin_end": 7698.8,
                        "count": 6
                      },
                      {
                        "bin_start": 7698.8,
                        "bin_end": 11548.2,
                        "count": 3
                      },
                      {
                        "bin_start": 11548.2,
                        "bin_end": 15397.6,
                        "count": 0
                      },
                      {
                        "bin_start": 15397.6,
                        "bin_end": 19247,
                        "count": 0
                      },
                      {
                        "bin_start": 19247,
                        "bin_end": 23096.4,
                        "count": 0
                      },
                      {
                        "bin_start": 23096.4,
                        "bin_end": 26945.8,
                        "count": 0
                      },
                      {
                        "bin_start": 26945.8,
                        "bin_end": 30795.2,
                        "count": 0
                      },
                      {
                        "bin_start": 30795.2,
                        "bin_end": 34644.6,
                        "count": 0
                      },
                      {
                        "bin_start": 34644.6,
                        "bin_end": 38494,
                        "count": 1
                      }
                    ],
                    "categories": null
                  }
                },
                {
                  "name": "African American (%)",
                  "dtype": "float64",
                  "stats": {
                    "unique_count": 133,
                    "nan_count": 0,
                    "min": "0.0",
                    "max": "44.2",
                    "histogram": [
                      {
                        "bin_start": 0,
                        "bin_end": 4.42,
                        "count": 796
                      },
                      {
                        "bin_start": 4.42,
                        "bin_end": 8.84,
                        "count": 86
                      },
                      {
                        "bin_start": 8.84,
                        "bin_end": 13.26,
                        "count": 26
                      },
                      {
                        "bin_start": 13.26,
                        "bin_end": 17.68,
                        "count": 10
                      },
                      {
                        "bin_start": 17.68,
                        "bin_end": 22.1,
                        "count": 7
                      },
                      {
                        "bin_start": 22.1,
                        "bin_end": 26.52,
                        "count": 3
                      },
                      {
                        "bin_start": 26.52,
                        "bin_end": 30.939999999999998,
                        "count": 2
                      },
                      {
                        "bin_start": 30.939999999999998,
                        "bin_end": 35.36,
                        "count": 0
                      },
                      {
                        "bin_start": 35.36,
                        "bin_end": 39.78,
                        "count": 1
                      },
                      {
                        "bin_start": 39.78,
                        "bin_end": 44.2,
                        "count": 1
                      }
                    ],
                    "categories": null
                  }
                },
                {
                  "name": "American Indian",
                  "dtype": "float64",
                  "stats": {
                    "unique_count": 131,
                    "nan_count": 0,
                    "min": "0.0",
                    "max": "756.0",
                    "histogram": [
                      {
                        "bin_start": 0,
                        "bin_end": 75.6,
                        "count": 857
                      },
                      {
                        "bin_start": 75.6,
                        "bin_end": 151.2,
                        "count": 47
                      },
                      {
                        "bin_start": 151.2,
                        "bin_end": 226.79999999999998,
                        "count": 13
                      },
                      {
                        "bin_start": 226.79999999999998,
                        "bin_end": 302.4,
                        "count": 9
                      },
                      {
                        "bin_start": 302.4,
                        "bin_end": 378,
                        "count": 2
                      },
                      {
                        "bin_start": 378,
                        "bin_end": 453.59999999999997,
                        "count": 0
                      },
                      {
                        "bin_start": 453.59999999999997,
                        "bin_end": 529.1999999999999,
                        "count": 2
                      },
                      {
                        "bin_start": 529.1999999999999,
                        "bin_end": 604.8,
                        "count": 0
                      },
                      {
                        "bin_start": 604.8,
                        "bin_end": 680.4,
                        "count": 1
                      },
                      {
                        "bin_start": 680.4,
                        "bin_end": 756,
                        "count": 1
                      }
                    ],
                    "categories": null
                  }
                },
                {
                  "name": "American Indian (%)",
                  "dtype": "float64",
                  "stats": {
                    "unique_count": 107,
                    "nan_count": 0,
                    "min": "0.0",
                    "max": "100.0",
                    "histogram": [
                      {
                        "bin_start": 0,
                        "bin_end": 10,
                        "count": 907
                      },
                      {
                        "bin_start": 10,
                        "bin_end": 20,
                        "count": 10
                      },
                      {
                        "bin_start": 20,
                        "bin_end": 30,
                        "count": 4
                      },
                      {
                        "bin_start": 30,
                        "bin_end": 40,
                        "count": 2
                      },
                      {
                        "bin_start": 40,
                        "bin_end": 50,
                        "count": 3
                      },
                      {
                        "bin_start": 50,
                        "bin_end": 60,
                        "count": 2
                      },
                      {
                        "bin_start": 60,
                        "bin_end": 70,
                        "count": 1
                      },
                      {
                        "bin_start": 70,
                        "bin_end": 80,
                        "count": 1
                      },
                      {
                        "bin_start": 80,
                        "bin_end": 90,
                        "count": 1
                      },
                      {
                        "bin_start": 90,
                        "bin_end": 100,
                        "count": 1
                      }
                    ],
                    "categories": null
                  }
                },
                {
                  "name": "Asian",
                  "dtype": "float64",
                  "stats": {
                    "unique_count": 397,
                    "nan_count": 0,
                    "min": "0.0",
                    "max": "21565.0",
                    "histogram": [
                      {
                        "bin_start": 0,
                        "bin_end": 2156.5,
                        "count": 861
                      },
                      {
                        "bin_start": 2156.5,
                        "bin_end": 4313,
                        "count": 38
                      },
                      {
                        "bin_start": 4313,
                        "bin_end": 6469.5,
                        "count": 14
                      },
                      {
                        "bin_start": 6469.5,
                        "bin_end": 8626,
                        "count": 8
                      },
                      {
                        "bin_start": 8626,
                        "bin_end": 10782.5,
                        "count": 4
                      },
                      {
                        "bin_start": 10782.5,
                        "bin_end": 12939,
                        "count": 1
                      },
                      {
                        "bin_start": 12939,
                        "bin_end": 15095.5,
                        "count": 1
                      },
                      {
                        "bin_start": 15095.5,
                        "bin_end": 17252,
                        "count": 1
                      },
                      {
                        "bin_start": 17252,
                        "bin_end": 19408.5,
                        "count": 3
                      },
                      {
                        "bin_start": 19408.5,
                        "bin_end": 21565,
                        "count": 1
                      }
                    ],
                    "categories": null
                  }
                },
                {
                  "name": "Asian (%)",
                  "dtype": "float64",
                  "stats": {
                    "unique_count": 224,
                    "nan_count": 0,
                    "min": "0.0",
                    "max": "69.4",
                    "histogram": [
                      {
                        "bin_start": 0,
                        "bin_end": 6.94,
                        "count": 729
                      },
                      {
                        "bin_start": 6.94,
                        "bin_end": 13.88,
                        "count": 86
                      },
                      {
                        "bin_start": 13.88,
                        "bin_end": 20.82,
                        "count": 43
                      },
                      {
                        "bin_start": 20.82,
                        "bin_end": 27.76,
                        "count": 21
                      },
                      {
                        "bin_start": 27.76,
                        "bin_end": 34.7,
                        "count": 20
                      },
                      {
                        "bin_start": 34.7,
                        "bin_end": 41.64,
                        "count": 12
                      },
                      {
                        "bin_start": 41.64,
                        "bin_end": 48.580000000000005,
                        "count": 4
                      },
                      {
                        "bin_start": 48.580000000000005,
                        "bin_end": 55.52,
                        "count": 5
                      },
                      {
                        "bin_start": 55.52,
                        "bin_end": 62.46,
                        "count": 6
                      },
                      {
                        "bin_start": 62.46,
                        "bin_end": 69.4,
                        "count": 6
                      }
                    ],
                    "categories": null
                  }
                },
                {
                  "name": "Filipino",
                  "dtype": "float64",
                  "stats": {
                    "unique_count": 283,
                    "nan_count": 0,
                    "min": "0.0",
                    "max": "8891.0",
                    "histogram": [
                      {
                        "bin_start": 0,
                        "bin_end": 889.1,
                        "count": 897
                      },
                      {
                        "bin_start": 889.1,
                        "bin_end": 1778.2,
                        "count": 25
                      },
                      {
                        "bin_start": 1778.2,
                        "bin_end": 2667.3,
                        "count": 6
                      },
                      {
                        "bin_start": 2667.3,
                        "bin_end": 3556.4,
                        "count": 1
                      },
                      {
                        "bin_start": 3556.4,
                        "bin_end": 4445.5,
                        "count": 1
                      },
                      {
                        "bin_start": 4445.5,
                        "bin_end": 5334.6,
                        "count": 1
                      },
                      {
                        "bin_start": 5334.6,
                        "bin_end": 6223.7,
                        "count": 0
                      },
                      {
                        "bin_start": 6223.7,
                        "bin_end": 7112.8,
                        "count": 0
                      },
                      {
                        "bin_start": 7112.8,
                        "bin_end": 8001.900000000001,
                        "count": 0
                      },
                      {
                        "bin_start": 8001.900000000001,
                        "bin_end": 8891,
                        "count": 1
                      }
                    ],
                    "categories": null
                  }
                },
                {
                  "name": "Filipino (%)",
                  "dtype": "float64",
                  "stats": {
                    "unique_count": 89,
                    "nan_count": 0,
                    "min": "0.0",
                    "max": "25.8",
                    "histogram": [
                      {
                        "bin_start": 0,
                        "bin_end": 2.58,
                        "count": 802
                      },
                      {
                        "bin_start": 2.58,
                        "bin_end": 5.16,
                        "count": 79
                      },
                      {
                        "bin_start": 5.16,
                        "bin_end": 7.74,
                        "count": 28
                      },
                      {
                        "bin_start": 7.74,
                        "bin_end": 10.32,
                        "count": 10
                      },
                      {
                        "bin_start": 10.32,
                        "bin_end": 12.9,
                        "count": 7
                      },
                      {
                        "bin_start": 12.9,
                        "bin_end": 15.48,
                        "count": 1
                      },
                      {
                        "bin_start": 15.48,
                        "bin_end": 18.060000000000002,
                        "count": 2
                      },
                      {
                        "bin_start": 18.060000000000002,
                        "bin_end": 20.64,
                        "count": 1
                      },
                      {
                        "bin_start": 20.64,
                        "bin_end": 23.22,
                        "count": 1
                      },
                      {
                        "bin_start": 23.22,
                        "bin_end": 25.8,
                        "count": 1
                      }
                    ],
                    "categories": null
                  }
                },
                {
                  "name": "Hispanic",
                  "dtype": "float64",
                  "stats": {
                    "unique_count": 741,
                    "nan_count": 0,
                    "min": "0.0",
                    "max": "391174.0",
                    "histogram": [
                      {
                        "bin_start": 0,
                        "bin_end": 39117.4,
                        "count": 928
                      },
                      {
                        "bin_start": 39117.4,
                        "bin_end": 78234.8,
                        "count": 3
                      },
                      {
                        "bin_start": 78234.8,
                        "bin_end": 117352.20000000001,
                        "count": 0
                      },
                      {
                        "bin_start": 117352.20000000001,
                        "bin_end": 156469.6,
                        "count": 0
                      },
                      {
                        "bin_start": 156469.6,
                        "bin_end": 195587,
                        "count": 0
                      },
                      {
                        "bin_start": 195587,
                        "bin_end": 234704.40000000002,
                        "count": 0
                      },
                      {
                        "bin_start": 234704.40000000002,
                        "bin_end": 273821.8,
                        "count": 0
                      },
                      {
                        "bin_start": 273821.8,
                        "bin_end": 312939.2,
                        "count": 0
                      },
                      {
                        "bin_start": 312939.2,
                        "bin_end": 352056.60000000003,
                        "count": 0
                      },
                      {
                        "bin_start": 352056.60000000003,
                        "bin_end": 391174,
                        "count": 1
                      }
                    ],
                    "categories": null
                  }
                },
                {
                  "name": "Hispanic (%)",
                  "dtype": "float64",
                  "stats": {
                    "unique_count": 573,
                    "nan_count": 0,
                    "min": "0.0",
                    "max": "100.0",
                    "histogram": [
                      {
                        "bin_start": 0,
                        "bin_end": 10,
                        "count": 47
                      },
                      {
                        "bin_start": 10,
                        "bin_end": 20,
                        "count": 152
                      },
                      {
                        "bin_start": 20,
                        "bin_end": 30,
                        "count": 123
                      },
                      {
                        "bin_start": 30,
                        "bin_end": 40,
                        "count": 97
                      },
                      {
                        "bin_start": 40,
                        "bin_end": 50,
                        "count": 88
                      },
                      {
                        "bin_start": 50,
                        "bin_end": 60,
                        "count": 103
                      },
                      {
                        "bin_start": 60,
                        "bin_end": 70,
                        "count": 81
                      },
                      {
                        "bin_start": 70,
                        "bin_end": 80,
                        "count": 67
                      },
                      {
                        "bin_start": 80,
                        "bin_end": 90,
                        "count": 78
                      },
                      {
                        "bin_start": 90,
                        "bin_end": 100,
                        "count": 96
                      }
                    ],
                    "categories": null
                  }
                },
                {
                  "name": "Pacific Islander",
                  "dtype": "float64",
                  "stats": {
                    "unique_count": 136,
                    "nan_count": 0,
                    "min": "0.0",
                    "max": "1165.0",
                    "histogram": [
                      {
                        "bin_start": 0,
                        "bin_end": 116.5,
                        "count": 887
                      },
                      {
                        "bin_start": 116.5,
                        "bin_end": 233,
                        "count": 30
                      },
                      {
                        "bin_start": 233,
                        "bin_end": 349.5,
                        "count": 7
                      },
                      {
                        "bin_start": 349.5,
                        "bin_end": 466,
                        "count": 2
                      },
                      {
                        "bin_start": 466,
                        "bin_end": 582.5,
                        "count": 1
                      },
                      {
                        "bin_start": 582.5,
                        "bin_end": 699,
                        "count": 2
                      },
                      {
                        "bin_start": 699,
                        "bin_end": 815.5,
                        "count": 0
                      },
                      {
                        "bin_start": 815.5,
                        "bin_end": 932,
                        "count": 2
                      },
                      {
                        "bin_start": 932,
                        "bin_end": 1048.5,
                        "count": 0
                      },
                      {
                        "bin_start": 1048.5,
                        "bin_end": 1165,
                        "count": 1
                      }
                    ],
                    "categories": null
                  }
                },
                {
                  "name": "Pacific Islander (%)",
                  "dtype": "float64",
                  "stats": {
                    "unique_count": 35,
                    "nan_count": 0,
                    "min": "0.0",
                    "max": "6.5",
                    "histogram": [
                      {
                        "bin_start": 0,
                        "bin_end": 0.65,
                        "count": 830
                      },
                      {
                        "bin_start": 0.65,
                        "bin_end": 1.3,
                        "count": 68
                      },
                      {
                        "bin_start": 1.3,
                        "bin_end": 1.9500000000000002,
                        "count": 23
                      },
                      {
                        "bin_start": 1.9500000000000002,
                        "bin_end": 2.6,
                        "count": 3
                      },
                      {
                        "bin_start": 2.6,
                        "bin_end": 3.25,
                        "count": 4
                      },
                      {
                        "bin_start": 3.25,
                        "bin_end": 3.9000000000000004,
                        "count": 0
                      },
                      {
                        "bin_start": 3.9000000000000004,
                        "bin_end": 4.55,
                        "count": 1
                      },
                      {
                        "bin_start": 4.55,
                        "bin_end": 5.2,
                        "count": 2
                      },
                      {
                        "bin_start": 5.2,
                        "bin_end": 5.8500000000000005,
                        "count": 0
                      },
                      {
                        "bin_start": 5.8500000000000005,
                        "bin_end": 6.5,
                        "count": 1
                      }
                    ],
                    "categories": null
                  }
                },
                {
                  "name": "White",
                  "dtype": "float64",
                  "stats": {
                    "unique_count": 682,
                    "nan_count": 0,
                    "min": "0.0",
                    "max": "51734.0",
                    "histogram": [
                      {
                        "bin_start": 0,
                        "bin_end": 5173.4,
                        "count": 886
                      },
                      {
                        "bin_start": 5173.4,
                        "bin_end": 10346.8,
                        "count": 37
                      },
                      {
                        "bin_start": 10346.8,
                        "bin_end": 15520.199999999999,
                        "count": 5
                      },
                      {
                        "bin_start": 15520.199999999999,
                        "bin_end": 20693.6,
                        "count": 0
                      },
                      {
                        "bin_start": 20693.6,
                        "bin_end": 25867,
                        "count": 2
                      },
                      {
                        "bin_start": 25867,
                        "bin_end": 31040.399999999998,
                        "count": 1
                      },
                      {
                        "bin_start": 31040.399999999998,
                        "bin_end": 36213.799999999996,
                        "count": 0
                      },
                      {
                        "bin_start": 36213.799999999996,
                        "bin_end": 41387.2,
                        "count": 0
                      },
                      {
                        "bin_start": 41387.2,
                        "bin_end": 46560.6,
                        "count": 0
                      },
                      {
                        "bin_start": 46560.6,
                        "bin_end": 51734,
                        "count": 1
                      }
                    ],
                    "categories": null
                  }
                },
                {
                  "name": "White (%)",
                  "dtype": "float64",
                  "stats": {
                    "unique_count": 528,
                    "nan_count": 0,
                    "min": "0.0",
                    "max": "100.0",
                    "histogram": [
                      {
                        "bin_start": 0,
                        "bin_end": 10,
                        "count": 225
                      },
                      {
                        "bin_start": 10,
                        "bin_end": 20,
                        "count": 120
                      },
                      {
                        "bin_start": 20,
                        "bin_end": 30,
                        "count": 97
                      },
                      {
                        "bin_start": 30,
                        "bin_end": 40,
                        "count": 110
                      },
                      {
                        "bin_start": 40,
                        "bin_end": 50,
                        "count": 89
                      },
                      {
                        "bin_start": 50,
                        "bin_end": 60,
                        "count": 103
                      },
                      {
                        "bin_start": 60,
                        "bin_end": 70,
                        "count": 92
                      },
                      {
                        "bin_start": 70,
                        "bin_end": 80,
                        "count": 78
                      },
                      {
                        "bin_start": 80,
                        "bin_end": 90,
                        "count": 13
                      },
                      {
                        "bin_start": 90,
                        "bin_end": 100,
                        "count": 5
                      }
                    ],
                    "categories": null
                  }
                },
                {
                  "name": "Two or More Races",
                  "dtype": "float64",
                  "stats": {
                    "unique_count": 413,
                    "nan_count": 0,
                    "min": "0.0",
                    "max": "10409.0",
                    "histogram": [
                      {
                        "bin_start": 0,
                        "bin_end": 1040.9,
                        "count": 880
                      },
                      {
                        "bin_start": 1040.9,
                        "bin_end": 2081.8,
                        "count": 35
                      },
                      {
                        "bin_start": 2081.8,
                        "bin_end": 3122.7000000000003,
                        "count": 7
                      },
                      {
                        "bin_start": 3122.7000000000003,
                        "bin_end": 4163.6,
                        "count": 7
                      },
                      {
                        "bin_start": 4163.6,
                        "bin_end": 5204.5,
                        "count": 0
                      },
                      {
                        "bin_start": 5204.5,
                        "bin_end": 6245.400000000001,
                        "count": 1
                      },
                      {
                        "bin_start": 6245.400000000001,
                        "bin_end": 7286.300000000001,
                        "count": 0
                      },
                      {
                        "bin_start": 7286.300000000001,
                        "bin_end": 8327.2,
                        "count": 0
                      },
                      {
                        "bin_start": 8327.2,
                        "bin_end": 9368.1,
                        "count": 0
                      },
                      {
                        "bin_start": 9368.1,
                        "bin_end": 10409,
                        "count": 2
                      }
                    ],
                    "categories": null
                  }
                },
                {
                  "name": "Two or More Races (%)",
                  "dtype": "float64",
                  "stats": {
                    "unique_count": 163,
                    "nan_count": 0,
                    "min": "0.0",
                    "max": "25.0",
                    "histogram": [
                      {
                        "bin_start": 0,
                        "bin_end": 2.5,
                        "count": 312
                      },
                      {
                        "bin_start": 2.5,
                        "bin_end": 5,
                        "count": 193
                      },
                      {
                        "bin_start": 5,
                        "bin_end": 7.5,
                        "count": 193
                      },
                      {
                        "bin_start": 7.5,
                        "bin_end": 10,
                        "count": 105
                      },
                      {
                        "bin_start": 10,
                        "bin_end": 12.5,
                        "count": 70
                      },
                      {
                        "bin_start": 12.5,
                        "bin_end": 15,
                        "count": 26
                      },
                      {
                        "bin_start": 15,
                        "bin_end": 17.5,
                        "count": 21
                      },
                      {
                        "bin_start": 17.5,
                        "bin_end": 20,
                        "count": 6
                      },
                      {
                        "bin_start": 20,
                        "bin_end": 22.5,
                        "count": 4
                      },
                      {
                        "bin_start": 22.5,
                        "bin_end": 25,
                        "count": 2
                      }
                    ],
                    "categories": null
                  }
                },
                {
                  "name": "Not Reported",
                  "dtype": "float64",
                  "stats": {
                    "unique_count": 204,
                    "nan_count": 0,
                    "min": "0.0",
                    "max": "9698.0",
                    "histogram": [
                      {
                        "bin_start": 0,
                        "bin_end": 969.8,
                        "count": 927
                      },
                      {
                        "bin_start": 969.8,
                        "bin_end": 1939.6,
                        "count": 3
                      },
                      {
                        "bin_start": 1939.6,
                        "bin_end": 2909.3999999999996,
                        "count": 1
                      },
                      {
                        "bin_start": 2909.3999999999996,
                        "bin_end": 3879.2,
                        "count": 0
                      },
                      {
                        "bin_start": 3879.2,
                        "bin_end": 4849,
                        "count": 0
                      },
                      {
                        "bin_start": 4849,
                        "bin_end": 5818.799999999999,
                        "count": 0
                      },
                      {
                        "bin_start": 5818.799999999999,
                        "bin_end": 6788.599999999999,
                        "count": 0
                      },
                      {
                        "bin_start": 6788.599999999999,
                        "bin_end": 7758.4,
                        "count": 0
                      },
                      {
                        "bin_start": 7758.4,
                        "bin_end": 8728.199999999999,
                        "count": 0
                      },
                      {
                        "bin_start": 8728.199999999999,
                        "bin_end": 9698,
                        "count": 1
                      }
                    ],
                    "categories": null
                  }
                },
                {
                  "name": "Not Reported (%)",
                  "dtype": "float64",
                  "stats": {
                    "unique_count": 89,
                    "nan_count": 0,
                    "min": "0.0",
                    "max": "76.3",
                    "histogram": [
                      {
                        "bin_start": 0,
                        "bin_end": 7.63,
                        "count": 913
                      },
                      {
                        "bin_start": 7.63,
                        "bin_end": 15.26,
                        "count": 15
                      },
                      {
                        "bin_start": 15.26,
                        "bin_end": 22.89,
                        "count": 1
                      },
                      {
                        "bin_start": 22.89,
                        "bin_end": 30.52,
                        "count": 1
                      },
                      {
                        "bin_start": 30.52,
                        "bin_end": 38.15,
                        "count": 1
                      },
                      {
                        "bin_start": 38.15,
                        "bin_end": 45.78,
                        "count": 0
                      },
                      {
                        "bin_start": 45.78,
                        "bin_end": 53.41,
                        "count": 0
                      },
                      {
                        "bin_start": 53.41,
                        "bin_end": 61.04,
                        "count": 0
                      },
                      {
                        "bin_start": 61.04,
                        "bin_end": 68.67,
                        "count": 0
                      },
                      {
                        "bin_start": 68.67,
                        "bin_end": 76.3,
                        "count": 1
                      }
                    ],
                    "categories": null
                  }
                },
                {
                  "name": "English Learner",
                  "dtype": "float64",
                  "stats": {
                    "unique_count": 589,
                    "nan_count": 0,
                    "min": "0.0",
                    "max": "106318.0",
                    "histogram": [
                      {
                        "bin_start": 0,
                        "bin_end": 10631.8,
                        "count": 923
                      },
                      {
                        "bin_start": 10631.8,
                        "bin_end": 21263.6,
                        "count": 8
                      },
                      {
                        "bin_start": 21263.6,
                        "bin_end": 31895.399999999998,
                        "count": 0
                      },
                      {
                        "bin_start": 31895.399999999998,
                        "bin_end": 42527.2,
                        "count": 0
                      },
                      {
                        "bin_start": 42527.2,
                        "bin_end": 53159,
                        "count": 0
                      },
                      {
                        "bin_start": 53159,
                        "bin_end": 63790.799999999996,
                        "count": 0
                      },
                      {
                        "bin_start": 63790.799999999996,
                        "bin_end": 74422.59999999999,
                        "count": 0
                      },
                      {
                        "bin_start": 74422.59999999999,
                        "bin_end": 85054.4,
                        "count": 0
                      },
                      {
                        "bin_start": 85054.4,
                        "bin_end": 95686.2,
                        "count": 0
                      },
                      {
                        "bin_start": 95686.2,
                        "bin_end": 106318,
                        "count": 1
                      }
                    ],
                    "categories": null
                  }
                },
                {
                  "name": "English Learner (%)",
                  "dtype": "float64",
                  "stats": {
                    "unique_count": 388,
                    "nan_count": 0,
                    "min": "0.0",
                    "max": "75.0",
                    "histogram": [
                      {
                        "bin_start": 0,
                        "bin_end": 7.5,
                        "count": 309
                      },
                      {
                        "bin_start": 7.5,
                        "bin_end": 15,
                        "count": 208
                      },
                      {
                        "bin_start": 15,
                        "bin_end": 22.5,
                        "count": 153
                      },
                      {
                        "bin_start": 22.5,
                        "bin_end": 30,
                        "count": 107
                      },
                      {
                        "bin_start": 30,
                        "bin_end": 37.5,
                        "count": 55
                      },
                      {
                        "bin_start": 37.5,
                        "bin_end": 45,
                        "count": 39
                      },
                      {
                        "bin_start": 45,
                        "bin_end": 52.5,
                        "count": 26
                      },
                      {
                        "bin_start": 52.5,
                        "bin_end": 60,
                        "count": 26
                      },
                      {
                        "bin_start": 60,
                        "bin_end": 67.5,
                        "count": 6
                      },
                      {
                        "bin_start": 67.5,
                        "bin_end": 75,
                        "count": 3
                      }
                    ],
                    "categories": null
                  }
                },
                {
                  "name": "Foster",
                  "dtype": "float64",
                  "stats": {
                    "unique_count": 145,
                    "nan_count": 0,
                    "min": "0.0",
                    "max": "3227.0",
                    "histogram": [
                      {
                        "bin_start": 0,
                        "bin_end": 322.7,
                        "count": 924
                      },
                      {
                        "bin_start": 322.7,
                        "bin_end": 645.4,
                        "count": 6
                      },
                      {
                        "bin_start": 645.4,
                        "bin_end": 968.0999999999999,
                        "count": 1
                      },
                      {
                        "bin_start": 968.0999999999999,
                        "bin_end": 1290.8,
                        "count": 0
                      },
                      {
                        "bin_start": 1290.8,
                        "bin_end": 1613.5,
                        "count": 0
                      },
                      {
                        "bin_start": 1613.5,
                        "bin_end": 1936.1999999999998,
                        "count": 0
                      },
                      {
                        "bin_start": 1936.1999999999998,
                        "bin_end": 2258.9,
                        "count": 0
                      },
                      {
                        "bin_start": 2258.9,
                        "bin_end": 2581.6,
                        "count": 0
                      },
                      {
                        "bin_start": 2581.6,
                        "bin_end": 2904.2999999999997,
                        "count": 0
                      },
                      {
                        "bin_start": 2904.2999999999997,
                        "bin_end": 3227,
                        "count": 1
                      }
                    ],
                    "categories": null
                  }
                },
                {
                  "name": "Foster (%)",
                  "dtype": "float64",
                  "stats": {
                    "unique_count": 46,
                    "nan_count": 0,
                    "min": "0.0",
                    "max": "30.0",
                    "histogram": [
                      {
                        "bin_start": 0,
                        "bin_end": 3,
                        "count": 917
                      },
                      {
                        "bin_start": 3,
                        "bin_end": 6,
                        "count": 11
                      },
                      {
                        "bin_start": 6,
                        "bin_end": 9,
                        "count": 2
                      },
                      {
                        "bin_start": 9,
                        "bin_end": 12,
                        "count": 0
                      },
                      {
                        "bin_start": 12,
                        "bin_end": 15,
                        "count": 0
                      },
                      {
                        "bin_start": 15,
                        "bin_end": 18,
                        "count": 1
                      },
                      {
                        "bin_start": 18,
                        "bin_end": 21,
                        "count": 0
                      },
                      {
                        "bin_start": 21,
                        "bin_end": 24,
                        "count": 0
                      },
                      {
                        "bin_start": 24,
                        "bin_end": 27,
                        "count": 0
                      },
                      {
                        "bin_start": 27,
                        "bin_end": 30,
                        "count": 1
                      }
                    ],
                    "categories": null
                  }
                },
                {
                  "name": "Homeless",
                  "dtype": "float64",
                  "stats": {
                    "unique_count": 340,
                    "nan_count": 0,
                    "min": "0.0",
                    "max": "11310.0",
                    "histogram": [
                      {
                        "bin_start": 0,
                        "bin_end": 1131,
                        "count": 892
                      },
                      {
                        "bin_start": 1131,
                        "bin_end": 2262,
                        "count": 26
                      },
                      {
                        "bin_start": 2262,
                        "bin_end": 3393,
                        "count": 6
                      },
                      {
                        "bin_start": 3393,
                        "bin_end": 4524,
                        "count": 4
                      },
                      {
                        "bin_start": 4524,
                        "bin_end": 5655,
                        "count": 1
                      },
                      {
                        "bin_start": 5655,
                        "bin_end": 6786,
                        "count": 1
                      },
                      {
                        "bin_start": 6786,
                        "bin_end": 7917,
                        "count": 1
                      },
                      {
                        "bin_start": 7917,
                        "bin_end": 9048,
                        "count": 0
                      },
                      {
                        "bin_start": 9048,
                        "bin_end": 10179,
                        "count": 0
                      },
                      {
                        "bin_start": 10179,
                        "bin_end": 11310,
                        "count": 1
                      }
                    ],
                    "categories": null
                  }
                },
                {
                  "name": "Homeless (%)",
                  "dtype": "float64",
                  "stats": {
                    "unique_count": 161,
                    "nan_count": 0,
                    "min": "0.0",
                    "max": "40.8",
                    "histogram": [
                      {
                        "bin_start": 0,
                        "bin_end": 4.08,
                        "count": 649
                      },
                      {
                        "bin_start": 4.08,
                        "bin_end": 8.16,
                        "count": 171
                      },
                      {
                        "bin_start": 8.16,
                        "bin_end": 12.24,
                        "count": 62
                      },
                      {
                        "bin_start": 12.24,
                        "bin_end": 16.32,
                        "count": 17
                      },
                      {
                        "bin_start": 16.32,
                        "bin_end": 20.4,
                        "count": 10
                      },
                      {
                        "bin_start": 20.4,
                        "bin_end": 24.48,
                        "count": 13
                      },
                      {
                        "bin_start": 24.48,
                        "bin_end": 28.560000000000002,
                        "count": 6
                      },
                      {
                        "bin_start": 28.560000000000002,
                        "bin_end": 32.64,
                        "count": 1
                      },
                      {
                        "bin_start": 32.64,
                        "bin_end": 36.72,
                        "count": 0
                      },
                      {
                        "bin_start": 36.72,
                        "bin_end": 40.8,
                        "count": 3
                      }
                    ],
                    "categories": null
                  }
                },
                {
                  "name": "Migrant",
                  "dtype": "float64",
                  "stats": {
                    "unique_count": 184,
                    "nan_count": 0,
                    "min": "0.0",
                    "max": "1493.0",
                    "histogram": [
                      {
                        "bin_start": 0,
                        "bin_end": 149.3,
                        "count": 847
                      },
                      {
                        "bin_start": 149.3,
                        "bin_end": 298.6,
                        "count": 44
                      },
                      {
                        "bin_start": 298.6,
                        "bin_end": 447.90000000000003,
                        "count": 21
                      },
                      {
                        "bin_start": 447.90000000000003,
                        "bin_end": 597.2,
                        "count": 4
                      },
                      {
                        "bin_start": 597.2,
                        "bin_end": 746.5,
                        "count": 6
                      },
                      {
                        "bin_start": 746.5,
                        "bin_end": 895.8000000000001,
                        "count": 0
                      },
                      {
                        "bin_start": 895.8000000000001,
                        "bin_end": 1045.1000000000001,
                        "count": 4
                      },
                      {
                        "bin_start": 1045.1000000000001,
                        "bin_end": 1194.4,
                        "count": 2
                      },
                      {
                        "bin_start": 1194.4,
                        "bin_end": 1343.7,
                        "count": 2
                      },
                      {
                        "bin_start": 1343.7,
                        "bin_end": 1493,
                        "count": 2
                      }
                    ],
                    "categories": null
                  }
                },
                {
                  "name": "Migrant (%)",
                  "dtype": "float64",
                  "stats": {
                    "unique_count": 112,
                    "nan_count": 0,
                    "min": "0.0",
                    "max": "49.4",
                    "histogram": [
                      {
                        "bin_start": 0,
                        "bin_end": 4.9399999999999995,
                        "count": 847
                      },
                      {
                        "bin_start": 4.9399999999999995,
                        "bin_end": 9.879999999999999,
                        "count": 46
                      },
                      {
                        "bin_start": 9.879999999999999,
                        "bin_end": 14.819999999999999,
                        "count": 26
                      },
                      {
                        "bin_start": 14.819999999999999,
                        "bin_end": 19.759999999999998,
                        "count": 5
                      },
                      {
                        "bin_start": 19.759999999999998,
                        "bin_end": 24.699999999999996,
                        "count": 4
                      },
                      {
                        "bin_start": 24.699999999999996,
                        "bin_end": 29.639999999999997,
                        "count": 3
                      },
                      {
                        "bin_start": 29.639999999999997,
                        "bin_end": 34.58,
                        "count": 0
                      },
                      {
                        "bin_start": 34.58,
                        "bin_end": 39.519999999999996,
                        "count": 0
                      },
                      {
                        "bin_start": 39.519999999999996,
                        "bin_end": 44.459999999999994,
                        "count": 0
                      },
                      {
                        "bin_start": 44.459999999999994,
                        "bin_end": 49.4,
                        "count": 1
                      }
                    ],
                    "categories": null
                  }
                },
                {
                  "name": "Students with Disabilities",
                  "dtype": "float64",
                  "stats": {
                    "unique_count": 598,
                    "nan_count": 0,
                    "min": "0.0",
                    "max": "78491.0",
                    "histogram": [
                      {
                        "bin_start": 0,
                        "bin_end": 7849.1,
                        "count": 927
                      },
                      {
                        "bin_start": 7849.1,
                        "bin_end": 15698.2,
                        "count": 3
                      },
                      {
                        "bin_start": 15698.2,
                        "bin_end": 23547.300000000003,
                        "count": 1
                      },
                      {
                        "bin_start": 23547.300000000003,
                        "bin_end": 31396.4,
                        "count": 0
                      },
                      {
                        "bin_start": 31396.4,
                        "bin_end": 39245.5,
                        "count": 0
                      },
                      {
                        "bin_start": 39245.5,
                        "bin_end": 47094.600000000006,
                        "count": 0
                      },
                      {
                        "bin_start": 47094.600000000006,
                        "bin_end": 54943.700000000004,
                        "count": 0
                      },
                      {
                        "bin_start": 54943.700000000004,
                        "bin_end": 62792.8,
                        "count": 0
                      },
                      {
                        "bin_start": 62792.8,
                        "bin_end": 70641.90000000001,
                        "count": 0
                      },
                      {
                        "bin_start": 70641.90000000001,
                        "bin_end": 78491,
                        "count": 1
                      }
                    ],
                    "categories": null
                  }
                },
                {
                  "name": "Students with Disabilities (%)",
                  "dtype": "float64",
                  "stats": {
                    "unique_count": 180,
                    "nan_count": 0,
                    "min": "0.0",
                    "max": "66.7",
                    "histogram": [
                      {
                        "bin_start": 0,
                        "bin_end": 6.67,
                        "count": 43
                      },
                      {
                        "bin_start": 6.67,
                        "bin_end": 13.34,
                        "count": 463
                      },
                      {
                        "bin_start": 13.34,
                        "bin_end": 20.009999999999998,
                        "count": 398
                      },
                      {
                        "bin_start": 20.009999999999998,
                        "bin_end": 26.68,
                        "count": 18
                      },
                      {
                        "bin_start": 26.68,
                        "bin_end": 33.35,
                        "count": 7
                      },
                      {
                        "bin_start": 33.35,
                        "bin_end": 40.019999999999996,
                        "count": 1
                      },
                      {
                        "bin_start": 40.019999999999996,
                        "bin_end": 46.69,
                        "count": 1
                      },
                      {
                        "bin_start": 46.69,
                        "bin_end": 53.36,
                        "count": 0
                      },
                      {
                        "bin_start": 53.36,
                        "bin_end": 60.03,
                        "count": 0
                      },
                      {
                        "bin_start": 60.03,
                        "bin_end": 66.7,
                        "count": 1
                      }
                    ],
                    "categories": null
                  }
                },
                {
                  "name": "Socioeconomically Disadvantaged",
                  "dtype": "float64",
                  "stats": {
                    "unique_count": 783,
                    "nan_count": 0,
                    "min": "1.0",
                    "max": "430741.0",
                    "histogram": [
                      {
                        "bin_start": 1,
                        "bin_end": 43075,
                        "count": 928
                      },
                      {
                        "bin_start": 43075,
                        "bin_end": 86149,
                        "count": 3
                      },
                      {
                        "bin_start": 86149,
                        "bin_end": 129223,
                        "count": 0
                      },
                      {
                        "bin_start": 129223,
                        "bin_end": 172297,
                        "count": 0
                      },
                      {
                        "bin_start": 172297,
                        "bin_end": 215371,
                        "count": 0
                      },
                      {
                        "bin_start": 215371,
                        "bin_end": 258445,
                        "count": 0
                      },
                      {
                        "bin_start": 258445,
                        "bin_end": 301519,
                        "count": 0
                      },
                      {
                        "bin_start": 301519,
                        "bin_end": 344593,
                        "count": 0
                      },
                      {
                        "bin_start": 344593,
                        "bin_end": 387667,
                        "count": 0
                      },
                      {
                        "bin_start": 387667,
                        "bin_end": 430741,
                        "count": 1
                      }
                    ],
                    "categories": null
                  }
                },
                {
                  "name": "Socioeconomically Disadvantaged (%)",
                  "dtype": "float64",
                  "stats": {
                    "unique_count": 558,
                    "nan_count": 0,
                    "min": "0.8",
                    "max": "100.0",
                    "histogram": [
                      {
                        "bin_start": 0.8,
                        "bin_end": 10.72,
                        "count": 35
                      },
                      {
                        "bin_start": 10.72,
                        "bin_end": 20.64,
                        "count": 44
                      },
                      {
                        "bin_start": 20.64,
                        "bin_end": 30.56,
                        "count": 56
                      },
                      {
                        "bin_start": 30.56,
                        "bin_end": 40.48,
                        "count": 91
                      },
                      {
                        "bin_start": 40.48,
                        "bin_end": 50.4,
                        "count": 104
                      },
                      {
                        "bin_start": 50.4,
                        "bin_end": 60.31999999999999,
                        "count": 118
                      },
                      {
                        "bin_start": 60.31999999999999,
                        "bin_end": 70.24,
                        "count": 142
                      },
                      {
                        "bin_start": 70.24,
                        "bin_end": 80.16,
                        "count": 133
                      },
                      {
                        "bin_start": 80.16,
                        "bin_end": 90.08,
                        "count": 138
                      },
                      {
                        "bin_start": 90.08,
                        "bin_end": 100,
                        "count": 71
                      }
                    ],
                    "categories": null
                  }
                },
                {
                  "name": "District Label",
                  "dtype": "object",
                  "stats": {
                    "unique_count": 932,
                    "nan_count": 0,
                    "min": null,
                    "max": null,
                    "histogram": null,
                    "categories": [
                      {
                        "name": "Alameda Unified (Alameda)",
                        "count": 1
                      },
                      {
                        "name": "Albany City Unified (Alameda)",
                        "count": 1
                      },
                      {
                        "name": "930 others",
                        "count": 930
                      }
                    ]
                  }
                },
                {
                  "name": "District Name",
                  "dtype": "object",
                  "stats": {
                    "unique_count": 918,
                    "nan_count": 0,
                    "min": null,
                    "max": null,
                    "histogram": null,
                    "categories": [
                      {
                        "name": "Pioneer Union Elementary",
                        "count": 3
                      },
                      {
                        "name": "Lakeside Union Elementary",
                        "count": 3
                      },
                      {
                        "name": "916 others",
                        "count": 926
                      }
                    ]
                  }
                },
                {
                  "name": "EDP 365",
                  "dtype": "float64",
                  "stats": {
                    "unique_count": 932,
                    "nan_count": 0,
                    "min": "258083.03",
                    "max": "10313151939.89",
                    "histogram": [
                      {
                        "bin_start": 258083.03,
                        "bin_end": 1031547468.7159998,
                        "count": 926
                      },
                      {
                        "bin_start": 1031547468.7159998,
                        "bin_end": 2062836854.4019997,
                        "count": 5
                      },
                      {
                        "bin_start": 2062836854.4019997,
                        "bin_end": 3094126240.088,
                        "count": 0
                      },
                      {
                        "bin_start": 3094126240.088,
                        "bin_end": 4125415625.7739997,
                        "count": 0
                      },
                      {
                        "bin_start": 4125415625.7739997,
                        "bin_end": 5156705011.459999,
                        "count": 0
                      },
                      {
                        "bin_start": 5156705011.459999,
                        "bin_end": 6187994397.145999,
                        "count": 0
                      },
                      {
                        "bin_start": 6187994397.145999,
                        "bin_end": 7219283782.831999,
                        "count": 0
                      },
                      {
                        "bin_start": 7219283782.831999,
                        "bin_end": 8250573168.517999,
                        "count": 0
                      },
                      {
                        "bin_start": 8250573168.517999,
                        "bin_end": 9281862554.204,
                        "count": 0
                      },
                      {
                        "bin_start": 9281862554.204,
                        "bin_end": 10313151939.89,
                        "count": 1
                      }
                    ],
                    "categories": null
                  }
                },
                {
                  "name": "Expense ADA",
                  "dtype": "float64",
                  "stats": {
                    "unique_count": 932,
                    "nan_count": 0,
                    "min": "2.83",
                    "max": "380925.11",
                    "histogram": [
                      {
                        "bin_start": 2.83,
                        "bin_end": 38095.058,
                        "count": 921
                      },
                      {
                        "bin_start": 38095.058,
                        "bin_end": 76187.286,
                        "count": 9
                      },
                      {
                        "bin_start": 76187.286,
                        "bin_end": 114279.51399999998,
                        "count": 1
                      },
                      {
                        "bin_start": 114279.51399999998,
                        "bin_end": 152371.74199999997,
                        "count": 0
                      },
                      {
                        "bin_start": 152371.74199999997,
                        "bin_end": 190463.96999999997,
                        "count": 0
                      },
                      {
                        "bin_start": 190463.96999999997,
                        "bin_end": 228556.19799999995,
                        "count": 0
                      },
                      {
                        "bin_start": 228556.19799999995,
                        "bin_end": 266648.426,
                        "count": 0
                      },
                      {
                        "bin_start": 266648.426,
                        "bin_end": 304740.654,
                        "count": 0
                      },
                      {
                        "bin_start": 304740.654,
                        "bin_end": 342832.882,
                        "count": 0
                      },
                      {
                        "bin_start": 342832.882,
                        "bin_end": 380925.11,
                        "count": 1
                      }
                    ],
                    "categories": null
                  }
                },
                {
                  "name": "Expense per ADA",
                  "dtype": "float64",
                  "stats": {
                    "unique_count": 931,
                    "nan_count": 0,
                    "min": "9951.74",
                    "max": "139026.73",
                    "histogram": [
                      {
                        "bin_start": 9951.74,
                        "bin_end": 22859.239,
                        "count": 691
                      },
                      {
                        "bin_start": 22859.239,
                        "bin_end": 35766.738,
                        "count": 191
                      },
                      {
                        "bin_start": 35766.738,
                        "bin_end": 48674.237,
                        "count": 28
                      },
                      {
                        "bin_start": 48674.237,
                        "bin_end": 61581.736,
                        "count": 8
                      },
                      {
                        "bin_start": 61581.736,
                        "bin_end": 74489.235,
                        "count": 2
                      },
                      {
                        "bin_start": 74489.235,
                        "bin_end": 87396.73400000001,
                        "count": 4
                      },
                      {
                        "bin_start": 87396.73400000001,
                        "bin_end": 100304.23300000001,
                        "count": 3
                      },
                      {
                        "bin_start": 100304.23300000001,
                        "bin_end": 113211.732,
                        "count": 3
                      },
                      {
                        "bin_start": 113211.732,
                        "bin_end": 126119.231,
                        "count": 1
                      },
                      {
                        "bin_start": 126119.231,
                        "bin_end": 139026.73,
                        "count": 1
                      }
                    ],
                    "categories": null
                  }
                },
                {
                  "name": "LEA Type",
                  "dtype": "object",
                  "stats": {
                    "unique_count": 4,
                    "nan_count": 0,
                    "min": null,
                    "max": null,
                    "histogram": null,
                    "categories": [
                      {
                        "name": "Elementary",
                        "count": 511
                      },
                      {
                        "name": "Unified",
                        "count": 345
                      },
                      {
                        "name": "2 others",
                        "count": 76
                      }
                    ]
                  }
                },
                {
                  "name": "Decimal Difference",
                  "dtype": "float64",
                  "stats": {
                    "unique_count": 931,
                    "nan_count": 0,
                    "min": "0.0015022533800701",
                    "max": "85.56417112299465",
                    "histogram": [
                      {
                        "bin_start": 0.0015022533800701,
                        "bin_end": 8.557769140341527,
                        "count": 914
                      },
                      {
                        "bin_start": 8.557769140341527,
                        "bin_end": 17.114036027302987,
                        "count": 11
                      },
                      {
                        "bin_start": 17.114036027302987,
                        "bin_end": 25.670302914264443,
                        "count": 1
                      },
                      {
                        "bin_start": 25.670302914264443,
                        "bin_end": 34.2265698012259,
                        "count": 1
                      },
                      {
                        "bin_start": 34.2265698012259,
                        "bin_end": 42.78283668818736,
                        "count": 1
                      },
                      {
                        "bin_start": 42.78283668818736,
                        "bin_end": 51.33910357514881,
                        "count": 2
                      },
                      {
                        "bin_start": 51.33910357514881,
                        "bin_end": 59.89537046211027,
                        "count": 0
                      },
                      {
                        "bin_start": 59.89537046211027,
                        "bin_end": 68.45163734907173,
                        "count": 0
                      },
                      {
                        "bin_start": 68.45163734907173,
                        "bin_end": 77.00790423603318,
                        "count": 1
                      },
                      {
                        "bin_start": 77.00790423603318,
                        "bin_end": 85.56417112299465,
                        "count": 1
                      }
                    ],
                    "categories": null
                  }
                },
                {
                  "name": "_deepnote_index_column",
                  "dtype": "int64"
                }
              ],
              "row_count": 932,
              "preview_row_count": 932,
              "rows": [
                {
                  "Fed ID": 601770,
                  "District Code": 61119,
                  "CDS Code": 1611190000000,
                  "County Name": "Alameda",
                  "District Type": "Unified",
                  "Grade Low": "KG",
                  "Grade High": 12,
                  "Grade Low Census": "KG",
                  "Grade High Census": 12,
                  "Assistance Status": "General Assistance",
                  "Locale": "Suburban",
                  "Enroll Total": 10557,
                  "Enroll Charter": 1496,
                  "Enroll Non Charter": 9061,
                  "African American": 748,
                  "African American (%)": 7.1,
                  "American Indian": 25,
                  "American Indian (%)": 0.2,
                  "Asian": 2610,
                  "Asian (%)": 24.7,
                  "Filipino": 484,
                  "Filipino (%)": 4.6,
                  "Hispanic": 1878,
                  "Hispanic (%)": 17.8,
                  "Pacific Islander": 52,
                  "Pacific Islander (%)": 0.5,
                  "White": 2844,
                  "White (%)": 26.9,
                  "Two or More Races": 1596,
                  "Two or More Races (%)": 15.1,
                  "Not Reported": 320,
                  "Not Reported (%)": 3,
                  "English Learner": 906,
                  "English Learner (%)": 8.6,
                  "Foster": 27,
                  "Foster (%)": 0.3,
                  "Homeless": 91,
                  "Homeless (%)": 0.9,
                  "Migrant": 0,
                  "Migrant (%)": 0,
                  "Students with Disabilities": 1286,
                  "Students with Disabilities (%)": 12.2,
                  "Socioeconomically Disadvantaged": 4035,
                  "Socioeconomically Disadvantaged (%)": 38.2,
                  "District Label": "Alameda Unified (Alameda)",
                  "District Name": "Alameda Unified",
                  "EDP 365": 155094777.67,
                  "Expense ADA": 8567.86,
                  "Expense per ADA": 18101.93,
                  "LEA Type": "Unified",
                  "Decimal Difference": 0.2321629905250551,
                  "_deepnote_index_column": 0
                },
                {
                  "Fed ID": 601860,
                  "District Code": 61127,
                  "CDS Code": 1611270000000,
                  "County Name": "Alameda",
                  "District Type": "Unified",
                  "Grade Low": "KG",
                  "Grade High": 12,
                  "Grade Low Census": "KG",
                  "Grade High Census": 12,
                  "Assistance Status": "General Assistance",
                  "Locale": "Suburban",
                  "Enroll Total": 3574,
                  "Enroll Charter": 0,
                  "Enroll Non Charter": 3574,
                  "African American": 152,
                  "African American (%)": 4.3,
                  "American Indian": 10,
                  "American Indian (%)": 0.3,
                  "Asian": 1130,
                  "Asian (%)": 31.6,
                  "Filipino": 51,
                  "Filipino (%)": 1.4,
                  "Hispanic": 616,
                  "Hispanic (%)": 17.2,
                  "Pacific Islander": 4,
                  "Pacific Islander (%)": 0.1,
                  "White": 923,
                  "White (%)": 25.8,
                  "Two or More Races": 483,
                  "Two or More Races (%)": 13.5,
                  "Not Reported": 205,
                  "Not Reported (%)": 5.7,
                  "English Learner": 456,
                  "English Learner (%)": 12.8,
                  "Foster": 1,
                  "Foster (%)": 0,
                  "Homeless": 24,
                  "Homeless (%)": 0.7,
                  "Migrant": 0,
                  "Migrant (%)": 0,
                  "Students with Disabilities": 320,
                  "Students with Disabilities (%)": 9,
                  "Socioeconomically Disadvantaged": 1122,
                  "Socioeconomically Disadvantaged (%)": 31.4,
                  "District Label": "Albany City Unified (Alameda)",
                  "District Name": "Albany City Unified",
                  "EDP 365": 61490895.29,
                  "Expense ADA": 3435.41,
                  "Expense per ADA": 17899.14,
                  "LEA Type": "Unified",
                  "Decimal Difference": 0.0403416186132077,
                  "_deepnote_index_column": 1
                },
                {
                  "Fed ID": 604740,
                  "District Code": 61143,
                  "CDS Code": 1611430000000,
                  "County Name": "Alameda",
                  "District Type": "Unified",
                  "Grade Low": "KG",
                  "Grade High": 12,
                  "Grade Low Census": "KG",
                  "Grade High Census": 12,
                  "Assistance Status": "General Assistance",
                  "Locale": "City",
                  "Enroll Total": 9077,
                  "Enroll Charter": 0,
                  "Enroll Non Charter": 9077,
                  "African American": 1052,
                  "African American (%)": 11.6,
                  "American Indian": 21,
                  "American Indian (%)": 0.2,
                  "Asian": 736,
                  "Asian (%)": 8.1,
                  "Filipino": 73,
                  "Filipino (%)": 0.8,
                  "Hispanic": 2045,
                  "Hispanic (%)": 22.5,
                  "Pacific Islander": 16,
                  "Pacific Islander (%)": 0.2,
                  "White": 3733,
                  "White (%)": 41.1,
                  "Two or More Races": 1392,
                  "Two or More Races (%)": 15.3,
                  "Not Reported": 9,
                  "Not Reported (%)": 0.1,
                  "English Learner": 594,
                  "English Learner (%)": 6.5,
                  "Foster": 32,
                  "Foster (%)": 0.4,
                  "Homeless": 150,
                  "Homeless (%)": 1.7,
                  "Migrant": 0,
                  "Migrant (%)": 0,
                  "Students with Disabilities": 1092,
                  "Students with Disabilities (%)": 12,
                  "Socioeconomically Disadvantaged": 2508,
                  "Socioeconomically Disadvantaged (%)": 27.6,
                  "District Label": "Berkeley Unified (Alameda)",
                  "District Name": "Berkeley Unified",
                  "EDP 365": 220550807.98,
                  "Expense ADA": 8572.17,
                  "Expense per ADA": 25728.7,
                  "LEA Type": "Unified",
                  "Decimal Difference": 0.0588917391978927,
                  "_deepnote_index_column": 2
                },
                {
                  "Fed ID": 607800,
                  "District Code": 61150,
                  "CDS Code": 1611500000000,
                  "County Name": "Alameda",
                  "District Type": "Unified",
                  "Grade Low": "KG",
                  "Grade High": 12,
                  "Grade Low Census": "KG",
                  "Grade High Census": 12,
                  "Assistance Status": "General Assistance",
                  "Locale": "Suburban",
                  "Enroll Total": 9489,
                  "Enroll Charter": 0,
                  "Enroll Non Charter": 9489,
                  "African American": 406,
                  "African American (%)": 4.3,
                  "American Indian": 7,
                  "American Indian (%)": 0.1,
                  "Asian": 3119,
                  "Asian (%)": 32.9,
                  "Filipino": 423,
                  "Filipino (%)": 4.5,
                  "Hispanic": 2331,
                  "Hispanic (%)": 24.6,
                  "Pacific Islander": 40,
                  "Pacific Islander (%)": 0.4,
                  "White": 1862,
                  "White (%)": 19.6,
                  "Two or More Races": 974,
                  "Two or More Races (%)": 10.3,
                  "Not Reported": 327,
                  "Not Reported (%)": 3.4,
                  "English Learner": 1266,
                  "English Learner (%)": 13.3,
                  "Foster": 5,
                  "Foster (%)": 0.1,
                  "Homeless": 135,
                  "Homeless (%)": 1.4,
                  "Migrant": 0,
                  "Migrant (%)": 0,
                  "Students with Disabilities": 1048,
                  "Students with Disabilities (%)": 11,
                  "Socioeconomically Disadvantaged": 3686,
                  "Socioeconomically Disadvantaged (%)": 38.8,
                  "District Label": "Castro Valley Unified (Alameda)",
                  "District Name": "Castro Valley Unified",
                  "EDP 365": 142491340.82,
                  "Expense ADA": 8991.52,
                  "Expense per ADA": 15847.3,
                  "LEA Type": "Unified",
                  "Decimal Difference": 0.0553276865313094,
                  "_deepnote_index_column": 3
                },
                {
                  "Fed ID": 612630,
                  "District Code": 61168,
                  "CDS Code": 1611680000000,
                  "County Name": "Alameda",
                  "District Type": "Unified",
                  "Grade Low": "KG",
                  "Grade High": 12,
                  "Grade Low Census": "KG",
                  "Grade High Census": 12,
                  "Assistance Status": "General Assistance",
                  "Locale": "Suburban",
                  "Enroll Total": 600,
                  "Enroll Charter": 0,
                  "Enroll Non Charter": 600,
                  "African American": 265,
                  "African American (%)": 44.2,
                  "American Indian": 0,
                  "American Indian (%)": 0,
                  "Asian": 56,
                  "Asian (%)": 9.3,
                  "Filipino": 5,
                  "Filipino (%)": 0.8,
                  "Hispanic": 126,
                  "Hispanic (%)": 21,
                  "Pacific Islander": 4,
                  "Pacific Islander (%)": 0.7,
                  "White": 76,
                  "White (%)": 12.7,
                  "Two or More Races": 56,
                  "Two or More Races (%)": 9.3,
                  "Not Reported": 12,
                  "Not Reported (%)": 2,
                  "English Learner": 98,
                  "English Learner (%)": 16.3,
                  "Foster": 1,
                  "Foster (%)": 0.2,
                  "Homeless": 13,
                  "Homeless (%)": 2.2,
                  "Migrant": 0,
                  "Migrant (%)": 0,
                  "Students with Disabilities": 75,
                  "Students with Disabilities (%)": 12.5,
                  "Socioeconomically Disadvantaged": 327,
                  "Socioeconomically Disadvantaged (%)": 54.5,
                  "District Label": "Emery Unified (Alameda)",
                  "District Name": "Emery Unified",
                  "EDP 365": 15862999.59,
                  "Expense ADA": 554.7,
                  "Expense per ADA": 28597.44,
                  "LEA Type": "Unified",
                  "Decimal Difference": 0.0816657652785288,
                  "_deepnote_index_column": 4
                },
                {
                  "Fed ID": 614400,
                  "District Code": 61176,
                  "CDS Code": 1611760000000,
                  "County Name": "Alameda",
                  "District Type": "Unified",
                  "Grade Low": "KG",
                  "Grade High": 12,
                  "Grade Low Census": "KG",
                  "Grade High Census": 12,
                  "Assistance Status": "Differentiated Assistance",
                  "Locale": "Suburban",
                  "Enroll Total": 33063,
                  "Enroll Charter": 402,
                  "Enroll Non Charter": 32661,
                  "African American": 588,
                  "African American (%)": 1.8,
                  "American Indian": 120,
                  "American Indian (%)": 0.4,
                  "Asian": 21565,
                  "Asian (%)": 65.2,
                  "Filipino": 1373,
                  "Filipino (%)": 4.2,
                  "Hispanic": 5327,
                  "Hispanic (%)": 16.1,
                  "Pacific Islander": 163,
                  "Pacific Islander (%)": 0.5,
                  "White": 2426,
                  "White (%)": 7.3,
                  "Two or More Races": 1150,
                  "Two or More Races (%)": 3.5,
                  "Not Reported": 351,
                  "Not Reported (%)": 1.1,
                  "English Learner": 5508,
                  "English Learner (%)": 16.7,
                  "Foster": 21,
                  "Foster (%)": 0.1,
                  "Homeless": 226,
                  "Homeless (%)": 0.7,
                  "Migrant": 46,
                  "Migrant (%)": 0.1,
                  "Students with Disabilities": 3323,
                  "Students with Disabilities (%)": 10.1,
                  "Socioeconomically Disadvantaged": 8297,
                  "Socioeconomically Disadvantaged (%)": 25.1,
                  "District Label": "Fremont Unified (Alameda)",
                  "District Name": "Fremont Unified",
                  "EDP 365": 505535565.8,
                  "Expense ADA": 31115.38,
                  "Expense per ADA": 16247.13,
                  "LEA Type": "Unified",
                  "Decimal Difference": 0.0625934827085511,
                  "_deepnote_index_column": 5
                },
                {
                  "Fed ID": 616740,
                  "District Code": 61192,
                  "CDS Code": 1611920000000,
                  "County Name": "Alameda",
                  "District Type": "Unified",
                  "Grade Low": "KG",
                  "Grade High": 12,
                  "Grade Low Census": "KG",
                  "Grade High Census": 12,
                  "Assistance Status": "Differentiated Assistance",
                  "Locale": "Suburban",
                  "Enroll Total": 20193,
                  "Enroll Charter": 2562,
                  "Enroll Non Charter": 17631,
                  "African American": 1388,
                  "African American (%)": 6.9,
                  "American Indian": 46,
                  "American Indian (%)": 0.2,
                  "Asian": 1700,
                  "Asian (%)": 8.4,
                  "Filipino": 1303,
                  "Filipino (%)": 6.5,
                  "Hispanic": 13289,
                  "Hispanic (%)": 65.8,
                  "Pacific Islander": 632,
                  "Pacific Islander (%)": 3.1,
                  "White": 802,
                  "White (%)": 4,
                  "Two or More Races": 848,
                  "Two or More Races (%)": 4.2,
                  "Not Reported": 185,
                  "Not Reported (%)": 0.9,
                  "English Learner": 5864,
                  "English Learner (%)": 29,
                  "Foster": 44,
                  "Foster (%)": 0.2,
                  "Homeless": 564,
                  "Homeless (%)": 2.8,
                  "Migrant": 302,
                  "Migrant (%)": 1.5,
                  "Students with Disabilities": 2698,
                  "Students with Disabilities (%)": 13.4,
                  "Socioeconomically Disadvantaged": 15843,
                  "Socioeconomically Disadvantaged (%)": 78.5,
                  "District Label": "Hayward Unified (Alameda)",
                  "District Name": "Hayward Unified",
                  "EDP 365": 374152152.44,
                  "Expense ADA": 16160.23,
                  "Expense per ADA": 23152.65,
                  "LEA Type": "Unified",
                  "Decimal Difference": 0.2495490472598472,
                  "_deepnote_index_column": 6
                },
                {
                  "Fed ID": 622110,
                  "District Code": 61200,
                  "CDS Code": 1612000000000,
                  "County Name": "Alameda",
                  "District Type": "Unified",
                  "Grade Low": "KG",
                  "Grade High": 12,
                  "Grade Low Census": "KG",
                  "Grade High Census": 12,
                  "Assistance Status": "Differentiated Assistance",
                  "Locale": "City",
                  "Enroll Total": 13050,
                  "Enroll Charter": 0,
                  "Enroll Non Charter": 13050,
                  "African American": 190,
                  "African American (%)": 1.5,
                  "American Indian": 30,
                  "American Indian (%)": 0.2,
                  "Asian": 1892,
                  "Asian (%)": 14.5,
                  "Filipino": 353,
                  "Filipino (%)": 2.7,
                  "Hispanic": 4182,
                  "Hispanic (%)": 32,
                  "Pacific Islander": 28,
                  "Pacific Islander (%)": 0.2,
                  "White": 5223,
                  "White (%)": 40,
                  "Two or More Races": 1152,
                  "Two or More Races (%)": 8.8,
                  "Not Reported": 0,
                  "Not Reported (%)": 0,
                  "English Learner": 1245,
                  "English Learner (%)": 9.5,
                  "Foster": 23,
                  "Foster (%)": 0.2,
                  "Homeless": 162,
                  "Homeless (%)": 1.2,
                  "Migrant": 94,
                  "Migrant (%)": 0.7,
                  "Students with Disabilities": 1978,
                  "Students with Disabilities (%)": 15.2,
                  "Socioeconomically Disadvantaged": 3298,
                  "Socioeconomically Disadvantaged (%)": 25.3,
                  "District Label": "Livermore Valley Joint Unified (Alameda)",
                  "District Name": "Livermore Valley Joint Unified",
                  "EDP 365": 204396068.83,
                  "Expense ADA": 12262.92,
                  "Expense per ADA": 16667.81,
                  "LEA Type": "Unified",
                  "Decimal Difference": 0.0641837343797399,
                  "_deepnote_index_column": 7
                },
                {
                  "Fed ID": 626130,
                  "District Code": 61218,
                  "CDS Code": 1612180000000,
                  "County Name": "Alameda",
                  "District Type": "Elementary",
                  "Grade Low": "KG",
                  "Grade High": 8,
                  "Grade Low Census": "KG",
                  "Grade High Census": 8,
                  "Assistance Status": "General Assistance",
                  "Locale": "Rural",
                  "Enroll Total": 12,
                  "Enroll Charter": 0,
                  "Enroll Non Charter": 12,
                  "African American": 0,
                  "African American (%)": 0,
                  "American Indian": 0,
                  "American Indian (%)": 0,
                  "Asian": 0,
                  "Asian (%)": 0,
                  "Filipino": 0,
                  "Filipino (%)": 0,
                  "Hispanic": 10,
                  "Hispanic (%)": 83.3,
                  "Pacific Islander": 0,
                  "Pacific Islander (%)": 0,
                  "White": 2,
                  "White (%)": 16.7,
                  "Two or More Races": 0,
                  "Two or More Races (%)": 0,
                  "Not Reported": 0,
                  "Not Reported (%)": 0,
                  "English Learner": 6,
                  "English Learner (%)": 50,
                  "Foster": 0,
                  "Foster (%)": 0,
                  "Homeless": 0,
                  "Homeless (%)": 0,
                  "Migrant": 0,
                  "Migrant (%)": 0,
                  "Students with Disabilities": 1,
                  "Students with Disabilities (%)": 8.3,
                  "Socioeconomically Disadvantaged": 8,
                  "Socioeconomically Disadvantaged (%)": 66.7,
                  "District Label": "Mountain House Elementary (Alameda)",
                  "District Name": "Mountain House Elementary",
                  "EDP 365": 684683.93,
                  "Expense ADA": 12.13,
                  "Expense per ADA": 56445.5,
                  "LEA Type": "Elementary",
                  "Decimal Difference": 0.010717230008244,
                  "_deepnote_index_column": 8
                },
                {
                  "Fed ID": 627060,
                  "District Code": 61234,
                  "CDS Code": 1612340000000,
                  "County Name": "Alameda",
                  "District Type": "Unified",
                  "Grade Low": "KG",
                  "Grade High": 12,
                  "Grade Low Census": "KG",
                  "Grade High Census": 12,
                  "Assistance Status": "Differentiated Assistance",
                  "Locale": "Suburban",
                  "Enroll Total": 4828,
                  "Enroll Charter": 0,
                  "Enroll Non Charter": 4828,
                  "African American": 132,
                  "African American (%)": 2.7,
                  "American Indian": 14,
                  "American Indian (%)": 0.3,
                  "Asian": 861,
                  "Asian (%)": 17.8,
                  "Filipino": 394,
                  "Filipino (%)": 8.2,
                  "Hispanic": 2477,
                  "Hispanic (%)": 51.3,
                  "Pacific Islander": 93,
                  "Pacific Islander (%)": 1.9,
                  "White": 436,
                  "White (%)": 9,
                  "Two or More Races": 290,
                  "Two or More Races (%)": 6,
                  "Not Reported": 131,
                  "Not Reported (%)": 2.7,
                  "English Learner": 1029,
                  "English Learner (%)": 21.3,
                  "Foster": 19,
                  "Foster (%)": 0.4,
                  "Homeless": 172,
                  "Homeless (%)": 3.6,
                  "Migrant": 29,
                  "Migrant (%)": 0.6,
                  "Students with Disabilities": 683,
                  "Students with Disabilities (%)": 14.1,
                  "Socioeconomically Disadvantaged": 2297,
                  "Socioeconomically Disadvantaged (%)": 47.6,
                  "District Label": "Newark Unified (Alameda)",
                  "District Name": "Newark Unified",
                  "EDP 365": 78545652.91,
                  "Expense ADA": 4669.03,
                  "Expense per ADA": 16822.69,
                  "LEA Type": "Unified",
                  "Decimal Difference": 0.0340477572429391,
                  "_deepnote_index_column": 9
                }
              ],
              "type": "dataframe"
            },
            "text/plain": "       Fed ID  District Code      CDS Code County Name District Type  \\\n0    601770.0          61119  1.611190e+12     Alameda       Unified   \n1    601860.0          61127  1.611270e+12     Alameda       Unified   \n2    604740.0          61143  1.611430e+12     Alameda       Unified   \n3    607800.0          61150  1.611500e+12     Alameda       Unified   \n4    612630.0          61168  1.611680e+12     Alameda       Unified   \n..        ...            ...           ...         ...           ...   \n927       NaN          76349           NaN   Mendocino    Elementary   \n928       NaN          40261           NaN  Santa Cruz    Elementary   \n929       NaN          40246           NaN      Sonoma    Elementary   \n930       NaN          40253           NaN      Sonoma    Elementary   \n931       NaN          40717           NaN  Stanislaus    Elementary   \n\n    Grade Low  Grade High Grade Low Census  Grade High Census  \\\n0          KG          12               KG                 12   \n1          KG          12               KG                 12   \n2          KG          12               KG                 12   \n3          KG          12               KG                 12   \n4          KG          12               KG                 12   \n..        ...         ...              ...                ...   \n927        KG          12               KG                  8   \n928        KG           5               KG                  5   \n929        KG          12               KG                  6   \n930        KG           8               KG                  6   \n931        KG          12               KG                  8   \n\n             Assistance Status  ... Students with Disabilities (%)  \\\n0           General Assistance  ...                      12.200000   \n1           General Assistance  ...                       9.000000   \n2           General Assistance  ...                      12.000000   \n3           General Assistance  ...                      11.000000   \n4           General Assistance  ...                      12.500000   \n..                         ...  ...                            ...   \n927         General Assistance  ...                      14.883721   \n928         General Assistance  ...                      14.636480   \n929                        NaN  ...                      17.717921   \n930                        NaN  ...                      17.340181   \n931  Differentiated Assistance  ...                      12.710381   \n\n     Socioeconomically Disadvantaged  Socioeconomically Disadvantaged (%)  \\\n0                             4035.0                            38.200000   \n1                             1122.0                            31.400000   \n2                             2508.0                            27.600000   \n3                             3686.0                            38.800000   \n4                              327.0                            54.500000   \n..                               ...                                  ...   \n927                            243.0                            56.511628   \n928                           2304.0                            36.734694   \n929                           3326.0                            45.018950   \n930                           7541.0                            50.959589   \n931                          24229.0                            77.086316   \n\n                                        District Label  \\\n0                            Alameda Unified (Alameda)   \n1                        Albany City Unified (Alameda)   \n2                           Berkeley Unified (Alameda)   \n3                      Castro Valley Unified (Alameda)   \n4                              Emery Unified (Alameda)   \n..                                                 ...   \n927  Arena Union Elementary/Point Arena Joint Union...   \n928       Santa Cruz City Elementary/High (Santa Cruz)   \n929  Petaluma City Elementary/Joint Union High (Son...   \n930                   Santa Rosa City Schools (Sonoma)   \n931                  Modesto City Schools (Stanislaus)   \n\n                                         District Name       EDP 365  \\\n0                                      Alameda Unified  1.550948e+08   \n1                                  Albany City Unified  6.149090e+07   \n2                                     Berkeley Unified  2.205508e+08   \n3                                Castro Valley Unified  1.424913e+08   \n4                                        Emery Unified  1.586300e+07   \n..                                                 ...           ...   \n927  Arena Union Elementary/Point Arena Joint Union...  1.016266e+07   \n928                    Santa Cruz City Elementary/High  1.152800e+08   \n929          Petaluma City Elementary/Joint Union High  1.252075e+08   \n930                            Santa Rosa City Schools  2.486762e+08   \n931                               Modesto City Schools  5.451341e+08   \n\n     Expense ADA  Expense per ADA    LEA Type  Decimal Difference  \n0        8567.86         18101.93     Unified            0.232163  \n1        3435.41         17899.14     Unified            0.040342  \n2        8572.17         25728.70     Unified            0.058892  \n3        8991.52         15847.30     Unified            0.055328  \n4         554.70         28597.44     Unified            0.081666  \n..           ...              ...         ...                 ...  \n927       325.53         31218.80  Comm Admin            0.320923  \n928      5688.18         20266.58  Comm Admin            0.102637  \n929      6651.17         18824.88  Comm Admin            0.110782  \n930     11701.14         21252.30  Comm Admin            0.264663  \n931     27502.45         19821.29  Comm Admin            0.142844  \n\n[932 rows x 51 columns]",
            "text/html": "<div>\n<style scoped>\n    .dataframe tbody tr th:only-of-type {\n        vertical-align: middle;\n    }\n\n    .dataframe tbody tr th {\n        vertical-align: top;\n    }\n\n    .dataframe thead th {\n        text-align: right;\n    }\n</style>\n<table border=\"1\" class=\"dataframe\">\n  <thead>\n    <tr style=\"text-align: right;\">\n      <th></th>\n      <th>Fed ID</th>\n      <th>District Code</th>\n      <th>CDS Code</th>\n      <th>County Name</th>\n      <th>District Type</th>\n      <th>Grade Low</th>\n      <th>Grade High</th>\n      <th>Grade Low Census</th>\n      <th>Grade High Census</th>\n      <th>Assistance Status</th>\n      <th>...</th>\n      <th>Students with Disabilities (%)</th>\n      <th>Socioeconomically Disadvantaged</th>\n      <th>Socioeconomically Disadvantaged (%)</th>\n      <th>District Label</th>\n      <th>District Name</th>\n      <th>EDP 365</th>\n      <th>Expense ADA</th>\n      <th>Expense per ADA</th>\n      <th>LEA Type</th>\n      <th>Decimal Difference</th>\n    </tr>\n  </thead>\n  <tbody>\n    <tr>\n      <th>0</th>\n      <td>601770.0</td>\n      <td>61119</td>\n      <td>1.611190e+12</td>\n      <td>Alameda</td>\n      <td>Unified</td>\n      <td>KG</td>\n      <td>12</td>\n      <td>KG</td>\n      <td>12</td>\n      <td>General Assistance</td>\n      <td>...</td>\n      <td>12.200000</td>\n      <td>4035.0</td>\n      <td>38.200000</td>\n      <td>Alameda Unified (Alameda)</td>\n      <td>Alameda Unified</td>\n      <td>1.550948e+08</td>\n      <td>8567.86</td>\n      <td>18101.93</td>\n      <td>Unified</td>\n      <td>0.232163</td>\n    </tr>\n    <tr>\n      <th>1</th>\n      <td>601860.0</td>\n      <td>61127</td>\n      <td>1.611270e+12</td>\n      <td>Alameda</td>\n      <td>Unified</td>\n      <td>KG</td>\n      <td>12</td>\n      <td>KG</td>\n      <td>12</td>\n      <td>General Assistance</td>\n      <td>...</td>\n      <td>9.000000</td>\n      <td>1122.0</td>\n      <td>31.400000</td>\n      <td>Albany City Unified (Alameda)</td>\n      <td>Albany City Unified</td>\n      <td>6.149090e+07</td>\n      <td>3435.41</td>\n      <td>17899.14</td>\n      <td>Unified</td>\n      <td>0.040342</td>\n    </tr>\n    <tr>\n      <th>2</th>\n      <td>604740.0</td>\n      <td>61143</td>\n      <td>1.611430e+12</td>\n      <td>Alameda</td>\n      <td>Unified</td>\n      <td>KG</td>\n      <td>12</td>\n      <td>KG</td>\n      <td>12</td>\n      <td>General Assistance</td>\n      <td>...</td>\n      <td>12.000000</td>\n      <td>2508.0</td>\n      <td>27.600000</td>\n      <td>Berkeley Unified (Alameda)</td>\n      <td>Berkeley Unified</td>\n      <td>2.205508e+08</td>\n      <td>8572.17</td>\n      <td>25728.70</td>\n      <td>Unified</td>\n      <td>0.058892</td>\n    </tr>\n    <tr>\n      <th>3</th>\n      <td>607800.0</td>\n      <td>61150</td>\n      <td>1.611500e+12</td>\n      <td>Alameda</td>\n      <td>Unified</td>\n      <td>KG</td>\n      <td>12</td>\n      <td>KG</td>\n      <td>12</td>\n      <td>General Assistance</td>\n      <td>...</td>\n      <td>11.000000</td>\n      <td>3686.0</td>\n      <td>38.800000</td>\n      <td>Castro Valley Unified (Alameda)</td>\n      <td>Castro Valley Unified</td>\n      <td>1.424913e+08</td>\n      <td>8991.52</td>\n      <td>15847.30</td>\n      <td>Unified</td>\n      <td>0.055328</td>\n    </tr>\n    <tr>\n      <th>4</th>\n      <td>612630.0</td>\n      <td>61168</td>\n      <td>1.611680e+12</td>\n      <td>Alameda</td>\n      <td>Unified</td>\n      <td>KG</td>\n      <td>12</td>\n      <td>KG</td>\n      <td>12</td>\n      <td>General Assistance</td>\n      <td>...</td>\n      <td>12.500000</td>\n      <td>327.0</td>\n      <td>54.500000</td>\n      <td>Emery Unified (Alameda)</td>\n      <td>Emery Unified</td>\n      <td>1.586300e+07</td>\n      <td>554.70</td>\n      <td>28597.44</td>\n      <td>Unified</td>\n      <td>0.081666</td>\n    </tr>\n    <tr>\n      <th>...</th>\n      <td>...</td>\n      <td>...</td>\n      <td>...</td>\n      <td>...</td>\n      <td>...</td>\n      <td>...</td>\n      <td>...</td>\n      <td>...</td>\n      <td>...</td>\n      <td>...</td>\n      <td>...</td>\n      <td>...</td>\n      <td>...</td>\n      <td>...</td>\n      <td>...</td>\n      <td>...</td>\n      <td>...</td>\n      <td>...</td>\n      <td>...</td>\n      <td>...</td>\n      <td>...</td>\n    </tr>\n    <tr>\n      <th>927</th>\n      <td>NaN</td>\n      <td>76349</td>\n      <td>NaN</td>\n      <td>Mendocino</td>\n      <td>Elementary</td>\n      <td>KG</td>\n      <td>12</td>\n      <td>KG</td>\n      <td>8</td>\n      <td>General Assistance</td>\n      <td>...</td>\n      <td>14.883721</td>\n      <td>243.0</td>\n      <td>56.511628</td>\n      <td>Arena Union Elementary/Point Arena Joint Union...</td>\n      <td>Arena Union Elementary/Point Arena Joint Union...</td>\n      <td>1.016266e+07</td>\n      <td>325.53</td>\n      <td>31218.80</td>\n      <td>Comm Admin</td>\n      <td>0.320923</td>\n    </tr>\n    <tr>\n      <th>928</th>\n      <td>NaN</td>\n      <td>40261</td>\n      <td>NaN</td>\n      <td>Santa Cruz</td>\n      <td>Elementary</td>\n      <td>KG</td>\n      <td>5</td>\n      <td>KG</td>\n      <td>5</td>\n      <td>General Assistance</td>\n      <td>...</td>\n      <td>14.636480</td>\n      <td>2304.0</td>\n      <td>36.734694</td>\n      <td>Santa Cruz City Elementary/High (Santa Cruz)</td>\n      <td>Santa Cruz City Elementary/High</td>\n      <td>1.152800e+08</td>\n      <td>5688.18</td>\n      <td>20266.58</td>\n      <td>Comm Admin</td>\n      <td>0.102637</td>\n    </tr>\n    <tr>\n      <th>929</th>\n      <td>NaN</td>\n      <td>40246</td>\n      <td>NaN</td>\n      <td>Sonoma</td>\n      <td>Elementary</td>\n      <td>KG</td>\n      <td>12</td>\n      <td>KG</td>\n      <td>6</td>\n      <td>NaN</td>\n      <td>...</td>\n      <td>17.717921</td>\n      <td>3326.0</td>\n      <td>45.018950</td>\n      <td>Petaluma City Elementary/Joint Union High (Son...</td>\n      <td>Petaluma City Elementary/Joint Union High</td>\n      <td>1.252075e+08</td>\n      <td>6651.17</td>\n      <td>18824.88</td>\n      <td>Comm Admin</td>\n      <td>0.110782</td>\n    </tr>\n    <tr>\n      <th>930</th>\n      <td>NaN</td>\n      <td>40253</td>\n      <td>NaN</td>\n      <td>Sonoma</td>\n      <td>Elementary</td>\n      <td>KG</td>\n      <td>8</td>\n      <td>KG</td>\n      <td>6</td>\n      <td>NaN</td>\n      <td>...</td>\n      <td>17.340181</td>\n      <td>7541.0</td>\n      <td>50.959589</td>\n      <td>Santa Rosa City Schools (Sonoma)</td>\n      <td>Santa Rosa City Schools</td>\n      <td>2.486762e+08</td>\n      <td>11701.14</td>\n      <td>21252.30</td>\n      <td>Comm Admin</td>\n      <td>0.264663</td>\n    </tr>\n    <tr>\n      <th>931</th>\n      <td>NaN</td>\n      <td>40717</td>\n      <td>NaN</td>\n      <td>Stanislaus</td>\n      <td>Elementary</td>\n      <td>KG</td>\n      <td>12</td>\n      <td>KG</td>\n      <td>8</td>\n      <td>Differentiated Assistance</td>\n      <td>...</td>\n      <td>12.710381</td>\n      <td>24229.0</td>\n      <td>77.086316</td>\n      <td>Modesto City Schools (Stanislaus)</td>\n      <td>Modesto City Schools</td>\n      <td>5.451341e+08</td>\n      <td>27502.45</td>\n      <td>19821.29</td>\n      <td>Comm Admin</td>\n      <td>0.142844</td>\n    </tr>\n  </tbody>\n</table>\n<p>932 rows × 51 columns</p>\n</div>"
          },
          "metadata": {},
          "output_type": "display_data"
        }
      ],
      "outputs_reference": null,
      "content_dependencies": null
    },
    {
      "cell_type": "markdown",
      "metadata": {
        "is_collapsed": false,
        "formattedRanges": [],
        "deepnote_app_block_visible": false,
        "cell_id": "46bd59dfc1aa40f88aff3bf42ab763d8",
        "deepnote_cell_type": "text-cell-h3"
      },
      "source": "### 1.3 Configuration (Constants)",
      "block_group": "b9c0289ee36c425e9bcc9439990997c6"
    },
    {
      "cell_type": "code",
      "metadata": {
        "source_hash": "ee03df72",
        "execution_start": 1759972807066,
        "execution_millis": 0,
        "execution_context_id": "81b7e790-0822-4f8a-a867-857b78ed30d1",
        "cell_id": "995fd3d5c1da4d14b20cfb9769aa1d46",
        "deepnote_cell_type": "code"
      },
      "source": "Y = \"Expense per ADA\"\n\nDEMOGRAPHIC_COLS = [\n    \"African American (%)\", \"American Indian (%)\", \"Asian (%)\", \"Filipino (%)\",\n    \"Hispanic (%)\", \"Pacific Islander (%)\", \"White (%)\", \"Two or More Races (%)\",\n    \"Socioeconomically Disadvantaged (%)\", \"Students with Disabilities (%)\",\n    \"Homeless (%)\", \"Foster (%)\", \"Migrant (%)\", \"English Learner (%)\",\n]\n\nKEY5_COLS = [\n    \"Socioeconomically Disadvantaged (%)\",\n    \"Students with Disabilities (%)\",\n    \"Foster (%)\",\n    \"English Learner (%)\",\n]  # Locale handled via C(Locale)",
      "block_group": "714e5055b6a340df81e46eb83ef300db",
      "execution_count": 93,
      "outputs": [],
      "outputs_reference": null,
      "content_dependencies": null
    },
    {
      "cell_type": "markdown",
      "metadata": {
        "formattedRanges": [],
        "cell_id": "be1faa8e32a140b1b24808ae6ce89e62",
        "deepnote_cell_type": "text-cell-h3"
      },
      "source": "### 1.4 Helper Function",
      "block_group": "776712c557ba4e0096fd082cf4ec6705"
    },
    {
      "cell_type": "code",
      "metadata": {
        "source_hash": "50da7b13",
        "execution_start": 1759977007416,
        "execution_millis": 1,
        "execution_context_id": "81b7e790-0822-4f8a-a867-857b78ed30d1",
        "cell_id": "39d0e3ef738e42d981705db755116508",
        "deepnote_cell_type": "code"
      },
      "source": "def run_bivariate(df, x, y, return_model=False):\n    \"\"\"\n    Fit y ~ x (bivariate OLS)\n    Returns bivariate OLS model and dictionary if return_model=True;\n        Else returns only a dictionary with:\n            - Slope (Funding per 1% increase)\n            - R_squared\n            - p-value\n    \n    Slope is interpreted as $\"Expense per ADA\" per 1 percentage-point.\n    \"\"\"\n    \n    predictor_variable = f'Q(\"{x}\")'\n    formula = f'Q(\"{y}\") ~ {predictor_variable}'\n    model = smf.ols(formula, data=df).fit()\n\n    row = {\n        \"Variable\": x,\n        \"Slope (Funding per 1% increase)\": model.params[predictor_variable],\n        \"R_squared\": model.rsquared,\n        \"p-value\": model.pvalues[predictor_variable],\n    }\n\n    if return_model:\n        return model, row\n    else:\n        return row",
      "block_group": "3e77e85d66844af7aafd68db84bca374",
      "execution_count": 168,
      "outputs": [],
      "outputs_reference": null,
      "content_dependencies": null
    },
    {
      "cell_type": "markdown",
      "metadata": {
        "formattedRanges": [],
        "cell_id": "a71038c30b59487ebd5fe622da5555a6",
        "deepnote_cell_type": "text-cell-h2"
      },
      "source": "## 2.0 Demographics Heat Map",
      "block_group": "fc0efe393a09468fb94b0a43f1ee4249"
    },
    {
      "cell_type": "markdown",
      "metadata": {
        "deepnote_app_block_visible": false,
        "cell_id": "0e1601d6d66341bda912e95a20f24779",
        "deepnote_cell_type": "markdown"
      },
      "source": "This Pearson correlation matrix will help us visualize the relationships between student demographic percentage variables and per-pupil spending.",
      "block_group": "0f49b6343b9649d4a99d6f67e0e1aea7"
    },
    {
      "cell_type": "code",
      "metadata": {
        "source_hash": "a89a3377",
        "execution_start": 1759972111311,
        "execution_millis": 290,
        "execution_context_id": "81b7e790-0822-4f8a-a867-857b78ed30d1",
        "cell_id": "b3a4d71c437748fe9c636bc4204b66d2",
        "deepnote_cell_type": "code"
      },
      "source": "# Demographic & Student Status Columns\ncols = [Y] + DEMOGRAPHIC_COLS\ncorr = district_and_expenses[cols].corr(numeric_only=True)\n\nplt.figure(figsize=(10,8))\nsns.heatmap(corr,\n            cmap='coolwarm')\nplt.title('Correlation Matrix: Demographics and Per-Pupil Spending', fontsize=13)\nplt.show()",
      "block_group": "ba0928b8d62d45a486587b1169015a2f",
      "execution_count": 48,
      "outputs": [
        {
          "data": {
            "text/plain": "<Figure size 1000x800 with 2 Axes>",
            "image/png": "[encoded data removed]"
          },
          "metadata": {
            "image/png": {
              "width": 1037,
              "height": 934
            }
          },
          "output_type": "display_data"
        }
      ],
      "outputs_reference": null,
      "content_dependencies": null
    },
    {
      "cell_type": "markdown",
      "metadata": {
        "cell_id": "825c0e7b376b4c61be451bd4753d7641",
        "deepnote_cell_type": "markdown"
      },
      "source": "The heat map shows us that the strongest correlations between per-pupil spending and a demographic variable are between per-pupil spending and:\n- `'American Indian (%)'`\n- `'Socioeconomically Disadvantaged (%)'`\n- `'Students with Disabilities (%)'`\n- `'Foster (%)'`\n- `'Homeless (%)'`\n\nHowever, these correlations remain weak.\n\nOther notable or strong correlations include:\n- '`Hispanic (%)'` &:\n    - **`'English Learner (%)'` (strong positive)**\n    - `'Migrant (%)'` (positive)\n    - **`'Socioeconomically Disadvantaged (%)'` (strong positive)**\n    - **`'Two or More Races (%)'` (strong negative)**\n    - **`'White (%)'` (strong negative)**\n- `'White (%)'` &:\n    - **`'English Learner (%)'` (strong negative)**\n    - `'Migrant (%)'` (negative)\n    - **`'Socioeconomically Disadvantaged (%)'` (strong negative)**\n    - `'Two or More Races (%)'` (positive)\n- `'Two or More Races (%)'` &:\n    - `'English Learner (%)'` (negative)\n    - `'Migrant (%)'` (negative)\n    - `'Socioeconomically Disadvantaged (%)'` (negative)\n    - `'White (%)'` (positive)\n- `'Socioeconomically Disadvantaged (%)'` &:\n    - **`'English Learner (%)'` (strong positive)**\n    - `'Migrant (%)'` (positive)\n    - `'Homeless (%)'` (positive)\n- `'Migrant (%)'` &:\n    - **`'English Learner (%)'` (strong positive)**\n\nIt is important to note that, while there are strong correlations between some demographic variables, these **correlations do not imply causality**. Analysis of some of these correlations are also outside of our project scope; however, they provide interesting avenues for further research.",
      "block_group": "59baa32be79140b28b172d4b516ab750"
    },
    {
      "cell_type": "markdown",
      "metadata": {
        "formattedRanges": [],
        "cell_id": "c2cf7ae0b76841349009352afb21664a",
        "deepnote_cell_type": "text-cell-h2"
      },
      "source": "## 3.0 Demographics Regression Analysis",
      "block_group": "faeb1525e929424fa5b9f34bdd8357b6"
    },
    {
      "cell_type": "markdown",
      "metadata": {
        "cell_id": "014e6de01df54a2ba16faafbf5fceb1a",
        "deepnote_cell_type": "markdown"
      },
      "source": "We will run univariate linear regression analyses to determine the relationship between each demographic variable and per-pupil spending.\n\nWe will also run a multiple regression analysis to determine how much of the variance in per-pupil spending can be explained by the demographic variables.",
      "block_group": "900e60b57c5b4e60883ba30ac0a2b424"
    },
    {
      "cell_type": "markdown",
      "metadata": {
        "formattedRanges": [
          {
            "type": "marks",
            "marks": {
              "code": true
            },
            "toCodePoint": 29,
            "fromCodePoint": 12
          }
        ],
        "cell_id": "ca43776fa320435589a1b23ba5f8c3de",
        "deepnote_cell_type": "text-cell-h3"
      },
      "source": "### 3.1 SED vs. 'Expense per ADA' Column (Bivariate Linear Regression with OLS)",
      "block_group": "508617bcd205493ca4bac6186a939ec8"
    },
    {
      "cell_type": "markdown",
      "metadata": {
        "cell_id": "235f9f4e46574c17844a270eae898290",
        "deepnote_cell_type": "markdown"
      },
      "source": "To test the waters, we will first run a simple bivariate linear regression analysis between `'Socioeconomically Disadvantaged (%)'` (SED) and per-pupil spending.",
      "block_group": "21076fc0880f490aa636cbc1ceada401"
    },
    {
      "cell_type": "code",
      "metadata": {
        "source_hash": "892cb1fd",
        "execution_start": 1759974479903,
        "execution_millis": 11,
        "execution_context_id": "81b7e790-0822-4f8a-a867-857b78ed30d1",
        "cell_id": "43b6818980ab45ce88e832602aeb749b",
        "deepnote_cell_type": "code"
      },
      "source": "sed_model, sed_row = run_bivariate(district_and_expenses,\n                        x=\"Socioeconomically Disadvantaged (%)\",\n                        y=Y,\n                        return_model=True)\n\ndisplay(sed_row)\nprint(sed_model.summary())\n",
      "block_group": "2cc104decc6549c4a60d807b186b5ae7",
      "execution_count": 156,
      "outputs": [
        {
          "data": {
            "text/plain": "{'Variable': 'Socioeconomically Disadvantaged (%)',\n 'Slope (Funding per 1% increase)': 66.06162023813346,\n 'R_squared': 0.020694412665336448,\n 'p-value': 1.0395678907548472e-05}"
          },
          "metadata": {},
          "output_type": "display_data"
        },
        {
          "name": "stdout",
          "text": "                             OLS Regression Results                             \n================================================================================\nDep. Variable:     Q(\"Expense per ADA\")   R-squared:                       0.021\nModel:                              OLS   Adj. R-squared:                  0.020\nMethod:                   Least Squares   F-statistic:                     19.65\nDate:                  Thu, 09 Oct 2025   Prob (F-statistic):           1.04e-05\nTime:                          01:47:59   Log-Likelihood:                -9994.1\nNo. Observations:                   932   AIC:                         1.999e+04\nDf Residuals:                       930   BIC:                         2.000e+04\nDf Model:                             1                                         \nCovariance Type:              nonrobust                                         \n============================================================================================================\n                                               coef    std err          t      P>|t|      [0.025      0.975]\n------------------------------------------------------------------------------------------------------------\nIntercept                                 1.831e+04    945.584     19.359      0.000    1.64e+04    2.02e+04\nQ(\"Socioeconomically Disadvantaged (%)\")    66.0616     14.902      4.433      0.000      36.816      95.307\n==============================================================================\nOmnibus:                      989.973   Durbin-Watson:                   1.911\nProb(Omnibus):                  0.000   Jarque-Bera (JB):            52613.222\nSkew:                           5.151   Prob(JB):                         0.00\nKurtosis:                      38.337   Cond. No.                         167.\n==============================================================================\n\nNotes:\n[1] Standard Errors assume that the covariance matrix of the errors is correctly specified.\n",
          "output_type": "stream"
        }
      ],
      "outputs_reference": null,
      "content_dependencies": null
    },
    {
      "cell_type": "markdown",
      "metadata": {
        "cell_id": "1805ecec991744f9a538c5e7681bb8f9",
        "deepnote_cell_type": "markdown"
      },
      "source": "A bivariate linear regression analysis between SED % and per-pupil spending shows that there is a **weak positive correlation** between the two variables.\n- The R-squared value is the measurement of how much of the independent variable (SED %) is explained by changes in our dependent variables (per-pupil spending).\n    - In this case, our R-squared value, 0.021, is very low, which indicates that this simple linear model explains very little of the variance in per-pupil spending.\n- The F-statistic tells us whether the overall model is statistically significant. A larger F-statistic indicates a more statistically significant model.\n    - In this case, our F-statistic, 19.65, is greater than 1, which indicates that the overall model is statistically significant.\n- The slope, 66.0616, indicates that there is approximately a $66.06 increase in `'Expense per ADA'` for every 1% increase in SED student %.\n- The *p*-value, $$0.000 < 0.05$$, indicates that the relationship between SED % and per-pupil spending is statistically significant.",
      "block_group": "424bf6011b834473bdec51cc746ecd3b"
    },
    {
      "cell_type": "markdown",
      "metadata": {
        "formattedRanges": [
          {
            "type": "marks",
            "marks": {
              "code": true
            },
            "toCodePoint": 36,
            "fromCodePoint": 21
          }
        ],
        "cell_id": "2875d915e9d34dac94045cbfb39ae0e1",
        "deepnote_cell_type": "text-cell-h3"
      },
      "source": "### 3.2 Demographics vs. Expense per ADA Column (OLS Regression)",
      "block_group": "825685ba34d142fea4dd78bafa8fa440"
    },
    {
      "cell_type": "markdown",
      "metadata": {
        "cell_id": "59ac2ad961c9465c84bf13e1972407c6",
        "deepnote_cell_type": "markdown"
      },
      "source": "With a successful first run, we will now run linear regression analyses between **each** demographic variable and per-pupil spending. We will extract the values from each summary (similar to the one generated above) and put it into a table. The values we are interested in are the slope (funding per 1% increase of a demographic), R-squared, and *p*-value.\n\nWe will then sort the results by R-squared value to identify the demographic variable with the strongest correlation to per-pupil spending.",
      "block_group": "a8d4ec16b3e74d5daac0bbbbcdcb0db3"
    },
    {
      "cell_type": "code",
      "metadata": {
        "source_hash": "1ae2a7b9",
        "execution_start": 1759974608786,
        "execution_millis": 13,
        "execution_context_id": "81b7e790-0822-4f8a-a867-857b78ed30d1",
        "cell_id": "5e0f1c730d17405895f542a1b16afdc9",
        "deepnote_cell_type": "code"
      },
      "source": "rows = []\nfor col in DEMOGRAPHIC_COLS:\n    row = run_bivariate(district_and_expenses, x=col, y=Y)\n    rows.append(row)\n\nreg_summary_3_2 = (\n    pd.DataFrame(rows)\n      .sort_values(\"R_squared\", ascending=False)\n)\n\ndisplay(reg_summary_3_2)",
      "block_group": "0d768ebd3b12453c9820b9504df21fa9",
      "execution_count": 162,
      "outputs": [
        {
          "data": {
            "application/vnd.deepnote.dataframe.v3+json": {
              "column_count": 4,
              "columns": [
                {
                  "name": "Variable",
                  "dtype": "object",
                  "stats": {
                    "unique_count": 14,
                    "nan_count": 0,
                    "min": null,
                    "max": null,
                    "histogram": null,
                    "categories": [
                      {
                        "name": "American Indian (%)",
                        "count": 1
                      },
                      {
                        "name": "Students with Disabilities (%)",
                        "count": 1
                      },
                      {
                        "name": "12 others",
                        "count": 12
                      }
                    ]
                  }
                },
                {
                  "name": "Slope (Funding per 1% increase)",
                  "dtype": "float64",
                  "stats": {
                    "unique_count": 14,
                    "nan_count": 0,
                    "min": "-1167.0231904532975",
                    "max": "1417.5012832245384",
                    "histogram": [
                      {
                        "bin_start": -1167.0231904532975,
                        "bin_end": -908.5707430855139,
                        "count": 1
                      },
                      {
                        "bin_start": -908.5707430855139,
                        "bin_end": -650.1182957177303,
                        "count": 0
                      },
                      {
                        "bin_start": -650.1182957177303,
                        "bin_end": -391.6658483499468,
                        "count": 1
                      },
                      {
                        "bin_start": -391.6658483499468,
                        "bin_end": -133.2134009821632,
                        "count": 0
                      },
                      {
                        "bin_start": -133.2134009821632,
                        "bin_end": 125.23904638562044,
                        "count": 8
                      },
                      {
                        "bin_start": 125.23904638562044,
                        "bin_end": 383.69149375340385,
                        "count": 2
                      },
                      {
                        "bin_start": 383.69149375340385,
                        "bin_end": 642.1439411211875,
                        "count": 1
                      },
                      {
                        "bin_start": 642.1439411211875,
                        "bin_end": 900.5963884889711,
                        "count": 0
                      },
                      {
                        "bin_start": 900.5963884889711,
                        "bin_end": 1159.0488358567545,
                        "count": 0
                      },
                      {
                        "bin_start": 1159.0488358567545,
                        "bin_end": 1417.5012832245384,
                        "count": 1
                      }
                    ],
                    "categories": null
                  }
                },
                {
                  "name": "R_squared",
                  "dtype": "float64",
                  "stats": {
                    "unique_count": 14,
                    "nan_count": 0,
                    "min": "0.0002503330929607417",
                    "max": "0.050118778892790816",
                    "histogram": [
                      {
                        "bin_start": 0.0002503330929607417,
                        "bin_end": 0.005237177672943749,
                        "count": 7
                      },
                      {
                        "bin_start": 0.005237177672943749,
                        "bin_end": 0.010224022252926757,
                        "count": 0
                      },
                      {
                        "bin_start": 0.010224022252926757,
                        "bin_end": 0.015210866832909765,
                        "count": 3
                      },
                      {
                        "bin_start": 0.015210866832909765,
                        "bin_end": 0.020197711412892772,
                        "count": 0
                      },
                      {
                        "bin_start": 0.020197711412892772,
                        "bin_end": 0.02518455599287578,
                        "count": 1
                      },
                      {
                        "bin_start": 0.02518455599287578,
                        "bin_end": 0.03017140057285879,
                        "count": 1
                      },
                      {
                        "bin_start": 0.03017140057285879,
                        "bin_end": 0.03515824515284179,
                        "count": 0
                      },
                      {
                        "bin_start": 0.03515824515284179,
                        "bin_end": 0.0401450897328248,
                        "count": 1
                      },
                      {
                        "bin_start": 0.0401450897328248,
                        "bin_end": 0.04513193431280781,
                        "count": 0
                      },
                      {
                        "bin_start": 0.04513193431280781,
                        "bin_end": 0.050118778892790816,
                        "count": 1
                      }
                    ],
                    "categories": null
                  }
                },
                {
                  "name": "p-value",
                  "dtype": "float64",
                  "stats": {
                    "unique_count": 14,
                    "nan_count": 0,
                    "min": "4.7356980769923326e-12",
                    "max": "0.629518865198141",
                    "histogram": [
                      {
                        "bin_start": 4.7356980769923326e-12,
                        "bin_end": 0.06295188652407624,
                        "count": 7
                      },
                      {
                        "bin_start": 0.06295188652407624,
                        "bin_end": 0.1259037730434168,
                        "count": 3
                      },
                      {
                        "bin_start": 0.1259037730434168,
                        "bin_end": 0.18885565956275735,
                        "count": 0
                      },
                      {
                        "bin_start": 0.18885565956275735,
                        "bin_end": 0.2518075460820979,
                        "count": 1
                      },
                      {
                        "bin_start": 0.2518075460820979,
                        "bin_end": 0.3147594326014384,
                        "count": 1
                      },
                      {
                        "bin_start": 0.3147594326014384,
                        "bin_end": 0.377711319120779,
                        "count": 1
                      },
                      {
                        "bin_start": 0.377711319120779,
                        "bin_end": 0.4406632056401195,
                        "count": 0
                      },
                      {
                        "bin_start": 0.4406632056401195,
                        "bin_end": 0.50361509215946,
                        "count": 0
                      },
                      {
                        "bin_start": 0.50361509215946,
                        "bin_end": 0.5665669786788006,
                        "count": 0
                      },
                      {
                        "bin_start": 0.5665669786788006,
                        "bin_end": 0.629518865198141,
                        "count": 1
                      }
                    ],
                    "categories": null
                  }
                },
                {
                  "name": "_deepnote_index_column",
                  "dtype": "int64"
                }
              ],
              "row_count": 14,
              "preview_row_count": 14,
              "rows": [
                {
                  "Variable": "American Indian (%)",
                  "Slope (Funding per 1% increase)": 363.0381178720921,
                  "R_squared": 0.050118778892790816,
                  "p-value": 4.7356980769923326e-12,
                  "_deepnote_index_column": 1
                },
                {
                  "Variable": "Students with Disabilities (%)",
                  "Slope (Funding per 1% increase)": 467.7170974713092,
                  "R_squared": 0.035581891926121156,
                  "p-value": 6.509303950463279e-9,
                  "_deepnote_index_column": 9
                },
                {
                  "Variable": "Foster (%)",
                  "Slope (Funding per 1% increase)": 1417.5012832245384,
                  "R_squared": 0.026663482109362535,
                  "p-value": 5.386720651020073e-7,
                  "_deepnote_index_column": 11
                },
                {
                  "Variable": "Socioeconomically Disadvantaged (%)",
                  "Slope (Funding per 1% increase)": 66.06162023813346,
                  "R_squared": 0.020694412665336448,
                  "p-value": 0.000010395678907548472,
                  "_deepnote_index_column": 8
                },
                {
                  "Variable": "Asian (%)",
                  "Slope (Funding per 1% increase)": -122.95051337018134,
                  "R_squared": 0.01433524642088646,
                  "p-value": 0.0002488163048988618,
                  "_deepnote_index_column": 2
                },
                {
                  "Variable": "Filipino (%)",
                  "Slope (Funding per 1% increase)": -509.36026006792474,
                  "R_squared": 0.011737653413152582,
                  "p-value": 0.0009236462961259792,
                  "_deepnote_index_column": 3
                },
                {
                  "Variable": "Homeless (%)",
                  "Slope (Funding per 1% increase)": 231.94803257040678,
                  "R_squared": 0.011400047673730263,
                  "p-value": 0.001096424349318854,
                  "_deepnote_index_column": 10
                },
                {
                  "Variable": "White (%)",
                  "Slope (Funding per 1% increase)": 25.330324657258238,
                  "R_squared": 0.0032221468311591783,
                  "p-value": 0.08327367145630694,
                  "_deepnote_index_column": 6
                },
                {
                  "Variable": "Hispanic (%)",
                  "Slope (Funding per 1% increase)": -21.356997981136868,
                  "R_squared": 0.0029203255233379855,
                  "p-value": 0.09919649893115848,
                  "_deepnote_index_column": 4
                },
                {
                  "Variable": "Pacific Islander (%)",
                  "Slope (Funding per 1% increase)": -1167.0231904532975,
                  "R_squared": 0.0028476850962529943,
                  "p-value": 0.10350430980002517,
                  "_deepnote_index_column": 5
                }
              ],
              "type": "dataframe"
            },
            "text/plain": "                               Variable  Slope (Funding per 1% increase)  \\\n1                   American Indian (%)                       363.038118   \n9        Students with Disabilities (%)                       467.717097   \n11                           Foster (%)                      1417.501283   \n8   Socioeconomically Disadvantaged (%)                        66.061620   \n2                             Asian (%)                      -122.950513   \n3                          Filipino (%)                      -509.360260   \n10                         Homeless (%)                       231.948033   \n6                             White (%)                        25.330325   \n4                          Hispanic (%)                       -21.356998   \n5                  Pacific Islander (%)                     -1167.023190   \n12                          Migrant (%)                       115.336169   \n13                  English Learner (%)                        26.345461   \n7                 Two or More Races (%)                        76.275814   \n0                  African American (%)                       -43.415723   \n\n    R_squared       p-value  \n1    0.050119  4.735698e-12  \n9    0.035582  6.509304e-09  \n11   0.026663  5.386721e-07  \n8    0.020694  1.039568e-05  \n2    0.014335  2.488163e-04  \n3    0.011738  9.236463e-04  \n10   0.011400  1.096424e-03  \n6    0.003222  8.327367e-02  \n4    0.002920  9.919650e-02  \n5    0.002848  1.035043e-01  \n12   0.001540  2.312923e-01  \n13   0.001227  2.854376e-01  \n7    0.000887  3.637827e-01  \n0    0.000250  6.295189e-01  ",
            "text/html": "<div>\n<style scoped>\n    .dataframe tbody tr th:only-of-type {\n        vertical-align: middle;\n    }\n\n    .dataframe tbody tr th {\n        vertical-align: top;\n    }\n\n    .dataframe thead th {\n        text-align: right;\n    }\n</style>\n<table border=\"1\" class=\"dataframe\">\n  <thead>\n    <tr style=\"text-align: right;\">\n      <th></th>\n      <th>Variable</th>\n      <th>Slope (Funding per 1% increase)</th>\n      <th>R_squared</th>\n      <th>p-value</th>\n    </tr>\n  </thead>\n  <tbody>\n    <tr>\n      <th>1</th>\n      <td>American Indian (%)</td>\n      <td>363.038118</td>\n      <td>0.050119</td>\n      <td>4.735698e-12</td>\n    </tr>\n    <tr>\n      <th>9</th>\n      <td>Students with Disabilities (%)</td>\n      <td>467.717097</td>\n      <td>0.035582</td>\n      <td>6.509304e-09</td>\n    </tr>\n    <tr>\n      <th>11</th>\n      <td>Foster (%)</td>\n      <td>1417.501283</td>\n      <td>0.026663</td>\n      <td>5.386721e-07</td>\n    </tr>\n    <tr>\n      <th>8</th>\n      <td>Socioeconomically Disadvantaged (%)</td>\n      <td>66.061620</td>\n      <td>0.020694</td>\n      <td>1.039568e-05</td>\n    </tr>\n    <tr>\n      <th>2</th>\n      <td>Asian (%)</td>\n      <td>-122.950513</td>\n      <td>0.014335</td>\n      <td>2.488163e-04</td>\n    </tr>\n    <tr>\n      <th>3</th>\n      <td>Filipino (%)</td>\n      <td>-509.360260</td>\n      <td>0.011738</td>\n      <td>9.236463e-04</td>\n    </tr>\n    <tr>\n      <th>10</th>\n      <td>Homeless (%)</td>\n      <td>231.948033</td>\n      <td>0.011400</td>\n      <td>1.096424e-03</td>\n    </tr>\n    <tr>\n      <th>6</th>\n      <td>White (%)</td>\n      <td>25.330325</td>\n      <td>0.003222</td>\n      <td>8.327367e-02</td>\n    </tr>\n    <tr>\n      <th>4</th>\n      <td>Hispanic (%)</td>\n      <td>-21.356998</td>\n      <td>0.002920</td>\n      <td>9.919650e-02</td>\n    </tr>\n    <tr>\n      <th>5</th>\n      <td>Pacific Islander (%)</td>\n      <td>-1167.023190</td>\n      <td>0.002848</td>\n      <td>1.035043e-01</td>\n    </tr>\n    <tr>\n      <th>12</th>\n      <td>Migrant (%)</td>\n      <td>115.336169</td>\n      <td>0.001540</td>\n      <td>2.312923e-01</td>\n    </tr>\n    <tr>\n      <th>13</th>\n      <td>English Learner (%)</td>\n      <td>26.345461</td>\n      <td>0.001227</td>\n      <td>2.854376e-01</td>\n    </tr>\n    <tr>\n      <th>7</th>\n      <td>Two or More Races (%)</td>\n      <td>76.275814</td>\n      <td>0.000887</td>\n      <td>3.637827e-01</td>\n    </tr>\n    <tr>\n      <th>0</th>\n      <td>African American (%)</td>\n      <td>-43.415723</td>\n      <td>0.000250</td>\n      <td>6.295189e-01</td>\n    </tr>\n  </tbody>\n</table>\n</div>"
          },
          "metadata": {},
          "output_type": "display_data"
        }
      ],
      "outputs_reference": null,
      "content_dependencies": null
    },
    {
      "cell_type": "markdown",
      "metadata": {
        "cell_id": "73551abb270c4baebad70d4a0234c77d",
        "deepnote_cell_type": "markdown"
      },
      "source": "This table shows us that the demographic variable with the strongest correlation to per-pupil spending is **`'American Indian (%)'`**, with a slope of 102.56 and an R-squared value of 0.05. The *p*-value, $$0.000 < 0.05$$, also indicates that this relationship is statistically significant. This means that there is approximately a $102.56 increase in `'Expense per ADA'` for every 1% increase in students who identify as American Indian.\n\nThere are 3 **statistically insignificant** (*p* > 0.05) relationships between demographic variables and per-pupil spending:\n- `'White (%)'`\n- `'Hispanic (%)'`\n- `'Pacific Islander (%)'`",
      "block_group": "35c5bc0a7e084ec6a50c754b5c3ebd39"
    },
    {
      "cell_type": "markdown",
      "metadata": {
        "cell_id": "e541e1b20b6d4bbcafdb095fc9832110",
        "deepnote_cell_type": "markdown"
      },
      "source": "#### 3.2.1 Multiple Regression Analysis (OLS)",
      "block_group": "bacce85fe4d446d8b9c38ec09ea48717"
    },
    {
      "cell_type": "markdown",
      "metadata": {
        "cell_id": "fed425a7edda4d67bb462dced3816eda",
        "deepnote_cell_type": "markdown"
      },
      "source": "The previous regression analysis calculated correlations between each demographic variable and per-pupil spending. However, these analyses do not account for the relationships **between** demographic variables (e.g., joint effects, multicollinearity).\n\nThus, we ran a multiple regression analysis that simultaneously included all student demographics. This analysis will tell us how much of the variance in per-pupil spending can be explained by demographics.",
      "block_group": "8f610e8ee4a04da2ad92a89f4b26d4b4"
    },
    {
      "cell_type": "code",
      "metadata": {
        "source_hash": "e510c4ca",
        "execution_start": 1759974633020,
        "execution_millis": 104,
        "execution_context_id": "81b7e790-0822-4f8a-a867-857b78ed30d1",
        "cell_id": "4294d7ce46b849dd87e9430c486be691",
        "deepnote_cell_type": "code"
      },
      "source": "X = district_and_expenses[DEMOGRAPHIC_COLS]\nX = sm.add_constant(X)\ny = district_and_expenses[Y]\n\nmodel_multi_3_2_1 = sm.OLS(y, X).fit()\n\nprint(model_multi_3_2_1.summary())",
      "block_group": "92ad8971b78e4dad81c11e4e6d6f8aba",
      "execution_count": 165,
      "outputs": [
        {
          "name": "stdout",
          "text": "                            OLS Regression Results                            \n==============================================================================\nDep. Variable:        Expense per ADA   R-squared:                       0.137\nModel:                            OLS   Adj. R-squared:                  0.124\nMethod:                 Least Squares   F-statistic:                     10.39\nDate:                Thu, 09 Oct 2025   Prob (F-statistic):           4.78e-22\nTime:                        01:50:33   Log-Likelihood:                -9935.3\nNo. Observations:                 932   AIC:                         1.990e+04\nDf Residuals:                     917   BIC:                         1.997e+04\nDf Model:                          14                                         \nCovariance Type:            nonrobust                                         \n=======================================================================================================\n                                          coef    std err          t      P>|t|      [0.025      0.975]\n-------------------------------------------------------------------------------------------------------\nconst                                2.209e+04   1.02e+04      2.174      0.030    2149.335     4.2e+04\nAfrican American (%)                  -55.8545    137.368     -0.407      0.684    -325.446     213.737\nAmerican Indian (%)                   147.5152    113.122      1.304      0.193     -74.492     369.522\nAsian (%)                            -138.4042    109.455     -1.264      0.206    -353.216      76.408\nFilipino (%)                         -260.7828    198.344     -1.315      0.189    -650.043     128.478\nHispanic (%)                         -190.0113    103.273     -1.840      0.066    -392.690      12.667\nPacific Islander (%)                 -964.3557    761.012     -1.267      0.205   -2457.883     529.172\nWhite (%)                             -60.6747    103.079     -0.589      0.556    -262.972     141.623\nTwo or More Races (%)                  45.6876    147.018      0.311      0.756    -242.843     334.219\nSocioeconomically Disadvantaged (%)    74.0240     23.218      3.188      0.001      28.458     119.590\nStudents with Disabilities (%)        325.6190     81.028      4.019      0.000     166.598     484.640\nHomeless (%)                          -15.6362     74.688     -0.209      0.834    -162.215     130.942\nFoster (%)                            832.4263    290.585      2.865      0.004     262.137    1402.716\nMigrant (%)                            69.2271    107.813      0.642      0.521    -142.362     280.816\nEnglish Learner (%)                   195.4010     42.188      4.632      0.000     112.605     278.197\n==============================================================================\nOmnibus:                     1029.951   Durbin-Watson:                   1.924\nProb(Omnibus):                  0.000   Jarque-Bera (JB):            74015.384\nSkew:                           5.372   Prob(JB):                         0.00\nKurtosis:                      45.315   Cond. No.                     2.69e+03\n==============================================================================\n\nNotes:\n[1] Standard Errors assume that the covariance matrix of the errors is correctly specified.\n[2] The condition number is large, 2.69e+03. This might indicate that there are\nstrong multicollinearity or other numerical problems.\n",
          "output_type": "stream"
        }
      ],
      "outputs_reference": null,
      "content_dependencies": null
    },
    {
      "cell_type": "markdown",
      "metadata": {
        "cell_id": "352d979cc3cc4d9ca25a88b9b63ed5c2",
        "deepnote_cell_type": "markdown"
      },
      "source": "This summary table shows us that the multiple regression model explains about 13.7% of the variance in per-pupil spending.\n\nSignificant **positive predictors** of per-pupil spending included:\n- `'Socioeconomically Disadvantaged (%)'` ($74.02 per 1% increase)\n- `'Students with Disabilities (%)'` ($325.62)\n- `'Foster (%)'` ($832.43)\n- `'English Learner (%)'` ($195.40)\n\nThere were no significant negative student status predictors. There were no significant demographic variables that were positive or negative predictors.",
      "block_group": "23d5bd2a0b5a4402ac41b012d6d98a9e"
    },
    {
      "cell_type": "markdown",
      "metadata": {
        "formattedRanges": [
          {
            "type": "marks",
            "marks": {
              "code": true
            },
            "toCodePoint": 12,
            "fromCodePoint": 4
          }
        ],
        "cell_id": "5acce72fe2fe423fb73ca0dfdac3d44c",
        "deepnote_cell_type": "text-cell-h2"
      },
      "source": "## 4.0 'Locale' Regression Analysis (Categorical)",
      "block_group": "8face025fe554da483eacc8d0765ad68"
    },
    {
      "cell_type": "markdown",
      "metadata": {
        "cell_id": "0f651cfe5e8748f2a37efea415670eb8",
        "deepnote_cell_type": "markdown"
      },
      "source": "Our project also seeks to determine whether the locale of a district affects per-pupil spending.",
      "block_group": "195f9baad08f4451a1752d0813f62e40"
    },
    {
      "cell_type": "markdown",
      "metadata": {
        "formattedRanges": [
          {
            "type": "marks",
            "marks": {
              "code": true
            },
            "toCodePoint": 21,
            "fromCodePoint": 4
          },
          {
            "type": "marks",
            "marks": {
              "code": true
            },
            "toCodePoint": 33,
            "fromCodePoint": 25
          }
        ],
        "cell_id": "b2929e2255ae4acf913cd9994e6b7fcf",
        "deepnote_cell_type": "text-cell-h3"
      },
      "source": "### 4.1 'Expense per ADA' by 'Locale' Columns",
      "block_group": "9efa4ef3df7b4796a991799a2c70291e"
    },
    {
      "cell_type": "markdown",
      "metadata": {
        "cell_id": "f9bbcf72089f46dfa3001e993488d3b8",
        "deepnote_cell_type": "markdown"
      },
      "source": "Unlike % demographics and `'Expense ADA'`, which were both quantitative variables, Locale is a categorical variable. Thus, we will use a **categorical regression analysis** in `smf` to determine the relationship between `'Locale'` and `'Expense per ADA'`.",
      "block_group": "e219c647dc284e04ab9f4ae50025761f"
    },
    {
      "cell_type": "code",
      "metadata": {
        "source_hash": "8e3c57fe",
        "execution_start": 1759972590743,
        "execution_millis": 11,
        "execution_context_id": "81b7e790-0822-4f8a-a867-857b78ed30d1",
        "cell_id": "4193f6a647e24a76b75a9fd99410d4f6",
        "deepnote_cell_type": "code"
      },
      "source": "model_4_1 = smf.ols('Q(Y) ~ C(Locale)', data=district_and_expenses).fit()\n\nprint(model_4_1.summary())",
      "block_group": "810c7637ff8f4ecca5904c59e82e0eda",
      "execution_count": 81,
      "outputs": [
        {
          "name": "stdout",
          "text": "                            OLS Regression Results                            \n==============================================================================\nDep. Variable:                   Q(Y)   R-squared:                       0.053\nModel:                            OLS   Adj. R-squared:                  0.049\nMethod:                 Least Squares   F-statistic:                     13.03\nDate:                Thu, 09 Oct 2025   Prob (F-statistic):           2.51e-10\nTime:                        01:16:30   Log-Likelihood:                -9978.4\nNo. Observations:                 932   AIC:                         1.997e+04\nDf Residuals:                     927   BIC:                         1.999e+04\nDf Model:                           4                                         \nCovariance Type:            nonrobust                                         \n=============================================================================================\n                                coef    std err          t      P>|t|      [0.025      0.975]\n---------------------------------------------------------------------------------------------\nIntercept                  2.019e+04    939.165     21.495      0.000    1.83e+04     2.2e+04\nC(Locale)[T.Not Reported]  2089.0122   4933.969      0.423      0.672   -7594.033    1.18e+04\nC(Locale)[T.Rural]         5346.7407   1107.271      4.829      0.000    3173.692    7519.789\nC(Locale)[T.Suburban]       283.9433   1130.641      0.251      0.802   -1934.969    2502.856\nC(Locale)[T.Town]          -382.0197   1276.413     -0.299      0.765   -2887.013    2122.974\n==============================================================================\nOmnibus:                      974.467   Durbin-Watson:                   1.925\nProb(Omnibus):                  0.000   Jarque-Bera (JB):            54882.045\nSkew:                           4.981   Prob(JB):                         0.00\nKurtosis:                      39.250   Cond. No.                         15.8\n==============================================================================\n\nNotes:\n[1] Standard Errors assume that the covariance matrix of the errors is correctly specified.\n",
          "output_type": "stream"
        }
      ],
      "outputs_reference": null,
      "content_dependencies": null
    },
    {
      "cell_type": "markdown",
      "metadata": {
        "cell_id": "8ae017cef7654a4491966a5a3c1186cd",
        "deepnote_cell_type": "markdown"
      },
      "source": "We did not stipulate which district to use as our \"baseline\" district. However, the `smf.ols` function automatically uses the first district in the dataset as the baseline district. In this case, the first district is **`'Urban'`**. Thus, all interpretations of coefficients should be interpreted as relative to `'Urban'` districts.\n\nOur multiple regression analysis shows that the locale of a district does not significantly affect per-pupil spending (R-squared = 0.053).\n\nOf the four locales, we found only `'Rural'` to have a statistically significant relationship with per-pupil spending. `'Rural'` districts have approximately **$5,347 more** in per-pupil spending than `'Urban'` districts.",
      "block_group": "b6de519d14134f78a2b09c5b3b0db743"
    },
    {
      "cell_type": "markdown",
      "metadata": {
        "formattedRanges": [
          {
            "type": "marks",
            "marks": {
              "code": true
            },
            "toCodePoint": 12,
            "fromCodePoint": 4
          }
        ],
        "cell_id": "8277a780dde64acda6c6ac82ba003480",
        "deepnote_cell_type": "text-cell-h3"
      },
      "source": "### 4.2 'Locale' Columns & Demographics",
      "block_group": "ef6eacef91514a2b9c430dcee577f0fc"
    },
    {
      "cell_type": "markdown",
      "metadata": {
        "cell_id": "989ae03eec0849d98ec852b7fd9aa6e2",
        "deepnote_cell_type": "markdown"
      },
      "source": "With our OLS analyses above, we were able to determine the following statistically significant demographics:\n- `'Socioeconomically Disadvantaged (%)'`\n- `'Students with Disabilities (%)'`\n- `'Foster (%)'`\n- `'English Learner (%)'`\n- `'Rural'` (`'Locale'`)\n\nThus, we will run a multiple regression analysis on our final, 5-variable model that includes all of the above variables to determine how much of the variance in per-pupil spending can be explained by them.",
      "block_group": "e0f762fc955d4f7d9ec7b90177315b35"
    },
    {
      "cell_type": "code",
      "metadata": {
        "source_hash": "68b2b94f",
        "execution_start": 1759972884076,
        "execution_millis": 1,
        "execution_context_id": "81b7e790-0822-4f8a-a867-857b78ed30d1",
        "cell_id": "5410451ce4514c5d95b2328705a3e0ef",
        "deepnote_cell_type": "code"
      },
      "source": "final_model_formula = 'Q(Y) ~ C(Locale)'\n\nfor col in KEY5_COLS:\n    final_model_formula += f' + Q(\"{col}\")'\n\nfinal_model_dem_locale = smf.ols(final_model_formula, data=district_and_expenses).fit()\n\nprint(final_model_dem_locale.summary())",
      "block_group": "ba64529f3629418eb7ce8f5b3c6cc277",
      "execution_count": 96,
      "outputs": [
        {
          "name": "stdout",
          "text": "                            OLS Regression Results                            \n==============================================================================\nDep. Variable:                   Q(Y)   R-squared:                       0.123\nModel:                            OLS   Adj. R-squared:                  0.116\nMethod:                 Least Squares   F-statistic:                     16.21\nDate:                Thu, 09 Oct 2025   Prob (F-statistic):           1.47e-22\nTime:                        01:21:24   Log-Likelihood:                -9942.6\nNo. Observations:                 932   AIC:                         1.990e+04\nDf Residuals:                     923   BIC:                         1.995e+04\nDf Model:                           8                                         \nCovariance Type:            nonrobust                                         \n============================================================================================================\n                                               coef    std err          t      P>|t|      [0.025      0.975]\n------------------------------------------------------------------------------------------------------------\nIntercept                                 1.121e+04   1528.889      7.329      0.000    8205.348    1.42e+04\nC(Locale)[T.Not Reported]                 1006.4660   4764.041      0.211      0.833   -8343.142    1.04e+04\nC(Locale)[T.Rural]                        5211.4791   1096.150      4.754      0.000    3060.243    7362.715\nC(Locale)[T.Suburban]                      268.9403   1096.809      0.245      0.806   -1883.588    2421.469\nC(Locale)[T.Town]                        -1274.2323   1263.003     -1.009      0.313   -3752.924    1204.459\nQ(\"Socioeconomically Disadvantaged (%)\")    33.7932     18.777      1.800      0.072      -3.057      70.644\nQ(\"Students with Disabilities (%)\")        463.7462     78.182      5.932      0.000     310.312     617.181\nQ(\"Foster (%)\")                           1101.2795    282.897      3.893      0.000     546.084    1656.475\nQ(\"English Learner (%)\")                    37.4063     29.921      1.250      0.212     -21.315      96.128\n==============================================================================\nOmnibus:                      993.221   Durbin-Watson:                   1.924\nProb(Omnibus):                  0.000   Jarque-Bera (JB):            61655.119\nSkew:                           5.103   Prob(JB):                         0.00\nKurtosis:                      41.516   Cond. No.                         940.\n==============================================================================\n\nNotes:\n[1] Standard Errors assume that the covariance matrix of the errors is correctly specified.\n",
          "output_type": "stream"
        }
      ],
      "outputs_reference": null,
      "content_dependencies": null
    },
    {
      "cell_type": "markdown",
      "metadata": {
        "cell_id": "b296db6669a5418f923fbce80fb94cd0",
        "deepnote_cell_type": "markdown"
      },
      "source": "From our multiple OLS regression analysis, we found that the 5-variable model explains about 12.3% of the variance in per-pupil spending.\n\nStatistically significant **positive predictors** of per-pupil spending included:\n- `'Socioeconomically Disadvantaged (%)'` ($33.79 per 1% increase)\n- `'Students with Disabilities (%)'` ($463.75)\n- `'Foster (%)'` ($1101.28)\n- `'English Learner (%)'` ($37.41)\n- `'Rural'` ($5211.48 more than `'Urban'`)\n\nOne change that we observed is that `'English Learner (%)'` became a statistically insignificant predictor of per-pupil spending.\n\n#### So why did `'English Learner (%)'` lose significance in our 5-variable model?\n\nIn our bivariate and demographics-only multiple regressions, `'English Learner (%)'` (EL) appeared significant with a *p*-value of ~0.000. However, when we added `C(Locale)` (and retained `'Socioeconomically Disadvantaged (%)'`, `'Students with Disabilities (%)'`, `'Foster (%)'`), EL's changed to being statistically insignificant.\n\nThis indicates that part of EL's earlier values reflected between-locale differences and overlapped with other demographics. After controlling for locale and our key demographic covariates, EL's unique, partial effect on per-pupil spending dimished and became statistically insignificant.",
      "block_group": "809140975ff54182a90c73ea20d90fe6"
    },
    {
      "cell_type": "markdown",
      "source": "<a style='text-decoration:none;line-height:16px;display:flex;color:#5B5B62;padding:10px;justify-content:end;' href='https://deepnote.com?utm_source=created-in-deepnote-cell&projectId=246b06f0-3e45-45e3-acef-efea2bae7701' target=\"_blank\">\n<img alt='Created in deepnote.com' style='display:inline;max-height:16px;margin:0px;margin-right:7.5px;' src='data:image/svg+xml;base64,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' > </img>\nCreated in <span style='font-weight:600;margin-left:4px;'>Deepnote</span></a>",
      "metadata": {
        "created_in_deepnote_cell": true,
        "deepnote_cell_type": "markdown"
      }
    }
  ],
  "nbformat": 4,
  "nbformat_minor": 0,
  "metadata": {
    "deepnote_persisted_session": {
      "createdAt": "2025-10-09T05:30:33.698Z"
    },
    "deepnote_notebook_id": "44d0f5c210d3418a88ca0c4e9d0c3ac0"
  }
}