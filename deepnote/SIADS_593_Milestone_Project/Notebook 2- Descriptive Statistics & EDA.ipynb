{
  "cells": [
    {
      "cell_type": "markdown",
      "metadata": {
        "formattedRanges": [],
        "cell_id": "e7d18e8c788943fab287419191c6421c",
        "deepnote_cell_type": "text-cell-h1"
      },
      "source": "# Notebook #2: Descriptive Statistics & Initial EDA",
      "block_group": "3eaebc70a00644df8a0fe5d960b2ed54"
    },
    {
      "cell_type": "markdown",
      "metadata": {
        "formattedRanges": [],
        "cell_id": "30bd0a60533b47a48022a2c213297649",
        "deepnote_cell_type": "text-cell-p"
      },
      "source": "In this notebook, we perform some basic exploratory data analysis in the cleaned dataset to understand size, composition, and relationships relevant to our research questions (i.e., demographics, student status, funding).",
      "block_group": "aacc1fdbfe2d4228ba5dc8abb3c8c723"
    },
    {
      "cell_type": "markdown",
      "metadata": {
        "formattedRanges": [],
        "cell_id": "a7a1178d7ae84e51b3704ea9d57c3a38",
        "deepnote_cell_type": "text-cell-h2"
      },
      "source": "## 1.0. Import Libraries",
      "block_group": "187ea166b3654d31a1122c26e99d37a8"
    },
    {
      "cell_type": "code",
      "metadata": {
        "source_hash": "a4a8904c",
        "execution_start": 1760127664669,
        "execution_millis": 484,
        "execution_context_id": "79fa4d62-8961-4dfa-a5c8-892d38695664",
        "cell_id": "396e771d4cec4db48be8a53da246ddc3",
        "deepnote_cell_type": "code"
      },
      "source": "import pandas as pd\nimport plotly.express as px\nimport plotly.graph_objects as go\nimport plotly.io as pio",
      "block_group": "396e771d4cec4db48be8a53da246ddc3",
      "execution_count": 1,
      "outputs": [],
      "outputs_reference": null,
      "content_dependencies": null
    },
    {
      "cell_type": "markdown",
      "metadata": {
        "cell_id": "34b51d024573479284923f8a9274f096",
        "deepnote_cell_type": "separator"
      },
      "source": "<hr>",
      "block_group": "630844f1cab843ff8c0887f9985ca07a"
    },
    {
      "cell_type": "markdown",
      "metadata": {
        "formattedRanges": [
          {
            "type": "marks",
            "marks": {
              "code": true
            },
            "toCodePoint": 47,
            "fromCodePoint": 24
          }
        ],
        "cell_id": "57cc37fb55ce472ea46cad3222d84ae2",
        "deepnote_cell_type": "text-cell-h2"
      },
      "source": "## 2.0. Import the Cleaned 'district_and_expenses' CSV Data",
      "block_group": "be6b1c6798fe466383f8d08df4ca3da2"
    },
    {
      "cell_type": "code",
      "metadata": {
        "source_hash": "507662f8",
        "execution_start": 1760127665206,
        "execution_millis": 188,
        "execution_context_id": "79fa4d62-8961-4dfa-a5c8-892d38695664",
        "cell_id": "7dcb7d6e1eaa45d2bc594d78e48effd0",
        "deepnote_cell_type": "code"
      },
      "source": "# Import and store the cleaned DataFrame from the 'district_and_expenses.csv' file\ndistrict_and_expenses = pd.read_csv('district_and_expenses.csv')\n\n# Display the imported 'district_and_expenses' DataFrame\ndisplay(district_and_expenses)",
      "block_group": "a3538b848ae24614894d172e860d8ae1",
      "execution_count": 2,
      "outputs": [
        {
          "data": {
            "application/vnd.deepnote.dataframe.v3+json": {
              "column_count": 51,
              "columns": [
                {
                  "name": "Fed ID",
                  "dtype": "float64",
                  "stats": {
                    "unique_count": 927,
                    "nan_count": 5,
                    "min": "600001.0",
                    "max": "691137.0",
                    "histogram": [
                      {
                        "bin_start": 600001,
                        "bin_end": 609114.6,
                        "count": 225
                      },
                      {
                        "bin_start": 609114.6,
                        "bin_end": 618228.2,
                        "count": 172
                      },
                      {
                        "bin_start": 618228.2,
                        "bin_end": 627341.8,
                        "count": 197
                      },
                      {
                        "bin_start": 627341.8,
                        "bin_end": 636455.4,
                        "count": 189
                      },
                      {
                        "bin_start": 636455.4,
                        "bin_end": 645569,
                        "count": 139
                      },
                      {
                        "bin_start": 645569,
                        "bin_end": 654682.6,
                        "count": 0
                      },
                      {
                        "bin_start": 654682.6,
                        "bin_end": 663796.2,
                        "count": 0
                      },
                      {
                        "bin_start": 663796.2,
                        "bin_end": 672909.8,
                        "count": 0
                      },
                      {
                        "bin_start": 672909.8,
                        "bin_end": 682023.4,
                        "count": 0
                      },
                      {
                        "bin_start": 682023.4,
                        "bin_end": 691137,
                        "count": 5
                      }
                    ],
                    "categories": null
                  }
                },
                {
                  "name": "District Code",
                  "dtype": "int64",
                  "stats": {
                    "unique_count": 932,
                    "nan_count": 0,
                    "min": "40246",
                    "max": "77388",
                    "histogram": [
                      {
                        "bin_start": 40246,
                        "bin_end": 43960.2,
                        "count": 4
                      },
                      {
                        "bin_start": 43960.2,
                        "bin_end": 47674.4,
                        "count": 0
                      },
                      {
                        "bin_start": 47674.4,
                        "bin_end": 51388.6,
                        "count": 0
                      },
                      {
                        "bin_start": 51388.6,
                        "bin_end": 55102.8,
                        "count": 0
                      },
                      {
                        "bin_start": 55102.8,
                        "bin_end": 58817,
                        "count": 0
                      },
                      {
                        "bin_start": 58817,
                        "bin_end": 62531.2,
                        "count": 89
                      },
                      {
                        "bin_start": 62531.2,
                        "bin_end": 66245.4,
                        "count": 261
                      },
                      {
                        "bin_start": 66245.4,
                        "bin_end": 69959.6,
                        "count": 256
                      },
                      {
                        "bin_start": 69959.6,
                        "bin_end": 73673.79999999999,
                        "count": 216
                      },
                      {
                        "bin_start": 73673.79999999999,
                        "bin_end": 77388,
                        "count": 106
                      }
                    ],
                    "categories": null
                  }
                },
                {
                  "name": "CDS Code",
                  "dtype": "float64",
                  "stats": {
                    "unique_count": 927,
                    "nan_count": 5,
                    "min": "1611190000000.0",
                    "max": "58727690000000.0",
                    "histogram": [
                      {
                        "bin_start": 1611190000000,
                        "bin_end": 7322840000000,
                        "count": 41
                      },
                      {
                        "bin_start": 7322840000000,
                        "bin_end": 13034490000000,
                        "count": 105
                      },
                      {
                        "bin_start": 13034490000000,
                        "bin_end": 18746140000000,
                        "count": 96
                      },
                      {
                        "bin_start": 18746140000000,
                        "bin_end": 24457790000000,
                        "count": 117
                      },
                      {
                        "bin_start": 24457790000000,
                        "bin_end": 30169440000000,
                        "count": 63
                      },
                      {
                        "bin_start": 30169440000000,
                        "bin_end": 35881090000000,
                        "count": 92
                      },
                      {
                        "bin_start": 35881090000000,
                        "bin_end": 41592740000000,
                        "count": 99
                      },
                      {
                        "bin_start": 41592740000000,
                        "bin_end": 47304390000000,
                        "count": 108
                      },
                      {
                        "bin_start": 47304390000000,
                        "bin_end": 53016040000000,
                        "count": 114
                      },
                      {
                        "bin_start": 53016040000000,
                        "bin_end": 58727690000000,
                        "count": 92
                      }
                    ],
                    "categories": null
                  }
                },
                {
                  "name": "County Name",
                  "dtype": "object",
                  "stats": {
                    "unique_count": 58,
                    "nan_count": 0,
                    "min": null,
                    "max": null,
                    "histogram": null,
                    "categories": [
                      {
                        "name": "Los Angeles",
                        "count": 79
                      },
                      {
                        "name": "Kern",
                        "count": 46
                      },
                      {
                        "name": "56 others",
                        "count": 807
                      }
                    ]
                  }
                },
                {
                  "name": "District Type",
                  "dtype": "object",
                  "stats": {
                    "unique_count": 3,
                    "nan_count": 0,
                    "min": null,
                    "max": null,
                    "histogram": null,
                    "categories": [
                      {
                        "name": "Elementary",
                        "count": 516
                      },
                      {
                        "name": "Unified",
                        "count": 345
                      },
                      {
                        "name": "High",
                        "count": 71
                      }
                    ]
                  }
                },
                {
                  "name": "Grade Low",
                  "dtype": "object",
                  "stats": {
                    "unique_count": 6,
                    "nan_count": 0,
                    "min": null,
                    "max": null,
                    "histogram": null,
                    "categories": [
                      {
                        "name": "KG",
                        "count": 870
                      },
                      {
                        "name": "09",
                        "count": 52
                      },
                      {
                        "name": "4 others",
                        "count": 10
                      }
                    ]
                  }
                },
                {
                  "name": "Grade High",
                  "dtype": "int64",
                  "stats": {
                    "unique_count": 4,
                    "nan_count": 0,
                    "min": "5",
                    "max": "12",
                    "histogram": [
                      {
                        "bin_start": 5,
                        "bin_end": 5.7,
                        "count": 3
                      },
                      {
                        "bin_start": 5.7,
                        "bin_end": 6.4,
                        "count": 39
                      },
                      {
                        "bin_start": 6.4,
                        "bin_end": 7.1,
                        "count": 0
                      },
                      {
                        "bin_start": 7.1,
                        "bin_end": 7.8,
                        "count": 0
                      },
                      {
                        "bin_start": 7.8,
                        "bin_end": 8.5,
                        "count": 414
                      },
                      {
                        "bin_start": 8.5,
                        "bin_end": 9.2,
                        "count": 0
                      },
                      {
                        "bin_start": 9.2,
                        "bin_end": 9.899999999999999,
                        "count": 0
                      },
                      {
                        "bin_start": 9.899999999999999,
                        "bin_end": 10.6,
                        "count": 0
                      },
                      {
                        "bin_start": 10.6,
                        "bin_end": 11.3,
                        "count": 0
                      },
                      {
                        "bin_start": 11.3,
                        "bin_end": 12,
                        "count": 476
                      }
                    ],
                    "categories": null
                  }
                },
                {
                  "name": "Grade Low Census",
                  "dtype": "object",
                  "stats": {
                    "unique_count": 4,
                    "nan_count": 0,
                    "min": null,
                    "max": null,
                    "histogram": null,
                    "categories": [
                      {
                        "name": "KG",
                        "count": 858
                      },
                      {
                        "name": "09",
                        "count": 64
                      },
                      {
                        "name": "2 others",
                        "count": 10
                      }
                    ]
                  }
                },
                {
                  "name": "Grade High Census",
                  "dtype": "int64",
                  "stats": {
                    "unique_count": 4,
                    "nan_count": 0,
                    "min": "5",
                    "max": "12",
                    "histogram": [
                      {
                        "bin_start": 5,
                        "bin_end": 5.7,
                        "count": 1
                      },
                      {
                        "bin_start": 5.7,
                        "bin_end": 6.4,
                        "count": 63
                      },
                      {
                        "bin_start": 6.4,
                        "bin_end": 7.1,
                        "count": 0
                      },
                      {
                        "bin_start": 7.1,
                        "bin_end": 7.8,
                        "count": 0
                      },
                      {
                        "bin_start": 7.8,
                        "bin_end": 8.5,
                        "count": 449
                      },
                      {
                        "bin_start": 8.5,
                        "bin_end": 9.2,
                        "count": 0
                      },
                      {
                        "bin_start": 9.2,
                        "bin_end": 9.899999999999999,
                        "count": 0
                      },
                      {
                        "bin_start": 9.899999999999999,
                        "bin_end": 10.6,
                        "count": 0
                      },
                      {
                        "bin_start": 10.6,
                        "bin_end": 11.3,
                        "count": 0
                      },
                      {
                        "bin_start": 11.3,
                        "bin_end": 12,
                        "count": 419
                      }
                    ],
                    "categories": null
                  }
                },
                {
                  "name": "Assistance Status",
                  "dtype": "object",
                  "stats": {
                    "unique_count": 2,
                    "nan_count": 6,
                    "min": null,
                    "max": null,
                    "histogram": null,
                    "categories": [
                      {
                        "name": "General Assistance",
                        "count": 483
                      },
                      {
                        "name": "Differentiated Assistance",
                        "count": 443
                      },
                      {
                        "name": "Missing",
                        "count": 6
                      }
                    ]
                  }
                },
                {
                  "name": "Locale",
                  "dtype": "object",
                  "stats": {
                    "unique_count": 5,
                    "nan_count": 0,
                    "min": null,
                    "max": null,
                    "histogram": null,
                    "categories": [
                      {
                        "name": "Rural",
                        "count": 341
                      },
                      {
                        "name": "Suburban",
                        "count": 296
                      },
                      {
                        "name": "3 others",
                        "count": 295
                      }
                    ]
                  }
                },
                {
                  "name": "Enroll Total",
                  "dtype": "float64",
                  "stats": {
                    "unique_count": 836,
                    "nan_count": 0,
                    "min": "3.0",
                    "max": "529902.0",
                    "histogram": [
                      {
                        "bin_start": 3,
                        "bin_end": 52992.9,
                        "count": 926
                      },
                      {
                        "bin_start": 52992.9,
                        "bin_end": 105982.8,
                        "count": 4
                      },
                      {
                        "bin_start": 105982.8,
                        "bin_end": 158972.7,
                        "count": 1
                      },
                      {
                        "bin_start": 158972.7,
                        "bin_end": 211962.6,
                        "count": 0
                      },
                      {
                        "bin_start": 211962.6,
                        "bin_end": 264952.5,
                        "count": 0
                      },
                      {
                        "bin_start": 264952.5,
                        "bin_end": 317942.4,
                        "count": 0
                      },
                      {
                        "bin_start": 317942.4,
                        "bin_end": 370932.3,
                        "count": 0
                      },
                      {
                        "bin_start": 370932.3,
                        "bin_end": 423922.2,
                        "count": 0
                      },
                      {
                        "bin_start": 423922.2,
                        "bin_end": 476912.10000000003,
                        "count": 0
                      },
                      {
                        "bin_start": 476912.10000000003,
                        "bin_end": 529902,
                        "count": 1
                      }
                    ],
                    "categories": null
                  }
                },
                {
                  "name": "Enroll Charter",
                  "dtype": "float64",
                  "stats": {
                    "unique_count": 266,
                    "nan_count": 0,
                    "min": "0.0",
                    "max": "148786.0",
                    "histogram": [
                      {
                        "bin_start": 0,
                        "bin_end": 14878.6,
                        "count": 929
                      },
                      {
                        "bin_start": 14878.6,
                        "bin_end": 29757.2,
                        "count": 2
                      },
                      {
                        "bin_start": 29757.2,
                        "bin_end": 44635.8,
                        "count": 0
                      },
                      {
                        "bin_start": 44635.8,
                        "bin_end": 59514.4,
                        "count": 0
                      },
                      {
                        "bin_start": 59514.4,
                        "bin_end": 74393,
                        "count": 0
                      },
                      {
                        "bin_start": 74393,
                        "bin_end": 89271.6,
                        "count": 0
                      },
                      {
                        "bin_start": 89271.6,
                        "bin_end": 104150.2,
                        "count": 0
                      },
                      {
                        "bin_start": 104150.2,
                        "bin_end": 119028.8,
                        "count": 0
                      },
                      {
                        "bin_start": 119028.8,
                        "bin_end": 133907.4,
                        "count": 0
                      },
                      {
                        "bin_start": 133907.4,
                        "bin_end": 148786,
                        "count": 1
                      }
                    ],
                    "categories": null
                  }
                },
                {
                  "name": "Enroll Non Charter",
                  "dtype": "float64",
                  "stats": {
                    "unique_count": 817,
                    "nan_count": 0,
                    "min": "0.0",
                    "max": "381116.0",
                    "histogram": [
                      {
                        "bin_start": 0,
                        "bin_end": 38111.6,
                        "count": 919
                      },
                      {
                        "bin_start": 38111.6,
                        "bin_end": 76223.2,
                        "count": 11
                      },
                      {
                        "bin_start": 76223.2,
                        "bin_end": 114334.79999999999,
                        "count": 1
                      },
                      {
                        "bin_start": 114334.79999999999,
                        "bin_end": 152446.4,
                        "count": 0
                      },
                      {
                        "bin_start": 152446.4,
                        "bin_end": 190558,
                        "count": 0
                      },
                      {
                        "bin_start": 190558,
                        "bin_end": 228669.59999999998,
                        "count": 0
                      },
                      {
                        "bin_start": 228669.59999999998,
                        "bin_end": 266781.2,
                        "count": 0
                      },
                      {
                        "bin_start": 266781.2,
                        "bin_end": 304892.8,
                        "count": 0
                      },
                      {
                        "bin_start": 304892.8,
                        "bin_end": 343004.39999999997,
                        "count": 0
                      },
                      {
                        "bin_start": 343004.39999999997,
                        "bin_end": 381116,
                        "count": 1
                      }
                    ],
                    "categories": null
                  }
                },
                {
                  "name": "African American",
                  "dtype": "float64",
                  "stats": {
                    "unique_count": 314,
                    "nan_count": 0,
                    "min": "0.0",
                    "max": "38494.0",
                    "histogram": [
                      {
                        "bin_start": 0,
                        "bin_end": 3849.4,
                        "count": 922
                      },
                      {
                        "bin_start": 3849.4,
                        "bin_end": 7698.8,
                        "count": 6
                      },
                      {
                        "bin_start": 7698.8,
                        "bin_end": 11548.2,
                        "count": 3
                      },
                      {
                        "bin_start": 11548.2,
                        "bin_end": 15397.6,
                        "count": 0
                      },
                      {
                        "bin_start": 15397.6,
                        "bin_end": 19247,
                        "count": 0
                      },
                      {
                        "bin_start": 19247,
                        "bin_end": 23096.4,
                        "count": 0
                      },
                      {
                        "bin_start": 23096.4,
                        "bin_end": 26945.8,
                        "count": 0
                      },
                      {
                        "bin_start": 26945.8,
                        "bin_end": 30795.2,
                        "count": 0
                      },
                      {
                        "bin_start": 30795.2,
                        "bin_end": 34644.6,
                        "count": 0
                      },
                      {
                        "bin_start": 34644.6,
                        "bin_end": 38494,
                        "count": 1
                      }
                    ],
                    "categories": null
                  }
                },
                {
                  "name": "African American (%)",
                  "dtype": "float64",
                  "stats": {
                    "unique_count": 133,
                    "nan_count": 0,
                    "min": "0.0",
                    "max": "44.2",
                    "histogram": [
                      {
                        "bin_start": 0,
                        "bin_end": 4.42,
                        "count": 796
                      },
                      {
                        "bin_start": 4.42,
                        "bin_end": 8.84,
                        "count": 86
                      },
                      {
                        "bin_start": 8.84,
                        "bin_end": 13.26,
                        "count": 26
                      },
                      {
                        "bin_start": 13.26,
                        "bin_end": 17.68,
                        "count": 10
                      },
                      {
                        "bin_start": 17.68,
                        "bin_end": 22.1,
                        "count": 7
                      },
                      {
                        "bin_start": 22.1,
                        "bin_end": 26.52,
                        "count": 3
                      },
                      {
                        "bin_start": 26.52,
                        "bin_end": 30.939999999999998,
                        "count": 2
                      },
                      {
                        "bin_start": 30.939999999999998,
                        "bin_end": 35.36,
                        "count": 0
                      },
                      {
                        "bin_start": 35.36,
                        "bin_end": 39.78,
                        "count": 1
                      },
                      {
                        "bin_start": 39.78,
                        "bin_end": 44.2,
                        "count": 1
                      }
                    ],
                    "categories": null
                  }
                },
                {
                  "name": "American Indian",
                  "dtype": "float64",
                  "stats": {
                    "unique_count": 131,
                    "nan_count": 0,
                    "min": "0.0",
                    "max": "756.0",
                    "histogram": [
                      {
                        "bin_start": 0,
                        "bin_end": 75.6,
                        "count": 857
                      },
                      {
                        "bin_start": 75.6,
                        "bin_end": 151.2,
                        "count": 47
                      },
                      {
                        "bin_start": 151.2,
                        "bin_end": 226.79999999999998,
                        "count": 13
                      },
                      {
                        "bin_start": 226.79999999999998,
                        "bin_end": 302.4,
                        "count": 9
                      },
                      {
                        "bin_start": 302.4,
                        "bin_end": 378,
                        "count": 2
                      },
                      {
                        "bin_start": 378,
                        "bin_end": 453.59999999999997,
                        "count": 0
                      },
                      {
                        "bin_start": 453.59999999999997,
                        "bin_end": 529.1999999999999,
                        "count": 2
                      },
                      {
                        "bin_start": 529.1999999999999,
                        "bin_end": 604.8,
                        "count": 0
                      },
                      {
                        "bin_start": 604.8,
                        "bin_end": 680.4,
                        "count": 1
                      },
                      {
                        "bin_start": 680.4,
                        "bin_end": 756,
                        "count": 1
                      }
                    ],
                    "categories": null
                  }
                },
                {
                  "name": "American Indian (%)",
                  "dtype": "float64",
                  "stats": {
                    "unique_count": 107,
                    "nan_count": 0,
                    "min": "0.0",
                    "max": "100.0",
                    "histogram": [
                      {
                        "bin_start": 0,
                        "bin_end": 10,
                        "count": 907
                      },
                      {
                        "bin_start": 10,
                        "bin_end": 20,
                        "count": 10
                      },
                      {
                        "bin_start": 20,
                        "bin_end": 30,
                        "count": 4
                      },
                      {
                        "bin_start": 30,
                        "bin_end": 40,
                        "count": 2
                      },
                      {
                        "bin_start": 40,
                        "bin_end": 50,
                        "count": 3
                      },
                      {
                        "bin_start": 50,
                        "bin_end": 60,
                        "count": 2
                      },
                      {
                        "bin_start": 60,
                        "bin_end": 70,
                        "count": 1
                      },
                      {
                        "bin_start": 70,
                        "bin_end": 80,
                        "count": 1
                      },
                      {
                        "bin_start": 80,
                        "bin_end": 90,
                        "count": 1
                      },
                      {
                        "bin_start": 90,
                        "bin_end": 100,
                        "count": 1
                      }
                    ],
                    "categories": null
                  }
                },
                {
                  "name": "Asian",
                  "dtype": "float64",
                  "stats": {
                    "unique_count": 397,
                    "nan_count": 0,
                    "min": "0.0",
                    "max": "21565.0",
                    "histogram": [
                      {
                        "bin_start": 0,
                        "bin_end": 2156.5,
                        "count": 861
                      },
                      {
                        "bin_start": 2156.5,
                        "bin_end": 4313,
                        "count": 38
                      },
                      {
                        "bin_start": 4313,
                        "bin_end": 6469.5,
                        "count": 14
                      },
                      {
                        "bin_start": 6469.5,
                        "bin_end": 8626,
                        "count": 8
                      },
                      {
                        "bin_start": 8626,
                        "bin_end": 10782.5,
                        "count": 4
                      },
                      {
                        "bin_start": 10782.5,
                        "bin_end": 12939,
                        "count": 1
                      },
                      {
                        "bin_start": 12939,
                        "bin_end": 15095.5,
                        "count": 1
                      },
                      {
                        "bin_start": 15095.5,
                        "bin_end": 17252,
                        "count": 1
                      },
                      {
                        "bin_start": 17252,
                        "bin_end": 19408.5,
                        "count": 3
                      },
                      {
                        "bin_start": 19408.5,
                        "bin_end": 21565,
                        "count": 1
                      }
                    ],
                    "categories": null
                  }
                },
                {
                  "name": "Asian (%)",
                  "dtype": "float64",
                  "stats": {
                    "unique_count": 224,
                    "nan_count": 0,
                    "min": "0.0",
                    "max": "69.4",
                    "histogram": [
                      {
                        "bin_start": 0,
                        "bin_end": 6.94,
                        "count": 729
                      },
                      {
                        "bin_start": 6.94,
                        "bin_end": 13.88,
                        "count": 86
                      },
                      {
                        "bin_start": 13.88,
                        "bin_end": 20.82,
                        "count": 43
                      },
                      {
                        "bin_start": 20.82,
                        "bin_end": 27.76,
                        "count": 21
                      },
                      {
                        "bin_start": 27.76,
                        "bin_end": 34.7,
                        "count": 20
                      },
                      {
                        "bin_start": 34.7,
                        "bin_end": 41.64,
                        "count": 12
                      },
                      {
                        "bin_start": 41.64,
                        "bin_end": 48.580000000000005,
                        "count": 4
                      },
                      {
                        "bin_start": 48.580000000000005,
                        "bin_end": 55.52,
                        "count": 5
                      },
                      {
                        "bin_start": 55.52,
                        "bin_end": 62.46,
                        "count": 6
                      },
                      {
                        "bin_start": 62.46,
                        "bin_end": 69.4,
                        "count": 6
                      }
                    ],
                    "categories": null
                  }
                },
                {
                  "name": "Filipino",
                  "dtype": "float64",
                  "stats": {
                    "unique_count": 283,
                    "nan_count": 0,
                    "min": "0.0",
                    "max": "8891.0",
                    "histogram": [
                      {
                        "bin_start": 0,
                        "bin_end": 889.1,
                        "count": 897
                      },
                      {
                        "bin_start": 889.1,
                        "bin_end": 1778.2,
                        "count": 25
                      },
                      {
                        "bin_start": 1778.2,
                        "bin_end": 2667.3,
                        "count": 6
                      },
                      {
                        "bin_start": 2667.3,
                        "bin_end": 3556.4,
                        "count": 1
                      },
                      {
                        "bin_start": 3556.4,
                        "bin_end": 4445.5,
                        "count": 1
                      },
                      {
                        "bin_start": 4445.5,
                        "bin_end": 5334.6,
                        "count": 1
                      },
                      {
                        "bin_start": 5334.6,
                        "bin_end": 6223.7,
                        "count": 0
                      },
                      {
                        "bin_start": 6223.7,
                        "bin_end": 7112.8,
                        "count": 0
                      },
                      {
                        "bin_start": 7112.8,
                        "bin_end": 8001.900000000001,
                        "count": 0
                      },
                      {
                        "bin_start": 8001.900000000001,
                        "bin_end": 8891,
                        "count": 1
                      }
                    ],
                    "categories": null
                  }
                },
                {
                  "name": "Filipino (%)",
                  "dtype": "float64",
                  "stats": {
                    "unique_count": 89,
                    "nan_count": 0,
                    "min": "0.0",
                    "max": "25.8",
                    "histogram": [
                      {
                        "bin_start": 0,
                        "bin_end": 2.58,
                        "count": 802
                      },
                      {
                        "bin_start": 2.58,
                        "bin_end": 5.16,
                        "count": 79
                      },
                      {
                        "bin_start": 5.16,
                        "bin_end": 7.74,
                        "count": 28
                      },
                      {
                        "bin_start": 7.74,
                        "bin_end": 10.32,
                        "count": 10
                      },
                      {
                        "bin_start": 10.32,
                        "bin_end": 12.9,
                        "count": 7
                      },
                      {
                        "bin_start": 12.9,
                        "bin_end": 15.48,
                        "count": 1
                      },
                      {
                        "bin_start": 15.48,
                        "bin_end": 18.060000000000002,
                        "count": 2
                      },
                      {
                        "bin_start": 18.060000000000002,
                        "bin_end": 20.64,
                        "count": 1
                      },
                      {
                        "bin_start": 20.64,
                        "bin_end": 23.22,
                        "count": 1
                      },
                      {
                        "bin_start": 23.22,
                        "bin_end": 25.8,
                        "count": 1
                      }
                    ],
                    "categories": null
                  }
                },
                {
                  "name": "Hispanic",
                  "dtype": "float64",
                  "stats": {
                    "unique_count": 741,
                    "nan_count": 0,
                    "min": "0.0",
                    "max": "391174.0",
                    "histogram": [
                      {
                        "bin_start": 0,
                        "bin_end": 39117.4,
                        "count": 928
                      },
                      {
                        "bin_start": 39117.4,
                        "bin_end": 78234.8,
                        "count": 3
                      },
                      {
                        "bin_start": 78234.8,
                        "bin_end": 117352.20000000001,
                        "count": 0
                      },
                      {
                        "bin_start": 117352.20000000001,
                        "bin_end": 156469.6,
                        "count": 0
                      },
                      {
                        "bin_start": 156469.6,
                        "bin_end": 195587,
                        "count": 0
                      },
                      {
                        "bin_start": 195587,
                        "bin_end": 234704.40000000002,
                        "count": 0
                      },
                      {
                        "bin_start": 234704.40000000002,
                        "bin_end": 273821.8,
                        "count": 0
                      },
                      {
                        "bin_start": 273821.8,
                        "bin_end": 312939.2,
                        "count": 0
                      },
                      {
                        "bin_start": 312939.2,
                        "bin_end": 352056.60000000003,
                        "count": 0
                      },
                      {
                        "bin_start": 352056.60000000003,
                        "bin_end": 391174,
                        "count": 1
                      }
                    ],
                    "categories": null
                  }
                },
                {
                  "name": "Hispanic (%)",
                  "dtype": "float64",
                  "stats": {
                    "unique_count": 573,
                    "nan_count": 0,
                    "min": "0.0",
                    "max": "100.0",
                    "histogram": [
                      {
                        "bin_start": 0,
                        "bin_end": 10,
                        "count": 47
                      },
                      {
                        "bin_start": 10,
                        "bin_end": 20,
                        "count": 152
                      },
                      {
                        "bin_start": 20,
                        "bin_end": 30,
                        "count": 123
                      },
                      {
                        "bin_start": 30,
                        "bin_end": 40,
                        "count": 97
                      },
                      {
                        "bin_start": 40,
                        "bin_end": 50,
                        "count": 88
                      },
                      {
                        "bin_start": 50,
                        "bin_end": 60,
                        "count": 103
                      },
                      {
                        "bin_start": 60,
                        "bin_end": 70,
                        "count": 81
                      },
                      {
                        "bin_start": 70,
                        "bin_end": 80,
                        "count": 67
                      },
                      {
                        "bin_start": 80,
                        "bin_end": 90,
                        "count": 78
                      },
                      {
                        "bin_start": 90,
                        "bin_end": 100,
                        "count": 96
                      }
                    ],
                    "categories": null
                  }
                },
                {
                  "name": "Pacific Islander",
                  "dtype": "float64",
                  "stats": {
                    "unique_count": 136,
                    "nan_count": 0,
                    "min": "0.0",
                    "max": "1165.0",
                    "histogram": [
                      {
                        "bin_start": 0,
                        "bin_end": 116.5,
                        "count": 887
                      },
                      {
                        "bin_start": 116.5,
                        "bin_end": 233,
                        "count": 30
                      },
                      {
                        "bin_start": 233,
                        "bin_end": 349.5,
                        "count": 7
                      },
                      {
                        "bin_start": 349.5,
                        "bin_end": 466,
                        "count": 2
                      },
                      {
                        "bin_start": 466,
                        "bin_end": 582.5,
                        "count": 1
                      },
                      {
                        "bin_start": 582.5,
                        "bin_end": 699,
                        "count": 2
                      },
                      {
                        "bin_start": 699,
                        "bin_end": 815.5,
                        "count": 0
                      },
                      {
                        "bin_start": 815.5,
                        "bin_end": 932,
                        "count": 2
                      },
                      {
                        "bin_start": 932,
                        "bin_end": 1048.5,
                        "count": 0
                      },
                      {
                        "bin_start": 1048.5,
                        "bin_end": 1165,
                        "count": 1
                      }
                    ],
                    "categories": null
                  }
                },
                {
                  "name": "Pacific Islander (%)",
                  "dtype": "float64",
                  "stats": {
                    "unique_count": 35,
                    "nan_count": 0,
                    "min": "0.0",
                    "max": "6.5",
                    "histogram": [
                      {
                        "bin_start": 0,
                        "bin_end": 0.65,
                        "count": 830
                      },
                      {
                        "bin_start": 0.65,
                        "bin_end": 1.3,
                        "count": 68
                      },
                      {
                        "bin_start": 1.3,
                        "bin_end": 1.9500000000000002,
                        "count": 23
                      },
                      {
                        "bin_start": 1.9500000000000002,
                        "bin_end": 2.6,
                        "count": 3
                      },
                      {
                        "bin_start": 2.6,
                        "bin_end": 3.25,
                        "count": 4
                      },
                      {
                        "bin_start": 3.25,
                        "bin_end": 3.9000000000000004,
                        "count": 0
                      },
                      {
                        "bin_start": 3.9000000000000004,
                        "bin_end": 4.55,
                        "count": 1
                      },
                      {
                        "bin_start": 4.55,
                        "bin_end": 5.2,
                        "count": 2
                      },
                      {
                        "bin_start": 5.2,
                        "bin_end": 5.8500000000000005,
                        "count": 0
                      },
                      {
                        "bin_start": 5.8500000000000005,
                        "bin_end": 6.5,
                        "count": 1
                      }
                    ],
                    "categories": null
                  }
                },
                {
                  "name": "White",
                  "dtype": "float64",
                  "stats": {
                    "unique_count": 682,
                    "nan_count": 0,
                    "min": "0.0",
                    "max": "51734.0",
                    "histogram": [
                      {
                        "bin_start": 0,
                        "bin_end": 5173.4,
                        "count": 886
                      },
                      {
                        "bin_start": 5173.4,
                        "bin_end": 10346.8,
                        "count": 37
                      },
                      {
                        "bin_start": 10346.8,
                        "bin_end": 15520.199999999999,
                        "count": 5
                      },
                      {
                        "bin_start": 15520.199999999999,
                        "bin_end": 20693.6,
                        "count": 0
                      },
                      {
                        "bin_start": 20693.6,
                        "bin_end": 25867,
                        "count": 2
                      },
                      {
                        "bin_start": 25867,
                        "bin_end": 31040.399999999998,
                        "count": 1
                      },
                      {
                        "bin_start": 31040.399999999998,
                        "bin_end": 36213.799999999996,
                        "count": 0
                      },
                      {
                        "bin_start": 36213.799999999996,
                        "bin_end": 41387.2,
                        "count": 0
                      },
                      {
                        "bin_start": 41387.2,
                        "bin_end": 46560.6,
                        "count": 0
                      },
                      {
                        "bin_start": 46560.6,
                        "bin_end": 51734,
                        "count": 1
                      }
                    ],
                    "categories": null
                  }
                },
                {
                  "name": "White (%)",
                  "dtype": "float64",
                  "stats": {
                    "unique_count": 528,
                    "nan_count": 0,
                    "min": "0.0",
                    "max": "100.0",
                    "histogram": [
                      {
                        "bin_start": 0,
                        "bin_end": 10,
                        "count": 225
                      },
                      {
                        "bin_start": 10,
                        "bin_end": 20,
                        "count": 120
                      },
                      {
                        "bin_start": 20,
                        "bin_end": 30,
                        "count": 97
                      },
                      {
                        "bin_start": 30,
                        "bin_end": 40,
                        "count": 110
                      },
                      {
                        "bin_start": 40,
                        "bin_end": 50,
                        "count": 89
                      },
                      {
                        "bin_start": 50,
                        "bin_end": 60,
                        "count": 103
                      },
                      {
                        "bin_start": 60,
                        "bin_end": 70,
                        "count": 92
                      },
                      {
                        "bin_start": 70,
                        "bin_end": 80,
                        "count": 78
                      },
                      {
                        "bin_start": 80,
                        "bin_end": 90,
                        "count": 13
                      },
                      {
                        "bin_start": 90,
                        "bin_end": 100,
                        "count": 5
                      }
                    ],
                    "categories": null
                  }
                },
                {
                  "name": "Two or More Races",
                  "dtype": "float64",
                  "stats": {
                    "unique_count": 413,
                    "nan_count": 0,
                    "min": "0.0",
                    "max": "10409.0",
                    "histogram": [
                      {
                        "bin_start": 0,
                        "bin_end": 1040.9,
                        "count": 880
                      },
                      {
                        "bin_start": 1040.9,
                        "bin_end": 2081.8,
                        "count": 35
                      },
                      {
                        "bin_start": 2081.8,
                        "bin_end": 3122.7000000000003,
                        "count": 7
                      },
                      {
                        "bin_start": 3122.7000000000003,
                        "bin_end": 4163.6,
                        "count": 7
                      },
                      {
                        "bin_start": 4163.6,
                        "bin_end": 5204.5,
                        "count": 0
                      },
                      {
                        "bin_start": 5204.5,
                        "bin_end": 6245.400000000001,
                        "count": 1
                      },
                      {
                        "bin_start": 6245.400000000001,
                        "bin_end": 7286.300000000001,
                        "count": 0
                      },
                      {
                        "bin_start": 7286.300000000001,
                        "bin_end": 8327.2,
                        "count": 0
                      },
                      {
                        "bin_start": 8327.2,
                        "bin_end": 9368.1,
                        "count": 0
                      },
                      {
                        "bin_start": 9368.1,
                        "bin_end": 10409,
                        "count": 2
                      }
                    ],
                    "categories": null
                  }
                },
                {
                  "name": "Two or More Races (%)",
                  "dtype": "float64",
                  "stats": {
                    "unique_count": 163,
                    "nan_count": 0,
                    "min": "0.0",
                    "max": "25.0",
                    "histogram": [
                      {
                        "bin_start": 0,
                        "bin_end": 2.5,
                        "count": 312
                      },
                      {
                        "bin_start": 2.5,
                        "bin_end": 5,
                        "count": 193
                      },
                      {
                        "bin_start": 5,
                        "bin_end": 7.5,
                        "count": 193
                      },
                      {
                        "bin_start": 7.5,
                        "bin_end": 10,
                        "count": 105
                      },
                      {
                        "bin_start": 10,
                        "bin_end": 12.5,
                        "count": 70
                      },
                      {
                        "bin_start": 12.5,
                        "bin_end": 15,
                        "count": 26
                      },
                      {
                        "bin_start": 15,
                        "bin_end": 17.5,
                        "count": 21
                      },
                      {
                        "bin_start": 17.5,
                        "bin_end": 20,
                        "count": 6
                      },
                      {
                        "bin_start": 20,
                        "bin_end": 22.5,
                        "count": 4
                      },
                      {
                        "bin_start": 22.5,
                        "bin_end": 25,
                        "count": 2
                      }
                    ],
                    "categories": null
                  }
                },
                {
                  "name": "Not Reported",
                  "dtype": "float64",
                  "stats": {
                    "unique_count": 204,
                    "nan_count": 0,
                    "min": "0.0",
                    "max": "9698.0",
                    "histogram": [
                      {
                        "bin_start": 0,
                        "bin_end": 969.8,
                        "count": 927
                      },
                      {
                        "bin_start": 969.8,
                        "bin_end": 1939.6,
                        "count": 3
                      },
                      {
                        "bin_start": 1939.6,
                        "bin_end": 2909.3999999999996,
                        "count": 1
                      },
                      {
                        "bin_start": 2909.3999999999996,
                        "bin_end": 3879.2,
                        "count": 0
                      },
                      {
                        "bin_start": 3879.2,
                        "bin_end": 4849,
                        "count": 0
                      },
                      {
                        "bin_start": 4849,
                        "bin_end": 5818.799999999999,
                        "count": 0
                      },
                      {
                        "bin_start": 5818.799999999999,
                        "bin_end": 6788.599999999999,
                        "count": 0
                      },
                      {
                        "bin_start": 6788.599999999999,
                        "bin_end": 7758.4,
                        "count": 0
                      },
                      {
                        "bin_start": 7758.4,
                        "bin_end": 8728.199999999999,
                        "count": 0
                      },
                      {
                        "bin_start": 8728.199999999999,
                        "bin_end": 9698,
                        "count": 1
                      }
                    ],
                    "categories": null
                  }
                },
                {
                  "name": "Not Reported (%)",
                  "dtype": "float64",
                  "stats": {
                    "unique_count": 89,
                    "nan_count": 0,
                    "min": "0.0",
                    "max": "76.3",
                    "histogram": [
                      {
                        "bin_start": 0,
                        "bin_end": 7.63,
                        "count": 913
                      },
                      {
                        "bin_start": 7.63,
                        "bin_end": 15.26,
                        "count": 15
                      },
                      {
                        "bin_start": 15.26,
                        "bin_end": 22.89,
                        "count": 1
                      },
                      {
                        "bin_start": 22.89,
                        "bin_end": 30.52,
                        "count": 1
                      },
                      {
                        "bin_start": 30.52,
                        "bin_end": 38.15,
                        "count": 1
                      },
                      {
                        "bin_start": 38.15,
                        "bin_end": 45.78,
                        "count": 0
                      },
                      {
                        "bin_start": 45.78,
                        "bin_end": 53.41,
                        "count": 0
                      },
                      {
                        "bin_start": 53.41,
                        "bin_end": 61.04,
                        "count": 0
                      },
                      {
                        "bin_start": 61.04,
                        "bin_end": 68.67,
                        "count": 0
                      },
                      {
                        "bin_start": 68.67,
                        "bin_end": 76.3,
                        "count": 1
                      }
                    ],
                    "categories": null
                  }
                },
                {
                  "name": "English Learner",
                  "dtype": "float64",
                  "stats": {
                    "unique_count": 589,
                    "nan_count": 0,
                    "min": "0.0",
                    "max": "106318.0",
                    "histogram": [
                      {
                        "bin_start": 0,
                        "bin_end": 10631.8,
                        "count": 923
                      },
                      {
                        "bin_start": 10631.8,
                        "bin_end": 21263.6,
                        "count": 8
                      },
                      {
                        "bin_start": 21263.6,
                        "bin_end": 31895.399999999998,
                        "count": 0
                      },
                      {
                        "bin_start": 31895.399999999998,
                        "bin_end": 42527.2,
                        "count": 0
                      },
                      {
                        "bin_start": 42527.2,
                        "bin_end": 53159,
                        "count": 0
                      },
                      {
                        "bin_start": 53159,
                        "bin_end": 63790.799999999996,
                        "count": 0
                      },
                      {
                        "bin_start": 63790.799999999996,
                        "bin_end": 74422.59999999999,
                        "count": 0
                      },
                      {
                        "bin_start": 74422.59999999999,
                        "bin_end": 85054.4,
                        "count": 0
                      },
                      {
                        "bin_start": 85054.4,
                        "bin_end": 95686.2,
                        "count": 0
                      },
                      {
                        "bin_start": 95686.2,
                        "bin_end": 106318,
                        "count": 1
                      }
                    ],
                    "categories": null
                  }
                },
                {
                  "name": "English Learner (%)",
                  "dtype": "float64",
                  "stats": {
                    "unique_count": 388,
                    "nan_count": 0,
                    "min": "0.0",
                    "max": "75.0",
                    "histogram": [
                      {
                        "bin_start": 0,
                        "bin_end": 7.5,
                        "count": 309
                      },
                      {
                        "bin_start": 7.5,
                        "bin_end": 15,
                        "count": 208
                      },
                      {
                        "bin_start": 15,
                        "bin_end": 22.5,
                        "count": 153
                      },
                      {
                        "bin_start": 22.5,
                        "bin_end": 30,
                        "count": 107
                      },
                      {
                        "bin_start": 30,
                        "bin_end": 37.5,
                        "count": 55
                      },
                      {
                        "bin_start": 37.5,
                        "bin_end": 45,
                        "count": 39
                      },
                      {
                        "bin_start": 45,
                        "bin_end": 52.5,
                        "count": 26
                      },
                      {
                        "bin_start": 52.5,
                        "bin_end": 60,
                        "count": 26
                      },
                      {
                        "bin_start": 60,
                        "bin_end": 67.5,
                        "count": 6
                      },
                      {
                        "bin_start": 67.5,
                        "bin_end": 75,
                        "count": 3
                      }
                    ],
                    "categories": null
                  }
                },
                {
                  "name": "Foster",
                  "dtype": "float64",
                  "stats": {
                    "unique_count": 145,
                    "nan_count": 0,
                    "min": "0.0",
                    "max": "3227.0",
                    "histogram": [
                      {
                        "bin_start": 0,
                        "bin_end": 322.7,
                        "count": 924
                      },
                      {
                        "bin_start": 322.7,
                        "bin_end": 645.4,
                        "count": 6
                      },
                      {
                        "bin_start": 645.4,
                        "bin_end": 968.0999999999999,
                        "count": 1
                      },
                      {
                        "bin_start": 968.0999999999999,
                        "bin_end": 1290.8,
                        "count": 0
                      },
                      {
                        "bin_start": 1290.8,
                        "bin_end": 1613.5,
                        "count": 0
                      },
                      {
                        "bin_start": 1613.5,
                        "bin_end": 1936.1999999999998,
                        "count": 0
                      },
                      {
                        "bin_start": 1936.1999999999998,
                        "bin_end": 2258.9,
                        "count": 0
                      },
                      {
                        "bin_start": 2258.9,
                        "bin_end": 2581.6,
                        "count": 0
                      },
                      {
                        "bin_start": 2581.6,
                        "bin_end": 2904.2999999999997,
                        "count": 0
                      },
                      {
                        "bin_start": 2904.2999999999997,
                        "bin_end": 3227,
                        "count": 1
                      }
                    ],
                    "categories": null
                  }
                },
                {
                  "name": "Foster (%)",
                  "dtype": "float64",
                  "stats": {
                    "unique_count": 46,
                    "nan_count": 0,
                    "min": "0.0",
                    "max": "30.0",
                    "histogram": [
                      {
                        "bin_start": 0,
                        "bin_end": 3,
                        "count": 917
                      },
                      {
                        "bin_start": 3,
                        "bin_end": 6,
                        "count": 11
                      },
                      {
                        "bin_start": 6,
                        "bin_end": 9,
                        "count": 2
                      },
                      {
                        "bin_start": 9,
                        "bin_end": 12,
                        "count": 0
                      },
                      {
                        "bin_start": 12,
                        "bin_end": 15,
                        "count": 0
                      },
                      {
                        "bin_start": 15,
                        "bin_end": 18,
                        "count": 1
                      },
                      {
                        "bin_start": 18,
                        "bin_end": 21,
                        "count": 0
                      },
                      {
                        "bin_start": 21,
                        "bin_end": 24,
                        "count": 0
                      },
                      {
                        "bin_start": 24,
                        "bin_end": 27,
                        "count": 0
                      },
                      {
                        "bin_start": 27,
                        "bin_end": 30,
                        "count": 1
                      }
                    ],
                    "categories": null
                  }
                },
                {
                  "name": "Homeless",
                  "dtype": "float64",
                  "stats": {
                    "unique_count": 340,
                    "nan_count": 0,
                    "min": "0.0",
                    "max": "11310.0",
                    "histogram": [
                      {
                        "bin_start": 0,
                        "bin_end": 1131,
                        "count": 892
                      },
                      {
                        "bin_start": 1131,
                        "bin_end": 2262,
                        "count": 26
                      },
                      {
                        "bin_start": 2262,
                        "bin_end": 3393,
                        "count": 6
                      },
                      {
                        "bin_start": 3393,
                        "bin_end": 4524,
                        "count": 4
                      },
                      {
                        "bin_start": 4524,
                        "bin_end": 5655,
                        "count": 1
                      },
                      {
                        "bin_start": 5655,
                        "bin_end": 6786,
                        "count": 1
                      },
                      {
                        "bin_start": 6786,
                        "bin_end": 7917,
                        "count": 1
                      },
                      {
                        "bin_start": 7917,
                        "bin_end": 9048,
                        "count": 0
                      },
                      {
                        "bin_start": 9048,
                        "bin_end": 10179,
                        "count": 0
                      },
                      {
                        "bin_start": 10179,
                        "bin_end": 11310,
                        "count": 1
                      }
                    ],
                    "categories": null
                  }
                },
                {
                  "name": "Homeless (%)",
                  "dtype": "float64",
                  "stats": {
                    "unique_count": 161,
                    "nan_count": 0,
                    "min": "0.0",
                    "max": "40.8",
                    "histogram": [
                      {
                        "bin_start": 0,
                        "bin_end": 4.08,
                        "count": 649
                      },
                      {
                        "bin_start": 4.08,
                        "bin_end": 8.16,
                        "count": 171
                      },
                      {
                        "bin_start": 8.16,
                        "bin_end": 12.24,
                        "count": 62
                      },
                      {
                        "bin_start": 12.24,
                        "bin_end": 16.32,
                        "count": 17
                      },
                      {
                        "bin_start": 16.32,
                        "bin_end": 20.4,
                        "count": 10
                      },
                      {
                        "bin_start": 20.4,
                        "bin_end": 24.48,
                        "count": 13
                      },
                      {
                        "bin_start": 24.48,
                        "bin_end": 28.560000000000002,
                        "count": 6
                      },
                      {
                        "bin_start": 28.560000000000002,
                        "bin_end": 32.64,
                        "count": 1
                      },
                      {
                        "bin_start": 32.64,
                        "bin_end": 36.72,
                        "count": 0
                      },
                      {
                        "bin_start": 36.72,
                        "bin_end": 40.8,
                        "count": 3
                      }
                    ],
                    "categories": null
                  }
                },
                {
                  "name": "Migrant",
                  "dtype": "float64",
                  "stats": {
                    "unique_count": 184,
                    "nan_count": 0,
                    "min": "0.0",
                    "max": "1493.0",
                    "histogram": [
                      {
                        "bin_start": 0,
                        "bin_end": 149.3,
                        "count": 847
                      },
                      {
                        "bin_start": 149.3,
                        "bin_end": 298.6,
                        "count": 44
                      },
                      {
                        "bin_start": 298.6,
                        "bin_end": 447.90000000000003,
                        "count": 21
                      },
                      {
                        "bin_start": 447.90000000000003,
                        "bin_end": 597.2,
                        "count": 4
                      },
                      {
                        "bin_start": 597.2,
                        "bin_end": 746.5,
                        "count": 6
                      },
                      {
                        "bin_start": 746.5,
                        "bin_end": 895.8000000000001,
                        "count": 0
                      },
                      {
                        "bin_start": 895.8000000000001,
                        "bin_end": 1045.1000000000001,
                        "count": 4
                      },
                      {
                        "bin_start": 1045.1000000000001,
                        "bin_end": 1194.4,
                        "count": 2
                      },
                      {
                        "bin_start": 1194.4,
                        "bin_end": 1343.7,
                        "count": 2
                      },
                      {
                        "bin_start": 1343.7,
                        "bin_end": 1493,
                        "count": 2
                      }
                    ],
                    "categories": null
                  }
                },
                {
                  "name": "Migrant (%)",
                  "dtype": "float64",
                  "stats": {
                    "unique_count": 112,
                    "nan_count": 0,
                    "min": "0.0",
                    "max": "49.4",
                    "histogram": [
                      {
                        "bin_start": 0,
                        "bin_end": 4.9399999999999995,
                        "count": 847
                      },
                      {
                        "bin_start": 4.9399999999999995,
                        "bin_end": 9.879999999999999,
                        "count": 46
                      },
                      {
                        "bin_start": 9.879999999999999,
                        "bin_end": 14.819999999999999,
                        "count": 26
                      },
                      {
                        "bin_start": 14.819999999999999,
                        "bin_end": 19.759999999999998,
                        "count": 5
                      },
                      {
                        "bin_start": 19.759999999999998,
                        "bin_end": 24.699999999999996,
                        "count": 4
                      },
                      {
                        "bin_start": 24.699999999999996,
                        "bin_end": 29.639999999999997,
                        "count": 3
                      },
                      {
                        "bin_start": 29.639999999999997,
                        "bin_end": 34.58,
                        "count": 0
                      },
                      {
                        "bin_start": 34.58,
                        "bin_end": 39.519999999999996,
                        "count": 0
                      },
                      {
                        "bin_start": 39.519999999999996,
                        "bin_end": 44.459999999999994,
                        "count": 0
                      },
                      {
                        "bin_start": 44.459999999999994,
                        "bin_end": 49.4,
                        "count": 1
                      }
                    ],
                    "categories": null
                  }
                },
                {
                  "name": "Students with Disabilities",
                  "dtype": "float64",
                  "stats": {
                    "unique_count": 598,
                    "nan_count": 0,
                    "min": "0.0",
                    "max": "78491.0",
                    "histogram": [
                      {
                        "bin_start": 0,
                        "bin_end": 7849.1,
                        "count": 927
                      },
                      {
                        "bin_start": 7849.1,
                        "bin_end": 15698.2,
                        "count": 3
                      },
                      {
                        "bin_start": 15698.2,
                        "bin_end": 23547.300000000003,
                        "count": 1
                      },
                      {
                        "bin_start": 23547.300000000003,
                        "bin_end": 31396.4,
                        "count": 0
                      },
                      {
                        "bin_start": 31396.4,
                        "bin_end": 39245.5,
                        "count": 0
                      },
                      {
                        "bin_start": 39245.5,
                        "bin_end": 47094.600000000006,
                        "count": 0
                      },
                      {
                        "bin_start": 47094.600000000006,
                        "bin_end": 54943.700000000004,
                        "count": 0
                      },
                      {
                        "bin_start": 54943.700000000004,
                        "bin_end": 62792.8,
                        "count": 0
                      },
                      {
                        "bin_start": 62792.8,
                        "bin_end": 70641.90000000001,
                        "count": 0
                      },
                      {
                        "bin_start": 70641.90000000001,
                        "bin_end": 78491,
                        "count": 1
                      }
                    ],
                    "categories": null
                  }
                },
                {
                  "name": "Students with Disabilities (%)",
                  "dtype": "float64",
                  "stats": {
                    "unique_count": 180,
                    "nan_count": 0,
                    "min": "0.0",
                    "max": "66.7",
                    "histogram": [
                      {
                        "bin_start": 0,
                        "bin_end": 6.67,
                        "count": 43
                      },
                      {
                        "bin_start": 6.67,
                        "bin_end": 13.34,
                        "count": 463
                      },
                      {
                        "bin_start": 13.34,
                        "bin_end": 20.009999999999998,
                        "count": 398
                      },
                      {
                        "bin_start": 20.009999999999998,
                        "bin_end": 26.68,
                        "count": 18
                      },
                      {
                        "bin_start": 26.68,
                        "bin_end": 33.35,
                        "count": 7
                      },
                      {
                        "bin_start": 33.35,
                        "bin_end": 40.019999999999996,
                        "count": 1
                      },
                      {
                        "bin_start": 40.019999999999996,
                        "bin_end": 46.69,
                        "count": 1
                      },
                      {
                        "bin_start": 46.69,
                        "bin_end": 53.36,
                        "count": 0
                      },
                      {
                        "bin_start": 53.36,
                        "bin_end": 60.03,
                        "count": 0
                      },
                      {
                        "bin_start": 60.03,
                        "bin_end": 66.7,
                        "count": 1
                      }
                    ],
                    "categories": null
                  }
                },
                {
                  "name": "Socioeconomically Disadvantaged",
                  "dtype": "float64",
                  "stats": {
                    "unique_count": 783,
                    "nan_count": 0,
                    "min": "1.0",
                    "max": "430741.0",
                    "histogram": [
                      {
                        "bin_start": 1,
                        "bin_end": 43075,
                        "count": 928
                      },
                      {
                        "bin_start": 43075,
                        "bin_end": 86149,
                        "count": 3
                      },
                      {
                        "bin_start": 86149,
                        "bin_end": 129223,
                        "count": 0
                      },
                      {
                        "bin_start": 129223,
                        "bin_end": 172297,
                        "count": 0
                      },
                      {
                        "bin_start": 172297,
                        "bin_end": 215371,
                        "count": 0
                      },
                      {
                        "bin_start": 215371,
                        "bin_end": 258445,
                        "count": 0
                      },
                      {
                        "bin_start": 258445,
                        "bin_end": 301519,
                        "count": 0
                      },
                      {
                        "bin_start": 301519,
                        "bin_end": 344593,
                        "count": 0
                      },
                      {
                        "bin_start": 344593,
                        "bin_end": 387667,
                        "count": 0
                      },
                      {
                        "bin_start": 387667,
                        "bin_end": 430741,
                        "count": 1
                      }
                    ],
                    "categories": null
                  }
                },
                {
                  "name": "Socioeconomically Disadvantaged (%)",
                  "dtype": "float64",
                  "stats": {
                    "unique_count": 558,
                    "nan_count": 0,
                    "min": "0.8",
                    "max": "100.0",
                    "histogram": [
                      {
                        "bin_start": 0.8,
                        "bin_end": 10.72,
                        "count": 35
                      },
                      {
                        "bin_start": 10.72,
                        "bin_end": 20.64,
                        "count": 44
                      },
                      {
                        "bin_start": 20.64,
                        "bin_end": 30.56,
                        "count": 56
                      },
                      {
                        "bin_start": 30.56,
                        "bin_end": 40.48,
                        "count": 91
                      },
                      {
                        "bin_start": 40.48,
                        "bin_end": 50.4,
                        "count": 104
                      },
                      {
                        "bin_start": 50.4,
                        "bin_end": 60.31999999999999,
                        "count": 118
                      },
                      {
                        "bin_start": 60.31999999999999,
                        "bin_end": 70.24,
                        "count": 142
                      },
                      {
                        "bin_start": 70.24,
                        "bin_end": 80.16,
                        "count": 133
                      },
                      {
                        "bin_start": 80.16,
                        "bin_end": 90.08,
                        "count": 138
                      },
                      {
                        "bin_start": 90.08,
                        "bin_end": 100,
                        "count": 71
                      }
                    ],
                    "categories": null
                  }
                },
                {
                  "name": "District Label",
                  "dtype": "object",
                  "stats": {
                    "unique_count": 932,
                    "nan_count": 0,
                    "min": null,
                    "max": null,
                    "histogram": null,
                    "categories": [
                      {
                        "name": "Alameda Unified (Alameda)",
                        "count": 1
                      },
                      {
                        "name": "Albany City Unified (Alameda)",
                        "count": 1
                      },
                      {
                        "name": "930 others",
                        "count": 930
                      }
                    ]
                  }
                },
                {
                  "name": "District Name",
                  "dtype": "object",
                  "stats": {
                    "unique_count": 918,
                    "nan_count": 0,
                    "min": null,
                    "max": null,
                    "histogram": null,
                    "categories": [
                      {
                        "name": "Pioneer Union Elementary",
                        "count": 3
                      },
                      {
                        "name": "Lakeside Union Elementary",
                        "count": 3
                      },
                      {
                        "name": "916 others",
                        "count": 926
                      }
                    ]
                  }
                },
                {
                  "name": "EDP 365",
                  "dtype": "float64",
                  "stats": {
                    "unique_count": 932,
                    "nan_count": 0,
                    "min": "258083.03",
                    "max": "10313151939.89",
                    "histogram": [
                      {
                        "bin_start": 258083.03,
                        "bin_end": 1031547468.7159998,
                        "count": 926
                      },
                      {
                        "bin_start": 1031547468.7159998,
                        "bin_end": 2062836854.4019997,
                        "count": 5
                      },
                      {
                        "bin_start": 2062836854.4019997,
                        "bin_end": 3094126240.088,
                        "count": 0
                      },
                      {
                        "bin_start": 3094126240.088,
                        "bin_end": 4125415625.7739997,
                        "count": 0
                      },
                      {
                        "bin_start": 4125415625.7739997,
                        "bin_end": 5156705011.459999,
                        "count": 0
                      },
                      {
                        "bin_start": 5156705011.459999,
                        "bin_end": 6187994397.145999,
                        "count": 0
                      },
                      {
                        "bin_start": 6187994397.145999,
                        "bin_end": 7219283782.831999,
                        "count": 0
                      },
                      {
                        "bin_start": 7219283782.831999,
                        "bin_end": 8250573168.517999,
                        "count": 0
                      },
                      {
                        "bin_start": 8250573168.517999,
                        "bin_end": 9281862554.204,
                        "count": 0
                      },
                      {
                        "bin_start": 9281862554.204,
                        "bin_end": 10313151939.89,
                        "count": 1
                      }
                    ],
                    "categories": null
                  }
                },
                {
                  "name": "Expense ADA",
                  "dtype": "float64",
                  "stats": {
                    "unique_count": 932,
                    "nan_count": 0,
                    "min": "2.83",
                    "max": "380925.11",
                    "histogram": [
                      {
                        "bin_start": 2.83,
                        "bin_end": 38095.058,
                        "count": 921
                      },
                      {
                        "bin_start": 38095.058,
                        "bin_end": 76187.286,
                        "count": 9
                      },
                      {
                        "bin_start": 76187.286,
                        "bin_end": 114279.51399999998,
                        "count": 1
                      },
                      {
                        "bin_start": 114279.51399999998,
                        "bin_end": 152371.74199999997,
                        "count": 0
                      },
                      {
                        "bin_start": 152371.74199999997,
                        "bin_end": 190463.96999999997,
                        "count": 0
                      },
                      {
                        "bin_start": 190463.96999999997,
                        "bin_end": 228556.19799999995,
                        "count": 0
                      },
                      {
                        "bin_start": 228556.19799999995,
                        "bin_end": 266648.426,
                        "count": 0
                      },
                      {
                        "bin_start": 266648.426,
                        "bin_end": 304740.654,
                        "count": 0
                      },
                      {
                        "bin_start": 304740.654,
                        "bin_end": 342832.882,
                        "count": 0
                      },
                      {
                        "bin_start": 342832.882,
                        "bin_end": 380925.11,
                        "count": 1
                      }
                    ],
                    "categories": null
                  }
                },
                {
                  "name": "Expense per ADA",
                  "dtype": "float64",
                  "stats": {
                    "unique_count": 931,
                    "nan_count": 0,
                    "min": "9951.74",
                    "max": "139026.73",
                    "histogram": [
                      {
                        "bin_start": 9951.74,
                        "bin_end": 22859.239,
                        "count": 691
                      },
                      {
                        "bin_start": 22859.239,
                        "bin_end": 35766.738,
                        "count": 191
                      },
                      {
                        "bin_start": 35766.738,
                        "bin_end": 48674.237,
                        "count": 28
                      },
                      {
                        "bin_start": 48674.237,
                        "bin_end": 61581.736,
                        "count": 8
                      },
                      {
                        "bin_start": 61581.736,
                        "bin_end": 74489.235,
                        "count": 2
                      },
                      {
                        "bin_start": 74489.235,
                        "bin_end": 87396.73400000001,
                        "count": 4
                      },
                      {
                        "bin_start": 87396.73400000001,
                        "bin_end": 100304.23300000001,
                        "count": 3
                      },
                      {
                        "bin_start": 100304.23300000001,
                        "bin_end": 113211.732,
                        "count": 3
                      },
                      {
                        "bin_start": 113211.732,
                        "bin_end": 126119.231,
                        "count": 1
                      },
                      {
                        "bin_start": 126119.231,
                        "bin_end": 139026.73,
                        "count": 1
                      }
                    ],
                    "categories": null
                  }
                },
                {
                  "name": "LEA Type",
                  "dtype": "object",
                  "stats": {
                    "unique_count": 4,
                    "nan_count": 0,
                    "min": null,
                    "max": null,
                    "histogram": null,
                    "categories": [
                      {
                        "name": "Elementary",
                        "count": 511
                      },
                      {
                        "name": "Unified",
                        "count": 345
                      },
                      {
                        "name": "2 others",
                        "count": 76
                      }
                    ]
                  }
                },
                {
                  "name": "Decimal Difference",
                  "dtype": "float64",
                  "stats": {
                    "unique_count": 931,
                    "nan_count": 0,
                    "min": "0.0015022533800701",
                    "max": "85.56417112299465",
                    "histogram": [
                      {
                        "bin_start": 0.0015022533800701,
                        "bin_end": 8.557769140341527,
                        "count": 914
                      },
                      {
                        "bin_start": 8.557769140341527,
                        "bin_end": 17.114036027302987,
                        "count": 11
                      },
                      {
                        "bin_start": 17.114036027302987,
                        "bin_end": 25.670302914264443,
                        "count": 1
                      },
                      {
                        "bin_start": 25.670302914264443,
                        "bin_end": 34.2265698012259,
                        "count": 1
                      },
                      {
                        "bin_start": 34.2265698012259,
                        "bin_end": 42.78283668818736,
                        "count": 1
                      },
                      {
                        "bin_start": 42.78283668818736,
                        "bin_end": 51.33910357514881,
                        "count": 2
                      },
                      {
                        "bin_start": 51.33910357514881,
                        "bin_end": 59.89537046211027,
                        "count": 0
                      },
                      {
                        "bin_start": 59.89537046211027,
                        "bin_end": 68.45163734907173,
                        "count": 0
                      },
                      {
                        "bin_start": 68.45163734907173,
                        "bin_end": 77.00790423603318,
                        "count": 1
                      },
                      {
                        "bin_start": 77.00790423603318,
                        "bin_end": 85.56417112299465,
                        "count": 1
                      }
                    ],
                    "categories": null
                  }
                },
                {
                  "name": "_deepnote_index_column",
                  "dtype": "int64"
                }
              ],
              "row_count": 932,
              "preview_row_count": 932,
              "rows": [
                {
                  "Fed ID": 601770,
                  "District Code": 61119,
                  "CDS Code": 1611190000000,
                  "County Name": "Alameda",
                  "District Type": "Unified",
                  "Grade Low": "KG",
                  "Grade High": 12,
                  "Grade Low Census": "KG",
                  "Grade High Census": 12,
                  "Assistance Status": "General Assistance",
                  "Locale": "Suburban",
                  "Enroll Total": 10557,
                  "Enroll Charter": 1496,
                  "Enroll Non Charter": 9061,
                  "African American": 748,
                  "African American (%)": 7.1,
                  "American Indian": 25,
                  "American Indian (%)": 0.2,
                  "Asian": 2610,
                  "Asian (%)": 24.7,
                  "Filipino": 484,
                  "Filipino (%)": 4.6,
                  "Hispanic": 1878,
                  "Hispanic (%)": 17.8,
                  "Pacific Islander": 52,
                  "Pacific Islander (%)": 0.5,
                  "White": 2844,
                  "White (%)": 26.9,
                  "Two or More Races": 1596,
                  "Two or More Races (%)": 15.1,
                  "Not Reported": 320,
                  "Not Reported (%)": 3,
                  "English Learner": 906,
                  "English Learner (%)": 8.6,
                  "Foster": 27,
                  "Foster (%)": 0.3,
                  "Homeless": 91,
                  "Homeless (%)": 0.9,
                  "Migrant": 0,
                  "Migrant (%)": 0,
                  "Students with Disabilities": 1286,
                  "Students with Disabilities (%)": 12.2,
                  "Socioeconomically Disadvantaged": 4035,
                  "Socioeconomically Disadvantaged (%)": 38.2,
                  "District Label": "Alameda Unified (Alameda)",
                  "District Name": "Alameda Unified",
                  "EDP 365": 155094777.67,
                  "Expense ADA": 8567.86,
                  "Expense per ADA": 18101.93,
                  "LEA Type": "Unified",
                  "Decimal Difference": 0.2321629905250551,
                  "_deepnote_index_column": 0
                },
                {
                  "Fed ID": 601860,
                  "District Code": 61127,
                  "CDS Code": 1611270000000,
                  "County Name": "Alameda",
                  "District Type": "Unified",
                  "Grade Low": "KG",
                  "Grade High": 12,
                  "Grade Low Census": "KG",
                  "Grade High Census": 12,
                  "Assistance Status": "General Assistance",
                  "Locale": "Suburban",
                  "Enroll Total": 3574,
                  "Enroll Charter": 0,
                  "Enroll Non Charter": 3574,
                  "African American": 152,
                  "African American (%)": 4.3,
                  "American Indian": 10,
                  "American Indian (%)": 0.3,
                  "Asian": 1130,
                  "Asian (%)": 31.6,
                  "Filipino": 51,
                  "Filipino (%)": 1.4,
                  "Hispanic": 616,
                  "Hispanic (%)": 17.2,
                  "Pacific Islander": 4,
                  "Pacific Islander (%)": 0.1,
                  "White": 923,
                  "White (%)": 25.8,
                  "Two or More Races": 483,
                  "Two or More Races (%)": 13.5,
                  "Not Reported": 205,
                  "Not Reported (%)": 5.7,
                  "English Learner": 456,
                  "English Learner (%)": 12.8,
                  "Foster": 1,
                  "Foster (%)": 0,
                  "Homeless": 24,
                  "Homeless (%)": 0.7,
                  "Migrant": 0,
                  "Migrant (%)": 0,
                  "Students with Disabilities": 320,
                  "Students with Disabilities (%)": 9,
                  "Socioeconomically Disadvantaged": 1122,
                  "Socioeconomically Disadvantaged (%)": 31.4,
                  "District Label": "Albany City Unified (Alameda)",
                  "District Name": "Albany City Unified",
                  "EDP 365": 61490895.29,
                  "Expense ADA": 3435.41,
                  "Expense per ADA": 17899.14,
                  "LEA Type": "Unified",
                  "Decimal Difference": 0.0403416186132077,
                  "_deepnote_index_column": 1
                },
                {
                  "Fed ID": 604740,
                  "District Code": 61143,
                  "CDS Code": 1611430000000,
                  "County Name": "Alameda",
                  "District Type": "Unified",
                  "Grade Low": "KG",
                  "Grade High": 12,
                  "Grade Low Census": "KG",
                  "Grade High Census": 12,
                  "Assistance Status": "General Assistance",
                  "Locale": "City",
                  "Enroll Total": 9077,
                  "Enroll Charter": 0,
                  "Enroll Non Charter": 9077,
                  "African American": 1052,
                  "African American (%)": 11.6,
                  "American Indian": 21,
                  "American Indian (%)": 0.2,
                  "Asian": 736,
                  "Asian (%)": 8.1,
                  "Filipino": 73,
                  "Filipino (%)": 0.8,
                  "Hispanic": 2045,
                  "Hispanic (%)": 22.5,
                  "Pacific Islander": 16,
                  "Pacific Islander (%)": 0.2,
                  "White": 3733,
                  "White (%)": 41.1,
                  "Two or More Races": 1392,
                  "Two or More Races (%)": 15.3,
                  "Not Reported": 9,
                  "Not Reported (%)": 0.1,
                  "English Learner": 594,
                  "English Learner (%)": 6.5,
                  "Foster": 32,
                  "Foster (%)": 0.4,
                  "Homeless": 150,
                  "Homeless (%)": 1.7,
                  "Migrant": 0,
                  "Migrant (%)": 0,
                  "Students with Disabilities": 1092,
                  "Students with Disabilities (%)": 12,
                  "Socioeconomically Disadvantaged": 2508,
                  "Socioeconomically Disadvantaged (%)": 27.6,
                  "District Label": "Berkeley Unified (Alameda)",
                  "District Name": "Berkeley Unified",
                  "EDP 365": 220550807.98,
                  "Expense ADA": 8572.17,
                  "Expense per ADA": 25728.7,
                  "LEA Type": "Unified",
                  "Decimal Difference": 0.0588917391978927,
                  "_deepnote_index_column": 2
                },
                {
                  "Fed ID": 607800,
                  "District Code": 61150,
                  "CDS Code": 1611500000000,
                  "County Name": "Alameda",
                  "District Type": "Unified",
                  "Grade Low": "KG",
                  "Grade High": 12,
                  "Grade Low Census": "KG",
                  "Grade High Census": 12,
                  "Assistance Status": "General Assistance",
                  "Locale": "Suburban",
                  "Enroll Total": 9489,
                  "Enroll Charter": 0,
                  "Enroll Non Charter": 9489,
                  "African American": 406,
                  "African American (%)": 4.3,
                  "American Indian": 7,
                  "American Indian (%)": 0.1,
                  "Asian": 3119,
                  "Asian (%)": 32.9,
                  "Filipino": 423,
                  "Filipino (%)": 4.5,
                  "Hispanic": 2331,
                  "Hispanic (%)": 24.6,
                  "Pacific Islander": 40,
                  "Pacific Islander (%)": 0.4,
                  "White": 1862,
                  "White (%)": 19.6,
                  "Two or More Races": 974,
                  "Two or More Races (%)": 10.3,
                  "Not Reported": 327,
                  "Not Reported (%)": 3.4,
                  "English Learner": 1266,
                  "English Learner (%)": 13.3,
                  "Foster": 5,
                  "Foster (%)": 0.1,
                  "Homeless": 135,
                  "Homeless (%)": 1.4,
                  "Migrant": 0,
                  "Migrant (%)": 0,
                  "Students with Disabilities": 1048,
                  "Students with Disabilities (%)": 11,
                  "Socioeconomically Disadvantaged": 3686,
                  "Socioeconomically Disadvantaged (%)": 38.8,
                  "District Label": "Castro Valley Unified (Alameda)",
                  "District Name": "Castro Valley Unified",
                  "EDP 365": 142491340.82,
                  "Expense ADA": 8991.52,
                  "Expense per ADA": 15847.3,
                  "LEA Type": "Unified",
                  "Decimal Difference": 0.0553276865313094,
                  "_deepnote_index_column": 3
                },
                {
                  "Fed ID": 612630,
                  "District Code": 61168,
                  "CDS Code": 1611680000000,
                  "County Name": "Alameda",
                  "District Type": "Unified",
                  "Grade Low": "KG",
                  "Grade High": 12,
                  "Grade Low Census": "KG",
                  "Grade High Census": 12,
                  "Assistance Status": "General Assistance",
                  "Locale": "Suburban",
                  "Enroll Total": 600,
                  "Enroll Charter": 0,
                  "Enroll Non Charter": 600,
                  "African American": 265,
                  "African American (%)": 44.2,
                  "American Indian": 0,
                  "American Indian (%)": 0,
                  "Asian": 56,
                  "Asian (%)": 9.3,
                  "Filipino": 5,
                  "Filipino (%)": 0.8,
                  "Hispanic": 126,
                  "Hispanic (%)": 21,
                  "Pacific Islander": 4,
                  "Pacific Islander (%)": 0.7,
                  "White": 76,
                  "White (%)": 12.7,
                  "Two or More Races": 56,
                  "Two or More Races (%)": 9.3,
                  "Not Reported": 12,
                  "Not Reported (%)": 2,
                  "English Learner": 98,
                  "English Learner (%)": 16.3,
                  "Foster": 1,
                  "Foster (%)": 0.2,
                  "Homeless": 13,
                  "Homeless (%)": 2.2,
                  "Migrant": 0,
                  "Migrant (%)": 0,
                  "Students with Disabilities": 75,
                  "Students with Disabilities (%)": 12.5,
                  "Socioeconomically Disadvantaged": 327,
                  "Socioeconomically Disadvantaged (%)": 54.5,
                  "District Label": "Emery Unified (Alameda)",
                  "District Name": "Emery Unified",
                  "EDP 365": 15862999.59,
                  "Expense ADA": 554.7,
                  "Expense per ADA": 28597.44,
                  "LEA Type": "Unified",
                  "Decimal Difference": 0.0816657652785288,
                  "_deepnote_index_column": 4
                },
                {
                  "Fed ID": 614400,
                  "District Code": 61176,
                  "CDS Code": 1611760000000,
                  "County Name": "Alameda",
                  "District Type": "Unified",
                  "Grade Low": "KG",
                  "Grade High": 12,
                  "Grade Low Census": "KG",
                  "Grade High Census": 12,
                  "Assistance Status": "Differentiated Assistance",
                  "Locale": "Suburban",
                  "Enroll Total": 33063,
                  "Enroll Charter": 402,
                  "Enroll Non Charter": 32661,
                  "African American": 588,
                  "African American (%)": 1.8,
                  "American Indian": 120,
                  "American Indian (%)": 0.4,
                  "Asian": 21565,
                  "Asian (%)": 65.2,
                  "Filipino": 1373,
                  "Filipino (%)": 4.2,
                  "Hispanic": 5327,
                  "Hispanic (%)": 16.1,
                  "Pacific Islander": 163,
                  "Pacific Islander (%)": 0.5,
                  "White": 2426,
                  "White (%)": 7.3,
                  "Two or More Races": 1150,
                  "Two or More Races (%)": 3.5,
                  "Not Reported": 351,
                  "Not Reported (%)": 1.1,
                  "English Learner": 5508,
                  "English Learner (%)": 16.7,
                  "Foster": 21,
                  "Foster (%)": 0.1,
                  "Homeless": 226,
                  "Homeless (%)": 0.7,
                  "Migrant": 46,
                  "Migrant (%)": 0.1,
                  "Students with Disabilities": 3323,
                  "Students with Disabilities (%)": 10.1,
                  "Socioeconomically Disadvantaged": 8297,
                  "Socioeconomically Disadvantaged (%)": 25.1,
                  "District Label": "Fremont Unified (Alameda)",
                  "District Name": "Fremont Unified",
                  "EDP 365": 505535565.8,
                  "Expense ADA": 31115.38,
                  "Expense per ADA": 16247.13,
                  "LEA Type": "Unified",
                  "Decimal Difference": 0.0625934827085511,
                  "_deepnote_index_column": 5
                },
                {
                  "Fed ID": 616740,
                  "District Code": 61192,
                  "CDS Code": 1611920000000,
                  "County Name": "Alameda",
                  "District Type": "Unified",
                  "Grade Low": "KG",
                  "Grade High": 12,
                  "Grade Low Census": "KG",
                  "Grade High Census": 12,
                  "Assistance Status": "Differentiated Assistance",
                  "Locale": "Suburban",
                  "Enroll Total": 20193,
                  "Enroll Charter": 2562,
                  "Enroll Non Charter": 17631,
                  "African American": 1388,
                  "African American (%)": 6.9,
                  "American Indian": 46,
                  "American Indian (%)": 0.2,
                  "Asian": 1700,
                  "Asian (%)": 8.4,
                  "Filipino": 1303,
                  "Filipino (%)": 6.5,
                  "Hispanic": 13289,
                  "Hispanic (%)": 65.8,
                  "Pacific Islander": 632,
                  "Pacific Islander (%)": 3.1,
                  "White": 802,
                  "White (%)": 4,
                  "Two or More Races": 848,
                  "Two or More Races (%)": 4.2,
                  "Not Reported": 185,
                  "Not Reported (%)": 0.9,
                  "English Learner": 5864,
                  "English Learner (%)": 29,
                  "Foster": 44,
                  "Foster (%)": 0.2,
                  "Homeless": 564,
                  "Homeless (%)": 2.8,
                  "Migrant": 302,
                  "Migrant (%)": 1.5,
                  "Students with Disabilities": 2698,
                  "Students with Disabilities (%)": 13.4,
                  "Socioeconomically Disadvantaged": 15843,
                  "Socioeconomically Disadvantaged (%)": 78.5,
                  "District Label": "Hayward Unified (Alameda)",
                  "District Name": "Hayward Unified",
                  "EDP 365": 374152152.44,
                  "Expense ADA": 16160.23,
                  "Expense per ADA": 23152.65,
                  "LEA Type": "Unified",
                  "Decimal Difference": 0.2495490472598472,
                  "_deepnote_index_column": 6
                },
                {
                  "Fed ID": 622110,
                  "District Code": 61200,
                  "CDS Code": 1612000000000,
                  "County Name": "Alameda",
                  "District Type": "Unified",
                  "Grade Low": "KG",
                  "Grade High": 12,
                  "Grade Low Census": "KG",
                  "Grade High Census": 12,
                  "Assistance Status": "Differentiated Assistance",
                  "Locale": "City",
                  "Enroll Total": 13050,
                  "Enroll Charter": 0,
                  "Enroll Non Charter": 13050,
                  "African American": 190,
                  "African American (%)": 1.5,
                  "American Indian": 30,
                  "American Indian (%)": 0.2,
                  "Asian": 1892,
                  "Asian (%)": 14.5,
                  "Filipino": 353,
                  "Filipino (%)": 2.7,
                  "Hispanic": 4182,
                  "Hispanic (%)": 32,
                  "Pacific Islander": 28,
                  "Pacific Islander (%)": 0.2,
                  "White": 5223,
                  "White (%)": 40,
                  "Two or More Races": 1152,
                  "Two or More Races (%)": 8.8,
                  "Not Reported": 0,
                  "Not Reported (%)": 0,
                  "English Learner": 1245,
                  "English Learner (%)": 9.5,
                  "Foster": 23,
                  "Foster (%)": 0.2,
                  "Homeless": 162,
                  "Homeless (%)": 1.2,
                  "Migrant": 94,
                  "Migrant (%)": 0.7,
                  "Students with Disabilities": 1978,
                  "Students with Disabilities (%)": 15.2,
                  "Socioeconomically Disadvantaged": 3298,
                  "Socioeconomically Disadvantaged (%)": 25.3,
                  "District Label": "Livermore Valley Joint Unified (Alameda)",
                  "District Name": "Livermore Valley Joint Unified",
                  "EDP 365": 204396068.83,
                  "Expense ADA": 12262.92,
                  "Expense per ADA": 16667.81,
                  "LEA Type": "Unified",
                  "Decimal Difference": 0.0641837343797399,
                  "_deepnote_index_column": 7
                },
                {
                  "Fed ID": 626130,
                  "District Code": 61218,
                  "CDS Code": 1612180000000,
                  "County Name": "Alameda",
                  "District Type": "Elementary",
                  "Grade Low": "KG",
                  "Grade High": 8,
                  "Grade Low Census": "KG",
                  "Grade High Census": 8,
                  "Assistance Status": "General Assistance",
                  "Locale": "Rural",
                  "Enroll Total": 12,
                  "Enroll Charter": 0,
                  "Enroll Non Charter": 12,
                  "African American": 0,
                  "African American (%)": 0,
                  "American Indian": 0,
                  "American Indian (%)": 0,
                  "Asian": 0,
                  "Asian (%)": 0,
                  "Filipino": 0,
                  "Filipino (%)": 0,
                  "Hispanic": 10,
                  "Hispanic (%)": 83.3,
                  "Pacific Islander": 0,
                  "Pacific Islander (%)": 0,
                  "White": 2,
                  "White (%)": 16.7,
                  "Two or More Races": 0,
                  "Two or More Races (%)": 0,
                  "Not Reported": 0,
                  "Not Reported (%)": 0,
                  "English Learner": 6,
                  "English Learner (%)": 50,
                  "Foster": 0,
                  "Foster (%)": 0,
                  "Homeless": 0,
                  "Homeless (%)": 0,
                  "Migrant": 0,
                  "Migrant (%)": 0,
                  "Students with Disabilities": 1,
                  "Students with Disabilities (%)": 8.3,
                  "Socioeconomically Disadvantaged": 8,
                  "Socioeconomically Disadvantaged (%)": 66.7,
                  "District Label": "Mountain House Elementary (Alameda)",
                  "District Name": "Mountain House Elementary",
                  "EDP 365": 684683.93,
                  "Expense ADA": 12.13,
                  "Expense per ADA": 56445.5,
                  "LEA Type": "Elementary",
                  "Decimal Difference": 0.010717230008244,
                  "_deepnote_index_column": 8
                },
                {
                  "Fed ID": 627060,
                  "District Code": 61234,
                  "CDS Code": 1612340000000,
                  "County Name": "Alameda",
                  "District Type": "Unified",
                  "Grade Low": "KG",
                  "Grade High": 12,
                  "Grade Low Census": "KG",
                  "Grade High Census": 12,
                  "Assistance Status": "Differentiated Assistance",
                  "Locale": "Suburban",
                  "Enroll Total": 4828,
                  "Enroll Charter": 0,
                  "Enroll Non Charter": 4828,
                  "African American": 132,
                  "African American (%)": 2.7,
                  "American Indian": 14,
                  "American Indian (%)": 0.3,
                  "Asian": 861,
                  "Asian (%)": 17.8,
                  "Filipino": 394,
                  "Filipino (%)": 8.2,
                  "Hispanic": 2477,
                  "Hispanic (%)": 51.3,
                  "Pacific Islander": 93,
                  "Pacific Islander (%)": 1.9,
                  "White": 436,
                  "White (%)": 9,
                  "Two or More Races": 290,
                  "Two or More Races (%)": 6,
                  "Not Reported": 131,
                  "Not Reported (%)": 2.7,
                  "English Learner": 1029,
                  "English Learner (%)": 21.3,
                  "Foster": 19,
                  "Foster (%)": 0.4,
                  "Homeless": 172,
                  "Homeless (%)": 3.6,
                  "Migrant": 29,
                  "Migrant (%)": 0.6,
                  "Students with Disabilities": 683,
                  "Students with Disabilities (%)": 14.1,
                  "Socioeconomically Disadvantaged": 2297,
                  "Socioeconomically Disadvantaged (%)": 47.6,
                  "District Label": "Newark Unified (Alameda)",
                  "District Name": "Newark Unified",
                  "EDP 365": 78545652.91,
                  "Expense ADA": 4669.03,
                  "Expense per ADA": 16822.69,
                  "LEA Type": "Unified",
                  "Decimal Difference": 0.0340477572429391,
                  "_deepnote_index_column": 9
                }
              ],
              "type": "dataframe"
            },
            "text/plain": "       Fed ID  District Code      CDS Code County Name District Type  \\\n0    601770.0          61119  1.611190e+12     Alameda       Unified   \n1    601860.0          61127  1.611270e+12     Alameda       Unified   \n2    604740.0          61143  1.611430e+12     Alameda       Unified   \n3    607800.0          61150  1.611500e+12     Alameda       Unified   \n4    612630.0          61168  1.611680e+12     Alameda       Unified   \n..        ...            ...           ...         ...           ...   \n927       NaN          76349           NaN   Mendocino    Elementary   \n928       NaN          40261           NaN  Santa Cruz    Elementary   \n929       NaN          40246           NaN      Sonoma    Elementary   \n930       NaN          40253           NaN      Sonoma    Elementary   \n931       NaN          40717           NaN  Stanislaus    Elementary   \n\n    Grade Low  Grade High Grade Low Census  Grade High Census  \\\n0          KG          12               KG                 12   \n1          KG          12               KG                 12   \n2          KG          12               KG                 12   \n3          KG          12               KG                 12   \n4          KG          12               KG                 12   \n..        ...         ...              ...                ...   \n927        KG          12               KG                  8   \n928        KG           5               KG                  5   \n929        KG          12               KG                  6   \n930        KG           8               KG                  6   \n931        KG          12               KG                  8   \n\n             Assistance Status  ... Students with Disabilities (%)  \\\n0           General Assistance  ...                      12.200000   \n1           General Assistance  ...                       9.000000   \n2           General Assistance  ...                      12.000000   \n3           General Assistance  ...                      11.000000   \n4           General Assistance  ...                      12.500000   \n..                         ...  ...                            ...   \n927         General Assistance  ...                      14.883721   \n928         General Assistance  ...                      14.636480   \n929                        NaN  ...                      17.717921   \n930                        NaN  ...                      17.340181   \n931  Differentiated Assistance  ...                      12.710381   \n\n     Socioeconomically Disadvantaged  Socioeconomically Disadvantaged (%)  \\\n0                             4035.0                            38.200000   \n1                             1122.0                            31.400000   \n2                             2508.0                            27.600000   \n3                             3686.0                            38.800000   \n4                              327.0                            54.500000   \n..                               ...                                  ...   \n927                            243.0                            56.511628   \n928                           2304.0                            36.734694   \n929                           3326.0                            45.018950   \n930                           7541.0                            50.959589   \n931                          24229.0                            77.086316   \n\n                                        District Label  \\\n0                            Alameda Unified (Alameda)   \n1                        Albany City Unified (Alameda)   \n2                           Berkeley Unified (Alameda)   \n3                      Castro Valley Unified (Alameda)   \n4                              Emery Unified (Alameda)   \n..                                                 ...   \n927  Arena Union Elementary/Point Arena Joint Union...   \n928       Santa Cruz City Elementary/High (Santa Cruz)   \n929  Petaluma City Elementary/Joint Union High (Son...   \n930                   Santa Rosa City Schools (Sonoma)   \n931                  Modesto City Schools (Stanislaus)   \n\n                                         District Name       EDP 365  \\\n0                                      Alameda Unified  1.550948e+08   \n1                                  Albany City Unified  6.149090e+07   \n2                                     Berkeley Unified  2.205508e+08   \n3                                Castro Valley Unified  1.424913e+08   \n4                                        Emery Unified  1.586300e+07   \n..                                                 ...           ...   \n927  Arena Union Elementary/Point Arena Joint Union...  1.016266e+07   \n928                    Santa Cruz City Elementary/High  1.152800e+08   \n929          Petaluma City Elementary/Joint Union High  1.252075e+08   \n930                            Santa Rosa City Schools  2.486762e+08   \n931                               Modesto City Schools  5.451341e+08   \n\n     Expense ADA  Expense per ADA    LEA Type  Decimal Difference  \n0        8567.86         18101.93     Unified            0.232163  \n1        3435.41         17899.14     Unified            0.040342  \n2        8572.17         25728.70     Unified            0.058892  \n3        8991.52         15847.30     Unified            0.055328  \n4         554.70         28597.44     Unified            0.081666  \n..           ...              ...         ...                 ...  \n927       325.53         31218.80  Comm Admin            0.320923  \n928      5688.18         20266.58  Comm Admin            0.102637  \n929      6651.17         18824.88  Comm Admin            0.110782  \n930     11701.14         21252.30  Comm Admin            0.264663  \n931     27502.45         19821.29  Comm Admin            0.142844  \n\n[932 rows x 51 columns]",
            "text/html": "<div>\n<style scoped>\n    .dataframe tbody tr th:only-of-type {\n        vertical-align: middle;\n    }\n\n    .dataframe tbody tr th {\n        vertical-align: top;\n    }\n\n    .dataframe thead th {\n        text-align: right;\n    }\n</style>\n<table border=\"1\" class=\"dataframe\">\n  <thead>\n    <tr style=\"text-align: right;\">\n      <th></th>\n      <th>Fed ID</th>\n      <th>District Code</th>\n      <th>CDS Code</th>\n      <th>County Name</th>\n      <th>District Type</th>\n      <th>Grade Low</th>\n      <th>Grade High</th>\n      <th>Grade Low Census</th>\n      <th>Grade High Census</th>\n      <th>Assistance Status</th>\n      <th>...</th>\n      <th>Students with Disabilities (%)</th>\n      <th>Socioeconomically Disadvantaged</th>\n      <th>Socioeconomically Disadvantaged (%)</th>\n      <th>District Label</th>\n      <th>District Name</th>\n      <th>EDP 365</th>\n      <th>Expense ADA</th>\n      <th>Expense per ADA</th>\n      <th>LEA Type</th>\n      <th>Decimal Difference</th>\n    </tr>\n  </thead>\n  <tbody>\n    <tr>\n      <th>0</th>\n      <td>601770.0</td>\n      <td>61119</td>\n      <td>1.611190e+12</td>\n      <td>Alameda</td>\n      <td>Unified</td>\n      <td>KG</td>\n      <td>12</td>\n      <td>KG</td>\n      <td>12</td>\n      <td>General Assistance</td>\n      <td>...</td>\n      <td>12.200000</td>\n      <td>4035.0</td>\n      <td>38.200000</td>\n      <td>Alameda Unified (Alameda)</td>\n      <td>Alameda Unified</td>\n      <td>1.550948e+08</td>\n      <td>8567.86</td>\n      <td>18101.93</td>\n      <td>Unified</td>\n      <td>0.232163</td>\n    </tr>\n    <tr>\n      <th>1</th>\n      <td>601860.0</td>\n      <td>61127</td>\n      <td>1.611270e+12</td>\n      <td>Alameda</td>\n      <td>Unified</td>\n      <td>KG</td>\n      <td>12</td>\n      <td>KG</td>\n      <td>12</td>\n      <td>General Assistance</td>\n      <td>...</td>\n      <td>9.000000</td>\n      <td>1122.0</td>\n      <td>31.400000</td>\n      <td>Albany City Unified (Alameda)</td>\n      <td>Albany City Unified</td>\n      <td>6.149090e+07</td>\n      <td>3435.41</td>\n      <td>17899.14</td>\n      <td>Unified</td>\n      <td>0.040342</td>\n    </tr>\n    <tr>\n      <th>2</th>\n      <td>604740.0</td>\n      <td>61143</td>\n      <td>1.611430e+12</td>\n      <td>Alameda</td>\n      <td>Unified</td>\n      <td>KG</td>\n      <td>12</td>\n      <td>KG</td>\n      <td>12</td>\n      <td>General Assistance</td>\n      <td>...</td>\n      <td>12.000000</td>\n      <td>2508.0</td>\n      <td>27.600000</td>\n      <td>Berkeley Unified (Alameda)</td>\n      <td>Berkeley Unified</td>\n      <td>2.205508e+08</td>\n      <td>8572.17</td>\n      <td>25728.70</td>\n      <td>Unified</td>\n      <td>0.058892</td>\n    </tr>\n    <tr>\n      <th>3</th>\n      <td>607800.0</td>\n      <td>61150</td>\n      <td>1.611500e+12</td>\n      <td>Alameda</td>\n      <td>Unified</td>\n      <td>KG</td>\n      <td>12</td>\n      <td>KG</td>\n      <td>12</td>\n      <td>General Assistance</td>\n      <td>...</td>\n      <td>11.000000</td>\n      <td>3686.0</td>\n      <td>38.800000</td>\n      <td>Castro Valley Unified (Alameda)</td>\n      <td>Castro Valley Unified</td>\n      <td>1.424913e+08</td>\n      <td>8991.52</td>\n      <td>15847.30</td>\n      <td>Unified</td>\n      <td>0.055328</td>\n    </tr>\n    <tr>\n      <th>4</th>\n      <td>612630.0</td>\n      <td>61168</td>\n      <td>1.611680e+12</td>\n      <td>Alameda</td>\n      <td>Unified</td>\n      <td>KG</td>\n      <td>12</td>\n      <td>KG</td>\n      <td>12</td>\n      <td>General Assistance</td>\n      <td>...</td>\n      <td>12.500000</td>\n      <td>327.0</td>\n      <td>54.500000</td>\n      <td>Emery Unified (Alameda)</td>\n      <td>Emery Unified</td>\n      <td>1.586300e+07</td>\n      <td>554.70</td>\n      <td>28597.44</td>\n      <td>Unified</td>\n      <td>0.081666</td>\n    </tr>\n    <tr>\n      <th>...</th>\n      <td>...</td>\n      <td>...</td>\n      <td>...</td>\n      <td>...</td>\n      <td>...</td>\n      <td>...</td>\n      <td>...</td>\n      <td>...</td>\n      <td>...</td>\n      <td>...</td>\n      <td>...</td>\n      <td>...</td>\n      <td>...</td>\n      <td>...</td>\n      <td>...</td>\n      <td>...</td>\n      <td>...</td>\n      <td>...</td>\n      <td>...</td>\n      <td>...</td>\n      <td>...</td>\n    </tr>\n    <tr>\n      <th>927</th>\n      <td>NaN</td>\n      <td>76349</td>\n      <td>NaN</td>\n      <td>Mendocino</td>\n      <td>Elementary</td>\n      <td>KG</td>\n      <td>12</td>\n      <td>KG</td>\n      <td>8</td>\n      <td>General Assistance</td>\n      <td>...</td>\n      <td>14.883721</td>\n      <td>243.0</td>\n      <td>56.511628</td>\n      <td>Arena Union Elementary/Point Arena Joint Union...</td>\n      <td>Arena Union Elementary/Point Arena Joint Union...</td>\n      <td>1.016266e+07</td>\n      <td>325.53</td>\n      <td>31218.80</td>\n      <td>Comm Admin</td>\n      <td>0.320923</td>\n    </tr>\n    <tr>\n      <th>928</th>\n      <td>NaN</td>\n      <td>40261</td>\n      <td>NaN</td>\n      <td>Santa Cruz</td>\n      <td>Elementary</td>\n      <td>KG</td>\n      <td>5</td>\n      <td>KG</td>\n      <td>5</td>\n      <td>General Assistance</td>\n      <td>...</td>\n      <td>14.636480</td>\n      <td>2304.0</td>\n      <td>36.734694</td>\n      <td>Santa Cruz City Elementary/High (Santa Cruz)</td>\n      <td>Santa Cruz City Elementary/High</td>\n      <td>1.152800e+08</td>\n      <td>5688.18</td>\n      <td>20266.58</td>\n      <td>Comm Admin</td>\n      <td>0.102637</td>\n    </tr>\n    <tr>\n      <th>929</th>\n      <td>NaN</td>\n      <td>40246</td>\n      <td>NaN</td>\n      <td>Sonoma</td>\n      <td>Elementary</td>\n      <td>KG</td>\n      <td>12</td>\n      <td>KG</td>\n      <td>6</td>\n      <td>NaN</td>\n      <td>...</td>\n      <td>17.717921</td>\n      <td>3326.0</td>\n      <td>45.018950</td>\n      <td>Petaluma City Elementary/Joint Union High (Son...</td>\n      <td>Petaluma City Elementary/Joint Union High</td>\n      <td>1.252075e+08</td>\n      <td>6651.17</td>\n      <td>18824.88</td>\n      <td>Comm Admin</td>\n      <td>0.110782</td>\n    </tr>\n    <tr>\n      <th>930</th>\n      <td>NaN</td>\n      <td>40253</td>\n      <td>NaN</td>\n      <td>Sonoma</td>\n      <td>Elementary</td>\n      <td>KG</td>\n      <td>8</td>\n      <td>KG</td>\n      <td>6</td>\n      <td>NaN</td>\n      <td>...</td>\n      <td>17.340181</td>\n      <td>7541.0</td>\n      <td>50.959589</td>\n      <td>Santa Rosa City Schools (Sonoma)</td>\n      <td>Santa Rosa City Schools</td>\n      <td>2.486762e+08</td>\n      <td>11701.14</td>\n      <td>21252.30</td>\n      <td>Comm Admin</td>\n      <td>0.264663</td>\n    </tr>\n    <tr>\n      <th>931</th>\n      <td>NaN</td>\n      <td>40717</td>\n      <td>NaN</td>\n      <td>Stanislaus</td>\n      <td>Elementary</td>\n      <td>KG</td>\n      <td>12</td>\n      <td>KG</td>\n      <td>8</td>\n      <td>Differentiated Assistance</td>\n      <td>...</td>\n      <td>12.710381</td>\n      <td>24229.0</td>\n      <td>77.086316</td>\n      <td>Modesto City Schools (Stanislaus)</td>\n      <td>Modesto City Schools</td>\n      <td>5.451341e+08</td>\n      <td>27502.45</td>\n      <td>19821.29</td>\n      <td>Comm Admin</td>\n      <td>0.142844</td>\n    </tr>\n  </tbody>\n</table>\n<p>932 rows × 51 columns</p>\n</div>"
          },
          "metadata": {},
          "output_type": "display_data"
        }
      ],
      "outputs_reference": null,
      "content_dependencies": null
    },
    {
      "cell_type": "markdown",
      "metadata": {
        "cell_id": "1fe32d2f50b548b8960b44594ef0542b",
        "deepnote_cell_type": "separator"
      },
      "source": "<hr>",
      "block_group": "a764cd870d9f4c8792f7f29251ac7c60"
    },
    {
      "cell_type": "markdown",
      "metadata": {
        "formattedRanges": [],
        "cell_id": "5b7b36a884e8448192f50aa51b564faa",
        "deepnote_cell_type": "text-cell-h2"
      },
      "source": "## 3.0. Descriptive Statistics",
      "block_group": "9cc1d2dbc0664033acd3361e240c7775"
    },
    {
      "cell_type": "markdown",
      "metadata": {
        "formattedRanges": [],
        "cell_id": "d77ecb24f922472e9a2068d05d63106b",
        "deepnote_cell_type": "text-cell-h3"
      },
      "source": "### 3.1. Distribution of Demographic Percentages",
      "block_group": "840318e3b0264439ba35f11cb16fa694"
    },
    {
      "cell_type": "markdown",
      "metadata": {
        "cell_id": "bb817acd0d874d8e8f9ef759f68f6633",
        "deepnote_cell_type": "markdown"
      },
      "source": "We looked into the distribution of student demographic percentages across California school districts. To understand the diversity and equity across California school districts, we examine the distributions of key student demographic percentages, which include: racial/ethnic groups, English learners, and student status populations (i.e., foster, socioeconomically disadvantaged (SED), migrant, homeless).",
      "block_group": "5684d2a423494019a88de5c6574158ed"
    },
    {
      "cell_type": "code",
      "metadata": {
        "source_hash": "b7214353",
        "execution_start": 1760127665452,
        "execution_millis": 10,
        "execution_context_id": "79fa4d62-8961-4dfa-a5c8-892d38695664",
        "cell_id": "6c3597f5b7a8495b8f9b535b54366be1",
        "deepnote_cell_type": "code"
      },
      "source": "# Keep a list of the student demographic column names\nDEMOGRAPHICS = ['African American (%)', 'American Indian (%)', 'Asian (%)','Filipino (%)',\n                'Hispanic (%)', 'Pacific Islander (%)', 'White (%)', 'Two or More Races (%)',\n                'English Learner (%)', 'Foster (%)', 'Homeless (%)', 'Migrant (%)', \n                'Students with Disabilities (%)', 'Socioeconomically Disadvantaged (%)']\n\n# Display the descriptive statistics for the student demographic columns using 'demographic' values\ndistrict_and_expenses[DEMOGRAPHICS].describe()",
      "block_group": "8641eb3ab2434313a483d8f54e254355",
      "execution_count": 3,
      "outputs": [
        {
          "output_type": "execute_result",
          "execution_count": 3,
          "data": {
            "application/vnd.deepnote.dataframe.v3+json": {
              "column_count": 14,
              "columns": [
                {
                  "name": "African American (%)",
                  "dtype": "float64",
                  "stats": {
                    "unique_count": 8,
                    "nan_count": 0,
                    "min": "0.0",
                    "max": "932.0",
                    "histogram": [
                      {
                        "bin_start": 0,
                        "bin_end": 93.2,
                        "count": 7
                      },
                      {
                        "bin_start": 93.2,
                        "bin_end": 186.4,
                        "count": 0
                      },
                      {
                        "bin_start": 186.4,
                        "bin_end": 279.6,
                        "count": 0
                      },
                      {
                        "bin_start": 279.6,
                        "bin_end": 372.8,
                        "count": 0
                      },
                      {
                        "bin_start": 372.8,
                        "bin_end": 466,
                        "count": 0
                      },
                      {
                        "bin_start": 466,
                        "bin_end": 559.2,
                        "count": 0
                      },
                      {
                        "bin_start": 559.2,
                        "bin_end": 652.4,
                        "count": 0
                      },
                      {
                        "bin_start": 652.4,
                        "bin_end": 745.6,
                        "count": 0
                      },
                      {
                        "bin_start": 745.6,
                        "bin_end": 838.8000000000001,
                        "count": 0
                      },
                      {
                        "bin_start": 838.8000000000001,
                        "bin_end": 932,
                        "count": 1
                      }
                    ],
                    "categories": null
                  }
                },
                {
                  "name": "American Indian (%)",
                  "dtype": "float64",
                  "stats": {
                    "unique_count": 8,
                    "nan_count": 0,
                    "min": "0.0",
                    "max": "932.0",
                    "histogram": [
                      {
                        "bin_start": 0,
                        "bin_end": 93.2,
                        "count": 6
                      },
                      {
                        "bin_start": 93.2,
                        "bin_end": 186.4,
                        "count": 1
                      },
                      {
                        "bin_start": 186.4,
                        "bin_end": 279.6,
                        "count": 0
                      },
                      {
                        "bin_start": 279.6,
                        "bin_end": 372.8,
                        "count": 0
                      },
                      {
                        "bin_start": 372.8,
                        "bin_end": 466,
                        "count": 0
                      },
                      {
                        "bin_start": 466,
                        "bin_end": 559.2,
                        "count": 0
                      },
                      {
                        "bin_start": 559.2,
                        "bin_end": 652.4,
                        "count": 0
                      },
                      {
                        "bin_start": 652.4,
                        "bin_end": 745.6,
                        "count": 0
                      },
                      {
                        "bin_start": 745.6,
                        "bin_end": 838.8000000000001,
                        "count": 0
                      },
                      {
                        "bin_start": 838.8000000000001,
                        "bin_end": 932,
                        "count": 1
                      }
                    ],
                    "categories": null
                  }
                },
                {
                  "name": "Asian (%)",
                  "dtype": "float64",
                  "stats": {
                    "unique_count": 8,
                    "nan_count": 0,
                    "min": "0.0",
                    "max": "932.0",
                    "histogram": [
                      {
                        "bin_start": 0,
                        "bin_end": 93.2,
                        "count": 7
                      },
                      {
                        "bin_start": 93.2,
                        "bin_end": 186.4,
                        "count": 0
                      },
                      {
                        "bin_start": 186.4,
                        "bin_end": 279.6,
                        "count": 0
                      },
                      {
                        "bin_start": 279.6,
                        "bin_end": 372.8,
                        "count": 0
                      },
                      {
                        "bin_start": 372.8,
                        "bin_end": 466,
                        "count": 0
                      },
                      {
                        "bin_start": 466,
                        "bin_end": 559.2,
                        "count": 0
                      },
                      {
                        "bin_start": 559.2,
                        "bin_end": 652.4,
                        "count": 0
                      },
                      {
                        "bin_start": 652.4,
                        "bin_end": 745.6,
                        "count": 0
                      },
                      {
                        "bin_start": 745.6,
                        "bin_end": 838.8000000000001,
                        "count": 0
                      },
                      {
                        "bin_start": 838.8000000000001,
                        "bin_end": 932,
                        "count": 1
                      }
                    ],
                    "categories": null
                  }
                },
                {
                  "name": "Filipino (%)",
                  "dtype": "float64",
                  "stats": {
                    "unique_count": 7,
                    "nan_count": 0,
                    "min": "0.0",
                    "max": "932.0",
                    "histogram": [
                      {
                        "bin_start": 0,
                        "bin_end": 93.2,
                        "count": 7
                      },
                      {
                        "bin_start": 93.2,
                        "bin_end": 186.4,
                        "count": 0
                      },
                      {
                        "bin_start": 186.4,
                        "bin_end": 279.6,
                        "count": 0
                      },
                      {
                        "bin_start": 279.6,
                        "bin_end": 372.8,
                        "count": 0
                      },
                      {
                        "bin_start": 372.8,
                        "bin_end": 466,
                        "count": 0
                      },
                      {
                        "bin_start": 466,
                        "bin_end": 559.2,
                        "count": 0
                      },
                      {
                        "bin_start": 559.2,
                        "bin_end": 652.4,
                        "count": 0
                      },
                      {
                        "bin_start": 652.4,
                        "bin_end": 745.6,
                        "count": 0
                      },
                      {
                        "bin_start": 745.6,
                        "bin_end": 838.8000000000001,
                        "count": 0
                      },
                      {
                        "bin_start": 838.8000000000001,
                        "bin_end": 932,
                        "count": 1
                      }
                    ],
                    "categories": null
                  }
                },
                {
                  "name": "Hispanic (%)",
                  "dtype": "float64",
                  "stats": {
                    "unique_count": 8,
                    "nan_count": 0,
                    "min": "0.0",
                    "max": "932.0",
                    "histogram": [
                      {
                        "bin_start": 0,
                        "bin_end": 93.2,
                        "count": 6
                      },
                      {
                        "bin_start": 93.2,
                        "bin_end": 186.4,
                        "count": 1
                      },
                      {
                        "bin_start": 186.4,
                        "bin_end": 279.6,
                        "count": 0
                      },
                      {
                        "bin_start": 279.6,
                        "bin_end": 372.8,
                        "count": 0
                      },
                      {
                        "bin_start": 372.8,
                        "bin_end": 466,
                        "count": 0
                      },
                      {
                        "bin_start": 466,
                        "bin_end": 559.2,
                        "count": 0
                      },
                      {
                        "bin_start": 559.2,
                        "bin_end": 652.4,
                        "count": 0
                      },
                      {
                        "bin_start": 652.4,
                        "bin_end": 745.6,
                        "count": 0
                      },
                      {
                        "bin_start": 745.6,
                        "bin_end": 838.8000000000001,
                        "count": 0
                      },
                      {
                        "bin_start": 838.8000000000001,
                        "bin_end": 932,
                        "count": 1
                      }
                    ],
                    "categories": null
                  }
                },
                {
                  "name": "Pacific Islander (%)",
                  "dtype": "float64",
                  "stats": {
                    "unique_count": 7,
                    "nan_count": 0,
                    "min": "0.0",
                    "max": "932.0",
                    "histogram": [
                      {
                        "bin_start": 0,
                        "bin_end": 93.2,
                        "count": 7
                      },
                      {
                        "bin_start": 93.2,
                        "bin_end": 186.4,
                        "count": 0
                      },
                      {
                        "bin_start": 186.4,
                        "bin_end": 279.6,
                        "count": 0
                      },
                      {
                        "bin_start": 279.6,
                        "bin_end": 372.8,
                        "count": 0
                      },
                      {
                        "bin_start": 372.8,
                        "bin_end": 466,
                        "count": 0
                      },
                      {
                        "bin_start": 466,
                        "bin_end": 559.2,
                        "count": 0
                      },
                      {
                        "bin_start": 559.2,
                        "bin_end": 652.4,
                        "count": 0
                      },
                      {
                        "bin_start": 652.4,
                        "bin_end": 745.6,
                        "count": 0
                      },
                      {
                        "bin_start": 745.6,
                        "bin_end": 838.8000000000001,
                        "count": 0
                      },
                      {
                        "bin_start": 838.8000000000001,
                        "bin_end": 932,
                        "count": 1
                      }
                    ],
                    "categories": null
                  }
                },
                {
                  "name": "White (%)",
                  "dtype": "float64",
                  "stats": {
                    "unique_count": 8,
                    "nan_count": 0,
                    "min": "0.0",
                    "max": "932.0",
                    "histogram": [
                      {
                        "bin_start": 0,
                        "bin_end": 93.2,
                        "count": 6
                      },
                      {
                        "bin_start": 93.2,
                        "bin_end": 186.4,
                        "count": 1
                      },
                      {
                        "bin_start": 186.4,
                        "bin_end": 279.6,
                        "count": 0
                      },
                      {
                        "bin_start": 279.6,
                        "bin_end": 372.8,
                        "count": 0
                      },
                      {
                        "bin_start": 372.8,
                        "bin_end": 466,
                        "count": 0
                      },
                      {
                        "bin_start": 466,
                        "bin_end": 559.2,
                        "count": 0
                      },
                      {
                        "bin_start": 559.2,
                        "bin_end": 652.4,
                        "count": 0
                      },
                      {
                        "bin_start": 652.4,
                        "bin_end": 745.6,
                        "count": 0
                      },
                      {
                        "bin_start": 745.6,
                        "bin_end": 838.8000000000001,
                        "count": 0
                      },
                      {
                        "bin_start": 838.8000000000001,
                        "bin_end": 932,
                        "count": 1
                      }
                    ],
                    "categories": null
                  }
                },
                {
                  "name": "Two or More Races (%)",
                  "dtype": "float64",
                  "stats": {
                    "unique_count": 8,
                    "nan_count": 0,
                    "min": "0.0",
                    "max": "932.0",
                    "histogram": [
                      {
                        "bin_start": 0,
                        "bin_end": 93.2,
                        "count": 7
                      },
                      {
                        "bin_start": 93.2,
                        "bin_end": 186.4,
                        "count": 0
                      },
                      {
                        "bin_start": 186.4,
                        "bin_end": 279.6,
                        "count": 0
                      },
                      {
                        "bin_start": 279.6,
                        "bin_end": 372.8,
                        "count": 0
                      },
                      {
                        "bin_start": 372.8,
                        "bin_end": 466,
                        "count": 0
                      },
                      {
                        "bin_start": 466,
                        "bin_end": 559.2,
                        "count": 0
                      },
                      {
                        "bin_start": 559.2,
                        "bin_end": 652.4,
                        "count": 0
                      },
                      {
                        "bin_start": 652.4,
                        "bin_end": 745.6,
                        "count": 0
                      },
                      {
                        "bin_start": 745.6,
                        "bin_end": 838.8000000000001,
                        "count": 0
                      },
                      {
                        "bin_start": 838.8000000000001,
                        "bin_end": 932,
                        "count": 1
                      }
                    ],
                    "categories": null
                  }
                },
                {
                  "name": "English Learner (%)",
                  "dtype": "float64",
                  "stats": {
                    "unique_count": 8,
                    "nan_count": 0,
                    "min": "0.0",
                    "max": "932.0",
                    "histogram": [
                      {
                        "bin_start": 0,
                        "bin_end": 93.2,
                        "count": 7
                      },
                      {
                        "bin_start": 93.2,
                        "bin_end": 186.4,
                        "count": 0
                      },
                      {
                        "bin_start": 186.4,
                        "bin_end": 279.6,
                        "count": 0
                      },
                      {
                        "bin_start": 279.6,
                        "bin_end": 372.8,
                        "count": 0
                      },
                      {
                        "bin_start": 372.8,
                        "bin_end": 466,
                        "count": 0
                      },
                      {
                        "bin_start": 466,
                        "bin_end": 559.2,
                        "count": 0
                      },
                      {
                        "bin_start": 559.2,
                        "bin_end": 652.4,
                        "count": 0
                      },
                      {
                        "bin_start": 652.4,
                        "bin_end": 745.6,
                        "count": 0
                      },
                      {
                        "bin_start": 745.6,
                        "bin_end": 838.8000000000001,
                        "count": 0
                      },
                      {
                        "bin_start": 838.8000000000001,
                        "bin_end": 932,
                        "count": 1
                      }
                    ],
                    "categories": null
                  }
                },
                {
                  "name": "Foster (%)",
                  "dtype": "float64",
                  "stats": {
                    "unique_count": 8,
                    "nan_count": 0,
                    "min": "0.0",
                    "max": "932.0",
                    "histogram": [
                      {
                        "bin_start": 0,
                        "bin_end": 93.2,
                        "count": 7
                      },
                      {
                        "bin_start": 93.2,
                        "bin_end": 186.4,
                        "count": 0
                      },
                      {
                        "bin_start": 186.4,
                        "bin_end": 279.6,
                        "count": 0
                      },
                      {
                        "bin_start": 279.6,
                        "bin_end": 372.8,
                        "count": 0
                      },
                      {
                        "bin_start": 372.8,
                        "bin_end": 466,
                        "count": 0
                      },
                      {
                        "bin_start": 466,
                        "bin_end": 559.2,
                        "count": 0
                      },
                      {
                        "bin_start": 559.2,
                        "bin_end": 652.4,
                        "count": 0
                      },
                      {
                        "bin_start": 652.4,
                        "bin_end": 745.6,
                        "count": 0
                      },
                      {
                        "bin_start": 745.6,
                        "bin_end": 838.8000000000001,
                        "count": 0
                      },
                      {
                        "bin_start": 838.8000000000001,
                        "bin_end": 932,
                        "count": 1
                      }
                    ],
                    "categories": null
                  }
                },
                {
                  "name": "Homeless (%)",
                  "dtype": "float64",
                  "stats": {
                    "unique_count": 8,
                    "nan_count": 0,
                    "min": "0.0",
                    "max": "932.0",
                    "histogram": [
                      {
                        "bin_start": 0,
                        "bin_end": 93.2,
                        "count": 7
                      },
                      {
                        "bin_start": 93.2,
                        "bin_end": 186.4,
                        "count": 0
                      },
                      {
                        "bin_start": 186.4,
                        "bin_end": 279.6,
                        "count": 0
                      },
                      {
                        "bin_start": 279.6,
                        "bin_end": 372.8,
                        "count": 0
                      },
                      {
                        "bin_start": 372.8,
                        "bin_end": 466,
                        "count": 0
                      },
                      {
                        "bin_start": 466,
                        "bin_end": 559.2,
                        "count": 0
                      },
                      {
                        "bin_start": 559.2,
                        "bin_end": 652.4,
                        "count": 0
                      },
                      {
                        "bin_start": 652.4,
                        "bin_end": 745.6,
                        "count": 0
                      },
                      {
                        "bin_start": 745.6,
                        "bin_end": 838.8000000000001,
                        "count": 0
                      },
                      {
                        "bin_start": 838.8000000000001,
                        "bin_end": 932,
                        "count": 1
                      }
                    ],
                    "categories": null
                  }
                },
                {
                  "name": "Migrant (%)",
                  "dtype": "float64",
                  "stats": {
                    "unique_count": 6,
                    "nan_count": 0,
                    "min": "0.0",
                    "max": "932.0",
                    "histogram": [
                      {
                        "bin_start": 0,
                        "bin_end": 93.2,
                        "count": 7
                      },
                      {
                        "bin_start": 93.2,
                        "bin_end": 186.4,
                        "count": 0
                      },
                      {
                        "bin_start": 186.4,
                        "bin_end": 279.6,
                        "count": 0
                      },
                      {
                        "bin_start": 279.6,
                        "bin_end": 372.8,
                        "count": 0
                      },
                      {
                        "bin_start": 372.8,
                        "bin_end": 466,
                        "count": 0
                      },
                      {
                        "bin_start": 466,
                        "bin_end": 559.2,
                        "count": 0
                      },
                      {
                        "bin_start": 559.2,
                        "bin_end": 652.4,
                        "count": 0
                      },
                      {
                        "bin_start": 652.4,
                        "bin_end": 745.6,
                        "count": 0
                      },
                      {
                        "bin_start": 745.6,
                        "bin_end": 838.8000000000001,
                        "count": 0
                      },
                      {
                        "bin_start": 838.8000000000001,
                        "bin_end": 932,
                        "count": 1
                      }
                    ],
                    "categories": null
                  }
                },
                {
                  "name": "Students with Disabilities (%)",
                  "dtype": "float64",
                  "stats": {
                    "unique_count": 8,
                    "nan_count": 0,
                    "min": "0.0",
                    "max": "932.0",
                    "histogram": [
                      {
                        "bin_start": 0,
                        "bin_end": 93.2,
                        "count": 7
                      },
                      {
                        "bin_start": 93.2,
                        "bin_end": 186.4,
                        "count": 0
                      },
                      {
                        "bin_start": 186.4,
                        "bin_end": 279.6,
                        "count": 0
                      },
                      {
                        "bin_start": 279.6,
                        "bin_end": 372.8,
                        "count": 0
                      },
                      {
                        "bin_start": 372.8,
                        "bin_end": 466,
                        "count": 0
                      },
                      {
                        "bin_start": 466,
                        "bin_end": 559.2,
                        "count": 0
                      },
                      {
                        "bin_start": 559.2,
                        "bin_end": 652.4,
                        "count": 0
                      },
                      {
                        "bin_start": 652.4,
                        "bin_end": 745.6,
                        "count": 0
                      },
                      {
                        "bin_start": 745.6,
                        "bin_end": 838.8000000000001,
                        "count": 0
                      },
                      {
                        "bin_start": 838.8000000000001,
                        "bin_end": 932,
                        "count": 1
                      }
                    ],
                    "categories": null
                  }
                },
                {
                  "name": "Socioeconomically Disadvantaged (%)",
                  "dtype": "float64",
                  "stats": {
                    "unique_count": 8,
                    "nan_count": 0,
                    "min": "0.8",
                    "max": "932.0",
                    "histogram": [
                      {
                        "bin_start": 0.8,
                        "bin_end": 93.92,
                        "count": 6
                      },
                      {
                        "bin_start": 93.92,
                        "bin_end": 187.04000000000002,
                        "count": 1
                      },
                      {
                        "bin_start": 187.04000000000002,
                        "bin_end": 280.16,
                        "count": 0
                      },
                      {
                        "bin_start": 280.16,
                        "bin_end": 373.28000000000003,
                        "count": 0
                      },
                      {
                        "bin_start": 373.28000000000003,
                        "bin_end": 466.40000000000003,
                        "count": 0
                      },
                      {
                        "bin_start": 466.40000000000003,
                        "bin_end": 559.52,
                        "count": 0
                      },
                      {
                        "bin_start": 559.52,
                        "bin_end": 652.64,
                        "count": 0
                      },
                      {
                        "bin_start": 652.64,
                        "bin_end": 745.76,
                        "count": 0
                      },
                      {
                        "bin_start": 745.76,
                        "bin_end": 838.88,
                        "count": 0
                      },
                      {
                        "bin_start": 838.88,
                        "bin_end": 932,
                        "count": 1
                      }
                    ],
                    "categories": null
                  }
                },
                {
                  "name": "_deepnote_index_column",
                  "dtype": "object"
                }
              ],
              "row_count": 8,
              "preview_row_count": 8,
              "rows": [
                {
                  "African American (%)": 932,
                  "American Indian (%)": 932,
                  "Asian (%)": 932,
                  "Filipino (%)": 932,
                  "Hispanic (%)": 932,
                  "Pacific Islander (%)": 932,
                  "White (%)": 932,
                  "Two or More Races (%)": 932,
                  "English Learner (%)": 932,
                  "Foster (%)": 932,
                  "Homeless (%)": 932,
                  "Migrant (%)": 932,
                  "Students with Disabilities (%)": 932,
                  "Socioeconomically Disadvantaged (%)": 932,
                  "_deepnote_index_column": "count"
                },
                {
                  "African American (%)": 2.333692748872839,
                  "American Indian (%)": 1.7663250452777461,
                  "Asian (%)": 5.868691655663737,
                  "Filipino (%)": 1.2706817142251603,
                  "Hispanic (%)": 47.82803769196577,
                  "Pacific Islander (%)": 0.28207709757050003,
                  "White (%)": 34.17811241623009,
                  "Two or More Races (%)": 5.1356286433322635,
                  "English Learner (%)": 16.66754539084673,
                  "Foster (%)": 0.5361818523717549,
                  "Homeless (%)": 3.679393024353316,
                  "Migrant (%)": 1.454323829406446,
                  "Students with Disabilities (%)": 12.928850519368073,
                  "Socioeconomically Disadvantaged (%)": 58.668788816119815,
                  "_deepnote_index_column": "mean"
                },
                {
                  "African American (%)": 4.047831395974459,
                  "American Indian (%)": 6.849491488208925,
                  "Asian (%)": 10.816395322655602,
                  "Filipino (%)": 2.3625222042461806,
                  "Hispanic (%)": 28.105139301965913,
                  "Pacific Islander (%)": 0.5078983613837138,
                  "White (%)": 24.890993081386902,
                  "Two or More Races (%)": 4.336853563018121,
                  "English Learner (%)": 14.767006976695312,
                  "Foster (%)": 1.279514726298467,
                  "Homeless (%)": 5.112966619234301,
                  "Migrant (%)": 3.7797242146621026,
                  "Students with Disabilities (%)": 4.4796242701678235,
                  "Socioeconomically Disadvantaged (%)": 24.187314307979847,
                  "_deepnote_index_column": "std"
                },
                {
                  "African American (%)": 0,
                  "American Indian (%)": 0,
                  "Asian (%)": 0,
                  "Filipino (%)": 0,
                  "Hispanic (%)": 0,
                  "Pacific Islander (%)": 0,
                  "White (%)": 0,
                  "Two or More Races (%)": 0,
                  "English Learner (%)": 0,
                  "Foster (%)": 0,
                  "Homeless (%)": 0,
                  "Migrant (%)": 0,
                  "Students with Disabilities (%)": 0,
                  "Socioeconomically Disadvantaged (%)": 0.8,
                  "_deepnote_index_column": "min"
                },
                {
                  "African American (%)": 0.3,
                  "American Indian (%)": 0.1,
                  "Asian (%)": 0.5,
                  "Filipino (%)": 0,
                  "Hispanic (%)": 21.9,
                  "Pacific Islander (%)": 0,
                  "White (%)": 10.975,
                  "Two or More Races (%)": 1.6,
                  "English Learner (%)": 5.2,
                  "Foster (%)": 0.1,
                  "Homeless (%)": 0.5,
                  "Migrant (%)": 0,
                  "Students with Disabilities (%)": 10.4,
                  "Socioeconomically Disadvantaged (%)": 41.075,
                  "_deepnote_index_column": "25%"
                },
                {
                  "African American (%)": 0.9,
                  "American Indian (%)": 0.3,
                  "Asian (%)": 1.5,
                  "Filipino (%)": 0.5,
                  "Hispanic (%)": 45.849999999999994,
                  "Pacific Islander (%)": 0.1,
                  "White (%)": 31.780232558139534,
                  "Two or More Races (%)": 4.5,
                  "English Learner (%)": 13.1,
                  "Foster (%)": 0.3,
                  "Homeless (%)": 1.956210298689012,
                  "Migrant (%)": 0,
                  "Students with Disabilities (%)": 13,
                  "Socioeconomically Disadvantaged (%)": 61.150000000000006,
                  "_deepnote_index_column": "50%"
                },
                {
                  "African American (%)": 2.4,
                  "American Indian (%)": 0.8,
                  "Asian (%)": 5.7,
                  "Filipino (%)": 1.4,
                  "Hispanic (%)": 70.825,
                  "Pacific Islander (%)": 0.3,
                  "White (%)": 55.324999999999996,
                  "Two or More Races (%)": 7.5,
                  "English Learner (%)": 23.924999999999997,
                  "Foster (%)": 0.6,
                  "Homeless (%)": 4.7,
                  "Migrant (%)": 0.9,
                  "Students with Disabilities (%)": 15,
                  "Socioeconomically Disadvantaged (%)": 78.92500000000001,
                  "_deepnote_index_column": "75%"
                },
                {
                  "African American (%)": 44.2,
                  "American Indian (%)": 100,
                  "Asian (%)": 69.4,
                  "Filipino (%)": 25.8,
                  "Hispanic (%)": 100,
                  "Pacific Islander (%)": 6.5,
                  "White (%)": 100,
                  "Two or More Races (%)": 25,
                  "English Learner (%)": 75,
                  "Foster (%)": 30,
                  "Homeless (%)": 40.8,
                  "Migrant (%)": 49.4,
                  "Students with Disabilities (%)": 66.7,
                  "Socioeconomically Disadvantaged (%)": 100,
                  "_deepnote_index_column": "max"
                }
              ],
              "type": "dataframe"
            },
            "text/plain": "       African American (%)  American Indian (%)   Asian (%)  Filipino (%)  \\\ncount            932.000000           932.000000  932.000000    932.000000   \nmean               2.333693             1.766325    5.868692      1.270682   \nstd                4.047831             6.849491   10.816395      2.362522   \nmin                0.000000             0.000000    0.000000      0.000000   \n25%                0.300000             0.100000    0.500000      0.000000   \n50%                0.900000             0.300000    1.500000      0.500000   \n75%                2.400000             0.800000    5.700000      1.400000   \nmax               44.200000           100.000000   69.400000     25.800000   \n\n       Hispanic (%)  Pacific Islander (%)   White (%)  Two or More Races (%)  \\\ncount    932.000000            932.000000  932.000000             932.000000   \nmean      47.828038              0.282077   34.178112               5.135629   \nstd       28.105139              0.507898   24.890993               4.336854   \nmin        0.000000              0.000000    0.000000               0.000000   \n25%       21.900000              0.000000   10.975000               1.600000   \n50%       45.850000              0.100000   31.780233               4.500000   \n75%       70.825000              0.300000   55.325000               7.500000   \nmax      100.000000              6.500000  100.000000              25.000000   \n\n       English Learner (%)  Foster (%)  Homeless (%)  Migrant (%)  \\\ncount           932.000000  932.000000    932.000000   932.000000   \nmean             16.667545    0.536182      3.679393     1.454324   \nstd              14.767007    1.279515      5.112967     3.779724   \nmin               0.000000    0.000000      0.000000     0.000000   \n25%               5.200000    0.100000      0.500000     0.000000   \n50%              13.100000    0.300000      1.956210     0.000000   \n75%              23.925000    0.600000      4.700000     0.900000   \nmax              75.000000   30.000000     40.800000    49.400000   \n\n       Students with Disabilities (%)  Socioeconomically Disadvantaged (%)  \ncount                      932.000000                           932.000000  \nmean                        12.928851                            58.668789  \nstd                          4.479624                            24.187314  \nmin                          0.000000                             0.800000  \n25%                         10.400000                            41.075000  \n50%                         13.000000                            61.150000  \n75%                         15.000000                            78.925000  \nmax                         66.700000                           100.000000  ",
            "text/html": "<div>\n<style scoped>\n    .dataframe tbody tr th:only-of-type {\n        vertical-align: middle;\n    }\n\n    .dataframe tbody tr th {\n        vertical-align: top;\n    }\n\n    .dataframe thead th {\n        text-align: right;\n    }\n</style>\n<table border=\"1\" class=\"dataframe\">\n  <thead>\n    <tr style=\"text-align: right;\">\n      <th></th>\n      <th>African American (%)</th>\n      <th>American Indian (%)</th>\n      <th>Asian (%)</th>\n      <th>Filipino (%)</th>\n      <th>Hispanic (%)</th>\n      <th>Pacific Islander (%)</th>\n      <th>White (%)</th>\n      <th>Two or More Races (%)</th>\n      <th>English Learner (%)</th>\n      <th>Foster (%)</th>\n      <th>Homeless (%)</th>\n      <th>Migrant (%)</th>\n      <th>Students with Disabilities (%)</th>\n      <th>Socioeconomically Disadvantaged (%)</th>\n    </tr>\n  </thead>\n  <tbody>\n    <tr>\n      <th>count</th>\n      <td>932.000000</td>\n      <td>932.000000</td>\n      <td>932.000000</td>\n      <td>932.000000</td>\n      <td>932.000000</td>\n      <td>932.000000</td>\n      <td>932.000000</td>\n      <td>932.000000</td>\n      <td>932.000000</td>\n      <td>932.000000</td>\n      <td>932.000000</td>\n      <td>932.000000</td>\n      <td>932.000000</td>\n      <td>932.000000</td>\n    </tr>\n    <tr>\n      <th>mean</th>\n      <td>2.333693</td>\n      <td>1.766325</td>\n      <td>5.868692</td>\n      <td>1.270682</td>\n      <td>47.828038</td>\n      <td>0.282077</td>\n      <td>34.178112</td>\n      <td>5.135629</td>\n      <td>16.667545</td>\n      <td>0.536182</td>\n      <td>3.679393</td>\n      <td>1.454324</td>\n      <td>12.928851</td>\n      <td>58.668789</td>\n    </tr>\n    <tr>\n      <th>std</th>\n      <td>4.047831</td>\n      <td>6.849491</td>\n      <td>10.816395</td>\n      <td>2.362522</td>\n      <td>28.105139</td>\n      <td>0.507898</td>\n      <td>24.890993</td>\n      <td>4.336854</td>\n      <td>14.767007</td>\n      <td>1.279515</td>\n      <td>5.112967</td>\n      <td>3.779724</td>\n      <td>4.479624</td>\n      <td>24.187314</td>\n    </tr>\n    <tr>\n      <th>min</th>\n      <td>0.000000</td>\n      <td>0.000000</td>\n      <td>0.000000</td>\n      <td>0.000000</td>\n      <td>0.000000</td>\n      <td>0.000000</td>\n      <td>0.000000</td>\n      <td>0.000000</td>\n      <td>0.000000</td>\n      <td>0.000000</td>\n      <td>0.000000</td>\n      <td>0.000000</td>\n      <td>0.000000</td>\n      <td>0.800000</td>\n    </tr>\n    <tr>\n      <th>25%</th>\n      <td>0.300000</td>\n      <td>0.100000</td>\n      <td>0.500000</td>\n      <td>0.000000</td>\n      <td>21.900000</td>\n      <td>0.000000</td>\n      <td>10.975000</td>\n      <td>1.600000</td>\n      <td>5.200000</td>\n      <td>0.100000</td>\n      <td>0.500000</td>\n      <td>0.000000</td>\n      <td>10.400000</td>\n      <td>41.075000</td>\n    </tr>\n    <tr>\n      <th>50%</th>\n      <td>0.900000</td>\n      <td>0.300000</td>\n      <td>1.500000</td>\n      <td>0.500000</td>\n      <td>45.850000</td>\n      <td>0.100000</td>\n      <td>31.780233</td>\n      <td>4.500000</td>\n      <td>13.100000</td>\n      <td>0.300000</td>\n      <td>1.956210</td>\n      <td>0.000000</td>\n      <td>13.000000</td>\n      <td>61.150000</td>\n    </tr>\n    <tr>\n      <th>75%</th>\n      <td>2.400000</td>\n      <td>0.800000</td>\n      <td>5.700000</td>\n      <td>1.400000</td>\n      <td>70.825000</td>\n      <td>0.300000</td>\n      <td>55.325000</td>\n      <td>7.500000</td>\n      <td>23.925000</td>\n      <td>0.600000</td>\n      <td>4.700000</td>\n      <td>0.900000</td>\n      <td>15.000000</td>\n      <td>78.925000</td>\n    </tr>\n    <tr>\n      <th>max</th>\n      <td>44.200000</td>\n      <td>100.000000</td>\n      <td>69.400000</td>\n      <td>25.800000</td>\n      <td>100.000000</td>\n      <td>6.500000</td>\n      <td>100.000000</td>\n      <td>25.000000</td>\n      <td>75.000000</td>\n      <td>30.000000</td>\n      <td>40.800000</td>\n      <td>49.400000</td>\n      <td>66.700000</td>\n      <td>100.000000</td>\n    </tr>\n  </tbody>\n</table>\n</div>"
          },
          "metadata": {}
        }
      ],
      "outputs_reference": null,
      "content_dependencies": null
    },
    {
      "cell_type": "markdown",
      "metadata": {
        "cell_id": "61eb0d2b400446ebb958265c830ca612",
        "deepnote_cell_type": "markdown"
      },
      "source": "The summary statistics above provide a quick overview of the distributions of student demographic percentages across California school districts. This information can be used to identify the range of values, central tendencies, and spread of each demographic group.\n\nSome insights:\n- High variability in Hispanic (%) (std ~28%) suggests concentrated or sparse populations in certain areas\n- High mean in Socioeconomically Disadvantaged (~58.7%) indicates a significant number of SED students across districts.\n- Moderately high mean in English Learners (mean ~16.7%) indicates a significant number of English learners across CA districts.\n- Low means for Foster (~0.53%) & Migrant (~1.4%) indicate these are niche demographic challenges\n",
      "block_group": "95c60cd657bb47ad9170d6e3d9e6237c"
    },
    {
      "cell_type": "markdown",
      "metadata": {
        "formattedRanges": [
          {
            "type": "marks",
            "marks": {
              "code": true
            },
            "toCodePoint": 42,
            "fromCodePoint": 25
          }
        ],
        "cell_id": "11c2715e818649709184776cfb957ed5",
        "deepnote_cell_type": "text-cell-h3"
      },
      "source": "### 3.2. Distribution of the 'Expense per ADA' Column",
      "block_group": "8a91f52432d94774b829bb4d080771b6"
    },
    {
      "cell_type": "markdown",
      "metadata": {
        "cell_id": "fdf564311975470c989883c4767c2de8",
        "deepnote_cell_type": "markdown"
      },
      "source": "We wanted to understand the spread of per-student spending, the crux of our research questions. ",
      "block_group": "def16396cd2145d5a5a2287e90ff107e"
    },
    {
      "cell_type": "code",
      "metadata": {
        "source_hash": "9c688290",
        "execution_start": 1760127665516,
        "execution_millis": 1,
        "execution_context_id": "79fa4d62-8961-4dfa-a5c8-892d38695664",
        "cell_id": "77c1a818d3b1401d9b30a33ffe9b9ebf",
        "deepnote_cell_type": "code"
      },
      "source": "district_and_expenses['Expense per ADA'].describe()",
      "block_group": "b69ce617473c459cbbd7b2546cc82966",
      "execution_count": 4,
      "outputs": [
        {
          "output_type": "execute_result",
          "execution_count": 4,
          "data": {
            "text/plain": "count       932.000000\nmean      22181.055837\nstd       11107.346413\nmin        9951.740000\n25%       17181.642500\n50%       19742.790000\n75%       22965.720000\nmax      139026.730000\nName: Expense per ADA, dtype: float64"
          },
          "metadata": {}
        }
      ],
      "outputs_reference": null,
      "content_dependencies": null
    },
    {
      "cell_type": "markdown",
      "metadata": {
        "cell_id": "159fa89a003845a78556c10ad339e71b",
        "deepnote_cell_type": "markdown"
      },
      "source": "The overall distribution of `'Expense per ADA'` shows n = 932 districts with:\n- Mean ~$22,181\n- Median ~$19,743\n- Standard Deviation ~$11,107\n\nWhen taking into account the mininum (9,952) and maximum (139,027), the mean & median indicate a **right-skewed distribution**. This means that most of the data is \"lumped\" on the lower end of the scale, with the mean higher than the median due to a small number of very high-spending outliers.\n\nThe interquartile range (IQR = Q3 (22,966) - Q1 (17,182) = $5,784) captures the range of the middle 50% of the data.",
      "block_group": "647bf401c06f4cc38a830e89139e872b"
    },
    {
      "cell_type": "markdown",
      "metadata": {
        "formattedRanges": [
          {
            "type": "marks",
            "marks": {
              "code": true
            },
            "toCodePoint": 36,
            "fromCodePoint": 18
          },
          {
            "type": "marks",
            "marks": {
              "code": true
            },
            "toCodePoint": 55,
            "fromCodePoint": 40
          }
        ],
        "cell_id": "3840a33600cf42caae43d18d360d1f14",
        "deepnote_cell_type": "text-cell-h3"
      },
      "source": "### 3.3. Breakdown of 'Expense  per ADA' by 'District Type' Columns",
      "block_group": "4a3e50dc384f459bbcacb89aa3938ad2"
    },
    {
      "cell_type": "markdown",
      "metadata": {
        "cell_id": "b29a2fa7d5054da4837296af213219e1",
        "deepnote_cell_type": "markdown"
      },
      "source": "We considered how `'District Type'` (i.e., `'Elementary'`, `'High'`, `'Unified'`) may influence per-pupil spending due to differing curricula, facilities, or student needs.",
      "block_group": "b9519137c5fd406c864c21a23a768f50"
    },
    {
      "cell_type": "code",
      "metadata": {
        "source_hash": "78e16e73",
        "execution_start": 1760127665576,
        "execution_millis": 0,
        "execution_context_id": "79fa4d62-8961-4dfa-a5c8-892d38695664",
        "cell_id": "cdbb4a70516448ebb0342191a6ce0ea7",
        "deepnote_cell_type": "code"
      },
      "source": "district_and_expenses.groupby('District Type')['Expense per ADA'].mean()",
      "block_group": "f4b84a8fe4d24062914522ee59d1a696",
      "execution_count": 5,
      "outputs": [
        {
          "output_type": "execute_result",
          "execution_count": 5,
          "data": {
            "text/plain": "District Type\nElementary    22642.697093\nHigh          20855.198451\nUnified       21763.458696\nName: Expense per ADA, dtype: float64"
          },
          "metadata": {}
        }
      ],
      "outputs_reference": null,
      "content_dependencies": null
    },
    {
      "cell_type": "markdown",
      "metadata": {
        "cell_id": "c233638bffc04aed9663a013d57618f2",
        "deepnote_cell_type": "markdown"
      },
      "source": "`'Elementary'` districts spend the most per ADA on average, while `'High'` school districts spend the least, with Unified in between.\n\nThese differences are not huge, but are noticeable and may be statistically significant. We will consider this in our regression analysis to determine if `'District Type'` is a significant predictor of `'Expense per ADA'`.",
      "block_group": "b105fb41879a4c659a7a0558bef04e75"
    },
    {
      "cell_type": "markdown",
      "metadata": {
        "formattedRanges": [
          {
            "type": "marks",
            "marks": {
              "code": true
            },
            "toCodePoint": 35,
            "fromCodePoint": 18
          },
          {
            "type": "marks",
            "marks": {
              "code": true
            },
            "toCodePoint": 47,
            "fromCodePoint": 39
          }
        ],
        "cell_id": "fb0395155894402d81038cc94559d9a2",
        "deepnote_cell_type": "text-cell-h3"
      },
      "source": "### 3.4. Breakdown of 'Expense per ADA' by 'Locale' Columns",
      "block_group": "ac74ec5b897348a5967d8d7502d7618b"
    },
    {
      "cell_type": "markdown",
      "metadata": {
        "cell_id": "299154235f0244e9bd87a52c383f2383",
        "deepnote_cell_type": "markdown"
      },
      "source": "District `'Locale'` (i.e., `'City'`, `'Town'`, `'Rural'`, `'Suburban'`) often correlates with economic factors that may affect district budgets.\n\nWe considered grouping by `'Locale'` to understand if there are significant differences in per-pupil spending across location types, which may be due to housing costs, transportation, or staffing challenges in sparser or more remote areas.",
      "block_group": "3bcd0c16f607411586a0d8035857b0ef"
    },
    {
      "cell_type": "code",
      "metadata": {
        "source_hash": "f3e33b45",
        "execution_start": 1760127665626,
        "execution_millis": 1,
        "execution_context_id": "79fa4d62-8961-4dfa-a5c8-892d38695664",
        "cell_id": "f748cd5de11f46258f3d3bb1ca43833f",
        "deepnote_cell_type": "code"
      },
      "source": "district_and_expenses.groupby('Locale')['Expense per ADA'].mean()",
      "block_group": "a708296632e14302a0a605a4a3f82f8e",
      "execution_count": 6,
      "outputs": [
        {
          "output_type": "execute_result",
          "execution_count": 6,
          "data": {
            "text/plain": "Locale\nCity            20187.757820\nNot Reported    22276.770000\nRural           25534.498475\nSuburban        20471.701115\nTown            19805.738153\nName: Expense per ADA, dtype: float64"
          },
          "metadata": {}
        }
      ],
      "outputs_reference": null,
      "content_dependencies": null
    },
    {
      "cell_type": "markdown",
      "metadata": {
        "cell_id": "0748c382fbf24f75b81b5cd7b8db98d8",
        "deepnote_cell_type": "markdown"
      },
      "source": "`'Rural'` locales (25,534) showed the highest average `'Expense per ADA'`. This may be because rural districts may face structural cost factors (e.g., transportation, staffing, housing) that increase per-pupil spending.",
      "block_group": "3079e6566d81482ca855f64267ac81ba"
    },
    {
      "cell_type": "markdown",
      "metadata": {
        "formattedRanges": [
          {
            "type": "marks",
            "marks": {
              "code": true
            },
            "toCodePoint": 43,
            "fromCodePoint": 26
          }
        ],
        "cell_id": "9b2eda53c73b40de965651d2864e66ad",
        "deepnote_cell_type": "text-cell-h3"
      },
      "source": "### 3.5. Correlations between 'Expense per ADA' and Demographic Percentage Columns",
      "block_group": "460331330b6a4301814a1845e8469302"
    },
    {
      "cell_type": "markdown",
      "metadata": {
        "cell_id": "3191d9b517694e5c978d080bea3b8462",
        "deepnote_cell_type": "markdown"
      },
      "source": "We wanted to explore potential relationships between spending and student demographics. To do this, we computed the Pearson correlations between `'Expense per ADA'` values and demographic percentages.\n\nWith the `pandas.corr()` method, the default correlation is the Pearson method, which measures the linear relationship between two variables.",
      "block_group": "947b52f0e9d140d9a93bed81c5598d53"
    },
    {
      "cell_type": "code",
      "metadata": {
        "source_hash": "979ecc3",
        "execution_start": 1760127665686,
        "execution_millis": 4,
        "deepnote_table_state": {
          "sortBy": [],
          "filters": [],
          "pageSize": 10,
          "pageIndex": 0,
          "columnOrder": [
            "Expense per ADA",
            "African American (%)",
            "American Indian (%)",
            "Asian (%)",
            "Filipino (%)",
            "Hispanic (%)",
            "Pacific Islander (%)",
            "White (%)",
            "Two or More Races (%)",
            "English Learner (%)",
            "Foster (%)",
            "Homeless (%)",
            "Migrant (%)",
            "Students with Disabilities (%)",
            "Socioeconomically Disadvantaged (%)"
          ],
          "hiddenColumnIds": [],
          "columnDisplayNames": [],
          "conditionalFilters": [],
          "cellFormattingRules": [],
          "wrappedTextColumnIds": []
        },
        "execution_context_id": "79fa4d62-8961-4dfa-a5c8-892d38695664",
        "deepnote_table_loading": false,
        "cell_id": "bcf431ee29ae4f1b869c4e83b4922e8c",
        "deepnote_cell_type": "code"
      },
      "source": "district_and_expenses[['Expense per ADA'] + DEMOGRAPHICS].corr()",
      "block_group": "bacba72a84d84688bf4f19f9a345e960",
      "execution_count": 7,
      "outputs": [
        {
          "output_type": "execute_result",
          "execution_count": 7,
          "data": {
            "application/vnd.deepnote.dataframe.v3+json": {
              "column_count": 15,
              "columns": [
                {
                  "name": "Expense per ADA",
                  "dtype": "float64",
                  "stats": {
                    "unique_count": 15,
                    "nan_count": 0,
                    "min": "-0.11972988942150774",
                    "max": "1.0",
                    "histogram": [
                      {
                        "bin_start": -0.11972988942150774,
                        "bin_end": -0.007756900479356968,
                        "count": 5
                      },
                      {
                        "bin_start": -0.007756900479356968,
                        "bin_end": 0.1042160884627938,
                        "count": 4
                      },
                      {
                        "bin_start": 0.1042160884627938,
                        "bin_end": 0.21618907740494453,
                        "count": 4
                      },
                      {
                        "bin_start": 0.21618907740494453,
                        "bin_end": 0.3281620663470953,
                        "count": 1
                      },
                      {
                        "bin_start": 0.3281620663470953,
                        "bin_end": 0.4401350552892461,
                        "count": 0
                      },
                      {
                        "bin_start": 0.4401350552892461,
                        "bin_end": 0.5521080442313968,
                        "count": 0
                      },
                      {
                        "bin_start": 0.5521080442313968,
                        "bin_end": 0.6640810331735476,
                        "count": 0
                      },
                      {
                        "bin_start": 0.6640810331735476,
                        "bin_end": 0.7760540221156984,
                        "count": 0
                      },
                      {
                        "bin_start": 0.7760540221156984,
                        "bin_end": 0.8880270110578492,
                        "count": 0
                      },
                      {
                        "bin_start": 0.8880270110578492,
                        "bin_end": 1,
                        "count": 1
                      }
                    ],
                    "categories": null
                  }
                },
                {
                  "name": "African American (%)",
                  "dtype": "float64",
                  "stats": {
                    "unique_count": 15,
                    "nan_count": 0,
                    "min": "-0.266314023221398",
                    "max": "1.0",
                    "histogram": [
                      {
                        "bin_start": -0.266314023221398,
                        "bin_end": -0.1396826208992582,
                        "count": 1
                      },
                      {
                        "bin_start": -0.1396826208992582,
                        "bin_end": -0.013051218577118384,
                        "count": 5
                      },
                      {
                        "bin_start": -0.013051218577118384,
                        "bin_end": 0.11358018374502143,
                        "count": 5
                      },
                      {
                        "bin_start": 0.11358018374502143,
                        "bin_end": 0.24021158606716125,
                        "count": 2
                      },
                      {
                        "bin_start": 0.24021158606716125,
                        "bin_end": 0.366842988389301,
                        "count": 1
                      },
                      {
                        "bin_start": 0.366842988389301,
                        "bin_end": 0.4934743907114409,
                        "count": 0
                      },
                      {
                        "bin_start": 0.4934743907114409,
                        "bin_end": 0.6201057930335807,
                        "count": 0
                      },
                      {
                        "bin_start": 0.6201057930335807,
                        "bin_end": 0.7467371953557205,
                        "count": 0
                      },
                      {
                        "bin_start": 0.7467371953557205,
                        "bin_end": 0.8733685976778602,
                        "count": 0
                      },
                      {
                        "bin_start": 0.8733685976778602,
                        "bin_end": 1,
                        "count": 1
                      }
                    ],
                    "categories": null
                  }
                },
                {
                  "name": "American Indian (%)",
                  "dtype": "float64",
                  "stats": {
                    "unique_count": 15,
                    "nan_count": 0,
                    "min": "-0.21842587598609448",
                    "max": "1.0",
                    "histogram": [
                      {
                        "bin_start": -0.21842587598609448,
                        "bin_end": -0.09658328838748503,
                        "count": 3
                      },
                      {
                        "bin_start": -0.09658328838748503,
                        "bin_end": 0.02525929921112441,
                        "count": 5
                      },
                      {
                        "bin_start": 0.02525929921112441,
                        "bin_end": 0.14710188680973385,
                        "count": 3
                      },
                      {
                        "bin_start": 0.14710188680973385,
                        "bin_end": 0.2689444744083433,
                        "count": 3
                      },
                      {
                        "bin_start": 0.2689444744083433,
                        "bin_end": 0.39078706200695273,
                        "count": 0
                      },
                      {
                        "bin_start": 0.39078706200695273,
                        "bin_end": 0.5126296496055622,
                        "count": 0
                      },
                      {
                        "bin_start": 0.5126296496055622,
                        "bin_end": 0.6344722372041716,
                        "count": 0
                      },
                      {
                        "bin_start": 0.6344722372041716,
                        "bin_end": 0.7563148248027811,
                        "count": 0
                      },
                      {
                        "bin_start": 0.7563148248027811,
                        "bin_end": 0.8781574124013904,
                        "count": 0
                      },
                      {
                        "bin_start": 0.8781574124013904,
                        "bin_end": 1,
                        "count": 1
                      }
                    ],
                    "categories": null
                  }
                },
                {
                  "name": "Asian (%)",
                  "dtype": "float64",
                  "stats": {
                    "unique_count": 15,
                    "nan_count": 0,
                    "min": "-0.3600273653666416",
                    "max": "1.0",
                    "histogram": [
                      {
                        "bin_start": -0.3600273653666416,
                        "bin_end": -0.22402462882997745,
                        "count": 2
                      },
                      {
                        "bin_start": -0.22402462882997745,
                        "bin_end": -0.08802189229331331,
                        "count": 7
                      },
                      {
                        "bin_start": -0.08802189229331331,
                        "bin_end": 0.047980844243350806,
                        "count": 2
                      },
                      {
                        "bin_start": 0.047980844243350806,
                        "bin_end": 0.18398358078001498,
                        "count": 1
                      },
                      {
                        "bin_start": 0.18398358078001498,
                        "bin_end": 0.31998631731667915,
                        "count": 1
                      },
                      {
                        "bin_start": 0.31998631731667915,
                        "bin_end": 0.4559890538533432,
                        "count": 1
                      },
                      {
                        "bin_start": 0.4559890538533432,
                        "bin_end": 0.5919917903900074,
                        "count": 0
                      },
                      {
                        "bin_start": 0.5919917903900074,
                        "bin_end": 0.7279945269266715,
                        "count": 0
                      },
                      {
                        "bin_start": 0.7279945269266715,
                        "bin_end": 0.8639972634633356,
                        "count": 0
                      },
                      {
                        "bin_start": 0.8639972634633356,
                        "bin_end": 1,
                        "count": 1
                      }
                    ],
                    "categories": null
                  }
                },
                {
                  "name": "Filipino (%)",
                  "dtype": "float64",
                  "stats": {
                    "unique_count": 15,
                    "nan_count": 0,
                    "min": "-0.25923439522933894",
                    "max": "1.0",
                    "histogram": [
                      {
                        "bin_start": -0.25923439522933894,
                        "bin_end": -0.13331095570640505,
                        "count": 2
                      },
                      {
                        "bin_start": -0.13331095570640505,
                        "bin_end": -0.0073875161834711656,
                        "count": 7
                      },
                      {
                        "bin_start": -0.0073875161834711656,
                        "bin_end": 0.11853592333946272,
                        "count": 2
                      },
                      {
                        "bin_start": 0.11853592333946272,
                        "bin_end": 0.2444593628623966,
                        "count": 1
                      },
                      {
                        "bin_start": 0.2444593628623966,
                        "bin_end": 0.37038280238533045,
                        "count": 1
                      },
                      {
                        "bin_start": 0.37038280238533045,
                        "bin_end": 0.4963062419082644,
                        "count": 1
                      },
                      {
                        "bin_start": 0.4963062419082644,
                        "bin_end": 0.6222296814311983,
                        "count": 0
                      },
                      {
                        "bin_start": 0.6222296814311983,
                        "bin_end": 0.7481531209541321,
                        "count": 0
                      },
                      {
                        "bin_start": 0.7481531209541321,
                        "bin_end": 0.874076560477066,
                        "count": 0
                      },
                      {
                        "bin_start": 0.874076560477066,
                        "bin_end": 1,
                        "count": 1
                      }
                    ],
                    "categories": null
                  }
                },
                {
                  "name": "Hispanic (%)",
                  "dtype": "float64",
                  "stats": {
                    "unique_count": 15,
                    "nan_count": 0,
                    "min": "-0.8242786295508053",
                    "max": "1.0",
                    "histogram": [
                      {
                        "bin_start": -0.8242786295508053,
                        "bin_end": -0.6418507665957248,
                        "count": 2
                      },
                      {
                        "bin_start": -0.6418507665957248,
                        "bin_end": -0.45942290364064425,
                        "count": 0
                      },
                      {
                        "bin_start": -0.45942290364064425,
                        "bin_end": -0.2769950406855637,
                        "count": 0
                      },
                      {
                        "bin_start": -0.2769950406855637,
                        "bin_end": -0.09456717773048318,
                        "count": 2
                      },
                      {
                        "bin_start": -0.09456717773048318,
                        "bin_end": 0.08786068522459733,
                        "count": 6
                      },
                      {
                        "bin_start": 0.08786068522459733,
                        "bin_end": 0.27028854817967796,
                        "count": 1
                      },
                      {
                        "bin_start": 0.27028854817967796,
                        "bin_end": 0.45271641113475836,
                        "count": 1
                      },
                      {
                        "bin_start": 0.45271641113475836,
                        "bin_end": 0.635144274089839,
                        "count": 0
                      },
                      {
                        "bin_start": 0.635144274089839,
                        "bin_end": 0.8175721370449196,
                        "count": 2
                      },
                      {
                        "bin_start": 0.8175721370449196,
                        "bin_end": 1,
                        "count": 1
                      }
                    ],
                    "categories": null
                  }
                },
                {
                  "name": "Pacific Islander (%)",
                  "dtype": "float64",
                  "stats": {
                    "unique_count": 15,
                    "nan_count": 0,
                    "min": "-0.12904967011843943",
                    "max": "1.0",
                    "histogram": [
                      {
                        "bin_start": -0.12904967011843943,
                        "bin_end": -0.016144703106595493,
                        "count": 7
                      },
                      {
                        "bin_start": -0.016144703106595493,
                        "bin_end": 0.09676026390524844,
                        "count": 3
                      },
                      {
                        "bin_start": 0.09676026390524844,
                        "bin_end": 0.20966523091709238,
                        "count": 2
                      },
                      {
                        "bin_start": 0.20966523091709238,
                        "bin_end": 0.3225701979289363,
                        "count": 1
                      },
                      {
                        "bin_start": 0.3225701979289363,
                        "bin_end": 0.43547516494078026,
                        "count": 1
                      },
                      {
                        "bin_start": 0.43547516494078026,
                        "bin_end": 0.5483801319526243,
                        "count": 0
                      },
                      {
                        "bin_start": 0.5483801319526243,
                        "bin_end": 0.6612850989644681,
                        "count": 0
                      },
                      {
                        "bin_start": 0.6612850989644681,
                        "bin_end": 0.7741900659763121,
                        "count": 0
                      },
                      {
                        "bin_start": 0.7741900659763121,
                        "bin_end": 0.887095032988156,
                        "count": 0
                      },
                      {
                        "bin_start": 0.887095032988156,
                        "bin_end": 1,
                        "count": 1
                      }
                    ],
                    "categories": null
                  }
                },
                {
                  "name": "White (%)",
                  "dtype": "float64",
                  "stats": {
                    "unique_count": 15,
                    "nan_count": 0,
                    "min": "-0.8242786295508053",
                    "max": "1.0",
                    "histogram": [
                      {
                        "bin_start": -0.8242786295508053,
                        "bin_end": -0.6418507665957248,
                        "count": 2
                      },
                      {
                        "bin_start": -0.6418507665957248,
                        "bin_end": -0.45942290364064425,
                        "count": 1
                      },
                      {
                        "bin_start": -0.45942290364064425,
                        "bin_end": -0.2769950406855637,
                        "count": 1
                      },
                      {
                        "bin_start": -0.2769950406855637,
                        "bin_end": -0.09456717773048318,
                        "count": 5
                      },
                      {
                        "bin_start": -0.09456717773048318,
                        "bin_end": 0.08786068522459733,
                        "count": 4
                      },
                      {
                        "bin_start": 0.08786068522459733,
                        "bin_end": 0.27028854817967796,
                        "count": 0
                      },
                      {
                        "bin_start": 0.27028854817967796,
                        "bin_end": 0.45271641113475836,
                        "count": 1
                      },
                      {
                        "bin_start": 0.45271641113475836,
                        "bin_end": 0.635144274089839,
                        "count": 0
                      },
                      {
                        "bin_start": 0.635144274089839,
                        "bin_end": 0.8175721370449196,
                        "count": 0
                      },
                      {
                        "bin_start": 0.8175721370449196,
                        "bin_end": 1,
                        "count": 1
                      }
                    ],
                    "categories": null
                  }
                },
                {
                  "name": "Two or More Races (%)",
                  "dtype": "float64",
                  "stats": {
                    "unique_count": 15,
                    "nan_count": 0,
                    "min": "-0.6796852619638555",
                    "max": "1.0",
                    "histogram": [
                      {
                        "bin_start": -0.6796852619638555,
                        "bin_end": -0.5117167357674699,
                        "count": 3
                      },
                      {
                        "bin_start": -0.5117167357674699,
                        "bin_end": -0.3437482095710844,
                        "count": 0
                      },
                      {
                        "bin_start": -0.3437482095710844,
                        "bin_end": -0.17577968337469885,
                        "count": 1
                      },
                      {
                        "bin_start": -0.17577968337469885,
                        "bin_end": -0.007811157178313266,
                        "count": 1
                      },
                      {
                        "bin_start": -0.007811157178313266,
                        "bin_end": 0.16015736901807232,
                        "count": 7
                      },
                      {
                        "bin_start": 0.16015736901807232,
                        "bin_end": 0.3281258952144578,
                        "count": 1
                      },
                      {
                        "bin_start": 0.3281258952144578,
                        "bin_end": 0.4960944214108435,
                        "count": 1
                      },
                      {
                        "bin_start": 0.4960944214108435,
                        "bin_end": 0.664062947607229,
                        "count": 0
                      },
                      {
                        "bin_start": 0.664062947607229,
                        "bin_end": 0.8320314738036144,
                        "count": 0
                      },
                      {
                        "bin_start": 0.8320314738036144,
                        "bin_end": 1,
                        "count": 1
                      }
                    ],
                    "categories": null
                  }
                },
                {
                  "name": "English Learner (%)",
                  "dtype": "float64",
                  "stats": {
                    "unique_count": 15,
                    "nan_count": 0,
                    "min": "-0.7162307910777179",
                    "max": "1.0",
                    "histogram": [
                      {
                        "bin_start": -0.7162307910777179,
                        "bin_end": -0.5446077119699462,
                        "count": 1
                      },
                      {
                        "bin_start": -0.5446077119699462,
                        "bin_end": -0.3729846328621743,
                        "count": 1
                      },
                      {
                        "bin_start": -0.3729846328621743,
                        "bin_end": -0.20136155375440246,
                        "count": 0
                      },
                      {
                        "bin_start": -0.20136155375440246,
                        "bin_end": -0.029738474646630708,
                        "count": 4
                      },
                      {
                        "bin_start": -0.029738474646630708,
                        "bin_end": 0.14188460446114104,
                        "count": 4
                      },
                      {
                        "bin_start": 0.14188460446114104,
                        "bin_end": 0.313507683568913,
                        "count": 1
                      },
                      {
                        "bin_start": 0.313507683568913,
                        "bin_end": 0.48513076267668476,
                        "count": 0
                      },
                      {
                        "bin_start": 0.48513076267668476,
                        "bin_end": 0.6567538417844565,
                        "count": 2
                      },
                      {
                        "bin_start": 0.6567538417844565,
                        "bin_end": 0.8283769208922283,
                        "count": 1
                      },
                      {
                        "bin_start": 0.8283769208922283,
                        "bin_end": 1,
                        "count": 1
                      }
                    ],
                    "categories": null
                  }
                },
                {
                  "name": "Foster (%)",
                  "dtype": "float64",
                  "stats": {
                    "unique_count": 15,
                    "nan_count": 0,
                    "min": "-0.10346578082111214",
                    "max": "1.0",
                    "histogram": [
                      {
                        "bin_start": -0.10346578082111214,
                        "bin_end": 0.006880797260999064,
                        "count": 6
                      },
                      {
                        "bin_start": 0.006880797260999064,
                        "bin_end": 0.11722737534311027,
                        "count": 4
                      },
                      {
                        "bin_start": 0.11722737534311027,
                        "bin_end": 0.22757395342522146,
                        "count": 3
                      },
                      {
                        "bin_start": 0.22757395342522146,
                        "bin_end": 0.3379205315073327,
                        "count": 1
                      },
                      {
                        "bin_start": 0.3379205315073327,
                        "bin_end": 0.44826710958944394,
                        "count": 0
                      },
                      {
                        "bin_start": 0.44826710958944394,
                        "bin_end": 0.5586136876715551,
                        "count": 0
                      },
                      {
                        "bin_start": 0.5586136876715551,
                        "bin_end": 0.6689602657536663,
                        "count": 0
                      },
                      {
                        "bin_start": 0.6689602657536663,
                        "bin_end": 0.7793068438357775,
                        "count": 0
                      },
                      {
                        "bin_start": 0.7793068438357775,
                        "bin_end": 0.8896534219178888,
                        "count": 0
                      },
                      {
                        "bin_start": 0.8896534219178888,
                        "bin_end": 1,
                        "count": 1
                      }
                    ],
                    "categories": null
                  }
                },
                {
                  "name": "Homeless (%)",
                  "dtype": "float64",
                  "stats": {
                    "unique_count": 15,
                    "nan_count": 0,
                    "min": "-0.13926214271534404",
                    "max": "1.0",
                    "histogram": [
                      {
                        "bin_start": -0.13926214271534404,
                        "bin_end": -0.025335928443809635,
                        "count": 4
                      },
                      {
                        "bin_start": -0.025335928443809635,
                        "bin_end": 0.08859028582772477,
                        "count": 3
                      },
                      {
                        "bin_start": 0.08859028582772477,
                        "bin_end": 0.2025165000992592,
                        "count": 4
                      },
                      {
                        "bin_start": 0.2025165000992592,
                        "bin_end": 0.3164427143707936,
                        "count": 2
                      },
                      {
                        "bin_start": 0.3164427143707936,
                        "bin_end": 0.43036892864232795,
                        "count": 1
                      },
                      {
                        "bin_start": 0.43036892864232795,
                        "bin_end": 0.5442951429138625,
                        "count": 0
                      },
                      {
                        "bin_start": 0.5442951429138625,
                        "bin_end": 0.6582213571853968,
                        "count": 0
                      },
                      {
                        "bin_start": 0.6582213571853968,
                        "bin_end": 0.7721475714569312,
                        "count": 0
                      },
                      {
                        "bin_start": 0.7721475714569312,
                        "bin_end": 0.8860737857284657,
                        "count": 0
                      },
                      {
                        "bin_start": 0.8860737857284657,
                        "bin_end": 1,
                        "count": 1
                      }
                    ],
                    "categories": null
                  }
                },
                {
                  "name": "Migrant (%)",
                  "dtype": "float64",
                  "stats": {
                    "unique_count": 15,
                    "nan_count": 0,
                    "min": "-0.3302295807888286",
                    "max": "1.0",
                    "histogram": [
                      {
                        "bin_start": -0.3302295807888286,
                        "bin_end": -0.1972066227099457,
                        "count": 2
                      },
                      {
                        "bin_start": -0.1972066227099457,
                        "bin_end": -0.06418366463106284,
                        "count": 5
                      },
                      {
                        "bin_start": -0.06418366463106284,
                        "bin_end": 0.06883929344782003,
                        "count": 3
                      },
                      {
                        "bin_start": 0.06883929344782003,
                        "bin_end": 0.2018622515267029,
                        "count": 1
                      },
                      {
                        "bin_start": 0.2018622515267029,
                        "bin_end": 0.33488520960558577,
                        "count": 0
                      },
                      {
                        "bin_start": 0.33488520960558577,
                        "bin_end": 0.46790816768446863,
                        "count": 2
                      },
                      {
                        "bin_start": 0.46790816768446863,
                        "bin_end": 0.6009311257633515,
                        "count": 1
                      },
                      {
                        "bin_start": 0.6009311257633515,
                        "bin_end": 0.7339540838422344,
                        "count": 0
                      },
                      {
                        "bin_start": 0.7339540838422344,
                        "bin_end": 0.8669770419211172,
                        "count": 0
                      },
                      {
                        "bin_start": 0.8669770419211172,
                        "bin_end": 1,
                        "count": 1
                      }
                    ],
                    "categories": null
                  }
                },
                {
                  "name": "Students with Disabilities (%)",
                  "dtype": "float64",
                  "stats": {
                    "unique_count": 15,
                    "nan_count": 0,
                    "min": "-0.15310521087430182",
                    "max": "1.0",
                    "histogram": [
                      {
                        "bin_start": -0.15310521087430182,
                        "bin_end": -0.03779468978687163,
                        "count": 4
                      },
                      {
                        "bin_start": -0.03779468978687163,
                        "bin_end": 0.07751583130055856,
                        "count": 4
                      },
                      {
                        "bin_start": 0.07751583130055856,
                        "bin_end": 0.19282635238798876,
                        "count": 6
                      },
                      {
                        "bin_start": 0.19282635238798876,
                        "bin_end": 0.30813687347541896,
                        "count": 0
                      },
                      {
                        "bin_start": 0.30813687347541896,
                        "bin_end": 0.4234473945628491,
                        "count": 0
                      },
                      {
                        "bin_start": 0.4234473945628491,
                        "bin_end": 0.5387579156502793,
                        "count": 0
                      },
                      {
                        "bin_start": 0.5387579156502793,
                        "bin_end": 0.6540684367377094,
                        "count": 0
                      },
                      {
                        "bin_start": 0.6540684367377094,
                        "bin_end": 0.7693789578251397,
                        "count": 0
                      },
                      {
                        "bin_start": 0.7693789578251397,
                        "bin_end": 0.8846894789125699,
                        "count": 0
                      },
                      {
                        "bin_start": 0.8846894789125699,
                        "bin_end": 1,
                        "count": 1
                      }
                    ],
                    "categories": null
                  }
                },
                {
                  "name": "Socioeconomically Disadvantaged (%)",
                  "dtype": "float64",
                  "stats": {
                    "unique_count": 15,
                    "nan_count": 0,
                    "min": "-0.5415594349730567",
                    "max": "1.0",
                    "histogram": [
                      {
                        "bin_start": -0.5415594349730567,
                        "bin_end": -0.38740349147575104,
                        "count": 2
                      },
                      {
                        "bin_start": -0.38740349147575104,
                        "bin_end": -0.23324754797844538,
                        "count": 1
                      },
                      {
                        "bin_start": -0.23324754797844538,
                        "bin_end": -0.07909160448113972,
                        "count": 1
                      },
                      {
                        "bin_start": -0.07909160448113972,
                        "bin_end": 0.07506433901616594,
                        "count": 1
                      },
                      {
                        "bin_start": 0.07506433901616594,
                        "bin_end": 0.2292202825134716,
                        "count": 5
                      },
                      {
                        "bin_start": 0.2292202825134716,
                        "bin_end": 0.38337622601077725,
                        "count": 2
                      },
                      {
                        "bin_start": 0.38337622601077725,
                        "bin_end": 0.5375321695080829,
                        "count": 0
                      },
                      {
                        "bin_start": 0.5375321695080829,
                        "bin_end": 0.6916881130053886,
                        "count": 2
                      },
                      {
                        "bin_start": 0.6916881130053886,
                        "bin_end": 0.8458440565026942,
                        "count": 0
                      },
                      {
                        "bin_start": 0.8458440565026942,
                        "bin_end": 1,
                        "count": 1
                      }
                    ],
                    "categories": null
                  }
                },
                {
                  "name": "_deepnote_index_column",
                  "dtype": "object"
                }
              ],
              "row_count": 15,
              "preview_row_count": 15,
              "rows": [
                {
                  "Expense per ADA": 1,
                  "African American (%)": -0.015821918118878505,
                  "American Indian (%)": 0.2238722378786408,
                  "Asian (%)": -0.11972988942150774,
                  "Filipino (%)": -0.10834045141659852,
                  "Hispanic (%)": -0.054040036300300284,
                  "Pacific Islander (%)": -0.05336370579572715,
                  "White (%)": 0.056763957148522316,
                  "Two or More Races (%)": 0.029781824107320165,
                  "English Learner (%)": 0.03502579261932771,
                  "Foster (%)": 0.1632895652188546,
                  "Homeless (%)": 0.10677100577277637,
                  "Migrant (%)": 0.03924780008446763,
                  "Students with Disabilities (%)": 0.18863163023766977,
                  "Socioeconomically Disadvantaged (%)": 0.14385552705869992,
                  "_deepnote_index_column": "Expense per ADA"
                },
                {
                  "Expense per ADA": -0.015821918118878505,
                  "African American (%)": 1,
                  "American Indian (%)": -0.08340105171816209,
                  "Asian (%)": 0.04743622636668023,
                  "Filipino (%)": 0.20443551150662687,
                  "Hispanic (%)": 0.06944697873054974,
                  "Pacific Islander (%)": 0.29280297251295934,
                  "White (%)": -0.266314023221398,
                  "Two or More Races (%)": 0.04240373986388446,
                  "English Learner (%)": -0.015921949203310293,
                  "Foster (%)": 0.08981221765873562,
                  "Homeless (%)": -0.019210680215690286,
                  "Migrant (%)": -0.1383193373199369,
                  "Students with Disabilities (%)": 0.10988927938626422,
                  "Socioeconomically Disadvantaged (%)": 0.14516698775602588,
                  "_deepnote_index_column": "African American (%)"
                },
                {
                  "Expense per ADA": 0.2238722378786408,
                  "African American (%)": -0.08340105171816209,
                  "American Indian (%)": 1,
                  "Asian (%)": -0.10069468461514657,
                  "Filipino (%)": -0.07544057942276369,
                  "Hispanic (%)": -0.21842587598609448,
                  "Pacific Islander (%)": -0.06543297557460323,
                  "White (%)": 0.021521869128773432,
                  "Two or More Races (%)": 0.10584786413668244,
                  "English Learner (%)": -0.17017613006418122,
                  "Foster (%)": 0.15980142067376202,
                  "Homeless (%)": 0.04111824512184352,
                  "Migrant (%)": -0.060554171341255784,
                  "Students with Disabilities (%)": 0.19010094998722113,
                  "Socioeconomically Disadvantaged (%)": 0.07587240673970572,
                  "_deepnote_index_column": "American Indian (%)"
                },
                {
                  "Expense per ADA": -0.11972988942150774,
                  "African American (%)": 0.04743622636668023,
                  "American Indian (%)": -0.10069468461514657,
                  "Asian (%)": 1,
                  "Filipino (%)": 0.3972924264130162,
                  "Hispanic (%)": -0.2568559548761164,
                  "Pacific Islander (%)": 0.1761535636097834,
                  "White (%)": -0.20230771298474073,
                  "Two or More Races (%)": 0.1937194444010565,
                  "English Learner (%)": -0.03346424414762349,
                  "Foster (%)": -0.10346578082111214,
                  "Homeless (%)": -0.13926214271534404,
                  "Migrant (%)": -0.15810140002583029,
                  "Students with Disabilities (%)": -0.15310521087430182,
                  "Socioeconomically Disadvantaged (%)": -0.3600273653666416,
                  "_deepnote_index_column": "Asian (%)"
                },
                {
                  "Expense per ADA": -0.10834045141659852,
                  "African American (%)": 0.20443551150662687,
                  "American Indian (%)": -0.07544057942276369,
                  "Asian (%)": 0.3972924264130162,
                  "Filipino (%)": 1,
                  "Hispanic (%)": -0.04074295233550351,
                  "Pacific Islander (%)": 0.36173535973689586,
                  "White (%)": -0.25923439522933894,
                  "Two or More Races (%)": 0.11470788472596302,
                  "English Learner (%)": 0.033892424591669586,
                  "Foster (%)": -0.0832922798431506,
                  "Homeless (%)": -0.06741035460904955,
                  "Migrant (%)": -0.11646128464436568,
                  "Students with Disabilities (%)": -0.02333052513802146,
                  "Socioeconomically Disadvantaged (%)": -0.15340959226762246,
                  "_deepnote_index_column": "Filipino (%)"
                },
                {
                  "Expense per ADA": -0.054040036300300284,
                  "African American (%)": 0.06944697873054974,
                  "American Indian (%)": -0.21842587598609448,
                  "Asian (%)": -0.2568559548761164,
                  "Filipino (%)": -0.04074295233550351,
                  "Hispanic (%)": 1,
                  "Pacific Islander (%)": -0.045171379383085304,
                  "White (%)": -0.8242786295508053,
                  "Two or More Races (%)": -0.6796852619638555,
                  "English Learner (%)": 0.7866663676859834,
                  "Foster (%)": -0.033006560897347915,
                  "Homeless (%)": 0.18901895360371268,
                  "Migrant (%)": 0.4492304802706784,
                  "Students with Disabilities (%)": -0.07125812202711357,
                  "Socioeconomically Disadvantaged (%)": 0.6709240493916828,
                  "_deepnote_index_column": "Hispanic (%)"
                },
                {
                  "Expense per ADA": -0.05336370579572715,
                  "African American (%)": 0.29280297251295934,
                  "American Indian (%)": -0.06543297557460323,
                  "Asian (%)": 0.1761535636097834,
                  "Filipino (%)": 0.36173535973689586,
                  "Hispanic (%)": -0.045171379383085304,
                  "Pacific Islander (%)": 1,
                  "White (%)": -0.12904967011843943,
                  "Two or More Races (%)": 0.1033502889049019,
                  "English Learner (%)": 0.03336265927275517,
                  "Foster (%)": -0.02957864704569132,
                  "Homeless (%)": 0.008261152712668031,
                  "Migrant (%)": -0.10673361492931611,
                  "Students with Disabilities (%)": 0.04070881343245904,
                  "Socioeconomically Disadvantaged (%)": -0.02022128787215956,
                  "_deepnote_index_column": "Pacific Islander (%)"
                },
                {
                  "Expense per ADA": 0.056763957148522316,
                  "African American (%)": -0.266314023221398,
                  "American Indian (%)": 0.021521869128773432,
                  "Asian (%)": -0.20230771298474073,
                  "Filipino (%)": -0.25923439522933894,
                  "Hispanic (%)": -0.8242786295508053,
                  "Pacific Islander (%)": -0.12904967011843943,
                  "White (%)": 1,
                  "Two or More Races (%)": 0.4516418295429433,
                  "English Learner (%)": -0.7162307910777179,
                  "Foster (%)": 0.015306506820780275,
                  "Homeless (%)": -0.12558591969563315,
                  "Migrant (%)": -0.3226040110626287,
                  "Students with Disabilities (%)": 0.07284141148599547,
                  "Socioeconomically Disadvantaged (%)": -0.5249395230043802,
                  "_deepnote_index_column": "White (%)"
                },
                {
                  "Expense per ADA": 0.029781824107320165,
                  "African American (%)": 0.04240373986388446,
                  "American Indian (%)": 0.10584786413668244,
                  "Asian (%)": 0.1937194444010565,
                  "Filipino (%)": 0.11470788472596302,
                  "Hispanic (%)": -0.6796852619638555,
                  "Pacific Islander (%)": 0.1033502889049019,
                  "White (%)": 0.4516418295429433,
                  "Two or More Races (%)": 1,
                  "English Learner (%)": -0.5432853992784664,
                  "Foster (%)": 0.027562566459908,
                  "Homeless (%)": -0.12621574055850437,
                  "Migrant (%)": -0.3302295807888286,
                  "Students with Disabilities (%)": 0.05704042001588927,
                  "Socioeconomically Disadvantaged (%)": -0.5415594349730567,
                  "_deepnote_index_column": "Two or More Races (%)"
                },
                {
                  "Expense per ADA": 0.03502579261932771,
                  "African American (%)": -0.015921949203310293,
                  "American Indian (%)": -0.17017613006418122,
                  "Asian (%)": -0.03346424414762349,
                  "Filipino (%)": 0.033892424591669586,
                  "Hispanic (%)": 0.7866663676859834,
                  "Pacific Islander (%)": 0.03336265927275517,
                  "White (%)": -0.7162307910777179,
                  "Two or More Races (%)": -0.5432853992784664,
                  "English Learner (%)": 1,
                  "Foster (%)": -0.08463500087060288,
                  "Homeless (%)": 0.22231655346185758,
                  "Migrant (%)": 0.49823379034548326,
                  "Students with Disabilities (%)": -0.08572213262954285,
                  "Socioeconomically Disadvantaged (%)": 0.5521552138355774,
                  "_deepnote_index_column": "English Learner (%)"
                }
              ],
              "type": "dataframe"
            },
            "text/plain": "                                     Expense per ADA  African American (%)  \\\nExpense per ADA                             1.000000             -0.015822   \nAfrican American (%)                       -0.015822              1.000000   \nAmerican Indian (%)                         0.223872             -0.083401   \nAsian (%)                                  -0.119730              0.047436   \nFilipino (%)                               -0.108340              0.204436   \nHispanic (%)                               -0.054040              0.069447   \nPacific Islander (%)                       -0.053364              0.292803   \nWhite (%)                                   0.056764             -0.266314   \nTwo or More Races (%)                       0.029782              0.042404   \nEnglish Learner (%)                         0.035026             -0.015922   \nFoster (%)                                  0.163290              0.089812   \nHomeless (%)                                0.106771             -0.019211   \nMigrant (%)                                 0.039248             -0.138319   \nStudents with Disabilities (%)              0.188632              0.109889   \nSocioeconomically Disadvantaged (%)         0.143856              0.145167   \n\n                                     American Indian (%)  Asian (%)  \\\nExpense per ADA                                 0.223872  -0.119730   \nAfrican American (%)                           -0.083401   0.047436   \nAmerican Indian (%)                             1.000000  -0.100695   \nAsian (%)                                      -0.100695   1.000000   \nFilipino (%)                                   -0.075441   0.397292   \nHispanic (%)                                   -0.218426  -0.256856   \nPacific Islander (%)                           -0.065433   0.176154   \nWhite (%)                                       0.021522  -0.202308   \nTwo or More Races (%)                           0.105848   0.193719   \nEnglish Learner (%)                            -0.170176  -0.033464   \nFoster (%)                                      0.159801  -0.103466   \nHomeless (%)                                    0.041118  -0.139262   \nMigrant (%)                                    -0.060554  -0.158101   \nStudents with Disabilities (%)                  0.190101  -0.153105   \nSocioeconomically Disadvantaged (%)             0.075872  -0.360027   \n\n                                     Filipino (%)  Hispanic (%)  \\\nExpense per ADA                         -0.108340     -0.054040   \nAfrican American (%)                     0.204436      0.069447   \nAmerican Indian (%)                     -0.075441     -0.218426   \nAsian (%)                                0.397292     -0.256856   \nFilipino (%)                             1.000000     -0.040743   \nHispanic (%)                            -0.040743      1.000000   \nPacific Islander (%)                     0.361735     -0.045171   \nWhite (%)                               -0.259234     -0.824279   \nTwo or More Races (%)                    0.114708     -0.679685   \nEnglish Learner (%)                      0.033892      0.786666   \nFoster (%)                              -0.083292     -0.033007   \nHomeless (%)                            -0.067410      0.189019   \nMigrant (%)                             -0.116461      0.449230   \nStudents with Disabilities (%)          -0.023331     -0.071258   \nSocioeconomically Disadvantaged (%)     -0.153410      0.670924   \n\n                                     Pacific Islander (%)  White (%)  \\\nExpense per ADA                                 -0.053364   0.056764   \nAfrican American (%)                             0.292803  -0.266314   \nAmerican Indian (%)                             -0.065433   0.021522   \nAsian (%)                                        0.176154  -0.202308   \nFilipino (%)                                     0.361735  -0.259234   \nHispanic (%)                                    -0.045171  -0.824279   \nPacific Islander (%)                             1.000000  -0.129050   \nWhite (%)                                       -0.129050   1.000000   \nTwo or More Races (%)                            0.103350   0.451642   \nEnglish Learner (%)                              0.033363  -0.716231   \nFoster (%)                                      -0.029579   0.015307   \nHomeless (%)                                     0.008261  -0.125586   \nMigrant (%)                                     -0.106734  -0.322604   \nStudents with Disabilities (%)                   0.040709   0.072841   \nSocioeconomically Disadvantaged (%)             -0.020221  -0.524940   \n\n                                     Two or More Races (%)  \\\nExpense per ADA                                   0.029782   \nAfrican American (%)                              0.042404   \nAmerican Indian (%)                               0.105848   \nAsian (%)                                         0.193719   \nFilipino (%)                                      0.114708   \nHispanic (%)                                     -0.679685   \nPacific Islander (%)                              0.103350   \nWhite (%)                                         0.451642   \nTwo or More Races (%)                             1.000000   \nEnglish Learner (%)                              -0.543285   \nFoster (%)                                        0.027563   \nHomeless (%)                                     -0.126216   \nMigrant (%)                                      -0.330230   \nStudents with Disabilities (%)                    0.057040   \nSocioeconomically Disadvantaged (%)              -0.541559   \n\n                                     English Learner (%)  Foster (%)  \\\nExpense per ADA                                 0.035026    0.163290   \nAfrican American (%)                           -0.015922    0.089812   \nAmerican Indian (%)                            -0.170176    0.159801   \nAsian (%)                                      -0.033464   -0.103466   \nFilipino (%)                                    0.033892   -0.083292   \nHispanic (%)                                    0.786666   -0.033007   \nPacific Islander (%)                            0.033363   -0.029579   \nWhite (%)                                      -0.716231    0.015307   \nTwo or More Races (%)                          -0.543285    0.027563   \nEnglish Learner (%)                             1.000000   -0.084635   \nFoster (%)                                     -0.084635    1.000000   \nHomeless (%)                                    0.222317    0.231125   \nMigrant (%)                                     0.498234   -0.036676   \nStudents with Disabilities (%)                 -0.085722    0.080861   \nSocioeconomically Disadvantaged (%)             0.552155    0.213627   \n\n                                     Homeless (%)  Migrant (%)  \\\nExpense per ADA                          0.106771     0.039248   \nAfrican American (%)                    -0.019211    -0.138319   \nAmerican Indian (%)                      0.041118    -0.060554   \nAsian (%)                               -0.139262    -0.158101   \nFilipino (%)                            -0.067410    -0.116461   \nHispanic (%)                             0.189019     0.449230   \nPacific Islander (%)                     0.008261    -0.106734   \nWhite (%)                               -0.125586    -0.322604   \nTwo or More Races (%)                   -0.126216    -0.330230   \nEnglish Learner (%)                      0.222317     0.498234   \nFoster (%)                               0.231125    -0.036676   \nHomeless (%)                             1.000000     0.120534   \nMigrant (%)                              0.120534     1.000000   \nStudents with Disabilities (%)           0.171809    -0.116446   \nSocioeconomically Disadvantaged (%)      0.362469     0.336021   \n\n                                     Students with Disabilities (%)  \\\nExpense per ADA                                            0.188632   \nAfrican American (%)                                       0.109889   \nAmerican Indian (%)                                        0.190101   \nAsian (%)                                                 -0.153105   \nFilipino (%)                                              -0.023331   \nHispanic (%)                                              -0.071258   \nPacific Islander (%)                                       0.040709   \nWhite (%)                                                  0.072841   \nTwo or More Races (%)                                      0.057040   \nEnglish Learner (%)                                       -0.085722   \nFoster (%)                                                 0.080861   \nHomeless (%)                                               0.171809   \nMigrant (%)                                               -0.116446   \nStudents with Disabilities (%)                             1.000000   \nSocioeconomically Disadvantaged (%)                        0.094541   \n\n                                     Socioeconomically Disadvantaged (%)  \nExpense per ADA                                                 0.143856  \nAfrican American (%)                                            0.145167  \nAmerican Indian (%)                                             0.075872  \nAsian (%)                                                      -0.360027  \nFilipino (%)                                                   -0.153410  \nHispanic (%)                                                    0.670924  \nPacific Islander (%)                                           -0.020221  \nWhite (%)                                                      -0.524940  \nTwo or More Races (%)                                          -0.541559  \nEnglish Learner (%)                                             0.552155  \nFoster (%)                                                      0.213627  \nHomeless (%)                                                    0.362469  \nMigrant (%)                                                     0.336021  \nStudents with Disabilities (%)                                  0.094541  \nSocioeconomically Disadvantaged (%)                             1.000000  ",
            "text/html": "<div>\n<style scoped>\n    .dataframe tbody tr th:only-of-type {\n        vertical-align: middle;\n    }\n\n    .dataframe tbody tr th {\n        vertical-align: top;\n    }\n\n    .dataframe thead th {\n        text-align: right;\n    }\n</style>\n<table border=\"1\" class=\"dataframe\">\n  <thead>\n    <tr style=\"text-align: right;\">\n      <th></th>\n      <th>Expense per ADA</th>\n      <th>African American (%)</th>\n      <th>American Indian (%)</th>\n      <th>Asian (%)</th>\n      <th>Filipino (%)</th>\n      <th>Hispanic (%)</th>\n      <th>Pacific Islander (%)</th>\n      <th>White (%)</th>\n      <th>Two or More Races (%)</th>\n      <th>English Learner (%)</th>\n      <th>Foster (%)</th>\n      <th>Homeless (%)</th>\n      <th>Migrant (%)</th>\n      <th>Students with Disabilities (%)</th>\n      <th>Socioeconomically Disadvantaged (%)</th>\n    </tr>\n  </thead>\n  <tbody>\n    <tr>\n      <th>Expense per ADA</th>\n      <td>1.000000</td>\n      <td>-0.015822</td>\n      <td>0.223872</td>\n      <td>-0.119730</td>\n      <td>-0.108340</td>\n      <td>-0.054040</td>\n      <td>-0.053364</td>\n      <td>0.056764</td>\n      <td>0.029782</td>\n      <td>0.035026</td>\n      <td>0.163290</td>\n      <td>0.106771</td>\n      <td>0.039248</td>\n      <td>0.188632</td>\n      <td>0.143856</td>\n    </tr>\n    <tr>\n      <th>African American (%)</th>\n      <td>-0.015822</td>\n      <td>1.000000</td>\n      <td>-0.083401</td>\n      <td>0.047436</td>\n      <td>0.204436</td>\n      <td>0.069447</td>\n      <td>0.292803</td>\n      <td>-0.266314</td>\n      <td>0.042404</td>\n      <td>-0.015922</td>\n      <td>0.089812</td>\n      <td>-0.019211</td>\n      <td>-0.138319</td>\n      <td>0.109889</td>\n      <td>0.145167</td>\n    </tr>\n    <tr>\n      <th>American Indian (%)</th>\n      <td>0.223872</td>\n      <td>-0.083401</td>\n      <td>1.000000</td>\n      <td>-0.100695</td>\n      <td>-0.075441</td>\n      <td>-0.218426</td>\n      <td>-0.065433</td>\n      <td>0.021522</td>\n      <td>0.105848</td>\n      <td>-0.170176</td>\n      <td>0.159801</td>\n      <td>0.041118</td>\n      <td>-0.060554</td>\n      <td>0.190101</td>\n      <td>0.075872</td>\n    </tr>\n    <tr>\n      <th>Asian (%)</th>\n      <td>-0.119730</td>\n      <td>0.047436</td>\n      <td>-0.100695</td>\n      <td>1.000000</td>\n      <td>0.397292</td>\n      <td>-0.256856</td>\n      <td>0.176154</td>\n      <td>-0.202308</td>\n      <td>0.193719</td>\n      <td>-0.033464</td>\n      <td>-0.103466</td>\n      <td>-0.139262</td>\n      <td>-0.158101</td>\n      <td>-0.153105</td>\n      <td>-0.360027</td>\n    </tr>\n    <tr>\n      <th>Filipino (%)</th>\n      <td>-0.108340</td>\n      <td>0.204436</td>\n      <td>-0.075441</td>\n      <td>0.397292</td>\n      <td>1.000000</td>\n      <td>-0.040743</td>\n      <td>0.361735</td>\n      <td>-0.259234</td>\n      <td>0.114708</td>\n      <td>0.033892</td>\n      <td>-0.083292</td>\n      <td>-0.067410</td>\n      <td>-0.116461</td>\n      <td>-0.023331</td>\n      <td>-0.153410</td>\n    </tr>\n    <tr>\n      <th>Hispanic (%)</th>\n      <td>-0.054040</td>\n      <td>0.069447</td>\n      <td>-0.218426</td>\n      <td>-0.256856</td>\n      <td>-0.040743</td>\n      <td>1.000000</td>\n      <td>-0.045171</td>\n      <td>-0.824279</td>\n      <td>-0.679685</td>\n      <td>0.786666</td>\n      <td>-0.033007</td>\n      <td>0.189019</td>\n      <td>0.449230</td>\n      <td>-0.071258</td>\n      <td>0.670924</td>\n    </tr>\n    <tr>\n      <th>Pacific Islander (%)</th>\n      <td>-0.053364</td>\n      <td>0.292803</td>\n      <td>-0.065433</td>\n      <td>0.176154</td>\n      <td>0.361735</td>\n      <td>-0.045171</td>\n      <td>1.000000</td>\n      <td>-0.129050</td>\n      <td>0.103350</td>\n      <td>0.033363</td>\n      <td>-0.029579</td>\n      <td>0.008261</td>\n      <td>-0.106734</td>\n      <td>0.040709</td>\n      <td>-0.020221</td>\n    </tr>\n    <tr>\n      <th>White (%)</th>\n      <td>0.056764</td>\n      <td>-0.266314</td>\n      <td>0.021522</td>\n      <td>-0.202308</td>\n      <td>-0.259234</td>\n      <td>-0.824279</td>\n      <td>-0.129050</td>\n      <td>1.000000</td>\n      <td>0.451642</td>\n      <td>-0.716231</td>\n      <td>0.015307</td>\n      <td>-0.125586</td>\n      <td>-0.322604</td>\n      <td>0.072841</td>\n      <td>-0.524940</td>\n    </tr>\n    <tr>\n      <th>Two or More Races (%)</th>\n      <td>0.029782</td>\n      <td>0.042404</td>\n      <td>0.105848</td>\n      <td>0.193719</td>\n      <td>0.114708</td>\n      <td>-0.679685</td>\n      <td>0.103350</td>\n      <td>0.451642</td>\n      <td>1.000000</td>\n      <td>-0.543285</td>\n      <td>0.027563</td>\n      <td>-0.126216</td>\n      <td>-0.330230</td>\n      <td>0.057040</td>\n      <td>-0.541559</td>\n    </tr>\n    <tr>\n      <th>English Learner (%)</th>\n      <td>0.035026</td>\n      <td>-0.015922</td>\n      <td>-0.170176</td>\n      <td>-0.033464</td>\n      <td>0.033892</td>\n      <td>0.786666</td>\n      <td>0.033363</td>\n      <td>-0.716231</td>\n      <td>-0.543285</td>\n      <td>1.000000</td>\n      <td>-0.084635</td>\n      <td>0.222317</td>\n      <td>0.498234</td>\n      <td>-0.085722</td>\n      <td>0.552155</td>\n    </tr>\n    <tr>\n      <th>Foster (%)</th>\n      <td>0.163290</td>\n      <td>0.089812</td>\n      <td>0.159801</td>\n      <td>-0.103466</td>\n      <td>-0.083292</td>\n      <td>-0.033007</td>\n      <td>-0.029579</td>\n      <td>0.015307</td>\n      <td>0.027563</td>\n      <td>-0.084635</td>\n      <td>1.000000</td>\n      <td>0.231125</td>\n      <td>-0.036676</td>\n      <td>0.080861</td>\n      <td>0.213627</td>\n    </tr>\n    <tr>\n      <th>Homeless (%)</th>\n      <td>0.106771</td>\n      <td>-0.019211</td>\n      <td>0.041118</td>\n      <td>-0.139262</td>\n      <td>-0.067410</td>\n      <td>0.189019</td>\n      <td>0.008261</td>\n      <td>-0.125586</td>\n      <td>-0.126216</td>\n      <td>0.222317</td>\n      <td>0.231125</td>\n      <td>1.000000</td>\n      <td>0.120534</td>\n      <td>0.171809</td>\n      <td>0.362469</td>\n    </tr>\n    <tr>\n      <th>Migrant (%)</th>\n      <td>0.039248</td>\n      <td>-0.138319</td>\n      <td>-0.060554</td>\n      <td>-0.158101</td>\n      <td>-0.116461</td>\n      <td>0.449230</td>\n      <td>-0.106734</td>\n      <td>-0.322604</td>\n      <td>-0.330230</td>\n      <td>0.498234</td>\n      <td>-0.036676</td>\n      <td>0.120534</td>\n      <td>1.000000</td>\n      <td>-0.116446</td>\n      <td>0.336021</td>\n    </tr>\n    <tr>\n      <th>Students with Disabilities (%)</th>\n      <td>0.188632</td>\n      <td>0.109889</td>\n      <td>0.190101</td>\n      <td>-0.153105</td>\n      <td>-0.023331</td>\n      <td>-0.071258</td>\n      <td>0.040709</td>\n      <td>0.072841</td>\n      <td>0.057040</td>\n      <td>-0.085722</td>\n      <td>0.080861</td>\n      <td>0.171809</td>\n      <td>-0.116446</td>\n      <td>1.000000</td>\n      <td>0.094541</td>\n    </tr>\n    <tr>\n      <th>Socioeconomically Disadvantaged (%)</th>\n      <td>0.143856</td>\n      <td>0.145167</td>\n      <td>0.075872</td>\n      <td>-0.360027</td>\n      <td>-0.153410</td>\n      <td>0.670924</td>\n      <td>-0.020221</td>\n      <td>-0.524940</td>\n      <td>-0.541559</td>\n      <td>0.552155</td>\n      <td>0.213627</td>\n      <td>0.362469</td>\n      <td>0.336021</td>\n      <td>0.094541</td>\n      <td>1.000000</td>\n    </tr>\n  </tbody>\n</table>\n</div>"
          },
          "metadata": {}
        }
      ],
      "outputs_reference": null,
      "content_dependencies": null
    },
    {
      "cell_type": "markdown",
      "metadata": {
        "cell_id": "1b4355b437a64390adcb04cc71eda36e",
        "deepnote_cell_type": "markdown"
      },
      "source": "The Pearson correlation matrix between Expense per ADA & demographics showed generally weak linear associations. More analysis is needed to understand if these relationships are statistically significant (see notebook 5). ",
      "block_group": "a1ccd88add064534a7b1548a01e56960"
    },
    {
      "cell_type": "markdown",
      "metadata": {
        "cell_id": "cbac7b00363e42ffa58dc2b485ff75e6",
        "deepnote_cell_type": "separator"
      },
      "source": "<hr>",
      "block_group": "93c10258e29440deb9f694c52a269f30"
    },
    {
      "cell_type": "markdown",
      "metadata": {
        "formattedRanges": [],
        "cell_id": "a18ec531b01446c4b2cca51a4e242272",
        "deepnote_cell_type": "text-cell-h2"
      },
      "source": "## 4.0. Initial EDA",
      "block_group": "a3be0175e99a4c76ba7cbb74b86da5d5"
    },
    {
      "cell_type": "markdown",
      "metadata": {
        "formattedRanges": [],
        "cell_id": "61e626f63569486ca810f9d48febecef",
        "deepnote_cell_type": "text-cell-h3"
      },
      "source": "### 4.1. Box Plot - Distribution of Total Enrollment",
      "block_group": "06ec5194348e4eb7bc0176017487a1b5"
    },
    {
      "cell_type": "markdown",
      "metadata": {
        "cell_id": "e977752493c94273a0577e97a6b3a09d",
        "deepnote_cell_type": "markdown"
      },
      "source": "A box plot will help us visualize enrollment distributions, spread, and outliers.",
      "block_group": "1e7a1d4c70da4c3cbb71bdc4137438a2"
    },
    {
      "cell_type": "code",
      "metadata": {
        "source_hash": "9d5032ae",
        "execution_start": 1760127665736,
        "execution_millis": 731,
        "execution_context_id": "79fa4d62-8961-4dfa-a5c8-892d38695664",
        "cell_id": "a3fc3dd2eff0496ca94967b5f69ec98f",
        "deepnote_cell_type": "code"
      },
      "source": "fig_enroll_box = px.box(\n    district_and_expenses, \n    x='Enroll Total', \n    title='Box Plot of Total Enrollment')\n    \nfig_enroll_box.show()",
      "block_group": "147e5685bceb415d968d95e19d322389",
      "execution_count": 8,
      "outputs": [
        {
          "data": {
            "text/html": "<html>\n<head><meta charset=\"utf-8\" /></head>\n<body>\n    <div>            <script src=\"https://cdnjs.cloudflare.com/ajax/libs/mathjax/2.7.5/MathJax.js?config=TeX-AMS-MML_SVG\"></script><script type=\"text/javascript\">if (window.MathJax && window.MathJax.Hub && window.MathJax.Hub.Config) {window.MathJax.Hub.Config({SVG: {font: \"STIX-Web\"}});}</script>                <script type=\"text/javascript\">window.PlotlyConfig = {MathJaxConfig: 'local'};</script>\n        <script charset=\"utf-8\" src=\"https://cdn.plot.ly/plotly-3.1.0.min.js\" integrity=\"sha256-Ei4740bWZhaUTQuD6q9yQlgVCMPBz6CZWhevDYPv93A=\" crossorigin=\"anonymous\"></script>                <div id=\"1e1724c0-1ce7-408b-ba7b-24039fe1d8fb\" class=\"plotly-graph-div\" style=\"height:525px; width:100%;\"></div>            <script type=\"text/javascript\">                window.PLOTLYENV=window.PLOTLYENV || {};                                if (document.getElementById(\"1e1724c0-1ce7-408b-ba7b-24039fe1d8fb\")) {                    Plotly.newPlot(                        \"1e1724c0-1ce7-408b-ba7b-24039fe1d8fb\",                        [{\"alignmentgroup\":\"True\",\"hovertemplate\":\"Enroll Total=%{x}\\u003cextra\\u003e\\u003c\\u002fextra\\u003e\",\"legendgroup\":\"\",\"marker\":{\"color\":\"#636efa\"},\"name\":\"\",\"notched\":false,\"offsetgroup\":\"\",\"orientation\":\"h\",\"showlegend\":false,\"x\":{\"dtype\":\"f8\",\"bdata\":\"AAAAAICexEAAAAAAAOyrQAAAAACAusFAAAAAAICIwkAAAAAAAMCCQAAAAADgJOBAAAAAAEC400AAAAAAAH3JQAAAAAAAAChAAAAAAADcskAAAAAAAKLDQAAAAADAA+ZAAAAAAAAIokAAAAAAgBLBQAAAAACACcJAAAAAAIANyUAAAAAAAMDKQAAAAAAAwHBAAAAAAACAUEAAAAAAANavQAAAAAAAgFRAAAAAAAAggUAAAAAAgCPMQAAAAAAACJBAAAAAAAAAUkAAAAAAAHB0QAAAAAAATqRAAAAAAACwoUAAAAAAAAyUQAAAAAAAtKFAAAAAAADAl0AAAAAAAABAQAAAAAAALJ9AAAAAAACYg0AAAAAAADymQAAAAAAA+IdAAAAAAAAggkAAAAAAAOCWQAAAAAAA4HVAAAAAAABYl0AAAAAAAGiVQAAAAAAAJ7VAAAAAAIBWz0AAAAAAgAvDQAAAAAAAGKFAAAAAAABAUUAAAAAAABCTQAAAAAAAoIJAAAAAAAAYqUAAAAAAgBjAQAAAAAAAdq1AAAAAAAC8m0AAAAAAgE7dQAAAAAAA6rNAAAAAAAD0o0AAAAAAgOrEQAAAAAAA1txAAAAAAMCM3EAAAAAAALarQAAAAAAAFK1AAAAAAIDmw0AAAAAAAOB6QAAAAAAAjblAAAAAAAAwe0AAAAAAACB\\u002fQAAAAAAAACBAAAAAAAAorEAAAAAAAABlQAAAAAAA+IpAAAAAAACwcUAAAAAAANCSQAAAAAAA+IFAAAAAAABwq0AAAAAAAAAwQAAAAAAA2JNAAAAAAAAAZkAAAAAAAAA6QAAAAAAAQFlAAAAAAAAAbkAAAAAAYCPlQAAAAAAAHrFAAAAAAAC2o0AAAAAAgHPxQAAAAAAAzqBAAAAAAAAsk0AAAAAAAN3CQAAAAAAAqIJAAAAAAAAAY0AAAAAAAECaQAAAAAAAkHVAAAAAAAA0qUAAAAAAAABRQAAAAAAASIFAAAAAAADhyUAAAAAAAFa3QAAAAAAAIHtAAAAAAABQfUAAAAAAAM6vQAAAAAAAIqFAAAAAAAAqz0AAAAAAALi0QAAAAAAA2q5AAAAAAACwlUAAAAAAADCUQAAAAAAAwJZAAAAAAADsl0AAAAAAAIClQAAAAAAAQGhAAAAAAAAYkEAAAAAAAEBoQAAAAAAAQF1AAAAAAADAUUAAAAAAADSVQAAAAAAAhKFAAAAAAABYhkAAAAAAAMSRQAAAAAAAJJ5AAAAAAAAANEAAAAAAAABkQAAAAAAAgEJAAAAAAADgY0AAAAAAAIiBQAAAAAAAwFtAAAAAAADskEAAAAAAAJBzQAAAAAAAwFBAAAAAAAAAGEAAAAAAAABsQAAAAAAA4HxAAAAAAABYjUAAAAAAAAA8QAAAAAAAwFJAAAAAAAAACEAAAAAAAOCMQAAAAAAAACRAAAAAAADggUAAAAAAAEBQQAAAAAAAMHNAAAAAAAAAaEAAAAAAAGiKQAAAAAAAKIRAAAAAAAAAZUAAAAAAACB+QAAAAAAAAEJAAAAAAADMrEAAAAAAAPiTQAAAAAAAeq5AAAAAAACYn0AAAAAAANK\\u002fQAAAAAAA+JBAAAAAAABur0AAAAAAADm1QAAAAAAAiJJAAAAAAAC4mEAAAAAAAECyQAAAAAAAgFxAAAAAAAAwkkAAAAAAACB3QAAAAAAAQFFAAAAAAABogkAAAAAAABB1QAAAAAAAMHRAAAAAAADgYkAAAAAAAAAxQAAAAAAAsHJAAAAAAABAWUAAAAAAAEBRQAAAAAAANJ5AAAAAAADGpkAAAAAAQBbcQAAAAAAAaJ5AAAAAAAAAM0AAAAAAQOrSQAAAAAAA8HFAAAAAAAAASkAAAAAAAFu4QAAAAAAArK9AAAAAAADga0AAAAAAAGSRQAAAAAAA4GRAAAAAAAD+pEAAAAAAAAyoQAAAAAAAAGdAAAAAAICewUAAAAAAgA3lQAAAAAAAWIhAAAAAAAD8mEAAAAAAAGqkQAAAAAAACqpAAAAAAAAAM0AAAAAAAPBwQAAAAAAA0HFAAAAAAIBjzEAAAAAAAEBRQAAAAAAAwFBAAAAAAAA0pkAAAAAAACicQAAAAAAALq9AAAAAAAAgZUAAAAAAAEW4QAAAAAAAwGFAAAAAAADGrEAAAAAAAEB1QAAAAAAArKdAAAAAAACeokAAAAAAAMiRQAAAAAAAe7BAAAAAAACIhEAAAAAAACKrQAAAAAAAPJxAAAAAAAA0kEAAAAAAAAK0QAAAAAAAlKlAAAAAAABAhkAAAAAAAAyaQAAAAAAA8JhAAAAAAAACqUAAAAAAAMC1QAAAAAAAVLBAAAAAAADwdkAAAAAAAJCKQAAAAAAAzJdAAAAAAAAAb0AAAAAAACCpQAAAAAAACqJAAAAAAACQmUAAAAAAAP6kQAAAAAAA7J1AAAAAAABErkAAAAAAADyVQAAAAAAAQHJAAAAAAAAIm0AAAAAAANCNQAAAAAAAQF1AAAAAAACQc0AAAAAAAMBoQAAAAAAAaIpAAAAAAAAAGEAAAAAAACBnQAAAAAAAYG5AAAAAAADMkUAAAAAAAABoQAAAAAAAYH9AAAAAAECo0UAAAAAAgBLWQAAAAAAAjsFAAAAAAADiuEAAAAAAAOrDQAAAAAAAeKZAAAAAAIAqw0AAAAAAAASoQAAAAACAcsNAAAAAAADQy0AAAAAAAEieQAAAAAAAiblAAAAAAACYsEAAAAAAAHW4QAAAAACAw8VAAAAAAAA9ukAAAAAAQOXVQAAAAAAAKb1AAAAAAABUqEAAAAAAAFm+QAAAAAAAhbtAAAAAAAD9vUAAAAAAAMa7QAAAAAAA1qtAAAAAAACqsEAAAAAAQHbYQAAAAAAA27hAAAAAAADgkkAAAAAAAHG7QAAAAAAAtJRAAAAAAAAASEAAAAAAAArBQAAAAAAAuqZAAAAAAADCrkAAAAAAgPrMQAAAAAAALrNAAAAAAABDtkAAAAAAAJCsQAAAAABgYe9AAAAAANwrIEEAAAAAAIyTQAAAAAAAPcZAAAAAAABHs0AAAAAAwH\\u002fTQAAAAAAAIrJAAAAAAAAot0AAAAAAAGbNQAAAAABAtdRAAAAAAIBMxEAAAAAAAIXHQAAAAACAuc1AAAAAAEAg1UAAAAAAAPahQAAAAAAA6qZAAAAAAIDgwEAAAAAAAPTBQAAAAAAAT7JAAAAAAADAoUAAAAAAAFu0QAAAAAAAhbRAAAAAAECX1UAAAAAAAFiLQAAAAAAAz8xAAAAAAADZwUAAAAAAAPa0QAAAAACA98NAAAAAAMCd1UAAAAAAAKSTQAAAAADAR9NAAAAAAIDLzkAAAAAAAH7JQAAAAACA+8pAAAAAAADoskAAAAAAgCXJQAAAAAAAJbdAAAAAAICGwkAAAAAAAIXMQAAAAAAAlLNAAAAAAAAgeEAAAAAAAPiJQAAAAAAA9qBAAAAAAAC8kUAAAAAAQK\\u002fUQAAAAAAAgFRAAAAAAACspUAAAAAAAESVQAAAAAAAuJpAAAAAAACAWkAAAAAAAFScQAAAAAAAfJBAAAAAAAAAIkAAAAAAAEBkQAAAAAAAaJJAAAAAAADUoUAAAAAAAABCQAAAAAAAM71AAAAAAABgkEAAAAAAACB2QAAAAAAABLFAAAAAAAC6pEAAAAAAALBxQAAAAAAAerJAAAAAAADAfUAAAAAAACybQAAAAAAAKJxAAAAAAACAeEAAAAAAAHibQAAAAAAAADtAAAAAAABAe0AAAAAAAKB\\u002fQAAAAAAAi7lAAAAAAACQnUAAAAAAAFBxQAAAAAAAsHNAAAAAAABAXkAAAAAAAF+zQAAAAAAAoHZAAAAAAAAAY0AAAAAAAPKhQAAAAAAAoHRAAAAAAADwfkAAAAAAAOKjQAAAAACAmMVAAAAAAABYjUAAAAAAgILFQAAAAAAAuMVAAAAAAADAWkAAAAAAADCLQAAAAAAAAExAAAAAAACwp0AAAAAAADCdQAAAAAAAPJpAAAAAAACQcUAAAAAAALyhQAAAAAAAIqJAAAAAAAAAVkAAAAAAAFCJQAAAAAAA0HpAAAAAAAAAd0AAAAAAAGCRQAAAAAAAq7xAAAAAAACAQ0AAAAAAAN6gQAAAAAAAYHBAAAAAAAAAQkAAAAAAAAiqQAAAAAAA8KNAAAAAAABWpUAAAAAAAIBOQAAAAAAAwF9AAAAAAAA2w0AAAAAAAPyaQAAAAAAAB8BAAAAAAICwz0AAAAAAAABiQAAAAAAAgFVAAAAAAACAU0AAAAAAAOSoQAAAAAAAwItAAAAAAABQh0AAAAAAAFOxQAAAAAAAwFpAAAAAAABcskAAAAAAAISfQAAAAAAAsIhAAAAAAABAV0AAAAAAQALQQAAAAAAAAEhAAAAAAAA8kUAAAAAAAIBjQAAAAAAAYGRAAAAAAAA8mEAAAAAAAAiGQAAAAAAAaqVAAAAAAABQlkAAAAAAAIiFQAAAAAAAgFtAAAAAAABwgUAAAAAAAKqnQAAAAACA28xAAAAAAMCO2kAAAAAAAAe3QAAAAAAAkK1AAAAAAMCY50AAAAAAAKivQAAAAAAA7qlAAAAAAACUt0AAAAAAgFfGQAAAAAAADclAAAAAAGBw4kAAAAAAAG6zQAAAAAAAjMtAAAAAAACkokAAAAAAAMqwQAAAAAAAOLNAAAAAAABa0UAAAAAAANS6QAAAAAAAxdhAAAAAAEAs1kAAAAAAALHjQAAAAAAAHJtAAAAAAAAOv0AAAAAAwKfWQAAAAAAAGNVAAAAAAACI4kAAAAAAgHHBQAAAAAAA2IJAAAAAAADAVkAAAAAAALCWQAAAAAAA4HRAAAAAAABFukAAAAAAAOapQAAAAAAAcH1AAAAAAACypkAAAAAAAKagQAAAAAAA0IdAAAAAAAAOr0AAAAAAAHLHQAAAAAAAqchAAAAAAAAnsEAAAAAAgEzFQAAAAAAAy8lAAAAAAAC8n0AAAAAAwEXQQAAAAAAA3LBAAAAAAEC20UAAAAAAAIroQAAAAAAAADlAAAAAAIBK2UAAAAAAADTWQAAAAADAl9FAAAAAAIADy0AAAAAAAJzeQAAAAAAAvKBAAAAAAADw00AAAAAAAJatQAAAAAAAorVAAAAAAIBix0AAAAAAIErjQAAAAAAACbJAAAAAAABhx0AAAAAAAMrPQAAAAABAwtRAAAAAAIBv20AAAAAAQMvVQAAAAABA6NJAAAAAAABQf0AAAAAAwAPvQAAAAAAA4GtAAAAAAMCU1EAAAAAAAGyqQAAAAAAA6J5AAAAAAAB2oEAAAAAAADKkQAAAAABAx+RAAAAAACBY6EAAAAAAAFexQAAAAABAa9BAAAAAAGA\\u002f5EAAAAAAAAA6QAAAAAAAADNAAAAAAACiuEAAAAAAAAAQQAAAAAAAcIdAAAAAAAAAJEAAAAAAAKarQAAAAAAAgG1AAAAAAACARUAAAAAAAAA3QAAAAAAA+I1AAAAAAABOwEAAAAAAAN+1QAAAAAAArrhAAAAAAACooEAAAAAAAOewQAAAAAAAGdZAAAAAAEDa2UAAAAAAAHjSQAAAAAAA8KFAAAAAAICPykAAAAAAQFDgQAAAAAAAj7xAAAAAAAC\\u002fvEAAAAAAAKioQAAAAAAAQFhAAAAAAAAQjUAAAAAAAIbRQAAAAAAAXLZAAAAAAAB000AAAAAAQOnWQAAAAAAASqZAAAAAAOAf6EAAAAAAAABvQAAAAAAAOchAAAAAAIAcyEAAAAAAgJfCQAAAAAAAIGBAAAAAAAC4n0AAAAAAAB+\\u002fQAAAAAAAw9hAAAAAAADWyEAAAAAAACbDQAAAAAAAys1AAAAAAAAMmEAAAAAAACqmQAAAAADAhtFAAAAAAABIhEAAAAAAAEncQAAAAAAAZqVAAAAAAIDJxkAAAAAAAJysQAAAAAAAXLFAAAAAAECp0EAAAAAAAGrBQAAAAAAABLRAAAAAAAAgoEAAAAAAQDDVQAAAAAAACIlAAAAAAAB0nkAAAAAAAIBdQAAAAAAA6rJAAAAAAACMxUAAAAAAAGSoQAAAAAAAvLBAAAAAAADZsUAAAAAA4A7hQAAAAAAA1bNAAAAAAAD4gEAAAAAAoOn7QAAAAAAAJshAAAAAAAB4gEAAAAAAAA+4QAAAAAAAbbBAAAAAAABUpUAAAAAAANu1QAAAAAAAWq5AAAAAAMDp4UAAAAAAAMBnQAAAAAAABdVAAAAAAAAoxUAAAAAAwGvRQAAAAAAAANNAAAAAAADAo0AAAAAAAP6sQAAAAAAAbqFAAAAAAIAT60AAAAAAAOynQAAAAAAAsqZAAAAAAIAiwUAAAAAAAMahQAAAAAAAXd1AAAAAAABq2EAAAAAAAABlQAAAAAAAwHdAAAAAAAA\\u002ftEAAAAAAQOniQAAAAAAAfs1AAAAAAABUvkAAAAAAAJynQAAAAAAA8rBAAAAAAACAZkAAAAAAgMrCQAAAAAAAAElAAAAAAAA9vkAAAAAAAAiEQAAAAAAAoG9AAAAAAAB6oUAAAAAAAGy4QAAAAAAAkH5AAAAAAAAQdUAAAAAAAGavQAAAAAAA0H1AAAAAAADwqUAAAAAAAM6kQAAAAAAAvJNAAAAAAABht0AAAAAAADuwQAAAAAAAYqVAAAAAAAAwcEAAAAAAACSSQAAAAAAAVKVAAAAAAAAioEAAAAAAAIB\\u002fQAAAAAAA9qNAAAAAAAA4vUAAAAAAAHieQAAAAAAAgqhAAAAAAIBsw0AAAAAAAFHCQAAAAACABsNAAAAAAABavkAAAAAAAPB2QAAAAAAAwFpAAAAAAADIlkAAAAAAQMPQQAAAAAAACIFAAAAAAAAAnkAAAAAAAEBmQAAAAAAAYHZAAAAAAACgqkAAAAAAAGiUQAAAAAAAOItAAAAAAIBiwkAAAAAAAOBiQAAAAAAAkHVAAAAAAACcskAAAAAAgIzBQAAAAAAA8IpAAAAAAABog0AAAAAAAIBOQAAAAAAAoHNAAAAAAICCykAAAAAAAO7AQAAAAAAAirdAAAAAAACMp0AAAAAAACe4QAAAAACA0sBAAAAAAICJykAAAAAAgCjXQAAAAACAJcFAAAAAAADUvkAAAAAAANfCQAAAAAAAEMVAAAAAAABAU0AAAAAAAIB6QAAAAAAAQqpAAAAAAADipEAAAAAAAN6oQAAAAAAA8HpAAAAAAAAurkAAAAAAgNTAQAAAAAAA77FAAAAAAAA2sUAAAAAAADSYQAAAAAAABcFAAAAAAADAh0AAAAAAgA\\u002fEQAAAAAAAXtlAAAAAAADOy0AAAAAAABSZQAAAAAAA8rVAAAAAAAD7tEAAAAAAgOvDQAAAAAAAQFhAAAAAAACAXkAAAAAAACyaQAAAAAAAYGRAAAAAAADgZEAAAAAAABzRQAAAAAAApLVAAAAAAAB4mEAAAAAAAAylQAAAAAAArJlAAAAAAAAgdUAAAAAAAMBuQAAAAAAAtJZAAAAAAAAAREAAAAAAACChQAAAAAAAmJJAAAAAAACkq0AAAAAAACCSQAAAAAAAAC5AAAAAAABog0AAAAAAAAB\\u002fQAAAAAAAAD1AAAAAAABAd0AAAAAAAMBqQAAAAAAAAHBAAAAAAACAREAAAAAAAICGQAAAAAAATqlAAAAAAADAWUAAAAAAAH21QAAAAAAAgE9AAAAAAACAVUAAAAAAAPShQAAAAAAAMHlAAAAAAAAAXkAAAAAAAAAuQAAAAAAAoGJAAAAAAAAAT0AAAAAAAABTQAAAAAAAQFBAAAAAAACAQUAAAAAAAOBpQAAAAAAAwFxAAAAAAAAAQ0AAAAAAAAAUQAAAAAAAADNAAAAAAAAASUAAAAAAAEBjQAAAAAAAoH9AAAAAAAAALEAAAAAAABiAQAAAAAAAAHJAAAAAAAAAREAAAAAAACiLQAAAAAAAoIVAAAAAAADgckAAAAAAAICDQAAAAAAAFLFAAAAAAABCq0AAAAAAQO\\u002fTQAAAAAAANrVAAAAAAIAgykAAAAAAgAvHQAAAAAAAwFxAAAAAAACAmEAAAAAAACSZQAAAAAAAUI1AAAAAAAAAZkAAAAAAAFyUQAAAAAAAQGVAAAAAAADAa0AAAAAAAAAuQAAAAAAAYGlAAAAAAABQiUAAAAAAAJB2QAAAAAAA6IFAAAAAAACAUkAAAAAAAMBbQAAAAAAAVJpAAAAAAAD4lEAAAAAAAMBQQAAAAAAAADZAAAAAAABok0AAAAAAAKyeQAAAAAAAfJNAAAAAAAAAIkAAAAAAAFCoQAAAAAAAVKVAAAAAAADYhkAAAAAAAOirQAAAAAAA6I1AAAAAAACAX0AAAAAAALiIQAAAAAAAIGFAAAAAAADga0AAAAAAALyTQAAAAAAAw7lAAAAAAABGskAAAAAAAKiSQAAAAAAA18tAAAAAAAAggUAAAAAAAOSTQAAAAAAAEqZAAAAAAABgYUAAAAAAAISSQAAAAAAAYJBAAAAAAACAkEAAAAAAAMBdQAAAAAAAwGZAAAAAAAD6t0AAAAAAAABoQAAAAAAAXKdAAAAAAABAZkAAAAAAAMKpQAAAAAAATb9AAAAAAABAZ0AAAAAAALKoQAAAAAAAHKFAAAAAAABOp0AAAAAAADW0QAAAAAAAkqNAAAAAAICxykAAAAAAAPB+QAAAAAAAgGBAAAAAAACwckAAAAAAAJB\\u002fQAAAAAAAqJ9AAAAAAADWpEAAAAAAAOiXQAAAAAAAaIlAAAAAAACgY0AAAAAAANiIQAAAAAAAzKRAAAAAAIDZx0AAAAAAAPCIQAAAAAAAiJ5AAAAAAACEkEAAAAAAALSSQAAAAAAAgENAAAAAAACgeUAAAAAAAMBZQAAAAAAA8HZAAAAAAAA4gEAAAAAAAJSdQAAAAAAAtJpAAAAAAADAZ0AAAAAAAHBwQAAAAAAAQFVAAAAAAAAAIEAAAAAAAKBkQAAAAAAAAFJAAAAAAACAUEAAAAAAAAAsQAAAAAAAQFNAAAAAAABAdUAAAAAAAIiEQAAAAAAAQFlAAAAAAABQk0AAAAAAAFyaQAAAAAAAgGZAAAAAAADsskAAAAAAAOBlQAAAAAAA4q1AAAAAAAAAZEAAAAAAALyVQAAAAAAAYGtAAAAAAAAAKkAAAAAAABB5QAAAAAAAmIlAAAAAAAAmr0AAAAAAABB7QAAAAAAA8IFAAAAAAACgYUAAAAAAAGB\\u002fQAAAAAAA6IpAAAAAAABgfEAAAAAAACB\\u002fQAAAAAAAoHFAAAAAAADAUUAAAAAAAAB4QAAAAAAAkHRAAAAAAAAoi0AAAAAAAMiFQAAAAAAAYIpAAAAAAADgckAAAAAAAJCHQAAAAAAAgFZAAAAAAABQf0AAAAAAAKBuQAAAAACAEsJAAAAAAAAptkAAAAAAQDfcQAAAAAAA4GtAAAAAAABgeEAAAAAAAMqiQAAAAACARctAAAAAAACpuEAAAAAAAEqgQAAAAAAAZKRAAAAAAADgZEAAAAAAAFB8QAAAAAAAYHpAAAAAAACgeUAAAAAAAKiFQAAAAAAAEJFAAAAAAACQfUAAAAAAAKB8QAAAAAAADJFAAAAAAACAbUAAAAAAAABvQAAAAAAA8H1AAAAAAADcrEAAAAAAAG67QAAAAAAA4JBAAAAAAAAgZ0AAAAAAAHagQAAAAAAAoqBAAAAAAIArykAAAAAAgO7QQAAAAAAAH7tAAAAAAABhtEAAAAAAAIBKQAAAAACAns5AAAAAAABga0AAAAAAAKjMQAAAAACAP89AAAAAAADysEAAAAAAALG2QAAAAAAAyLJAAAAAAIBUwEAAAAAAACiPQAAAAAAAMcBAAAAAAADaoUAAAAAAgIXCQAAAAAAAUIJAAAAAAICVxEAAAAAAABCZQAAAAAAA1JRAAAAAAAAMkUAAAAAAAN7CQAAAAAAAADdAAAAAAADgekAAAAAAAIC4QAAAAAAA3LxAAAAAAADnzEAAAAAAwLHeQA==\"},\"x0\":\" \",\"xaxis\":\"x\",\"y0\":\" \",\"yaxis\":\"y\",\"type\":\"box\"}],                        {\"template\":{\"data\":{\"histogram2dcontour\":[{\"type\":\"histogram2dcontour\",\"colorbar\":{\"outlinewidth\":0,\"ticks\":\"\"},\"colorscale\":[[0.0,\"#0d0887\"],[0.1111111111111111,\"#46039f\"],[0.2222222222222222,\"#7201a8\"],[0.3333333333333333,\"#9c179e\"],[0.4444444444444444,\"#bd3786\"],[0.5555555555555556,\"#d8576b\"],[0.6666666666666666,\"#ed7953\"],[0.7777777777777778,\"#fb9f3a\"],[0.8888888888888888,\"#fdca26\"],[1.0,\"#f0f921\"]]}],\"choropleth\":[{\"type\":\"choropleth\",\"colorbar\":{\"outlinewidth\":0,\"ticks\":\"\"}}],\"histogram2d\":[{\"type\":\"histogram2d\",\"colorbar\":{\"outlinewidth\":0,\"ticks\":\"\"},\"colorscale\":[[0.0,\"#0d0887\"],[0.1111111111111111,\"#46039f\"],[0.2222222222222222,\"#7201a8\"],[0.3333333333333333,\"#9c179e\"],[0.4444444444444444,\"#bd3786\"],[0.5555555555555556,\"#d8576b\"],[0.6666666666666666,\"#ed7953\"],[0.7777777777777778,\"#fb9f3a\"],[0.8888888888888888,\"#fdca26\"],[1.0,\"#f0f921\"]]}],\"heatmap\":[{\"type\":\"heatmap\",\"colorbar\":{\"outlinewidth\":0,\"ticks\":\"\"},\"colorscale\":[[0.0,\"#0d0887\"],[0.1111111111111111,\"#46039f\"],[0.2222222222222222,\"#7201a8\"],[0.3333333333333333,\"#9c179e\"],[0.4444444444444444,\"#bd3786\"],[0.5555555555555556,\"#d8576b\"],[0.6666666666666666,\"#ed7953\"],[0.7777777777777778,\"#fb9f3a\"],[0.8888888888888888,\"#fdca26\"],[1.0,\"#f0f921\"]]}],\"contourcarpet\":[{\"type\":\"contourcarpet\",\"colorbar\":{\"outlinewidth\":0,\"ticks\":\"\"}}],\"contour\":[{\"type\":\"contour\",\"colorbar\":{\"outlinewidth\":0,\"ticks\":\"\"},\"colorscale\":[[0.0,\"#0d0887\"],[0.1111111111111111,\"#46039f\"],[0.2222222222222222,\"#7201a8\"],[0.3333333333333333,\"#9c179e\"],[0.4444444444444444,\"#bd3786\"],[0.5555555555555556,\"#d8576b\"],[0.6666666666666666,\"#ed7953\"],[0.7777777777777778,\"#fb9f3a\"],[0.8888888888888888,\"#fdca26\"],[1.0,\"#f0f921\"]]}],\"surface\":[{\"type\":\"surface\",\"colorbar\":{\"outlinewidth\":0,\"ticks\":\"\"},\"colorscale\":[[0.0,\"#0d0887\"],[0.1111111111111111,\"#46039f\"],[0.2222222222222222,\"#7201a8\"],[0.3333333333333333,\"#9c179e\"],[0.4444444444444444,\"#bd3786\"],[0.5555555555555556,\"#d8576b\"],[0.6666666666666666,\"#ed7953\"],[0.7777777777777778,\"#fb9f3a\"],[0.8888888888888888,\"#fdca26\"],[1.0,\"#f0f921\"]]}],\"mesh3d\":[{\"type\":\"mesh3d\",\"colorbar\":{\"outlinewidth\":0,\"ticks\":\"\"}}],\"scatter\":[{\"fillpattern\":{\"fillmode\":\"overlay\",\"size\":10,\"solidity\":0.2},\"type\":\"scatter\"}],\"parcoords\":[{\"type\":\"parcoords\",\"line\":{\"colorbar\":{\"outlinewidth\":0,\"ticks\":\"\"}}}],\"scatterpolargl\":[{\"type\":\"scatterpolargl\",\"marker\":{\"colorbar\":{\"outlinewidth\":0,\"ticks\":\"\"}}}],\"bar\":[{\"error_x\":{\"color\":\"#2a3f5f\"},\"error_y\":{\"color\":\"#2a3f5f\"},\"marker\":{\"line\":{\"color\":\"#E5ECF6\",\"width\":0.5},\"pattern\":{\"fillmode\":\"overlay\",\"size\":10,\"solidity\":0.2}},\"type\":\"bar\"}],\"scattergeo\":[{\"type\":\"scattergeo\",\"marker\":{\"colorbar\":{\"outlinewidth\":0,\"ticks\":\"\"}}}],\"scatterpolar\":[{\"type\":\"scatterpolar\",\"marker\":{\"colorbar\":{\"outlinewidth\":0,\"ticks\":\"\"}}}],\"histogram\":[{\"marker\":{\"pattern\":{\"fillmode\":\"overlay\",\"size\":10,\"solidity\":0.2}},\"type\":\"histogram\"}],\"scattergl\":[{\"type\":\"scattergl\",\"marker\":{\"colorbar\":{\"outlinewidth\":0,\"ticks\":\"\"}}}],\"scatter3d\":[{\"type\":\"scatter3d\",\"line\":{\"colorbar\":{\"outlinewidth\":0,\"ticks\":\"\"}},\"marker\":{\"colorbar\":{\"outlinewidth\":0,\"ticks\":\"\"}}}],\"scattermap\":[{\"type\":\"scattermap\",\"marker\":{\"colorbar\":{\"outlinewidth\":0,\"ticks\":\"\"}}}],\"scattermapbox\":[{\"type\":\"scattermapbox\",\"marker\":{\"colorbar\":{\"outlinewidth\":0,\"ticks\":\"\"}}}],\"scatterternary\":[{\"type\":\"scatterternary\",\"marker\":{\"colorbar\":{\"outlinewidth\":0,\"ticks\":\"\"}}}],\"scattercarpet\":[{\"type\":\"scattercarpet\",\"marker\":{\"colorbar\":{\"outlinewidth\":0,\"ticks\":\"\"}}}],\"carpet\":[{\"aaxis\":{\"endlinecolor\":\"#2a3f5f\",\"gridcolor\":\"white\",\"linecolor\":\"white\",\"minorgridcolor\":\"white\",\"startlinecolor\":\"#2a3f5f\"},\"baxis\":{\"endlinecolor\":\"#2a3f5f\",\"gridcolor\":\"white\",\"linecolor\":\"white\",\"minorgridcolor\":\"white\",\"startlinecolor\":\"#2a3f5f\"},\"type\":\"carpet\"}],\"table\":[{\"cells\":{\"fill\":{\"color\":\"#EBF0F8\"},\"line\":{\"color\":\"white\"}},\"header\":{\"fill\":{\"color\":\"#C8D4E3\"},\"line\":{\"color\":\"white\"}},\"type\":\"table\"}],\"barpolar\":[{\"marker\":{\"line\":{\"color\":\"#E5ECF6\",\"width\":0.5},\"pattern\":{\"fillmode\":\"overlay\",\"size\":10,\"solidity\":0.2}},\"type\":\"barpolar\"}],\"pie\":[{\"automargin\":true,\"type\":\"pie\"}]},\"layout\":{\"autotypenumbers\":\"strict\",\"colorway\":[\"#636efa\",\"#EF553B\",\"#00cc96\",\"#ab63fa\",\"#FFA15A\",\"#19d3f3\",\"#FF6692\",\"#B6E880\",\"#FF97FF\",\"#FECB52\"],\"font\":{\"color\":\"#2a3f5f\"},\"hovermode\":\"closest\",\"hoverlabel\":{\"align\":\"left\"},\"paper_bgcolor\":\"white\",\"plot_bgcolor\":\"#E5ECF6\",\"polar\":{\"bgcolor\":\"#E5ECF6\",\"angularaxis\":{\"gridcolor\":\"white\",\"linecolor\":\"white\",\"ticks\":\"\"},\"radialaxis\":{\"gridcolor\":\"white\",\"linecolor\":\"white\",\"ticks\":\"\"}},\"ternary\":{\"bgcolor\":\"#E5ECF6\",\"aaxis\":{\"gridcolor\":\"white\",\"linecolor\":\"white\",\"ticks\":\"\"},\"baxis\":{\"gridcolor\":\"white\",\"linecolor\":\"white\",\"ticks\":\"\"},\"caxis\":{\"gridcolor\":\"white\",\"linecolor\":\"white\",\"ticks\":\"\"}},\"coloraxis\":{\"colorbar\":{\"outlinewidth\":0,\"ticks\":\"\"}},\"colorscale\":{\"sequential\":[[0.0,\"#0d0887\"],[0.1111111111111111,\"#46039f\"],[0.2222222222222222,\"#7201a8\"],[0.3333333333333333,\"#9c179e\"],[0.4444444444444444,\"#bd3786\"],[0.5555555555555556,\"#d8576b\"],[0.6666666666666666,\"#ed7953\"],[0.7777777777777778,\"#fb9f3a\"],[0.8888888888888888,\"#fdca26\"],[1.0,\"#f0f921\"]],\"sequentialminus\":[[0.0,\"#0d0887\"],[0.1111111111111111,\"#46039f\"],[0.2222222222222222,\"#7201a8\"],[0.3333333333333333,\"#9c179e\"],[0.4444444444444444,\"#bd3786\"],[0.5555555555555556,\"#d8576b\"],[0.6666666666666666,\"#ed7953\"],[0.7777777777777778,\"#fb9f3a\"],[0.8888888888888888,\"#fdca26\"],[1.0,\"#f0f921\"]],\"diverging\":[[0,\"#8e0152\"],[0.1,\"#c51b7d\"],[0.2,\"#de77ae\"],[0.3,\"#f1b6da\"],[0.4,\"#fde0ef\"],[0.5,\"#f7f7f7\"],[0.6,\"#e6f5d0\"],[0.7,\"#b8e186\"],[0.8,\"#7fbc41\"],[0.9,\"#4d9221\"],[1,\"#276419\"]]},\"xaxis\":{\"gridcolor\":\"white\",\"linecolor\":\"white\",\"ticks\":\"\",\"title\":{\"standoff\":15},\"zerolinecolor\":\"white\",\"automargin\":true,\"zerolinewidth\":2},\"yaxis\":{\"gridcolor\":\"white\",\"linecolor\":\"white\",\"ticks\":\"\",\"title\":{\"standoff\":15},\"zerolinecolor\":\"white\",\"automargin\":true,\"zerolinewidth\":2},\"scene\":{\"xaxis\":{\"backgroundcolor\":\"#E5ECF6\",\"gridcolor\":\"white\",\"linecolor\":\"white\",\"showbackground\":true,\"ticks\":\"\",\"zerolinecolor\":\"white\",\"gridwidth\":2},\"yaxis\":{\"backgroundcolor\":\"#E5ECF6\",\"gridcolor\":\"white\",\"linecolor\":\"white\",\"showbackground\":true,\"ticks\":\"\",\"zerolinecolor\":\"white\",\"gridwidth\":2},\"zaxis\":{\"backgroundcolor\":\"#E5ECF6\",\"gridcolor\":\"white\",\"linecolor\":\"white\",\"showbackground\":true,\"ticks\":\"\",\"zerolinecolor\":\"white\",\"gridwidth\":2}},\"shapedefaults\":{\"line\":{\"color\":\"#2a3f5f\"}},\"annotationdefaults\":{\"arrowcolor\":\"#2a3f5f\",\"arrowhead\":0,\"arrowwidth\":1},\"geo\":{\"bgcolor\":\"white\",\"landcolor\":\"#E5ECF6\",\"subunitcolor\":\"white\",\"showland\":true,\"showlakes\":true,\"lakecolor\":\"white\"},\"title\":{\"x\":0.05},\"mapbox\":{\"style\":\"light\"}}},\"xaxis\":{\"anchor\":\"y\",\"domain\":[0.0,1.0],\"title\":{\"text\":\"Enroll Total\"}},\"yaxis\":{\"anchor\":\"x\",\"domain\":[0.0,1.0]},\"legend\":{\"tracegroupgap\":0},\"title\":{\"text\":\"Box Plot of Total Enrollment\"},\"boxmode\":\"group\"},                        {\"responsive\": true}                    ).then(function(){\n                            \nvar gd = document.getElementById('1e1724c0-1ce7-408b-ba7b-24039fe1d8fb');\nvar x = new MutationObserver(function (mutations, observer) {{\n        var display = window.getComputedStyle(gd).display;\n        if (!display || display === 'none') {{\n            console.log([gd, 'removed!']);\n            Plotly.purge(gd);\n            observer.disconnect();\n        }}\n}});\n\n// Listen for the removal of the full notebook cells\nvar notebookContainer = gd.closest('#notebook-container');\nif (notebookContainer) {{\n    x.observe(notebookContainer, {childList: true});\n}}\n\n// Listen for the clearing of the current output cell\nvar outputEl = gd.closest('.output');\nif (outputEl) {{\n    x.observe(outputEl, {childList: true});\n}}\n\n                        })                };            </script>        </div>\n</body>\n</html>"
          },
          "metadata": {},
          "output_type": "display_data"
        }
      ],
      "outputs_reference": null,
      "content_dependencies": null
    },
    {
      "cell_type": "markdown",
      "metadata": {
        "cell_id": "7e0225d457e541829a06416cd5e4d48f",
        "deepnote_cell_type": "markdown"
      },
      "source": "This box plot confirms our earlier observation that the distribution of **total enrollment is right-skewed**, with a few districts having much higher enrollments than the rest.",
      "block_group": "431b66ac197b468d98df9683707c85a7"
    },
    {
      "cell_type": "markdown",
      "metadata": {
        "formattedRanges": [
          {
            "type": "marks",
            "marks": {
              "code": true
            },
            "toCodePoint": 53,
            "fromCodePoint": 36
          }
        ],
        "cell_id": "8a49705d8dca4b2ea4abe41532609596",
        "deepnote_cell_type": "text-cell-h3"
      },
      "source": "### 4.2. Box Plot - Distribution of the 'Expense per ADA' Column",
      "block_group": "cc52d0e952dc45b3af5ca90e5aa48c02"
    },
    {
      "cell_type": "markdown",
      "metadata": {
        "cell_id": "c25d5a02ec2e40debf226f99dfa51003",
        "deepnote_cell_type": "markdown"
      },
      "source": "A box plot for `'Expense per ADA'` will help us visualize the distribution and spread of per-pupil spending.",
      "block_group": "3c6754b75c1e498ea81dd421fe9acddd"
    },
    {
      "cell_type": "code",
      "metadata": {
        "source_hash": "8478656c",
        "execution_start": 1760127666537,
        "execution_millis": 0,
        "execution_context_id": "79fa4d62-8961-4dfa-a5c8-892d38695664",
        "cell_id": "6fb4f8abf2bf4d2f9fc23ad274847dde",
        "deepnote_cell_type": "code"
      },
      "source": "fig_exp_box = px.box(\n    district_and_expenses, \n    x='Expense per ADA', \n    title='Box Plot of Expense per ADA')\n\nfig_exp_box.show()",
      "block_group": "a223bdb8ee064856b7afdec01af25773",
      "execution_count": 9,
      "outputs": [
        {
          "data": {
            "text/html": "<html>\n<head><meta charset=\"utf-8\" /></head>\n<body>\n    <div>            <script src=\"https://cdnjs.cloudflare.com/ajax/libs/mathjax/2.7.5/MathJax.js?config=TeX-AMS-MML_SVG\"></script><script type=\"text/javascript\">if (window.MathJax && window.MathJax.Hub && window.MathJax.Hub.Config) {window.MathJax.Hub.Config({SVG: {font: \"STIX-Web\"}});}</script>                <script type=\"text/javascript\">window.PlotlyConfig = {MathJaxConfig: 'local'};</script>\n        <script charset=\"utf-8\" src=\"https://cdn.plot.ly/plotly-3.1.0.min.js\" integrity=\"sha256-Ei4740bWZhaUTQuD6q9yQlgVCMPBz6CZWhevDYPv93A=\" crossorigin=\"anonymous\"></script>                <div id=\"f6dbfdef-a765-45c4-abbb-19afdf0d52db\" class=\"plotly-graph-div\" style=\"height:525px; width:100%;\"></div>            <script type=\"text/javascript\">                window.PLOTLYENV=window.PLOTLYENV || {};                                if (document.getElementById(\"f6dbfdef-a765-45c4-abbb-19afdf0d52db\")) {                    Plotly.newPlot(                        \"f6dbfdef-a765-45c4-abbb-19afdf0d52db\",                        [{\"alignmentgroup\":\"True\",\"hovertemplate\":\"Expense per ADA=%{x}\\u003cextra\\u003e\\u003c\\u002fextra\\u003e\",\"legendgroup\":\"\",\"marker\":{\"color\":\"#636efa\"},\"name\":\"\",\"notched\":false,\"offsetgroup\":\"\",\"orientation\":\"h\",\"showlegend\":false,\"x\":{\"dtype\":\"f8\",\"bdata\":\"UrgehXut0UBcj8L1yHrRQM3MzMwsINlAZmZmZqbzzkCPwvUoXO3bQD0K16OQu89AmpmZmSmc1kBxPQrX80bQQAAAAACwj+tAj8L1KKxt0EB7FK5H8czQQClcj8IFFNtA16NwPbph1kDXo3A9KkLTQKRwPQoX5dRAhetRuP5BzkAK16NwLfPQQK5H4Xr0gtJAH4XrUVgb7UA9CtejsJXOQPYoXI\\u002fyBNdAUrgehQul0UCF61G4zrLQQClcj8LVQMtAH4XrUfDr4UCamZmZeVXOQArXo3Cd+tRAAAAAAGB31EApXI\\u002fCNVvTQMP1KFw\\u002f59ZASOF6FB5900DsUbgenbXlQLgehetRedFAXI\\u002fC9Ujt2kApXI\\u002fClevPQOxRuB7luM5AH4XrUci\\u002f00CF61G4DlPQQOF6FK5nH9JA16NwPWohzUBcj8L16PPPQB+F61F40NJASOF6FK7m1ECamZmZWYXMQDMzMzODb9JA16NwPTqE0kCuR+F6FMDVQHsUrkdhictAAAAAAGAT0kCF61G4TlzQQHE9CteDkNBAcT0K11OI0ECPwvUobJrQQFK4HoVLh89AUrgehZuK0ECF61G4zvPTQHE9CtfjJ9VAH4XrURh+0EApXI\\u002fCFZnNQLgeheuhw9RArkfhehSizEAK16NwPXrRQAAAAAAAr89ArkfhekRY0EDXo3A9alHPQIXrUbjOjulAPQrXowBG0kA9CtejIIjTQEjhehSu4NBAKVyPwrU20UAzMzMz8+bNQPYoXI\\u002fSX9BAH4XrUdjvykCPwvUo1FriQFK4HoWr289APQrXo1Bp1EDD9Shc+xf0QEjhehR+PNhA9ihcj4IBzEAAAAAAwHrOQPYoXI\\u002fSs9ZAmpmZmbmk00BxPQrXg3TXQHsUrkcRJdBAmpmZmekW0UBcj8L1WDDUQClcj8Ll8dhAj8L1KCx720BmZmZmNgrZQB+F61EY+dZAw\\u002fUoXN\\u002fp1ECkcD0Kf+flQNejcD0qn9RA16NwPVrX0UBSuB6FO+jVQFK4HoVrRtJAw\\u002fUoXB871kCPwvUofNzkQKRwPQoX1tNAMzMzMwPT0UCPwvUoXC\\u002fRQHsUrkcxcdJAj8L1KAyR2UBSuB6FW0vUQGZmZmam29NAMzMzM5My0kBI4XoU7t7WQI\\u002fC9Shchs1AzczMzCyUzECF61G4vlDIQM3MzMxM2dxAXI\\u002fC9Zhx6EDNzMzM7OzNQHE9CtfjXM9A16NwPapZzkDD9ShcX9XVQPYoXI9y1tRAcT0K19vl4UApXI\\u002fC1YnVQHE9CtdDcdpA7FG4HrUt0EBmZmZmBrzNQFK4HoWrxc9AexSuR6Ex0ECamZmZCTrRQArXo3Ddz9JAUrgehesK80CuR+F6lA\\u002fLQPYoXI9i7ctAH4XrURga3EC4HoXrkQnYQJqZmZn5JeBAZmZmZuZs8UBSuB6Fy7DSQIXrUbhaF\\u002flAzczMzCz7zkAAAAAAoAnYQB+F61GootNA9ihcj8JM0kAfhetRuAvWQEjhehQuYdZAUrgehQun0kCamZmZOR\\u002fVQB+F61EImONAw\\u002fUoXE\\u002fv0UAK16Nw3T3TQAAAAACA7dNAexSuR6FF00AK16NwvV\\u002fVQB+F61FIn9VACtejcJ3b00CamZmZ6brTQB+F61HocNRAZmZmZjaY00DXo3A9KqXPQHsUrkfxNNFAFK5H4ZoczUAUrkfhyiLXQEjhehSu5s9AhetRuM5o4UBI4XoUnvPXQFK4HoV719xAexSuR0Gh4kDNzMzMeGv3QMP1KFzPndlAH4XrUehu30AzMzMz83baQBSuR+Gqx9FAuB6F68Hh00CkcD0K153UQAAAAACADNRAj8L1KNzO0UAUrkfh6jDRQBSuR+GqKt1AAAAAAOCU10CPwvUojJ3XQBSuR+FKEdRAPQrXozCU1UBmZmZmFi\\u002fTQArXo3AdcNFA16NwPaod0kDXo3A9qq3OQBSuR+Gq3tJAPQrXoyA20kDD9ShcT8vSQFK4HoXrsNdA7FG4HiWqyUAAAAAAgF\\u002fSQD0K16Nwj9VACtejcDUM4kCPwvUo7BrdQOxRuB6l+tBAj8L1KBwa20A9CtejEKTeQDMzMzOz69pA16NwPSpS1UBSuB6F++HRQHsUrkdBJMpApHA9Cufr1kCPwvUoXADKQFyPwvU4Y99ArkfhepTY0UAK16Nw3avSQOxRuB5Vd9NAAAAAACAzzkDhehSuN4vYQAAAAADQH9BASOF6FL761kDsUbgedZrTQI\\u002fC9Si8C9NACtejcD2PzUCkcD0KlwbRQLgehevBZNJAhetRuL6G1UBmZmZmRvPQQOxRuB61WdVACtejcF3J0kBI4XoUnsjRQEjhehTO99BACtejcF2qzEBcj8L1qOTKQJqZmZlZi9BAzczMzOwa1UBmZmZmVgPRQDMzMzOzhNFA4XoUrgfty0C4HoXr4avSQDMzMzPjhdFAzczMzOyj1UAfhetRCKLTQAAAAABgQtJASOF6FH6q0EA9Ctej4CPXQM3MzMys19hAcT0K1yNAz0Bcj8L1SNTJQM3MzMxMvdBAMzMzM9dh9kAfhetRuFnMQDMzMzMTPMxAFK5H4Xq3zUB7FK5HIX3UQBSuR+ESSuJAKVyPwuVi0kAzMzMzU0jSQPYoXI8yFNFAzczMzMzX1kB7FK5H4Y3WQAAAAADQRNZAzczMzMzH1UAUrkfhCvreQIXrUbie8s9AexSuR8GBz0CPwvUo3BbQQIXrUbhebdRAMzMzM2OB00DsUbgexZ3QQClcj8LVH9NAKVyPwlV000AfhetRqBzTQI\\u002fC9Sj8MNNAcT0K1wMS1kAK16NwXSbSQDMzMzNT0ddArkfhekSf2EAAAAAA4ILTQHE9Cteju89AAAAAADB21EAAAAAAUBTQQJqZmZn5+M9AMzMzM\\u002fPa0UCkcD0Kd9zUQJqZmZk5ys5ACtejcD3zyEAUrkfhuvDaQArXo3CdZtNAPQrXowDT0ECkcD0KpwPVQAAAAAAgqtpAH4XrUTjQ1kD2KFyPUtTUQFK4HoX72tVACtejcH1w2kBcj8L1CG7XQJqZmZmJXdZAKVyPwjVU0kBcj8L16BrZQAAAAAAg5NlAFK5H4fr8zUCuR+F69OzUQJqZmZmZw9NAFK5H4erg0ECPwvUorBnXQOF6FK5XYtlArkfherQA1kD2KFyPcpXTQNejcD3qJNBAZmZmZgYG1kBI4XoUzk7NQClcj8I1XM9A7FG4HuVh10BmZmZmtkbQQBSuR+FKM9FAmpmZmXmLzkAAAAAA0MTTQNejcD3qdNRAKVyPwrUMzkC4HoXr0S\\u002fUQGZmZmZGxdZAexSuR1GM0ECuR+F6BEHVQKRwPQqng9ZACtejcG0400CamZmZqWbWQK5H4XrUVc9AcT0K18NJ00DNzMzM\\u002fKjVQI\\u002fC9SjMTtFAMzMzMxN0zUBmZmZm1s\\u002fTQOF6FK7Hes5APQrXo2A50UCPwvUovBHUQKRwPQoHitJA9ihcj5IU0kBmZmZmRqfTQDMzMzMTa9FAj8L1KPzMykD2KFyPgnDUQHsUrkdh1NJA16NwPdoj7EAfhetRyNTRQJqZmZnJ1dRAcT0K15Mn6UAAAAAAUIrdQBSuR+Eas9VAuB6F6yFD2EDD9ShcfwLhQGZmZma2V9FAPQrXo4AA20B7FK5HUWbeQB+F61F4\\u002fdJAUrgehesw00AUrkfhymblQDMzMzODTdhA7FG4Hu1R40BI4XoUXo7RQLgehesBt9NApHA9Cqdy10ApXI\\u002fCZd3TQK5H4XqUcOdAAAAAANCc2EAfhetRWPDZQHsUrkfBL9RA9ihcj7Lz1EDD9Shcrx3UQHE9Ctfj2NVAFK5H4arS4ECkcD0K96jRQD0K16MgI+BAFK5H4Sph10CuR+F6hE3QQD0K16NwvtVAPQrXo1BT2EDNzMzMfArRQMP1KFxP0tFAexSuR6EFy0DXo3A9KhPRQOF6FK5HH9JAKVyPwnU+0EDhehSu5yrWQOF6FK6HA9RAMzMzM5Pn0UAfhetR+LTQQMP1KFwPy9NAUrgehQs7z0BI4XoUjh3TQHsUrkfRn9VA16NwPRrL20AAAAAAMFzRQHsUrkcxWtRAUrgehVNU4UDhehSuRz7SQArXo3CNU9ZAH4XrUYjP30BxPQrXA8PiQI\\u002fC9ShsItZAexSuR0Hg0EDD9ShcDz7TQNejcD2qsNJAZmZmZka70EBSuB6FKyvSQI\\u002fC9Sg8yc5AuB6F6zFf1UAzMzMzo9HbQJqZmZkJedVAcT0K14Pq00AUrkfh2hPPQFyPwvVIWtxAH4XrUdjj3EDD9Shcn\\u002fjSQJqZmZn5zMpA16NwPYpOzkCF61G4vm\\u002fUQGZmZmbeI\\u002flArkfheiQ11EBI4XoU7lrWQIXrUbget99Aj8L1KIxa3ECPwvUozITQQClcj8IVIOFArkfhekxT4kAK16NwTQrSQJqZmZlZNMtAj8L1KCyq00Bcj8L1SE3PQClcj8IVjdNA7FG4HqWFy0DsUbgeRfvOQEjhehTOLNtA9ihcjyJ3z0B7FK5Hwb3NQHsUrkeB1NdAuB6F69GF00D2KFyPQmDPQD0K16OwE9VAAAAAAMAa0UA9CtejkNHQQKRwPQqnTNBA4XoUruemzkAAAAAAoAzRQLgehethJNFA16NwPfpU1UDD9ShcLxLRQClcj8LV99FAZmZmZkYM4UAUrkfhWgnVQLgehesxMNVAw\\u002fUoXM9b2UBSuB6Fq+HRQBSuR+EaL9BAXI\\u002fC9RhY0EDsUbge5YLYQClcj8L1rNNAFK5H4Up81EDD9ShcH+7QQArXo3Ad2s9Aw\\u002fUoXO9OzkApXI\\u002fCdXrPQNejcD1qsslAAAAAAIDk0kCkcD0K503RQDMzMzMzt9FA4XoUrsfKykAK16Nw\\u002fULLQClcj8I1cc5A9ihcj+KtyUAUrkfhynzYQOxRuB7lYM5A9ihcjzIQ0kDNzMzMrNDMQM3MzMyshtBAcT0K18Nb2UB7FK5HIcnNQM3MzMxsoc1AKVyPwkV410BxPQrXY1LUQM3MzMwccdVASOF6FO4P0kBI4XoUTuTRQJqZmZmJavxAj8L1KPx\\u002f1EDD9ShcryjVQOxRuB7FQdVA9ihcj0L6zkAK16NwDUfUQHsUrkeRltRAmpmZmWlW10BmZmZmFhvVQJqZmZnJi9NA7FG4HhVV1EA9CtejUHPSQKRwPQr3u89AH4XrUQiO1ECPwvUorFzYQHE9CtcjRtFAUrgehStIz0BI4XoUbgPPQArXo3DtddRAj8L1KHyGzEA9CtejwFHRQArXo3AdvNFAZmZmZob9zkBmZmZm1n\\u002fQQClcj8KFItJAUrgehQvE1ECuR+F6NPzSQAAAAABAVNZApHA9Cpfp0EA9CtejEEfRQKRwPQpHGNFAmpmZmZm11EDhehSuZ6PTQB+F61EIXNdAFK5H4Ro+0ECF61G4tkP2QM3MzMzs1MtAMzMzM0NH3kBSuB6Fy1vQQMP1KFxPnsZAPQrXoyAh0kBSuB6FS8vcQPYoXI\\u002fiL9NAAAAAALAZ00Bcj8L1KC\\u002fOQJqZmZm5uNBAMzMzM4Pt0UCF61G4rjbQQGZmZmZ2c9JAKVyPwkUR0EDXo3A9movVQM3MzMxc0ddAuB6F65EM0EApXI\\u002fCBVbTQBSuR+GawM9ApHA9CudY1EAfhetR+LrNQEjhehQeGdFA7FG4HoWm1UCPwvUoDKHXQHE9CteV+ABBmpmZmXmM0kAfhetROCfUQOF6FK63fNJAKVyPwnVM2ECamZmZ4ZzhQD0K16Pw7tNAKVyPwlVG1EBxPQrXo93RQEjhehRWFeBA16NwPQrd1UAzMzMzoxnRQD0K16NAMtBACtejcC2B1UBcj8L1OAHTQBSuR+GK0NJAPQrXo6Av0EBmZmZmxsTZQD0K16Ow39NA4XoUricZ1EDsUbgelSHSQK5H4XoEFdRASOF6FF4p0kBmZmZmhp7VQClcj8Kl89FAexSuR\\u002fEA1EDD9ShcX9XVQClcj8Klp9RA9ihcj+Jq1UDhehSuByPVQOxRuB51OdFAXI\\u002fC9VjU10DNzMzMvAXiQPYoXI8S3dBAFK5H4YqK0kCF61G4nlLVQArXo3A9rNRAzczMzFzO2EC4HoXrsWHOQNejcD3Khc9AZmZmZkaj3EA9Ctej8G\\u002fVQGZmZmYmic5ACtejcJ0zy0C4HoXr8UTQQHE9Ctezf9VAUrgehSvI1kCPwvUoXNLZQDMzMzPzWeFArkfheqT10EBcj8L1mBzVQBSuR+GKO9NAhetRuP74z0CamZmZSXXSQIXrUbie9M9AFK5H4Vqw3UBxPQrXUwXSQMP1KFyvw9BAzczMzNwK2UBcj8L1SBrMQJqZmZn5+8hA7FG4HpWu0EDXo3A92sTSQOF6FK7XTtJAhetRuP4Rz0ApXI\\u002fCFYzXQAAAAACgZslASOF6FA4QzEDsUbgeNQbYQFyPwvUI9NFAexSuR+H6yEDXo3A9uvjfQPYoXI+Cuc9AcT0K1yPN20A9CtejYATRQKRwPQrHnddAcT0K12Nk00DD9Shcj1rQQOF6FK6X59lAhetRuB5CzkDNzMzMLPTQQLgehevBKuFAUrgehesS00CF61G4ntrOQClcj8JlStlAKVyPwpVwzUDXo3A9+qDSQFyPwvXYHt5AZmZmZrbc0kB7FK5HoSHXQFK4HoVrmM5APQrXo\\u002fB630DsUbgelb7fQKRwPQo3K9tAKVyPwpXNz0AzMzMzcxjjQHsUrkc54+NA7FG4HsUL10BSuB6F2yPUQLgehevxWNFAmpmZmSl+1UDD9Shc\\u002f3jaQI\\u002fC9SgcQNxA16NwPYrz1EDNzMzMnMbiQNejcD06\\u002fNlAMzMzM9PnzkDXo3A9ynjTQGZmZmYGQt1ASOF6FM4s10DhehSuR97cQOxRuB7FuN5A4XoUrpcX1kBSuB6F63fUQJqZmZlp2dNAcT0K11O50EApXI\\u002fCVTXPQAAAAACwk+VAPQrXo9DDzECPwvUorJzTQK5H4Xr029FA9ihcjwIjzEDNzMzM\\u002fGHWQAAAAABA4dZA4XoUrifs0kC4HoXrcV7XQHsUrkdxadFA4XoUroeu0UD2KFyPMg7UQClcj8L1c9NAKVyPwqXC0UCamZmZaZDSQB+F61EoUNBAcT0K18PN2ECamZmZCUHYQHE9CtfzWtFA7FG4Hm124EAUrkfhWgzUQBSuR+Hqa9dAMzMzM7Pe1EDhehSuV6LYQI\\u002fC9Sg8GtZAKVyPwgVs00B7FK5H0QrSQJqZmZkJDtlAAAAAABC34EBcj8L1SKrYQKRwPQqnyNBAmpmZmRmq1ECF61G4\\u002ft3eQClcj8JlQdRAcT0K17Mp3UC4HoXroTfYQLgeheuxN9lAuB6F6zFD0EA9CtejcDvQQClcj8LFYt1AMzMzM0Mf0kAAAAAAALXTQGZmZmb2CtJApHA9CveaykAUrkfhqgLYQMP1KFw\\u002fatJAKVyPwhWX0ECkcD0Kl97PQGZmZmZGi9FAzczMzOwI0UAzMzMzUyvWQIXrUbge2tVAj8L1KNR64UAzMzMzAwLTQK5H4XoEVdBAw\\u002fUoXH8f0UCuR+F6JM7UQClcj8LF4eBAmpmZmZnOzUAfhetRuOfQQD0K16PAOOFAXI\\u002fC9fga0UDNzMzMDPrRQHE9CteDEclAuB6F62lf7kCkcD0K1+3PQB+F61HYBdNAuB6F6zEw1EDhehSud1\\u002fRQMP1KFwf3dBAUrgehSv22kAAAAAAEIvWQB+F61EI99VASOF6FA5L0ED2KFyPYunaQBSuR+Ga\\u002fc5AcT0K10PS1EDD9Shch3DiQPYoXI9yXORAFK5H4UoP2kDXo3A9anzNQK5H4XoU8NZAcT0K1+ND4UAK16NwnXP6QBSuR+HqMNdAcT0K1zOd00AzMzMzY+vQQClcj8KVj9BAUrgehWOz7EBmZmZmllbYQIXrUbg+SNhACtejcB0h1EDNzMzMDKzUQClcj8J1YNVAKVyPwnWJ1EA9CtejYBDUQFK4HoWryM5AMzMzMzOOzUAzMzMzk3fPQBSuR+G6O89AH4XrURhazUDhehSuZzbZQK5H4XpElNhAmpmZmTkn0kBSuB6Fm4zYQClcj8I1Z9BAXI\\u002fC9cgU2EBI4XoUTiLUQBSuR+Ga4sxAUrgehStX20AK16NwZarzQAAAAABwQ91A16NwPfqc0UApXI\\u002fCJW3gQArXo3Dde99AMzMzM7Mt5EBcj8L1aMjfQPYoXI9CONNAFK5H4eqV00CamZmZcf\\u002fgQBSuR+FK2OlAUrgehet10kB7FK5HwdHTQLgeheuxMdZA7FG4Hs3v8kCamZmZuSfSQHsUrkcpfuJAzczMzIxp1UAfhetR+FbZQNejcD16EdVAhetRuH4g1UAzMzMzEwrNQFK4HoVr49BApHA9CvfszkDsUbgeBQDWQD0K16PA6NBAexSuR5GA0UC4HoXrkebaQIXrUbg+PdNAKVyPwqU20UDsUbgeVVjRQEjhehROCNNA4XoUrietz0C4HoXrsWDKQFyPwvUoCMhAj8L1KPw21UDhehSu98nSQLgehethB9JAuB6F66He0UCamZmZuaPKQHsUrkcBp9RAPQrXo5DM0ECamZmZuWvTQClcj8K1ts9AmpmZmdlfzUCuR+F6JObTQFyPwvWo6dBApHA9Crcw1UCF61G4PiPQQIXrUbiewtRACtejcI3f0UCamZmZGV3HQHsUrkchb8lApHA9ChfX0EA9CtejEKHHQOxRuB4FvNFAmpmZmdlU0EDsUbgeVd3RQKRwPQpXgM1AhetRuB5ZzEAK16NwfVTOQFyPwvWoc91Aj8L1KHxS00C4HoXrgfXQQI\\u002fC9Sg8bdFA7FG4HpWP0kDhehSu5ybPQDMzMzMjctRAhetRuG4y0kCF61G47tTRQPYoXI\\u002filMxAZmZmZraM00BxPQrXg6DTQFyPwvX4VdNApHA9Ctc6ykCPwvUo\\u002fMPLQM3MzMz86NVAXI\\u002fC9WAz4kCPwvUoXBDPQIXrUbieTNJAuB6F6\\u002fEw1UBmZmZmVjjfQLgehespReRA4XoUrjcz00AfhetRuGjTQKRwPQp3aNFASOF6FE6h1UDsUbgeBaPSQB+F61E4DtJAH4XrUeiR0kDD9ShcTz7KQNejcD1qe9NAmpmZmWk11EDNzMzMXODXQLgehesxV9BA4XoUrjds3UB7FK5H0W3UQOF6FK4nXcVAFK5H4doz1kB7FK5Hge\\u002fRQJqZmZmJzdJAhetRuN5vw0AzMzMzw+LRQFyPwvXoctVA16NwPSof00BI4XoUrhzZQM3MzMyMysxAhetRuA7J00CamZmZSa3YQMP1KFyfJNBAH4XrUUjq2UCF61G4Pi7WQClcj8JVzctAPQrXo7Bl10DNzMzMDDDUQFK4HoW7gdZAFK5H4YrU00DsUbgexcvRQGZmZmZGNNFAAAAAAKBm00AzMzMz4\\u002fDSQHsUrkfxqNNA4XoUrjd11UB7FK5HgYnVQB+F61HYbNNAj8L1KHwD00AfhetRqBnTQAAAAAAwzdJAMzMzM+PZ0kDsUbgehX3RQNejcD2qT89ApHA9CveO0kB7FK5HwTbPQIXrUbgOXdRAzczMzEz7zUAfhetRGFbNQClcj8K1p9JArkfhekR600CF61G4PnLgQArXo3Ad2NBAZmZmZmZ61ECF61G4PlbUQI\\u002fC9Si8i81AzczMzKyxzUA9CtejIMfTQMP1KFxPf85AexSuR5FQ10CF61G47n3TQLgehetxBs1ACtejcH3X0UBxPQrXY3rSQOF6FK5X0tBAw\\u002fUoXA9t1UBxPQrXk6bSQK5H4XrUQdBAAAAAACDry0B7FK5HAc3NQJqZmZnp3NZAPQrXoyAm0UA9CtejoO\\u002fTQClcj8Jl6tFASOF6FN790kAzMzMzswLSQDMzMzPzlddAuB6F67FI0UBI4XoUbpzNQDMzMzOTTtZAexSuR8Fj00AAAAAAcNHQQArXo3AlfOBAMzMzM7N83kDsUbgepcrTQB+F61E4YtJAMzMzMxPB1ED2KFyPUlvTQA==\"},\"x0\":\" \",\"xaxis\":\"x\",\"y0\":\" \",\"yaxis\":\"y\",\"type\":\"box\"}],                        {\"template\":{\"data\":{\"histogram2dcontour\":[{\"type\":\"histogram2dcontour\",\"colorbar\":{\"outlinewidth\":0,\"ticks\":\"\"},\"colorscale\":[[0.0,\"#0d0887\"],[0.1111111111111111,\"#46039f\"],[0.2222222222222222,\"#7201a8\"],[0.3333333333333333,\"#9c179e\"],[0.4444444444444444,\"#bd3786\"],[0.5555555555555556,\"#d8576b\"],[0.6666666666666666,\"#ed7953\"],[0.7777777777777778,\"#fb9f3a\"],[0.8888888888888888,\"#fdca26\"],[1.0,\"#f0f921\"]]}],\"choropleth\":[{\"type\":\"choropleth\",\"colorbar\":{\"outlinewidth\":0,\"ticks\":\"\"}}],\"histogram2d\":[{\"type\":\"histogram2d\",\"colorbar\":{\"outlinewidth\":0,\"ticks\":\"\"},\"colorscale\":[[0.0,\"#0d0887\"],[0.1111111111111111,\"#46039f\"],[0.2222222222222222,\"#7201a8\"],[0.3333333333333333,\"#9c179e\"],[0.4444444444444444,\"#bd3786\"],[0.5555555555555556,\"#d8576b\"],[0.6666666666666666,\"#ed7953\"],[0.7777777777777778,\"#fb9f3a\"],[0.8888888888888888,\"#fdca26\"],[1.0,\"#f0f921\"]]}],\"heatmap\":[{\"type\":\"heatmap\",\"colorbar\":{\"outlinewidth\":0,\"ticks\":\"\"},\"colorscale\":[[0.0,\"#0d0887\"],[0.1111111111111111,\"#46039f\"],[0.2222222222222222,\"#7201a8\"],[0.3333333333333333,\"#9c179e\"],[0.4444444444444444,\"#bd3786\"],[0.5555555555555556,\"#d8576b\"],[0.6666666666666666,\"#ed7953\"],[0.7777777777777778,\"#fb9f3a\"],[0.8888888888888888,\"#fdca26\"],[1.0,\"#f0f921\"]]}],\"contourcarpet\":[{\"type\":\"contourcarpet\",\"colorbar\":{\"outlinewidth\":0,\"ticks\":\"\"}}],\"contour\":[{\"type\":\"contour\",\"colorbar\":{\"outlinewidth\":0,\"ticks\":\"\"},\"colorscale\":[[0.0,\"#0d0887\"],[0.1111111111111111,\"#46039f\"],[0.2222222222222222,\"#7201a8\"],[0.3333333333333333,\"#9c179e\"],[0.4444444444444444,\"#bd3786\"],[0.5555555555555556,\"#d8576b\"],[0.6666666666666666,\"#ed7953\"],[0.7777777777777778,\"#fb9f3a\"],[0.8888888888888888,\"#fdca26\"],[1.0,\"#f0f921\"]]}],\"surface\":[{\"type\":\"surface\",\"colorbar\":{\"outlinewidth\":0,\"ticks\":\"\"},\"colorscale\":[[0.0,\"#0d0887\"],[0.1111111111111111,\"#46039f\"],[0.2222222222222222,\"#7201a8\"],[0.3333333333333333,\"#9c179e\"],[0.4444444444444444,\"#bd3786\"],[0.5555555555555556,\"#d8576b\"],[0.6666666666666666,\"#ed7953\"],[0.7777777777777778,\"#fb9f3a\"],[0.8888888888888888,\"#fdca26\"],[1.0,\"#f0f921\"]]}],\"mesh3d\":[{\"type\":\"mesh3d\",\"colorbar\":{\"outlinewidth\":0,\"ticks\":\"\"}}],\"scatter\":[{\"fillpattern\":{\"fillmode\":\"overlay\",\"size\":10,\"solidity\":0.2},\"type\":\"scatter\"}],\"parcoords\":[{\"type\":\"parcoords\",\"line\":{\"colorbar\":{\"outlinewidth\":0,\"ticks\":\"\"}}}],\"scatterpolargl\":[{\"type\":\"scatterpolargl\",\"marker\":{\"colorbar\":{\"outlinewidth\":0,\"ticks\":\"\"}}}],\"bar\":[{\"error_x\":{\"color\":\"#2a3f5f\"},\"error_y\":{\"color\":\"#2a3f5f\"},\"marker\":{\"line\":{\"color\":\"#E5ECF6\",\"width\":0.5},\"pattern\":{\"fillmode\":\"overlay\",\"size\":10,\"solidity\":0.2}},\"type\":\"bar\"}],\"scattergeo\":[{\"type\":\"scattergeo\",\"marker\":{\"colorbar\":{\"outlinewidth\":0,\"ticks\":\"\"}}}],\"scatterpolar\":[{\"type\":\"scatterpolar\",\"marker\":{\"colorbar\":{\"outlinewidth\":0,\"ticks\":\"\"}}}],\"histogram\":[{\"marker\":{\"pattern\":{\"fillmode\":\"overlay\",\"size\":10,\"solidity\":0.2}},\"type\":\"histogram\"}],\"scattergl\":[{\"type\":\"scattergl\",\"marker\":{\"colorbar\":{\"outlinewidth\":0,\"ticks\":\"\"}}}],\"scatter3d\":[{\"type\":\"scatter3d\",\"line\":{\"colorbar\":{\"outlinewidth\":0,\"ticks\":\"\"}},\"marker\":{\"colorbar\":{\"outlinewidth\":0,\"ticks\":\"\"}}}],\"scattermap\":[{\"type\":\"scattermap\",\"marker\":{\"colorbar\":{\"outlinewidth\":0,\"ticks\":\"\"}}}],\"scattermapbox\":[{\"type\":\"scattermapbox\",\"marker\":{\"colorbar\":{\"outlinewidth\":0,\"ticks\":\"\"}}}],\"scatterternary\":[{\"type\":\"scatterternary\",\"marker\":{\"colorbar\":{\"outlinewidth\":0,\"ticks\":\"\"}}}],\"scattercarpet\":[{\"type\":\"scattercarpet\",\"marker\":{\"colorbar\":{\"outlinewidth\":0,\"ticks\":\"\"}}}],\"carpet\":[{\"aaxis\":{\"endlinecolor\":\"#2a3f5f\",\"gridcolor\":\"white\",\"linecolor\":\"white\",\"minorgridcolor\":\"white\",\"startlinecolor\":\"#2a3f5f\"},\"baxis\":{\"endlinecolor\":\"#2a3f5f\",\"gridcolor\":\"white\",\"linecolor\":\"white\",\"minorgridcolor\":\"white\",\"startlinecolor\":\"#2a3f5f\"},\"type\":\"carpet\"}],\"table\":[{\"cells\":{\"fill\":{\"color\":\"#EBF0F8\"},\"line\":{\"color\":\"white\"}},\"header\":{\"fill\":{\"color\":\"#C8D4E3\"},\"line\":{\"color\":\"white\"}},\"type\":\"table\"}],\"barpolar\":[{\"marker\":{\"line\":{\"color\":\"#E5ECF6\",\"width\":0.5},\"pattern\":{\"fillmode\":\"overlay\",\"size\":10,\"solidity\":0.2}},\"type\":\"barpolar\"}],\"pie\":[{\"automargin\":true,\"type\":\"pie\"}]},\"layout\":{\"autotypenumbers\":\"strict\",\"colorway\":[\"#636efa\",\"#EF553B\",\"#00cc96\",\"#ab63fa\",\"#FFA15A\",\"#19d3f3\",\"#FF6692\",\"#B6E880\",\"#FF97FF\",\"#FECB52\"],\"font\":{\"color\":\"#2a3f5f\"},\"hovermode\":\"closest\",\"hoverlabel\":{\"align\":\"left\"},\"paper_bgcolor\":\"white\",\"plot_bgcolor\":\"#E5ECF6\",\"polar\":{\"bgcolor\":\"#E5ECF6\",\"angularaxis\":{\"gridcolor\":\"white\",\"linecolor\":\"white\",\"ticks\":\"\"},\"radialaxis\":{\"gridcolor\":\"white\",\"linecolor\":\"white\",\"ticks\":\"\"}},\"ternary\":{\"bgcolor\":\"#E5ECF6\",\"aaxis\":{\"gridcolor\":\"white\",\"linecolor\":\"white\",\"ticks\":\"\"},\"baxis\":{\"gridcolor\":\"white\",\"linecolor\":\"white\",\"ticks\":\"\"},\"caxis\":{\"gridcolor\":\"white\",\"linecolor\":\"white\",\"ticks\":\"\"}},\"coloraxis\":{\"colorbar\":{\"outlinewidth\":0,\"ticks\":\"\"}},\"colorscale\":{\"sequential\":[[0.0,\"#0d0887\"],[0.1111111111111111,\"#46039f\"],[0.2222222222222222,\"#7201a8\"],[0.3333333333333333,\"#9c179e\"],[0.4444444444444444,\"#bd3786\"],[0.5555555555555556,\"#d8576b\"],[0.6666666666666666,\"#ed7953\"],[0.7777777777777778,\"#fb9f3a\"],[0.8888888888888888,\"#fdca26\"],[1.0,\"#f0f921\"]],\"sequentialminus\":[[0.0,\"#0d0887\"],[0.1111111111111111,\"#46039f\"],[0.2222222222222222,\"#7201a8\"],[0.3333333333333333,\"#9c179e\"],[0.4444444444444444,\"#bd3786\"],[0.5555555555555556,\"#d8576b\"],[0.6666666666666666,\"#ed7953\"],[0.7777777777777778,\"#fb9f3a\"],[0.8888888888888888,\"#fdca26\"],[1.0,\"#f0f921\"]],\"diverging\":[[0,\"#8e0152\"],[0.1,\"#c51b7d\"],[0.2,\"#de77ae\"],[0.3,\"#f1b6da\"],[0.4,\"#fde0ef\"],[0.5,\"#f7f7f7\"],[0.6,\"#e6f5d0\"],[0.7,\"#b8e186\"],[0.8,\"#7fbc41\"],[0.9,\"#4d9221\"],[1,\"#276419\"]]},\"xaxis\":{\"gridcolor\":\"white\",\"linecolor\":\"white\",\"ticks\":\"\",\"title\":{\"standoff\":15},\"zerolinecolor\":\"white\",\"automargin\":true,\"zerolinewidth\":2},\"yaxis\":{\"gridcolor\":\"white\",\"linecolor\":\"white\",\"ticks\":\"\",\"title\":{\"standoff\":15},\"zerolinecolor\":\"white\",\"automargin\":true,\"zerolinewidth\":2},\"scene\":{\"xaxis\":{\"backgroundcolor\":\"#E5ECF6\",\"gridcolor\":\"white\",\"linecolor\":\"white\",\"showbackground\":true,\"ticks\":\"\",\"zerolinecolor\":\"white\",\"gridwidth\":2},\"yaxis\":{\"backgroundcolor\":\"#E5ECF6\",\"gridcolor\":\"white\",\"linecolor\":\"white\",\"showbackground\":true,\"ticks\":\"\",\"zerolinecolor\":\"white\",\"gridwidth\":2},\"zaxis\":{\"backgroundcolor\":\"#E5ECF6\",\"gridcolor\":\"white\",\"linecolor\":\"white\",\"showbackground\":true,\"ticks\":\"\",\"zerolinecolor\":\"white\",\"gridwidth\":2}},\"shapedefaults\":{\"line\":{\"color\":\"#2a3f5f\"}},\"annotationdefaults\":{\"arrowcolor\":\"#2a3f5f\",\"arrowhead\":0,\"arrowwidth\":1},\"geo\":{\"bgcolor\":\"white\",\"landcolor\":\"#E5ECF6\",\"subunitcolor\":\"white\",\"showland\":true,\"showlakes\":true,\"lakecolor\":\"white\"},\"title\":{\"x\":0.05},\"mapbox\":{\"style\":\"light\"}}},\"xaxis\":{\"anchor\":\"y\",\"domain\":[0.0,1.0],\"title\":{\"text\":\"Expense per ADA\"}},\"yaxis\":{\"anchor\":\"x\",\"domain\":[0.0,1.0]},\"legend\":{\"tracegroupgap\":0},\"title\":{\"text\":\"Box Plot of Expense per ADA\"},\"boxmode\":\"group\"},                        {\"responsive\": true}                    ).then(function(){\n                            \nvar gd = document.getElementById('f6dbfdef-a765-45c4-abbb-19afdf0d52db');\nvar x = new MutationObserver(function (mutations, observer) {{\n        var display = window.getComputedStyle(gd).display;\n        if (!display || display === 'none') {{\n            console.log([gd, 'removed!']);\n            Plotly.purge(gd);\n            observer.disconnect();\n        }}\n}});\n\n// Listen for the removal of the full notebook cells\nvar notebookContainer = gd.closest('#notebook-container');\nif (notebookContainer) {{\n    x.observe(notebookContainer, {childList: true});\n}}\n\n// Listen for the clearing of the current output cell\nvar outputEl = gd.closest('.output');\nif (outputEl) {{\n    x.observe(outputEl, {childList: true});\n}}\n\n                        })                };            </script>        </div>\n</body>\n</html>"
          },
          "metadata": {},
          "output_type": "display_data"
        }
      ],
      "outputs_reference": null,
      "content_dependencies": null
    },
    {
      "cell_type": "markdown",
      "metadata": {
        "cell_id": "f0ec489891e74ba881fcb53c1a5ea1d5",
        "deepnote_cell_type": "markdown"
      },
      "source": "Similar to our analysis in Section 3.2, this box plot confirms that the distribution of `'Expense per ADA'` values is **right-skewed**. There are a few high-spending outliers.",
      "block_group": "b7124d35fd3b4e92ab0af4e9d415dd7d"
    },
    {
      "cell_type": "markdown",
      "metadata": {
        "formattedRanges": [
          {
            "type": "marks",
            "marks": {
              "code": true
            },
            "toCodePoint": 37,
            "fromCodePoint": 20
          }
        ],
        "cell_id": "e40768a14bf54b359ee1a0310f2638e1",
        "deepnote_cell_type": "text-cell-h3"
      },
      "source": "### 4.3. Scatter Plot - 'Expense per ADA'  vs. Total Enrollment (Without Los Angeles Unified)",
      "block_group": "aca342fc18c24dc2801fca71ff405cdc"
    },
    {
      "cell_type": "markdown",
      "metadata": {
        "cell_id": "a8607a958106440fbbbbca429195b071",
        "deepnote_cell_type": "markdown"
      },
      "source": "By removing Los Angeles Unified, we can better visualize the patterns among other districts.",
      "block_group": "333f5b3083f44a009588a66d75096689"
    },
    {
      "cell_type": "code",
      "metadata": {
        "source_hash": "2543744b",
        "execution_start": 1760127666600,
        "execution_millis": 1705,
        "execution_context_id": "79fa4d62-8961-4dfa-a5c8-892d38695664",
        "cell_id": "b71cc6e6a83c4cac8b2a1f6a65b97c13",
        "deepnote_cell_type": "code"
      },
      "source": "scatter_drop_LA = district_and_expenses[district_and_expenses['District Name'] != 'Los Angeles Unified']\n\nfig_scatter = px.scatter(\n    scatter_drop_LA, \n    x='Enroll Total', \n    y='Expense per ADA',\n    color='District Type',\n    opacity=0.5,\n    trendline='ols',\n    hover_name='District Name',\n    title='Expense per ADA vs. Total Enrollment',\n    subtitle='Without LA Unified')\n\nfig_scatter.show()",
      "block_group": "fb78a97f39e844c9ae57aa5ebbf4b683",
      "execution_count": 10,
      "outputs": [
        {
          "data": {
            "text/html": "<html>\n<head><meta charset=\"utf-8\" /></head>\n<body>\n    <div>            <script src=\"https://cdnjs.cloudflare.com/ajax/libs/mathjax/2.7.5/MathJax.js?config=TeX-AMS-MML_SVG\"></script><script type=\"text/javascript\">if (window.MathJax && window.MathJax.Hub && window.MathJax.Hub.Config) {window.MathJax.Hub.Config({SVG: {font: \"STIX-Web\"}});}</script>                <script type=\"text/javascript\">window.PlotlyConfig = {MathJaxConfig: 'local'};</script>\n        <script charset=\"utf-8\" src=\"https://cdn.plot.ly/plotly-3.1.0.min.js\" integrity=\"sha256-Ei4740bWZhaUTQuD6q9yQlgVCMPBz6CZWhevDYPv93A=\" crossorigin=\"anonymous\"></script>                <div id=\"68189c7c-10f4-4997-8f30-7c61562f4b68\" class=\"plotly-graph-div\" style=\"height:525px; width:100%;\"></div>            <script type=\"text/javascript\">                window.PLOTLYENV=window.PLOTLYENV || {};                                if (document.getElementById(\"68189c7c-10f4-4997-8f30-7c61562f4b68\")) {                    Plotly.newPlot(                        \"68189c7c-10f4-4997-8f30-7c61562f4b68\",                        [{\"hovertemplate\":\"\\u003cb\\u003e%{hovertext}\\u003c\\u002fb\\u003e\\u003cbr\\u003e\\u003cbr\\u003eDistrict Type=Unified\\u003cbr\\u003eEnroll Total=%{x}\\u003cbr\\u003eExpense per ADA=%{y}\\u003cextra\\u003e\\u003c\\u002fextra\\u003e\",\"hovertext\":[\"Alameda Unified\",\"Albany City Unified\",\"Berkeley Unified\",\"Castro Valley Unified\",\"Emery Unified\",\"Fremont Unified\",\"Hayward Unified\",\"Livermore Valley Joint Unified\",\"Newark Unified\",\"New Haven Unified\",\"Oakland Unified\",\"Piedmont City Unified\",\"San Leandro Unified\",\"San Lorenzo Unified\",\"Dublin Unified\",\"Pleasanton Unified\",\"Sunol Glen Unified\",\"Alpine County Unified\",\"Amador County Unified\",\"Biggs Unified\",\"Chico Unified\",\"Durham Unified\",\"Paradise Unified\",\"Gridley Unified\",\"Calaveras Unified\",\"Colusa Unified\",\"Maxwell Unified\",\"Pierce Joint Unified\",\"Williams Unified\",\"Antioch Unified\",\"John Swett Unified\",\"Martinez Unified\",\"Mt. Diablo Unified\",\"Pittsburg Unified\",\"West Contra Costa Unified\",\"San Ramon Valley Unified\",\"Del Norte County Unified\",\"Lake Tahoe Unified\",\"Black Oak Mine Unified\",\"Clovis Unified\",\"Coalinga-Huron Unified\",\"Fowler Unified\",\"Fresno Unified\",\"Kings Canyon Joint Unified\",\"Laton Joint Unified\",\"Parlier Unified\",\"Sanger Unified\",\"Selma Unified\",\"Firebaugh-Las Deltas Unified\",\"Central Unified\",\"Kerman Unified\",\"Mendota Unified\",\"Golden Plains Unified\",\"Sierra Unified\",\"Riverdale Joint Unified\",\"Caruthers Unified\",\"Washington Unified\",\"Princeton Joint Unified\",\"Stony Creek Joint Unified\",\"Willows Unified\",\"Orland Joint Unified\",\"Hamilton Unified\",\"Klamath-Trinity Joint Unified\",\"Southern Humboldt Joint Unified\",\"Ferndale Unified\",\"Mattole Unified\",\"Eureka City Unified\",\"Calexico Unified\",\"Calipatria Unified\",\"Holtville Unified\",\"Imperial Unified\",\"San Pasqual Valley Unified\",\"Big Pine Unified\",\"Death Valley Unified\",\"Lone Pine Unified\",\"Owens Valley Unified\",\"Bishop Unified\",\"Maricopa Unified\",\"Mojave Unified\",\"Muroc Joint Unified\",\"Southern Kern Unified\",\"Tehachapi Unified\",\"Sierra Sands Unified\",\"Mcfarland Unified\",\"El Tejon Unified\",\"Corcoran Joint Unified\",\"Reef-Sunset Unified\",\"Kelseyville Unified\",\"Konocti Unified\",\"Lakeport Unified\",\"Middletown Unified\",\"Upper Lake Unified\",\"Big Valley Joint Unified\",\"Westwood Unified\",\"Fort Sage Unified\",\"ABC Unified\",\"Arcadia Unified\",\"Azusa Unified\",\"Baldwin Park Unified\",\"Bassett Unified\",\"Bellflower Unified\",\"Beverly Hills Unified\",\"Bonita Unified\",\"Burbank Unified\",\"Charter Oak Unified\",\"Claremont Unified\",\"Covina-Valley Unified\",\"Culver City Unified\",\"Downey Unified\",\"Duarte Unified\",\"El Rancho Unified\",\"El Segundo Unified\",\"Glendale Unified\",\"Glendora Unified\",\"Inglewood Unified\",\"La Canada Unified\",\"Long Beach Unified\",\"Lynwood Unified\",\"Monrovia Unified\",\"Montebello Unified\",\"Norwalk-La Mirada Unified\",\"Palos Verdes Peninsula Unified\",\"Paramount Unified\",\"Pasadena Unified\",\"Pomona Unified\",\"San Marino Unified\",\"Santa Monica-Malibu Unified\",\"South Pasadena Unified\",\"Temple City Unified\",\"Torrance Unified\",\"West Covina Unified\",\"Compton Unified\",\"Hacienda La Puente Unified\",\"Rowland Unified\",\"Walnut Valley Unified\",\"San Gabriel Unified\",\"Acton-Agua Dulce Unified\",\"Manhattan Beach Unified\",\"Redondo Beach Unified\",\"Alhambra Unified\",\"Wiseburn Unified\",\"Madera Unified\",\"Golden Valley Unified\",\"Chawanakee Unified\",\"Yosemite Unified\",\"Novato Unified\",\"Shoreline Unified\",\"Mariposa County Unified\",\"Anderson Valley Unified\",\"Fort Bragg Unified\",\"Mendocino Unified\",\"Round Valley Unified\",\"Ukiah Unified\",\"Willits Unified\",\"Potter Valley Community Unified\",\"Laytonville Unified\",\"Leggett Valley Unified\",\"Hilmar Unified\",\"Los Banos Unified\",\"Gustine Unified\",\"Dos Palos Oro Loma Joint Unified\",\"Delhi Unified\",\"Surprise Valley Joint Unified\",\"Modoc Joint Unified\",\"Tulelake Basin Joint Unified\",\"Eastern Sierra Unified\",\"Mammoth Unified\",\"Carmel Unified\",\"Monterey Peninsula Unified\",\"Pacific Grove Unified\",\"North Monterey County Unified\",\"Big Sur Unified\",\"Soledad Unified\",\"Gonzales Unified\",\"Calistoga Joint Unified\",\"Napa Valley Unified\",\"Saint Helena Unified\",\"Brea-Olinda Unified\",\"Capistrano Unified\",\"Garden Grove Unified\",\"Laguna Beach Unified\",\"Newport-Mesa Unified\",\"Orange Unified\",\"Placentia-Yorba Linda Unified\",\"Santa Ana Unified\",\"Saddleback Valley Unified\",\"Tustin Unified\",\"Irvine Unified\",\"Los Alamitos Unified\",\"Tahoe-Truckee Unified\",\"Western Placer Unified\",\"Rocklin Unified\",\"Plumas Unified\",\"Alvord Unified\",\"Banning Unified\",\"Beaumont Unified\",\"Corona-Norco Unified\",\"Desert Center Unified\",\"Desert Sands Unified\",\"Hemet Unified\",\"Jurupa Unified\",\"Moreno Valley Unified\",\"Palm Springs Unified\",\"Palo Verde Unified\",\"Riverside Unified\",\"San Jacinto Unified\",\"Coachella Valley Unified\",\"Lake Elsinore Unified\",\"Temecula Valley Unified\",\"Murrieta Valley Unified\",\"Val Verde Unified\",\"Elk Grove Unified\",\"Folsom-Cordova Unified\",\"River Delta Joint Unified\",\"Sacramento City Unified\",\"San Juan Unified\",\"Center Joint Unified\",\"Natomas Unified\",\"Twin Rivers Unified\",\"Aromas - San Juan Unified\",\"Barstow Unified\",\"Bear Valley Unified\",\"Chino Valley Unified\",\"Colton Joint Unified\",\"Fontana Unified\",\"Morongo Unified\",\"Needles Unified\",\"Redlands Unified\",\"Rialto Unified\",\"Rim of The World Unified\",\"San Bernardino City Unified\",\"Trona Joint Unified\",\"Yucaipa-Calimesa Joint Unified\",\"Baker Valley Unified\",\"Silver Valley Unified\",\"Snowline Joint Unified\",\"Hesperia Unified\",\"Lucerne Valley Unified\",\"Upland Unified\",\"Apple Valley Unified\",\"Borrego Springs Unified\",\"Coronado Unified\",\"Mountain Empire Unified\",\"Poway Unified\",\"Ramona City Unified\",\"San Diego Unified\",\"Vista Unified\",\"Carlsbad Unified\",\"Oceanside Unified\",\"San Marcos Unified\",\"Warner Unified\",\"Valley Center-Pauma Unified\",\"Bonsall Unified\",\"San Francisco Unified\",\"Escalon Unified\",\"Lincoln Unified\",\"Linden Unified\",\"Lodi Unified\",\"Manteca Unified\",\"Ripon Unified\",\"Stockton Unified\",\"Tracy Joint Unified\",\"Lammersville Joint Unified\",\"Banta Unified\",\"Atascadero Unified\",\"Lucia Mar Unified\",\"San Luis Coastal Unified\",\"Shandon Joint Unified\",\"Templeton Unified\",\"Paso Robles Joint Unified\",\"Coast Unified\",\"Cabrillo Unified\",\"La Honda-Pescadero Unified\",\"South San Francisco Unified\",\"Carpinteria Unified\",\"Lompoc Unified\",\"Cuyama Joint Unified\",\"Santa Barbara Unified\",\"Gilroy Unified\",\"Morgan Hill Unified\",\"Palo Alto Unified\",\"San Jose Unified\",\"Santa Clara Unified\",\"Milpitas Unified\",\"Pajaro Valley Unified\",\"San Lorenzo Valley Unified\",\"Scotts Valley Unified\",\"Fall River Joint Unified\",\"Gateway Unified\",\"Sierra-Plumas Joint Unified\",\"Butte Valley Unified\",\"Scott Valley Unified\",\"Benicia Unified\",\"Dixon Unified\",\"Fairfield-Suisun Unified\",\"Travis Unified\",\"Vacaville Unified\",\"Vallejo City Unified\",\"Cloverdale Unified\",\"Geyserville Unified\",\"Sonoma Valley Unified\",\"Cotati-Rohnert Park Unified\",\"Windsor Unified\",\"Healdsburg Unified\",\"Ceres Unified\",\"Denair Unified\",\"Patterson Joint Unified\",\"Newman-Crows Landing Unified\",\"Hughson Unified\",\"Riverbank Unified\",\"Oakdale Joint Unified\",\"Waterford Unified\",\"Turlock Unified\",\"Live Oak Unified\",\"Yuba City Unified\",\"Los Molinos Unified\",\"Southern Trinity Joint Unified\",\"Mountain Valley Unified\",\"Trinity Alps Unified\",\"Alpaugh Unified\",\"Cutler-Orosi Joint Unified\",\"Lindsay Unified\",\"Visalia Unified\",\"Farmersville Unified\",\"Porterville Unified\",\"Dinuba Unified\",\"Woodlake Unified\",\"Exeter Unified\",\"Big Oak Flat-Groveland Unified\",\"Fillmore Unified\",\"Ojai Unified\",\"Simi Valley Unified\",\"Ventura Unified\",\"Conejo Valley Unified\",\"Oak Park Unified\",\"Moorpark Unified\",\"Santa Paula Unified\",\"Davis Joint Unified\",\"Esparto Unified\",\"Washington Unified\",\"Winters Joint Unified\",\"Woodland Joint Unified\",\"Marysville Joint Unified\",\"Las Virgenes Unified\"],\"legendgroup\":\"Unified\",\"marker\":{\"color\":\"#636efa\",\"opacity\":0.5,\"symbol\":\"circle\"},\"mode\":\"markers\",\"name\":\"Unified\",\"orientation\":\"v\",\"showlegend\":true,\"x\":{\"dtype\":\"f8\",\"bdata\":\"AAAAAICexEAAAAAAAOyrQAAAAACAusFAAAAAAICIwkAAAAAAAMCCQAAAAADgJOBAAAAAAEC400AAAAAAAH3JQAAAAAAA3LJAAAAAAACiw0AAAAAAwAPmQAAAAAAACKJAAAAAAIASwUAAAAAAgAnCQAAAAACADclAAAAAAADAykAAAAAAAMBwQAAAAAAAgFBAAAAAAADWr0AAAAAAACCBQAAAAACAI8xAAAAAAAAIkEAAAAAAALShQAAAAAAALJ9AAAAAAAA8pkAAAAAAAOCWQAAAAAAA4HVAAAAAAABYl0AAAAAAAGiVQAAAAACAVs9AAAAAAAAQk0AAAAAAAHatQAAAAACATt1AAAAAAIDqxEAAAAAAANbcQAAAAADAjNxAAAAAAAAUrUAAAAAAACisQAAAAAAA2JNAAAAAAGAj5UAAAAAAAB6xQAAAAAAAtqNAAAAAAIBz8UAAAAAAAN3CQAAAAAAAqIJAAAAAAAA0qUAAAAAAAOHJQAAAAAAAVrdAAAAAAAAioUAAAAAAACrPQAAAAAAAuLRAAAAAAADarkAAAAAAALCVQAAAAAAAMJRAAAAAAADAlkAAAAAAAOyXQAAAAAAAgKVAAAAAAABAXUAAAAAAAMBRQAAAAAAANJVAAAAAAACEoUAAAAAAAFiGQAAAAAAAWI1AAAAAAAAohEAAAAAAACB+QAAAAAAAAEJAAAAAAADMrEAAAAAAANK\\u002fQAAAAAAA+JBAAAAAAAC4mEAAAAAAAECyQAAAAAAAaIJAAAAAAADgYkAAAAAAAAAxQAAAAAAAsHJAAAAAAABAWUAAAAAAADSeQAAAAACAY8xAAAAAAAA0pkAAAAAAACicQAAAAAAAxqxAAAAAAAB7sEAAAAAAAAK0QAAAAAAAlKlAAAAAAABAhkAAAAAAAAKpQAAAAAAA\\u002fqRAAAAAAADsnUAAAAAAAESuQAAAAAAAPJVAAAAAAAAIm0AAAAAAANCNQAAAAAAAQF1AAAAAAAAAaEAAAAAAAGB\\u002fQAAAAABAqNFAAAAAAACOwUAAAAAAAOK4QAAAAAAA6sNAAAAAAAB4pkAAAAAAgCrDQAAAAAAABKhAAAAAAIByw0AAAAAAANDLQAAAAAAAmLBAAAAAAAB1uEAAAAAAgMPFQAAAAAAAPbpAAAAAAEDl1UAAAAAAACm9QAAAAAAAxrtAAAAAAADWq0AAAAAAQHbYQAAAAAAA27hAAAAAAAAKwUAAAAAAAMKuQAAAAABgYe9AAAAAAAA9xkAAAAAAAEezQAAAAADAf9NAAAAAAABmzUAAAAAAgEzEQAAAAAAAhcdAAAAAAIC5zUAAAAAAQCDVQAAAAAAA6qZAAAAAAIDgwEAAAAAAAE+yQAAAAAAAhbRAAAAAAECX1UAAAAAAAM\\u002fMQAAAAADAR9NAAAAAAIDLzkAAAAAAAH7JQAAAAACA+8pAAAAAAADoskAAAAAAgCXJQAAAAAAAJbdAAAAAAICGwkAAAAAAAIXMQAAAAAAAlLNAAAAAAECv1EAAAAAAAKylQAAAAAAARJVAAAAAAAC4mkAAAAAAADO9QAAAAAAAwH1AAAAAAAAonEAAAAAAAIB4QAAAAAAAeJtAAAAAAABAe0AAAAAAAKB\\u002fQAAAAAAAi7lAAAAAAACQnUAAAAAAAFBxQAAAAAAAsHNAAAAAAABAXkAAAAAAAPKhQAAAAACAmMVAAAAAAAA8mkAAAAAAALyhQAAAAAAAIqJAAAAAAAAAVkAAAAAAAFCJQAAAAAAA0HpAAAAAAAAAd0AAAAAAAGCRQAAAAAAA3qBAAAAAAAA2w0AAAAAAAPyaQAAAAAAAU7FAAAAAAADAWkAAAAAAAFyyQAAAAAAAhJ9AAAAAAACwiEAAAAAAQALQQAAAAAAAPJFAAAAAAAAHt0AAAAAAwJjnQAAAAABgcOJAAAAAAACkokAAAAAAAFrRQAAAAAAAxdhAAAAAAEAs1kAAAAAAALHjQAAAAADAp9ZAAAAAAAAY1UAAAAAAAIjiQAAAAACAccFAAAAAAAAnsEAAAAAAgEzFQAAAAAAAy8lAAAAAAAC8n0AAAAAAwEXQQAAAAAAA3LBAAAAAAEC20UAAAAAAAIroQAAAAAAAADlAAAAAAIBK2UAAAAAAADTWQAAAAADAl9FAAAAAAACc3kAAAAAAAPDTQAAAAAAAlq1AAAAAACBK40AAAAAAAGHHQAAAAAAAys9AAAAAAEDC1EAAAAAAgG\\u002fbQAAAAABAy9VAAAAAAEDo0kAAAAAAwAPvQAAAAADAlNRAAAAAAAB2oEAAAAAAQMfkQAAAAAAgWOhAAAAAAABXsUAAAAAAQGvQQAAAAABgP+RAAAAAAAD4jUAAAAAAAK64QAAAAAAAqKBAAAAAAEDa2UAAAAAAAHjSQAAAAABAUOBAAAAAAAC\\u002fvEAAAAAAABCNQAAAAAAAdNNAAAAAAEDp1kAAAAAAAEqmQAAAAADgH+hAAAAAAAAAb0AAAAAAgJfCQAAAAAAAIGBAAAAAAAC4n0AAAAAAAB+\\u002fQAAAAAAAw9hAAAAAAADWyEAAAAAAACbDQAAAAAAAys1AAAAAAAAqpkAAAAAAAGalQAAAAAAAvLBAAAAAAOAO4UAAAAAAANWzQAAAAACg6ftAAAAAAAAF1UAAAAAAACjFQAAAAADAa9FAAAAAAAAA00AAAAAAAMCjQAAAAAAA\\u002fqxAAAAAAABuoUAAAAAAgBPrQAAAAAAA7KdAAAAAAIAiwUAAAAAAAMahQAAAAAAAXd1AAAAAAABq2EAAAAAAAD+0QAAAAABA6eJAAAAAAAB+zUAAAAAAAFS+QAAAAAAAnKdAAAAAAADysEAAAAAAgMrCQAAAAAAAPb5AAAAAAACgb0AAAAAAAHqhQAAAAAAAbLhAAAAAAACQfkAAAAAAAM6kQAAAAAAAMHBAAAAAAABavkAAAAAAAACeQAAAAACAYsJAAAAAAACgc0AAAAAAgILKQAAAAAAAEMVAAAAAAIDUwEAAAAAAgA\\u002fEQAAAAAAAXtlAAAAAAADOy0AAAAAAgOvDQAAAAAAAHNFAAAAAAACktUAAAAAAAAylQAAAAAAAIJJAAAAAAAD0oUAAAAAAADB5QAAAAAAA4HJAAAAAAACAg0AAAAAAABSxQAAAAAAAQqtAAAAAAEDv00AAAAAAADa1QAAAAACAIMpAAAAAAIALx0AAAAAAAFyUQAAAAAAAYGlAAAAAAADoq0AAAAAAAMO5QAAAAAAARrJAAAAAAACokkAAAAAAANfLQAAAAAAA5JNAAAAAAAD6t0AAAAAAALKoQAAAAAAAHKFAAAAAAABOp0AAAAAAADW0QAAAAAAAkqNAAAAAAICxykAAAAAAAKifQAAAAACA2cdAAAAAAAA4gEAAAAAAAEBTQAAAAAAAQHVAAAAAAACIhEAAAAAAAFCTQAAAAAAA4q1AAAAAAAAmr0AAAAAAQDfcQAAAAAAAyqJAAAAAAIBFy0AAAAAAAKm4QAAAAAAASqBAAAAAAABkpEAAAAAAAABvQAAAAAAA3KxAAAAAAACioEAAAAAAgJ7OQAAAAAAAqMxAAAAAAIA\\u002fz0AAAAAAAPKwQAAAAAAAsbZAAAAAAADIskAAAAAAgFTAQAAAAAAAKI9AAAAAAAAxwEAAAAAAANqhQAAAAACAhcJAAAAAAICVxEAAAAAAAN7CQA==\"},\"xaxis\":\"x\",\"y\":{\"dtype\":\"f8\",\"bdata\":\"UrgehXut0UBcj8L1yHrRQM3MzMwsINlAZmZmZqbzzkCPwvUoXO3bQD0K16OQu89AmpmZmSmc1kBxPQrX80bQQI\\u002fC9SisbdBAexSuR\\u002fHM0EApXI\\u002fCBRTbQNejcD26YdZA16NwPSpC00CkcD0KF+XUQIXrUbj+Qc5ACtejcC3z0ECuR+F69ILSQB+F61FYG+1APQrXo7CVzkBSuB6FC6XRQIXrUbjOstBAKVyPwtVAy0DD9ShcP+fWQLgehetRedFAKVyPwpXrz0CF61G4DlPQQOF6FK5nH9JA16NwPWohzUBcj8L16PPPQEjhehSu5tRArkfhehTA1UBxPQrXg5DQQI\\u002fC9ShsmtBAhetRuM7z00BxPQrX4yfVQB+F61EYftBAuB6F66HD1EA9CtejAEbSQFK4HoWr289AAAAAAMB6zkD2KFyP0rPWQJqZmZm5pNNAcT0K14N010Bcj8L1WDDUQClcj8Ll8dhAw\\u002fUoXN\\u002fp1EDXo3A9WtfRQFK4HoU76NVApHA9ChfW00AzMzMzA9PRQI\\u002fC9ShcL9FAexSuRzFx0kCPwvUoDJHZQFK4HoVbS9RAZmZmZqbb00AzMzMzkzLSQEjhehTu3tZAzczMzEzZ3EBcj8L1mHHoQM3MzMzs7M1AcT0K1+Ncz0DXo3A9qlnOQB+F61EYGtxASOF6FC5h1kCamZmZOR\\u002fVQB+F61EImONAw\\u002fUoXE\\u002fv0UAK16NwvV\\u002fVQB+F61FIn9VAZmZmZjaY00DXo3A9KqXPQIXrUbjOaOFAexSuR0Gh4kDNzMzMeGv3QMP1KFzPndlAH4XrUehu30AUrkfhqsfRQI\\u002fC9SgcGttA16NwPSpS1UBSuB6F++HRQK5H4XqU2NFAAAAAANAf0ECkcD0KlwbRQLgehevBZNJAhetRuL6G1UAK16NwXcnSQLgehevhq9JAMzMzM+OF0UDNzMzM7KPVQB+F61EIotNASOF6FH6q0EA9Ctej4CPXQM3MzMys19hAexSuRyF91EAUrkfhEkriQClcj8LlYtJA9ihcjzIU0UDNzMzMzNfWQHsUrkfhjdZAAAAAANBE1kDNzMzMzMfVQBSuR+EK+t5AhetRuJ7yz0B7FK5HwYHPQDMzMzNjgdNA7FG4HsWd0EApXI\\u002fC1R\\u002fTQClcj8JVdNNAH4XrUagc00CPwvUo\\u002fDDTQAAAAADggtNAcT0K16O7z0AAAAAAUBTQQJqZmZn5+M9AFK5H4brw2kA9CtejANPQQFK4HoX72tVAmpmZmYld1kApXI\\u002fCNVTSQFyPwvXoGtlArkfhevTs1EAUrkfh6uDQQI\\u002fC9SisGddA4XoUrldi2UCuR+F6tADWQNejcD3qJNBAZmZmZgYG1kApXI\\u002fCNVzPQBSuR+FKM9FAmpmZmXmLzkDXo3A96nTUQKRwPQqng9ZACtejcG0400CamZmZqWbWQK5H4XrUVc9AcT0K18NJ00DNzMzM\\u002fKjVQI\\u002fC9SjMTtFAMzMzMxN0zUBmZmZm1s\\u002fTQOF6FK7Hes5AZmZmZkan00CPwvUo\\u002fMzKQPYoXI+CcNRAexSuR2HU0kBmZmZmtlfRQOxRuB7tUeNAuB6F6wG300CkcD0Kp3LXQClcj8Jl3dNAAAAAANCc2EAfhetRWPDZQHsUrkfBL9RA9ihcj7Lz1EDD9Shcrx3UQHE9Ctfj2NVAFK5H4arS4ECuR+F6hE3QQMP1KFxP0tFAw\\u002fUoXA\\u002fL00BI4XoUjh3TQHsUrkfRn9VA16NwPRrL20AAAAAAMFzRQHsUrkcxWtRAUrgehVNU4UDhehSuRz7SQHE9CtcDw+JAuB6F6zFf1UAzMzMzo9HbQIXrUbi+b9RAZmZmZt4j+UCuR+F6JDXUQEjhehTuWtZAhetRuB6330CPwvUozITQQK5H4XpMU+JA9ihcj0Jgz0AAAAAAwBrRQNejcD36VNVAZmZmZkYM4UDD9Shcz1vZQBSuR+EaL9BAXI\\u002fC9RhY0EDsUbge5YLYQMP1KFwf7tBACtejcB3az0DD9Shc707OQClcj8J1es9AcT0K18Nb2UB7FK5HIcnNQM3MzMxsoc1AKVyPwkV410BxPQrXY1LUQM3MzMwccdVASOF6FO4P0kBI4XoUTuTRQJqZmZmJavxAj8L1KPx\\u002f1EDD9ShcryjVQOxRuB7FQdVACtejcA1H1ECamZmZaVbXQGZmZmYWG9VAPQrXo1Bz0kAfhetRCI7UQI\\u002fC9SisXNhAcT0K1yNG0UBSuB6FK0jPQEjhehRuA89ACtejcO111EA9CtejwFHRQGZmZmaG\\u002fc5AUrgehQvE1EAAAAAAQFTWQKRwPQqX6dBAPQrXoxBH0UCkcD0KRxjRQJqZmZmZtdRA9ihcj+Iv00CamZmZubjQQDMzMzOD7dFAKVyPwkUR0EDXo3A9movVQClcj8IFVtNApHA9CudY1EDsUbgehabVQJqZmZl5jNJAH4XrUTgn1EDhehSut3zSQClcj8J1TNhAmpmZmeGc4UBxPQrXo93RQEjhehRWFeBA16NwPQrd1UAzMzMzoxnRQD0K16NAMtBACtejcC2B1UBcj8L1OAHTQBSuR+GK0NJAZmZmZsbE2UCuR+F6BBXUQArXo3A9rNRAuB6F67FhzkDXo3A9yoXPQD0K16Pwb9VAFK5H4Yo700CF61G4\\u002fvjPQJqZmZlJddJAhetRuJ70z0AUrkfhWrDdQHE9CtdTBdJAw\\u002fUoXK\\u002fD0EDNzMzM3ArZQFyPwvVIGsxA7FG4HpWu0EDXo3A92sTSQOF6FK7XTtJAhetRuP4Rz0BI4XoUDhDMQOxRuB41BthAXI\\u002fC9Qj00UB7FK5H4frIQNejcD26+N9A9ihcj4K5z0A9CtejYATRQHE9CtdjZNNA4XoUrpfn2UCF61G4HkLOQM3MzMws9NBAuB6F68Eq4UDXo3A9+qDSQD0K16Pwet9A16NwPYrz1EBI4XoUzizXQHE9CtdTudBAAAAAAEDh1kDhehSuJ+zSQHE9CtfzWtFAexSuR9EK0kCF61G4\\u002ft3eQClcj8JlQdRAcT0K17Mp3UA9CtejcDvQQBSuR+GqAthAw\\u002fUoXD9q0kCkcD0Kl97PQK5H4XokztRAAAAAABCL1kAfhetRCPfVQClcj8J1idRAPQrXo2AQ1EBSuB6Fq8jOQDMzMzMzjs1AMzMzM5N3z0AUrkfhujvPQB+F61EYWs1A4XoUrmc22UBI4XoUTiLUQAAAAABwQ91AH4XrUfhW2UA9CtejwOjQQHsUrkeRgNFAuB6F65Hm2kCF61G4Pj3TQOxRuB5VWNFAuB6F66He0UCuR+F6JObTQFyPwvWo6dBApHA9Crcw1UCF61G4PiPQQIXrUbiewtRACtejcI3f0UDsUbgeBbzRQI\\u002fC9Sh8UtNAZmZmZraM00C4HoXrKUXkQOF6FK43M9NAH4XrUbho00BI4XoUTqHVQNejcD1qe9NAFK5H4doz1kAzMzMz4\\u002fDSQHsUrkeBidVAH4XrUdhs00CPwvUofAPTQB+F61GoGdNAAAAAADDN0kCF61G4PnLgQGZmZmZmetRAw\\u002fUoXE9\\u002fzkDhehSuV9LQQHE9CteTptJArkfhetRB0EAAAAAAIOvLQHsUrkcBzc1AmpmZmenc1kA9CtejICbRQD0K16Og79NAKVyPwmXq0UBI4XoU3v3SQDMzMzOzAtJAuB6F67FI0UAAAAAAcNHQQA==\"},\"yaxis\":\"y\",\"type\":\"scatter\"},{\"hovertemplate\":\"\\u003cb\\u003eOLS trendline\\u003c\\u002fb\\u003e\\u003cbr\\u003eExpense per ADA = -0.105732 * Enroll Total + 22808.1\\u003cbr\\u003eR\\u003csup\\u003e2\\u003c\\u002fsup\\u003e=0.020615\\u003cbr\\u003e\\u003cbr\\u003eDistrict Type=Unified\\u003cbr\\u003eEnroll Total=%{x}\\u003cbr\\u003eExpense per ADA=%{y} \\u003cb\\u003e(trend)\\u003c\\u002fb\\u003e\\u003cextra\\u003e\\u003c\\u002fextra\\u003e\",\"legendgroup\":\"Unified\",\"marker\":{\"color\":\"#636efa\",\"symbol\":\"circle\"},\"mode\":\"lines\",\"name\":\"Unified\",\"showlegend\":false,\"x\":{\"dtype\":\"f8\",\"bdata\":\"AAAAAAAAMUAAAAAAAAA5QAAAAAAAAEJAAAAAAACAUEAAAAAAAMBRQAAAAAAAQFNAAAAAAAAAVkAAAAAAAEBZQAAAAAAAwFpAAAAAAABAXUAAAAAAAEBdQAAAAAAAQF5AAAAAAAAgYEAAAAAAAOBiQAAAAAAAAGhAAAAAAABgaUAAAAAAAABvQAAAAAAAAG9AAAAAAACgb0AAAAAAADBwQAAAAAAAwHBAAAAAAABQcUAAAAAAALByQAAAAAAA4HJAAAAAAACgc0AAAAAAALBzQAAAAAAAQHVAAAAAAADgdUAAAAAAAAB3QAAAAAAAgHhAAAAAAAAweUAAAAAAANB6QAAAAAAAQHtAAAAAAADAfUAAAAAAACB+QAAAAAAAkH5AAAAAAABgf0AAAAAAAKB\\u002fQAAAAAAAOIBAAAAAAAAggUAAAAAAAGiCQAAAAAAAqIJAAAAAAADAgkAAAAAAAICDQAAAAAAAKIRAAAAAAACIhEAAAAAAAECGQAAAAAAAWIZAAAAAAACwiEAAAAAAAFCJQAAAAAAAEI1AAAAAAABYjUAAAAAAANCNQAAAAAAA+I1AAAAAAAAoj0AAAAAAAAiQQAAAAAAA+JBAAAAAAAA8kUAAAAAAAGCRQAAAAAAAIJJAAAAAAACokkAAAAAAABCTQAAAAAAAUJNAAAAAAADYk0AAAAAAAOSTQAAAAAAAMJRAAAAAAABclEAAAAAAADSVQAAAAAAAPJVAAAAAAABElUAAAAAAAGiVQAAAAAAAsJVAAAAAAADAlkAAAAAAAOCWQAAAAAAAWJdAAAAAAADsl0AAAAAAALiYQAAAAAAAPJpAAAAAAAC4mkAAAAAAAPyaQAAAAAAACJtAAAAAAAB4m0AAAAAAACicQAAAAAAAKJxAAAAAAACQnUAAAAAAAOydQAAAAAAAAJ5AAAAAAAA0nkAAAAAAACyfQAAAAAAAhJ9AAAAAAACon0AAAAAAALifQAAAAAAAvJ9AAAAAAABKoEAAAAAAAHagQAAAAAAAoqBAAAAAAACooEAAAAAAAN6gQAAAAAAAHKFAAAAAAAAioUAAAAAAAG6hQAAAAAAAeqFAAAAAAACEoUAAAAAAALShQAAAAAAAvKFAAAAAAADGoUAAAAAAANqhQAAAAAAA8qFAAAAAAAD0oUAAAAAAAAiiQAAAAAAAIqJAAAAAAACkokAAAAAAAMqiQAAAAAAAkqNAAAAAAAC2o0AAAAAAAMCjQAAAAAAAZKRAAAAAAADOpEAAAAAAAP6kQAAAAAAADKVAAAAAAABmpUAAAAAAAIClQAAAAAAArKVAAAAAAAAqpkAAAAAAADSmQAAAAAAAPKZAAAAAAABKpkAAAAAAAHimQAAAAAAA6qZAAAAAAABOp0AAAAAAAJynQAAAAAAA7KdAAAAAAAAEqEAAAAAAALKoQAAAAAAAAqlAAAAAAAA0qUAAAAAAAJSpQAAAAAAAQqtAAAAAAADWq0AAAAAAAOirQAAAAAAA7KtAAAAAAAAorEAAAAAAAMasQAAAAAAAzKxAAAAAAADcrEAAAAAAAP6sQAAAAAAAFK1AAAAAAAB2rUAAAAAAAJatQAAAAAAA4q1AAAAAAABErkAAAAAAAMKuQAAAAAAA2q5AAAAAAAAmr0AAAAAAANavQAAAAAAAJ7BAAAAAAAB7sEAAAAAAAJiwQAAAAAAAvLBAAAAAAADcsEAAAAAAAPKwQAAAAAAA8rBAAAAAAAAUsUAAAAAAAB6xQAAAAAAAU7FAAAAAAABXsUAAAAAAAECyQAAAAAAARrJAAAAAAABPskAAAAAAAFyyQAAAAAAAyLJAAAAAAADcskAAAAAAAOiyQAAAAAAAR7NAAAAAAACUs0AAAAAAANWzQAAAAAAAArRAAAAAAAA1tEAAAAAAAD+0QAAAAAAAhbRAAAAAAAC4tEAAAAAAADa1QAAAAAAApLVAAAAAAACxtkAAAAAAAAe3QAAAAAAAJbdAAAAAAABWt0AAAAAAAPq3QAAAAAAAbLhAAAAAAAB1uEAAAAAAAKm4QAAAAAAArrhAAAAAAADbuEAAAAAAAOK4QAAAAAAAi7lAAAAAAADDuUAAAAAAAD26QAAAAAAAxrtAAAAAAAC\\u002fvEAAAAAAACm9QAAAAAAAM71AAAAAAAA9vkAAAAAAAFS+QAAAAAAAWr5AAAAAAAAfv0AAAAAAANK\\u002fQAAAAAAAMcBAAAAAAIBUwEAAAAAAgNTAQAAAAACA4MBAAAAAAAAKwUAAAAAAgBLBQAAAAACAIsFAAAAAAIBxwUAAAAAAAI7BQAAAAACAusFAAAAAAIAJwkAAAAAAgGLCQAAAAACAhcJAAAAAAICGwkAAAAAAgIjCQAAAAACAl8JAAAAAAIDKwkAAAAAAAN3CQAAAAAAA3sJAAAAAAAAmw0AAAAAAgCrDQAAAAAAANsNAAAAAAIByw0AAAAAAAKLDQAAAAAAA6sNAAAAAAIDrw0AAAAAAgA\\u002fEQAAAAACATMRAAAAAAICVxEAAAAAAgJ7EQAAAAACA6sRAAAAAAAAQxUAAAAAAACjFQAAAAACATMVAAAAAAICYxUAAAAAAgMPFQAAAAAAAPcZAAAAAAIALx0AAAAAAAGHHQAAAAAAAhcdAAAAAAIDZx0AAAAAAANbIQAAAAACADclAAAAAAIAlyUAAAAAAAH3JQAAAAAAAfslAAAAAAADLyUAAAAAAAOHJQAAAAACAIMpAAAAAAICCykAAAAAAgLHKQAAAAAAAwMpAAAAAAID7ykAAAAAAgEXLQAAAAAAAzstAAAAAAADQy0AAAAAAANfLQAAAAACAI8xAAAAAAIBjzEAAAAAAAIXMQAAAAAAAqMxAAAAAAADPzEAAAAAAAGbNQAAAAAAAfs1AAAAAAIC5zUAAAAAAAMrNQAAAAACAns5AAAAAAIDLzkAAAAAAACrPQAAAAACAP89AAAAAAIBWz0AAAAAAAMrPQAAAAABAAtBAAAAAAMBF0EAAAAAAQGvQQAAAAAAAHNFAAAAAAABa0UAAAAAAwGvRQAAAAADAl9FAAAAAAECo0UAAAAAAQLbRQAAAAAAAeNJAAAAAAEDo0kAAAAAAAADTQAAAAADAR9NAAAAAAAB000AAAAAAwH\\u002fTQAAAAABAuNNAAAAAAEDv00AAAAAAAPDTQAAAAADAlNRAAAAAAECv1EAAAAAAQMLUQAAAAAAABdVAAAAAAAAY1UAAAAAAQCDVQAAAAABAl9VAAAAAAEDL1UAAAAAAQOXVQAAAAABALNZAAAAAAAA01kAAAAAAwKfWQAAAAABA6dZAAAAAAABq2EAAAAAAQHbYQAAAAAAAw9hAAAAAAADF2EAAAAAAgErZQAAAAAAAXtlAAAAAAEDa2UAAAAAAgG\\u002fbQAAAAABAN9xAAAAAAMCM3EAAAAAAANbcQAAAAACATt1AAAAAAABd3UAAAAAAAJzeQAAAAADgJOBAAAAAAEBQ4EAAAAAA4A7hQAAAAABgcOJAAAAAAACI4kAAAAAAQOniQAAAAAAgSuNAAAAAAACx40AAAAAAYD\\u002fkQAAAAABAx+RAAAAAAGAj5UAAAAAAwAPmQAAAAADAmOdAAAAAAOAf6EAAAAAAIFjoQAAAAAAAiuhAAAAAAIAT60AAAAAAwAPvQAAAAABgYe9AAAAAAIBz8UAAAAAAoOn7QA==\"},\"xaxis\":\"x\",\"y\":{\"dtype\":\"f8\",\"bdata\":\"wXajLpZF1kBtOSQMYEXWQBpFtZwVRdZAIB9Ym0pE1kDMmMjFKETWQM0q6SsARNZAejZ6vLVD1kDRcmvEXUPWQNMEjCo1Q9ZAKvhsf\\u002fFC1kAq+Gx\\u002f8ULWQIBZLW7WQtZALByuS6BC1kCGM9BsC0LWQDkZBPz1QNZA5SSVjKtA1kDua4kKez\\u002fWQO5riQp7P9ZAmuX5NFk\\u002f1kCbdxqbMD\\u002fWQJ1SS7TzPtZAny18zbY+1kD4RJ7uIT7WQPmNrqENPtZA+7Hvbbw91kBRyp+ptT3WQKsq0n0MPdZAAh6z0sg81kAG1BQFTzzWQAscl52sO9ZAtycoLmI71kBnoAo+sjrWQL5K29+COtZAGxhfM3Q51kAcqn+ZSznWQHNUUDscOdZAy5BBQ8Q41kAh8gEyqTjWQHku8zlRONZAKfDl\\u002fIw31kDc1RmMdzbWQIiYmmlBNtZAieGqHC021kCNKS21ijXWQJEon5r8NNZAlEzgZqs01kD0hrU5NzPWQPXPxewiM9ZAA\\u002fFcaScx1kCy1x4ToDDWQMk\\u002fqg10LdZAyxrbJjct1kDOhyym0SzWQHoBndCvLNZALJ7ArK4r1kDcX7Nv6irWQOgT+WxUKdZAlrGqY+Eo1kCYjNt8pCjWQKEc4K1fJ9ZA\\u002fVdDm3km1kCt0CWrySXWQAVWJ2ZdJdZAYZGKU3ck1kBi2poGYyTWQLuorHTiI9ZAaLQ9BZgj1kBy1mKcKiLWQB4HwxMdItZAyTcjiw8i1kDKElSk0iHWQM7ItdZYIdZAhj98sYwf1kAyAv2OVh\\u002fWQDjcn42LHtZAlWATLpEd1kCfOSgSOBzWQAdy4a+nGdZAYmQ06tUY1kAQAubgYhjWQBFL9pNOGNZAbPQ4G5EX1kAfI31dZxbWQB8jfV1nFtZAMbFlWQYU1kDg4De2ahPWQIxaqOBIE9ZA45aZ6PAS1kCaez9dTRHWQPSSYX64ENZA9m2Sl3sQ1kBMz1KGYBDWQKHnAsJZENZArAkoWewO1kAGIUp6Vw7WQF84bJvCDdZAYIF8Tq4N1kBlEg+a9wzWQMAEYtQlDNZAwU1yhxEM1kBz6pVjEAvWQHR8tsnnCtZAIPYm9MUK1kAlPqmMIwrWQHufaXsICtZAJhnapeYJ1kB+DLv6ognWQIAw\\u002fMZRCdZA1kisAksJ1kAtPI1XBwnWQIV4fl+vCNZAPKY0h\\u002fcG1kCVdEb1dgbWQP71D0bSA9ZAAqxxeFgD1kCtJeKiNgPWQBPxScELAdZAyPq+HKX\\u002f1UDNQkG1Av\\u002fVQCPtEVfT\\u002ftVALDQG1aL91UCEcPfcSv3VQN6HGf61\\u002fNVA6oRvrgv71UCW\\u002ft\\u002fY6frVQOxfoMfO+tVAQgpxaZ\\u002f61UDyOUPGA\\u002frVQP2keBCC+NVAsWXduC\\u002f31UC5GrHQJ\\u002fbVQBboNCQZ9dVAGAx28Mf01UAqUU45e\\u002fLVQIce0oxs8dVA4X4EYcPw1UDqDgmSfu\\u002fVQL9+7bLP6dVAeIfU89rn1UB6YgUNnufVQCWTZYSQ59VAK20Ig8Xm1UCQ71\\u002furuTVQJE4cKGa5NVAPfvwfmTk1UDrmKJ18ePVQJikMwan49VA90zoclvi1UBP0ukt7+HVQAFvDQru4NVAYBfCdqLf1UBsFBgn+N3VQG84WfOm3dVAIdV8z6Xc1UCHMgVUUtrVQJPmSlG82NVApOIS54PW1UBUpAWqv9XVQFsQyQ7M1NVADBvMhPPT1UBmMu6lXtPVQGYy7qVe09VAwm1Rk3jS1UAZYTLoNNLVQM5qp0PO0NVAJMxnMrPQ1UD98a2FisrVQP6DzuthytVA\\u002f17\\u002fBCXK1UBXm\\u002fAMzcnVQG3fOjvyxtVAG8b85GrG1UAd6j2xGcbVQNvxlteWw9VAlUOOy43B1UBMcUTz1b\\u002fVQFW4OHGlvtVAX5FNVUy91UC2hC6qCL3VQBksVfwuu9VAIwVq4NW51UA8\\u002fxVBgbbVQPxzwOaYs9VA3AXKnnys1UCXMvKrNqrVQJ0MlaprqdVA\\u002fLRJFyCo1UDHSxlUyqPVQN0hhOjGoNVA3\\u002fy0AYqg1UA+7nkhKp\\u002fVQOpn6ksIn9VA867eyded1UBKWa9rqJ3VQMBp79IwmdVAdrx04bWX1UA4VWBTfJTVQIWwtfQYitVAtlv9AoSD1UAgb+e5toDVQHhiyA5zgNVAVqvBE2t51UAG25Nwz3jVQAdttNameNVA2CY3xXFz1UCmKliBtm7VQMLaZRToatVAe5o8ogdp1UAC8FRSQ2LVQAc41+qgYdVAwhvvRG9f1UBwuaA7\\u002fF7VQCHEo7EjXtVA6shSiPZZ1UD2M4jSdFjVQLKpwJIaVtVAe65vae1R1UD0meDpOE3VQFdBBzxfS9VAAnJns1FL1UBY0yeiNkvVQF6tyqBrStVAcl\\u002f0aLlH1UDO42cJv0bVQHkUyICxRtVAlsTVE+NC1UCXnwYtpkLVQEfP2IkKQtVAtE8UwNc+1UBxV23mVDzVQI0He3mGONVAjlCLLHI41UCcKBL2ijbVQF7B\\u002fWdRM9VAJqJrcnUv1UApWM2k+y7VQPLKWxX3KtVAAOzykfso1UAKfPfCtifVQG5sLsjIJdVANt+8OMQh1UDyC+VFfh\\u002fVQCElDO4RGdVAHWcjOScO1UA+qMMXognVQEyASuG6B9VAw5CKSEMD1UB7keoG6vXUQJEeRej68tRAmq5JGbbx1EASUarmFe3UQL2BCl4I7dRAMSX5Rfbo1EDkUz2IzOfUQFJmmSRx5NRAzgds10Lf1EA29xTCxtzUQOa4B4UC3NRAqAjjQ93Y1EAbGrHF89TUQFANe2y8zdRApm47W6HN1EBUw9yeQs3UQHJOG0s3ydRANXknI9XF1ECY1z3CD8TUQPt+ZBQ2wtRACukLRCbA1EDwncitKrjUQPotzd7lttRAvH2oncCz1EDCoFtP4bLUQMAGtGalp9RA0pScYkSl1ED3i55zRaDUQFSiMnoin9RAswHXM+ud1EDg9rwP0JfUQPcVOFe4lNRALMDxSpWN1EBJAiBEnonUQH82cxvudtRAWskK7l9w1EATieF7f27UQOBD8oTYadRA7YlY6Blo1ECi3N32nmbUQJCH96giUtRAkjXSWERG1EBQPSt\\u002fwUPUQDOFlmkrPNRAVVhXrn031EAJ0KujPzbUQItLIVVGMNRACzV2oHUq1EAMfoZTYSrUQDgi1fn1GNRAojW\\u002fsCgW1EAGbwZpJhTUQDvQr6kXDdRAnwn3YRUL1EClLKoTNgrUQK1rFw+h\\u002fdNALDErjiH400DqE7XNYfXTQM0SEAXg7dNAKAVjPw7t00DYB98y0eDTQGHvF0nk2dNAjzm6HDax00Du4W6J6q\\u002fTQH8QnB3Np9NALNMc+5an00CUlW98eZnTQKT\\u002fFqxpl9NAsD32jEaK00BDUwB\\u002fbV\\u002fTQDVGnMlOStNAeMjchkRB00BcomjXhTnTQGVz9jjILNNAxvbbvj8r00AWQZVAhQnTQGenCAwV3NJAVqO58+jS0kDWmLqDmarSQKtpB+HYX9JA0GAJ8tla0kC+VDNXSUbSQKz\\u002fTAnNMdJAojpr7Asc0kAsf+d88P3RQFfSnu004dFAkuCUw7nN0UBHgE9HR57RQMJ6A7SiSNFA7Duavg8s0UBEAiWqKiDRQJLvmrGeFdFAjtfIK0aM0EDMHE+cIW7PQEeBveCIRs9A\\u002fsT4YTbJzUBP\\u002fYrU5+\\u002fEQA==\"},\"yaxis\":\"y\",\"type\":\"scatter\"},{\"hovertemplate\":\"\\u003cb\\u003e%{hovertext}\\u003c\\u002fb\\u003e\\u003cbr\\u003e\\u003cbr\\u003eDistrict Type=Elementary\\u003cbr\\u003eEnroll Total=%{x}\\u003cbr\\u003eExpense per ADA=%{y}\\u003cextra\\u003e\\u003c\\u002fextra\\u003e\",\"hovertext\":[\"Mountain House Elementary\",\"Bangor Union Elementary\",\"Golden Feather Union Elementary\",\"Manzanita Elementary\",\"Oroville City Elementary\",\"Palermo Union Elementary\",\"Thermalito Union Elementary\",\"Pioneer Union Elementary\",\"Mark Twain Union Elementary\",\"Vallecito Union Elementary\",\"Brentwood Union Elementary\",\"Byron Union Elementary\",\"Canyon Elementary\",\"Knightsen Elementary\",\"Lafayette Elementary\",\"Moraga Elementary\",\"Oakley Union Elementary\",\"Orinda Union Elementary\",\"Walnut Creek Elementary\",\"Buckeye Union Elementary\",\"Camino Union Elementary\",\"Gold Oak Union Elementary\",\"Gold Trail Union Elementary\",\"Indian Diggings Elementary\",\"Latrobe Elementary\",\"Mother Lode Union Elementary\",\"Pioneer Union Elementary\",\"Placerville Union Elementary\",\"Pollock Pines Elementary\",\"Rescue Union Elementary\",\"Silver Fork Elementary\",\"Alvina Elementary\",\"Big Creek Elementary\",\"Burrel Union Elementary\",\"Clay Joint Elementary\",\"Kingsburg Elementary Charter\",\"Monroe Elementary\",\"Orange Center Elementary\",\"Pacific Union Elementary\",\"Pine Ridge Elementary\",\"Raisin City Elementary\",\"Washington Colony Elementary\",\"West Park Elementary\",\"Westside Elementary\",\"Capay Joint Union Elementary\",\"Lake Elementary\",\"Plaza Elementary\",\"Arcata Elementary\",\"Big Lagoon Union Elementary\",\"Blue Lake Union Elementary\",\"Bridgeville Elementary\",\"Cuddeback Union Elementary\",\"Cutten Elementary\",\"Fieldbrook Elementary\",\"Freshwater Elementary\",\"Garfield Elementary\",\"Green Point Elementary\",\"Hydesville Elementary\",\"Jacoby Creek Elementary\",\"Kneeland Elementary\",\"Loleta Union Elementary\",\"Maple Creek Elementary\",\"Mckinleyville Union Elementary\",\"Orick Elementary\",\"Pacific Union Elementary\",\"Peninsula Union Elementary\",\"Rio Dell Elementary\",\"Scotia Union Elementary\",\"South Bay Union Elementary\",\"Trinidad Union Elementary\",\"Fortuna Elementary\",\"Brawley Elementary\",\"El Centro Elementary\",\"Heber Elementary\",\"Magnolia Union Elementary\",\"Mccabe Union Elementary\",\"Meadows Union Elementary\",\"Mulberry Elementary\",\"Seeley Union Elementary\",\"Westmorland Union Elementary\",\"Round Valley Joint Elementary\",\"Arvin Union Elementary\",\"Bakersfield City Elementary\",\"Beardsley Elementary\",\"Blake Elementary\",\"Panama-Buena Vista Union Elementary\",\"Buttonwillow Union Elementary\",\"Caliente Union Elementary\",\"Delano Union Elementary\",\"Di Giorgio Elementary\",\"Edison Elementary\",\"Elk Hills Elementary\",\"Fairfax Elementary\",\"Fruitvale Elementary\",\"General Shafter Elementary\",\"Greenfield Union\",\"Kernville Union Elementary\",\"Lakeside Union Elementary\",\"Lamont Elementary\",\"Richland Union Elementary\",\"Linns Valley-Poso Flat Union\",\"Lost Hills Union Elementary\",\"Maple Elementary\",\"Mckittrick Elementary\",\"Midway Elementary\",\"Norris Elementary\",\"Pond Union Elementary\",\"Rosedale Union Elementary\",\"Semitropic Elementary\",\"South Fork Union Elementary\",\"Standard Elementary\",\"Taft City Elementary\",\"Vineland Elementary\",\"Wasco Union Elementary\",\"Rio Bravo-Greeley Union Elementary\",\"Armona Union Elementary\",\"Central Union Elementary\",\"Hanford Elementary\",\"Island Union Elementary\",\"Kings River-Hardwick Union Elementary\",\"Kit Carson Union Elementary\",\"Lakeside Union Elementary\",\"Lemoore Union Elementary\",\"Pioneer Union Elementary\",\"Lucerne Elementary\",\"Janesville Union Elementary\",\"Johnstonville Elementary\",\"Ravendale-Termo Elementary\",\"Richmond Elementary\",\"Shaffer Union Elementary\",\"Susanville Elementary\",\"Castaic Union Elementary\",\"Eastside Union Elementary\",\"East Whittier City Elementary\",\"El Monte City Elementary\",\"Garvey Elementary\",\"Gorman Joint\",\"Hawthorne Elementary\",\"Hermosa Beach City Elementary\",\"Hughes-Elizabeth Lakes Union Elementary\",\"Keppel Union Elementary\",\"Lancaster Elementary\",\"Lawndale Elementary\",\"Lennox Elementary\",\"Little Lake City Elementary\",\"Los Nietos Elementary\",\"Mountain View Elementary\",\"Newhall Elementary\",\"Palmdale Elementary\",\"Rosemead Elementary\",\"Saugus Union Elementary\",\"South Whittier Elementary\",\"Sulphur Springs Union Elementary\",\"Valle Lindo Elementary\",\"Westside Union Elementary\",\"Whittier City Elementary\",\"Wilsona Elementary\",\"Alview-Dairyland Union Elementary\",\"Bass Lake Joint Union Elementary\",\"Chowchilla Elementary\",\"Raymond-Knowles Union Elementary\",\"Bolinas-Stinson Union Elementary\",\"Miller Creek Elementary\",\"Kentfield Elementary\",\"Laguna Joint Elementary\",\"Lagunitas Elementary\",\"Larkspur-Corte Madera\",\"Mill Valley Elementary\",\"Nicasio Elementary\",\"Reed Union Elementary\",\"Ross Elementary\",\"San Rafael City Elementary\",\"Sausalito Marin City Elementary\",\"Ross Valley Elementary\",\"Manchester Union Elementary\",\"Atwater Elementary\",\"Ballico-Cressey Elementary\",\"El Nido Elementary\",\"Le Grand Union Elementary\",\"Livingston Union Elementary\",\"McSwain Union Elementary\",\"Merced City Elementary\",\"Plainsburg Union Elementary\",\"Planada Elementary\",\"Snelling-Merced Falls Union Elementary\",\"Weaver Union Elementary\",\"Winton Elementary\",\"Merced River Union Elementary\",\"Alisal Union Elementary\",\"Bradley Union Elementary\",\"Chualar Union Elementary\",\"Graves Elementary\",\"Greenfield Union Elementary\",\"King City Union Elementary\",\"Lagunita Elementary\",\"Mission Union Elementary\",\"Salinas City Elementary\",\"San Antonio Union Elementary\",\"San Ardo Union Elementary\",\"San Lucas Union Elementary\",\"Santa Rita Union Elementary\",\"Spreckels Union Elementary\",\"Washington Union Elementary\",\"Howell Mountain Elementary\",\"Pope Valley Union Elementary\",\"Chicago Park Elementary\",\"Clear Creek Elementary\",\"Grass Valley Elementary\",\"Nevada City Elementary\",\"Pleasant Ridge Union Elementary\",\"Union Hill Elementary\",\"Twin Ridges Elementary\",\"Penn Valley Union Elementary\",\"Lowell Joint Elementary\",\"Anaheim Elementary\",\"Buena Park Elementary\",\"Centralia Elementary\",\"Cypress Elementary\",\"Fountain Valley Elementary\",\"Fullerton Elementary\",\"Huntington Beach City Elementary\",\"La Habra City Elementary\",\"Magnolia Elementary\",\"Ocean View Elementary\",\"Savanna Elementary\",\"Westminster Elementary\",\"Ackerman Charter\",\"Alta-Dutch Flat Union Elementary\",\"Auburn Union Elementary\",\"Colfax Elementary\",\"Dry Creek Joint Elementary\",\"Eureka Union Elementary\",\"Foresthill Union Elementary\",\"Loomis Union Elementary\",\"Newcastle Elementary\",\"Placer Hills Union Elementary\",\"Roseville City Elementary\",\"Menifee Union Elementary\",\"Nuview Union Elementary\",\"Perris Elementary\",\"Romoland Elementary\",\"Arcohe Union Elementary\",\"Elverta Joint Elementary\",\"Galt Joint Union Elementary\",\"Robla Elementary\",\"Bitterwater-Tully Elementary\",\"Cienega Union Elementary\",\"Hollister Elementary\",\"Jefferson Elementary\",\"North County Joint Union Elementary\",\"Panoche Elementary\",\"Southside Elementary\",\"Tres Pinos Union Elementary\",\"Willow Grove Union Elementary\",\"Adelanto Elementary\",\"Alta Loma Elementary\",\"Central Elementary\",\"Cucamonga Elementary\",\"Etiwanda Elementary\",\"Helendale Elementary\",\"Mountain View Elementary\",\"Mt. Baldy Joint Elementary\",\"Ontario-Montclair Elementary\",\"Oro Grande Elementary\",\"Victor Elementary\",\"Alpine Union Elementary\",\"Cajon Valley Union Elementary\",\"Cardiff Elementary\",\"Chula Vista Elementary\",\"Dehesa Elementary\",\"Del Mar Union Elementary\",\"Encinitas Union Elementary\",\"Escondido Union Elementary\",\"Fallbrook Union Elementary\",\"Jamul-Dulzura Union Elementary\",\"Julian Union Elementary\",\"Lakeside Union Elementary\",\"La Mesa-Spring Valley\",\"Lemon Grove Elementary\",\"National Elementary\",\"Rancho Santa Fe Elementary\",\"San Pasqual Union Elementary\",\"Santee Elementary\",\"San Ysidro Elementary\",\"Solana Beach Elementary\",\"South Bay Union Elementary\",\"Spencer Valley Elementary\",\"Vallecitos Elementary\",\"Jefferson Elementary\",\"New Hope Elementary\",\"Oak View Union Elementary\",\"Cayucos Elementary\",\"Pleasant Valley Joint Union Elementary\",\"San Miguel Joint Union Elementary\",\"Bayshore Elementary\",\"Belmont-Redwood Shores Elementary\",\"Brisbane Elementary\",\"Burlingame Elementary\",\"Hillsborough City Elementary\",\"Jefferson Elementary\",\"Pacifica Elementary\",\"Las Lomitas Elementary\",\"Menlo Park City Elementary\",\"Millbrae Elementary\",\"Portola Valley Elementary\",\"Ravenswood City Elementary\",\"Redwood City Elementary\",\"San Bruno Park Elementary\",\"San Carlos Elementary\",\"San Mateo-Foster City Elementary\",\"Woodside Elementary\",\"Ballard Elementary\",\"Blochman Union Elementary\",\"Santa Maria-Bonita Elementary\",\"Buellton Union Elementary\",\"Cold Spring Elementary\",\"College Elementary\",\"Goleta Union Elementary\",\"Guadalupe Union Elementary\",\"Hope Elementary\",\"Los Olivos Elementary\",\"Montecito Union Elementary\",\"Orcutt Union Elementary\",\"Solvang Elementary\",\"Vista Del Mar Union Elementary\",\"Alum Rock Union Elementary\",\"Berryessa Union Elementary\",\"Cambrian Elementary\",\"Campbell Union Elementary\",\"Cupertino Union Elementary\",\"Evergreen Elementary\",\"Franklin-McKinley Elementary\",\"Lakeside Joint Elementary\",\"Loma Prieta Joint Union Elementary\",\"Los Altos Elementary\",\"Los Gatos Union Elementary\",\"Luther Burbank Elementary\",\"Moreland Elementary\",\"Mountain View Whisman Elementary\",\"Mount Pleasant Elementary\",\"Oak Grove Elementary\",\"Orchard Elementary\",\"Saratoga Union Elementary\",\"Sunnyvale Elementary\",\"Union Elementary\",\"Bonny Doon Union Elementary\",\"Happy Valley Elementary\",\"Live Oak Elementary\",\"Mountain Elementary\",\"Pacific Elementary\",\"Soquel Union Elementary\",\"Bella Vista Elementary\",\"Black Butte Union Elementary\",\"Cascade Union Elementary\",\"Castle Rock Union Elementary\",\"Columbia Elementary\",\"Cottonwood Union Elementary\",\"Enterprise Elementary\",\"French Gulch-Whiskeytown Elementary\",\"Grant Elementary\",\"Happy Valley Union Elementary\",\"Igo, Ono, Platina Union Elementary\",\"Junction Elementary\",\"Millville Elementary\",\"North Cow Creek Elementary\",\"Oak Run Elementary\",\"Pacheco Union Elementary\",\"Redding Elementary\",\"Shasta Union Elementary\",\"Whitmore Union Elementary\",\"Mountain Union Elementary\",\"Big Springs Union Elementary\",\"Bogus Elementary\",\"Butteville Union Elementary\",\"Delphic Elementary\",\"Dunsmuir Elementary\",\"Gazelle Union Elementary\",\"Grenada Elementary\",\"Happy Camp Union Elementary\",\"Hornbrook Elementary\",\"Klamath River Union Elementary\",\"Little Shasta Elementary\",\"McCloud Union Elementary\",\"Montague Elementary\",\"Mt. Shasta Union Elementary\",\"Seiad Elementary\",\"Weed Union Elementary\",\"Willow Creek Elementary\",\"Yreka Union Elementary\",\"Alexander Valley Union Elementary\",\"Bellevue Union Elementary\",\"Bennett Valley Union Elementary\",\"Cinnabar Elementary\",\"Dunham Elementary\",\"Forestville Union Elementary\",\"Fort Ross Elementary\",\"Gravenstein Union Elementary\",\"Guerneville Elementary\",\"Harmony Union Elementary\",\"Horicon Elementary\",\"Kenwood Elementary\",\"Liberty Elementary\",\"Mark West Union Elementary\",\"Monte Rio Union Elementary\",\"Montgomery Elementary\",\"Oak Grove Union Elementary\",\"Old Adobe Union Elementary\",\"Piner-Olivet Union Elementary\",\"Kashia Elementary\",\"Rincon Valley Union Elementary\",\"Roseland Elementary\",\"Sebastopol Union Elementary\",\"Twin Hills Union Elementary\",\"Two Rock Union Elementary\",\"Waugh Elementary\",\"West Side Union Elementary\",\"Wilmar Union Elementary\",\"Wright Elementary\",\"Chatom Union Elementary\",\"Empire Union Elementary\",\"Gratton Elementary\",\"Hart-Ransom Union Elementary\",\"Hickman Community Charter\",\"Keyes Union Elementary\",\"Knights Ferry Elementary\",\"Paradise Elementary\",\"Roberts Ferry Union Elementary\",\"Salida Union Elementary\",\"Shiloh Elementary\",\"Stanislaus Union Elementary\",\"Sylvan Union Elementary\",\"Valley Home Joint Elementary\",\"Brittan Elementary\",\"Browns Elementary\",\"Franklin Elementary\",\"Marcum-Illinois Union Elementary\",\"Meridian Elementary\",\"Nuestro Elementary\",\"Pleasant Grove Joint Union Elementary\",\"Winship-Robbins Elementary\",\"Antelope Elementary\",\"Corning Union Elementary\",\"Evergreen Union Elementary\",\"Flournoy Union Elementary\",\"Gerber Union Elementary\",\"Kirkwood Elementary\",\"Lassen View Union Elementary\",\"Red Bluff Union Elementary\",\"Reeds Creek Elementary\",\"Richfield Elementary\",\"Burnt Ranch Elementary\",\"Coffee Creek Elementary\",\"Douglas City Elementary\",\"Junction City Elementary\",\"Lewiston Elementary\",\"Trinity Center Elementary\",\"Allensworth Elementary\",\"Alta Vista Elementary\",\"Buena Vista Elementary\",\"Burton Elementary\",\"Columbine Elementary\",\"Ducor Union Elementary\",\"Earlimart Elementary\",\"Hope Elementary\",\"Hot Springs Elementary\",\"Kings River Union Elementary\",\"Liberty Elementary\",\"Monson-Sultana Joint Union Elementary\",\"Oak Valley Union Elementary\",\"Outside Creek Elementary\",\"Palo Verde Union Elementary\",\"Pixley Union Elementary\",\"Pleasant View Elementary\",\"Richgrove Elementary\",\"Rockford Elementary\",\"Saucelito Elementary\",\"Sequoia Union Elementary\",\"Springville Union Elementary\",\"Stone Corral Elementary\",\"Strathmore Union Elementary\",\"Sundale Union Elementary\",\"Sunnyside Union Elementary\",\"Terra Bella Union Elementary\",\"Three Rivers Union Elementary\",\"Tipton Elementary\",\"Traver Joint Elementary\",\"Tulare City Elementary\",\"Waukena Joint Union Elementary\",\"Woodville Union Elementary\",\"Belleview Elementary\",\"Columbia Union Elementary\",\"Curtis Creek Elementary\",\"Jamestown Elementary\",\"Sonora Elementary\",\"Soulsbyville Elementary\",\"Summerville Elementary\",\"Twain Harte Elementary\",\"Briggs Elementary\",\"Hueneme Elementary\",\"Mesa Union Elementary\",\"Mupu Elementary\",\"Ocean View Elementary\",\"Oxnard Elementary\",\"Pleasant Valley\",\"Rio Elementary\",\"Santa Clara Elementary\",\"Somis Union Elementary\",\"Camptonville Elementary\",\"Plumas Lake Elementary\",\"Wheatland Elementary\",\"Junction Elementary\",\"Arena Union Elementary\\u002fPoint Arena Joint Union High \",\"Santa Cruz City Elementary\\u002fHigh\",\"Petaluma City Elementary\\u002fJoint Union High\",\"Santa Rosa City Schools\",\"Modesto City Schools\"],\"legendgroup\":\"Elementary\",\"marker\":{\"color\":\"#EF553B\",\"opacity\":0.5,\"symbol\":\"circle\"},\"mode\":\"markers\",\"name\":\"Elementary\",\"orientation\":\"v\",\"showlegend\":true,\"x\":{\"dtype\":\"f8\",\"bdata\":\"AAAAAAAAKEAAAAAAAIBUQAAAAAAAAFJAAAAAAABwdEAAAAAAAE6kQAAAAAAADJRAAAAAAADAl0AAAAAAAABAQAAAAAAA+IdAAAAAAAAggkAAAAAAgAvDQAAAAAAAGKFAAAAAAABAUUAAAAAAAKCCQAAAAAAAGKlAAAAAAAC8m0AAAAAAAOqzQAAAAAAA9KNAAAAAAAC2q0AAAAAAgObDQAAAAAAA4HpAAAAAAAAwe0AAAAAAACB\\u002fQAAAAAAAACBAAAAAAAAAZUAAAAAAAPiKQAAAAAAAsHFAAAAAAADQkkAAAAAAAPiBQAAAAAAAcKtAAAAAAAAAMEAAAAAAAABmQAAAAAAAADpAAAAAAABAWUAAAAAAAABuQAAAAAAAzqBAAAAAAAAAY0AAAAAAAECaQAAAAAAAkHVAAAAAAAAAUUAAAAAAAEiBQAAAAAAAIHtAAAAAAABQfUAAAAAAAM6vQAAAAAAAQGhAAAAAAAAYkEAAAAAAAEBoQAAAAAAAxJFAAAAAAAAANEAAAAAAAABkQAAAAAAAgEJAAAAAAADgY0AAAAAAAIiBQAAAAAAAwFtAAAAAAACQc0AAAAAAAMBQQAAAAAAAABhAAAAAAAAAbEAAAAAAAOB8QAAAAAAAADxAAAAAAADAUkAAAAAAAAAIQAAAAAAA4IxAAAAAAAAAJEAAAAAAAOCBQAAAAAAAQFBAAAAAAAAwc0AAAAAAAABoQAAAAAAAaIpAAAAAAAAAZUAAAAAAAPiTQAAAAAAAeq5AAAAAAAA5tUAAAAAAAIiSQAAAAAAAgFxAAAAAAAAwkkAAAAAAACB3QAAAAAAAQFFAAAAAAAAQdUAAAAAAADB0QAAAAAAAQFFAAAAAAADGpkAAAAAAQBbcQAAAAAAAaJ5AAAAAAAAAM0AAAAAAQOrSQAAAAAAA8HFAAAAAAAAASkAAAAAAAFu4QAAAAAAA4GtAAAAAAABkkUAAAAAAAOBkQAAAAAAA\\u002fqRAAAAAAAAMqEAAAAAAAABnQAAAAACAnsFAAAAAAABYiEAAAAAAAPyYQAAAAAAAaqRAAAAAAAAKqkAAAAAAAAAzQAAAAAAA8HBAAAAAAADQcUAAAAAAAEBRQAAAAAAAwFBAAAAAAAAur0AAAAAAACBlQAAAAAAARbhAAAAAAADAYUAAAAAAAEB1QAAAAAAArKdAAAAAAACeokAAAAAAAIiEQAAAAAAAIqtAAAAAAAA0kEAAAAAAAAyaQAAAAAAA8JhAAAAAAADAtUAAAAAAAPB2QAAAAAAAkIpAAAAAAADMl0AAAAAAAABvQAAAAAAAIKlAAAAAAACQmUAAAAAAAEByQAAAAAAAkHNAAAAAAADAaEAAAAAAAAAYQAAAAAAAIGdAAAAAAABgbkAAAAAAAMyRQAAAAAAASJ5AAAAAAABUqEAAAAAAAFm+QAAAAAAAhbtAAAAAAACqsEAAAAAAAOCSQAAAAAAAcbtAAAAAAAC0lEAAAAAAAABIQAAAAAAAuqZAAAAAAID6zEAAAAAAAC6zQAAAAAAAQ7ZAAAAAAACQrEAAAAAAAIyTQAAAAAAAIrJAAAAAAAAot0AAAAAAQLXUQAAAAAAA9qFAAAAAAAD0wUAAAAAAAMChQAAAAAAAW7RAAAAAAABYi0AAAAAAANnBQAAAAAAA9rRAAAAAAACkk0AAAAAAACB4QAAAAAAA+IlAAAAAAAD2oEAAAAAAAIBUQAAAAAAAgFpAAAAAAABUnEAAAAAAAHyQQAAAAAAAACJAAAAAAABAZEAAAAAAAGiSQAAAAAAA1KFAAAAAAAAAQkAAAAAAAGCQQAAAAAAAIHZAAAAAAAAEsUAAAAAAALBxQAAAAAAALJtAAAAAAAAAO0AAAAAAAF+zQAAAAAAAoHZAAAAAAAAAY0AAAAAAAKB0QAAAAAAA4qNAAAAAAABYjUAAAAAAgILFQAAAAAAAwFpAAAAAAAAwi0AAAAAAAABMQAAAAAAAsKdAAAAAAAAwnUAAAAAAAJBxQAAAAAAAq7xAAAAAAACAQ0AAAAAAAGBwQAAAAAAAAEJAAAAAAAAIqkAAAAAAAPCjQAAAAAAAgE5AAAAAAADAX0AAAAAAAAfAQAAAAAAAAGJAAAAAAACAVUAAAAAAAIBTQAAAAAAA5KhAAAAAAADAi0AAAAAAAFCHQAAAAAAAQFdAAAAAAAAASEAAAAAAAIBjQAAAAAAAYGRAAAAAAAA8mEAAAAAAAAiGQAAAAAAAUJZAAAAAAACIhUAAAAAAAIBbQAAAAAAAcIFAAAAAAACqp0AAAAAAgNvMQAAAAAAAkK1AAAAAAACor0AAAAAAAO6pQAAAAAAAlLdAAAAAAIBXxkAAAAAAAG6zQAAAAAAAyrBAAAAAAAA4s0AAAAAAANS6QAAAAAAAHJtAAAAAAAAOv0AAAAAAANiCQAAAAAAAwFZAAAAAAACwlkAAAAAAAOB0QAAAAAAARbpAAAAAAADmqUAAAAAAAHB9QAAAAAAAsqZAAAAAAACmoEAAAAAAANCHQAAAAAAAcsdAAAAAAIADy0AAAAAAALygQAAAAAAAorVAAAAAAAAJskAAAAAAAFB\\u002fQAAAAAAA4GtAAAAAAABsqkAAAAAAADKkQAAAAAAAADpAAAAAAAAAM0AAAAAAAKK4QAAAAAAAABBAAAAAAABwh0AAAAAAAAAkQAAAAAAAgG1AAAAAAACARUAAAAAAAAA3QAAAAAAATsBAAAAAAADftUAAAAAAAOewQAAAAAAA8KFAAAAAAICPykAAAAAAAI+8QAAAAAAAqKhAAAAAAABAWEAAAAAAAIbRQAAAAAAAXLZAAAAAAAA5yEAAAAAAAAyYQAAAAADAhtFAAAAAAABIhEAAAAAAAEncQAAAAACAycZAAAAAAACcrEAAAAAAAFyxQAAAAABAqdBAAAAAAAAEtEAAAAAAAAiJQAAAAAAAdJ5AAAAAAADqskAAAAAAAIzFQAAAAAAAZKhAAAAAAADZsUAAAAAAAPiAQAAAAAAAeIBAAAAAAAAPuEAAAAAAAG2wQAAAAAAAVKVAAAAAAADbtUAAAAAAAFquQAAAAAAAwGdAAAAAAACypkAAAAAAAABlQAAAAAAAwHdAAAAAAACAZkAAAAAAAABJQAAAAAAACIRAAAAAAAAQdUAAAAAAAGavQAAAAAAA0H1AAAAAAADwqUAAAAAAALyTQAAAAAAAYbdAAAAAAABipUAAAAAAACSSQAAAAAAAVKVAAAAAAAAioEAAAAAAAIB\\u002fQAAAAAAA9qNAAAAAAAA4vUAAAAAAAHieQAAAAAAAgqhAAAAAAIBsw0AAAAAAAPB2QAAAAAAAwFpAAAAAAADIlkAAAAAAQMPQQAAAAAAACIFAAAAAAABAZkAAAAAAAGB2QAAAAAAAoKpAAAAAAABolEAAAAAAADiLQAAAAAAA4GJAAAAAAACQdUAAAAAAAJyyQAAAAAAAaINAAAAAAACATkAAAAAAAO7AQAAAAAAAirdAAAAAAACMp0AAAAAAACe4QAAAAACAicpAAAAAAIAlwUAAAAAAANS+QAAAAAAAQFNAAAAAAACAekAAAAAAAEKqQAAAAAAA4qRAAAAAAADwekAAAAAAAC6uQAAAAAAA77FAAAAAAAA0mEAAAAAAAAXBQAAAAAAAwIdAAAAAAAAUmUAAAAAAAPK1QAAAAAAA+7RAAAAAAABAWEAAAAAAAIBeQAAAAAAALJpAAAAAAABgZEAAAAAAAOBkQAAAAAAAeJhAAAAAAAAgdUAAAAAAAMBuQAAAAAAAtJZAAAAAAAAAREAAAAAAACChQAAAAAAAmJJAAAAAAACkq0AAAAAAAAAuQAAAAAAAaINAAAAAAAAAf0AAAAAAAAA9QAAAAAAAQHdAAAAAAADAakAAAAAAAABwQAAAAAAAgERAAAAAAACAhkAAAAAAAE6pQAAAAAAAwFlAAAAAAACAT0AAAAAAAIBVQAAAAAAAAF5AAAAAAAAALkAAAAAAAKBiQAAAAAAAAE9AAAAAAAAAU0AAAAAAAIBBQAAAAAAA4GlAAAAAAADAXEAAAAAAAABDQAAAAAAAABRAAAAAAAAAM0AAAAAAAABJQAAAAAAAQGNAAAAAAACgf0AAAAAAAAAsQAAAAAAAAHJAAAAAAAAAREAAAAAAACiLQAAAAAAAwFxAAAAAAAAkmUAAAAAAAFCNQAAAAAAAAGZAAAAAAABAZUAAAAAAAMBrQAAAAAAAAC5AAAAAAABQiUAAAAAAAJB2QAAAAAAA6IFAAAAAAACAUkAAAAAAAMBbQAAAAAAAVJpAAAAAAAD4lEAAAAAAAMBQQAAAAAAAADZAAAAAAABok0AAAAAAAKyeQAAAAAAAfJNAAAAAAAAAIkAAAAAAAFCoQAAAAAAAVKVAAAAAAADYhkAAAAAAAOiNQAAAAAAAgF9AAAAAAAC4iEAAAAAAACBhQAAAAAAA4GtAAAAAAAC8k0AAAAAAACCBQAAAAAAAEqZAAAAAAABgYUAAAAAAAISSQAAAAAAAYJBAAAAAAACAkEAAAAAAAMBdQAAAAAAAwGZAAAAAAAAAaEAAAAAAAFynQAAAAAAAQGZAAAAAAADCqUAAAAAAAE2\\u002fQAAAAAAAQGdAAAAAAADwfkAAAAAAAIBgQAAAAAAAkH9AAAAAAADWpEAAAAAAAOiXQAAAAAAAaIlAAAAAAACgY0AAAAAAAMykQAAAAAAA8IhAAAAAAACInkAAAAAAALSSQAAAAAAAgENAAAAAAACgeUAAAAAAAMBZQAAAAAAA8HZAAAAAAACUnUAAAAAAAMBnQAAAAAAAcHBAAAAAAABAVUAAAAAAAAAgQAAAAAAAoGRAAAAAAAAAUkAAAAAAAIBQQAAAAAAAACxAAAAAAABAWUAAAAAAAFyaQAAAAAAAgGZAAAAAAADsskAAAAAAAOBlQAAAAAAAAGRAAAAAAAC8lUAAAAAAAGBrQAAAAAAAACpAAAAAAAAQeUAAAAAAAJiJQAAAAAAAEHtAAAAAAADwgUAAAAAAAKBhQAAAAAAAYH9AAAAAAADoikAAAAAAAGB8QAAAAAAAIH9AAAAAAACgcUAAAAAAAMBRQAAAAAAAAHhAAAAAAACQdEAAAAAAACiLQAAAAAAAyIVAAAAAAABgikAAAAAAAOByQAAAAAAAkIdAAAAAAACAVkAAAAAAAFB\\u002fQAAAAAAAoG5AAAAAAIASwkAAAAAAAOBrQAAAAAAAYHhAAAAAAADgZEAAAAAAAFB8QAAAAAAAYHpAAAAAAACgeUAAAAAAAKiFQAAAAAAAkH1AAAAAAACgfEAAAAAAAIBtQAAAAAAA8H1AAAAAAABuu0AAAAAAAOCQQAAAAAAAIGdAAAAAAAB2oEAAAAAAgCvKQAAAAAAAH7tAAAAAAABhtEAAAAAAAIBKQAAAAAAAYGtAAAAAAABQgkAAAAAAABCZQAAAAAAA1JRAAAAAAAAAN0AAAAAAAOB6QAAAAAAAgLhAAAAAAADcvEAAAAAAAOfMQAAAAADAsd5A\"},\"xaxis\":\"x\",\"y\":{\"dtype\":\"f8\",\"bdata\":\"AAAAALCP60D2KFyP8gTXQB+F61Hw6+FAmpmZmXlVzkAK16NwnfrUQClcj8I1W9NASOF6FB5900DsUbgenbXlQOxRuB7luM5AH4XrUci\\u002f00CamZmZWYXMQDMzMzODb9JA16NwPTqE0kB7FK5HYYnLQAAAAABgE9JAcT0K11OI0EBSuB6FS4fPQFK4HoWbitBAKVyPwhWZzUCuR+F6FKLMQArXo3A9etFArkfhekRY0EDXo3A9alHPQIXrUbjOjulAPQrXoyCI00BI4XoUruDQQClcj8K1NtFAMzMzM\\u002fPmzUD2KFyP0l\\u002fQQB+F61HY78pAj8L1KNRa4kA9CtejUGnUQMP1KFz7F\\u002fRASOF6FH482ED2KFyPggHMQHsUrkcRJdBAj8L1KCx720BmZmZmNgrZQB+F61EY+dZApHA9Cn\\u002fn5UDXo3A9Kp\\u002fUQFK4HoVrRtJAw\\u002fUoXB871kCPwvUofNzkQI\\u002fC9Shchs1AzczMzCyUzECF61G4vlDIQMP1KFxf1dVAcT0K19vl4UApXI\\u002fC1YnVQHE9CtdDcdpA7FG4HrUt0EBmZmZmBrzNQFK4HoWrxc9AmpmZmQk60UAK16Nw3c\\u002fSQFK4HoXrCvNArkfhepQPy0D2KFyPYu3LQLgeheuRCdhAmpmZmfkl4EBmZmZm5mzxQFK4HoXLsNJAhetRuFoX+UDNzMzMLPvOQAAAAACgCdhAH4XrUaii00D2KFyPwkzSQB+F61G4C9ZAUrgehQun0kAK16Nw3T3TQAAAAACA7dNAmpmZmem600AfhetR6HDUQHsUrkfxNNFAFK5H4ZoczUAUrkfhyiLXQEjhehSu5s9ASOF6FJ7z10BSuB6Fe9fcQDMzMzPzdtpAuB6F68Hh00CkcD0K153UQAAAAACADNRAj8L1KNzO0UAUrkfh6jDRQBSuR+GqKt1AAAAAAOCU10CPwvUojJ3XQD0K16MwlNVAZmZmZhYv00AK16NwHXDRQNejcD2qHdJA16NwPaqtzkAUrkfhqt7SQD0K16MgNtJAUrgeheuw10DsUbgeJarJQAAAAACAX9JAPQrXo3CP1UAK16NwNQziQI\\u002fC9SjsGt1A7FG4HqX60EA9CtejEKTeQDMzMzOz69pAexSuR0EkykCkcD0K5+vWQI\\u002fC9ShcAMpAXI\\u002fC9Thj30AK16Nw3avSQOxRuB5Vd9NAAAAAACAzzkBI4XoUvvrWQOxRuB51mtNACtejcD2PzUBmZmZmRvPQQOxRuB61WdVASOF6FJ7I0UAK16NwXarMQFyPwvWo5MpAmpmZmVmL0EDNzMzM7BrVQGZmZmZWA9FA4XoUrgfty0AAAAAAYELSQHE9CtcjQM9AXI\\u002fC9UjUyUAzMzMz12H2QB+F61G4WcxAMzMzMxM8zEAUrkfherfNQI\\u002fC9SjcFtBAcT0K1wMS1kAK16NwXSbSQDMzMzNT0ddAAAAAADB21EAzMzMz89rRQKRwPQp33NRAmpmZmTnKzkAK16NwPfPIQArXo3CdZtNApHA9CqcD1UAAAAAAIKraQB+F61E40NZA9ihcj1LU1EBcj8L1CG7XQAAAAAAg5NlAFK5H4fr8zUCamZmZmcPTQPYoXI9yldNASOF6FM5OzUDsUbge5WHXQGZmZma2RtBAAAAAANDE00ApXI\\u002fCtQzOQLgehevRL9RArkfhegRB1UA9CtejYDnRQI\\u002fC9Si8EdRApHA9CgeK0kAzMzMzE2vRQNejcD3aI+xAH4XrUcjU0UCamZmZydXUQHE9CteTJ+lAAAAAAFCK3UAUrkfhGrPVQLgeheshQ9hAw\\u002fUoXH8C4UA9CtejgADbQHsUrkdRZt5AH4XrUXj90kAUrkfhymblQEjhehRejtFArkfhepRw50CkcD0K96jRQD0K16MgI+BAFK5H4Sph10A9CtejcL7VQM3MzMx8CtFAexSuR6EFy0DXo3A9KhPRQClcj8J1PtBA4XoUrucq1kDhehSuhwPUQDMzMzOT59FAH4XrUfi00EBSuB6FCzvPQArXo3CNU9ZAH4XrUYjP30CPwvUobCLWQHsUrkdB4NBAw\\u002fUoXA8+00DXo3A9qrDSQFK4HoUrK9JAj8L1KDzJzkCamZmZCXnVQBSuR+HaE89AXI\\u002fC9Uha3EAfhetR2OPcQMP1KFyf+NJAmpmZmfnMykDXo3A9ik7OQI\\u002fC9SiMWtxAKVyPwhUg4UAK16NwTQrSQJqZmZlZNMtAj8L1KCyq00Bcj8L1SE3PQOxRuB6lhctA7FG4HkX7zkBI4XoUzizbQPYoXI8id89AexSuR8G9zUB7FK5HgdTXQD0K16OwE9VAPQrXo5DR0ECkcD0Kp0zQQOF6FK7nps5AAAAAAKAM0UDD9ShcLxLRQBSuR+FaCdVAuB6F6zEw1UBSuB6Fq+HRQClcj8L1rNNAFK5H4Up81EDXo3A9arLJQAAAAACA5NJApHA9CudN0UAzMzMzM7fRQOF6FK7HyspACtejcP1Cy0ApXI\\u002fCNXHOQPYoXI\\u002firclAFK5H4cp82EDsUbge5WDOQM3MzMys0MxA9ihcj0L6zkB7FK5HkZbUQJqZmZnJi9NApHA9Cve7z0CPwvUofIbMQArXo3AdvNFAZmZmZtZ\\u002f0ECuR+F6NPzSQOF6FK5no9NAH4XrUQhc10AUrkfhGj7QQIXrUbi2Q\\u002fZAzczMzOzUy0AzMzMzQ0feQMP1KFxPnsZAPQrXoyAh0kBSuB6FS8vcQAAAAACwGdNAXI\\u002fC9SgvzkCF61G4rjbQQM3MzMxc0ddAuB6F65EM0EAUrkfhmsDPQB+F61H4us1ASOF6FB4Z0UCPwvUoDKHXQHE9CteV+ABBPQrXo\\u002fDu00A9CtejoC\\u002fQQD0K16Ow39NA4XoUricZ1EDsUbgelSHSQEjhehReKdJAZmZmZoae1UApXI\\u002fCpfPRQHsUrkfxANRAKVyPwqWn1EDsUbgedTnRQFyPwvVY1NdA9ihcjxLd0EAUrkfhiorSQIXrUbieUtVAzczMzFzO2EBmZmZmRqPcQArXo3CdM8tAuB6F6\\u002fFE0EBxPQrXs3\\u002fVQFK4HoUryNZAj8L1KFzS2UAzMzMz81nhQFyPwvWYHNVAmpmZmfn7yEApXI\\u002fCFYzXQAAAAACgZslAcT0K1yPN20CkcD0Kx53XQMP1KFyPWtBAUrgehesS00CF61G4ntrOQClcj8JlStlAKVyPwpVwzUBcj8L12B7eQGZmZma23NJAUrgehWuYzkDsUbgelb7fQKRwPQo3K9tAKVyPwpXNz0AzMzMzcxjjQHsUrkc54+NA7FG4HsUL10BSuB6F2yPUQLgehevxWNFAmpmZmSl+1UDNzMzMnMbiQNejcD06\\u002fNlAMzMzM9PnzkDXo3A9ynjTQGZmZmYGQt1A4XoUrkfe3EDsUbgexbjeQOF6FK6XF9ZAUrgehet31ECamZmZadnTQClcj8JVNc9AAAAAALCT5UA9Ctej0MPMQPYoXI8CI8xAzczMzPxh1kC4HoXrcV7XQHsUrkdxadFA4XoUroeu0UD2KFyPMg7UQClcj8KlwtFAH4XrUShQ0EBxPQrXw83YQOxRuB5tduBAFK5H4VoM1EAUrkfh6mvXQDMzMzOz3tRAj8L1KDwa1kApXI\\u002fCBWzTQJqZmZkJDtlAXI\\u002fC9Uiq2ECkcD0Kp8jQQJqZmZkZqtRAuB6F66E32EC4HoXrsTfZQLgehesxQ9BAKVyPwsVi3UAzMzMzQx\\u002fSQAAAAAAAtdNAZmZmZvYK0kCkcD0K95rKQClcj8IVl9BAzczMzOwI0UAzMzMzUyvWQIXrUbge2tVAj8L1KNR64UAzMzMzAwLTQK5H4XoEVdBAw\\u002fUoXH8f0UApXI\\u002fCxeHgQJqZmZmZzs1AH4XrUbjn0EA9CtejwDjhQFyPwvX4GtFAzczMzAz60UBxPQrXgxHJQLgehetpX+5ApHA9Ctftz0AfhetR2AXTQLgehesxMNRAw\\u002fUoXB\\u002fd0EBSuB6FK\\u002fbaQEjhehQOS9BA9ihcj2Lp2kAUrkfhmv3OQHE9CtdD0tRAw\\u002fUoXIdw4kAUrkfhSg\\u002faQNejcD1qfM1ArkfhehTw1kBxPQrX40PhQArXo3Cdc\\u002fpAFK5H4eow10BxPQrXM53TQDMzMzNj69BAKVyPwpWP0EBSuB6FY7PsQIXrUbg+SNhACtejcB0h1EDNzMzMDKzUQK5H4XpElNhAUrgehZuM2EApXI\\u002fCNWfQQFyPwvXIFNhAFK5H4ZrizEBSuB6FK1fbQArXo3BlqvNA16NwPfqc0UApXI\\u002fCJW3gQArXo3Dde99AMzMzM7Mt5EBcj8L1aMjfQPYoXI9CONNAFK5H4eqV00CamZmZcf\\u002fgQBSuR+FK2OlAUrgehet10kB7FK5HwdHTQLgeheuxMdZA7FG4Hs3v8kCamZmZuSfSQHsUrkcpfuJAzczMzIxp1UDXo3A9ehHVQIXrUbh+INVAMzMzMxMKzUBSuB6Fa+PQQKRwPQr37M5A7FG4HgUA1kApXI\\u002fCpTbRQEjhehROCNNA4XoUrietz0C4HoXrsWDKQFyPwvUoCMhAj8L1KPw21UDhehSu98nSQLgehethB9JAmpmZmbmjykB7FK5HAafUQD0K16OQzNBAmpmZmblr00ApXI\\u002fCtbbPQJqZmZnZX81AmpmZmRldx0B7FK5HIW\\u002fJQD0K16MQocdAmpmZmdlU0EDsUbgeVd3RQKRwPQpXgM1AhetRuB5ZzEBcj8L1qHPdQLgeheuB9dBAj8L1KDxt0UDhehSu5ybPQDMzMzMjctRAhetRuG4y0kCF61G47tTRQPYoXI\\u002filMxAcT0K14Og00CkcD0K1zrKQI\\u002fC9Sj8w8tAzczMzPzo1UBcj8L1YDPiQI\\u002fC9ShcEM9AhetRuJ5M0kC4HoXr8TDVQGZmZmZWON9ApHA9Cndo0UDsUbgeBaPSQB+F61E4DtJAH4XrUeiR0kDD9ShcTz7KQJqZmZlpNdRAzczMzFzg10C4HoXrMVfQQOF6FK43bN1AexSuR9Ft1EDhehSuJ13FQHsUrkeB79FAmpmZmYnN0kCF61G43m\\u002fDQDMzMzPD4tFAXI\\u002fC9ehy1UDXo3A9Kh\\u002fTQEjhehSuHNlAzczMzIzKzECF61G4DsnTQJqZmZlJrdhAw\\u002fUoXJ8k0EAfhetRSOrZQIXrUbg+LtZAKVyPwlXNy0A9CtejsGXXQM3MzMwMMNRAUrgehbuB1kAUrkfhitTTQOxRuB7Fy9FAZmZmZkY00UB7FK5H8ajTQOF6FK43ddVAMzMzM+PZ0kDsUbgehX3RQNejcD2qT89ApHA9CveO0kB7FK5HwTbPQM3MzMxM+81AH4XrURhWzUCuR+F6RHrTQArXo3Ad2NBAhetRuD5W1ECPwvUovIvNQM3MzMyssc1APQrXoyDH00B7FK5HkVDXQLgehetxBs1ACtejcH3X0UBxPQrXY3rSQMP1KFwPbdVAMzMzM\\u002fOV10BI4XoUbpzNQDMzMzOTTtZACtejcCV84EAzMzMzs3zeQOxRuB6lytNAH4XrUThi0kAzMzMzE8HUQPYoXI9SW9NA\"},\"yaxis\":\"y\",\"type\":\"scatter\"},{\"hovertemplate\":\"\\u003cb\\u003eOLS trendline\\u003c\\u002fb\\u003e\\u003cbr\\u003eExpense per ADA = -0.359776 * Enroll Total + 23471.5\\u003cbr\\u003eR\\u003csup\\u003e2\\u003c\\u002fsup\\u003e=0.012694\\u003cbr\\u003e\\u003cbr\\u003eDistrict Type=Elementary\\u003cbr\\u003eEnroll Total=%{x}\\u003cbr\\u003eExpense per ADA=%{y} \\u003cb\\u003e(trend)\\u003c\\u002fb\\u003e\\u003cextra\\u003e\\u003c\\u002fextra\\u003e\",\"legendgroup\":\"Elementary\",\"marker\":{\"color\":\"#EF553B\",\"symbol\":\"circle\"},\"mode\":\"lines\",\"name\":\"Elementary\",\"showlegend\":false,\"x\":{\"dtype\":\"f8\",\"bdata\":\"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\\u002fQAAAAAAAIH9AAAAAAAAgf0AAAAAAAFB\\u002fQAAAAAAAUH9AAAAAAABgf0AAAAAAAIB\\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\\u002fQAAAAAAAB8BAAAAAAABOwEAAAAAAAO7AQAAAAAAABcFAAAAAAIAlwUAAAAAAgJ7BQAAAAAAA2cFAAAAAAAD0wUAAAAAAgBLCQAAAAACAC8NAAAAAAIBsw0AAAAAAgObDQAAAAACAgsVAAAAAAACMxUAAAAAAgFfGQAAAAACAycZAAAAAAAByx0AAAAAAADnIQAAAAACAK8pAAAAAAICJykAAAAAAgI\\u002fKQAAAAACAA8tAAAAAAIDbzEAAAAAAAOfMQAAAAACA+sxAAAAAAECp0EAAAAAAQMPQQAAAAAAAhtFAAAAAAMCG0UAAAAAAQOrSQAAAAABAtdRAAAAAAEAW3EAAAAAAAEncQAAAAADAsd5A\"},\"xaxis\":\"x\",\"y\":{\"dtype\":\"f8\",\"bdata\":\"+Fza\\u002fJfr1kDrHkr2gOvWQN7gue9p69ZA0aIp6VLr1kDRoinpUuvWQLYmCdwk69ZAtiYJ3CTr1kCp6HjVDevWQKnoeNUN69ZAnKrozvbq1kCcqujO9urWQIIuyMHI6tZAdPA3u7Hq1kBnsqe0murWQGeyp7Sa6tZAWnQXroPq1kBadBeug+rWQFp0F66D6tZATTaHp2zq1kAlfNaTJ+rWQCV81pMn6tZAJXzWkyfq1kAlfNaTJ+rWQBg+Ro0Q6tZA\\u002fsElgOLp1kDwg5V5y+nWQPCDlXnL6dZAycnkZYbp1kDJyeRlhunWQLyLVF9v6dZArk3EWFjp1kChDzRSQenWQHpVgz786NZAUpvSKrfo1kBFXUIkoOjWQEVdQiSg6NZANx+yHYno1kAq4SEXcujWQB2jkRBb6NZAHaOREFvo1kAQZQEKROjWQBBlAQpE6NZAAydxAy3o1kDoqlD2\\u002fufWQKZ0f9WL59ZApnR\\u002f1Yvn1kCM+F7IXefWQIz4Xshd59ZAcXw+uy\\u002fn1kBkPq60GOfWQD2E\\u002faDT5tZA+00sgGDm1kD7TSyAYObWQO0PnHlJ5tZA4NELczLm1kDGVetlBObWQLkXW1\\u002ft5dZAq9nKWNbl1kCr2cpY1uXWQKvZyljW5dZAnps6Ur\\u002fl1kCRXapLqOXWQJFdqkuo5dZAkV2qS6jl1kCRXapLqOXWQHfhiT565dZAaaP5N2Pl1kBpo\\u002fk3Y+XWQE8n2So15dZAQulIJB7l1kA1q7gdB+XWQCdtKBfw5NZAGi+YENnk1kDlNlf2fOTWQOU2V\\u002fZ85NZAvnym4jfk1kCxPhbcIOTWQLE+Ftwg5NZAfEbVwcTj1kBvCEW7rePWQFSMJK5\\u002f49ZAH5TjkyPj1kAflOOTI+PWQOqbonnH4tZA6puiecfi1kDQH4JsmeLWQNAfgmyZ4tZAqGXRWFTi1kCbJ0FSPeLWQJsnQVI94tZAdG2QPvjh1kBmLwA44eHWQGYvADjh4dZAP3VPJJzh1kAyN78dheHWQDI3vx2F4dZA\\u002fT5+Aynh1kDwAO78EeHWQNWEze\\u002fj4NZAoIyM1Yfg1kCTTvzOcODWQFEYK67939ZAD+JZjYrf1kD1ZTmAXN\\u002fWQNrpGHMu39ZAzauIbBff1kCzL2hf6d7WQHH5lj523tZAVn12MUje1kBJP+YqMd7WQEk\\u002f5iox3tZAL8PFHQPe1kAUR6UQ1d3WQAcJFQq+3dZA7Yz0\\u002fI\\u002fd1kDgTmT2eN3WQOBOZPZ43dZAxdJD6Urd1kC4lLPiM93WQLiUs+Iz3dZAnRiT1QXd1kCDnHLI19zWQIOccsjX3NZAg5xyyNfc1kB2XuLBwNzWQHZe4sHA3NZAdl7iwcDc1kBpIFK7qdzWQFviwbSS3NZAGazwkx\\u002fc1kAMbmCNCNzWQAxuYI0I3NZA8vE\\u002fgNrb1kDy8T+A2tvWQNd1H3Os29ZA13Ufc6zb1kC9+f5lftvWQKN93lhQ29ZAlT9OUjnb1kCVP05SOdvWQIgBvksi29ZAUwl9Mcba1kBTCX0xxtrWQDmNXCSY2tZAOY1cJJja1kAfETwXatrWQB8RPBdq2tZA6hj7\\u002fA3a1kBz6ujBPtnWQBc495Od2NZA1QEmcyrY1kDVASZzKtjWQK1HdV\\u002fl19ZAoAnlWM7X1kCgCeVYztfWQKAJ5VjO19ZAoAnlWM7X1kCTy1RSt9fWQPTikQOj1tZA9OKRA6PW1kC\\u002f6lDpRtbWQJgwoNUB1tZAfbR\\u002fyNPV1kBwdu\\u002fBvNXWQFb6zrSO1dZA7AlNgNbU1kCdletYTNTWQJBXW1I11NZAJmfZHX3T1kCi+jbcltLWQJW8ptV\\u002f0tZAiH4Wz2jS1kCIfhbPaNLWQG0C9sE60tZAU4bVtAzS1kBGSEWu9dHWQBFQBJSZ0dZAjeNhUrPQ1kBLrZAxQNDWQPs4Lwq2z9ZA+zgvCrbP1kB3zIzIz87WQEPUS65zztZAKFgroUXO1kAbGpuaLs7WQOYhWoDSzdZAv2epbI3N1kC\\u002fZ6lsjc3WQLEpGWZ2zdZAl634WEjN1kBVdyc41czWQFV3JzjVzNZA3kgV\\u002fQXM1kCpUNTiqcvWQIKWI89ky9ZAdFiTyE3L1kAyIsKn2srWQDIiwqfaytZAMiLCp9rK1kALaBGUlcrWQPDr8IZnytZAh\\u002ftuUq\\u002fJ1kBSAy44U8nWQDiHDSslydZAA4\\u002fMEMnI1kBy5JnIy8fWQPu1h438xtZA+7WHjfzG1kBczcQ+6MXWQEJRpDG6xdZA89xCCjDF1kDz3EIKMMXWQOWesgMZxdZAyyKS9urE1kC+5AHw08TWQLGmcem8xNZAw0lNcx7D1kC2C71sB8PWQIETfFKrwtZATBs7OE\\u002fC1kDwaEkKrsHWQNXsKP1\\u002fwdZAu3AI8FHB1kCGeMfV9cDWQGz8psjHwNZAmBujX1e\\u002f1kCL3RJZQL\\u002fWQHFh8ksSv9ZAcWHySxK\\u002f1kBJp0E4zb7WQEmnQTjNvtZAPGmxMba+1kAi7ZAkiL7WQBSvAB5xvtZAB3FwF1q+1kDyWZuNdrzWQB95lyQGu9ZABP12F9i61kDdQsYDk7rWQJsM9eIfutZAWdYjwqy51kAxHHOuZ7nWQKBxQGZquNZAkzOwX1O41kCF9R9ZPLjWQHi3j1IluNZANoG+MbK31kDnDF0KKLfWQGOgushBttZAB+7ImqC11kAZkaQkArTWQBmRpCQCtNZAEbhfoTWy1kCnx91sfbHWQD7XWzjFsNZAlxVUZuSt1kBiHRNMiK3WQC0l0jEsrdZAxDRQ\\u002fXOs1kD+kdyaGqvWQG3nqVIdqtZAp0Q28MOo1kByTPXVZ6jWQD1UtLsLqNZA7t9SlIGn1kDTYzKHU6fWQJEtYWbgptZA80SeF8yl1kBUXNvIt6TWQPip6ZoWpNZA0O84h9Gj1kBawSZMAqPWQDIHdji9otZA45IUETOi1kBEqlHCHqHWQJmD\\u002fmzzn9ZAi0VuZtyf1kBJD51FaZ\\u002fWQLhkav1rntZAnuhJ8D2e1kBPdOjIs53WQE906MizndZAQTZYwpyd1kA0+Me7hZ3WQP\\u002f\\u002fhqEpndZAVNkzTP6b1kB4H+tfwZjWQMC6BwR\\u002fl9ZAsnx3\\u002fWeX1kDFH1OHyZXWQAFuMag4j9ZApLs\\u002fepeO1kATEQ0ymo3WQBMRDTKajdZAt14bBPmM1kCqIIv94YzWQG1PBWC5itZAuU9th8GH1kB8fufpmIXWQGICx9xqhdZAP61hTHCD1kAY87A4K4PWQF+OzdzogdZAAtzbrkeB1kD1nUuoMIHWQMClCo7UgNZAZPMYYDOA1kAIQScykn\\u002fWQNNI5hc2f9ZAEgu+OCd81kDQ1OwXtHvWQJvcq\\u002f1Xe9ZATGhK1s161kD98+iuQ3rWQP3z6K5DetZANlF1TOp41kD0GqQrd3jWQMWHrpRldtZAyuz5F7B01kBg\\u002fHfj93PWQOrNZagoc9ZAY+3JZsBu1kB69fBzbGvWQD0ka9ZDadZAMObazyxp1kDurwmvuWjWQLuoGhgmY9ZAlO5pBOFi1kA3PHjWP2LWQMANZptwYdZAPKHDWYpg1kAiJaNMXGDWQFyCL+oCX9ZA0DxIJVBc1kCogpcRC1zWQGZMxvCXW9ZAWQ426oBb1kAkFvXPJFvWQMCKvh63WNZAJwdHU+1V1kC9FsUeNVXWQHvg8\\u002f3BVNZAOaoi3U5U1kAeLgLQIFTWQKWL9pTPT9ZAcJO1enNP1kCV2WyONkzWQJ+jA5XLSNZAyU4GLNlD1kB\\u002fP\\u002fCHmUHWQCxXlWCNPdZAw2YTLNU81kCbrGIYkDzWQI5u0hF5PNZAWXaR9xw81kDiR3+8TTvWQKCOBh8hMtZAdWBcC1ou1kA4j9ZtMSzWQKfkoyU0K9ZAMLaR6mQq1kAo3UxnmCjWQEi+uPcQJ9ZAE8Z33bQm1kDzYWTQgh\\u002fWQG\\u002f1wY6cHtZAtpDeMlod1kCO1i0fFR3WQDl62feGFdZA3jWS0PQG1kCCg6CiUwbWQGcHgJUlBtZAWsnvjg4G1kDOgwjKWwPWQBUfJW4ZAtZAXLpBEtcA1kDV2aXQbvzVQJOj1K\\u002f7+9VARC9ziHH71UCLyo8sL\\u002frVQFReVRJR9tVAVF5VElH21UBUXlUSUfbVQPerY+Sv9dVAbVfOosXt1UBN87qVk+bVQE3zupWT5tVAGPt5ezfm1UDJhhhUreXVQOtY1mfu3tVArodQysXc1UDo5NxnbNvVQNumTGFV29VAwCosVCfb1UBhBEEmBNfVQKDGGEf109VAhkr4OcfT1UAcWnYFD9PVQFa3AqO10dVAWxxOJgDQ1UDP1mZhTc3VQHiJwLb2ytVAQ5F\\u002fnJrK1UAT\\u002fokFicjVQBbv24hRw9VAKJK3ErPB1UDzmXb4VsHVQOZb5vE\\u002fwdVAR3MjoyvA1UA6NZOcFMDVQMlrzOSPvdVAs1T3Wqy71UBcB1GwVbnVQAJGsQV9s9VA\\u002f9G3Bfuv1UCohBFbpK3VQDFW\\u002fx\\u002fVrNVAkuqUVAej1UBCdjMtfaLVQPjjdQyEl9VA5b3yBWmQ1UDCaI11bo7VQO+HiQz+jNVAS7fTveWE1UDZ7QwGYYLVQCXudC1pf9VAKlPAsLN91UBB2D9BpnHVQBwP4bApbNVAdU3Z3khp1UD2RYIgrWbVQHg+K2IRZNVA7umVICdc1UB7nSfs6FDVQFlIwlvuTtVAAvsbsZdM1UC36wUNWErVQG1ZSOxeP9VAZ3FV7Fo41UBM9TTfLDjVQOX1BC49MtVAYYli7FYx1UBeFWns1C3VQJhy9Yl7LNVAM2QXXFQh1UDcFnGx\\u002fR7VQF8AbHYqF9VAEIwKT6AW1UBgbhZ9OQnVQB44RVzGCNVA7DBWxTID1UCCvSwUwfnUQPV3RU8O99RAkewOnqD01EBc9M2DRPTUQGFZGQeP8tRANLd180Xr1EDqp19PBunUQGQ1bhSt1tRAdGRQnozR1EBWdDaR3M3UQNIHlE\\u002f2zNRAejdGKObB1EA+ZsCKvb\\u002fUQLIg2cUKvdRAj8tzNRC71ECm05pCvLfUQOaVcmOttNRASgZdpf2O1EDqXMr6IILUQAsviA5ie9RA+AgFCEd01EDRTlT0AXTUQMh1D3E1ctRAEPwun0ha1ECfMmjnw1fUQBhSzKVbU9RAWQX2SRVL1EBy+B\\u002fhFjHUQBoo0rkGJtRAHBkkPc8g1EDc06SfJBvUQOgL5qzICdRAlaDjCAP900AUEJbUOuDTQLXpqqYX3NNAWigL\\u002fD7W00Dff7DHesDTQNYjxMf0tdNADg1XZRmx00DoQ\\u002fjUnKvTQDmOXxDSftNAOIgQF19t00CiY5XVbFfTQCOpTbVPDdNAKA6ZOJoL00AqZ0bJ\\u002fubSQGgjz\\u002fB80tJABnTtTC200kCA+6wYYZDSQBRS64i0NtJAYsD9tssl0kDE1zpotyTSQM2bgnXZD9JAHcudQfG60UDtN6iq37jRQOrDrqpdtdFAN7GTpVTt0EDae\\u002fr6+ePQQKypDQLpndBAhe9c7qOd0EAuQiR5vR3QQPp2Ts008c5Alnt\\u002fWvmhyUCmEr3xdH3JQC4gsXGswcdA\"},\"yaxis\":\"y\",\"type\":\"scatter\"},{\"hovertemplate\":\"\\u003cb\\u003e%{hovertext}\\u003c\\u002fb\\u003e\\u003cbr\\u003e\\u003cbr\\u003eDistrict Type=High\\u003cbr\\u003eEnroll Total=%{x}\\u003cbr\\u003eExpense per ADA=%{y}\\u003cextra\\u003e\\u003c\\u002fextra\\u003e\",\"hovertext\":[\"Oroville Union High\",\"Bret Harte Union High\",\"Acalanes Union High\",\"Liberty Union High\",\"El Dorado Union High\",\"Kingsburg Joint Union High\",\"Northern Humboldt Union High\",\"Fortuna Union High\",\"Brawley Union High\",\"Central Union High\",\"Delano Joint Union High\",\"Kern High\",\"Taft Union High\",\"Wasco Union High\",\"Hanford Joint Union High\",\"Lemoore Union High\",\"Lassen Union High\",\"Antelope Valley Union High\",\"Centinela Valley Union High\",\"El Monte Union High\",\"Whittier Union High\",\"William S. Hart Union High\",\"Chowchilla Union High\",\"San Rafael City High\",\"Tamalpais Union High\",\"Le Grand Union High\",\"Merced Union High\",\"South Monterey County Joint Union High\",\"Salinas Union High\",\"Nevada Joint Union High\",\"Anaheim Union High\",\"Fullerton Joint Union High\",\"Huntington Beach Union High\",\"Placer Union High\",\"Roseville Joint Union High\",\"Perris Union High\",\"Galt Joint Union High\",\"San Benito High\",\"Chaffey Joint Union High\",\"Victor Valley Union High\",\"Escondido Union High\",\"Fallbrook Union High\",\"Grossmont Union High\",\"Julian Union High\",\"San Dieguito Union High\",\"Sweetwater Union High\",\"Jefferson Union High\",\"San Mateo Union High\",\"Sequoia Union High\",\"Santa Maria Joint Union High\",\"Santa Ynez Valley Union High\",\"Campbell Union High\",\"East Side Union High\",\"Fremont Union High\",\"Los Gatos-Saratoga Union High\",\"Mountain View-Los Altos Union High\",\"Anderson Union High\",\"Shasta Union High\",\"Dunsmuir Joint Union High\",\"Siskiyou Union High\",\"Yreka Union High\",\"West Sonoma County Union High\",\"East Nicolaus Joint Union High\",\"Sutter Union High\",\"Corning Union High\",\"Red Bluff Joint Union High\",\"Tulare Joint Union High\",\"Sonora Union High\",\"Summerville Union High\",\"Oxnard Union High\",\"Wheatland Union High\"],\"legendgroup\":\"High\",\"marker\":{\"color\":\"#00cc96\",\"opacity\":0.5,\"symbol\":\"circle\"},\"mode\":\"markers\",\"name\":\"High\",\"orientation\":\"v\",\"showlegend\":true,\"x\":{\"dtype\":\"f8\",\"bdata\":\"AAAAAACwoUAAAAAAAJiDQAAAAAAAJ7VAAAAAAIAYwEAAAAAAAI25QAAAAAAALJNAAAAAAAAknkAAAAAAAOyQQAAAAAAAmJ9AAAAAAABur0AAAAAAAKyvQAAAAACADeVAAAAAAADIkUAAAAAAADycQAAAAAAAVLBAAAAAAAAKokAAAAAAAGiKQAAAAACAEtZAAAAAAACJuUAAAAAAAP29QAAAAACA98NAAAAAAMCd1UAAAAAAALyRQAAAAAAAuqRAAAAAAAB6skAAAAAAAPB+QAAAAAAAuMVAAAAAAABWpUAAAAAAgLDPQAAAAAAAaqVAAAAAAMCO2kAAAAAAAA3JQAAAAAAAjMtAAAAAAAAOr0AAAAAAAKnIQAAAAACAYsdAAAAAAADonkAAAAAAAKarQAAAAAAAGdZAAAAAAIAcyEAAAAAAAGrBQAAAAAAAIKBAAAAAAEAw1UAAAAAAAIBdQAAAAAAAJshAAAAAAMDp4UAAAAAAADuwQAAAAAAAUcJAAAAAAIAGw0AAAAAAgIzBQAAAAAAA8IpAAAAAAIDSwEAAAAAAgCjXQAAAAAAA18JAAAAAAADeqEAAAAAAADaxQAAAAAAArJlAAAAAAAB9tUAAAAAAAEBQQAAAAAAAGIBAAAAAAACghUAAAAAAAICYQAAAAAAAsHJAAAAAAADYiEAAAAAAAISQQAAAAAAAtJpAAAAAAAAptkAAAAAAABCRQAAAAAAADJFAAAAAAIDu0EAAAAAAAAyRQA==\"},\"xaxis\":\"x\",\"y\":{\"dtype\":\"f8\",\"bdata\":\"AAAAAGB31EBcj8L1SO3aQB+F61F40NJAhetRuE5c0EAAAAAAAK\\u002fPQJqZmZnpFtFA9ihcj3LW1EB7FK5HoTHQQHsUrkehRdNACtejcJ3b00AUrkfhShHUQMP1KFxPy9JA4XoUrjeL2ECPwvUovAvTQEjhehTO99BAMzMzM7OE0UDNzMzMTL3QQDMzMzNTSNJAhetRuF5t1ECuR+F6RJ\\u002fYQGZmZmZGxdZAexSuR1GM0ED2KFyPkhTSQFK4HoXrMNNAMzMzM4NN2EA9CtejUFPYQOF6FK5HH9JAZmZmZka70EBxPQrXg+rTQClcj8IVjdNAuB6F69GF00C4HoXrYSTRQClcj8LV99FA9ihcjzIQ0kDNzMzMrIbQQOxRuB4VVdRAKVyPwoUi0kBSuB6Fy1vQQGZmZmZ2c9JAKVyPwlVG1EDD9ShcX9XVQPYoXI\\u002fiatVA4XoUrgcj1UDNzMzMvAXiQGZmZmYmic5ArkfheqT10EB7FK5HoSHXQMP1KFz\\u002feNpAj8L1KBxA3ECPwvUorJzTQK5H4Xr029FAKVyPwvVz00CamZmZaZDSQJqZmZkJQdhA4XoUrlei2EAAAAAAELfgQGZmZmZGi9FA4XoUrndf0UD2KFyPclzkQGZmZmaWVthAKVyPwnVg1UCamZmZOSfSQKRwPQoX19BACtejcH1UzkDsUbgelY\\u002fSQFyPwvX4VdNAAAAAAKBm00CF61G4Dl3UQClcj8K1p9JAhetRuO5900B7FK5HwWPTQA==\"},\"yaxis\":\"y\",\"type\":\"scatter\"},{\"hovertemplate\":\"\\u003cb\\u003eOLS trendline\\u003c\\u002fb\\u003e\\u003cbr\\u003eExpense per ADA = -0.0967475 * Enroll Total + 21577\\u003cbr\\u003eR\\u003csup\\u003e2\\u003c\\u002fsup\\u003e=0.033103\\u003cbr\\u003e\\u003cbr\\u003eDistrict Type=High\\u003cbr\\u003eEnroll Total=%{x}\\u003cbr\\u003eExpense per ADA=%{y} \\u003cb\\u003e(trend)\\u003c\\u002fb\\u003e\\u003cextra\\u003e\\u003c\\u002fextra\\u003e\",\"legendgroup\":\"High\",\"marker\":{\"color\":\"#00cc96\",\"symbol\":\"circle\"},\"mode\":\"lines\",\"name\":\"High\",\"showlegend\":false,\"x\":{\"dtype\":\"f8\",\"bdata\":\"AAAAAABAUEAAAAAAAIBdQAAAAAAAsHJAAAAAAADwfkAAAAAAABiAQAAAAAAAmINAAAAAAACghUAAAAAAANiIQAAAAAAAaIpAAAAAAADwikAAAAAAAISQQAAAAAAA7JBAAAAAAAAMkUAAAAAAAAyRQAAAAAAAEJFAAAAAAAC8kUAAAAAAAMiRQAAAAAAALJNAAAAAAACAmEAAAAAAAKyZQAAAAAAAtJpAAAAAAAA8nEAAAAAAACSeQAAAAAAA6J5AAAAAAACYn0AAAAAAACCgQAAAAAAAsKFAAAAAAAAKokAAAAAAALqkQAAAAAAAVqVAAAAAAABqpUAAAAAAAN6oQAAAAAAApqtAAAAAAAAOr0AAAAAAAG6vQAAAAAAArK9AAAAAAAA7sEAAAAAAAFSwQAAAAAAANrFAAAAAAAB6skAAAAAAACe1QAAAAAAAfbVAAAAAAAAptkAAAAAAAIm5QAAAAAAAjblAAAAAAAD9vUAAAAAAgBjAQAAAAACA0sBAAAAAAABqwUAAAAAAgIzBQAAAAAAAUcJAAAAAAADXwkAAAAAAgAbDQAAAAACA98NAAAAAAAC4xUAAAAAAgGLHQAAAAACAHMhAAAAAAAAmyEAAAAAAAKnIQAAAAAAADclAAAAAAACMy0AAAAAAgLDPQAAAAACA7tBAAAAAAEAw1UAAAAAAwJ3VQAAAAACAEtZAAAAAAAAZ1kAAAAAAgCjXQAAAAADAjtpAAAAAAMDp4UAAAAAAgA3lQA==\"},\"xaxis\":\"x\",\"y\":{\"dtype\":\"f8\",\"bdata\":\"l8ZxVqoQ1UDfcoUrYg\\u002fVQIMMS3IBC9VA939j2EMG1UANTScCyAXVQL38ooUSA9VARldfDYAB1UBFhNxKAv\\u002fUQP0ERrPM\\u002fdRAg6ZfcGP91EAdtpQHrPjUQFParAoL+NRAKfnHgdn31EAp+ceB2ffUQARdq1DT99RAwSLdEMn21EBRTod9tvbUQFoFlWqP9NRAsAd5\\u002f0\\u002fs1EDESBecf+rUQCcHt\\u002fLm6NRA4UDDJYjm1EAc1yC+lOPUQPnzpldl4tRAkR285lTh1EBzfwrYUODUQFKCsHl629RAxA+p12Pa1ECqPTfZEdLUQE6qf+Iu0NRA2ZBh9\\u002fDP1EB5+PsrQMXUQKDUMuCjvNRAH+V4Oxiy1EAinhsG77DUQJ61pBMvsNRA6Bpbs72t1EBE24\\u002fnIq3UQFoCToyrp9RAKWMYZNWf1EBlk4r6Q4\\u002fUQN8e7novjdRA0jW1ewaJ1ED7Nya7IHTUQGbHs\\u002fYHdNRA8+G+B45Y1EDO37bU6UrUQKD5I3fqQdRAfylHVpY61EByE5EZ6zjUQDVepbRpL9RALeexSu4o1EBX9RMRoibUQCP3NZn5GtRAf9j2g0cF1EBDkKLfpfDTQBWqD4Km59NAUBPw3DDn00AoRaiZ2uDTQAZITjsE3NNA5MV6Dhu900D7FHEozonTQOE2DqPibtNABHjnZHQF00A5UPRd3PrSQDV4w8aQ79JAbJzbye\\u002fu0kBANn1yq9TSQEP\\u002fdaR5gNJA9ATF3Oqa0UB2FCtQZf\\u002fQQA==\"},\"yaxis\":\"y\",\"type\":\"scatter\"}],                        {\"template\":{\"data\":{\"histogram2dcontour\":[{\"type\":\"histogram2dcontour\",\"colorbar\":{\"outlinewidth\":0,\"ticks\":\"\"},\"colorscale\":[[0.0,\"#0d0887\"],[0.1111111111111111,\"#46039f\"],[0.2222222222222222,\"#7201a8\"],[0.3333333333333333,\"#9c179e\"],[0.4444444444444444,\"#bd3786\"],[0.5555555555555556,\"#d8576b\"],[0.6666666666666666,\"#ed7953\"],[0.7777777777777778,\"#fb9f3a\"],[0.8888888888888888,\"#fdca26\"],[1.0,\"#f0f921\"]]}],\"choropleth\":[{\"type\":\"choropleth\",\"colorbar\":{\"outlinewidth\":0,\"ticks\":\"\"}}],\"histogram2d\":[{\"type\":\"histogram2d\",\"colorbar\":{\"outlinewidth\":0,\"ticks\":\"\"},\"colorscale\":[[0.0,\"#0d0887\"],[0.1111111111111111,\"#46039f\"],[0.2222222222222222,\"#7201a8\"],[0.3333333333333333,\"#9c179e\"],[0.4444444444444444,\"#bd3786\"],[0.5555555555555556,\"#d8576b\"],[0.6666666666666666,\"#ed7953\"],[0.7777777777777778,\"#fb9f3a\"],[0.8888888888888888,\"#fdca26\"],[1.0,\"#f0f921\"]]}],\"heatmap\":[{\"type\":\"heatmap\",\"colorbar\":{\"outlinewidth\":0,\"ticks\":\"\"},\"colorscale\":[[0.0,\"#0d0887\"],[0.1111111111111111,\"#46039f\"],[0.2222222222222222,\"#7201a8\"],[0.3333333333333333,\"#9c179e\"],[0.4444444444444444,\"#bd3786\"],[0.5555555555555556,\"#d8576b\"],[0.6666666666666666,\"#ed7953\"],[0.7777777777777778,\"#fb9f3a\"],[0.8888888888888888,\"#fdca26\"],[1.0,\"#f0f921\"]]}],\"contourcarpet\":[{\"type\":\"contourcarpet\",\"colorbar\":{\"outlinewidth\":0,\"ticks\":\"\"}}],\"contour\":[{\"type\":\"contour\",\"colorbar\":{\"outlinewidth\":0,\"ticks\":\"\"},\"colorscale\":[[0.0,\"#0d0887\"],[0.1111111111111111,\"#46039f\"],[0.2222222222222222,\"#7201a8\"],[0.3333333333333333,\"#9c179e\"],[0.4444444444444444,\"#bd3786\"],[0.5555555555555556,\"#d8576b\"],[0.6666666666666666,\"#ed7953\"],[0.7777777777777778,\"#fb9f3a\"],[0.8888888888888888,\"#fdca26\"],[1.0,\"#f0f921\"]]}],\"surface\":[{\"type\":\"surface\",\"colorbar\":{\"outlinewidth\":0,\"ticks\":\"\"},\"colorscale\":[[0.0,\"#0d0887\"],[0.1111111111111111,\"#46039f\"],[0.2222222222222222,\"#7201a8\"],[0.3333333333333333,\"#9c179e\"],[0.4444444444444444,\"#bd3786\"],[0.5555555555555556,\"#d8576b\"],[0.6666666666666666,\"#ed7953\"],[0.7777777777777778,\"#fb9f3a\"],[0.8888888888888888,\"#fdca26\"],[1.0,\"#f0f921\"]]}],\"mesh3d\":[{\"type\":\"mesh3d\",\"colorbar\":{\"outlinewidth\":0,\"ticks\":\"\"}}],\"scatter\":[{\"fillpattern\":{\"fillmode\":\"overlay\",\"size\":10,\"solidity\":0.2},\"type\":\"scatter\"}],\"parcoords\":[{\"type\":\"parcoords\",\"line\":{\"colorbar\":{\"outlinewidth\":0,\"ticks\":\"\"}}}],\"scatterpolargl\":[{\"type\":\"scatterpolargl\",\"marker\":{\"colorbar\":{\"outlinewidth\":0,\"ticks\":\"\"}}}],\"bar\":[{\"error_x\":{\"color\":\"#2a3f5f\"},\"error_y\":{\"color\":\"#2a3f5f\"},\"marker\":{\"line\":{\"color\":\"#E5ECF6\",\"width\":0.5},\"pattern\":{\"fillmode\":\"overlay\",\"size\":10,\"solidity\":0.2}},\"type\":\"bar\"}],\"scattergeo\":[{\"type\":\"scattergeo\",\"marker\":{\"colorbar\":{\"outlinewidth\":0,\"ticks\":\"\"}}}],\"scatterpolar\":[{\"type\":\"scatterpolar\",\"marker\":{\"colorbar\":{\"outlinewidth\":0,\"ticks\":\"\"}}}],\"histogram\":[{\"marker\":{\"pattern\":{\"fillmode\":\"overlay\",\"size\":10,\"solidity\":0.2}},\"type\":\"histogram\"}],\"scattergl\":[{\"type\":\"scattergl\",\"marker\":{\"colorbar\":{\"outlinewidth\":0,\"ticks\":\"\"}}}],\"scatter3d\":[{\"type\":\"scatter3d\",\"line\":{\"colorbar\":{\"outlinewidth\":0,\"ticks\":\"\"}},\"marker\":{\"colorbar\":{\"outlinewidth\":0,\"ticks\":\"\"}}}],\"scattermap\":[{\"type\":\"scattermap\",\"marker\":{\"colorbar\":{\"outlinewidth\":0,\"ticks\":\"\"}}}],\"scattermapbox\":[{\"type\":\"scattermapbox\",\"marker\":{\"colorbar\":{\"outlinewidth\":0,\"ticks\":\"\"}}}],\"scatterternary\":[{\"type\":\"scatterternary\",\"marker\":{\"colorbar\":{\"outlinewidth\":0,\"ticks\":\"\"}}}],\"scattercarpet\":[{\"type\":\"scattercarpet\",\"marker\":{\"colorbar\":{\"outlinewidth\":0,\"ticks\":\"\"}}}],\"carpet\":[{\"aaxis\":{\"endlinecolor\":\"#2a3f5f\",\"gridcolor\":\"white\",\"linecolor\":\"white\",\"minorgridcolor\":\"white\",\"startlinecolor\":\"#2a3f5f\"},\"baxis\":{\"endlinecolor\":\"#2a3f5f\",\"gridcolor\":\"white\",\"linecolor\":\"white\",\"minorgridcolor\":\"white\",\"startlinecolor\":\"#2a3f5f\"},\"type\":\"carpet\"}],\"table\":[{\"cells\":{\"fill\":{\"color\":\"#EBF0F8\"},\"line\":{\"color\":\"white\"}},\"header\":{\"fill\":{\"color\":\"#C8D4E3\"},\"line\":{\"color\":\"white\"}},\"type\":\"table\"}],\"barpolar\":[{\"marker\":{\"line\":{\"color\":\"#E5ECF6\",\"width\":0.5},\"pattern\":{\"fillmode\":\"overlay\",\"size\":10,\"solidity\":0.2}},\"type\":\"barpolar\"}],\"pie\":[{\"automargin\":true,\"type\":\"pie\"}]},\"layout\":{\"autotypenumbers\":\"strict\",\"colorway\":[\"#636efa\",\"#EF553B\",\"#00cc96\",\"#ab63fa\",\"#FFA15A\",\"#19d3f3\",\"#FF6692\",\"#B6E880\",\"#FF97FF\",\"#FECB52\"],\"font\":{\"color\":\"#2a3f5f\"},\"hovermode\":\"closest\",\"hoverlabel\":{\"align\":\"left\"},\"paper_bgcolor\":\"white\",\"plot_bgcolor\":\"#E5ECF6\",\"polar\":{\"bgcolor\":\"#E5ECF6\",\"angularaxis\":{\"gridcolor\":\"white\",\"linecolor\":\"white\",\"ticks\":\"\"},\"radialaxis\":{\"gridcolor\":\"white\",\"linecolor\":\"white\",\"ticks\":\"\"}},\"ternary\":{\"bgcolor\":\"#E5ECF6\",\"aaxis\":{\"gridcolor\":\"white\",\"linecolor\":\"white\",\"ticks\":\"\"},\"baxis\":{\"gridcolor\":\"white\",\"linecolor\":\"white\",\"ticks\":\"\"},\"caxis\":{\"gridcolor\":\"white\",\"linecolor\":\"white\",\"ticks\":\"\"}},\"coloraxis\":{\"colorbar\":{\"outlinewidth\":0,\"ticks\":\"\"}},\"colorscale\":{\"sequential\":[[0.0,\"#0d0887\"],[0.1111111111111111,\"#46039f\"],[0.2222222222222222,\"#7201a8\"],[0.3333333333333333,\"#9c179e\"],[0.4444444444444444,\"#bd3786\"],[0.5555555555555556,\"#d8576b\"],[0.6666666666666666,\"#ed7953\"],[0.7777777777777778,\"#fb9f3a\"],[0.8888888888888888,\"#fdca26\"],[1.0,\"#f0f921\"]],\"sequentialminus\":[[0.0,\"#0d0887\"],[0.1111111111111111,\"#46039f\"],[0.2222222222222222,\"#7201a8\"],[0.3333333333333333,\"#9c179e\"],[0.4444444444444444,\"#bd3786\"],[0.5555555555555556,\"#d8576b\"],[0.6666666666666666,\"#ed7953\"],[0.7777777777777778,\"#fb9f3a\"],[0.8888888888888888,\"#fdca26\"],[1.0,\"#f0f921\"]],\"diverging\":[[0,\"#8e0152\"],[0.1,\"#c51b7d\"],[0.2,\"#de77ae\"],[0.3,\"#f1b6da\"],[0.4,\"#fde0ef\"],[0.5,\"#f7f7f7\"],[0.6,\"#e6f5d0\"],[0.7,\"#b8e186\"],[0.8,\"#7fbc41\"],[0.9,\"#4d9221\"],[1,\"#276419\"]]},\"xaxis\":{\"gridcolor\":\"white\",\"linecolor\":\"white\",\"ticks\":\"\",\"title\":{\"standoff\":15},\"zerolinecolor\":\"white\",\"automargin\":true,\"zerolinewidth\":2},\"yaxis\":{\"gridcolor\":\"white\",\"linecolor\":\"white\",\"ticks\":\"\",\"title\":{\"standoff\":15},\"zerolinecolor\":\"white\",\"automargin\":true,\"zerolinewidth\":2},\"scene\":{\"xaxis\":{\"backgroundcolor\":\"#E5ECF6\",\"gridcolor\":\"white\",\"linecolor\":\"white\",\"showbackground\":true,\"ticks\":\"\",\"zerolinecolor\":\"white\",\"gridwidth\":2},\"yaxis\":{\"backgroundcolor\":\"#E5ECF6\",\"gridcolor\":\"white\",\"linecolor\":\"white\",\"showbackground\":true,\"ticks\":\"\",\"zerolinecolor\":\"white\",\"gridwidth\":2},\"zaxis\":{\"backgroundcolor\":\"#E5ECF6\",\"gridcolor\":\"white\",\"linecolor\":\"white\",\"showbackground\":true,\"ticks\":\"\",\"zerolinecolor\":\"white\",\"gridwidth\":2}},\"shapedefaults\":{\"line\":{\"color\":\"#2a3f5f\"}},\"annotationdefaults\":{\"arrowcolor\":\"#2a3f5f\",\"arrowhead\":0,\"arrowwidth\":1},\"geo\":{\"bgcolor\":\"white\",\"landcolor\":\"#E5ECF6\",\"subunitcolor\":\"white\",\"showland\":true,\"showlakes\":true,\"lakecolor\":\"white\"},\"title\":{\"x\":0.05},\"mapbox\":{\"style\":\"light\"}}},\"xaxis\":{\"anchor\":\"y\",\"domain\":[0.0,1.0],\"title\":{\"text\":\"Enroll Total\"}},\"yaxis\":{\"anchor\":\"x\",\"domain\":[0.0,1.0],\"title\":{\"text\":\"Expense per ADA\"}},\"legend\":{\"title\":{\"text\":\"District Type\"},\"tracegroupgap\":0},\"title\":{\"subtitle\":{\"text\":\"Without LA Unified\"},\"text\":\"Expense per ADA vs. Total Enrollment\"}},                        {\"responsive\": true}                    ).then(function(){\n                            \nvar gd = document.getElementById('68189c7c-10f4-4997-8f30-7c61562f4b68');\nvar x = new MutationObserver(function (mutations, observer) {{\n        var display = window.getComputedStyle(gd).display;\n        if (!display || display === 'none') {{\n            console.log([gd, 'removed!']);\n            Plotly.purge(gd);\n            observer.disconnect();\n        }}\n}});\n\n// Listen for the removal of the full notebook cells\nvar notebookContainer = gd.closest('#notebook-container');\nif (notebookContainer) {{\n    x.observe(notebookContainer, {childList: true});\n}}\n\n// Listen for the clearing of the current output cell\nvar outputEl = gd.closest('.output');\nif (outputEl) {{\n    x.observe(outputEl, {childList: true});\n}}\n\n                        })                };            </script>        </div>\n</body>\n</html>"
          },
          "metadata": {},
          "output_type": "display_data"
        }
      ],
      "outputs_reference": null,
      "content_dependencies": null
    },
    {
      "cell_type": "markdown",
      "metadata": {
        "cell_id": "b11d5a17d3b341179b68aaa15577d700",
        "deepnote_cell_type": "markdown"
      },
      "source": "The relationship between size and spending appears weak to moderately negative or flat, suggesting that larger districts may spend less per student than smaller districts do.",
      "block_group": "5a3ce7653c1a410f9a6350b7d152c35e"
    },
    {
      "cell_type": "markdown",
      "metadata": {
        "formattedRanges": [
          {
            "type": "marks",
            "marks": {
              "code": true
            },
            "toCodePoint": 37,
            "fromCodePoint": 20
          }
        ],
        "cell_id": "8f6c38de2bcd4654b3d29a0216e744b5",
        "deepnote_cell_type": "text-cell-h3"
      },
      "source": "### 4.4. Scatter Plot - 'Expense per ADA' vs. Percentage of Socioeconomically Disadvantaged Pupils",
      "block_group": "bd825e1c55b4419db2329689706320de"
    },
    {
      "cell_type": "markdown",
      "metadata": {
        "cell_id": "598d6c7d5dd04bebad9a3531acd06a32",
        "deepnote_cell_type": "markdown"
      },
      "source": "We wanted to know whether school districts with more socioeconomically disadvantaged students spend more per ADA.",
      "block_group": "082a3b092a634b088a3afbb89a9f6b75"
    },
    {
      "cell_type": "code",
      "metadata": {
        "source_hash": "e9e47094",
        "execution_start": 1760127668376,
        "execution_millis": 11,
        "execution_context_id": "79fa4d62-8961-4dfa-a5c8-892d38695664",
        "cell_id": "39dff0c6a7164b38a50410761126dfde",
        "deepnote_cell_type": "code"
      },
      "source": "fig_econ_dis = px.scatter(\n    district_and_expenses,\n    x='Socioeconomically Disadvantaged (%)',\n    y='Expense per ADA',\n    hover_data=['District Name', 'County Name'],\n    title='Expense per ADA vs. Socioeconomically Disadvantaged (%)',\n    subtitle='Weak Positive Correlation',\n    labels={'Socioeconomically Disadvantaged (%)': 'Socioeconomically Disadvantaged (%)', 'Expense per ADA': 'Expense per ADA ($)'},\n    trendline='ols',\n    trendline_color_override='red'\n)\nfig_econ_dis.show()",
      "block_group": "8d57bcce4e284ec58f12ae541c27fa32",
      "execution_count": 11,
      "outputs": [
        {
          "data": {
            "text/html": "<html>\n<head><meta charset=\"utf-8\" /></head>\n<body>\n    <div>            <script src=\"https://cdnjs.cloudflare.com/ajax/libs/mathjax/2.7.5/MathJax.js?config=TeX-AMS-MML_SVG\"></script><script type=\"text/javascript\">if (window.MathJax && window.MathJax.Hub && window.MathJax.Hub.Config) {window.MathJax.Hub.Config({SVG: {font: \"STIX-Web\"}});}</script>                <script type=\"text/javascript\">window.PlotlyConfig = {MathJaxConfig: 'local'};</script>\n        <script charset=\"utf-8\" src=\"https://cdn.plot.ly/plotly-3.1.0.min.js\" integrity=\"sha256-Ei4740bWZhaUTQuD6q9yQlgVCMPBz6CZWhevDYPv93A=\" crossorigin=\"anonymous\"></script>                <div id=\"17294d12-66cc-48de-801a-ae404a30a283\" class=\"plotly-graph-div\" style=\"height:525px; width:100%;\"></div>            <script type=\"text/javascript\">                window.PLOTLYENV=window.PLOTLYENV || {};                                if (document.getElementById(\"17294d12-66cc-48de-801a-ae404a30a283\")) {                    Plotly.newPlot(                        \"17294d12-66cc-48de-801a-ae404a30a283\",                        [{\"customdata\":[[\"Alameda Unified\",\"Alameda\"],[\"Albany City Unified\",\"Alameda\"],[\"Berkeley Unified\",\"Alameda\"],[\"Castro Valley Unified\",\"Alameda\"],[\"Emery Unified\",\"Alameda\"],[\"Fremont Unified\",\"Alameda\"],[\"Hayward Unified\",\"Alameda\"],[\"Livermore Valley Joint Unified\",\"Alameda\"],[\"Mountain House Elementary\",\"Alameda\"],[\"Newark Unified\",\"Alameda\"],[\"New Haven Unified\",\"Alameda\"],[\"Oakland Unified\",\"Alameda\"],[\"Piedmont City Unified\",\"Alameda\"],[\"San Leandro Unified\",\"Alameda\"],[\"San Lorenzo Unified\",\"Alameda\"],[\"Dublin Unified\",\"Alameda\"],[\"Pleasanton Unified\",\"Alameda\"],[\"Sunol Glen Unified\",\"Alameda\"],[\"Alpine County Unified\",\"Alpine\"],[\"Amador County Unified\",\"Amador\"],[\"Bangor Union Elementary\",\"Butte\"],[\"Biggs Unified\",\"Butte\"],[\"Chico Unified\",\"Butte\"],[\"Durham Unified\",\"Butte\"],[\"Golden Feather Union Elementary\",\"Butte\"],[\"Manzanita Elementary\",\"Butte\"],[\"Oroville City Elementary\",\"Butte\"],[\"Oroville Union High\",\"Butte\"],[\"Palermo Union Elementary\",\"Butte\"],[\"Paradise Unified\",\"Butte\"],[\"Thermalito Union Elementary\",\"Butte\"],[\"Pioneer Union Elementary\",\"Butte\"],[\"Gridley Unified\",\"Butte\"],[\"Bret Harte Union High\",\"Calaveras\"],[\"Calaveras Unified\",\"Calaveras\"],[\"Mark Twain Union Elementary\",\"Calaveras\"],[\"Vallecito Union Elementary\",\"Calaveras\"],[\"Colusa Unified\",\"Colusa\"],[\"Maxwell Unified\",\"Colusa\"],[\"Pierce Joint Unified\",\"Colusa\"],[\"Williams Unified\",\"Colusa\"],[\"Acalanes Union High\",\"Contra Costa\"],[\"Antioch Unified\",\"Contra Costa\"],[\"Brentwood Union Elementary\",\"Contra Costa\"],[\"Byron Union Elementary\",\"Contra Costa\"],[\"Canyon Elementary\",\"Contra Costa\"],[\"John Swett Unified\",\"Contra Costa\"],[\"Knightsen Elementary\",\"Contra Costa\"],[\"Lafayette Elementary\",\"Contra Costa\"],[\"Liberty Union High\",\"Contra Costa\"],[\"Martinez Unified\",\"Contra Costa\"],[\"Moraga Elementary\",\"Contra Costa\"],[\"Mt. Diablo Unified\",\"Contra Costa\"],[\"Oakley Union Elementary\",\"Contra Costa\"],[\"Orinda Union Elementary\",\"Contra Costa\"],[\"Pittsburg Unified\",\"Contra Costa\"],[\"West Contra Costa Unified\",\"Contra Costa\"],[\"San Ramon Valley Unified\",\"Contra Costa\"],[\"Walnut Creek Elementary\",\"Contra Costa\"],[\"Del Norte County Unified\",\"Del Norte\"],[\"Buckeye Union Elementary\",\"El Dorado\"],[\"Camino Union Elementary\",\"El Dorado\"],[\"El Dorado Union High\",\"El Dorado\"],[\"Gold Oak Union Elementary\",\"El Dorado\"],[\"Gold Trail Union Elementary\",\"El Dorado\"],[\"Indian Diggings Elementary\",\"El Dorado\"],[\"Lake Tahoe Unified\",\"El Dorado\"],[\"Latrobe Elementary\",\"El Dorado\"],[\"Mother Lode Union Elementary\",\"El Dorado\"],[\"Pioneer Union Elementary\",\"El Dorado\"],[\"Placerville Union Elementary\",\"El Dorado\"],[\"Pollock Pines Elementary\",\"El Dorado\"],[\"Rescue Union Elementary\",\"El Dorado\"],[\"Silver Fork Elementary\",\"El Dorado\"],[\"Black Oak Mine Unified\",\"El Dorado\"],[\"Alvina Elementary\",\"Fresno\"],[\"Big Creek Elementary\",\"Fresno\"],[\"Burrel Union Elementary\",\"Fresno\"],[\"Clay Joint Elementary\",\"Fresno\"],[\"Clovis Unified\",\"Fresno\"],[\"Coalinga-Huron Unified\",\"Fresno\"],[\"Fowler Unified\",\"Fresno\"],[\"Fresno Unified\",\"Fresno\"],[\"Kingsburg Elementary Charter\",\"Fresno\"],[\"Kingsburg Joint Union High\",\"Fresno\"],[\"Kings Canyon Joint Unified\",\"Fresno\"],[\"Laton Joint Unified\",\"Fresno\"],[\"Monroe Elementary\",\"Fresno\"],[\"Orange Center Elementary\",\"Fresno\"],[\"Pacific Union Elementary\",\"Fresno\"],[\"Parlier Unified\",\"Fresno\"],[\"Pine Ridge Elementary\",\"Fresno\"],[\"Raisin City Elementary\",\"Fresno\"],[\"Sanger Unified\",\"Fresno\"],[\"Selma Unified\",\"Fresno\"],[\"Washington Colony Elementary\",\"Fresno\"],[\"West Park Elementary\",\"Fresno\"],[\"Westside Elementary\",\"Fresno\"],[\"Firebaugh-Las Deltas Unified\",\"Fresno\"],[\"Central Unified\",\"Fresno\"],[\"Kerman Unified\",\"Fresno\"],[\"Mendota Unified\",\"Fresno\"],[\"Golden Plains Unified\",\"Fresno\"],[\"Sierra Unified\",\"Fresno\"],[\"Riverdale Joint Unified\",\"Fresno\"],[\"Caruthers Unified\",\"Fresno\"],[\"Washington Unified\",\"Fresno\"],[\"Capay Joint Union Elementary\",\"Glenn\"],[\"Lake Elementary\",\"Glenn\"],[\"Plaza Elementary\",\"Glenn\"],[\"Princeton Joint Unified\",\"Glenn\"],[\"Stony Creek Joint Unified\",\"Glenn\"],[\"Willows Unified\",\"Glenn\"],[\"Orland Joint Unified\",\"Glenn\"],[\"Hamilton Unified\",\"Glenn\"],[\"Arcata Elementary\",\"Humboldt\"],[\"Northern Humboldt Union High\",\"Humboldt\"],[\"Big Lagoon Union Elementary\",\"Humboldt\"],[\"Blue Lake Union Elementary\",\"Humboldt\"],[\"Bridgeville Elementary\",\"Humboldt\"],[\"Cuddeback Union Elementary\",\"Humboldt\"],[\"Cutten Elementary\",\"Humboldt\"],[\"Fieldbrook Elementary\",\"Humboldt\"],[\"Fortuna Union High\",\"Humboldt\"],[\"Freshwater Elementary\",\"Humboldt\"],[\"Garfield Elementary\",\"Humboldt\"],[\"Green Point Elementary\",\"Humboldt\"],[\"Hydesville Elementary\",\"Humboldt\"],[\"Jacoby Creek Elementary\",\"Humboldt\"],[\"Klamath-Trinity Joint Unified\",\"Humboldt\"],[\"Kneeland Elementary\",\"Humboldt\"],[\"Loleta Union Elementary\",\"Humboldt\"],[\"Maple Creek Elementary\",\"Humboldt\"],[\"Mckinleyville Union Elementary\",\"Humboldt\"],[\"Orick Elementary\",\"Humboldt\"],[\"Pacific Union Elementary\",\"Humboldt\"],[\"Peninsula Union Elementary\",\"Humboldt\"],[\"Rio Dell Elementary\",\"Humboldt\"],[\"Scotia Union Elementary\",\"Humboldt\"],[\"South Bay Union Elementary\",\"Humboldt\"],[\"Southern Humboldt Joint Unified\",\"Humboldt\"],[\"Trinidad Union Elementary\",\"Humboldt\"],[\"Ferndale Unified\",\"Humboldt\"],[\"Mattole Unified\",\"Humboldt\"],[\"Eureka City Unified\",\"Humboldt\"],[\"Fortuna Elementary\",\"Humboldt\"],[\"Brawley Elementary\",\"Imperial\"],[\"Brawley Union High\",\"Imperial\"],[\"Calexico Unified\",\"Imperial\"],[\"Calipatria Unified\",\"Imperial\"],[\"Central Union High\",\"Imperial\"],[\"El Centro Elementary\",\"Imperial\"],[\"Heber Elementary\",\"Imperial\"],[\"Holtville Unified\",\"Imperial\"],[\"Imperial Unified\",\"Imperial\"],[\"Magnolia Union Elementary\",\"Imperial\"],[\"Mccabe Union Elementary\",\"Imperial\"],[\"Meadows Union Elementary\",\"Imperial\"],[\"Mulberry Elementary\",\"Imperial\"],[\"San Pasqual Valley Unified\",\"Imperial\"],[\"Seeley Union Elementary\",\"Imperial\"],[\"Westmorland Union Elementary\",\"Imperial\"],[\"Big Pine Unified\",\"Inyo\"],[\"Death Valley Unified\",\"Inyo\"],[\"Lone Pine Unified\",\"Inyo\"],[\"Owens Valley Unified\",\"Inyo\"],[\"Round Valley Joint Elementary\",\"Inyo\"],[\"Bishop Unified\",\"Inyo\"],[\"Arvin Union Elementary\",\"Kern\"],[\"Bakersfield City Elementary\",\"Kern\"],[\"Beardsley Elementary\",\"Kern\"],[\"Blake Elementary\",\"Kern\"],[\"Panama-Buena Vista Union Elementary\",\"Kern\"],[\"Buttonwillow Union Elementary\",\"Kern\"],[\"Caliente Union Elementary\",\"Kern\"],[\"Delano Union Elementary\",\"Kern\"],[\"Delano Joint Union High\",\"Kern\"],[\"Di Giorgio Elementary\",\"Kern\"],[\"Edison Elementary\",\"Kern\"],[\"Elk Hills Elementary\",\"Kern\"],[\"Fairfax Elementary\",\"Kern\"],[\"Fruitvale Elementary\",\"Kern\"],[\"General Shafter Elementary\",\"Kern\"],[\"Greenfield Union\",\"Kern\"],[\"Kern High\",\"Kern\"],[\"Kernville Union Elementary\",\"Kern\"],[\"Lakeside Union Elementary\",\"Kern\"],[\"Lamont Elementary\",\"Kern\"],[\"Richland Union Elementary\",\"Kern\"],[\"Linns Valley-Poso Flat Union\",\"Kern\"],[\"Lost Hills Union Elementary\",\"Kern\"],[\"Maple Elementary\",\"Kern\"],[\"Maricopa Unified\",\"Kern\"],[\"Mckittrick Elementary\",\"Kern\"],[\"Midway Elementary\",\"Kern\"],[\"Mojave Unified\",\"Kern\"],[\"Muroc Joint Unified\",\"Kern\"],[\"Norris Elementary\",\"Kern\"],[\"Pond Union Elementary\",\"Kern\"],[\"Rosedale Union Elementary\",\"Kern\"],[\"Semitropic Elementary\",\"Kern\"],[\"Southern Kern Unified\",\"Kern\"],[\"South Fork Union Elementary\",\"Kern\"],[\"Standard Elementary\",\"Kern\"],[\"Taft City Elementary\",\"Kern\"],[\"Taft Union High\",\"Kern\"],[\"Tehachapi Unified\",\"Kern\"],[\"Vineland Elementary\",\"Kern\"],[\"Wasco Union Elementary\",\"Kern\"],[\"Wasco Union High\",\"Kern\"],[\"Rio Bravo-Greeley Union Elementary\",\"Kern\"],[\"Sierra Sands Unified\",\"Kern\"],[\"Mcfarland Unified\",\"Kern\"],[\"El Tejon Unified\",\"Kern\"],[\"Armona Union Elementary\",\"Kings\"],[\"Central Union Elementary\",\"Kings\"],[\"Corcoran Joint Unified\",\"Kings\"],[\"Hanford Elementary\",\"Kings\"],[\"Hanford Joint Union High\",\"Kings\"],[\"Island Union Elementary\",\"Kings\"],[\"Kings River-Hardwick Union Elementary\",\"Kings\"],[\"Kit Carson Union Elementary\",\"Kings\"],[\"Lakeside Union Elementary\",\"Kings\"],[\"Lemoore Union Elementary\",\"Kings\"],[\"Lemoore Union High\",\"Kings\"],[\"Pioneer Union Elementary\",\"Kings\"],[\"Reef-Sunset Unified\",\"Kings\"],[\"Kelseyville Unified\",\"Lake\"],[\"Konocti Unified\",\"Lake\"],[\"Lakeport Unified\",\"Lake\"],[\"Lucerne Elementary\",\"Lake\"],[\"Middletown Unified\",\"Lake\"],[\"Upper Lake Unified\",\"Lake\"],[\"Big Valley Joint Unified\",\"Lassen\"],[\"Janesville Union Elementary\",\"Lassen\"],[\"Johnstonville Elementary\",\"Lassen\"],[\"Lassen Union High\",\"Lassen\"],[\"Ravendale-Termo Elementary\",\"Lassen\"],[\"Richmond Elementary\",\"Lassen\"],[\"Shaffer Union Elementary\",\"Lassen\"],[\"Susanville Elementary\",\"Lassen\"],[\"Westwood Unified\",\"Lassen\"],[\"Fort Sage Unified\",\"Lassen\"],[\"ABC Unified\",\"Los Angeles\"],[\"Antelope Valley Union High\",\"Los Angeles\"],[\"Arcadia Unified\",\"Los Angeles\"],[\"Azusa Unified\",\"Los Angeles\"],[\"Baldwin Park Unified\",\"Los Angeles\"],[\"Bassett Unified\",\"Los Angeles\"],[\"Bellflower Unified\",\"Los Angeles\"],[\"Beverly Hills Unified\",\"Los Angeles\"],[\"Bonita Unified\",\"Los Angeles\"],[\"Burbank Unified\",\"Los Angeles\"],[\"Castaic Union Elementary\",\"Los Angeles\"],[\"Centinela Valley Union High\",\"Los Angeles\"],[\"Charter Oak Unified\",\"Los Angeles\"],[\"Claremont Unified\",\"Los Angeles\"],[\"Covina-Valley Unified\",\"Los Angeles\"],[\"Culver City Unified\",\"Los Angeles\"],[\"Downey Unified\",\"Los Angeles\"],[\"Duarte Unified\",\"Los Angeles\"],[\"Eastside Union Elementary\",\"Los Angeles\"],[\"East Whittier City Elementary\",\"Los Angeles\"],[\"El Monte City Elementary\",\"Los Angeles\"],[\"El Monte Union High\",\"Los Angeles\"],[\"El Rancho Unified\",\"Los Angeles\"],[\"El Segundo Unified\",\"Los Angeles\"],[\"Garvey Elementary\",\"Los Angeles\"],[\"Glendale Unified\",\"Los Angeles\"],[\"Glendora Unified\",\"Los Angeles\"],[\"Gorman Joint\",\"Los Angeles\"],[\"Hawthorne Elementary\",\"Los Angeles\"],[\"Hermosa Beach City Elementary\",\"Los Angeles\"],[\"Hughes-Elizabeth Lakes Union Elementary\",\"Los Angeles\"],[\"Inglewood Unified\",\"Los Angeles\"],[\"Keppel Union Elementary\",\"Los Angeles\"],[\"La Canada Unified\",\"Los Angeles\"],[\"Lancaster Elementary\",\"Los Angeles\"],[\"Lawndale Elementary\",\"Los Angeles\"],[\"Lennox Elementary\",\"Los Angeles\"],[\"Little Lake City Elementary\",\"Los Angeles\"],[\"Long Beach Unified\",\"Los Angeles\"],[\"Los Angeles Unified\",\"Los Angeles\"],[\"Los Nietos Elementary\",\"Los Angeles\"],[\"Lynwood Unified\",\"Los Angeles\"],[\"Monrovia Unified\",\"Los Angeles\"],[\"Montebello Unified\",\"Los Angeles\"],[\"Mountain View Elementary\",\"Los Angeles\"],[\"Newhall Elementary\",\"Los Angeles\"],[\"Norwalk-La Mirada Unified\",\"Los Angeles\"],[\"Palmdale Elementary\",\"Los Angeles\"],[\"Palos Verdes Peninsula Unified\",\"Los Angeles\"],[\"Paramount Unified\",\"Los Angeles\"],[\"Pasadena Unified\",\"Los Angeles\"],[\"Pomona Unified\",\"Los Angeles\"],[\"Rosemead Elementary\",\"Los Angeles\"],[\"San Marino Unified\",\"Los Angeles\"],[\"Santa Monica-Malibu Unified\",\"Los Angeles\"],[\"Saugus Union Elementary\",\"Los Angeles\"],[\"South Pasadena Unified\",\"Los Angeles\"],[\"South Whittier Elementary\",\"Los Angeles\"],[\"Sulphur Springs Union Elementary\",\"Los Angeles\"],[\"Temple City Unified\",\"Los Angeles\"],[\"Torrance Unified\",\"Los Angeles\"],[\"Valle Lindo Elementary\",\"Los Angeles\"],[\"West Covina Unified\",\"Los Angeles\"],[\"Westside Union Elementary\",\"Los Angeles\"],[\"Whittier City Elementary\",\"Los Angeles\"],[\"Whittier Union High\",\"Los Angeles\"],[\"William S. Hart Union High\",\"Los Angeles\"],[\"Wilsona Elementary\",\"Los Angeles\"],[\"Compton Unified\",\"Los Angeles\"],[\"Hacienda La Puente Unified\",\"Los Angeles\"],[\"Rowland Unified\",\"Los Angeles\"],[\"Walnut Valley Unified\",\"Los Angeles\"],[\"San Gabriel Unified\",\"Los Angeles\"],[\"Acton-Agua Dulce Unified\",\"Los Angeles\"],[\"Manhattan Beach Unified\",\"Los Angeles\"],[\"Redondo Beach Unified\",\"Los Angeles\"],[\"Alhambra Unified\",\"Los Angeles\"],[\"Wiseburn Unified\",\"Los Angeles\"],[\"Alview-Dairyland Union Elementary\",\"Madera\"],[\"Bass Lake Joint Union Elementary\",\"Madera\"],[\"Chowchilla Elementary\",\"Madera\"],[\"Chowchilla Union High\",\"Madera\"],[\"Madera Unified\",\"Madera\"],[\"Raymond-Knowles Union Elementary\",\"Madera\"],[\"Golden Valley Unified\",\"Madera\"],[\"Chawanakee Unified\",\"Madera\"],[\"Yosemite Unified\",\"Madera\"],[\"Bolinas-Stinson Union Elementary\",\"Marin\"],[\"Miller Creek Elementary\",\"Marin\"],[\"Kentfield Elementary\",\"Marin\"],[\"Laguna Joint Elementary\",\"Marin\"],[\"Lagunitas Elementary\",\"Marin\"],[\"Larkspur-Corte Madera\",\"Marin\"],[\"Mill Valley Elementary\",\"Marin\"],[\"Nicasio Elementary\",\"Marin\"],[\"Novato Unified\",\"Marin\"],[\"Reed Union Elementary\",\"Marin\"],[\"Ross Elementary\",\"Marin\"],[\"San Rafael City Elementary\",\"Marin\"],[\"San Rafael City High\",\"Marin\"],[\"Sausalito Marin City Elementary\",\"Marin\"],[\"Tamalpais Union High\",\"Marin\"],[\"Shoreline Unified\",\"Marin\"],[\"Ross Valley Elementary\",\"Marin\"],[\"Mariposa County Unified\",\"Mariposa\"],[\"Anderson Valley Unified\",\"Mendocino\"],[\"Fort Bragg Unified\",\"Mendocino\"],[\"Manchester Union Elementary\",\"Mendocino\"],[\"Mendocino Unified\",\"Mendocino\"],[\"Round Valley Unified\",\"Mendocino\"],[\"Ukiah Unified\",\"Mendocino\"],[\"Willits Unified\",\"Mendocino\"],[\"Potter Valley Community Unified\",\"Mendocino\"],[\"Laytonville Unified\",\"Mendocino\"],[\"Leggett Valley Unified\",\"Mendocino\"],[\"Atwater Elementary\",\"Merced\"],[\"Ballico-Cressey Elementary\",\"Merced\"],[\"El Nido Elementary\",\"Merced\"],[\"Hilmar Unified\",\"Merced\"],[\"Le Grand Union Elementary\",\"Merced\"],[\"Le Grand Union High\",\"Merced\"],[\"Livingston Union Elementary\",\"Merced\"],[\"Los Banos Unified\",\"Merced\"],[\"McSwain Union Elementary\",\"Merced\"],[\"Merced City Elementary\",\"Merced\"],[\"Merced Union High\",\"Merced\"],[\"Plainsburg Union Elementary\",\"Merced\"],[\"Planada Elementary\",\"Merced\"],[\"Snelling-Merced Falls Union Elementary\",\"Merced\"],[\"Weaver Union Elementary\",\"Merced\"],[\"Winton Elementary\",\"Merced\"],[\"Gustine Unified\",\"Merced\"],[\"Merced River Union Elementary\",\"Merced\"],[\"Dos Palos Oro Loma Joint Unified\",\"Merced\"],[\"Delhi Unified\",\"Merced\"],[\"Surprise Valley Joint Unified\",\"Modoc\"],[\"Modoc Joint Unified\",\"Modoc\"],[\"Tulelake Basin Joint Unified\",\"Modoc\"],[\"Eastern Sierra Unified\",\"Mono\"],[\"Mammoth Unified\",\"Mono\"],[\"Alisal Union Elementary\",\"Monterey\"],[\"Bradley Union Elementary\",\"Monterey\"],[\"Carmel Unified\",\"Monterey\"],[\"Chualar Union Elementary\",\"Monterey\"],[\"Graves Elementary\",\"Monterey\"],[\"Greenfield Union Elementary\",\"Monterey\"],[\"King City Union Elementary\",\"Monterey\"],[\"South Monterey County Joint Union High\",\"Monterey\"],[\"Lagunita Elementary\",\"Monterey\"],[\"Mission Union Elementary\",\"Monterey\"],[\"Monterey Peninsula Unified\",\"Monterey\"],[\"Pacific Grove Unified\",\"Monterey\"],[\"Salinas City Elementary\",\"Monterey\"],[\"Salinas Union High\",\"Monterey\"],[\"San Antonio Union Elementary\",\"Monterey\"],[\"San Ardo Union Elementary\",\"Monterey\"],[\"San Lucas Union Elementary\",\"Monterey\"],[\"Santa Rita Union Elementary\",\"Monterey\"],[\"Spreckels Union Elementary\",\"Monterey\"],[\"Washington Union Elementary\",\"Monterey\"],[\"North Monterey County Unified\",\"Monterey\"],[\"Big Sur Unified\",\"Monterey\"],[\"Soledad Unified\",\"Monterey\"],[\"Gonzales Unified\",\"Monterey\"],[\"Calistoga Joint Unified\",\"Napa\"],[\"Howell Mountain Elementary\",\"Napa\"],[\"Napa Valley Unified\",\"Napa\"],[\"Pope Valley Union Elementary\",\"Napa\"],[\"Saint Helena Unified\",\"Napa\"],[\"Chicago Park Elementary\",\"Nevada\"],[\"Clear Creek Elementary\",\"Nevada\"],[\"Grass Valley Elementary\",\"Nevada\"],[\"Nevada City Elementary\",\"Nevada\"],[\"Nevada Joint Union High\",\"Nevada\"],[\"Pleasant Ridge Union Elementary\",\"Nevada\"],[\"Union Hill Elementary\",\"Nevada\"],[\"Twin Ridges Elementary\",\"Nevada\"],[\"Penn Valley Union Elementary\",\"Nevada\"],[\"Lowell Joint Elementary\",\"Orange\"],[\"Anaheim Elementary\",\"Orange\"],[\"Anaheim Union High\",\"Orange\"],[\"Brea-Olinda Unified\",\"Orange\"],[\"Buena Park Elementary\",\"Orange\"],[\"Capistrano Unified\",\"Orange\"],[\"Centralia Elementary\",\"Orange\"],[\"Cypress Elementary\",\"Orange\"],[\"Fountain Valley Elementary\",\"Orange\"],[\"Fullerton Elementary\",\"Orange\"],[\"Fullerton Joint Union High\",\"Orange\"],[\"Garden Grove Unified\",\"Orange\"],[\"Huntington Beach City Elementary\",\"Orange\"],[\"Huntington Beach Union High\",\"Orange\"],[\"Laguna Beach Unified\",\"Orange\"],[\"La Habra City Elementary\",\"Orange\"],[\"Magnolia Elementary\",\"Orange\"],[\"Newport-Mesa Unified\",\"Orange\"],[\"Ocean View Elementary\",\"Orange\"],[\"Orange Unified\",\"Orange\"],[\"Placentia-Yorba Linda Unified\",\"Orange\"],[\"Santa Ana Unified\",\"Orange\"],[\"Savanna Elementary\",\"Orange\"],[\"Westminster Elementary\",\"Orange\"],[\"Saddleback Valley Unified\",\"Orange\"],[\"Tustin Unified\",\"Orange\"],[\"Irvine Unified\",\"Orange\"],[\"Los Alamitos Unified\",\"Orange\"],[\"Ackerman Charter\",\"Placer\"],[\"Alta-Dutch Flat Union Elementary\",\"Placer\"],[\"Auburn Union Elementary\",\"Placer\"],[\"Colfax Elementary\",\"Placer\"],[\"Dry Creek Joint Elementary\",\"Placer\"],[\"Eureka Union Elementary\",\"Placer\"],[\"Foresthill Union Elementary\",\"Placer\"],[\"Loomis Union Elementary\",\"Placer\"],[\"Newcastle Elementary\",\"Placer\"],[\"Placer Hills Union Elementary\",\"Placer\"],[\"Placer Union High\",\"Placer\"],[\"Roseville City Elementary\",\"Placer\"],[\"Roseville Joint Union High\",\"Placer\"],[\"Tahoe-Truckee Unified\",\"Placer\"],[\"Western Placer Unified\",\"Placer\"],[\"Rocklin Unified\",\"Placer\"],[\"Plumas Unified\",\"Plumas\"],[\"Alvord Unified\",\"Riverside\"],[\"Banning Unified\",\"Riverside\"],[\"Beaumont Unified\",\"Riverside\"],[\"Corona-Norco Unified\",\"Riverside\"],[\"Desert Center Unified\",\"Riverside\"],[\"Desert Sands Unified\",\"Riverside\"],[\"Hemet Unified\",\"Riverside\"],[\"Jurupa Unified\",\"Riverside\"],[\"Menifee Union Elementary\",\"Riverside\"],[\"Moreno Valley Unified\",\"Riverside\"],[\"Nuview Union Elementary\",\"Riverside\"],[\"Palm Springs Unified\",\"Riverside\"],[\"Palo Verde Unified\",\"Riverside\"],[\"Perris Elementary\",\"Riverside\"],[\"Perris Union High\",\"Riverside\"],[\"Riverside Unified\",\"Riverside\"],[\"Romoland Elementary\",\"Riverside\"],[\"San Jacinto Unified\",\"Riverside\"],[\"Coachella Valley Unified\",\"Riverside\"],[\"Lake Elsinore Unified\",\"Riverside\"],[\"Temecula Valley Unified\",\"Riverside\"],[\"Murrieta Valley Unified\",\"Riverside\"],[\"Val Verde Unified\",\"Riverside\"],[\"Arcohe Union Elementary\",\"Sacramento\"],[\"Elk Grove Unified\",\"Sacramento\"],[\"Elverta Joint Elementary\",\"Sacramento\"],[\"Folsom-Cordova Unified\",\"Sacramento\"],[\"Galt Joint Union Elementary\",\"Sacramento\"],[\"Galt Joint Union High\",\"Sacramento\"],[\"River Delta Joint Unified\",\"Sacramento\"],[\"Robla Elementary\",\"Sacramento\"],[\"Sacramento City Unified\",\"Sacramento\"],[\"San Juan Unified\",\"Sacramento\"],[\"Center Joint Unified\",\"Sacramento\"],[\"Natomas Unified\",\"Sacramento\"],[\"Twin Rivers Unified\",\"Sacramento\"],[\"Bitterwater-Tully Elementary\",\"San Benito\"],[\"Cienega Union Elementary\",\"San Benito\"],[\"Hollister Elementary\",\"San Benito\"],[\"Jefferson Elementary\",\"San Benito\"],[\"North County Joint Union Elementary\",\"San Benito\"],[\"Panoche Elementary\",\"San Benito\"],[\"San Benito High\",\"San Benito\"],[\"Southside Elementary\",\"San Benito\"],[\"Tres Pinos Union Elementary\",\"San Benito\"],[\"Willow Grove Union Elementary\",\"San Benito\"],[\"Aromas - San Juan Unified\",\"San Benito\"],[\"Adelanto Elementary\",\"San Bernardino\"],[\"Alta Loma Elementary\",\"San Bernardino\"],[\"Barstow Unified\",\"San Bernardino\"],[\"Bear Valley Unified\",\"San Bernardino\"],[\"Central Elementary\",\"San Bernardino\"],[\"Chaffey Joint Union High\",\"San Bernardino\"],[\"Chino Valley Unified\",\"San Bernardino\"],[\"Colton Joint Unified\",\"San Bernardino\"],[\"Cucamonga Elementary\",\"San Bernardino\"],[\"Etiwanda Elementary\",\"San Bernardino\"],[\"Fontana Unified\",\"San Bernardino\"],[\"Helendale Elementary\",\"San Bernardino\"],[\"Morongo Unified\",\"San Bernardino\"],[\"Mountain View Elementary\",\"San Bernardino\"],[\"Mt. Baldy Joint Elementary\",\"San Bernardino\"],[\"Needles Unified\",\"San Bernardino\"],[\"Ontario-Montclair Elementary\",\"San Bernardino\"],[\"Oro Grande Elementary\",\"San Bernardino\"],[\"Redlands Unified\",\"San Bernardino\"],[\"Rialto Unified\",\"San Bernardino\"],[\"Rim of The World Unified\",\"San Bernardino\"],[\"San Bernardino City Unified\",\"San Bernardino\"],[\"Trona Joint Unified\",\"San Bernardino\"],[\"Victor Elementary\",\"San Bernardino\"],[\"Victor Valley Union High\",\"San Bernardino\"],[\"Yucaipa-Calimesa Joint Unified\",\"San Bernardino\"],[\"Baker Valley Unified\",\"San Bernardino\"],[\"Silver Valley Unified\",\"San Bernardino\"],[\"Snowline Joint Unified\",\"San Bernardino\"],[\"Hesperia Unified\",\"San Bernardino\"],[\"Lucerne Valley Unified\",\"San Bernardino\"],[\"Upland Unified\",\"San Bernardino\"],[\"Apple Valley Unified\",\"San Bernardino\"],[\"Alpine Union Elementary\",\"San Diego\"],[\"Borrego Springs Unified\",\"San Diego\"],[\"Cajon Valley Union Elementary\",\"San Diego\"],[\"Cardiff Elementary\",\"San Diego\"],[\"Chula Vista Elementary\",\"San Diego\"],[\"Coronado Unified\",\"San Diego\"],[\"Dehesa Elementary\",\"San Diego\"],[\"Del Mar Union Elementary\",\"San Diego\"],[\"Encinitas Union Elementary\",\"San Diego\"],[\"Escondido Union Elementary\",\"San Diego\"],[\"Escondido Union High\",\"San Diego\"],[\"Fallbrook Union Elementary\",\"San Diego\"],[\"Fallbrook Union High\",\"San Diego\"],[\"Grossmont Union High\",\"San Diego\"],[\"Jamul-Dulzura Union Elementary\",\"San Diego\"],[\"Julian Union Elementary\",\"San Diego\"],[\"Julian Union High\",\"San Diego\"],[\"Lakeside Union Elementary\",\"San Diego\"],[\"La Mesa-Spring Valley\",\"San Diego\"],[\"Lemon Grove Elementary\",\"San Diego\"],[\"Mountain Empire Unified\",\"San Diego\"],[\"National Elementary\",\"San Diego\"],[\"Poway Unified\",\"San Diego\"],[\"Ramona City Unified\",\"San Diego\"],[\"Rancho Santa Fe Elementary\",\"San Diego\"],[\"San Diego Unified\",\"San Diego\"],[\"San Dieguito Union High\",\"San Diego\"],[\"San Pasqual Union Elementary\",\"San Diego\"],[\"Santee Elementary\",\"San Diego\"],[\"San Ysidro Elementary\",\"San Diego\"],[\"Solana Beach Elementary\",\"San Diego\"],[\"South Bay Union Elementary\",\"San Diego\"],[\"Spencer Valley Elementary\",\"San Diego\"],[\"Sweetwater Union High\",\"San Diego\"],[\"Vallecitos Elementary\",\"San Diego\"],[\"Vista Unified\",\"San Diego\"],[\"Carlsbad Unified\",\"San Diego\"],[\"Oceanside Unified\",\"San Diego\"],[\"San Marcos Unified\",\"San Diego\"],[\"Warner Unified\",\"San Diego\"],[\"Valley Center-Pauma Unified\",\"San Diego\"],[\"Bonsall Unified\",\"San Diego\"],[\"San Francisco Unified\",\"San Francisco\"],[\"Escalon Unified\",\"San Joaquin\"],[\"Jefferson Elementary\",\"San Joaquin\"],[\"Lincoln Unified\",\"San Joaquin\"],[\"Linden Unified\",\"San Joaquin\"],[\"Lodi Unified\",\"San Joaquin\"],[\"Manteca Unified\",\"San Joaquin\"],[\"New Hope Elementary\",\"San Joaquin\"],[\"Oak View Union Elementary\",\"San Joaquin\"],[\"Ripon Unified\",\"San Joaquin\"],[\"Stockton Unified\",\"San Joaquin\"],[\"Tracy Joint Unified\",\"San Joaquin\"],[\"Lammersville Joint Unified\",\"San Joaquin\"],[\"Banta Unified\",\"San Joaquin\"],[\"Atascadero Unified\",\"San Luis Obispo\"],[\"Cayucos Elementary\",\"San Luis Obispo\"],[\"Lucia Mar Unified\",\"San Luis Obispo\"],[\"Pleasant Valley Joint Union Elementary\",\"San Luis Obispo\"],[\"San Luis Coastal Unified\",\"San Luis Obispo\"],[\"San Miguel Joint Union Elementary\",\"San Luis Obispo\"],[\"Shandon Joint Unified\",\"San Luis Obispo\"],[\"Templeton Unified\",\"San Luis Obispo\"],[\"Paso Robles Joint Unified\",\"San Luis Obispo\"],[\"Coast Unified\",\"San Luis Obispo\"],[\"Bayshore Elementary\",\"San Mateo\"],[\"Belmont-Redwood Shores Elementary\",\"San Mateo\"],[\"Brisbane Elementary\",\"San Mateo\"],[\"Burlingame Elementary\",\"San Mateo\"],[\"Cabrillo Unified\",\"San Mateo\"],[\"Hillsborough City Elementary\",\"San Mateo\"],[\"Jefferson Elementary\",\"San Mateo\"],[\"Jefferson Union High\",\"San Mateo\"],[\"Pacifica Elementary\",\"San Mateo\"],[\"La Honda-Pescadero Unified\",\"San Mateo\"],[\"Las Lomitas Elementary\",\"San Mateo\"],[\"Menlo Park City Elementary\",\"San Mateo\"],[\"Millbrae Elementary\",\"San Mateo\"],[\"Portola Valley Elementary\",\"San Mateo\"],[\"Ravenswood City Elementary\",\"San Mateo\"],[\"Redwood City Elementary\",\"San Mateo\"],[\"San Bruno Park Elementary\",\"San Mateo\"],[\"San Carlos Elementary\",\"San Mateo\"],[\"San Mateo-Foster City Elementary\",\"San Mateo\"],[\"San Mateo Union High\",\"San Mateo\"],[\"Sequoia Union High\",\"San Mateo\"],[\"South San Francisco Unified\",\"San Mateo\"],[\"Woodside Elementary\",\"San Mateo\"],[\"Ballard Elementary\",\"Santa Barbara\"],[\"Blochman Union Elementary\",\"Santa Barbara\"],[\"Santa Maria-Bonita Elementary\",\"Santa Barbara\"],[\"Buellton Union Elementary\",\"Santa Barbara\"],[\"Carpinteria Unified\",\"Santa Barbara\"],[\"Cold Spring Elementary\",\"Santa Barbara\"],[\"College Elementary\",\"Santa Barbara\"],[\"Goleta Union Elementary\",\"Santa Barbara\"],[\"Guadalupe Union Elementary\",\"Santa Barbara\"],[\"Hope Elementary\",\"Santa Barbara\"],[\"Lompoc Unified\",\"Santa Barbara\"],[\"Los Olivos Elementary\",\"Santa Barbara\"],[\"Montecito Union Elementary\",\"Santa Barbara\"],[\"Orcutt Union Elementary\",\"Santa Barbara\"],[\"Santa Maria Joint Union High\",\"Santa Barbara\"],[\"Santa Ynez Valley Union High\",\"Santa Barbara\"],[\"Solvang Elementary\",\"Santa Barbara\"],[\"Vista Del Mar Union Elementary\",\"Santa Barbara\"],[\"Cuyama Joint Unified\",\"Santa Barbara\"],[\"Santa Barbara Unified\",\"Santa Barbara\"],[\"Alum Rock Union Elementary\",\"Santa Clara\"],[\"Berryessa Union Elementary\",\"Santa Clara\"],[\"Cambrian Elementary\",\"Santa Clara\"],[\"Campbell Union Elementary\",\"Santa Clara\"],[\"Campbell Union High\",\"Santa Clara\"],[\"Cupertino Union Elementary\",\"Santa Clara\"],[\"East Side Union High\",\"Santa Clara\"],[\"Evergreen Elementary\",\"Santa Clara\"],[\"Franklin-McKinley Elementary\",\"Santa Clara\"],[\"Fremont Union High\",\"Santa Clara\"],[\"Gilroy Unified\",\"Santa Clara\"],[\"Lakeside Joint Elementary\",\"Santa Clara\"],[\"Loma Prieta Joint Union Elementary\",\"Santa Clara\"],[\"Los Altos Elementary\",\"Santa Clara\"],[\"Los Gatos Union Elementary\",\"Santa Clara\"],[\"Los Gatos-Saratoga Union High\",\"Santa Clara\"],[\"Luther Burbank Elementary\",\"Santa Clara\"],[\"Moreland Elementary\",\"Santa Clara\"],[\"Morgan Hill Unified\",\"Santa Clara\"],[\"Mountain View Whisman Elementary\",\"Santa Clara\"],[\"Mountain View-Los Altos Union High\",\"Santa Clara\"],[\"Mount Pleasant Elementary\",\"Santa Clara\"],[\"Oak Grove Elementary\",\"Santa Clara\"],[\"Orchard Elementary\",\"Santa Clara\"],[\"Palo Alto Unified\",\"Santa Clara\"],[\"San Jose Unified\",\"Santa Clara\"],[\"Santa Clara Unified\",\"Santa Clara\"],[\"Saratoga Union Elementary\",\"Santa Clara\"],[\"Sunnyvale Elementary\",\"Santa Clara\"],[\"Union Elementary\",\"Santa Clara\"],[\"Milpitas Unified\",\"Santa Clara\"],[\"Bonny Doon Union Elementary\",\"Santa Cruz\"],[\"Happy Valley Elementary\",\"Santa Cruz\"],[\"Live Oak Elementary\",\"Santa Cruz\"],[\"Mountain Elementary\",\"Santa Cruz\"],[\"Pacific Elementary\",\"Santa Cruz\"],[\"Pajaro Valley Unified\",\"Santa Cruz\"],[\"San Lorenzo Valley Unified\",\"Santa Cruz\"],[\"Soquel Union Elementary\",\"Santa Cruz\"],[\"Scotts Valley Unified\",\"Santa Cruz\"],[\"Anderson Union High\",\"Shasta\"],[\"Bella Vista Elementary\",\"Shasta\"],[\"Black Butte Union Elementary\",\"Shasta\"],[\"Cascade Union Elementary\",\"Shasta\"],[\"Castle Rock Union Elementary\",\"Shasta\"],[\"Columbia Elementary\",\"Shasta\"],[\"Cottonwood Union Elementary\",\"Shasta\"],[\"Enterprise Elementary\",\"Shasta\"],[\"Fall River Joint Unified\",\"Shasta\"],[\"French Gulch-Whiskeytown Elementary\",\"Shasta\"],[\"Grant Elementary\",\"Shasta\"],[\"Happy Valley Union Elementary\",\"Shasta\"],[\"Igo, Ono, Platina Union Elementary\",\"Shasta\"],[\"Junction Elementary\",\"Shasta\"],[\"Millville Elementary\",\"Shasta\"],[\"North Cow Creek Elementary\",\"Shasta\"],[\"Oak Run Elementary\",\"Shasta\"],[\"Pacheco Union Elementary\",\"Shasta\"],[\"Redding Elementary\",\"Shasta\"],[\"Shasta Union Elementary\",\"Shasta\"],[\"Shasta Union High\",\"Shasta\"],[\"Whitmore Union Elementary\",\"Shasta\"],[\"Mountain Union Elementary\",\"Shasta\"],[\"Gateway Unified\",\"Shasta\"],[\"Sierra-Plumas Joint Unified\",\"Sierra\"],[\"Big Springs Union Elementary\",\"Siskiyou\"],[\"Bogus Elementary\",\"Siskiyou\"],[\"Butteville Union Elementary\",\"Siskiyou\"],[\"Delphic Elementary\",\"Siskiyou\"],[\"Dunsmuir Elementary\",\"Siskiyou\"],[\"Dunsmuir Joint Union High\",\"Siskiyou\"],[\"Gazelle Union Elementary\",\"Siskiyou\"],[\"Grenada Elementary\",\"Siskiyou\"],[\"Happy Camp Union Elementary\",\"Siskiyou\"],[\"Hornbrook Elementary\",\"Siskiyou\"],[\"Klamath River Union Elementary\",\"Siskiyou\"],[\"Little Shasta Elementary\",\"Siskiyou\"],[\"McCloud Union Elementary\",\"Siskiyou\"],[\"Montague Elementary\",\"Siskiyou\"],[\"Mt. Shasta Union Elementary\",\"Siskiyou\"],[\"Seiad Elementary\",\"Siskiyou\"],[\"Siskiyou Union High\",\"Siskiyou\"],[\"Weed Union Elementary\",\"Siskiyou\"],[\"Willow Creek Elementary\",\"Siskiyou\"],[\"Yreka Union Elementary\",\"Siskiyou\"],[\"Yreka Union High\",\"Siskiyou\"],[\"Butte Valley Unified\",\"Siskiyou\"],[\"Scott Valley Unified\",\"Siskiyou\"],[\"Benicia Unified\",\"Solano\"],[\"Dixon Unified\",\"Solano\"],[\"Fairfield-Suisun Unified\",\"Solano\"],[\"Travis Unified\",\"Solano\"],[\"Vacaville Unified\",\"Solano\"],[\"Vallejo City Unified\",\"Solano\"],[\"Alexander Valley Union Elementary\",\"Sonoma\"],[\"West Sonoma County Union High\",\"Sonoma\"],[\"Bellevue Union Elementary\",\"Sonoma\"],[\"Bennett Valley Union Elementary\",\"Sonoma\"],[\"Cinnabar Elementary\",\"Sonoma\"],[\"Cloverdale Unified\",\"Sonoma\"],[\"Dunham Elementary\",\"Sonoma\"],[\"Forestville Union Elementary\",\"Sonoma\"],[\"Fort Ross Elementary\",\"Sonoma\"],[\"Geyserville Unified\",\"Sonoma\"],[\"Gravenstein Union Elementary\",\"Sonoma\"],[\"Guerneville Elementary\",\"Sonoma\"],[\"Harmony Union Elementary\",\"Sonoma\"],[\"Horicon Elementary\",\"Sonoma\"],[\"Kenwood Elementary\",\"Sonoma\"],[\"Liberty Elementary\",\"Sonoma\"],[\"Mark West Union Elementary\",\"Sonoma\"],[\"Monte Rio Union Elementary\",\"Sonoma\"],[\"Montgomery Elementary\",\"Sonoma\"],[\"Oak Grove Union Elementary\",\"Sonoma\"],[\"Old Adobe Union Elementary\",\"Sonoma\"],[\"Piner-Olivet Union Elementary\",\"Sonoma\"],[\"Kashia Elementary\",\"Sonoma\"],[\"Rincon Valley Union Elementary\",\"Sonoma\"],[\"Roseland Elementary\",\"Sonoma\"],[\"Sebastopol Union Elementary\",\"Sonoma\"],[\"Sonoma Valley Unified\",\"Sonoma\"],[\"Twin Hills Union Elementary\",\"Sonoma\"],[\"Two Rock Union Elementary\",\"Sonoma\"],[\"Waugh Elementary\",\"Sonoma\"],[\"West Side Union Elementary\",\"Sonoma\"],[\"Wilmar Union Elementary\",\"Sonoma\"],[\"Wright Elementary\",\"Sonoma\"],[\"Cotati-Rohnert Park Unified\",\"Sonoma\"],[\"Windsor Unified\",\"Sonoma\"],[\"Healdsburg Unified\",\"Sonoma\"],[\"Ceres Unified\",\"Stanislaus\"],[\"Chatom Union Elementary\",\"Stanislaus\"],[\"Denair Unified\",\"Stanislaus\"],[\"Empire Union Elementary\",\"Stanislaus\"],[\"Gratton Elementary\",\"Stanislaus\"],[\"Hart-Ransom Union Elementary\",\"Stanislaus\"],[\"Hickman Community Charter\",\"Stanislaus\"],[\"Keyes Union Elementary\",\"Stanislaus\"],[\"Knights Ferry Elementary\",\"Stanislaus\"],[\"Paradise Elementary\",\"Stanislaus\"],[\"Patterson Joint Unified\",\"Stanislaus\"],[\"Roberts Ferry Union Elementary\",\"Stanislaus\"],[\"Salida Union Elementary\",\"Stanislaus\"],[\"Shiloh Elementary\",\"Stanislaus\"],[\"Stanislaus Union Elementary\",\"Stanislaus\"],[\"Sylvan Union Elementary\",\"Stanislaus\"],[\"Valley Home Joint Elementary\",\"Stanislaus\"],[\"Newman-Crows Landing Unified\",\"Stanislaus\"],[\"Hughson Unified\",\"Stanislaus\"],[\"Riverbank Unified\",\"Stanislaus\"],[\"Oakdale Joint Unified\",\"Stanislaus\"],[\"Waterford Unified\",\"Stanislaus\"],[\"Turlock Unified\",\"Stanislaus\"],[\"Brittan Elementary\",\"Sutter\"],[\"Browns Elementary\",\"Sutter\"],[\"East Nicolaus Joint Union High\",\"Sutter\"],[\"Franklin Elementary\",\"Sutter\"],[\"Live Oak Unified\",\"Sutter\"],[\"Marcum-Illinois Union Elementary\",\"Sutter\"],[\"Meridian Elementary\",\"Sutter\"],[\"Nuestro Elementary\",\"Sutter\"],[\"Pleasant Grove Joint Union Elementary\",\"Sutter\"],[\"Sutter Union High\",\"Sutter\"],[\"Winship-Robbins Elementary\",\"Sutter\"],[\"Yuba City Unified\",\"Sutter\"],[\"Antelope Elementary\",\"Tehama\"],[\"Corning Union Elementary\",\"Tehama\"],[\"Corning Union High\",\"Tehama\"],[\"Evergreen Union Elementary\",\"Tehama\"],[\"Flournoy Union Elementary\",\"Tehama\"],[\"Gerber Union Elementary\",\"Tehama\"],[\"Kirkwood Elementary\",\"Tehama\"],[\"Lassen View Union Elementary\",\"Tehama\"],[\"Los Molinos Unified\",\"Tehama\"],[\"Red Bluff Union Elementary\",\"Tehama\"],[\"Red Bluff Joint Union High\",\"Tehama\"],[\"Reeds Creek Elementary\",\"Tehama\"],[\"Richfield Elementary\",\"Tehama\"],[\"Burnt Ranch Elementary\",\"Trinity\"],[\"Coffee Creek Elementary\",\"Trinity\"],[\"Douglas City Elementary\",\"Trinity\"],[\"Junction City Elementary\",\"Trinity\"],[\"Lewiston Elementary\",\"Trinity\"],[\"Trinity Center Elementary\",\"Trinity\"],[\"Southern Trinity Joint Unified\",\"Trinity\"],[\"Mountain Valley Unified\",\"Trinity\"],[\"Trinity Alps Unified\",\"Trinity\"],[\"Allensworth Elementary\",\"Tulare\"],[\"Alpaugh Unified\",\"Tulare\"],[\"Alta Vista Elementary\",\"Tulare\"],[\"Buena Vista Elementary\",\"Tulare\"],[\"Burton Elementary\",\"Tulare\"],[\"Columbine Elementary\",\"Tulare\"],[\"Cutler-Orosi Joint Unified\",\"Tulare\"],[\"Ducor Union Elementary\",\"Tulare\"],[\"Earlimart Elementary\",\"Tulare\"],[\"Hope Elementary\",\"Tulare\"],[\"Hot Springs Elementary\",\"Tulare\"],[\"Kings River Union Elementary\",\"Tulare\"],[\"Liberty Elementary\",\"Tulare\"],[\"Lindsay Unified\",\"Tulare\"],[\"Monson-Sultana Joint Union Elementary\",\"Tulare\"],[\"Oak Valley Union Elementary\",\"Tulare\"],[\"Outside Creek Elementary\",\"Tulare\"],[\"Palo Verde Union Elementary\",\"Tulare\"],[\"Pixley Union Elementary\",\"Tulare\"],[\"Pleasant View Elementary\",\"Tulare\"],[\"Richgrove Elementary\",\"Tulare\"],[\"Rockford Elementary\",\"Tulare\"],[\"Saucelito Elementary\",\"Tulare\"],[\"Sequoia Union Elementary\",\"Tulare\"],[\"Springville Union Elementary\",\"Tulare\"],[\"Stone Corral Elementary\",\"Tulare\"],[\"Strathmore Union Elementary\",\"Tulare\"],[\"Sundale Union Elementary\",\"Tulare\"],[\"Sunnyside Union Elementary\",\"Tulare\"],[\"Terra Bella Union Elementary\",\"Tulare\"],[\"Three Rivers Union Elementary\",\"Tulare\"],[\"Tipton Elementary\",\"Tulare\"],[\"Traver Joint Elementary\",\"Tulare\"],[\"Tulare City Elementary\",\"Tulare\"],[\"Tulare Joint Union High\",\"Tulare\"],[\"Visalia Unified\",\"Tulare\"],[\"Waukena Joint Union Elementary\",\"Tulare\"],[\"Woodville Union Elementary\",\"Tulare\"],[\"Farmersville Unified\",\"Tulare\"],[\"Porterville Unified\",\"Tulare\"],[\"Dinuba Unified\",\"Tulare\"],[\"Woodlake Unified\",\"Tulare\"],[\"Exeter Unified\",\"Tulare\"],[\"Belleview Elementary\",\"Tuolumne\"],[\"Columbia Union Elementary\",\"Tuolumne\"],[\"Curtis Creek Elementary\",\"Tuolumne\"],[\"Jamestown Elementary\",\"Tuolumne\"],[\"Sonora Elementary\",\"Tuolumne\"],[\"Sonora Union High\",\"Tuolumne\"],[\"Soulsbyville Elementary\",\"Tuolumne\"],[\"Summerville Elementary\",\"Tuolumne\"],[\"Summerville Union High\",\"Tuolumne\"],[\"Twain Harte Elementary\",\"Tuolumne\"],[\"Big Oak Flat-Groveland Unified\",\"Tuolumne\"],[\"Briggs Elementary\",\"Ventura\"],[\"Fillmore Unified\",\"Ventura\"],[\"Hueneme Elementary\",\"Ventura\"],[\"Mesa Union Elementary\",\"Ventura\"],[\"Mupu Elementary\",\"Ventura\"],[\"Ocean View Elementary\",\"Ventura\"],[\"Ojai Unified\",\"Ventura\"],[\"Oxnard Elementary\",\"Ventura\"],[\"Oxnard Union High\",\"Ventura\"],[\"Pleasant Valley\",\"Ventura\"],[\"Rio Elementary\",\"Ventura\"],[\"Santa Clara Elementary\",\"Ventura\"],[\"Simi Valley Unified\",\"Ventura\"],[\"Somis Union Elementary\",\"Ventura\"],[\"Ventura Unified\",\"Ventura\"],[\"Conejo Valley Unified\",\"Ventura\"],[\"Oak Park Unified\",\"Ventura\"],[\"Moorpark Unified\",\"Ventura\"],[\"Santa Paula Unified\",\"Ventura\"],[\"Davis Joint Unified\",\"Yolo\"],[\"Esparto Unified\",\"Yolo\"],[\"Washington Unified\",\"Yolo\"],[\"Winters Joint Unified\",\"Yolo\"],[\"Woodland Joint Unified\",\"Yolo\"],[\"Camptonville Elementary\",\"Yuba\"],[\"Marysville Joint Unified\",\"Yuba\"],[\"Plumas Lake Elementary\",\"Yuba\"],[\"Wheatland Elementary\",\"Yuba\"],[\"Wheatland Union High\",\"Yuba\"],[\"Las Virgenes Unified\",\"Los Angeles\"],[\"Junction Elementary\",\"Siskiyou\"],[\"Arena Union Elementary\\u002fPoint Arena Joint Union High \",\"Mendocino\"],[\"Santa Cruz City Elementary\\u002fHigh\",\"Santa Cruz\"],[\"Petaluma City Elementary\\u002fJoint Union High\",\"Sonoma\"],[\"Santa Rosa City Schools\",\"Sonoma\"],[\"Modesto City Schools\",\"Stanislaus\"]],\"hovertemplate\":\"Socioeconomically Disadvantaged (%)=%{x}\\u003cbr\\u003eExpense per ADA ($)=%{y}\\u003cbr\\u003eDistrict Name=%{customdata[0]}\\u003cbr\\u003eCounty Name=%{customdata[1]}\\u003cextra\\u003e\\u003c\\u002fextra\\u003e\",\"legendgroup\":\"\",\"marker\":{\"color\":\"#636efa\",\"symbol\":\"circle\"},\"mode\":\"markers\",\"name\":\"\",\"orientation\":\"v\",\"showlegend\":false,\"x\":{\"dtype\":\"f8\",\"bdata\":\"mpmZmZkZQ0BmZmZmZmY\\u002fQJqZmZmZmTtAZmZmZmZmQ0AAAAAAAEBLQJqZmZmZGTlAAAAAAACgU0DNzMzMzEw5QM3MzMzMrFBAzczMzMzMR0BmZmZmZmZMQAAAAAAAIFRAAAAAAAAADEDNzMzMzExSQJqZmZmZeVNAMzMzMzMzIUBmZmZmZmYiQM3MzMzMzCRAzczMzMwMT0DNzMzMzExFQJqZmZmZ2UpAAAAAAADAT0DNzMzMzAxKQM3MzMzMjERAzczMzMwsVUAzMzMzMzNEQJqZmZmZOVNAmpmZmZmZVEAzMzMzMxNUQGZmZmZmZk9AMzMzMzNTVUCamZmZmTlYQDMzMzMz81JAzczMzMxMSUCamZmZmVlHQM3MzMzMTE5AmpmZmZkZTEBmZmZmZgZTQJqZmZmZWVBAZmZmZmaGUkAAAAAAAMBXQGZmZmZmZiFAMzMzMzOTUkBmZmZmZmY2QDMzMzMz80BAzczMzMzMMkCamZmZmblTQAAAAAAAAD1AZmZmZmZmEkDNzMzMzEw5QM3MzMzMDEBAzczMzMzMFkAzMzMzM\\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\\u002fQJqZmZmZmUpAZmZmZmbmMkCamZmZmTlUQAAAAAAAIFRAZmZmZmYmSkAzMzMzM\\u002fNMQM3MzMzMjE1AAAAAAAAARkCamZmZmblUQDMzMzMzs1RAzczMzMxsUkDNzMzMzIxGQDMzMzMzc0lAzczMzMzMNEAAAAAAAAAxQJqZmZmZ2UFAMzMzMzOzMkBmZmZmZkZQQGZmZmZm5kZAMzMzMzNzR0BmZmZmZmYuQM3MzMzMzERAMzMzMzMzLUDNzMzMzEwxQJqZmZmZGT5AzczMzMxMOUCamZmZmZlPQM3MzMzMzERAZmZmZmYmQUAAAAAAAABBQDMzMzMzszRAMzMzMzPzTUAAAAAAAIBVQAAAAAAAIFZAAAAAAABATkDNzMzMzMxRQAAAAAAAAFNAmpmZmZkZU0AAAAAAAIBVQJqZmZmZuVNAmpmZmZlZTkAAAAAAAMBVQJqZmZmZ2VVAmpmZmZm5V0DNzMzMzMxSQJqZmZmZeVVAMzMzMzOzUkBmZmZmZmZIQDMzMzMzM1NAAAAAAADAUkBmZmZmZkZXQDMzMzMz01FAAAAAAACAQkBmZmZmZmZKQJqZmZmZ2VVAzczMzMwMQECamZmZmVlKQAAAAAAAYFBAAAAAAABAQkDNzMzMzExPQM3MzMzMTExAZmZmZmaGUUAAAAAAAOBVQAAAAAAAoFFAzczMzMyMS0AAAAAAAABOQM3MzMzMjExAMzMzMzNzVkCamZmZmRk3QDMzMzMzs0dAzczMzMwMTUAAAAAAAABZQJqZmZmZWUdAAAAAAAAASUAzMzMzM\\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\\u002fNFQAAAAAAAgDVAzczMzMwsV0CamZmZmVlJQDMzMzMzk1FAMzMzMzMzS0AzMzMzM7NIQDMzMzMzc0FAZmZmZmamVEAzMzMzM9NTQJqZmZmZGUZAzczMzMysUEAAAAAAAABUQDMzMzMzc0RAAAAAAAAgUEDNzMzMzAxWQJqZmZmZ2VJAZmZmZmYmUUDNzMzMzIxKQM3MzMzMLFFAAAAAAABgVkAAAAAAAABUQJqZmZmZmU9AAAAAAAAAVEAzMzMzMzNOQM3MzMzMTElAMzMzMzMTUECamZmZmVlMQDMzMzMzc1VAAAAAAADATEDNzMzMzAxSQDMzMzMz80tAmpmZmZm5UUBmZmZmZuZIQAAAAAAAgDhAZmZmZmamT0CamZmZmdlNQM3MzMzMDEZAAAAAAADAR0BmZmZmZsZTQJqZmZmZGUBAMzMzMzPzRkCamZmZmdlTQAAAAAAAQEJAmpmZmZmZVUAAAAAAACBQQGZmZmZmZj1AmpmZmZmZQ0DNzMzMzKxQQM3MzMzMzE5AMzMzMzMzPkBmZmZmZoZRQM3MzMzMjENAzczMzMzsUkAAAAAAAAA7QM3MzMzMTEhAmpmZmZkZRUDNzMzMzGxQQDMzMzMzU1NAAAAAAADAQ0CamZmZmVlAQGZmZmZmpk1AAAAAAAAAWUCamZmZmdlEQM3MzMzMrFVAmpmZmZkZSEDNzMzMzMxMQDMzMzMzszxAAAAAAAAAR0BmZmZmZmYtQAAAAAAAQEJAAAAAAAAANkAzMzMzM3NTQAAAAAAAAEdAZmZmZmbmS0CamZmZmZlRQM3MzMzMbFRAzczMzMzMUEAAAAAAAGBRQGZmZmZmplRAzczMzMxMNkAAAAAAAEBJQAAAAAAAwEVAzczMzMxsUUDNzMzMzMw1QDMzMzMzM1BAmpmZmZm5U0AAAAAAAMBIQJqZmZmZeVBAMzMzMzNzT0DNzMzMzKxSQGZmZmZm5k1AmpmZmZmZRkAzMzMzMzNOQAAAAAAAwE1AZmZmZmYGVUDNzMzMzIxFQGZmZmZmZlNAAAAAAACAUEDNzMzMzMxEQDMzMzMzs0NAMzMzMzMzQEAzMzMzM7M\\u002fQM3MzMzMTFNAzczMzMyMQ0AzMzMzM7NRQAAAAAAAAEdAMzMzMzOzREBmZmZmZuY+QM3MzMzMzENAMzMzMzOTUUDNzMzMzExIQAAAAAAAoFZAAAAAAACgVEDNzMzMzExMQAAAAAAAwE5AZmZmZmaGVUCamZmZmdlFQAAAAAAAAEpAzczMzMxMUkCamZmZmTlUQM3MzMzMLFRAAAAAAABASUCamZmZmZlKQGZmZmZmZlNAAAAAAAAASUAzMzMzM3NJQJqZmZmZGVNAzczMzMzMT0DNzMzMzGxVQM3MzMzMjExAmpmZmZl5VUAzMzMzM7NRQGZmZmZmRldAZmZmZmYmUkAAAAAAAIBOQM3MzMzMLFNAmpmZmZkZVEAzMzMzM7NNQJqZmZmZ2VdAZmZmZmamUUDNzMzMzGxXQDMzMzMzc1BAAAAAAAAAWUAzMzMzM7NWQGZmZmZmZkZAZmZmZmYmVkAzMzMzM9NVQAAAAAAAgFJAzczMzMysUEAAAAAAAEBWQGZmZmZmRlhAZmZmZmZmVkAAAAAAAABYQJqZmZmZ2UtAzczMzMwsVkCamZmZmZlFQJqZmZmZ2UdAzczMzMxMVUDNzMzMzGxXQDMzMzMzc0NAAAAAAABAV0AAAAAAAIBXQJqZmZmZWUdAAAAAAABAV0CamZmZmVlWQDMzMzMzk1NAzczMzMyMVEAzMzMzM3NQQGZmZmZmhlVAmpmZmZlZWEAzMzMzM5NVQM3MzMzMTFJAzczMzMzMVEAAAAAAAOBWQDMzMzMz01BAAAAAAABASEDNzMzMzMxLQDMzMzMz80tAZmZmZmamUECamZmZmZlHQDMzMzMzM0VAZmZmZmZmRkAAAAAAAMBKQGZmZmZm5kZAMzMzMzPzS0AzMzMzMzNGQDMzMzMz809AMzMzMzNTU0CamZmZmTlVQAAAAAAAAENAmpmZmZmZT0DNzMzMzGxTQGZmZmZmJkRAMzMzMzNTVkDNzMzMzAxRQDMzMzMzs0NAZmZmZmYmUEBmZmZmZuYyQJqZmZmZmUZAZmZmZmZmU0CamZmZmRlMQAAAAAAAgDhAZmZmZmZmKECamZmZmZlBQM3MzMzMLFRAMzMzMzMzNUBmZmZmZuZTQJqZmZmZWVBAAAAAAABATEAAAAAAAABTQAAAAAAAgExAZmZmZmbmUEAAAAAAAMBEQDMzMzMzM01AAAAAAABAU0BmZmZmZmY4QM3MzMzMTFBA0Rf0BX1BTECYU\\u002fByCl5CQP9hK\\u002fFsgkZAB1kV0dN6SUCN6MgzhkVTQA==\"},\"xaxis\":\"x\",\"y\":{\"dtype\":\"f8\",\"bdata\":\"UrgehXut0UBcj8L1yHrRQM3MzMwsINlAZmZmZqbzzkCPwvUoXO3bQD0K16OQu89AmpmZmSmc1kBxPQrX80bQQAAAAACwj+tAj8L1KKxt0EB7FK5H8czQQClcj8IFFNtA16NwPbph1kDXo3A9KkLTQKRwPQoX5dRAhetRuP5BzkAK16NwLfPQQK5H4Xr0gtJAH4XrUVgb7UA9CtejsJXOQPYoXI\\u002fyBNdAUrgehQul0UCF61G4zrLQQClcj8LVQMtAH4XrUfDr4UCamZmZeVXOQArXo3Cd+tRAAAAAAGB31EApXI\\u002fCNVvTQMP1KFw\\u002f59ZASOF6FB5900DsUbgenbXlQLgehetRedFAXI\\u002fC9Ujt2kApXI\\u002fClevPQOxRuB7luM5AH4XrUci\\u002f00CF61G4DlPQQOF6FK5nH9JA16NwPWohzUBcj8L16PPPQB+F61F40NJASOF6FK7m1ECamZmZWYXMQDMzMzODb9JA16NwPTqE0kCuR+F6FMDVQHsUrkdhictAAAAAAGAT0kCF61G4TlzQQHE9CteDkNBAcT0K11OI0ECPwvUobJrQQFK4HoVLh89AUrgehZuK0ECF61G4zvPTQHE9CtfjJ9VAH4XrURh+0EApXI\\u002fCFZnNQLgeheuhw9RArkfhehSizEAK16NwPXrRQAAAAAAAr89ArkfhekRY0EDXo3A9alHPQIXrUbjOjulAPQrXowBG0kA9CtejIIjTQEjhehSu4NBAKVyPwrU20UAzMzMz8+bNQPYoXI\\u002fSX9BAH4XrUdjvykCPwvUo1FriQFK4HoWr289APQrXo1Bp1EDD9Shc+xf0QEjhehR+PNhA9ihcj4IBzEAAAAAAwHrOQPYoXI\\u002fSs9ZAmpmZmbmk00BxPQrXg3TXQHsUrkcRJdBAmpmZmekW0UBcj8L1WDDUQClcj8Ll8dhAj8L1KCx720BmZmZmNgrZQB+F61EY+dZAw\\u002fUoXN\\u002fp1ECkcD0Kf+flQNejcD0qn9RA16NwPVrX0UBSuB6FO+jVQFK4HoVrRtJAw\\u002fUoXB871kCPwvUofNzkQKRwPQoX1tNAMzMzMwPT0UCPwvUoXC\\u002fRQHsUrkcxcdJAj8L1KAyR2UBSuB6FW0vUQGZmZmam29NAMzMzM5My0kBI4XoU7t7WQI\\u002fC9Shchs1AzczMzCyUzECF61G4vlDIQM3MzMxM2dxAXI\\u002fC9Zhx6EDNzMzM7OzNQHE9CtfjXM9A16NwPapZzkDD9ShcX9XVQPYoXI9y1tRAcT0K19vl4UApXI\\u002fC1YnVQHE9CtdDcdpA7FG4HrUt0EBmZmZmBrzNQFK4HoWrxc9AexSuR6Ex0ECamZmZCTrRQArXo3Ddz9JAUrgehesK80CuR+F6lA\\u002fLQPYoXI9i7ctAH4XrURga3EC4HoXrkQnYQJqZmZn5JeBAZmZmZuZs8UBSuB6Fy7DSQIXrUbhaF\\u002flAzczMzCz7zkAAAAAAoAnYQB+F61GootNA9ihcj8JM0kAfhetRuAvWQEjhehQuYdZAUrgehQun0kCamZmZOR\\u002fVQB+F61EImONAw\\u002fUoXE\\u002fv0UAK16Nw3T3TQAAAAACA7dNAexSuR6FF00AK16NwvV\\u002fVQB+F61FIn9VACtejcJ3b00CamZmZ6brTQB+F61HocNRAZmZmZjaY00DXo3A9KqXPQHsUrkfxNNFAFK5H4ZoczUAUrkfhyiLXQEjhehSu5s9AhetRuM5o4UBI4XoUnvPXQFK4HoV719xAexSuR0Gh4kDNzMzMeGv3QMP1KFzPndlAH4XrUehu30AzMzMz83baQBSuR+Gqx9FAuB6F68Hh00CkcD0K153UQAAAAACADNRAj8L1KNzO0UAUrkfh6jDRQBSuR+GqKt1AAAAAAOCU10CPwvUojJ3XQBSuR+FKEdRAPQrXozCU1UBmZmZmFi\\u002fTQArXo3AdcNFA16NwPaod0kDXo3A9qq3OQBSuR+Gq3tJAPQrXoyA20kDD9ShcT8vSQFK4HoXrsNdA7FG4HiWqyUAAAAAAgF\\u002fSQD0K16Nwj9VACtejcDUM4kCPwvUo7BrdQOxRuB6l+tBAj8L1KBwa20A9CtejEKTeQDMzMzOz69pA16NwPSpS1UBSuB6F++HRQHsUrkdBJMpApHA9Cufr1kCPwvUoXADKQFyPwvU4Y99ArkfhepTY0UAK16Nw3avSQOxRuB5Vd9NAAAAAACAzzkDhehSuN4vYQAAAAADQH9BASOF6FL761kDsUbgedZrTQI\\u002fC9Si8C9NACtejcD2PzUCkcD0KlwbRQLgehevBZNJAhetRuL6G1UBmZmZmRvPQQOxRuB61WdVACtejcF3J0kBI4XoUnsjRQEjhehTO99BACtejcF2qzEBcj8L1qOTKQJqZmZlZi9BAzczMzOwa1UBmZmZmVgPRQDMzMzOzhNFA4XoUrgfty0C4HoXr4avSQDMzMzPjhdFAzczMzOyj1UAfhetRCKLTQAAAAABgQtJASOF6FH6q0EA9Ctej4CPXQM3MzMys19hAcT0K1yNAz0Bcj8L1SNTJQM3MzMxMvdBAMzMzM9dh9kAfhetRuFnMQDMzMzMTPMxAFK5H4Xq3zUB7FK5HIX3UQBSuR+ESSuJAKVyPwuVi0kAzMzMzU0jSQPYoXI8yFNFAzczMzMzX1kB7FK5H4Y3WQAAAAADQRNZAzczMzMzH1UAUrkfhCvreQIXrUbie8s9AexSuR8GBz0CPwvUo3BbQQIXrUbhebdRAMzMzM2OB00DsUbgexZ3QQClcj8LVH9NAKVyPwlV000AfhetRqBzTQI\\u002fC9Sj8MNNAcT0K1wMS1kAK16NwXSbSQDMzMzNT0ddArkfhekSf2EAAAAAA4ILTQHE9Cteju89AAAAAADB21EAAAAAAUBTQQJqZmZn5+M9AMzMzM\\u002fPa0UCkcD0Kd9zUQJqZmZk5ys5ACtejcD3zyEAUrkfhuvDaQArXo3CdZtNAPQrXowDT0ECkcD0KpwPVQAAAAAAgqtpAH4XrUTjQ1kD2KFyPUtTUQFK4HoX72tVACtejcH1w2kBcj8L1CG7XQJqZmZmJXdZAKVyPwjVU0kBcj8L16BrZQAAAAAAg5NlAFK5H4fr8zUCuR+F69OzUQJqZmZmZw9NAFK5H4erg0ECPwvUorBnXQOF6FK5XYtlArkfherQA1kD2KFyPcpXTQNejcD3qJNBAZmZmZgYG1kBI4XoUzk7NQClcj8I1XM9A7FG4HuVh10BmZmZmtkbQQBSuR+FKM9FAmpmZmXmLzkAAAAAA0MTTQNejcD3qdNRAKVyPwrUMzkC4HoXr0S\\u002fUQGZmZmZGxdZAexSuR1GM0ECuR+F6BEHVQKRwPQqng9ZACtejcG0400CamZmZqWbWQK5H4XrUVc9AcT0K18NJ00DNzMzM\\u002fKjVQI\\u002fC9SjMTtFAMzMzMxN0zUBmZmZm1s\\u002fTQOF6FK7Hes5APQrXo2A50UCPwvUovBHUQKRwPQoHitJA9ihcj5IU0kBmZmZmRqfTQDMzMzMTa9FAj8L1KPzMykD2KFyPgnDUQHsUrkdh1NJA16NwPdoj7EAfhetRyNTRQJqZmZnJ1dRAcT0K15Mn6UAAAAAAUIrdQBSuR+Eas9VAuB6F6yFD2EDD9ShcfwLhQGZmZma2V9FAPQrXo4AA20B7FK5HUWbeQB+F61F4\\u002fdJAUrgehesw00AUrkfhymblQDMzMzODTdhA7FG4Hu1R40BI4XoUXo7RQLgehesBt9NApHA9Cqdy10ApXI\\u002fCZd3TQK5H4XqUcOdAAAAAANCc2EAfhetRWPDZQHsUrkfBL9RA9ihcj7Lz1EDD9Shcrx3UQHE9Ctfj2NVAFK5H4arS4ECkcD0K96jRQD0K16MgI+BAFK5H4Sph10CuR+F6hE3QQD0K16NwvtVAPQrXo1BT2EDNzMzMfArRQMP1KFxP0tFAexSuR6EFy0DXo3A9KhPRQOF6FK5HH9JAKVyPwnU+0EDhehSu5yrWQOF6FK6HA9RAMzMzM5Pn0UAfhetR+LTQQMP1KFwPy9NAUrgehQs7z0BI4XoUjh3TQHsUrkfRn9VA16NwPRrL20AAAAAAMFzRQHsUrkcxWtRAUrgehVNU4UDhehSuRz7SQArXo3CNU9ZAH4XrUYjP30BxPQrXA8PiQI\\u002fC9ShsItZAexSuR0Hg0EDD9ShcDz7TQNejcD2qsNJAZmZmZka70EBSuB6FKyvSQI\\u002fC9Sg8yc5AuB6F6zFf1UAzMzMzo9HbQJqZmZkJedVAcT0K14Pq00AUrkfh2hPPQFyPwvVIWtxAH4XrUdjj3EDD9Shcn\\u002fjSQJqZmZn5zMpA16NwPYpOzkCF61G4vm\\u002fUQGZmZmbeI\\u002flArkfheiQ11EBI4XoU7lrWQIXrUbget99Aj8L1KIxa3ECPwvUozITQQClcj8IVIOFArkfhekxT4kAK16NwTQrSQJqZmZlZNMtAj8L1KCyq00Bcj8L1SE3PQClcj8IVjdNA7FG4HqWFy0DsUbgeRfvOQEjhehTOLNtA9ihcjyJ3z0B7FK5Hwb3NQHsUrkeB1NdAuB6F69GF00D2KFyPQmDPQD0K16OwE9VAAAAAAMAa0UA9CtejkNHQQKRwPQqnTNBA4XoUruemzkAAAAAAoAzRQLgehethJNFA16NwPfpU1UDD9ShcLxLRQClcj8LV99FAZmZmZkYM4UAUrkfhWgnVQLgehesxMNVAw\\u002fUoXM9b2UBSuB6Fq+HRQBSuR+EaL9BAXI\\u002fC9RhY0EDsUbge5YLYQClcj8L1rNNAFK5H4Up81EDD9ShcH+7QQArXo3Ad2s9Aw\\u002fUoXO9OzkApXI\\u002fCdXrPQNejcD1qsslAAAAAAIDk0kCkcD0K503RQDMzMzMzt9FA4XoUrsfKykAK16Nw\\u002fULLQClcj8I1cc5A9ihcj+KtyUAUrkfhynzYQOxRuB7lYM5A9ihcjzIQ0kDNzMzMrNDMQM3MzMyshtBAcT0K18Nb2UB7FK5HIcnNQM3MzMxsoc1AKVyPwkV410BxPQrXY1LUQM3MzMwccdVASOF6FO4P0kBI4XoUTuTRQJqZmZmJavxAj8L1KPx\\u002f1EDD9ShcryjVQOxRuB7FQdVA9ihcj0L6zkAK16NwDUfUQHsUrkeRltRAmpmZmWlW10BmZmZmFhvVQJqZmZnJi9NA7FG4HhVV1EA9CtejUHPSQKRwPQr3u89AH4XrUQiO1ECPwvUorFzYQHE9CtcjRtFAUrgehStIz0BI4XoUbgPPQArXo3DtddRAj8L1KHyGzEA9CtejwFHRQArXo3AdvNFAZmZmZob9zkBmZmZm1n\\u002fQQClcj8KFItJAUrgehQvE1ECuR+F6NPzSQAAAAABAVNZApHA9Cpfp0EA9CtejEEfRQKRwPQpHGNFAmpmZmZm11EDhehSuZ6PTQB+F61EIXNdAFK5H4Ro+0ECF61G4tkP2QM3MzMzs1MtAMzMzM0NH3kBSuB6Fy1vQQMP1KFxPnsZAPQrXoyAh0kBSuB6FS8vcQPYoXI\\u002fiL9NAAAAAALAZ00Bcj8L1KC\\u002fOQJqZmZm5uNBAMzMzM4Pt0UCF61G4rjbQQGZmZmZ2c9JAKVyPwkUR0EDXo3A9movVQM3MzMxc0ddAuB6F65EM0EApXI\\u002fCBVbTQBSuR+GawM9ApHA9CudY1EAfhetR+LrNQEjhehQeGdFA7FG4HoWm1UCPwvUoDKHXQHE9CteV+ABBmpmZmXmM0kAfhetROCfUQOF6FK63fNJAKVyPwnVM2ECamZmZ4ZzhQD0K16Pw7tNAKVyPwlVG1EBxPQrXo93RQEjhehRWFeBA16NwPQrd1UAzMzMzoxnRQD0K16NAMtBACtejcC2B1UBcj8L1OAHTQBSuR+GK0NJAPQrXo6Av0EBmZmZmxsTZQD0K16Ow39NA4XoUricZ1EDsUbgelSHSQK5H4XoEFdRASOF6FF4p0kBmZmZmhp7VQClcj8Kl89FAexSuR\\u002fEA1EDD9ShcX9XVQClcj8Klp9RA9ihcj+Jq1UDhehSuByPVQOxRuB51OdFAXI\\u002fC9VjU10DNzMzMvAXiQPYoXI8S3dBAFK5H4YqK0kCF61G4nlLVQArXo3A9rNRAzczMzFzO2EC4HoXrsWHOQNejcD3Khc9AZmZmZkaj3EA9Ctej8G\\u002fVQGZmZmYmic5ACtejcJ0zy0C4HoXr8UTQQHE9Ctezf9VAUrgehSvI1kCPwvUoXNLZQDMzMzPzWeFArkfheqT10EBcj8L1mBzVQBSuR+GKO9NAhetRuP74z0CamZmZSXXSQIXrUbie9M9AFK5H4Vqw3UBxPQrXUwXSQMP1KFyvw9BAzczMzNwK2UBcj8L1SBrMQJqZmZn5+8hA7FG4HpWu0EDXo3A92sTSQOF6FK7XTtJAhetRuP4Rz0ApXI\\u002fCFYzXQAAAAACgZslASOF6FA4QzEDsUbgeNQbYQFyPwvUI9NFAexSuR+H6yEDXo3A9uvjfQPYoXI+Cuc9AcT0K1yPN20A9CtejYATRQKRwPQrHnddAcT0K12Nk00DD9Shcj1rQQOF6FK6X59lAhetRuB5CzkDNzMzMLPTQQLgehevBKuFAUrgehesS00CF61G4ntrOQClcj8JlStlAKVyPwpVwzUDXo3A9+qDSQFyPwvXYHt5AZmZmZrbc0kB7FK5HoSHXQFK4HoVrmM5APQrXo\\u002fB630DsUbgelb7fQKRwPQo3K9tAKVyPwpXNz0AzMzMzcxjjQHsUrkc54+NA7FG4HsUL10BSuB6F2yPUQLgehevxWNFAmpmZmSl+1UDD9Shc\\u002f3jaQI\\u002fC9SgcQNxA16NwPYrz1EDNzMzMnMbiQNejcD06\\u002fNlAMzMzM9PnzkDXo3A9ynjTQGZmZmYGQt1ASOF6FM4s10DhehSuR97cQOxRuB7FuN5A4XoUrpcX1kBSuB6F63fUQJqZmZlp2dNAcT0K11O50EApXI\\u002fCVTXPQAAAAACwk+VAPQrXo9DDzECPwvUorJzTQK5H4Xr029FA9ihcjwIjzEDNzMzM\\u002fGHWQAAAAABA4dZA4XoUrifs0kC4HoXrcV7XQHsUrkdxadFA4XoUroeu0UD2KFyPMg7UQClcj8L1c9NAKVyPwqXC0UCamZmZaZDSQB+F61EoUNBAcT0K18PN2ECamZmZCUHYQHE9CtfzWtFA7FG4Hm124EAUrkfhWgzUQBSuR+Hqa9dAMzMzM7Pe1EDhehSuV6LYQI\\u002fC9Sg8GtZAKVyPwgVs00B7FK5H0QrSQJqZmZkJDtlAAAAAABC34EBcj8L1SKrYQKRwPQqnyNBAmpmZmRmq1ECF61G4\\u002ft3eQClcj8JlQdRAcT0K17Mp3UC4HoXroTfYQLgeheuxN9lAuB6F6zFD0EA9CtejcDvQQClcj8LFYt1AMzMzM0Mf0kAAAAAAALXTQGZmZmb2CtJApHA9CveaykAUrkfhqgLYQMP1KFw\\u002fatJAKVyPwhWX0ECkcD0Kl97PQGZmZmZGi9FAzczMzOwI0UAzMzMzUyvWQIXrUbge2tVAj8L1KNR64UAzMzMzAwLTQK5H4XoEVdBAw\\u002fUoXH8f0UCuR+F6JM7UQClcj8LF4eBAmpmZmZnOzUAfhetRuOfQQD0K16PAOOFAXI\\u002fC9fga0UDNzMzMDPrRQHE9CteDEclAuB6F62lf7kCkcD0K1+3PQB+F61HYBdNAuB6F6zEw1EDhehSud1\\u002fRQMP1KFwf3dBAUrgehSv22kAAAAAAEIvWQB+F61EI99VASOF6FA5L0ED2KFyPYunaQBSuR+Ga\\u002fc5AcT0K10PS1EDD9Shch3DiQPYoXI9yXORAFK5H4UoP2kDXo3A9anzNQK5H4XoU8NZAcT0K1+ND4UAK16NwnXP6QBSuR+HqMNdAcT0K1zOd00AzMzMzY+vQQClcj8KVj9BAUrgehWOz7EBmZmZmllbYQIXrUbg+SNhACtejcB0h1EDNzMzMDKzUQClcj8J1YNVAKVyPwnWJ1EA9CtejYBDUQFK4HoWryM5AMzMzMzOOzUAzMzMzk3fPQBSuR+G6O89AH4XrURhazUDhehSuZzbZQK5H4XpElNhAmpmZmTkn0kBSuB6Fm4zYQClcj8I1Z9BAXI\\u002fC9cgU2EBI4XoUTiLUQBSuR+Ga4sxAUrgehStX20AK16NwZarzQAAAAABwQ91A16NwPfqc0UApXI\\u002fCJW3gQArXo3Dde99AMzMzM7Mt5EBcj8L1aMjfQPYoXI9CONNAFK5H4eqV00CamZmZcf\\u002fgQBSuR+FK2OlAUrgehet10kB7FK5HwdHTQLgeheuxMdZA7FG4Hs3v8kCamZmZuSfSQHsUrkcpfuJAzczMzIxp1UAfhetR+FbZQNejcD16EdVAhetRuH4g1UAzMzMzEwrNQFK4HoVr49BApHA9CvfszkDsUbgeBQDWQD0K16PA6NBAexSuR5GA0UC4HoXrkebaQIXrUbg+PdNAKVyPwqU20UDsUbgeVVjRQEjhehROCNNA4XoUrietz0C4HoXrsWDKQFyPwvUoCMhAj8L1KPw21UDhehSu98nSQLgehethB9JAuB6F66He0UCamZmZuaPKQHsUrkcBp9RAPQrXo5DM0ECamZmZuWvTQClcj8K1ts9AmpmZmdlfzUCuR+F6JObTQFyPwvWo6dBApHA9Crcw1UCF61G4PiPQQIXrUbiewtRACtejcI3f0UCamZmZGV3HQHsUrkchb8lApHA9ChfX0EA9CtejEKHHQOxRuB4FvNFAmpmZmdlU0EDsUbgeVd3RQKRwPQpXgM1AhetRuB5ZzEAK16NwfVTOQFyPwvWoc91Aj8L1KHxS00C4HoXrgfXQQI\\u002fC9Sg8bdFA7FG4HpWP0kDhehSu5ybPQDMzMzMjctRAhetRuG4y0kCF61G47tTRQPYoXI\\u002filMxAZmZmZraM00BxPQrXg6DTQFyPwvX4VdNApHA9Ctc6ykCPwvUo\\u002fMPLQM3MzMz86NVAXI\\u002fC9WAz4kCPwvUoXBDPQIXrUbieTNJAuB6F6\\u002fEw1UBmZmZmVjjfQLgehespReRA4XoUrjcz00AfhetRuGjTQKRwPQp3aNFASOF6FE6h1UDsUbgeBaPSQB+F61E4DtJAH4XrUeiR0kDD9ShcTz7KQNejcD1qe9NAmpmZmWk11EDNzMzMXODXQLgehesxV9BA4XoUrjds3UB7FK5H0W3UQOF6FK4nXcVAFK5H4doz1kB7FK5Hge\\u002fRQJqZmZmJzdJAhetRuN5vw0AzMzMzw+LRQFyPwvXoctVA16NwPSof00BI4XoUrhzZQM3MzMyMysxAhetRuA7J00CamZmZSa3YQMP1KFyfJNBAH4XrUUjq2UCF61G4Pi7WQClcj8JVzctAPQrXo7Bl10DNzMzMDDDUQFK4HoW7gdZAFK5H4YrU00DsUbgexcvRQGZmZmZGNNFAAAAAAKBm00AzMzMz4\\u002fDSQHsUrkfxqNNA4XoUrjd11UB7FK5HgYnVQB+F61HYbNNAj8L1KHwD00AfhetRqBnTQAAAAAAwzdJAMzMzM+PZ0kDsUbgehX3RQNejcD2qT89ApHA9CveO0kB7FK5HwTbPQIXrUbgOXdRAzczMzEz7zUAfhetRGFbNQClcj8K1p9JArkfhekR600CF61G4PnLgQArXo3Ad2NBAZmZmZmZ61ECF61G4PlbUQI\\u002fC9Si8i81AzczMzKyxzUA9CtejIMfTQMP1KFxPf85AexSuR5FQ10CF61G47n3TQLgehetxBs1ACtejcH3X0UBxPQrXY3rSQOF6FK5X0tBAw\\u002fUoXA9t1UBxPQrXk6bSQK5H4XrUQdBAAAAAACDry0B7FK5HAc3NQJqZmZnp3NZAPQrXoyAm0UA9CtejoO\\u002fTQClcj8Jl6tFASOF6FN790kAzMzMzswLSQDMzMzPzlddAuB6F67FI0UBI4XoUbpzNQDMzMzOTTtZAexSuR8Fj00AAAAAAcNHQQArXo3AlfOBAMzMzM7N83kDsUbgepcrTQB+F61E4YtJAMzMzMxPB1ED2KFyPUlvTQA==\"},\"yaxis\":\"y\",\"type\":\"scatter\"},{\"hovertemplate\":\"\\u003cb\\u003eOLS trendline\\u003c\\u002fb\\u003e\\u003cbr\\u003eExpense per ADA = 66.0616 * Socioeconomically Disadvantaged (%) + 18305.3\\u003cbr\\u003eR\\u003csup\\u003e2\\u003c\\u002fsup\\u003e=0.020694\\u003cbr\\u003e\\u003cbr\\u003eSocioeconomically Disadvantaged (%)=%{x}\\u003cbr\\u003eExpense per ADA ($)=%{y} \\u003cb\\u003e(trend)\\u003c\\u002fb\\u003e\\u003cextra\\u003e\\u003c\\u002fextra\\u003e\",\"legendgroup\":\"\",\"line\":{\"color\":\"red\"},\"marker\":{\"color\":\"#636efa\",\"symbol\":\"circle\"},\"mode\":\"lines\",\"name\":\"\",\"showlegend\":false,\"x\":{\"dtype\":\"f8\",\"bdata\":\"mpmZmZmZ6T8AAAAAAAAEQDMzMzMzMwdAAAAAAAAACEAAAAAAAAAMQDMzMzMzMw9AMzMzMzMzEUBmZmZmZmYSQGZmZmZmZhJAzczMzMzMFECamZmZmZkVQM3MzMzMzBZAzczMzMzMFkDNzMzMzMwYQJqZmZmZmRlAAAAAAAAAGkAAAAAAAAAcQGZmZmZmZhxAmpmZmZmZHUAAAAAAAAAhQDMzMzMzMyFAZmZmZmZmIUBmZmZmZmYhQGZmZmZmZiJAmpmZmZmZIkDNzMzMzMwiQM3MzMzMzCJAzczMzMzMIkCamZmZmZkjQJqZmZmZmSNAzczMzMzMJEDNzMzMzMwkQM3MzMzMzCRAMzMzMzMzJUBmZmZmZmYlQDMzMzMzMyZAAAAAAAAAJ0AzMzMzMzMnQGZmZmZmZidAZmZmZmZmJ0DNzMzMzMwnQGZmZmZmZihAmpmZmZmZKEAAAAAAAAApQGZmZmZmZilAAAAAAAAAKkBmZmZmZmYrQJqZmZmZmStAMzMzMzMzLUAzMzMzMzMtQGZmZmZmZi1AZmZmZmZmLUBmZmZmZmYuQAAAAAAAADBAmpmZmZkZMECamZmZmRkwQDMzMzMzMzBAZmZmZmZmMEBmZmZmZmYwQGZmZmZmZjBAZmZmZmZmMEBmZmZmZuYwQAAAAAAAADFAMzMzMzMzMUDNzMzMzEwxQM3MzMzMTDFAAAAAAACAMUAAAAAAAIAxQAAAAAAAADJAAAAAAACAMkAAAAAAAIAyQAAAAAAAgDJAMzMzMzOzMkAzMzMzM7MyQM3MzMzMzDJAZmZmZmbmMkBmZmZmZuYyQDMzMzMzMzNAAAAAAACANEAzMzMzM7M0QM3MzMzMzDRAZmZmZmbmNEAAAAAAAAA1QDMzMzMzMzVAMzMzMzMzNUBmZmZmZmY1QGZmZmZmZjVAAAAAAACANUDNzMzMzMw1QAAAAAAAADZAzczMzMxMNkDNzMzMzEw2QGZmZmZmZjZAMzMzMzOzNkCamZmZmRk3QJqZmZmZGTdAMzMzMzMzN0DNzMzMzMw3QGZmZmZm5jdAZmZmZmZmOEBmZmZmZmY4QGZmZmZmZjhAAAAAAACAOEAAAAAAAIA4QJqZmZmZGTlAzczMzMxMOUDNzMzMzEw5QM3MzMzMTDlAAAAAAACAOUAAAAAAAIA5QJqZmZmZmTpAMzMzMzOzOkDNzMzMzMw6QAAAAAAAADtAmpmZmZmZO0AzMzMzM7M7QM3MzMzMzDtAzczMzMzMO0AAAAAAAAA8QJqZmZmZGTxAzczMzMxMPEBmZmZmZmY8QDMzMzMzszxAMzMzMzOzPEAAAAAAAAA9QDMzMzMzMz1AMzMzMzMzPUBmZmZmZmY9QAAAAAAAgD1AZmZmZmbmPUAAAAAAAAA+QAAAAAAAAD5AmpmZmZkZPkCamZmZmRk+QDMzMzMzMz5AZmZmZmbmPkDNzMzMzEw\\u002fQM3MzMzMTD9AzczMzMxMP0BmZmZmZmY\\u002fQAAAAAAAgD9AMzMzMzOzP0DNzMzMzAxAQM3MzMzMDEBAmpmZmZkZQEBmZmZmZiZAQGZmZmZmJkBAZmZmZmYmQEAzMzMzMzNAQDMzMzMzM0BAMzMzMzMzQEAAAAAAAEBAQM3MzMzMTEBAmpmZmZlZQEAzMzMzM3NAQDMzMzMzs0BAAAAAAADAQEAAAAAAAMBAQDMzMzMz80BAAAAAAAAAQUAAAAAAAABBQAAAAAAAAEFAAAAAAAAAQUDNzMzMzAxBQGZmZmZmJkFAMzMzMzMzQUDNzMzMzExBQM3MzMzMTEFAmpmZmZlZQUBmZmZmZmZBQGZmZmZmZkFAZmZmZmZmQUBmZmZmZmZBQDMzMzMzc0FAzczMzMyMQUDNzMzMzIxBQJqZmZmZmUFAZmZmZmamQUBmZmZmZqZBQGZmZmZmpkFAAAAAAADAQUCamZmZmdlBQJqZmZmZGUJAmpmZmZkZQkBmZmZmZiZCQDMzMzMzM0JAAAAAAABAQkAAAAAAAEBCQAAAAAAAQEJAzczMzMxMQkCYU\\u002fByCl5CQGZmZmZmZkJAZmZmZmZmQkAzMzMzM3NCQAAAAAAAgEJAzczMzMyMQkCamZmZmZlCQDMzMzMzs0JAmpmZmZnZQkAAAAAAAABDQM3MzMzMDENAmpmZmZkZQ0AzMzMzMzNDQAAAAAAAQENAAAAAAABAQ0CamZmZmVlDQGZmZmZmZkNAMzMzMzNzQ0AzMzMzM3NDQM3MzMzMjENAzczMzMyMQ0DNzMzMzIxDQJqZmZmZmUNAZmZmZmamQ0AzMzMzM7NDQDMzMzMzs0NAAAAAAADAQ0AAAAAAAMBDQM3MzMzMzENAzczMzMzMQ0DNzMzMzMxDQM3MzMzMzENAzczMzMwMREBmZmZmZiZEQDMzMzMzM0RAMzMzMzMzREAAAAAAAEBEQM3MzMzMTERAzczMzMxMREAzMzMzM3NEQDMzMzMzc0RAAAAAAACAREAAAAAAAIBEQM3MzMzMjERAMzMzMzOzREAAAAAAAMBEQAAAAAAAwERAAAAAAADAREDNzMzMzMxEQM3MzMzMzERAzczMzMzMREDNzMzMzMxEQJqZmZmZ2URAZmZmZmbmREAzMzMzM\\u002fNEQDMzMzMz80RAmpmZmZkZRUCamZmZmRlFQDMzMzMzM0VAMzMzMzMzRUDNzMzMzExFQGZmZmZmZkVAZmZmZmZmRUAzMzMzM3NFQDMzMzMzc0VAzczMzMyMRUCamZmZmZlFQJqZmZmZmUVAmpmZmZmZRUBmZmZmZqZFQAAAAAAAwEVAAAAAAADARUAAAAAAAMBFQJqZmZmZ2UVAMzMzMzPzRUAzMzMzM\\u002fNFQAAAAAAAAEZAzczMzMwMRkDNzMzMzAxGQJqZmZmZGUZAMzMzMzMzRkAzMzMzMzNGQJqZmZmZWUZAZmZmZmZmRkBmZmZmZmZGQAAAAAAAgEZA\\u002f2Er8WyCRkDNzMzMzIxGQJqZmZmZmUZAmpmZmZmZRkCamZmZmZlGQGZmZmZmpkZAMzMzMzOzRkAzMzMzM7NGQAAAAAAAwEZAZmZmZmbmRkBmZmZmZuZGQGZmZmZm5kZAMzMzMzPzRkAzMzMzM\\u002fNGQAAAAAAAAEdAAAAAAAAAR0AAAAAAAABHQJqZmZmZGUdAZmZmZmYmR0CamZmZmVlHQJqZmZmZWUdAmpmZmZlZR0CamZmZmVlHQJqZmZmZWUdAMzMzMzNzR0DNzMzMzIxHQJqZmZmZmUdAMzMzMzOzR0AzMzMzM7NHQDMzMzMzs0dAMzMzMzOzR0AAAAAAAMBHQM3MzMzMzEdAmpmZmZnZR0BmZmZmZuZHQJqZmZmZGUhAZmZmZmYmSEBmZmZmZiZIQAAAAAAAQEhAAAAAAABASEDNzMzMzExIQM3MzMzMTEhAmpmZmZlZSEBmZmZmZmZIQDMzMzMzc0hAmpmZmZmZSEAzMzMzM7NIQAAAAAAAwEhAZmZmZmbmSEBmZmZmZuZIQAAAAAAAAElAAAAAAAAASUAAAAAAAABJQAAAAAAAAElAMzMzMzMzSUAAAAAAAEBJQAAAAAAAQElAzczMzMxMSUDNzMzMzExJQJqZmZmZWUlAMzMzMzNzSUAzMzMzM3NJQDMzMzMzc0lAMzMzMzNzSUAHWRXR03pJQM3MzMzMjElAmpmZmZmZSUAzMzMzM7NJQDMzMzMzs0lAzczMzMzMSUBmZmZmZuZJQAAAAAAAAEpAzczMzMwMSkCamZmZmRlKQJqZmZmZGUpAZmZmZmYmSkBmZmZmZiZKQDMzMzMzM0pAMzMzMzMzSkCamZmZmVlKQJqZmZmZWUpAmpmZmZlZSkBmZmZmZmZKQGZmZmZmZkpAZmZmZmZmSkAzMzMzM3NKQAAAAAAAgEpAzczMzMyMSkCamZmZmZlKQJqZmZmZmUpAZmZmZmamSkAzMzMzM7NKQAAAAAAAwEpAmpmZmZnZSkCamZmZmdlKQJqZmZmZ2UpAZmZmZmbmSkAAAAAAAABLQAAAAAAAAEtAMzMzMzMzS0AAAAAAAEBLQM3MzMzMTEtAMzMzMzNzS0DNzMzMzIxLQM3MzMzMjEtAZmZmZmamS0AzMzMzM7NLQM3MzMzMzEtAzczMzMzMS0DNzMzMzMxLQJqZmZmZ2UtAZmZmZmbmS0BmZmZmZuZLQDMzMzMz80tAMzMzMzPzS0AzMzMzM\\u002fNLQM3MzMzMDExAmpmZmZkZTECamZmZmRlMQJqZmZmZGUxAmpmZmZkZTEBmZmZmZiZMQDMzMzMzM0xAAAAAAABATEDRF\\u002fQFfUFMQM3MzMzMTExAzczMzMxMTEDNzMzMzExMQJqZmZmZWUxAZmZmZmZmTEAAAAAAAIBMQAAAAAAAgExAzczMzMyMTEDNzMzMzIxMQJqZmZmZmUxAZmZmZmamTEAzMzMzM7NMQDMzMzMzs0xAAAAAAADATEAAAAAAAMBMQM3MzMzMzExAzczMzMzMTEDNzMzMzMxMQDMzMzMz80xAMzMzMzPzTEDNzMzMzAxNQM3MzMzMDE1AZmZmZmYmTUBmZmZmZiZNQDMzMzMzM01AMzMzMzMzTUAAAAAAAEBNQAAAAAAAQE1AmpmZmZlZTUBmZmZmZmZNQM3MzMzMjE1AZmZmZmamTUBmZmZmZqZNQGZmZmZmpk1AZmZmZmamTUAzMzMzM7NNQAAAAAAAwE1AzczMzMzMTUCamZmZmdlNQGZmZmZm5k1AMzMzMzPzTUAAAAAAAABOQAAAAAAAAE5AAAAAAAAATkDNzMzMzAxOQM3MzMzMDE5AZmZmZmYmTkAzMzMzMzNOQDMzMzMzM05AMzMzMzMzTkAAAAAAAEBOQM3MzMzMTE5AzczMzMxMTkDNzMzMzExOQM3MzMzMTE5AmpmZmZlZTkCamZmZmVlOQJqZmZmZWU5AmpmZmZlZTkAzMzMzM3NOQDMzMzMzc05AAAAAAACATkDNzMzMzIxOQM3MzMzMjE5AzczMzMyMTkCamZmZmZlOQGZmZmZmpk5AMzMzMzOzTkAAAAAAAMBOQM3MzMzMzE5AZmZmZmbmTkDNzMzMzAxPQDMzMzMzM09AAAAAAABAT0AAAAAAAEBPQAAAAAAAQE9AzczMzMxMT0BmZmZmZmZPQDMzMzMzc09AMzMzMzNzT0AAAAAAAIBPQAAAAAAAgE9AzczMzMyMT0CamZmZmZlPQJqZmZmZmU9AmpmZmZmZT0BmZmZmZqZPQAAAAAAAwE9AAAAAAADAT0DNzMzMzMxPQM3MzMzMzE9AZmZmZmbmT0AzMzMzM\\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\"},\"xaxis\":\"x\",\"y\":{\"dtype\":\"f8\",\"bdata\":\"Zoq9l4nt0UDpKNYYnQnSQERdRUY4ENJAWyqhEd8R0kDNK2wKIRrSQChg2ze8INJAg5RKZVcn0kDH+13HSyzSQMf7XcdLLNJAUMqEizQ20kB9ZDwigjnSQMHLT4R2PtJAwctPhHY+0kAzzRp9uEbSQGFn0hMGStJAdzQu36xL0kDpNfnX7lPSQAADVaOVVdJARGpoBYpa0kA\\u002fOlrCtGzSQFUHto1bbtJAbNQRWQJw0kBs1BFZAnDSQN7V3FFEeNJA9aI4Het50kAMcJTokXvSQAxwlOiRe9JADHCU6JF70kBnpAMWLYLSQGekAxYtgtJA73Iq2hWM0kDvciraFYzSQO9yKtoVjNJAHQ3icGOP0kAz2j08CpHSQI4OrWmll9JA6kIcl0Ce0kAAEHhi55\\u002fSQBfd0y2OodJAF93TLY6h0kBFd4vE26TSQInenibQqdJAoKv68Xar0kDNRbKIxK7SQPvfaR8SstJAP0d9gQa30kDe4v8QlsLSQPWvW9w8xNJAqxg6N3PR0kCrGDo3c9HSQMLllQIa09JAwuWVAhrT0kA052D7W9vSQOpPP1aS6NJAAR2bITnq0kABHZshOerSQBfq9uzf69JARYSugy3v0kBFhK6DLe\\u002fSQEWEroMt79JARYSugy3v0kC3hXl8b\\u002ffSQM1S1UcW+dJA++yM3mP80kASuuipCv7SQBK66KkK\\u002ftJAP1SgQFgB00A\\u002fVKBAWAHTQLFVazmaCdNAI1c2MtwR00AjVzYy3BHTQCNXNjLcEdNAUPHtyCkV00BQ8e3IKRXTQGe+SZTQFtNAfoulX3cY00B+i6VfdxjTQMLyuMFrHdNA6lxiFeQy00AY9xmsMTbTQC7EdXfYN9NARZHRQn8500BcXi0OJjvTQIn45KRzPtNAifjkpHM+00C3kpw7wUHTQLeSnDvBQdNAzl\\u002f4BmhD00ASxwtpXEjTQEBhw\\u002f+pS9NAhMjWYZ5Q00CEyNZhnlDTQJqVMi1FUtNA3\\u002fxFjzlX00A6MbW81F3TQDoxtbzUXdNAUf4QiHtf00DZzDdMZGnTQPCZkxcLa9NAYpteEE1z00Bim14QTXPTQGKbXhBNc9NAeGi62\\u002fN000B4aLrb83TTQAE34Z\\u002fcftNAL9GYNiqC00Av0Zg2KoLTQC\\u002fRmDYqgtNAXGtQzXeF00Bca1DNd4XTQFc7Qoqil9NAbQieVUmZ00CE1fkg8JrTQLJvsbc9ntNAOj7Yeyao00BRCzRHzanTQGjYjxJ0q9NAaNiPEnSr00CVckepwa7TQKw\\u002fo3RosNNA2tlaC7az00DwprbWXLXTQDQOyjhRutNANA7KOFG600B5dd2aRb\\u002fTQKYPlTGTwtNApg+VMZPC00DUqUzI4MXTQOt2qJOHx9NARqsXwSLO00BceHOMyc\\u002fTQFx4c4zJz9NAc0XPV3DR00BzRc9XcNHTQIoSKyMX09NAKa6tsqbe00CE4hzgQeXTQITiHOBB5dNAhOIc4EHl00Cbr3ir6ObTQLJ81HaP6NNA3xaMDd3r00A6S\\u002fs6ePLTQDpL+zp48tNAURhXBh\\u002f000Bo5bLRxfXTQGjlstHF9dNAaOWy0cX100B\\u002fsg6dbPfTQH+yDp1s99NAf7IOnWz300CVf2poE\\u002fnTQKxMxjO6+tNAwxki\\u002f2D800Dws9mVrv\\u002fTQGK1pI7wB9RAeYIAWpcJ1EB5ggBalwnUQNS2b4cyENRA64PLUtkR1EDrg8tS2RHUQOuDy1LZEdRA64PLUtkR1EACUScegBPUQC\\u002fr3rTNFtRARrg6gHQY1EB0UvIWwhvUQHRS8hbCG9RAih9O4mgd1ECh7KmtDx\\u002fUQKHsqa0PH9RAoeyprQ8f1ECh7KmtDx\\u002fUQLi5BXm2INRA5VO9DwQk1EDlU70PBCTUQPwgGduqJdRAE+50plEn1EAT7nSmUSfUQBPudKZRJ9RAQIgsPZ8q1EBuIuTT7C3UQOAjr8wuNtRA4COvzC421ED28AqY1TfUQA2+ZmN8OdRAJIvCLiM71EAki8IuIzvUQCSLwi4jO9RAO1ge+sk81EDhGIV0Az\\u002fUQGjy1ZAXQNRAaPLVkBdA1EB\\u002fvzFcvkHUQJaMjSdlQ9RArFnp8gtF1EDDJkW+skbUQPHA\\u002fFQAStRANSgQt\\u002fRO1EB5jyMZ6VPUQJBcf+SPVdRApynbrzZX1EDUw5JGhFrUQOuQ7hErXNRA65DuEStc1EAZK6aoeF\\u002fUQC\\u002f4AXQfYdRARsVdP8Zi1EBGxV0\\u002fxmLUQHRfFdYTZtRAdF8V1hNm1EB0XxXWE2bUQIoscaG6Z9RAofnMbGFp1EC4xig4CGvUQLjGKDgIa9RAz5OEA69s1EDPk4QDr2zUQOZg4M5VbtRA5mDgzlVu1EDmYODOVW7UQOZg4M5VbtRAV2Krx5d21ECF\\u002fGJe5XnUQJzJvimMe9RAnMm+KYx71ECylhr1Mn3UQMljdsDZftRAyWN2wNl+1EANy4kizoPUQA3LiSLOg9RAJJjl7XSF1EAkmOXtdIXUQDtlQbkbh9RAf8xUGxCM1ECWmbDmto3UQJaZsOa2jdRAlpmw5raN1ECtZgyyXY\\u002fUQK1mDLJdj9RArWYMsl2P1ECtZgyyXY\\u002fUQMQzaH0EkdRA2gDESKuS1EDxzR8UUpTUQPHNHxRSlNRANTUzdkaZ1EA1NTN2RpnUQGPP6gyUnNRAY8\\u002fqDJSc1ECQaaKj4Z\\u002fUQL4DWjovo9RAvgNaOi+j1EDV0LUF1qTUQNXQtQXWpNRAAmttnCOo1EAZOMlnyqnUQBk4yWfKqdRAGTjJZ8qp1EAwBSUzcavUQF2f3Mm+rtRAXZ\\u002fcyb6u1EBdn9zJvq7UQIs5lGAMstRAuNNL91m11EC400v3WbXUQM+gp8IAt9RA5m0Djqe41EDmbQOOp7jUQPw6X1lOutRAKtUW8Ju91EAq1Rbwm73UQG48KlKQwtRAhQmGHTfE1ECFCYYdN8TUQLOjPbSEx9RAJdh10tTH1EDJcJl\\u002fK8nUQOA99UrSytRA4D31StLK1EDgPfVK0srUQPcKURZ5zNRADtis4R\\u002fO1EAO2KzhH87UQCSlCK3Gz9RAaQwcD7vU1EBpDBwPu9TUQGkMHA+71NRAf9l32mHW1EB\\u002f2XfaYdbUQJam06UI2NRAlqbTpQjY1ECWptOlCNjUQMRAizxW29RA2g3nB\\u002f3c1EA2QlY1mOPUQDZCVjWY49RANkJWNZjj1EA2QlY1mOPUQDZCVjWY49RAY9wNzOXm1ECRdsViM+rUQKdDIS7a69RA1d3YxCfv1EDV3djEJ+\\u002fUQNXd2MQn79RA1d3YxCfv1EDsqjSQzvDUQAJ4kFt18tRAGUXsJhz01EAwEkjywvXUQItGtx9e\\u002fNRAohMT6wT+1ECiExPrBP7UQM+tyoFSAdVAz63KgVIB1UDmeiZN+QLVQOZ6Jk35AtVA\\u002fUeCGKAE1UAUFd7jRgbVQCriOa\\u002ftB9VAb0lNEeIM1UCc4wSoLxDVQLOwYHPWEdVA9xd01coW1UD3F3TVyhbVQCWyK2wYGtVAJbIrbBga1UAlsitsGBrVQCWyK2wYGtVAgOaambMg1UCWs\\u002fZkWiLVQJaz9mRaItVArYBSMAEk1UCtgFIwASTVQMRNrvunJdVA8udlkvUo1UDy52WS9SjVQPLnZZL1KNVA8udlkvUo1UDIG+mC8SnVQB+CHSlDLNVANk959Okt1UBj6TCLNzHVQGPpMIs3MdVAkYPoIYU01UC+HaC40jfVQOy3V08gO9VAA4WzGsc81UAaUg\\u002fmbT7VQBpSD+ZtPtVAMB9rsRRA1UAwH2uxFEDVQEfsxny7QdVAR+zGfLtB1UCLU9rer0bVQItT2t6vRtVAi1Pa3q9G1UCiIDaqVkjVQKIgNqpWSNVAoiA2qlZI1UC57ZF1\\u002fUnVQNC67UCkS9VA5odJDEtN1UD9VKXX8U7VQP1UpdfxTtVAFCIBo5hQ1UAq71xuP1LVQEG8uDnmU9VAb1Zw0DNX1UBvVnDQM1fVQG9WcNAzV9VAhiPMm9pY1UCzvYMyKFzVQLO9gzIoXNVADvLyX8Ni1UAlv04ramTVQDyMqvYQZtVAgPO9WAVr1UCujXXvUm7VQK6Nde9SbtVA2ycthqBx1UDy9IhRR3PVQB+PQOiUdtVAH49A6JR21UAfj0DolHbVQDZcnLM7eNVATSn4fuJ51UBNKfh+4nnVQGT2U0qJe9VAZPZTSol71UBk9lNKiXvVQJGQC+HWftVAqF1nrH2A1UCoXWesfYDVQKhdZ6x9gNVAqF1nrH2A1UC\\u002fKsN3JILVQNX3HkPLg9VA7MR6DnKF1UB4g\\u002fw3o4XVQAOS1tkYh9VAA5LW2RiH1UADktbZGIfVQBpfMqW\\u002fiNVAMCyOcGaK1UBexkUHtI3VQF7GRQe0jdVAdZOh0lqP1UB1k6HSWo\\u002fVQIxg\\u002fZ0BkdVAoi1ZaaiS1UC5+rQ0T5TVQLn6tDRPlNVA0McQAPaV1UDQxxAA9pXVQOaUbMucl9VA5pRsy5yX1UDmlGzLnJfVQCv8fy2RnNVAK\\u002fx\\u002fLZGc1UBYljfE3p\\u002fVQFiWN8Ten9VAhjDvWiyj1UCGMO9aLKPVQJ39SibTpNVAnf1KJtOk1UCzyqbxeabVQLPKpvF5ptVA4WReiMep1UD4MbpTbqvVQDyZzbVisNVAaTOFTLCz1UBpM4VMsLPVQGkzhUyws9VAaTOFTLCz1UCAAOEXV7XVQJfNPOP9ttVArpqYrqS41UDFZ\\u002fR5S7rVQNs0UEXyu9VA8gGsEJm91UAJzwfcP7\\u002fVQAnPB9w\\u002fv9VACc8H3D+\\u002f1UAgnGOn5sDVQCCcY6fmwNVATTYbPjTE1UBkA3cJ28XVQGQDdwnbxdVAZAN3CdvF1UB70NLUgcfVQJGdLqAoydVAkZ0uoCjJ1UCRnS6gKMnVQJGdLqAoydVAqGqKa8\\u002fK1UCoaoprz8rVQKhqimvPytVAqGqKa8\\u002fK1UDWBEICHc7VQNYEQgIdztVA7NGdzcPP1UADn\\u002fmYatHVQAOf+Zhq0dVAA5\\u002f5mGrR1UAabFVkEdPVQDE5sS+41NVARwYN+17W1UBe02jGBdjVQHWgxJGs2dVAojp8KPrc1UDnoY+K7uHVQCsJo+zi5tVAQtb+t4no1UBC1v63iejVQELW\\u002freJ6NVAWKNagzDq1UCGPRIafu3VQJ0KbuUk79VAnQpu5STv1UC018mwy\\u002fDVQLTXybDL8NVAyqQlfHLy1UDhcYFHGfTVQOFxgUcZ9NVA4XGBRxn01UD4Pt0SwPXVQCbZlKkN+dVAJtmUqQ351UA8pvB0tPrVQDym8HS0+tVAakCoCwL+1UCADQTXqP\\u002fVQIANBNeo\\u002f9VAxXQXOZ0E1kDFdBc5nQTWQMV0FzmdBNZA3EFzBEQG1kDyDs\\u002fP6gfWQPIOz8\\u002fqB9ZA8g7Pz+oH1kDyDs\\u002fP6gfWQAncKpuRCdZACdwqm5EJ1kAJ3CqbkQnWQCCphmY4C9ZATUM+\\u002fYUO1kBkEJrILBDWQGQQmsgsENZAZBCayCwQ1kB73fWT0xHWQHvd9ZPTEdZAkqpRX3oT1kCod60qIRXWQKh3rSohFdZA1hFlwW4Y1kDWEWXBbhjWQNYRZcFuGNZA1hFlwW4Y1kDt3sCMFRrWQO3ewIwVGtZAA6wcWLwb1kAaeXgjYx3WQBp5eCNjHdZAMUbU7gkf1kAxRtTuCR\\u002fWQDFG1O4JH9ZASBMwurAg1kBe4IuFVyLWQF7gi4VXItZAjHpDHKUl1kCjR5\\u002fnSyfWQKNHn+dLJ9ZA566ySUAs1kDnrrJJQCzWQP57DhXnLdZA\\u002fnsOFect1kD+ew4V5y3WQP57DhXnLdZA\\u002fnsOFect1kD+ew4V5y3WQP57DhXnLdZAFElq4I0v1kAsFsarNDHWQELjIXfbMtZAWbB9QoI01kBwfdkNKTbWQIZKNdnPN9ZAtOTsbx071kDKsUg7xDzWQMqxSDvEPNZAyrFIO8Q81kAm5rdoX0PWQCbmt2hfQ9ZAPLMTNAZF1kA8sxM0BkXWQFOAb\\u002f+sRtZAU4Bv\\u002f6xG1kBqTcvKU0jWQGpNy8pTSNZAak3LylNI1kCBGieW+knWQIEaJ5b6SdZAgRonlvpJ1kCY54JhoUvWQK603ixITdZArrTeLEhN1kDFgTr47k7WQNxOlsOVUNZA3E6Ww5VQ1kDzG\\u002fKOPFLWQCC2qSWKVdZAILapJYpV1kA3gwXxMFfWQGQdvYd+WtZAe+oYUyVc1kB76hhTJVzWQHvqGFMlXNZAe+oYUyVc1kCphNDpcl\\u002fWQKmE0OlyX9ZAv1EstRlh1kDWHoiAwGLWQNYeiIDAYtZA1h6IgMBi1kDt6+NLZ2TWQO3r40tnZNZABLk\\u002fFw5m1kAEuT8XDmbWQDFT961badZAMVP3rVtp1kAxU\\u002fetW2nWQEggU3kCa9ZAX+2uRKls1kBf7a5EqWzWQF\\u002ftrkSpbNZAdroKEFBu1kCMh2bb9m\\u002fWQIyHZtv2b9ZAo1TCpp1x1kCjVMKmnXHWQLohHnJEc9ZA0O55Pet01kD+iDHUOHjWQBVWjZ\\u002ffedZALCPpaoZ71kBC8EQ2LX3WQHCK\\u002fMx6gNZAhldYmCGC1kDii8fFvIjWQOKLx8W8iNZAJvPaJ7GN1kAm89onsY3WQCbz2iexjdZAPMA281eP1kDFjl23QJnWQMWOXbdAmdZAxY5dt0CZ1kA3kCiwgqHWQGUq4EbQpNZAfPc7Enem1kCSxJfdHajWQKmR86jEqdZAwF5PdGur1kDAXk90a6vWQNYrqz8SrdZA7fgGC7mu1kAbk76hBrLWQBuTvqEGstZAG5O+oQay1kAyYBptrbPWQF\\u002f60QP7ttZAdsctz6G41kCMlImaSLrWQKNh5WXvu9ZAui5BMZa91kDR+5z8PL\\u002fWQP6VVJOKwtZAFWOwXjHE1kAsMAwq2MXWQCwwDCrYxdZAQv1n9X7H1kBC\\u002fWf1fsfWQEL9Z\\u002fV+x9ZAQv1n9X7H1kBZysPAJcnWQHCXH4zMytZAcJcfjMzK1kCHZHtXc8zWQJ4x1yIaztZAnjHXIhrO1kCeMdciGs7WQLT+Mu7Az9ZAy8uOuWfR1kDLy465Z9HWQMvLjrln0dZA4pjqhA7T1kD5ZUZQtdTWQBAzohtc1tZAEDOiG1zW1kAmAP7mAtjWQCYA\\u002fuYC2NZAT4d812\\u002fZ1kA9zVmyqdnWQFSatX1Q29ZAamcRSffc1kBqZxFJ99zWQIE0bRSe3tZAr84kq+vh1kCvziSr6+HWQK\\u002fOJKvr4dZAr84kq+vh1kDGm4B2kuPWQNxo3EE55dZA3GjcQTnl1kDzNTgN4ObWQPM1OA3g5tZA8zU4DeDm1kDzNTgN4ObWQAoDlNiG6NZACgOU2Ibo1kAKA5TYhujWQCDQ76Mt6tZAINDvoy3q1kAg0O+jLerWQDidS2\\u002fU69ZATmqnOnvt1kBOaqc6e+3WQGU3AwYi79ZAfARf0cjw1kB8BF\\u002fRyPDWQKmeFmgW9NZAwGtyM7311kDAa3IzvfXWQNc4zv5j99ZA1zjO\\u002fmP31kDXOM7+Y\\u002ffWQNc4zv5j99ZA7gUqygr51kDuBSrKCvnWQATThZWx+tZABNOFlbH61kAE04WVsfrWQATThZWx+tZAG6DhYFj81kAboOFgWPzWQBug4WBY\\u002fNZAMm09LP\\u002f91kBIOpn3pf\\u002fWQHbUUI7zAtdAdtRQjvMC10B21FCO8wLXQHbUUI7zAtdAjaGsWZoE10CNoaxZmgTXQI2hrFmaBNdA0QjAu44J10DRCMC7jgnXQNEIwLuOCddA0QjAu44J10DRCMC7jgnXQNEIwLuOCddA\\u002f6J3UtwM10AVcNMdgw7XQBVw0x2DDtdALD0v6SkQ10AsPS\\u002fpKRDXQCw9L+kpENdAQwqLtNAR10BDCou00BHXQEMKi7TQEddAWtfmf3cT10BwpEJLHhXXQHCkQkseFddAcKRCSx4V10CePvrhaxjXQJ4++uFrGNdAnj764WsY10C1C1atEhrXQLULVq0SGtdAtQtWrRIa10DL2LF4uRvXQMvYsXi5G9dA4qUNRGAd10DipQ1EYB3XQPlyaQ8HH9dA+XJpDwcf10BUp9g8oiXXQGt0NAhJJ9dAr9tHaj0s10DGqKM15C3XQMaoozXkLddA3HX\\u002fAIsv10D0QlvMMTHXQPRCW8wxMddAChC3l9gy10Ah3RJjfzTXQCHdEmN\\u002fNNdAId0SY38010Ah3RJjfzTXQCHdEmN\\u002fNNdAOKpuLiY210BOd8r5zDfXQE53yvnMN9dATnfK+cw310BOd8r5zDfXQGVEJsVzOddAZUQmxXM510B8EYKQGjvXQJLe3VvBPNdAqqs5J2g+10CqqzknaD7XQNdF8b21QddA7hJNiVxD10AbrQQgqkbXQDJ6YOtQSNdAduFzTUVN10B24XNNRU3XQHbhc01FTddAja7PGOxO10C7SIevOVLXQLtIh685UtdAu0iHrzlS10DRFeN64FPXQP+vmhEuV9dAFn323NRY10AsSlKoe1rXQEMXrnMiXNdAWuQJP8ld10BxsWUKcF\\u002fXQId+wdUWYddAh37B1RZh10CHfsHVFmHXQLUYeWxkZNdA4rIwA7Jn10D5f4zOWGnXQPl\\u002fjM5YaddAEE3omf9q10AQTeiZ\\u002f2rXQBBN6Jn\\u002fatdAEE3omf9q10AnGkRlpmzXQCcaRGWmbNdAPuefME1u10A+558wTW7XQD7nnzBNbtdAPuefME1u10BrgVfHmnHXQGuBV8eacddAa4FXx5px10CCTrOSQXPXQIJOs5JBc9dAr+hqKY9210DGtcb0NXjXQN2CIsDceddACh3aVip910A4t5Htd4DXQDi3ke13gNdAToTtuB6C10BOhO24HoLXQGZRSYTFg9dAZlFJhMWD10B8HqVPbIXXQHwepU9shddAfB6lT2yF10CT6wAbE4fXQJPrABsTh9dAk+sAGxOH10CT6wAbE4fXQNdSFH0HjNdA7h9wSK6N10AF7csTVY\\u002fXQBy6J9\\u002f7kNdAHLon3\\u002fuQ10Ayh4OqopLXQDKHg6qiktdAYCE7QfCV10BgITtB8JXXQGAhO0HwlddAdu6WDJeX10B27pYMl5fXQI278tc9mddAjbvy1z2Z10C7Vapui5zXQNIiBjoyntdA0iIGOjKe10DSIgY6Mp7XQP+8vdB\\u002foddA\\u002f7y90H+h10AWihmcJqPXQBaKGZwmo9dALVd1Z82k10BEJNEydKbXQEQk0TJ0ptdAWvEs\\u002fhqo10Ba8Sz+GqjXQHG+iMnBqddAiIvklGir10CIi+SUaKvXQJ5YQGAPrddAEFoLWVG110AnJ2ck+LbXQCcnZyT4ttdAJydnJPi210BUwR67RbrXQFTBHrtFutdAVMEeu0W610BrjnqG7LvXQGuOeobsu9dAsPWN6ODA10Cw9Y3o4MDXQMbC6bOHwtdA3Y9Ffy7E10Ddj0V\\u002fLsTXQN2PRX8uxNdA3Y9Ffy7E10Ddj0V\\u002fLsTXQAoq\\u002fRV8x9dACir9FXzH10A4xLSsycrXQHwryA6+z9dAqsV\\u002fpQvT10DBkttwstTXQMGS23Cy1NdAHMdKnk3b10AylKZp9NzXQGAuXgBC4NdAYC5eAELg10B3+7nL6OHXQHf7ucvo4ddAd\\u002fu5y+jh10COyBWXj+PXQKSVcWI25ddAu2LNLd3m10DSLyn5g+jXQADK4I\\u002fR69dAAMrgj9Hr10BEMfTxxfDXQFr+T71s8tdAn2VjH2H310CfZWMfYffXQJ9lYx9h99dAtjK\\u002f6gf510AQZy4Yo\\u002f\\u002fXQCc0iuNJAdhAgmj5EOUH2ECCaPkQ5QfYQN2caD6ADthACzcg1c0R2EAiBHygdBPYQDjR12sbFdhAwZ\\u002f+LwQf2EDYbFr7qiDYQNhsWvuqINhA7jm2xlEi2EDuObbGUSLYQAUHEpL4I9hABQcSkvgj2EAc1G1dnyXYQEpuJfTsKNhApKKUIYgv2EAA1wNPIzbYQEQ+F7EXO9hAmUJ4m91T2ECZQnib3VPYQJlCeJvdU9hAmUJ4m91T2ECZQnib3VPYQJlCeJvdU9hAmUJ4m91T2ECZQnib3VPYQA==\"},\"yaxis\":\"y\",\"type\":\"scatter\"}],                        {\"template\":{\"data\":{\"histogram2dcontour\":[{\"type\":\"histogram2dcontour\",\"colorbar\":{\"outlinewidth\":0,\"ticks\":\"\"},\"colorscale\":[[0.0,\"#0d0887\"],[0.1111111111111111,\"#46039f\"],[0.2222222222222222,\"#7201a8\"],[0.3333333333333333,\"#9c179e\"],[0.4444444444444444,\"#bd3786\"],[0.5555555555555556,\"#d8576b\"],[0.6666666666666666,\"#ed7953\"],[0.7777777777777778,\"#fb9f3a\"],[0.8888888888888888,\"#fdca26\"],[1.0,\"#f0f921\"]]}],\"choropleth\":[{\"type\":\"choropleth\",\"colorbar\":{\"outlinewidth\":0,\"ticks\":\"\"}}],\"histogram2d\":[{\"type\":\"histogram2d\",\"colorbar\":{\"outlinewidth\":0,\"ticks\":\"\"},\"colorscale\":[[0.0,\"#0d0887\"],[0.1111111111111111,\"#46039f\"],[0.2222222222222222,\"#7201a8\"],[0.3333333333333333,\"#9c179e\"],[0.4444444444444444,\"#bd3786\"],[0.5555555555555556,\"#d8576b\"],[0.6666666666666666,\"#ed7953\"],[0.7777777777777778,\"#fb9f3a\"],[0.8888888888888888,\"#fdca26\"],[1.0,\"#f0f921\"]]}],\"heatmap\":[{\"type\":\"heatmap\",\"colorbar\":{\"outlinewidth\":0,\"ticks\":\"\"},\"colorscale\":[[0.0,\"#0d0887\"],[0.1111111111111111,\"#46039f\"],[0.2222222222222222,\"#7201a8\"],[0.3333333333333333,\"#9c179e\"],[0.4444444444444444,\"#bd3786\"],[0.5555555555555556,\"#d8576b\"],[0.6666666666666666,\"#ed7953\"],[0.7777777777777778,\"#fb9f3a\"],[0.8888888888888888,\"#fdca26\"],[1.0,\"#f0f921\"]]}],\"contourcarpet\":[{\"type\":\"contourcarpet\",\"colorbar\":{\"outlinewidth\":0,\"ticks\":\"\"}}],\"contour\":[{\"type\":\"contour\",\"colorbar\":{\"outlinewidth\":0,\"ticks\":\"\"},\"colorscale\":[[0.0,\"#0d0887\"],[0.1111111111111111,\"#46039f\"],[0.2222222222222222,\"#7201a8\"],[0.3333333333333333,\"#9c179e\"],[0.4444444444444444,\"#bd3786\"],[0.5555555555555556,\"#d8576b\"],[0.6666666666666666,\"#ed7953\"],[0.7777777777777778,\"#fb9f3a\"],[0.8888888888888888,\"#fdca26\"],[1.0,\"#f0f921\"]]}],\"surface\":[{\"type\":\"surface\",\"colorbar\":{\"outlinewidth\":0,\"ticks\":\"\"},\"colorscale\":[[0.0,\"#0d0887\"],[0.1111111111111111,\"#46039f\"],[0.2222222222222222,\"#7201a8\"],[0.3333333333333333,\"#9c179e\"],[0.4444444444444444,\"#bd3786\"],[0.5555555555555556,\"#d8576b\"],[0.6666666666666666,\"#ed7953\"],[0.7777777777777778,\"#fb9f3a\"],[0.8888888888888888,\"#fdca26\"],[1.0,\"#f0f921\"]]}],\"mesh3d\":[{\"type\":\"mesh3d\",\"colorbar\":{\"outlinewidth\":0,\"ticks\":\"\"}}],\"scatter\":[{\"fillpattern\":{\"fillmode\":\"overlay\",\"size\":10,\"solidity\":0.2},\"type\":\"scatter\"}],\"parcoords\":[{\"type\":\"parcoords\",\"line\":{\"colorbar\":{\"outlinewidth\":0,\"ticks\":\"\"}}}],\"scatterpolargl\":[{\"type\":\"scatterpolargl\",\"marker\":{\"colorbar\":{\"outlinewidth\":0,\"ticks\":\"\"}}}],\"bar\":[{\"error_x\":{\"color\":\"#2a3f5f\"},\"error_y\":{\"color\":\"#2a3f5f\"},\"marker\":{\"line\":{\"color\":\"#E5ECF6\",\"width\":0.5},\"pattern\":{\"fillmode\":\"overlay\",\"size\":10,\"solidity\":0.2}},\"type\":\"bar\"}],\"scattergeo\":[{\"type\":\"scattergeo\",\"marker\":{\"colorbar\":{\"outlinewidth\":0,\"ticks\":\"\"}}}],\"scatterpolar\":[{\"type\":\"scatterpolar\",\"marker\":{\"colorbar\":{\"outlinewidth\":0,\"ticks\":\"\"}}}],\"histogram\":[{\"marker\":{\"pattern\":{\"fillmode\":\"overlay\",\"size\":10,\"solidity\":0.2}},\"type\":\"histogram\"}],\"scattergl\":[{\"type\":\"scattergl\",\"marker\":{\"colorbar\":{\"outlinewidth\":0,\"ticks\":\"\"}}}],\"scatter3d\":[{\"type\":\"scatter3d\",\"line\":{\"colorbar\":{\"outlinewidth\":0,\"ticks\":\"\"}},\"marker\":{\"colorbar\":{\"outlinewidth\":0,\"ticks\":\"\"}}}],\"scattermap\":[{\"type\":\"scattermap\",\"marker\":{\"colorbar\":{\"outlinewidth\":0,\"ticks\":\"\"}}}],\"scattermapbox\":[{\"type\":\"scattermapbox\",\"marker\":{\"colorbar\":{\"outlinewidth\":0,\"ticks\":\"\"}}}],\"scatterternary\":[{\"type\":\"scatterternary\",\"marker\":{\"colorbar\":{\"outlinewidth\":0,\"ticks\":\"\"}}}],\"scattercarpet\":[{\"type\":\"scattercarpet\",\"marker\":{\"colorbar\":{\"outlinewidth\":0,\"ticks\":\"\"}}}],\"carpet\":[{\"aaxis\":{\"endlinecolor\":\"#2a3f5f\",\"gridcolor\":\"white\",\"linecolor\":\"white\",\"minorgridcolor\":\"white\",\"startlinecolor\":\"#2a3f5f\"},\"baxis\":{\"endlinecolor\":\"#2a3f5f\",\"gridcolor\":\"white\",\"linecolor\":\"white\",\"minorgridcolor\":\"white\",\"startlinecolor\":\"#2a3f5f\"},\"type\":\"carpet\"}],\"table\":[{\"cells\":{\"fill\":{\"color\":\"#EBF0F8\"},\"line\":{\"color\":\"white\"}},\"header\":{\"fill\":{\"color\":\"#C8D4E3\"},\"line\":{\"color\":\"white\"}},\"type\":\"table\"}],\"barpolar\":[{\"marker\":{\"line\":{\"color\":\"#E5ECF6\",\"width\":0.5},\"pattern\":{\"fillmode\":\"overlay\",\"size\":10,\"solidity\":0.2}},\"type\":\"barpolar\"}],\"pie\":[{\"automargin\":true,\"type\":\"pie\"}]},\"layout\":{\"autotypenumbers\":\"strict\",\"colorway\":[\"#636efa\",\"#EF553B\",\"#00cc96\",\"#ab63fa\",\"#FFA15A\",\"#19d3f3\",\"#FF6692\",\"#B6E880\",\"#FF97FF\",\"#FECB52\"],\"font\":{\"color\":\"#2a3f5f\"},\"hovermode\":\"closest\",\"hoverlabel\":{\"align\":\"left\"},\"paper_bgcolor\":\"white\",\"plot_bgcolor\":\"#E5ECF6\",\"polar\":{\"bgcolor\":\"#E5ECF6\",\"angularaxis\":{\"gridcolor\":\"white\",\"linecolor\":\"white\",\"ticks\":\"\"},\"radialaxis\":{\"gridcolor\":\"white\",\"linecolor\":\"white\",\"ticks\":\"\"}},\"ternary\":{\"bgcolor\":\"#E5ECF6\",\"aaxis\":{\"gridcolor\":\"white\",\"linecolor\":\"white\",\"ticks\":\"\"},\"baxis\":{\"gridcolor\":\"white\",\"linecolor\":\"white\",\"ticks\":\"\"},\"caxis\":{\"gridcolor\":\"white\",\"linecolor\":\"white\",\"ticks\":\"\"}},\"coloraxis\":{\"colorbar\":{\"outlinewidth\":0,\"ticks\":\"\"}},\"colorscale\":{\"sequential\":[[0.0,\"#0d0887\"],[0.1111111111111111,\"#46039f\"],[0.2222222222222222,\"#7201a8\"],[0.3333333333333333,\"#9c179e\"],[0.4444444444444444,\"#bd3786\"],[0.5555555555555556,\"#d8576b\"],[0.6666666666666666,\"#ed7953\"],[0.7777777777777778,\"#fb9f3a\"],[0.8888888888888888,\"#fdca26\"],[1.0,\"#f0f921\"]],\"sequentialminus\":[[0.0,\"#0d0887\"],[0.1111111111111111,\"#46039f\"],[0.2222222222222222,\"#7201a8\"],[0.3333333333333333,\"#9c179e\"],[0.4444444444444444,\"#bd3786\"],[0.5555555555555556,\"#d8576b\"],[0.6666666666666666,\"#ed7953\"],[0.7777777777777778,\"#fb9f3a\"],[0.8888888888888888,\"#fdca26\"],[1.0,\"#f0f921\"]],\"diverging\":[[0,\"#8e0152\"],[0.1,\"#c51b7d\"],[0.2,\"#de77ae\"],[0.3,\"#f1b6da\"],[0.4,\"#fde0ef\"],[0.5,\"#f7f7f7\"],[0.6,\"#e6f5d0\"],[0.7,\"#b8e186\"],[0.8,\"#7fbc41\"],[0.9,\"#4d9221\"],[1,\"#276419\"]]},\"xaxis\":{\"gridcolor\":\"white\",\"linecolor\":\"white\",\"ticks\":\"\",\"title\":{\"standoff\":15},\"zerolinecolor\":\"white\",\"automargin\":true,\"zerolinewidth\":2},\"yaxis\":{\"gridcolor\":\"white\",\"linecolor\":\"white\",\"ticks\":\"\",\"title\":{\"standoff\":15},\"zerolinecolor\":\"white\",\"automargin\":true,\"zerolinewidth\":2},\"scene\":{\"xaxis\":{\"backgroundcolor\":\"#E5ECF6\",\"gridcolor\":\"white\",\"linecolor\":\"white\",\"showbackground\":true,\"ticks\":\"\",\"zerolinecolor\":\"white\",\"gridwidth\":2},\"yaxis\":{\"backgroundcolor\":\"#E5ECF6\",\"gridcolor\":\"white\",\"linecolor\":\"white\",\"showbackground\":true,\"ticks\":\"\",\"zerolinecolor\":\"white\",\"gridwidth\":2},\"zaxis\":{\"backgroundcolor\":\"#E5ECF6\",\"gridcolor\":\"white\",\"linecolor\":\"white\",\"showbackground\":true,\"ticks\":\"\",\"zerolinecolor\":\"white\",\"gridwidth\":2}},\"shapedefaults\":{\"line\":{\"color\":\"#2a3f5f\"}},\"annotationdefaults\":{\"arrowcolor\":\"#2a3f5f\",\"arrowhead\":0,\"arrowwidth\":1},\"geo\":{\"bgcolor\":\"white\",\"landcolor\":\"#E5ECF6\",\"subunitcolor\":\"white\",\"showland\":true,\"showlakes\":true,\"lakecolor\":\"white\"},\"title\":{\"x\":0.05},\"mapbox\":{\"style\":\"light\"}}},\"xaxis\":{\"anchor\":\"y\",\"domain\":[0.0,1.0],\"title\":{\"text\":\"Socioeconomically Disadvantaged (%)\"}},\"yaxis\":{\"anchor\":\"x\",\"domain\":[0.0,1.0],\"title\":{\"text\":\"Expense per ADA ($)\"}},\"legend\":{\"tracegroupgap\":0},\"title\":{\"subtitle\":{\"text\":\"Weak Positive Correlation\"},\"text\":\"Expense per ADA vs. Socioeconomically Disadvantaged (%)\"}},                        {\"responsive\": true}                    ).then(function(){\n                            \nvar gd = document.getElementById('17294d12-66cc-48de-801a-ae404a30a283');\nvar x = new MutationObserver(function (mutations, observer) {{\n        var display = window.getComputedStyle(gd).display;\n        if (!display || display === 'none') {{\n            console.log([gd, 'removed!']);\n            Plotly.purge(gd);\n            observer.disconnect();\n        }}\n}});\n\n// Listen for the removal of the full notebook cells\nvar notebookContainer = gd.closest('#notebook-container');\nif (notebookContainer) {{\n    x.observe(notebookContainer, {childList: true});\n}}\n\n// Listen for the clearing of the current output cell\nvar outputEl = gd.closest('.output');\nif (outputEl) {{\n    x.observe(outputEl, {childList: true});\n}}\n\n                        })                };            </script>        </div>\n</body>\n</html>"
          },
          "metadata": {},
          "output_type": "display_data"
        }
      ],
      "outputs_reference": null,
      "content_dependencies": null
    },
    {
      "cell_type": "markdown",
      "metadata": {
        "cell_id": "adcec08f9ecf4121ac893fa5c56e1971",
        "deepnote_cell_type": "markdown"
      },
      "source": "The OLS trendline suggests that the relationship appears weakly positive.\n\nIn other words, districts with higher proportions of socioeconomically disadvantaged students tend to have slightly higher per-ADA spending on average.\n\nThis may hint at the possibility that districts with more socioeconomically disadvantaged students may be provided with additional resources and support by the state, which could explain the higher per-ADA spending. This may also be an effect of the LCFF.",
      "block_group": "3e2dcffa91214f508ff73df2bc31eac4"
    },
    {
      "cell_type": "markdown",
      "metadata": {
        "formattedRanges": [
          {
            "type": "marks",
            "marks": {
              "code": true
            },
            "toCodePoint": 37,
            "fromCodePoint": 20
          }
        ],
        "cell_id": "430b95638fff480e950cd4970a4f28da",
        "deepnote_cell_type": "text-cell-h3"
      },
      "source": "### 4.5. Scatter Plot - 'Expense per ADA' vs. Percentage of Migrant Pupils",
      "block_group": "7e019ec6a93140f8a4d264fbe723acb5"
    },
    {
      "cell_type": "markdown",
      "metadata": {
        "cell_id": "9002bfb412b1426f9ca55fbe21f7e335",
        "deepnote_cell_type": "markdown"
      },
      "source": "We wondered whether migrant students may impact per-pupil spending due to their unique needs and the resources required to support them.",
      "block_group": "77eaaa186c1548ca927357c285820e61"
    },
    {
      "cell_type": "code",
      "metadata": {
        "source_hash": "9ea4a1e8",
        "execution_start": 1760127668437,
        "execution_millis": 34,
        "execution_context_id": "79fa4d62-8961-4dfa-a5c8-892d38695664",
        "cell_id": "af08a0fe018141f0ab762c349e99bb31",
        "deepnote_cell_type": "code"
      },
      "source": "fig_migrant = px.scatter(\n    district_and_expenses,\n    x='Migrant (%)',\n    y='Expense per ADA',\n    hover_data=['District Name', 'County Name'],\n    title='Expense per ADA vs. Migrant (%)',\n    labels={'Migrant (%)': 'Migrant (%)', 'Expense per ADA': 'Expense per ADA ($)'},\n    trendline='ols',\n    trendline_color_override='red'\n)\nfig_migrant.show()",
      "block_group": "334e0b359c1e4c189fd831c25372f594",
      "execution_count": 12,
      "outputs": [
        {
          "data": {
            "text/html": "<html>\n<head><meta charset=\"utf-8\" /></head>\n<body>\n    <div>            <script src=\"https://cdnjs.cloudflare.com/ajax/libs/mathjax/2.7.5/MathJax.js?config=TeX-AMS-MML_SVG\"></script><script type=\"text/javascript\">if (window.MathJax && window.MathJax.Hub && window.MathJax.Hub.Config) {window.MathJax.Hub.Config({SVG: {font: \"STIX-Web\"}});}</script>                <script type=\"text/javascript\">window.PlotlyConfig = {MathJaxConfig: 'local'};</script>\n        <script charset=\"utf-8\" src=\"https://cdn.plot.ly/plotly-3.1.0.min.js\" integrity=\"sha256-Ei4740bWZhaUTQuD6q9yQlgVCMPBz6CZWhevDYPv93A=\" crossorigin=\"anonymous\"></script>                <div id=\"557927c8-9bda-4b46-a09d-376171fab40e\" class=\"plotly-graph-div\" style=\"height:525px; width:100%;\"></div>            <script type=\"text/javascript\">                window.PLOTLYENV=window.PLOTLYENV || {};                                if (document.getElementById(\"557927c8-9bda-4b46-a09d-376171fab40e\")) {                    Plotly.newPlot(                        \"557927c8-9bda-4b46-a09d-376171fab40e\",                        [{\"customdata\":[[\"Alameda Unified\",\"Alameda\"],[\"Albany City Unified\",\"Alameda\"],[\"Berkeley Unified\",\"Alameda\"],[\"Castro Valley Unified\",\"Alameda\"],[\"Emery Unified\",\"Alameda\"],[\"Fremont Unified\",\"Alameda\"],[\"Hayward Unified\",\"Alameda\"],[\"Livermore Valley Joint Unified\",\"Alameda\"],[\"Mountain House Elementary\",\"Alameda\"],[\"Newark Unified\",\"Alameda\"],[\"New Haven Unified\",\"Alameda\"],[\"Oakland Unified\",\"Alameda\"],[\"Piedmont City Unified\",\"Alameda\"],[\"San Leandro Unified\",\"Alameda\"],[\"San Lorenzo Unified\",\"Alameda\"],[\"Dublin Unified\",\"Alameda\"],[\"Pleasanton Unified\",\"Alameda\"],[\"Sunol Glen Unified\",\"Alameda\"],[\"Alpine County Unified\",\"Alpine\"],[\"Amador County Unified\",\"Amador\"],[\"Bangor Union Elementary\",\"Butte\"],[\"Biggs Unified\",\"Butte\"],[\"Chico Unified\",\"Butte\"],[\"Durham Unified\",\"Butte\"],[\"Golden Feather Union Elementary\",\"Butte\"],[\"Manzanita Elementary\",\"Butte\"],[\"Oroville City Elementary\",\"Butte\"],[\"Oroville Union High\",\"Butte\"],[\"Palermo Union Elementary\",\"Butte\"],[\"Paradise Unified\",\"Butte\"],[\"Thermalito Union Elementary\",\"Butte\"],[\"Pioneer Union Elementary\",\"Butte\"],[\"Gridley Unified\",\"Butte\"],[\"Bret Harte Union High\",\"Calaveras\"],[\"Calaveras Unified\",\"Calaveras\"],[\"Mark Twain Union Elementary\",\"Calaveras\"],[\"Vallecito Union Elementary\",\"Calaveras\"],[\"Colusa Unified\",\"Colusa\"],[\"Maxwell Unified\",\"Colusa\"],[\"Pierce Joint Unified\",\"Colusa\"],[\"Williams Unified\",\"Colusa\"],[\"Acalanes Union High\",\"Contra Costa\"],[\"Antioch Unified\",\"Contra Costa\"],[\"Brentwood Union Elementary\",\"Contra Costa\"],[\"Byron Union Elementary\",\"Contra Costa\"],[\"Canyon Elementary\",\"Contra Costa\"],[\"John Swett Unified\",\"Contra Costa\"],[\"Knightsen Elementary\",\"Contra Costa\"],[\"Lafayette Elementary\",\"Contra Costa\"],[\"Liberty Union High\",\"Contra Costa\"],[\"Martinez Unified\",\"Contra Costa\"],[\"Moraga Elementary\",\"Contra Costa\"],[\"Mt. Diablo Unified\",\"Contra Costa\"],[\"Oakley Union Elementary\",\"Contra Costa\"],[\"Orinda Union Elementary\",\"Contra Costa\"],[\"Pittsburg Unified\",\"Contra Costa\"],[\"West Contra Costa Unified\",\"Contra Costa\"],[\"San Ramon Valley Unified\",\"Contra Costa\"],[\"Walnut Creek Elementary\",\"Contra Costa\"],[\"Del Norte County Unified\",\"Del Norte\"],[\"Buckeye Union Elementary\",\"El Dorado\"],[\"Camino Union Elementary\",\"El Dorado\"],[\"El Dorado Union High\",\"El Dorado\"],[\"Gold Oak Union Elementary\",\"El Dorado\"],[\"Gold Trail Union Elementary\",\"El Dorado\"],[\"Indian Diggings Elementary\",\"El Dorado\"],[\"Lake Tahoe Unified\",\"El Dorado\"],[\"Latrobe Elementary\",\"El Dorado\"],[\"Mother Lode Union Elementary\",\"El Dorado\"],[\"Pioneer Union Elementary\",\"El Dorado\"],[\"Placerville Union Elementary\",\"El Dorado\"],[\"Pollock Pines Elementary\",\"El Dorado\"],[\"Rescue Union Elementary\",\"El Dorado\"],[\"Silver Fork Elementary\",\"El Dorado\"],[\"Black Oak Mine Unified\",\"El Dorado\"],[\"Alvina Elementary\",\"Fresno\"],[\"Big Creek Elementary\",\"Fresno\"],[\"Burrel Union Elementary\",\"Fresno\"],[\"Clay Joint Elementary\",\"Fresno\"],[\"Clovis Unified\",\"Fresno\"],[\"Coalinga-Huron Unified\",\"Fresno\"],[\"Fowler Unified\",\"Fresno\"],[\"Fresno Unified\",\"Fresno\"],[\"Kingsburg Elementary Charter\",\"Fresno\"],[\"Kingsburg Joint Union High\",\"Fresno\"],[\"Kings Canyon Joint Unified\",\"Fresno\"],[\"Laton Joint Unified\",\"Fresno\"],[\"Monroe Elementary\",\"Fresno\"],[\"Orange Center Elementary\",\"Fresno\"],[\"Pacific Union Elementary\",\"Fresno\"],[\"Parlier Unified\",\"Fresno\"],[\"Pine Ridge Elementary\",\"Fresno\"],[\"Raisin City Elementary\",\"Fresno\"],[\"Sanger Unified\",\"Fresno\"],[\"Selma Unified\",\"Fresno\"],[\"Washington Colony Elementary\",\"Fresno\"],[\"West Park Elementary\",\"Fresno\"],[\"Westside Elementary\",\"Fresno\"],[\"Firebaugh-Las Deltas Unified\",\"Fresno\"],[\"Central Unified\",\"Fresno\"],[\"Kerman Unified\",\"Fresno\"],[\"Mendota Unified\",\"Fresno\"],[\"Golden Plains Unified\",\"Fresno\"],[\"Sierra Unified\",\"Fresno\"],[\"Riverdale Joint Unified\",\"Fresno\"],[\"Caruthers Unified\",\"Fresno\"],[\"Washington Unified\",\"Fresno\"],[\"Capay Joint Union Elementary\",\"Glenn\"],[\"Lake Elementary\",\"Glenn\"],[\"Plaza Elementary\",\"Glenn\"],[\"Princeton Joint Unified\",\"Glenn\"],[\"Stony Creek Joint Unified\",\"Glenn\"],[\"Willows Unified\",\"Glenn\"],[\"Orland Joint Unified\",\"Glenn\"],[\"Hamilton Unified\",\"Glenn\"],[\"Arcata Elementary\",\"Humboldt\"],[\"Northern Humboldt Union High\",\"Humboldt\"],[\"Big Lagoon Union Elementary\",\"Humboldt\"],[\"Blue Lake Union Elementary\",\"Humboldt\"],[\"Bridgeville Elementary\",\"Humboldt\"],[\"Cuddeback Union Elementary\",\"Humboldt\"],[\"Cutten Elementary\",\"Humboldt\"],[\"Fieldbrook Elementary\",\"Humboldt\"],[\"Fortuna Union High\",\"Humboldt\"],[\"Freshwater Elementary\",\"Humboldt\"],[\"Garfield Elementary\",\"Humboldt\"],[\"Green Point Elementary\",\"Humboldt\"],[\"Hydesville Elementary\",\"Humboldt\"],[\"Jacoby Creek Elementary\",\"Humboldt\"],[\"Klamath-Trinity Joint Unified\",\"Humboldt\"],[\"Kneeland Elementary\",\"Humboldt\"],[\"Loleta Union Elementary\",\"Humboldt\"],[\"Maple Creek Elementary\",\"Humboldt\"],[\"Mckinleyville Union Elementary\",\"Humboldt\"],[\"Orick Elementary\",\"Humboldt\"],[\"Pacific Union Elementary\",\"Humboldt\"],[\"Peninsula Union Elementary\",\"Humboldt\"],[\"Rio Dell Elementary\",\"Humboldt\"],[\"Scotia Union Elementary\",\"Humboldt\"],[\"South Bay Union Elementary\",\"Humboldt\"],[\"Southern Humboldt Joint Unified\",\"Humboldt\"],[\"Trinidad Union Elementary\",\"Humboldt\"],[\"Ferndale Unified\",\"Humboldt\"],[\"Mattole Unified\",\"Humboldt\"],[\"Eureka City Unified\",\"Humboldt\"],[\"Fortuna Elementary\",\"Humboldt\"],[\"Brawley Elementary\",\"Imperial\"],[\"Brawley Union High\",\"Imperial\"],[\"Calexico Unified\",\"Imperial\"],[\"Calipatria Unified\",\"Imperial\"],[\"Central Union High\",\"Imperial\"],[\"El Centro Elementary\",\"Imperial\"],[\"Heber Elementary\",\"Imperial\"],[\"Holtville Unified\",\"Imperial\"],[\"Imperial Unified\",\"Imperial\"],[\"Magnolia Union Elementary\",\"Imperial\"],[\"Mccabe Union Elementary\",\"Imperial\"],[\"Meadows Union Elementary\",\"Imperial\"],[\"Mulberry Elementary\",\"Imperial\"],[\"San Pasqual Valley Unified\",\"Imperial\"],[\"Seeley Union Elementary\",\"Imperial\"],[\"Westmorland Union Elementary\",\"Imperial\"],[\"Big Pine Unified\",\"Inyo\"],[\"Death Valley Unified\",\"Inyo\"],[\"Lone Pine Unified\",\"Inyo\"],[\"Owens Valley Unified\",\"Inyo\"],[\"Round Valley Joint Elementary\",\"Inyo\"],[\"Bishop Unified\",\"Inyo\"],[\"Arvin Union Elementary\",\"Kern\"],[\"Bakersfield City Elementary\",\"Kern\"],[\"Beardsley Elementary\",\"Kern\"],[\"Blake Elementary\",\"Kern\"],[\"Panama-Buena Vista Union Elementary\",\"Kern\"],[\"Buttonwillow Union Elementary\",\"Kern\"],[\"Caliente Union Elementary\",\"Kern\"],[\"Delano Union Elementary\",\"Kern\"],[\"Delano Joint Union High\",\"Kern\"],[\"Di Giorgio Elementary\",\"Kern\"],[\"Edison Elementary\",\"Kern\"],[\"Elk Hills Elementary\",\"Kern\"],[\"Fairfax Elementary\",\"Kern\"],[\"Fruitvale Elementary\",\"Kern\"],[\"General Shafter Elementary\",\"Kern\"],[\"Greenfield Union\",\"Kern\"],[\"Kern High\",\"Kern\"],[\"Kernville Union Elementary\",\"Kern\"],[\"Lakeside Union Elementary\",\"Kern\"],[\"Lamont Elementary\",\"Kern\"],[\"Richland Union Elementary\",\"Kern\"],[\"Linns Valley-Poso Flat Union\",\"Kern\"],[\"Lost Hills Union Elementary\",\"Kern\"],[\"Maple Elementary\",\"Kern\"],[\"Maricopa Unified\",\"Kern\"],[\"Mckittrick Elementary\",\"Kern\"],[\"Midway Elementary\",\"Kern\"],[\"Mojave Unified\",\"Kern\"],[\"Muroc Joint Unified\",\"Kern\"],[\"Norris Elementary\",\"Kern\"],[\"Pond Union Elementary\",\"Kern\"],[\"Rosedale Union Elementary\",\"Kern\"],[\"Semitropic Elementary\",\"Kern\"],[\"Southern Kern Unified\",\"Kern\"],[\"South Fork Union Elementary\",\"Kern\"],[\"Standard Elementary\",\"Kern\"],[\"Taft City Elementary\",\"Kern\"],[\"Taft Union High\",\"Kern\"],[\"Tehachapi Unified\",\"Kern\"],[\"Vineland Elementary\",\"Kern\"],[\"Wasco Union Elementary\",\"Kern\"],[\"Wasco Union High\",\"Kern\"],[\"Rio Bravo-Greeley Union Elementary\",\"Kern\"],[\"Sierra Sands Unified\",\"Kern\"],[\"Mcfarland Unified\",\"Kern\"],[\"El Tejon Unified\",\"Kern\"],[\"Armona Union Elementary\",\"Kings\"],[\"Central Union Elementary\",\"Kings\"],[\"Corcoran Joint Unified\",\"Kings\"],[\"Hanford Elementary\",\"Kings\"],[\"Hanford Joint Union High\",\"Kings\"],[\"Island Union Elementary\",\"Kings\"],[\"Kings River-Hardwick Union Elementary\",\"Kings\"],[\"Kit Carson Union Elementary\",\"Kings\"],[\"Lakeside Union Elementary\",\"Kings\"],[\"Lemoore Union Elementary\",\"Kings\"],[\"Lemoore Union High\",\"Kings\"],[\"Pioneer Union Elementary\",\"Kings\"],[\"Reef-Sunset Unified\",\"Kings\"],[\"Kelseyville Unified\",\"Lake\"],[\"Konocti Unified\",\"Lake\"],[\"Lakeport Unified\",\"Lake\"],[\"Lucerne Elementary\",\"Lake\"],[\"Middletown Unified\",\"Lake\"],[\"Upper Lake Unified\",\"Lake\"],[\"Big Valley Joint Unified\",\"Lassen\"],[\"Janesville Union Elementary\",\"Lassen\"],[\"Johnstonville Elementary\",\"Lassen\"],[\"Lassen Union High\",\"Lassen\"],[\"Ravendale-Termo Elementary\",\"Lassen\"],[\"Richmond Elementary\",\"Lassen\"],[\"Shaffer Union Elementary\",\"Lassen\"],[\"Susanville Elementary\",\"Lassen\"],[\"Westwood Unified\",\"Lassen\"],[\"Fort Sage Unified\",\"Lassen\"],[\"ABC Unified\",\"Los Angeles\"],[\"Antelope Valley Union High\",\"Los Angeles\"],[\"Arcadia Unified\",\"Los Angeles\"],[\"Azusa Unified\",\"Los Angeles\"],[\"Baldwin Park Unified\",\"Los Angeles\"],[\"Bassett Unified\",\"Los Angeles\"],[\"Bellflower Unified\",\"Los Angeles\"],[\"Beverly Hills Unified\",\"Los Angeles\"],[\"Bonita Unified\",\"Los Angeles\"],[\"Burbank Unified\",\"Los Angeles\"],[\"Castaic Union Elementary\",\"Los Angeles\"],[\"Centinela Valley Union High\",\"Los Angeles\"],[\"Charter Oak Unified\",\"Los Angeles\"],[\"Claremont Unified\",\"Los Angeles\"],[\"Covina-Valley Unified\",\"Los Angeles\"],[\"Culver City Unified\",\"Los Angeles\"],[\"Downey Unified\",\"Los Angeles\"],[\"Duarte Unified\",\"Los Angeles\"],[\"Eastside Union Elementary\",\"Los Angeles\"],[\"East Whittier City Elementary\",\"Los Angeles\"],[\"El Monte City Elementary\",\"Los Angeles\"],[\"El Monte Union High\",\"Los Angeles\"],[\"El Rancho Unified\",\"Los Angeles\"],[\"El Segundo Unified\",\"Los Angeles\"],[\"Garvey Elementary\",\"Los Angeles\"],[\"Glendale Unified\",\"Los Angeles\"],[\"Glendora Unified\",\"Los Angeles\"],[\"Gorman Joint\",\"Los Angeles\"],[\"Hawthorne Elementary\",\"Los Angeles\"],[\"Hermosa Beach City Elementary\",\"Los Angeles\"],[\"Hughes-Elizabeth Lakes Union Elementary\",\"Los Angeles\"],[\"Inglewood Unified\",\"Los Angeles\"],[\"Keppel Union Elementary\",\"Los Angeles\"],[\"La Canada Unified\",\"Los Angeles\"],[\"Lancaster Elementary\",\"Los Angeles\"],[\"Lawndale Elementary\",\"Los Angeles\"],[\"Lennox Elementary\",\"Los Angeles\"],[\"Little Lake City Elementary\",\"Los Angeles\"],[\"Long Beach Unified\",\"Los Angeles\"],[\"Los Angeles Unified\",\"Los Angeles\"],[\"Los Nietos Elementary\",\"Los Angeles\"],[\"Lynwood Unified\",\"Los Angeles\"],[\"Monrovia Unified\",\"Los Angeles\"],[\"Montebello Unified\",\"Los Angeles\"],[\"Mountain View Elementary\",\"Los Angeles\"],[\"Newhall Elementary\",\"Los Angeles\"],[\"Norwalk-La Mirada Unified\",\"Los Angeles\"],[\"Palmdale Elementary\",\"Los Angeles\"],[\"Palos Verdes Peninsula Unified\",\"Los Angeles\"],[\"Paramount Unified\",\"Los Angeles\"],[\"Pasadena Unified\",\"Los Angeles\"],[\"Pomona Unified\",\"Los Angeles\"],[\"Rosemead Elementary\",\"Los Angeles\"],[\"San Marino Unified\",\"Los Angeles\"],[\"Santa Monica-Malibu Unified\",\"Los Angeles\"],[\"Saugus Union Elementary\",\"Los Angeles\"],[\"South Pasadena Unified\",\"Los Angeles\"],[\"South Whittier Elementary\",\"Los Angeles\"],[\"Sulphur Springs Union Elementary\",\"Los Angeles\"],[\"Temple City Unified\",\"Los Angeles\"],[\"Torrance Unified\",\"Los Angeles\"],[\"Valle Lindo Elementary\",\"Los Angeles\"],[\"West Covina Unified\",\"Los Angeles\"],[\"Westside Union Elementary\",\"Los Angeles\"],[\"Whittier City Elementary\",\"Los Angeles\"],[\"Whittier Union High\",\"Los Angeles\"],[\"William S. Hart Union High\",\"Los Angeles\"],[\"Wilsona Elementary\",\"Los Angeles\"],[\"Compton Unified\",\"Los Angeles\"],[\"Hacienda La Puente Unified\",\"Los Angeles\"],[\"Rowland Unified\",\"Los Angeles\"],[\"Walnut Valley Unified\",\"Los Angeles\"],[\"San Gabriel Unified\",\"Los Angeles\"],[\"Acton-Agua Dulce Unified\",\"Los Angeles\"],[\"Manhattan Beach Unified\",\"Los Angeles\"],[\"Redondo Beach Unified\",\"Los Angeles\"],[\"Alhambra Unified\",\"Los Angeles\"],[\"Wiseburn Unified\",\"Los Angeles\"],[\"Alview-Dairyland Union Elementary\",\"Madera\"],[\"Bass Lake Joint Union Elementary\",\"Madera\"],[\"Chowchilla Elementary\",\"Madera\"],[\"Chowchilla Union High\",\"Madera\"],[\"Madera Unified\",\"Madera\"],[\"Raymond-Knowles Union Elementary\",\"Madera\"],[\"Golden Valley Unified\",\"Madera\"],[\"Chawanakee Unified\",\"Madera\"],[\"Yosemite Unified\",\"Madera\"],[\"Bolinas-Stinson Union Elementary\",\"Marin\"],[\"Miller Creek Elementary\",\"Marin\"],[\"Kentfield Elementary\",\"Marin\"],[\"Laguna Joint Elementary\",\"Marin\"],[\"Lagunitas Elementary\",\"Marin\"],[\"Larkspur-Corte Madera\",\"Marin\"],[\"Mill Valley Elementary\",\"Marin\"],[\"Nicasio Elementary\",\"Marin\"],[\"Novato Unified\",\"Marin\"],[\"Reed Union Elementary\",\"Marin\"],[\"Ross Elementary\",\"Marin\"],[\"San Rafael City Elementary\",\"Marin\"],[\"San Rafael City High\",\"Marin\"],[\"Sausalito Marin City Elementary\",\"Marin\"],[\"Tamalpais Union High\",\"Marin\"],[\"Shoreline Unified\",\"Marin\"],[\"Ross Valley Elementary\",\"Marin\"],[\"Mariposa County Unified\",\"Mariposa\"],[\"Anderson Valley Unified\",\"Mendocino\"],[\"Fort Bragg Unified\",\"Mendocino\"],[\"Manchester Union Elementary\",\"Mendocino\"],[\"Mendocino Unified\",\"Mendocino\"],[\"Round Valley Unified\",\"Mendocino\"],[\"Ukiah Unified\",\"Mendocino\"],[\"Willits Unified\",\"Mendocino\"],[\"Potter Valley Community Unified\",\"Mendocino\"],[\"Laytonville Unified\",\"Mendocino\"],[\"Leggett Valley Unified\",\"Mendocino\"],[\"Atwater Elementary\",\"Merced\"],[\"Ballico-Cressey Elementary\",\"Merced\"],[\"El Nido Elementary\",\"Merced\"],[\"Hilmar Unified\",\"Merced\"],[\"Le Grand Union Elementary\",\"Merced\"],[\"Le Grand Union High\",\"Merced\"],[\"Livingston Union Elementary\",\"Merced\"],[\"Los Banos Unified\",\"Merced\"],[\"McSwain Union Elementary\",\"Merced\"],[\"Merced City Elementary\",\"Merced\"],[\"Merced Union High\",\"Merced\"],[\"Plainsburg Union Elementary\",\"Merced\"],[\"Planada Elementary\",\"Merced\"],[\"Snelling-Merced Falls Union Elementary\",\"Merced\"],[\"Weaver Union Elementary\",\"Merced\"],[\"Winton Elementary\",\"Merced\"],[\"Gustine Unified\",\"Merced\"],[\"Merced River Union Elementary\",\"Merced\"],[\"Dos Palos Oro Loma Joint Unified\",\"Merced\"],[\"Delhi Unified\",\"Merced\"],[\"Surprise Valley Joint Unified\",\"Modoc\"],[\"Modoc Joint Unified\",\"Modoc\"],[\"Tulelake Basin Joint Unified\",\"Modoc\"],[\"Eastern Sierra Unified\",\"Mono\"],[\"Mammoth Unified\",\"Mono\"],[\"Alisal Union Elementary\",\"Monterey\"],[\"Bradley Union Elementary\",\"Monterey\"],[\"Carmel Unified\",\"Monterey\"],[\"Chualar Union Elementary\",\"Monterey\"],[\"Graves Elementary\",\"Monterey\"],[\"Greenfield Union Elementary\",\"Monterey\"],[\"King City Union Elementary\",\"Monterey\"],[\"South Monterey County Joint Union High\",\"Monterey\"],[\"Lagunita Elementary\",\"Monterey\"],[\"Mission Union Elementary\",\"Monterey\"],[\"Monterey Peninsula Unified\",\"Monterey\"],[\"Pacific Grove Unified\",\"Monterey\"],[\"Salinas City Elementary\",\"Monterey\"],[\"Salinas Union High\",\"Monterey\"],[\"San Antonio Union Elementary\",\"Monterey\"],[\"San Ardo Union Elementary\",\"Monterey\"],[\"San Lucas Union Elementary\",\"Monterey\"],[\"Santa Rita Union Elementary\",\"Monterey\"],[\"Spreckels Union Elementary\",\"Monterey\"],[\"Washington Union Elementary\",\"Monterey\"],[\"North Monterey County Unified\",\"Monterey\"],[\"Big Sur Unified\",\"Monterey\"],[\"Soledad Unified\",\"Monterey\"],[\"Gonzales Unified\",\"Monterey\"],[\"Calistoga Joint Unified\",\"Napa\"],[\"Howell Mountain Elementary\",\"Napa\"],[\"Napa Valley Unified\",\"Napa\"],[\"Pope Valley Union Elementary\",\"Napa\"],[\"Saint Helena Unified\",\"Napa\"],[\"Chicago Park Elementary\",\"Nevada\"],[\"Clear Creek Elementary\",\"Nevada\"],[\"Grass Valley Elementary\",\"Nevada\"],[\"Nevada City Elementary\",\"Nevada\"],[\"Nevada Joint Union High\",\"Nevada\"],[\"Pleasant Ridge Union Elementary\",\"Nevada\"],[\"Union Hill Elementary\",\"Nevada\"],[\"Twin Ridges Elementary\",\"Nevada\"],[\"Penn Valley Union Elementary\",\"Nevada\"],[\"Lowell Joint Elementary\",\"Orange\"],[\"Anaheim Elementary\",\"Orange\"],[\"Anaheim Union High\",\"Orange\"],[\"Brea-Olinda Unified\",\"Orange\"],[\"Buena Park Elementary\",\"Orange\"],[\"Capistrano Unified\",\"Orange\"],[\"Centralia Elementary\",\"Orange\"],[\"Cypress Elementary\",\"Orange\"],[\"Fountain Valley Elementary\",\"Orange\"],[\"Fullerton Elementary\",\"Orange\"],[\"Fullerton Joint Union High\",\"Orange\"],[\"Garden Grove Unified\",\"Orange\"],[\"Huntington Beach City Elementary\",\"Orange\"],[\"Huntington Beach Union High\",\"Orange\"],[\"Laguna Beach Unified\",\"Orange\"],[\"La Habra City Elementary\",\"Orange\"],[\"Magnolia Elementary\",\"Orange\"],[\"Newport-Mesa Unified\",\"Orange\"],[\"Ocean View Elementary\",\"Orange\"],[\"Orange Unified\",\"Orange\"],[\"Placentia-Yorba Linda Unified\",\"Orange\"],[\"Santa Ana Unified\",\"Orange\"],[\"Savanna Elementary\",\"Orange\"],[\"Westminster Elementary\",\"Orange\"],[\"Saddleback Valley Unified\",\"Orange\"],[\"Tustin Unified\",\"Orange\"],[\"Irvine Unified\",\"Orange\"],[\"Los Alamitos Unified\",\"Orange\"],[\"Ackerman Charter\",\"Placer\"],[\"Alta-Dutch Flat Union Elementary\",\"Placer\"],[\"Auburn Union Elementary\",\"Placer\"],[\"Colfax Elementary\",\"Placer\"],[\"Dry Creek Joint Elementary\",\"Placer\"],[\"Eureka Union Elementary\",\"Placer\"],[\"Foresthill Union Elementary\",\"Placer\"],[\"Loomis Union Elementary\",\"Placer\"],[\"Newcastle Elementary\",\"Placer\"],[\"Placer Hills Union Elementary\",\"Placer\"],[\"Placer Union High\",\"Placer\"],[\"Roseville City Elementary\",\"Placer\"],[\"Roseville Joint Union High\",\"Placer\"],[\"Tahoe-Truckee Unified\",\"Placer\"],[\"Western Placer Unified\",\"Placer\"],[\"Rocklin Unified\",\"Placer\"],[\"Plumas Unified\",\"Plumas\"],[\"Alvord Unified\",\"Riverside\"],[\"Banning Unified\",\"Riverside\"],[\"Beaumont Unified\",\"Riverside\"],[\"Corona-Norco Unified\",\"Riverside\"],[\"Desert Center Unified\",\"Riverside\"],[\"Desert Sands Unified\",\"Riverside\"],[\"Hemet Unified\",\"Riverside\"],[\"Jurupa Unified\",\"Riverside\"],[\"Menifee Union Elementary\",\"Riverside\"],[\"Moreno Valley Unified\",\"Riverside\"],[\"Nuview Union Elementary\",\"Riverside\"],[\"Palm Springs Unified\",\"Riverside\"],[\"Palo Verde Unified\",\"Riverside\"],[\"Perris Elementary\",\"Riverside\"],[\"Perris Union High\",\"Riverside\"],[\"Riverside Unified\",\"Riverside\"],[\"Romoland Elementary\",\"Riverside\"],[\"San Jacinto Unified\",\"Riverside\"],[\"Coachella Valley Unified\",\"Riverside\"],[\"Lake Elsinore Unified\",\"Riverside\"],[\"Temecula Valley Unified\",\"Riverside\"],[\"Murrieta Valley Unified\",\"Riverside\"],[\"Val Verde Unified\",\"Riverside\"],[\"Arcohe Union Elementary\",\"Sacramento\"],[\"Elk Grove Unified\",\"Sacramento\"],[\"Elverta Joint Elementary\",\"Sacramento\"],[\"Folsom-Cordova Unified\",\"Sacramento\"],[\"Galt Joint Union Elementary\",\"Sacramento\"],[\"Galt Joint Union High\",\"Sacramento\"],[\"River Delta Joint Unified\",\"Sacramento\"],[\"Robla Elementary\",\"Sacramento\"],[\"Sacramento City Unified\",\"Sacramento\"],[\"San Juan Unified\",\"Sacramento\"],[\"Center Joint Unified\",\"Sacramento\"],[\"Natomas Unified\",\"Sacramento\"],[\"Twin Rivers Unified\",\"Sacramento\"],[\"Bitterwater-Tully Elementary\",\"San Benito\"],[\"Cienega Union Elementary\",\"San Benito\"],[\"Hollister Elementary\",\"San Benito\"],[\"Jefferson Elementary\",\"San Benito\"],[\"North County Joint Union Elementary\",\"San Benito\"],[\"Panoche Elementary\",\"San Benito\"],[\"San Benito High\",\"San Benito\"],[\"Southside Elementary\",\"San Benito\"],[\"Tres Pinos Union Elementary\",\"San Benito\"],[\"Willow Grove Union Elementary\",\"San Benito\"],[\"Aromas - San Juan Unified\",\"San Benito\"],[\"Adelanto Elementary\",\"San Bernardino\"],[\"Alta Loma Elementary\",\"San Bernardino\"],[\"Barstow Unified\",\"San Bernardino\"],[\"Bear Valley Unified\",\"San Bernardino\"],[\"Central Elementary\",\"San Bernardino\"],[\"Chaffey Joint Union High\",\"San Bernardino\"],[\"Chino Valley Unified\",\"San Bernardino\"],[\"Colton Joint Unified\",\"San Bernardino\"],[\"Cucamonga Elementary\",\"San Bernardino\"],[\"Etiwanda Elementary\",\"San Bernardino\"],[\"Fontana Unified\",\"San Bernardino\"],[\"Helendale Elementary\",\"San Bernardino\"],[\"Morongo Unified\",\"San Bernardino\"],[\"Mountain View Elementary\",\"San Bernardino\"],[\"Mt. Baldy Joint Elementary\",\"San Bernardino\"],[\"Needles Unified\",\"San Bernardino\"],[\"Ontario-Montclair Elementary\",\"San Bernardino\"],[\"Oro Grande Elementary\",\"San Bernardino\"],[\"Redlands Unified\",\"San Bernardino\"],[\"Rialto Unified\",\"San Bernardino\"],[\"Rim of The World Unified\",\"San Bernardino\"],[\"San Bernardino City Unified\",\"San Bernardino\"],[\"Trona Joint Unified\",\"San Bernardino\"],[\"Victor Elementary\",\"San Bernardino\"],[\"Victor Valley Union High\",\"San Bernardino\"],[\"Yucaipa-Calimesa Joint Unified\",\"San Bernardino\"],[\"Baker Valley Unified\",\"San Bernardino\"],[\"Silver Valley Unified\",\"San Bernardino\"],[\"Snowline Joint Unified\",\"San Bernardino\"],[\"Hesperia Unified\",\"San Bernardino\"],[\"Lucerne Valley Unified\",\"San Bernardino\"],[\"Upland Unified\",\"San Bernardino\"],[\"Apple Valley Unified\",\"San Bernardino\"],[\"Alpine Union Elementary\",\"San Diego\"],[\"Borrego Springs Unified\",\"San Diego\"],[\"Cajon Valley Union Elementary\",\"San Diego\"],[\"Cardiff Elementary\",\"San Diego\"],[\"Chula Vista Elementary\",\"San Diego\"],[\"Coronado Unified\",\"San Diego\"],[\"Dehesa Elementary\",\"San Diego\"],[\"Del Mar Union Elementary\",\"San Diego\"],[\"Encinitas Union Elementary\",\"San Diego\"],[\"Escondido Union Elementary\",\"San Diego\"],[\"Escondido Union High\",\"San Diego\"],[\"Fallbrook Union Elementary\",\"San Diego\"],[\"Fallbrook Union High\",\"San Diego\"],[\"Grossmont Union High\",\"San Diego\"],[\"Jamul-Dulzura Union Elementary\",\"San Diego\"],[\"Julian Union Elementary\",\"San Diego\"],[\"Julian Union High\",\"San Diego\"],[\"Lakeside Union Elementary\",\"San Diego\"],[\"La Mesa-Spring Valley\",\"San Diego\"],[\"Lemon Grove Elementary\",\"San Diego\"],[\"Mountain Empire Unified\",\"San Diego\"],[\"National Elementary\",\"San Diego\"],[\"Poway Unified\",\"San Diego\"],[\"Ramona City Unified\",\"San Diego\"],[\"Rancho Santa Fe Elementary\",\"San Diego\"],[\"San Diego Unified\",\"San Diego\"],[\"San Dieguito Union High\",\"San Diego\"],[\"San Pasqual Union Elementary\",\"San Diego\"],[\"Santee Elementary\",\"San Diego\"],[\"San Ysidro Elementary\",\"San Diego\"],[\"Solana Beach Elementary\",\"San Diego\"],[\"South Bay Union Elementary\",\"San Diego\"],[\"Spencer Valley Elementary\",\"San Diego\"],[\"Sweetwater Union High\",\"San Diego\"],[\"Vallecitos Elementary\",\"San Diego\"],[\"Vista Unified\",\"San Diego\"],[\"Carlsbad Unified\",\"San Diego\"],[\"Oceanside Unified\",\"San Diego\"],[\"San Marcos Unified\",\"San Diego\"],[\"Warner Unified\",\"San Diego\"],[\"Valley Center-Pauma Unified\",\"San Diego\"],[\"Bonsall Unified\",\"San Diego\"],[\"San Francisco Unified\",\"San Francisco\"],[\"Escalon Unified\",\"San Joaquin\"],[\"Jefferson Elementary\",\"San Joaquin\"],[\"Lincoln Unified\",\"San Joaquin\"],[\"Linden Unified\",\"San Joaquin\"],[\"Lodi Unified\",\"San Joaquin\"],[\"Manteca Unified\",\"San Joaquin\"],[\"New Hope Elementary\",\"San Joaquin\"],[\"Oak View Union Elementary\",\"San Joaquin\"],[\"Ripon Unified\",\"San Joaquin\"],[\"Stockton Unified\",\"San Joaquin\"],[\"Tracy Joint Unified\",\"San Joaquin\"],[\"Lammersville Joint Unified\",\"San Joaquin\"],[\"Banta Unified\",\"San Joaquin\"],[\"Atascadero Unified\",\"San Luis Obispo\"],[\"Cayucos Elementary\",\"San Luis Obispo\"],[\"Lucia Mar Unified\",\"San Luis Obispo\"],[\"Pleasant Valley Joint Union Elementary\",\"San Luis Obispo\"],[\"San Luis Coastal Unified\",\"San Luis Obispo\"],[\"San Miguel Joint Union Elementary\",\"San Luis Obispo\"],[\"Shandon Joint Unified\",\"San Luis Obispo\"],[\"Templeton Unified\",\"San Luis Obispo\"],[\"Paso Robles Joint Unified\",\"San Luis Obispo\"],[\"Coast Unified\",\"San Luis Obispo\"],[\"Bayshore Elementary\",\"San Mateo\"],[\"Belmont-Redwood Shores Elementary\",\"San Mateo\"],[\"Brisbane Elementary\",\"San Mateo\"],[\"Burlingame Elementary\",\"San Mateo\"],[\"Cabrillo Unified\",\"San Mateo\"],[\"Hillsborough City Elementary\",\"San Mateo\"],[\"Jefferson Elementary\",\"San Mateo\"],[\"Jefferson Union High\",\"San Mateo\"],[\"Pacifica Elementary\",\"San Mateo\"],[\"La Honda-Pescadero Unified\",\"San Mateo\"],[\"Las Lomitas Elementary\",\"San Mateo\"],[\"Menlo Park City Elementary\",\"San Mateo\"],[\"Millbrae Elementary\",\"San Mateo\"],[\"Portola Valley Elementary\",\"San Mateo\"],[\"Ravenswood City Elementary\",\"San Mateo\"],[\"Redwood City Elementary\",\"San Mateo\"],[\"San Bruno Park Elementary\",\"San Mateo\"],[\"San Carlos Elementary\",\"San Mateo\"],[\"San Mateo-Foster City Elementary\",\"San Mateo\"],[\"San Mateo Union High\",\"San Mateo\"],[\"Sequoia Union High\",\"San Mateo\"],[\"South San Francisco Unified\",\"San Mateo\"],[\"Woodside Elementary\",\"San Mateo\"],[\"Ballard Elementary\",\"Santa Barbara\"],[\"Blochman Union Elementary\",\"Santa Barbara\"],[\"Santa Maria-Bonita Elementary\",\"Santa Barbara\"],[\"Buellton Union Elementary\",\"Santa Barbara\"],[\"Carpinteria Unified\",\"Santa Barbara\"],[\"Cold Spring Elementary\",\"Santa Barbara\"],[\"College Elementary\",\"Santa Barbara\"],[\"Goleta Union Elementary\",\"Santa Barbara\"],[\"Guadalupe Union Elementary\",\"Santa Barbara\"],[\"Hope Elementary\",\"Santa Barbara\"],[\"Lompoc Unified\",\"Santa Barbara\"],[\"Los Olivos Elementary\",\"Santa Barbara\"],[\"Montecito Union Elementary\",\"Santa Barbara\"],[\"Orcutt Union Elementary\",\"Santa Barbara\"],[\"Santa Maria Joint Union High\",\"Santa Barbara\"],[\"Santa Ynez Valley Union High\",\"Santa Barbara\"],[\"Solvang Elementary\",\"Santa Barbara\"],[\"Vista Del Mar Union Elementary\",\"Santa Barbara\"],[\"Cuyama Joint Unified\",\"Santa Barbara\"],[\"Santa Barbara Unified\",\"Santa Barbara\"],[\"Alum Rock Union Elementary\",\"Santa Clara\"],[\"Berryessa Union Elementary\",\"Santa Clara\"],[\"Cambrian Elementary\",\"Santa Clara\"],[\"Campbell Union Elementary\",\"Santa Clara\"],[\"Campbell Union High\",\"Santa Clara\"],[\"Cupertino Union Elementary\",\"Santa Clara\"],[\"East Side Union High\",\"Santa Clara\"],[\"Evergreen Elementary\",\"Santa Clara\"],[\"Franklin-McKinley Elementary\",\"Santa Clara\"],[\"Fremont Union High\",\"Santa Clara\"],[\"Gilroy Unified\",\"Santa Clara\"],[\"Lakeside Joint Elementary\",\"Santa Clara\"],[\"Loma Prieta Joint Union Elementary\",\"Santa Clara\"],[\"Los Altos Elementary\",\"Santa Clara\"],[\"Los Gatos Union Elementary\",\"Santa Clara\"],[\"Los Gatos-Saratoga Union High\",\"Santa Clara\"],[\"Luther Burbank Elementary\",\"Santa Clara\"],[\"Moreland Elementary\",\"Santa Clara\"],[\"Morgan Hill Unified\",\"Santa Clara\"],[\"Mountain View Whisman Elementary\",\"Santa Clara\"],[\"Mountain View-Los Altos Union High\",\"Santa Clara\"],[\"Mount Pleasant Elementary\",\"Santa Clara\"],[\"Oak Grove Elementary\",\"Santa Clara\"],[\"Orchard Elementary\",\"Santa Clara\"],[\"Palo Alto Unified\",\"Santa Clara\"],[\"San Jose Unified\",\"Santa Clara\"],[\"Santa Clara Unified\",\"Santa Clara\"],[\"Saratoga Union Elementary\",\"Santa Clara\"],[\"Sunnyvale Elementary\",\"Santa Clara\"],[\"Union Elementary\",\"Santa Clara\"],[\"Milpitas Unified\",\"Santa Clara\"],[\"Bonny Doon Union Elementary\",\"Santa Cruz\"],[\"Happy Valley Elementary\",\"Santa Cruz\"],[\"Live Oak Elementary\",\"Santa Cruz\"],[\"Mountain Elementary\",\"Santa Cruz\"],[\"Pacific Elementary\",\"Santa Cruz\"],[\"Pajaro Valley Unified\",\"Santa Cruz\"],[\"San Lorenzo Valley Unified\",\"Santa Cruz\"],[\"Soquel Union Elementary\",\"Santa Cruz\"],[\"Scotts Valley Unified\",\"Santa Cruz\"],[\"Anderson Union High\",\"Shasta\"],[\"Bella Vista Elementary\",\"Shasta\"],[\"Black Butte Union Elementary\",\"Shasta\"],[\"Cascade Union Elementary\",\"Shasta\"],[\"Castle Rock Union Elementary\",\"Shasta\"],[\"Columbia Elementary\",\"Shasta\"],[\"Cottonwood Union Elementary\",\"Shasta\"],[\"Enterprise Elementary\",\"Shasta\"],[\"Fall River Joint Unified\",\"Shasta\"],[\"French Gulch-Whiskeytown Elementary\",\"Shasta\"],[\"Grant Elementary\",\"Shasta\"],[\"Happy Valley Union Elementary\",\"Shasta\"],[\"Igo, Ono, Platina Union Elementary\",\"Shasta\"],[\"Junction Elementary\",\"Shasta\"],[\"Millville Elementary\",\"Shasta\"],[\"North Cow Creek Elementary\",\"Shasta\"],[\"Oak Run Elementary\",\"Shasta\"],[\"Pacheco Union Elementary\",\"Shasta\"],[\"Redding Elementary\",\"Shasta\"],[\"Shasta Union Elementary\",\"Shasta\"],[\"Shasta Union High\",\"Shasta\"],[\"Whitmore Union Elementary\",\"Shasta\"],[\"Mountain Union Elementary\",\"Shasta\"],[\"Gateway Unified\",\"Shasta\"],[\"Sierra-Plumas Joint Unified\",\"Sierra\"],[\"Big Springs Union Elementary\",\"Siskiyou\"],[\"Bogus Elementary\",\"Siskiyou\"],[\"Butteville Union Elementary\",\"Siskiyou\"],[\"Delphic Elementary\",\"Siskiyou\"],[\"Dunsmuir Elementary\",\"Siskiyou\"],[\"Dunsmuir Joint Union High\",\"Siskiyou\"],[\"Gazelle Union Elementary\",\"Siskiyou\"],[\"Grenada Elementary\",\"Siskiyou\"],[\"Happy Camp Union Elementary\",\"Siskiyou\"],[\"Hornbrook Elementary\",\"Siskiyou\"],[\"Klamath River Union Elementary\",\"Siskiyou\"],[\"Little Shasta Elementary\",\"Siskiyou\"],[\"McCloud Union Elementary\",\"Siskiyou\"],[\"Montague Elementary\",\"Siskiyou\"],[\"Mt. Shasta Union Elementary\",\"Siskiyou\"],[\"Seiad Elementary\",\"Siskiyou\"],[\"Siskiyou Union High\",\"Siskiyou\"],[\"Weed Union Elementary\",\"Siskiyou\"],[\"Willow Creek Elementary\",\"Siskiyou\"],[\"Yreka Union Elementary\",\"Siskiyou\"],[\"Yreka Union High\",\"Siskiyou\"],[\"Butte Valley Unified\",\"Siskiyou\"],[\"Scott Valley Unified\",\"Siskiyou\"],[\"Benicia Unified\",\"Solano\"],[\"Dixon Unified\",\"Solano\"],[\"Fairfield-Suisun Unified\",\"Solano\"],[\"Travis Unified\",\"Solano\"],[\"Vacaville Unified\",\"Solano\"],[\"Vallejo City Unified\",\"Solano\"],[\"Alexander Valley Union Elementary\",\"Sonoma\"],[\"West Sonoma County Union High\",\"Sonoma\"],[\"Bellevue Union Elementary\",\"Sonoma\"],[\"Bennett Valley Union Elementary\",\"Sonoma\"],[\"Cinnabar Elementary\",\"Sonoma\"],[\"Cloverdale Unified\",\"Sonoma\"],[\"Dunham Elementary\",\"Sonoma\"],[\"Forestville Union Elementary\",\"Sonoma\"],[\"Fort Ross Elementary\",\"Sonoma\"],[\"Geyserville Unified\",\"Sonoma\"],[\"Gravenstein Union Elementary\",\"Sonoma\"],[\"Guerneville Elementary\",\"Sonoma\"],[\"Harmony Union Elementary\",\"Sonoma\"],[\"Horicon Elementary\",\"Sonoma\"],[\"Kenwood Elementary\",\"Sonoma\"],[\"Liberty Elementary\",\"Sonoma\"],[\"Mark West Union Elementary\",\"Sonoma\"],[\"Monte Rio Union Elementary\",\"Sonoma\"],[\"Montgomery Elementary\",\"Sonoma\"],[\"Oak Grove Union Elementary\",\"Sonoma\"],[\"Old Adobe Union Elementary\",\"Sonoma\"],[\"Piner-Olivet Union Elementary\",\"Sonoma\"],[\"Kashia Elementary\",\"Sonoma\"],[\"Rincon Valley Union Elementary\",\"Sonoma\"],[\"Roseland Elementary\",\"Sonoma\"],[\"Sebastopol Union Elementary\",\"Sonoma\"],[\"Sonoma Valley Unified\",\"Sonoma\"],[\"Twin Hills Union Elementary\",\"Sonoma\"],[\"Two Rock Union Elementary\",\"Sonoma\"],[\"Waugh Elementary\",\"Sonoma\"],[\"West Side Union Elementary\",\"Sonoma\"],[\"Wilmar Union Elementary\",\"Sonoma\"],[\"Wright Elementary\",\"Sonoma\"],[\"Cotati-Rohnert Park Unified\",\"Sonoma\"],[\"Windsor Unified\",\"Sonoma\"],[\"Healdsburg Unified\",\"Sonoma\"],[\"Ceres Unified\",\"Stanislaus\"],[\"Chatom Union Elementary\",\"Stanislaus\"],[\"Denair Unified\",\"Stanislaus\"],[\"Empire Union Elementary\",\"Stanislaus\"],[\"Gratton Elementary\",\"Stanislaus\"],[\"Hart-Ransom Union Elementary\",\"Stanislaus\"],[\"Hickman Community Charter\",\"Stanislaus\"],[\"Keyes Union Elementary\",\"Stanislaus\"],[\"Knights Ferry Elementary\",\"Stanislaus\"],[\"Paradise Elementary\",\"Stanislaus\"],[\"Patterson Joint Unified\",\"Stanislaus\"],[\"Roberts Ferry Union Elementary\",\"Stanislaus\"],[\"Salida Union Elementary\",\"Stanislaus\"],[\"Shiloh Elementary\",\"Stanislaus\"],[\"Stanislaus Union Elementary\",\"Stanislaus\"],[\"Sylvan Union Elementary\",\"Stanislaus\"],[\"Valley Home Joint Elementary\",\"Stanislaus\"],[\"Newman-Crows Landing Unified\",\"Stanislaus\"],[\"Hughson Unified\",\"Stanislaus\"],[\"Riverbank Unified\",\"Stanislaus\"],[\"Oakdale Joint Unified\",\"Stanislaus\"],[\"Waterford Unified\",\"Stanislaus\"],[\"Turlock Unified\",\"Stanislaus\"],[\"Brittan Elementary\",\"Sutter\"],[\"Browns Elementary\",\"Sutter\"],[\"East Nicolaus Joint Union High\",\"Sutter\"],[\"Franklin Elementary\",\"Sutter\"],[\"Live Oak Unified\",\"Sutter\"],[\"Marcum-Illinois Union Elementary\",\"Sutter\"],[\"Meridian Elementary\",\"Sutter\"],[\"Nuestro Elementary\",\"Sutter\"],[\"Pleasant Grove Joint Union Elementary\",\"Sutter\"],[\"Sutter Union High\",\"Sutter\"],[\"Winship-Robbins Elementary\",\"Sutter\"],[\"Yuba City Unified\",\"Sutter\"],[\"Antelope Elementary\",\"Tehama\"],[\"Corning Union Elementary\",\"Tehama\"],[\"Corning Union High\",\"Tehama\"],[\"Evergreen Union Elementary\",\"Tehama\"],[\"Flournoy Union Elementary\",\"Tehama\"],[\"Gerber Union Elementary\",\"Tehama\"],[\"Kirkwood Elementary\",\"Tehama\"],[\"Lassen View Union Elementary\",\"Tehama\"],[\"Los Molinos Unified\",\"Tehama\"],[\"Red Bluff Union Elementary\",\"Tehama\"],[\"Red Bluff Joint Union High\",\"Tehama\"],[\"Reeds Creek Elementary\",\"Tehama\"],[\"Richfield Elementary\",\"Tehama\"],[\"Burnt Ranch Elementary\",\"Trinity\"],[\"Coffee Creek Elementary\",\"Trinity\"],[\"Douglas City Elementary\",\"Trinity\"],[\"Junction City Elementary\",\"Trinity\"],[\"Lewiston Elementary\",\"Trinity\"],[\"Trinity Center Elementary\",\"Trinity\"],[\"Southern Trinity Joint Unified\",\"Trinity\"],[\"Mountain Valley Unified\",\"Trinity\"],[\"Trinity Alps Unified\",\"Trinity\"],[\"Allensworth Elementary\",\"Tulare\"],[\"Alpaugh Unified\",\"Tulare\"],[\"Alta Vista Elementary\",\"Tulare\"],[\"Buena Vista Elementary\",\"Tulare\"],[\"Burton Elementary\",\"Tulare\"],[\"Columbine Elementary\",\"Tulare\"],[\"Cutler-Orosi Joint Unified\",\"Tulare\"],[\"Ducor Union Elementary\",\"Tulare\"],[\"Earlimart Elementary\",\"Tulare\"],[\"Hope Elementary\",\"Tulare\"],[\"Hot Springs Elementary\",\"Tulare\"],[\"Kings River Union Elementary\",\"Tulare\"],[\"Liberty Elementary\",\"Tulare\"],[\"Lindsay Unified\",\"Tulare\"],[\"Monson-Sultana Joint Union Elementary\",\"Tulare\"],[\"Oak Valley Union Elementary\",\"Tulare\"],[\"Outside Creek Elementary\",\"Tulare\"],[\"Palo Verde Union Elementary\",\"Tulare\"],[\"Pixley Union Elementary\",\"Tulare\"],[\"Pleasant View Elementary\",\"Tulare\"],[\"Richgrove Elementary\",\"Tulare\"],[\"Rockford Elementary\",\"Tulare\"],[\"Saucelito Elementary\",\"Tulare\"],[\"Sequoia Union Elementary\",\"Tulare\"],[\"Springville Union Elementary\",\"Tulare\"],[\"Stone Corral Elementary\",\"Tulare\"],[\"Strathmore Union Elementary\",\"Tulare\"],[\"Sundale Union Elementary\",\"Tulare\"],[\"Sunnyside Union Elementary\",\"Tulare\"],[\"Terra Bella Union Elementary\",\"Tulare\"],[\"Three Rivers Union Elementary\",\"Tulare\"],[\"Tipton Elementary\",\"Tulare\"],[\"Traver Joint Elementary\",\"Tulare\"],[\"Tulare City Elementary\",\"Tulare\"],[\"Tulare Joint Union High\",\"Tulare\"],[\"Visalia Unified\",\"Tulare\"],[\"Waukena Joint Union Elementary\",\"Tulare\"],[\"Woodville Union Elementary\",\"Tulare\"],[\"Farmersville Unified\",\"Tulare\"],[\"Porterville Unified\",\"Tulare\"],[\"Dinuba Unified\",\"Tulare\"],[\"Woodlake Unified\",\"Tulare\"],[\"Exeter Unified\",\"Tulare\"],[\"Belleview Elementary\",\"Tuolumne\"],[\"Columbia Union Elementary\",\"Tuolumne\"],[\"Curtis Creek Elementary\",\"Tuolumne\"],[\"Jamestown Elementary\",\"Tuolumne\"],[\"Sonora Elementary\",\"Tuolumne\"],[\"Sonora Union High\",\"Tuolumne\"],[\"Soulsbyville Elementary\",\"Tuolumne\"],[\"Summerville Elementary\",\"Tuolumne\"],[\"Summerville Union High\",\"Tuolumne\"],[\"Twain Harte Elementary\",\"Tuolumne\"],[\"Big Oak Flat-Groveland Unified\",\"Tuolumne\"],[\"Briggs Elementary\",\"Ventura\"],[\"Fillmore Unified\",\"Ventura\"],[\"Hueneme Elementary\",\"Ventura\"],[\"Mesa Union Elementary\",\"Ventura\"],[\"Mupu Elementary\",\"Ventura\"],[\"Ocean View Elementary\",\"Ventura\"],[\"Ojai Unified\",\"Ventura\"],[\"Oxnard Elementary\",\"Ventura\"],[\"Oxnard Union High\",\"Ventura\"],[\"Pleasant Valley\",\"Ventura\"],[\"Rio Elementary\",\"Ventura\"],[\"Santa Clara Elementary\",\"Ventura\"],[\"Simi Valley Unified\",\"Ventura\"],[\"Somis Union Elementary\",\"Ventura\"],[\"Ventura Unified\",\"Ventura\"],[\"Conejo Valley Unified\",\"Ventura\"],[\"Oak Park Unified\",\"Ventura\"],[\"Moorpark Unified\",\"Ventura\"],[\"Santa Paula Unified\",\"Ventura\"],[\"Davis Joint Unified\",\"Yolo\"],[\"Esparto Unified\",\"Yolo\"],[\"Washington Unified\",\"Yolo\"],[\"Winters Joint Unified\",\"Yolo\"],[\"Woodland Joint Unified\",\"Yolo\"],[\"Camptonville Elementary\",\"Yuba\"],[\"Marysville Joint Unified\",\"Yuba\"],[\"Plumas Lake Elementary\",\"Yuba\"],[\"Wheatland Elementary\",\"Yuba\"],[\"Wheatland Union High\",\"Yuba\"],[\"Las Virgenes Unified\",\"Los Angeles\"],[\"Junction Elementary\",\"Siskiyou\"],[\"Arena Union Elementary\\u002fPoint Arena Joint Union High \",\"Mendocino\"],[\"Santa Cruz City Elementary\\u002fHigh\",\"Santa Cruz\"],[\"Petaluma City Elementary\\u002fJoint Union High\",\"Sonoma\"],[\"Santa Rosa City Schools\",\"Sonoma\"],[\"Modesto City Schools\",\"Stanislaus\"]],\"hovertemplate\":\"Migrant (%)=%{x}\\u003cbr\\u003eExpense per ADA ($)=%{y}\\u003cbr\\u003eDistrict Name=%{customdata[0]}\\u003cbr\\u003eCounty Name=%{customdata[1]}\\u003cextra\\u003e\\u003c\\u002fextra\\u003e\",\"legendgroup\":\"\",\"marker\":{\"color\":\"#636efa\",\"symbol\":\"circle\"},\"mode\":\"markers\",\"name\":\"\",\"orientation\":\"v\",\"showlegend\":false,\"x\":{\"dtype\":\"f8\",\"bdata\":\"AAAAAAAAAAAAAAAAAAAAAAAAAAAAAAAAAAAAAAAAAAAAAAAAAAAAAJqZmZmZmbk\\u002fAAAAAAAA+D9mZmZmZmbmPwAAAAAAAAAAMzMzMzMz4z8zMzMzMzPjPwAAAAAAAAAAAAAAAAAAAAAAAAAAAAAAADMzMzMzM9M\\u002fAAAAAAAAAAAAAAAAAAAAAAAAAAAAAAAAAAAAAAAAAABmZmZmZmb+PwAAAAAAAAAAmpmZmZmZ+T+amZmZmZm5P83MzMzMzOw\\u002fZmZmZmZmBkAzMzMzMzPjP5qZmZmZmck\\u002fAAAAAAAAAACamZmZmZnJPwAAAAAAAAAAAAAAAAAAAAAAAAAAAAAAADMzMzMzMwtAAAAAAAAAAAAAAAAAAAAAAAAAAAAAAAAAAAAAAAAAAAAAAAAAAADwP83MzMzMzARAmpmZmZmZCUDNzMzMzMwrQAAAAAAAAAAAAAAAAAAAAAAAAAAAAAAAAAAAAAAAAAAAAAAAAAAAAAAAAAAAAAAAAAAAAAAAAAAAAAAAAAAAAAAAAAAAAAAAAAAAAAAAAAAAAAAAAAAAAAAAAAAAAAAAAAAAAAAAAAAAAAAAAAAAAAAAAAAAAAAAAAAAAAAAAAAAAAAAAAAAAAAAAAAAAAAAAAAAAAAAAAAAAAAAAAAAAAAAAAAAAAAAAAAAAAAAAAAAAAAAAAAAAAAAAAAAAAAAAAAAAAAAAAAAAAAAAAAAAAAAAAAAAAAAAAAAAAAAAAAAAAAAAAAAAAAAAAAAAAAAAAAAAAAAAAAAAAAAAAAAAAAAAAAAAAAAAAAAAAAAAAAAMzMzMzMz+z8AAAAAAAAAAAAAAAAAAAAAAAAAAAAAAACamZmZmZm5PzMzMzMzMwNAZmZmZmZmAkAAAAAAAAD4PwAAAAAAAAAAAAAAAAAAAADNzMzMzMwMQDMzMzMzM\\u002fM\\u002fAAAAAAAAJUAzMzMzMzPTPwAAAAAAAAAAmpmZmZmZKEAAAAAAAAAAAGZmZmZmZhZAzczMzMzM9D9mZmZmZmYSQAAAAAAAAAAAMzMzMzMzEUAzMzMzMzPTP5qZmZmZmSVAZmZmZmZm5j8AAAAAAAAMQAAAAAAAAChAmpmZmZmZ2T8AAAAAAAAAAM3MzMzMzABAmpmZmZmZIECamZmZmZkfQAAAAAAAAPA\\u002fAAAAAAAAAAAAAAAAAADgPwAAAAAAAAAAAAAAAAAAAACamZmZmZm5P5qZmZmZmfE\\u002fMzMzMzMzA0AAAAAAAAAAAAAAAAAAAAAAAAAAAAAAAAAAAAAAAAAAAAAAAAAAAAAAAAAAAAAAAAAAAAAAAAAAAAAAAAAAAAAAAAAAAAAAAAAAAAAAAAAAAAAAAAAAAAAAAAAAAAAAAAAAAAAAAAAAAAAAAAAAAAAAAAAAAAAAAAAAAAAAAAAAAAAAAAAAAAAAAAAAAAAAAAAAAAAAAAAAAAAAAAAAAAAAAAAAAAAAAAAAAAAAAAAAAAAAAAAAAAAAAAAAAAAAAAAAAAAAAAAAAAAAAAAAAAAAAAAAAAAAAAAAAAAAAAAAAAAAAAAAAAAAAAAAAAAAAAAAAAAAAAAAAAAAAAAAACRAAAAAAAAAKkCamZmZmZkZQJqZmZmZGTJAzczMzMzMHkAAAAAAAAAWQAAAAAAAACVAmpmZmZmZJ0AAAAAAAAD4PwAAAAAAAAAAzczMzMzM7D+amZmZmZkkQAAAAAAAAAAAZmZmZmZmFkAzMzMzMzMqQM3MzMzMzChAAAAAAAAAAAAAAAAAAAAAAAAAAAAAAAAAAAAAAAAAAAAAAAAAAAAAAAAAAAAAAAAAmpmZmZmZL0DNzMzMzMwIQJqZmZmZmfE\\u002fAAAAAAAAAAAAAAAAAAAAADMzMzMzM\\u002fs\\u002fAAAAAAAAAACamZmZmZkTQGZmZmZmZhhAAAAAAAAAEkDNzMzMzMz0PwAAAAAAAAAAmpmZmZmZH0AAAAAAAAAAAAAAAAAAAAAAmpmZmZmZDUAAAAAAAAD4PwAAAAAAAAAAAAAAAAAAAADNzMzMzMwnQDMzMzMzM\\u002fs\\u002fAAAAAAAAAAAzMzMzM7NIQAAAAAAAAAAAmpmZmZmZyT8AAAAAAAAAAAAAAAAAAAAAAAAAAAAAAAAAAAAAAAAAAJqZmZmZmbk\\u002fzczMzMzM\\u002fD8AAAAAAAAAAGZmZmZmZuY\\u002fAAAAAAAAAAAAAAAAAAAAADMzMzMzM9M\\u002fAAAAAAAAJEBmZmZmZmYhQJqZmZmZmck\\u002fMzMzMzMzNEDNzMzMzMwgQDMzMzMzMxlAMzMzMzMz4z8AAAAAAAAAAJqZmZmZmQVAAAAAAAAAAAAzMzMzMzMLQAAAAAAAAPg\\u002fAAAAAAAACEDNzMzMzMwEQDMzMzMzMwdAmpmZmZmZ+T8zMzMzMzPjP83MzMzMzOw\\u002fmpmZmZmZ2T8zMzMzMzP7P5qZmZmZmfk\\u002fmpmZmZmZyT+amZmZmZkFQM3MzMzMzAhAmpmZmZmZE0AzMzMzMzMHQGZmZmZmZhBAmpmZmZmZ+T8AAAAAAADgPzMzMzMzMxFAAAAAAAAAAAAAAAAAAAAAAJqZmZmZmck\\u002fAAAAAAAAAAAAAAAAAAAAAAAAAAAAAAAAAAAAAAAAAAAAAAAAAAAAAAAAAAAAAAAAZmZmZmZmIEAAAAAAAADgPwAAAAAAAAAAAAAAAAAAAAAAAAAAAAAAAAAAAAAAAAAAAAAAAAAAAAAAAAAAAAAAAAAAAAAAAAAAAAAAAAAAAAAAAAAAAAAAAAAAAAAAAAAAAAAAAAAAAAAAAAAAAAAAAAAAAAAAAAAAAAAAAAAAAAAAAAAAAAAAAAAAAAAAAAAAAAAAAAAA4D8AAAAAAAAAAJqZmZmZmfk\\u002fAAAAAAAA+D8AAAAAAAAAAAAAAAAAAAAAmpmZmZmZuT8AAAAAAAAAAAAAAAAAAAAAAAAAAAAAAAAAAAAAAAAAAAAAAAAAAAAAAAAAAAAAAAAAAAAAAAAAAAAAAAAAAAAAAAAAAAAAAACamZmZmZm5PwAAAAAAAAAAAAAAAAAAAAAAAAAAAAAAAJqZmZmZmbk\\u002fmpmZmZmZyT8AAAAAAAAAAGZmZmZmZuY\\u002fAAAAAAAAAAAAAAAAAAAAADMzMzMzMwNAAAAAAAAAAACamZmZmZn5PwAAAAAAAOA\\u002fAAAAAAAAAAAAAAAAAAAAAAAAAAAAAAAAAAAAAAAAAACamZmZmZnpPwAAAAAAAAAAAAAAAAAAAAAAAAAAAAAAAAAAAAAAAAAAAAAAAAAAAAAAAAAAAAAAAAAAAAAAAAAAAAAAAAAAAAAAAAAAAAAAAAAAAAAAAAAAmpmZmZmZuT8AAAAAAAAAAAAAAAAAAAAAAAAAAAAAAACamZmZmZm5PwAAAAAAAAAAMzMzMzMz0z+amZmZmZnJPwAAAAAAAAAAAAAAAAAAAAAAAAAAAAAAAAAAAAAAAAAAAAAAAAAAAAAAAAAAAAAAAAAAAAAAAAAAmpmZmZmZ6T8AAAAAAAAAAAAAAAAAAPg\\u002fAAAAAAAABEAzMzMzMzMHQAAAAAAAAAAAAAAAAAAAAAAAAAAAAAAAAAAAAAAAAAAAAAAAAAAAAAAAAAAAAAAAAAAAAAAAAAAAAAAAAAAAAAAAAAAAAAAAAAAAAAAAAAAAAAAAAAAAAAAAAAAAAAAAAAAAAAAAAAAAAAAAAAAAAAAAAAAAAAAAAAAAAAAAAAAAAAAAAAAAAAAAAAAAAAAAAAAAAAAAAAAAMzMzMzMzC0AAAAAAAAAAAAAAAAAAAAAAZmZmZmZmJUAAAAAAAAAiQAAAAAAAAAAAAAAAAAAAAAAAAAAAAAAAAM3MzMzMzBhAzczMzMzMFkAAAAAAAAAAAAAAAAAAAAAAAAAAAAAAAAAAAAAAAAAAQAAAAAAAAARAzczMzMzMHEBmZmZmZmYGQAAAAAAAAAhAAAAAAAAACEAAAAAAAAAEQJqZmZmZmQVAAAAAAAAAAABmZmZmZmbmP83MzMzMzABAZmZmZmZmBkBmZmZmZmYSQAAAAAAAAAAAmpmZmZmZ2T+amZmZmZnJP2ZmZmZmZg5AAAAAAAAAAADNzMzMzMwMQGZmZmZmZv4\\u002fAAAAAAAAAAAAAAAAAAAAAAAAAAAAAAAAAAAAAAAAAAAAAAAAAAAAADMzMzMzMytAAAAAAAAAAAAAAAAAAAAAAM3MzMzMzC1AAAAAAAAAAAAzMzMzMzMhQM3MzMzMzCJAzczMzMzMGEAAAAAAAAAAAAAAAAAAAAAAAAAAAAAAAAAAAAAAAAAAADMzMzMzMxVAmpmZmZmZF0AAAAAAAAAAAAAAAAAAAAxAmpmZmZmZKUAzMzMzMzMXQAAAAAAAAAAAAAAAAAAAAADNzMzMzMwYQAAAAAAAAAAAMzMzMzMzD0CamZmZmZkgQM3MzMzMTDRAzczMzMzMOUAzMzMzMzMRQDMzMzMzMz1AZmZmZmZmDkAAAAAAAAAAAAAAAAAAAAAAAAAAAAAAAAAAAAAAAAAAAAAAAAAAAAAAAAAAAAAAAAAAAAAAAAAAAAAAAAAAAAAAAAAAAAAAAAAAAAAAAAAAAJqZmZmZmbk\\u002fAAAAAAAAAAAAAAAAAAAAAAAAAAAAAAAAAAAAAAAAAAAAAAAAAAAAAAAAAAAAAAAAAAAAAAAAAAAAAAAAAAAAAAAAAAAAAAAAmpmZmZmZuT8AAAAAAAAAAAAAAAAAAAAAAAAAAAAAAAAAAAAAAAAAAAAAAAAAAAAAmpmZmZmZuT8AAAAAAAAAAAAAAAAAAAAAAAAAAAAAAABmZmZmZmbmPwAAAAAAAAAAAAAAAAAAAAAAAAAAAAAAAAAAAAAAAAAAAAAAAAAAAAAAAAAAAAAAAAAAAAAAAAAAAAAAAAAAAAAAAAAAAAAAAAAAAAAAAAAAmpmZmZmZuT8AAAAAAAAAAAAAAAAAAAAAAAAAAAAAAAAAAAAAAAAAAAAAAAAAAAAAAAAAAAAAAACamZmZmZm5PwAAAAAAAAAAAAAAAAAAAACamZmZmZm5PwAAAAAAAAAAAAAAAAAAAAAAAAAAAAAAAAAAAAAAAAAAAAAAAAAAAAAAAAAAAAAAAAAAAAAAAAAAAAAAAAAA4D8AAAAAAAAAAAAAAAAAAAAAAAAAAAAAAAAAAAAAAAAAAAAAAAAAAAAAmpmZmZmZuT8AAAAAAADgPwAAAAAAAAAAAAAAAAAAAAAAAAAAAAAAAAAAAAAAAAAAAAAAAAAAAACamZmZmZkgQAAAAAAAAAAAAAAAAAAAAAAAAAAAAAAAAAAAAAAAAAAAmpmZmZmZ2T+amZmZmZnJPwAAAAAAAAAAAAAAAAAAAABmZmZmZmYWQJqZmZmZmRlAzczMzMzMJ0AAAAAAAAAAAAAAAAAAAOA\\u002fAAAAAAAAAAAAAAAAAAAAAAAAAAAAAAAAAAAAAAAAAAAAAAAAAAAAAAAAAAAAAAAAZmZmZmZmI0AAAAAAAAA5QGZmZmZmZiFAAAAAAAAAAABmZmZmZmYnQM3MzMzMTDdAmpmZmZmZIkAAAAAAAAAAAJqZmZmZmR9AAAAAAAAAAAAAAAAAAAAAAAAAAAAAAAAAAAAAAAAAAAAAAAAAAAAAAAAAAAAAAAAAAAAAAAAAAAAAAAAAAAAAAAAAAAAAAAAAAAAAAAAAAAAAAAAAAAAAAAAAAAAAAAAAAAAAAAAAAAAAAAAAAAAAAAAAAAAAAAAAAAAAAAAAAAAAAAAAAAAAAAAAAAAAAAAAAAAAAAAAAAAAAAAAAAAAAAAAAAAAAAAAAAAAAAAAAAAAAAAAAAAAAAAAAAAAAAAAAAAAAAAAAAAAAAAAAAAAAAAAAAAAAAAAAAAAAAAAAAAAAAAAAAAAAAAAAAAAAAAAAAAAAAAAAAAAAAAAAAAAAAAAAAAAAAAAAAAAAAAAAAAAAAAAAAAAAAAAAAAAAAAAAAAAAAAAAAAAAAAAAAAAAAAAAAAAAAAAAAAAAAAAAAAAAAAAAAAAADMzMzMzM9M\\u002fZmZmZmZm5j8AAAAAAADgPwAAAAAAABpAzczMzMzMIkAAAAAAAAAAAAAAAAAAAAAAmpmZmZmZuT8AAAAAAAAAAAAAAAAAAAAAmpmZmZmZuT+amZmZmZm5PwAAAAAAAAAAAAAAAAAAAAAAAAAAAAAAAJqZmZmZmek\\u002fAAAAAAAAAACamZmZmZm5P5qZmZmZmbk\\u002fAAAAAAAAAAAAAAAAAAAAAJqZmZmZmbk\\u002fAAAAAAAAAACamZmZmZm5PwAAAAAAAAAAmpmZmZmZuT+amZmZmZk1QM3MzMzMzABAmpmZmZmZyT9mZmZmZmbmPzMzMzMzM\\u002fM\\u002fAAAAAAAAAACamZmZmZkVQAAAAAAAAPg\\u002fmpmZmZmZuT+amZmZmZnZPwAAAAAAAAAAmpmZmZmZuT9mZmZmZmb+P83MzMzMzOw\\u002fzczMzMzM7D8AAAAAAAAAAAAAAAAAAAAAmpmZmZmZuT+amZmZmZnxP5qZmZmZmbk\\u002fAAAAAAAAAAAAAAAAAAAAAJqZmZmZmbk\\u002fAAAAAAAAAACamZmZmZn5PwAAAAAAAAAAAAAAAAAAAACamZmZmZnJP5qZmZmZmdk\\u002fAAAAAAAAAABmZmZmZmb+PwAAAAAAAAAAAAAAAAAAAAAAAAAAAAAAAAAAAAAAAAAAAAAAAAAAAAAAAAAAAAAMQAAAAAAAAAAAmpmZmZmZuT8AAAAAAAAAAAAAAAAAAAAAAAAAAAAAAAAAAAAAAAAAAAAAAAAAAAAAAAAAAAAAAAAAAAAAAAAAAAAAAAAAAAAAmpmZmZmZ8T8AAAAAAAAAAAAAAAAAAAAAAAAAAAAAAAAAAAAAAAAAADMzMzMzM+M\\u002fmpmZmZmZ2T8AAAAAAAAAAAAAAAAAAAAAmpmZmZmZuT9mZmZmZmYhQAAAAAAAAAAAAAAAAAAAAAAAAAAAAAAAAAAAAAAAAAAAAAAAAAAAAABmZmZmZmYQQAAAAAAAAAAAmpmZmZmZ2T8AAAAAAAAAAAAAAAAAAAAAmpmZmZmZyT8zMzMzMzMTQAAAAAAAAAAAAAAAAAAAAAAAAAAAAAAAAAAAAAAAAAAAAAAAAAAAAACamZmZmZnJPwAAAAAAAAAAAAAAAAAAAAAAAAAAAAAAAAAAAAAAAAAAAAAAAAAAAACamZmZmZnZP5qZmZmZmck\\u002fAAAAAAAAAAAAAAAAAAAAADMzMzMzM+M\\u002fAAAAAAAAAAAAAAAAAAAAAAAAAAAAAAAAAAAAAAAAAAAAAAAAAAAAAAAAAAAAAAAAAAAAAAAAAAAAAAAAAAAAQAAAAAAAAAAAAAAAAAAAAAAAAAAAAAD4P2ZmZmZmZuY\\u002fAAAAAAAAAAAAAAAAAAAAAAAAAAAAAAAAmpmZmZmZuT+amZmZmZm5PwAAAAAAAAAAAAAAAAAAAAAAAAAAAAAAAAAAAAAAAAAAAAAAAAAAAACamZmZmZnZPwAAAAAAAAAAMzMzMzMzA0AzMzMzMzMbQAAAAAAAAAAAAAAAAAAAAAAAAAAAAAAAAAAAAAAAAAAAAAAAAAAAAAAAAAAAAAAAAAAAAAAAAAAAAAAAAAAAAAAAAAAAAAAAAAAAAAAAAAAAAAAAAAAAAABmZmZmZmYCQAAAAAAAAAAAAAAAAAAAAAAAAAAAAAAAAAAAAAAAAAAAAAAAAAAAAAAAAAAAAAAAAAAAAAAAAAAAAAAAAAAAAAAAAAAAAAAAAAAAAAAAAAAAAAAAAAAAAAAAAAAAAAAAAAAAAAAAAAAAAAAAAAAAAAAAAAAAAAAAAAAAAAAAAAAAAAAAAAAAAAAAAAAAAAAAAAAAAAAAAAAAAAAAAAAAAAAAAAAAAAAAAAAAAAAAAAAAAAAAAAAAAAAAAAAAAAAAAAAAAAAAAAAAAAAAAAAAAAAAAAAAAAAAAAAAAAAAAAAAAAAAAAAAAAAAAAAAAAAAAAAAAAAAAAAAAAAAAAAAAAAAAAAAAAAAAAAAAAAAAAAAAAAAAAAAAAAAAAAAAAAAAAAAAAAAAAAAZmZmZmZm5j8AAAAAAAAAAAAAAAAAAAAAMzMzMzMzFUBmZmZmZmbmPwAAAAAAAAAAmpmZmZmZ8T8AAAAAAAAAAAAAAAAAAAAAmpmZmZmZ2T8AAAAAAAAMQAAAAAAAAAAAAAAAAAAAAADNzMzMzMweQAAAAAAAAAAAAAAAAAAAAAAAAAAAAAAAADMzMzMzszNAAAAAAAAAAAAAAAAAAAAAAAAAAAAAAAAAZmZmZmZm9j8AAAAAAAAAAAAAAAAAAAAAmpmZmZmZ6T8AAAAAAAAAAAAAAAAAAAAAAAAAAAAAAAAAAAAAAAAAAAAAAAAAAAAAAAAAAAAAAAAzMzMzMzPTPzMzMzMzMxdAMzMzMzMz0z\\u002fNzMzMzMz0PwAAAAAAAAAAmpmZmZmZ6T8AAAAAAAAAAGZmZmZmZuY\\u002fAAAAAAAAAADNzMzMzMwAQJqZmZmZmbk\\u002fzczMzMzMEkAAAAAAAAAcQGZmZmZmZhJAzczMzMzM7D8AAAAAAAD4P5qZmZmZmQFAAAAAAAAAAAAAAAAAAAAAAAAAAAAAAAAAMzMzMzMzA0AAAAAAAAAAAAAAAAAAAAAAmpmZmZmZCUAAAAAAAAAAADMzMzMzM\\u002fM\\u002fAAAAAAAAAACamZmZmZm5PwAAAAAAAAAAAAAAAAAAAABmZmZmZmYGQAAAAAAAAABAAAAAAAAA+D+amZmZmZnpP83MzMzMzBhAAAAAAAAA4D8AAAAAAAAAAAAAAAAAAAAAAAAAAAAAAAAzMzMzMzPzP5qZmZmZmQVAAAAAAAAAAACamZmZmZm5PwAAAAAAAAAAAAAAAAAAAACamZmZmZm5P5qZmZmZmck\\u002fZmZmZmZmEEAAAAAAAAAAAM3MzMzMzOw\\u002fmpmZmZmZCUCamZmZmZnJPwAAAAAAAAAAAAAAAAAAAAAAAAAAAAAAAAAAAAAAAOA\\u002fAAAAAAAAAAAAAAAAAADwP2ZmZmZmZuY\\u002fAAAAAAAAAACamZmZmZnZPwAAAAAAAAAAAAAAAAAAAAAAAAAAAAAAAAAAAAAAAAAAAAAAAAAAAAAAAAAAAAAAAAAAAAAAAAAAAAAAAAAAAAAAAAAAAAAAAM3MzMzMzCVAZmZmZmZmAkAzMzMzMzMLQAAAAAAAAAAAZmZmZmZmCkAAAAAAAAAQQAAAAAAAAAxAZmZmZmZmJkCamZmZmZkRQGZmZmZmZgJAAAAAAAAAAACamZmZmZkJQAAAAAAAAAAAAAAAAACAMUAAAAAAAAAWQAAAAAAAABBAAAAAAAAAAAAzMzMzMzMLQGZmZmZmZitAzczMzMzM\\u002fD8zMzMzMzMLQJqZmZmZmfE\\u002fZmZmZmZmBkAAAAAAAADgPwAAAAAAAAAAMzMzMzMz4z8zMzMzMzMrQDMzMzMzM\\u002fs\\u002fzczMzMzMK0DNzMzMzMwWQAAAAAAAAAAAMzMzMzMzE0CamZmZmZkTQDMzMzMzM\\u002fM\\u002fAAAAAAAA8D8zMzMzMzPTP5qZmZmZmQVAmpmZmZmZKUBmZmZmZmYSQM3MzMzMzCJAAAAAAAAAEEAzMzMzMzMHQGZmZmZmZgZAAAAAAAAAAAAAAAAAAAAAAAAAAAAAAAAAmpmZmZmZyT8AAAAAAAAAAAAAAAAAAAAAAAAAAAAAAAAAAAAAAAAAAAAAAAAAAAAAAAAAAAAAAAAAAAAAAAAAAAAAAAAAAAAAZmZmZmZm\\u002fj\\u002fNzMzMzMzsPwAAAAAAAAAAAAAAAAAAAADNzMzMzMz8P5qZmZmZmbk\\u002fmpmZmZmZBUDNzMzMzMz8P5qZmZmZmbk\\u002fMzMzMzMz+z8AAAAAAAAAAAAAAAAAAAAAAAAAAAAA4D8zMzMzMzPTPwAAAAAAAAAAAAAAAAAAAAAAAAAAAAAAADMzMzMzM\\u002fM\\u002fZmZmZmZm5j\\u002fNzMzMzMwrQAAAAAAAAAAAZmZmZmZmFkBmZmZmZmYGQAAAAAAAAAAAAAAAAAAA4D+amZmZmZm5P5qZmZmZmck\\u002fmpmZmZmZyT8AAAAAAAAAAAAAAAAAAAAAcEfcEXfE3T\\u002fWh8b60FjhP8HwAZ7UDsM\\u002fePyp2YtaAUAmZZu\\u002fDVjjPw==\"},\"xaxis\":\"x\",\"y\":{\"dtype\":\"f8\",\"bdata\":\"UrgehXut0UBcj8L1yHrRQM3MzMwsINlAZmZmZqbzzkCPwvUoXO3bQD0K16OQu89AmpmZmSmc1kBxPQrX80bQQAAAAACwj+tAj8L1KKxt0EB7FK5H8czQQClcj8IFFNtA16NwPbph1kDXo3A9KkLTQKRwPQoX5dRAhetRuP5BzkAK16NwLfPQQK5H4Xr0gtJAH4XrUVgb7UA9CtejsJXOQPYoXI\\u002fyBNdAUrgehQul0UCF61G4zrLQQClcj8LVQMtAH4XrUfDr4UCamZmZeVXOQArXo3Cd+tRAAAAAAGB31EApXI\\u002fCNVvTQMP1KFw\\u002f59ZASOF6FB5900DsUbgenbXlQLgehetRedFAXI\\u002fC9Ujt2kApXI\\u002fClevPQOxRuB7luM5AH4XrUci\\u002f00CF61G4DlPQQOF6FK5nH9JA16NwPWohzUBcj8L16PPPQB+F61F40NJASOF6FK7m1ECamZmZWYXMQDMzMzODb9JA16NwPTqE0kCuR+F6FMDVQHsUrkdhictAAAAAAGAT0kCF61G4TlzQQHE9CteDkNBAcT0K11OI0ECPwvUobJrQQFK4HoVLh89AUrgehZuK0ECF61G4zvPTQHE9CtfjJ9VAH4XrURh+0EApXI\\u002fCFZnNQLgeheuhw9RArkfhehSizEAK16NwPXrRQAAAAAAAr89ArkfhekRY0EDXo3A9alHPQIXrUbjOjulAPQrXowBG0kA9CtejIIjTQEjhehSu4NBAKVyPwrU20UAzMzMz8+bNQPYoXI\\u002fSX9BAH4XrUdjvykCPwvUo1FriQFK4HoWr289APQrXo1Bp1EDD9Shc+xf0QEjhehR+PNhA9ihcj4IBzEAAAAAAwHrOQPYoXI\\u002fSs9ZAmpmZmbmk00BxPQrXg3TXQHsUrkcRJdBAmpmZmekW0UBcj8L1WDDUQClcj8Ll8dhAj8L1KCx720BmZmZmNgrZQB+F61EY+dZAw\\u002fUoXN\\u002fp1ECkcD0Kf+flQNejcD0qn9RA16NwPVrX0UBSuB6FO+jVQFK4HoVrRtJAw\\u002fUoXB871kCPwvUofNzkQKRwPQoX1tNAMzMzMwPT0UCPwvUoXC\\u002fRQHsUrkcxcdJAj8L1KAyR2UBSuB6FW0vUQGZmZmam29NAMzMzM5My0kBI4XoU7t7WQI\\u002fC9Shchs1AzczMzCyUzECF61G4vlDIQM3MzMxM2dxAXI\\u002fC9Zhx6EDNzMzM7OzNQHE9CtfjXM9A16NwPapZzkDD9ShcX9XVQPYoXI9y1tRAcT0K19vl4UApXI\\u002fC1YnVQHE9CtdDcdpA7FG4HrUt0EBmZmZmBrzNQFK4HoWrxc9AexSuR6Ex0ECamZmZCTrRQArXo3Ddz9JAUrgehesK80CuR+F6lA\\u002fLQPYoXI9i7ctAH4XrURga3EC4HoXrkQnYQJqZmZn5JeBAZmZmZuZs8UBSuB6Fy7DSQIXrUbhaF\\u002flAzczMzCz7zkAAAAAAoAnYQB+F61GootNA9ihcj8JM0kAfhetRuAvWQEjhehQuYdZAUrgehQun0kCamZmZOR\\u002fVQB+F61EImONAw\\u002fUoXE\\u002fv0UAK16Nw3T3TQAAAAACA7dNAexSuR6FF00AK16NwvV\\u002fVQB+F61FIn9VACtejcJ3b00CamZmZ6brTQB+F61HocNRAZmZmZjaY00DXo3A9KqXPQHsUrkfxNNFAFK5H4ZoczUAUrkfhyiLXQEjhehSu5s9AhetRuM5o4UBI4XoUnvPXQFK4HoV719xAexSuR0Gh4kDNzMzMeGv3QMP1KFzPndlAH4XrUehu30AzMzMz83baQBSuR+Gqx9FAuB6F68Hh00CkcD0K153UQAAAAACADNRAj8L1KNzO0UAUrkfh6jDRQBSuR+GqKt1AAAAAAOCU10CPwvUojJ3XQBSuR+FKEdRAPQrXozCU1UBmZmZmFi\\u002fTQArXo3AdcNFA16NwPaod0kDXo3A9qq3OQBSuR+Gq3tJAPQrXoyA20kDD9ShcT8vSQFK4HoXrsNdA7FG4HiWqyUAAAAAAgF\\u002fSQD0K16Nwj9VACtejcDUM4kCPwvUo7BrdQOxRuB6l+tBAj8L1KBwa20A9CtejEKTeQDMzMzOz69pA16NwPSpS1UBSuB6F++HRQHsUrkdBJMpApHA9Cufr1kCPwvUoXADKQFyPwvU4Y99ArkfhepTY0UAK16Nw3avSQOxRuB5Vd9NAAAAAACAzzkDhehSuN4vYQAAAAADQH9BASOF6FL761kDsUbgedZrTQI\\u002fC9Si8C9NACtejcD2PzUCkcD0KlwbRQLgehevBZNJAhetRuL6G1UBmZmZmRvPQQOxRuB61WdVACtejcF3J0kBI4XoUnsjRQEjhehTO99BACtejcF2qzEBcj8L1qOTKQJqZmZlZi9BAzczMzOwa1UBmZmZmVgPRQDMzMzOzhNFA4XoUrgfty0C4HoXr4avSQDMzMzPjhdFAzczMzOyj1UAfhetRCKLTQAAAAABgQtJASOF6FH6q0EA9Ctej4CPXQM3MzMys19hAcT0K1yNAz0Bcj8L1SNTJQM3MzMxMvdBAMzMzM9dh9kAfhetRuFnMQDMzMzMTPMxAFK5H4Xq3zUB7FK5HIX3UQBSuR+ESSuJAKVyPwuVi0kAzMzMzU0jSQPYoXI8yFNFAzczMzMzX1kB7FK5H4Y3WQAAAAADQRNZAzczMzMzH1UAUrkfhCvreQIXrUbie8s9AexSuR8GBz0CPwvUo3BbQQIXrUbhebdRAMzMzM2OB00DsUbgexZ3QQClcj8LVH9NAKVyPwlV000AfhetRqBzTQI\\u002fC9Sj8MNNAcT0K1wMS1kAK16NwXSbSQDMzMzNT0ddArkfhekSf2EAAAAAA4ILTQHE9Cteju89AAAAAADB21EAAAAAAUBTQQJqZmZn5+M9AMzMzM\\u002fPa0UCkcD0Kd9zUQJqZmZk5ys5ACtejcD3zyEAUrkfhuvDaQArXo3CdZtNAPQrXowDT0ECkcD0KpwPVQAAAAAAgqtpAH4XrUTjQ1kD2KFyPUtTUQFK4HoX72tVACtejcH1w2kBcj8L1CG7XQJqZmZmJXdZAKVyPwjVU0kBcj8L16BrZQAAAAAAg5NlAFK5H4fr8zUCuR+F69OzUQJqZmZmZw9NAFK5H4erg0ECPwvUorBnXQOF6FK5XYtlArkfherQA1kD2KFyPcpXTQNejcD3qJNBAZmZmZgYG1kBI4XoUzk7NQClcj8I1XM9A7FG4HuVh10BmZmZmtkbQQBSuR+FKM9FAmpmZmXmLzkAAAAAA0MTTQNejcD3qdNRAKVyPwrUMzkC4HoXr0S\\u002fUQGZmZmZGxdZAexSuR1GM0ECuR+F6BEHVQKRwPQqng9ZACtejcG0400CamZmZqWbWQK5H4XrUVc9AcT0K18NJ00DNzMzM\\u002fKjVQI\\u002fC9SjMTtFAMzMzMxN0zUBmZmZm1s\\u002fTQOF6FK7Hes5APQrXo2A50UCPwvUovBHUQKRwPQoHitJA9ihcj5IU0kBmZmZmRqfTQDMzMzMTa9FAj8L1KPzMykD2KFyPgnDUQHsUrkdh1NJA16NwPdoj7EAfhetRyNTRQJqZmZnJ1dRAcT0K15Mn6UAAAAAAUIrdQBSuR+Eas9VAuB6F6yFD2EDD9ShcfwLhQGZmZma2V9FAPQrXo4AA20B7FK5HUWbeQB+F61F4\\u002fdJAUrgehesw00AUrkfhymblQDMzMzODTdhA7FG4Hu1R40BI4XoUXo7RQLgehesBt9NApHA9Cqdy10ApXI\\u002fCZd3TQK5H4XqUcOdAAAAAANCc2EAfhetRWPDZQHsUrkfBL9RA9ihcj7Lz1EDD9Shcrx3UQHE9Ctfj2NVAFK5H4arS4ECkcD0K96jRQD0K16MgI+BAFK5H4Sph10CuR+F6hE3QQD0K16NwvtVAPQrXo1BT2EDNzMzMfArRQMP1KFxP0tFAexSuR6EFy0DXo3A9KhPRQOF6FK5HH9JAKVyPwnU+0EDhehSu5yrWQOF6FK6HA9RAMzMzM5Pn0UAfhetR+LTQQMP1KFwPy9NAUrgehQs7z0BI4XoUjh3TQHsUrkfRn9VA16NwPRrL20AAAAAAMFzRQHsUrkcxWtRAUrgehVNU4UDhehSuRz7SQArXo3CNU9ZAH4XrUYjP30BxPQrXA8PiQI\\u002fC9ShsItZAexSuR0Hg0EDD9ShcDz7TQNejcD2qsNJAZmZmZka70EBSuB6FKyvSQI\\u002fC9Sg8yc5AuB6F6zFf1UAzMzMzo9HbQJqZmZkJedVAcT0K14Pq00AUrkfh2hPPQFyPwvVIWtxAH4XrUdjj3EDD9Shcn\\u002fjSQJqZmZn5zMpA16NwPYpOzkCF61G4vm\\u002fUQGZmZmbeI\\u002flArkfheiQ11EBI4XoU7lrWQIXrUbget99Aj8L1KIxa3ECPwvUozITQQClcj8IVIOFArkfhekxT4kAK16NwTQrSQJqZmZlZNMtAj8L1KCyq00Bcj8L1SE3PQClcj8IVjdNA7FG4HqWFy0DsUbgeRfvOQEjhehTOLNtA9ihcjyJ3z0B7FK5Hwb3NQHsUrkeB1NdAuB6F69GF00D2KFyPQmDPQD0K16OwE9VAAAAAAMAa0UA9CtejkNHQQKRwPQqnTNBA4XoUruemzkAAAAAAoAzRQLgehethJNFA16NwPfpU1UDD9ShcLxLRQClcj8LV99FAZmZmZkYM4UAUrkfhWgnVQLgehesxMNVAw\\u002fUoXM9b2UBSuB6Fq+HRQBSuR+EaL9BAXI\\u002fC9RhY0EDsUbge5YLYQClcj8L1rNNAFK5H4Up81EDD9ShcH+7QQArXo3Ad2s9Aw\\u002fUoXO9OzkApXI\\u002fCdXrPQNejcD1qsslAAAAAAIDk0kCkcD0K503RQDMzMzMzt9FA4XoUrsfKykAK16Nw\\u002fULLQClcj8I1cc5A9ihcj+KtyUAUrkfhynzYQOxRuB7lYM5A9ihcjzIQ0kDNzMzMrNDMQM3MzMyshtBAcT0K18Nb2UB7FK5HIcnNQM3MzMxsoc1AKVyPwkV410BxPQrXY1LUQM3MzMwccdVASOF6FO4P0kBI4XoUTuTRQJqZmZmJavxAj8L1KPx\\u002f1EDD9ShcryjVQOxRuB7FQdVA9ihcj0L6zkAK16NwDUfUQHsUrkeRltRAmpmZmWlW10BmZmZmFhvVQJqZmZnJi9NA7FG4HhVV1EA9CtejUHPSQKRwPQr3u89AH4XrUQiO1ECPwvUorFzYQHE9CtcjRtFAUrgehStIz0BI4XoUbgPPQArXo3DtddRAj8L1KHyGzEA9CtejwFHRQArXo3AdvNFAZmZmZob9zkBmZmZm1n\\u002fQQClcj8KFItJAUrgehQvE1ECuR+F6NPzSQAAAAABAVNZApHA9Cpfp0EA9CtejEEfRQKRwPQpHGNFAmpmZmZm11EDhehSuZ6PTQB+F61EIXNdAFK5H4Ro+0ECF61G4tkP2QM3MzMzs1MtAMzMzM0NH3kBSuB6Fy1vQQMP1KFxPnsZAPQrXoyAh0kBSuB6FS8vcQPYoXI\\u002fiL9NAAAAAALAZ00Bcj8L1KC\\u002fOQJqZmZm5uNBAMzMzM4Pt0UCF61G4rjbQQGZmZmZ2c9JAKVyPwkUR0EDXo3A9movVQM3MzMxc0ddAuB6F65EM0EApXI\\u002fCBVbTQBSuR+GawM9ApHA9CudY1EAfhetR+LrNQEjhehQeGdFA7FG4HoWm1UCPwvUoDKHXQHE9CteV+ABBmpmZmXmM0kAfhetROCfUQOF6FK63fNJAKVyPwnVM2ECamZmZ4ZzhQD0K16Pw7tNAKVyPwlVG1EBxPQrXo93RQEjhehRWFeBA16NwPQrd1UAzMzMzoxnRQD0K16NAMtBACtejcC2B1UBcj8L1OAHTQBSuR+GK0NJAPQrXo6Av0EBmZmZmxsTZQD0K16Ow39NA4XoUricZ1EDsUbgelSHSQK5H4XoEFdRASOF6FF4p0kBmZmZmhp7VQClcj8Kl89FAexSuR\\u002fEA1EDD9ShcX9XVQClcj8Klp9RA9ihcj+Jq1UDhehSuByPVQOxRuB51OdFAXI\\u002fC9VjU10DNzMzMvAXiQPYoXI8S3dBAFK5H4YqK0kCF61G4nlLVQArXo3A9rNRAzczMzFzO2EC4HoXrsWHOQNejcD3Khc9AZmZmZkaj3EA9Ctej8G\\u002fVQGZmZmYmic5ACtejcJ0zy0C4HoXr8UTQQHE9Ctezf9VAUrgehSvI1kCPwvUoXNLZQDMzMzPzWeFArkfheqT10EBcj8L1mBzVQBSuR+GKO9NAhetRuP74z0CamZmZSXXSQIXrUbie9M9AFK5H4Vqw3UBxPQrXUwXSQMP1KFyvw9BAzczMzNwK2UBcj8L1SBrMQJqZmZn5+8hA7FG4HpWu0EDXo3A92sTSQOF6FK7XTtJAhetRuP4Rz0ApXI\\u002fCFYzXQAAAAACgZslASOF6FA4QzEDsUbgeNQbYQFyPwvUI9NFAexSuR+H6yEDXo3A9uvjfQPYoXI+Cuc9AcT0K1yPN20A9CtejYATRQKRwPQrHnddAcT0K12Nk00DD9Shcj1rQQOF6FK6X59lAhetRuB5CzkDNzMzMLPTQQLgehevBKuFAUrgehesS00CF61G4ntrOQClcj8JlStlAKVyPwpVwzUDXo3A9+qDSQFyPwvXYHt5AZmZmZrbc0kB7FK5HoSHXQFK4HoVrmM5APQrXo\\u002fB630DsUbgelb7fQKRwPQo3K9tAKVyPwpXNz0AzMzMzcxjjQHsUrkc54+NA7FG4HsUL10BSuB6F2yPUQLgehevxWNFAmpmZmSl+1UDD9Shc\\u002f3jaQI\\u002fC9SgcQNxA16NwPYrz1EDNzMzMnMbiQNejcD06\\u002fNlAMzMzM9PnzkDXo3A9ynjTQGZmZmYGQt1ASOF6FM4s10DhehSuR97cQOxRuB7FuN5A4XoUrpcX1kBSuB6F63fUQJqZmZlp2dNAcT0K11O50EApXI\\u002fCVTXPQAAAAACwk+VAPQrXo9DDzECPwvUorJzTQK5H4Xr029FA9ihcjwIjzEDNzMzM\\u002fGHWQAAAAABA4dZA4XoUrifs0kC4HoXrcV7XQHsUrkdxadFA4XoUroeu0UD2KFyPMg7UQClcj8L1c9NAKVyPwqXC0UCamZmZaZDSQB+F61EoUNBAcT0K18PN2ECamZmZCUHYQHE9CtfzWtFA7FG4Hm124EAUrkfhWgzUQBSuR+Hqa9dAMzMzM7Pe1EDhehSuV6LYQI\\u002fC9Sg8GtZAKVyPwgVs00B7FK5H0QrSQJqZmZkJDtlAAAAAABC34EBcj8L1SKrYQKRwPQqnyNBAmpmZmRmq1ECF61G4\\u002ft3eQClcj8JlQdRAcT0K17Mp3UC4HoXroTfYQLgeheuxN9lAuB6F6zFD0EA9CtejcDvQQClcj8LFYt1AMzMzM0Mf0kAAAAAAALXTQGZmZmb2CtJApHA9CveaykAUrkfhqgLYQMP1KFw\\u002fatJAKVyPwhWX0ECkcD0Kl97PQGZmZmZGi9FAzczMzOwI0UAzMzMzUyvWQIXrUbge2tVAj8L1KNR64UAzMzMzAwLTQK5H4XoEVdBAw\\u002fUoXH8f0UCuR+F6JM7UQClcj8LF4eBAmpmZmZnOzUAfhetRuOfQQD0K16PAOOFAXI\\u002fC9fga0UDNzMzMDPrRQHE9CteDEclAuB6F62lf7kCkcD0K1+3PQB+F61HYBdNAuB6F6zEw1EDhehSud1\\u002fRQMP1KFwf3dBAUrgehSv22kAAAAAAEIvWQB+F61EI99VASOF6FA5L0ED2KFyPYunaQBSuR+Ga\\u002fc5AcT0K10PS1EDD9Shch3DiQPYoXI9yXORAFK5H4UoP2kDXo3A9anzNQK5H4XoU8NZAcT0K1+ND4UAK16NwnXP6QBSuR+HqMNdAcT0K1zOd00AzMzMzY+vQQClcj8KVj9BAUrgehWOz7EBmZmZmllbYQIXrUbg+SNhACtejcB0h1EDNzMzMDKzUQClcj8J1YNVAKVyPwnWJ1EA9CtejYBDUQFK4HoWryM5AMzMzMzOOzUAzMzMzk3fPQBSuR+G6O89AH4XrURhazUDhehSuZzbZQK5H4XpElNhAmpmZmTkn0kBSuB6Fm4zYQClcj8I1Z9BAXI\\u002fC9cgU2EBI4XoUTiLUQBSuR+Ga4sxAUrgehStX20AK16NwZarzQAAAAABwQ91A16NwPfqc0UApXI\\u002fCJW3gQArXo3Dde99AMzMzM7Mt5EBcj8L1aMjfQPYoXI9CONNAFK5H4eqV00CamZmZcf\\u002fgQBSuR+FK2OlAUrgehet10kB7FK5HwdHTQLgeheuxMdZA7FG4Hs3v8kCamZmZuSfSQHsUrkcpfuJAzczMzIxp1UAfhetR+FbZQNejcD16EdVAhetRuH4g1UAzMzMzEwrNQFK4HoVr49BApHA9CvfszkDsUbgeBQDWQD0K16PA6NBAexSuR5GA0UC4HoXrkebaQIXrUbg+PdNAKVyPwqU20UDsUbgeVVjRQEjhehROCNNA4XoUrietz0C4HoXrsWDKQFyPwvUoCMhAj8L1KPw21UDhehSu98nSQLgehethB9JAuB6F66He0UCamZmZuaPKQHsUrkcBp9RAPQrXo5DM0ECamZmZuWvTQClcj8K1ts9AmpmZmdlfzUCuR+F6JObTQFyPwvWo6dBApHA9Crcw1UCF61G4PiPQQIXrUbiewtRACtejcI3f0UCamZmZGV3HQHsUrkchb8lApHA9ChfX0EA9CtejEKHHQOxRuB4FvNFAmpmZmdlU0EDsUbgeVd3RQKRwPQpXgM1AhetRuB5ZzEAK16NwfVTOQFyPwvWoc91Aj8L1KHxS00C4HoXrgfXQQI\\u002fC9Sg8bdFA7FG4HpWP0kDhehSu5ybPQDMzMzMjctRAhetRuG4y0kCF61G47tTRQPYoXI\\u002filMxAZmZmZraM00BxPQrXg6DTQFyPwvX4VdNApHA9Ctc6ykCPwvUo\\u002fMPLQM3MzMz86NVAXI\\u002fC9WAz4kCPwvUoXBDPQIXrUbieTNJAuB6F6\\u002fEw1UBmZmZmVjjfQLgehespReRA4XoUrjcz00AfhetRuGjTQKRwPQp3aNFASOF6FE6h1UDsUbgeBaPSQB+F61E4DtJAH4XrUeiR0kDD9ShcTz7KQNejcD1qe9NAmpmZmWk11EDNzMzMXODXQLgehesxV9BA4XoUrjds3UB7FK5H0W3UQOF6FK4nXcVAFK5H4doz1kB7FK5Hge\\u002fRQJqZmZmJzdJAhetRuN5vw0AzMzMzw+LRQFyPwvXoctVA16NwPSof00BI4XoUrhzZQM3MzMyMysxAhetRuA7J00CamZmZSa3YQMP1KFyfJNBAH4XrUUjq2UCF61G4Pi7WQClcj8JVzctAPQrXo7Bl10DNzMzMDDDUQFK4HoW7gdZAFK5H4YrU00DsUbgexcvRQGZmZmZGNNFAAAAAAKBm00AzMzMz4\\u002fDSQHsUrkfxqNNA4XoUrjd11UB7FK5HgYnVQB+F61HYbNNAj8L1KHwD00AfhetRqBnTQAAAAAAwzdJAMzMzM+PZ0kDsUbgehX3RQNejcD2qT89ApHA9CveO0kB7FK5HwTbPQIXrUbgOXdRAzczMzEz7zUAfhetRGFbNQClcj8K1p9JArkfhekR600CF61G4PnLgQArXo3Ad2NBAZmZmZmZ61ECF61G4PlbUQI\\u002fC9Si8i81AzczMzKyxzUA9CtejIMfTQMP1KFxPf85AexSuR5FQ10CF61G47n3TQLgehetxBs1ACtejcH3X0UBxPQrXY3rSQOF6FK5X0tBAw\\u002fUoXA9t1UBxPQrXk6bSQK5H4XrUQdBAAAAAACDry0B7FK5HAc3NQJqZmZnp3NZAPQrXoyAm0UA9CtejoO\\u002fTQClcj8Jl6tFASOF6FN790kAzMzMzswLSQDMzMzPzlddAuB6F67FI0UBI4XoUbpzNQDMzMzOTTtZAexSuR8Fj00AAAAAAcNHQQArXo3AlfOBAMzMzM7N83kDsUbgepcrTQB+F61E4YtJAMzMzMxPB1ED2KFyPUlvTQA==\"},\"yaxis\":\"y\",\"type\":\"scatter\"},{\"hovertemplate\":\"\\u003cb\\u003eOLS trendline\\u003c\\u002fb\\u003e\\u003cbr\\u003eExpense per ADA = 115.336 * Migrant (%) + 22013.3\\u003cbr\\u003eR\\u003csup\\u003e2\\u003c\\u002fsup\\u003e=0.001540\\u003cbr\\u003e\\u003cbr\\u003eMigrant (%)=%{x}\\u003cbr\\u003eExpense per ADA ($)=%{y} \\u003cb\\u003e(trend)\\u003c\\u002fb\\u003e\\u003cextra\\u003e\\u003c\\u002fextra\\u003e\",\"legendgroup\":\"\",\"line\":{\"color\":\"red\"},\"marker\":{\"color\":\"#636efa\",\"symbol\":\"circle\"},\"mode\":\"lines\",\"name\":\"\",\"showlegend\":false,\"x\":{\"dtype\":\"f8\",\"bdata\":\"AAAAAAAAAAAAAAAAAAAAAAAAAAAAAAAAAAAAAAAAAAAAAAAAAAAAAAAAAAAAAAAAAAAAAAAAAAAAAAAAAAAAAAAAAAAAAAAAAAAAAAAAAAAAAAAAAAAAAAAAAAAAAAAAAAAAAAAAAAAAAAAAAAAAAAAAAAAAAAAAAAAAAAAAAAAAAAAAAAAAAAAAAAAAAAAAAAAAAAAAAAAAAAAAAAAAAAAAAAAAAAAAAAAAAAAAAAAAAAAAAAAAAAAAAAAAAAAAAAAAAAAAAAAAAAAAAAAAAAAAAAAAAAAAAAAAAAAAAAAAAAAAAAAAAAAAAAAAAAAAAAAAAAAAAAAAAAAAAAAAAAAAAAAAAAAAAAAAAAAAAAAAAAAAAAAAAAAAAAAAAAAAAAAAAAAAAAAAAAAAAAAAAAAAAAAAAAAAAAAAAAAAAAAAAAAAAAAAAAAAAAAAAAAAAAAAAAAAAAAAAAAAAAAAAAAAAAAAAAAAAAAAAAAAAAAAAAAAAAAAAAAAAAAAAAAAAAAAAAAAAAAAAAAAAAAAAAAAAAAAAAAAAAAAAAAAAAAAAAAAAAAAAAAAAAAAAAAAAAAAAAAAAAAAAAAAAAAAAAAAAAAAAAAAAAAAAAAAAAAAAAAAAAAAAAAAAAAAAAAAAAAAAAAAAAAAAAAAAAAAAAAAAAAAAAAAAAAAAAAAAAAAAAAAAAAAAAAAAAAAAAAAAAAAAAAAAAAAAAAAAAAAAAAAAAAAAAAAAAAAAAAAAAAAAAAAAAAAAAAAAAAAAAAAAAAAAAAAAAAAAAAAAAAAAAAAAAAAAAAAAAAAAAAAAAAAAAAAAAAAAAAAAAAAAAAAAAAAAAAAAAAAAAAAAAAAAAAAAAAAAAAAAAAAAAAAAAAAAAAAAAAAAAAAAAAAAAAAAAAAAAAAAAAAAAAAAAAAAAAAAAAAAAAAAAAAAAAAAAAAAAAAAAAAAAAAAAAAAAAAAAAAAAAAAAAAAAAAAAAAAAAAAAAAAAAAAAAAAAAAAAAAAAAAAAAAAAAAAAAAAAAAAAAAAAAAAAAAAAAAAAAAAAAAAAAAAAAAAAAAAAAAAAAAAAAAAAAAAAAAAAAAAAAAAAAAAAAAAAAAAAAAAAAAAAAAAAAAAAAAAAAAAAAAAAAAAAAAAAAAAAAAAAAAAAAAAAAAAAAAAAAAAAAAAAAAAAAAAAAAAAAAAAAAAAAAAAAAAAAAAAAAAAAAAAAAAAAAAAAAAAAAAAAAAAAAAAAAAAAAAAAAAAAAAAAAAAAAAAAAAAAAAAAAAAAAAAAAAAAAAAAAAAAAAAAAAAAAAAAAAAAAAAAAAAAAAAAAAAAAAAAAAAAAAAAAAAAAAAAAAAAAAAAAAAAAAAAAAAAAAAAAAAAAAAAAAAAAAAAAAAAAAAAAAAAAAAAAAAAAAAAAAAAAAAAAAAAAAAAAAAAAAAAAAAAAAAAAAAAAAAAAAAAAAAAAAAAAAAAAAAAAAAAAAAAAAAAAAAAAAAAAAAAAAAAAAAAAAAAAAAAAAAAAAAAAAAAAAAAAAAAAAAAAAAAAAAAAAAAAAAAAAAAAAAAAAAAAAAAAAAAAAAAAAAAAAAAAAAAAAAAAAAAAAAAAAAAAAAAAAAAAAAAAAAAAAAAAAAAAAAAAAAAAAAAAAAAAAAAAAAAAAAAAAAAAAAAAAAAAAAAAAAAAAAAAAAAAAAAAAAAAAAAAAAAAAAAAAAAAAAAAAAAAAAAAAAAAAAAAAAAAAAAAAAAAAAAAAAAAAAAAAAAAAAAAAAAAAAAAAAAAAAAAAAAAAAAAAAAAAAAAAAAAAAAAAAAAAAAAAAAAAAAAAAAAAAAAAAAAAAAAAAAAAAAAAAAAAAAAAAAAAAAAAAAAAAAAAAAAAAAAAAAAAAAAAAAAAAAAAAAAAAAAAAAAAAAAAAAAAAAAAAAAAAAAAAAAAAAAAAAAAAAAAAAAAAAAAAAAAAAAAAAAAAAAAAAAAAAAAAAAAAAAAAAAAAAAAAAAAAAAAAAAAAAAAAAAAAAAAAAAAAAAAAAAAAAAAAAAAAAAAAAAAAAAAAAAAAAAAAAAAAAAAAAAAAAAAAAAAAAAAAAAAAAAAAAAAAAAAAAAAAAAAAAAAAAAAAAAAAAAAAAAAAAAAAAAAAAAAAAAAAAAAAAAAAAAAAAAAAAAAAAAAAAAAAAAAAAAAAAAAAAAAAAAAAAAAAAAAAAAAAAAAAAAAAAAAAAAAAAAAAAAAAAAAAAAAAAAAAAAAAAAAAAAAAAAAAAAAAAAAAAAAAAAAAAAAAAAAAAAAAAAAAAAAAAAAAAAAAAAAAAAAAAAAAAAAAAAAAAAAAAAAAAAAAAAAAAAAAAAAAAAAAAAAAAAAAAAAAAAAAAAAAAAAAAAAAAAAAAAAAAAAAAAAAAAAAAAAAAAAAAAAAAAAAAAAAAAAAAAAAAAAAAAAAAAAAAAAAAAAAAAAAAAAAAAAAAAAAAAAAAAAAAAAAAAAAAAAAAAAAAAAAAAAAAAAAAAAAAAAAAAAAAAAAAAAAAAAAAAAAAAAAAAAAAAAAAAAAAAAAAAAAAAAAAAAAAAAAAAAAAAAAAAAAAAAAAAAAAAAAAAAAAAAAAAAAAAAAAAAAAAAAAAAAAAAAAAAAAAAAAAAAAAAAAAAAAAAAAAAAAAAAAAAAAAAAAAAAAAAAAAAAAAAAAAAAAAAAAAAAAAAAAAAAAAAAAAAAAAAAAAAAAAAAAAAAAAAAAAAAAAAAAAAAAAAAAAAAAAAAAAAAAAAAAAAAAAAAAAAAAAAAAAAAAAAAAAAAAAAAAAAAAAAAAAAAAAAAAAAAAAAAAAAAAAAAAAAAAAAAAAAAAAAAAAAAAAAAAAAAAAAAAAAAAAAAAAAAAAAAAAAAAAAAAAAAAAAAAAAAAAAAAAAAAAAAAAAAAAAAAAAAAAAAAAAAAAAAAAAAAAAAAAAAAAAAAAAAAAAAAAAAAAAAAAAAAAAAAAAAAAAAAAAAAAAAAAAAAAAAAAAAAAAAAAAAAAAAAAAAAAAAAAAAAAAAAAAAAAAAAAAAAAAAAAAAAAAAAAAAAAAAAAAAAAAAAAAAAAAAAAAAAAAAAAAAAAAAAAAAAAAAAAAAAAAAAAAAAAAAAAAAAAAAAAAAAAAAAAAAAAAAAAAAAAAAAAAAAAAAAAAAAAAAAAAAAAAAAAAAAAAAAAAAAAAAAAAAAAAAAAAAAAAAAAAAAAAAAAAAAAAAAAAAAAAAAAAAAAAAAAAAAAAAAAAAAAAAAAAAAAAAAAAAAAAAAAAAAAAAAAAAAAAAAAAAAAAAAAAAAAAAAAAAAAAAAAAAAAAAAAAAAAAAAAAAAAAAAAAAAAAAAAAAAAAAAAAAAAAAAAAAAAAAAAAAAAAAAAAAAAAAAAAAAAAAAAAAAAAAAAAAAAAAAAAAAAAAAAAAAAAAAAAAAAAAAAAAAAAAAAAAAAAAAAAAAAAAAAAAAAAAAAAAAAAAAAAAAAAAAAAAAAAAAAAAAAAAAAAAAAAAAAAAAAAAAAAAAAAAAAAAAAAAAAAAAAAAAAAAAAAAAAAAAAAAAAAAAAAAAAAAAAAAAAAAAAAAAAAAAAAAAAAAAAAAAAAAAAAAAAAAAAAAAAAAAAAAAAAAAAAAAAAAAAAAAAAAAAAAAAAAAAAAAAAAAAAAAAAAAAAAAAAAAAAAAAAAAAAAAAAAAAAAAAAAAAAAAAAAAAAAAAAAAAAAAAAAAAAAAAAAAAAAAAAAAAAAAAAAAAAAAAAAAAAAAAAAAAAAAAAAAAAAAAAAAAAAAAAAAAAAAAAAAAAAAAAAAAAAAAAAAAAAAAAAAAAAAAAAAAAAAAAAAAAAAAAAAAAAAAAAAAAAAAAAAAAAAAAAAAAAAAAAAAAAAAAAAAAAAAAAAAAAAAAAAAAAAAAAAAAAAAAAAAAAAAAAAAAAAAAAAAAAAAAAAAAAAAAAAAAAAAAAAAAAAAAAAAAAAAAAAAAAAAAAAAAAAAAAAAAAAAAAAAAAAAAAAAAAAAAAAAAAAAAAAAAAAAAAAAAAAAAAAAAAAAAAAAAAAAAAAAAAAAAAAAAAAAAAAAAAAAAAAAAAAAAAAAAAAAAAAAAAAAAAAAAAAAAAAAAAAAAAAAAAAAAAAAAAAAAAAAAAAAAAAAAAAAAAAAAAAAAAAAAAAAAAAAAAAAAAAAAAAAAAAAAAAAAAAAAAAAAAAAAAAAAAAAAAAAAAAAAAAAAAAAAAAAAAAAAAAAAAAAAAAAAAAAAAAAAAAAAAAAAAAAAAAAAAAAAAAAAAAAAAAAAAAAAAAAAAAAAAAAAAAAAAAAAAAAAAAAAAAAAAAAAAAAAAAAAAAAAAAAAAAAAAAAAAAAAAAAAAAAAAAAAAAAAAAAAAAAAAAAAAAAAAAAAAAAAAAAAAAAAAAAAAAAAAAAAAAAAAAAAAAAAAAAAAAAAAAAAAAAAAAAAAAAAAAAAAAAAAAAAAAAAAAAAAAAAAAAAAAAAAAAAAAAAAAAAAAAAAAAAAAAAAAAAAAAAAAAAAAAAAAAAAAAAAAAAAAAAAAAAAAAAAAAAAAAAAAAAAAAAAAAAAAAAAAAAAAAAAAAAAAAAAAAAAAAAAAAAAAAAAAAAAAAAAAAAAAAAAAAAAAAAAAAAAAAAAAAAAAAAAAAAAAAAAAAAAAAAAAAAAAAAAAAAAAAAAAAAAAAAAAAAAAAAAAAAAAAAAAAAAAAAAAAAAAAAAAAAAAAAAAAAAAAAAAAAAAAAAAAAAAAAAAAAAAAAAAAAAAAAAAAAAAAAAAAAAAAAAAAAAAAAAAAAAAAAAAAAAAAAAAAAAAAAAAAAAAAAAAAAAAAAAAAAAAAAAAAAAAAAAAAAAAAAAAAAAAAAAAAAAAAAAAAAAAAAAAAAAAAAAAAAAAAAAAAAAAAAAAAAAAAAAAAAAAAAAAAAAAAAAAAAAAAAAAAAAAAAAAAAAAAAAAAAAAAAAAAAAAAAAAAAAAAAAAAAAAAAAAAAAAAAAAAAAAAAAAAAAAAAAAAAAAAAAAAAAAAAAAAAAAAAAAAAAAAAAAAAAAAAAAAAAAAAAAAAAAAAAAAAAAAAAAAAAAAAAAAAAAAAAAAAAAAAAAAAAAAAAAAAAAAAAAAAAAAAAAAAAAAAAAAAAAAAAAAAAAAAAAAAAAAAAAAAAAAAAAAAAAAAAAAAAAAAAAAAAAAAAAAAAAAAAAAAAAAAAAAAAAAAAAAAAAAAAAAAAAAAAAAAAAAAAAAAAAAAAAAAAAAAAAAAAAAAAAAAAAAAAAAAAAAAAAAAAAAAAAAAAAAAAAAAAAAAAAAAAAAAAAAAAAAAAAAAAAAAAAAAAAAAAAAAAAAAAAAAAAAAAAAAAAAAAAAAAAAAAAAAAAAAAAAAAAAAAAAAAAAAAAAAAAAAAAAAAAAAAAAAAAAAAAAAAAAAAAAAAAAAAAAAAAAAAAAAAAAAAAAAAAAAAAAAAAAAAAAAAAAAAAAAAAAAAAAAAAAAAAAAAAAAAAAAAAAAAAAAAAAAAAAAAAAAAAAAAAAAAAAAAAAAAAAAAAAAAAAAAAAAAAAAAAAAAAAAAAAAAAAAAAAAAAAAAAAAAAAAAAAAAAAAAAAAAAAAAAAAAAAAAAAAAAAAAAAAAAAAAAAAAAAAAAAAAAAAAAAAAAAAAAAAAAAAAAAAAAAAAAAAAAAAAAAAAAAAAAAAAAAAAAAAAAAAAAAAAAAAAAAAAAAAAAAAAAAAAAAAAAAAAAAAAAAAAAAAAAAAAAAAAAAAAAAAAAAAAAAAAAAAAAAAAAAAAAAAAAAAAAAAAAAAAAAAAAAAAAAAAAAAAAAAAAAAAAAAAAAAAAAAAAAAAAAAAAAAAAAAAAAAAAAAAAAAAAAAAAAAAAAAAAAAAAAAAAAAAAAAAAAAAAAAAAAAAAAAAAAAAAAAAAAAAAAAAAAAAAAAAAAAAAAAAAAAAAAAAAAAAAAAAAAAAAAAAAAAAAAAAAAAAAAAAAAAAAAAAAAAAAAAAAAAAAAAAAAAAAAAAAAAAAAAAAAAAAAAAAAAAAAAAAAAAAAAAAAAAAAAAAAAAAAAAAAAAAAAAAAAAAAAAAAAAAAAAAAAAAAAAAAAAAAAAAAAAAAAAAAAAAAAAAAAAAAAAAAAAAAAJqZmZmZmbk\\u002fmpmZmZmZuT+amZmZmZm5P5qZmZmZmbk\\u002fmpmZmZmZuT+amZmZmZm5P5qZmZmZmbk\\u002fmpmZmZmZuT+amZmZmZm5P5qZmZmZmbk\\u002fmpmZmZmZuT+amZmZmZm5P5qZmZmZmbk\\u002fmpmZmZmZuT+amZmZmZm5P5qZmZmZmbk\\u002fmpmZmZmZuT+amZmZmZm5P5qZmZmZmbk\\u002fmpmZmZmZuT+amZmZmZm5P5qZmZmZmbk\\u002fmpmZmZmZuT+amZmZmZm5P5qZmZmZmbk\\u002fmpmZmZmZuT+amZmZmZm5P5qZmZmZmbk\\u002fmpmZmZmZuT+amZmZmZm5P5qZmZmZmbk\\u002fmpmZmZmZuT+amZmZmZm5P5qZmZmZmbk\\u002fmpmZmZmZuT+amZmZmZm5P5qZmZmZmbk\\u002fmpmZmZmZuT+amZmZmZm5P5qZmZmZmbk\\u002fmpmZmZmZuT\\u002fB8AGe1A7DP5qZmZmZmck\\u002fmpmZmZmZyT+amZmZmZnJP5qZmZmZmck\\u002fmpmZmZmZyT+amZmZmZnJP5qZmZmZmck\\u002fmpmZmZmZyT+amZmZmZnJP5qZmZmZmck\\u002fmpmZmZmZyT+amZmZmZnJP5qZmZmZmck\\u002fmpmZmZmZyT+amZmZmZnJP5qZmZmZmck\\u002fmpmZmZmZyT+amZmZmZnJP5qZmZmZmck\\u002fmpmZmZmZyT8zMzMzMzPTPzMzMzMzM9M\\u002fMzMzMzMz0z8zMzMzMzPTPzMzMzMzM9M\\u002fMzMzMzMz0z8zMzMzMzPTPzMzMzMzM9M\\u002fMzMzMzMz0z8zMzMzMzPTP5qZmZmZmdk\\u002fmpmZmZmZ2T+amZmZmZnZP5qZmZmZmdk\\u002fmpmZmZmZ2T+amZmZmZnZP5qZmZmZmdk\\u002fmpmZmZmZ2T+amZmZmZnZP5qZmZmZmdk\\u002fmpmZmZmZ2T+amZmZmZnZP3BH3BF3xN0\\u002fAAAAAAAA4D8AAAAAAADgPwAAAAAAAOA\\u002fAAAAAAAA4D8AAAAAAADgPwAAAAAAAOA\\u002fAAAAAAAA4D8AAAAAAADgPwAAAAAAAOA\\u002fAAAAAAAA4D8AAAAAAADgPwAAAAAAAOA\\u002fAAAAAAAA4D8AAAAAAADgP9aHxvrQWOE\\u002fMzMzMzMz4z8zMzMzMzPjPzMzMzMzM+M\\u002fMzMzMzMz4z8zMzMzMzPjPzMzMzMzM+M\\u002fMzMzMzMz4z8zMzMzMzPjPyZlm78NWOM\\u002fZmZmZmZm5j9mZmZmZmbmP2ZmZmZmZuY\\u002fZmZmZmZm5j9mZmZmZmbmP2ZmZmZmZuY\\u002fZmZmZmZm5j9mZmZmZmbmP2ZmZmZmZuY\\u002fZmZmZmZm5j9mZmZmZmbmP2ZmZmZmZuY\\u002fZmZmZmZm5j9mZmZmZmbmP5qZmZmZmek\\u002fmpmZmZmZ6T+amZmZmZnpP5qZmZmZmek\\u002fmpmZmZmZ6T+amZmZmZnpP83MzMzMzOw\\u002fzczMzMzM7D\\u002fNzMzMzMzsP83MzMzMzOw\\u002fzczMzMzM7D\\u002fNzMzMzMzsP83MzMzMzOw\\u002fzczMzMzM7D8AAAAAAADwPwAAAAAAAPA\\u002fAAAAAAAA8D8AAAAAAADwP5qZmZmZmfE\\u002fmpmZmZmZ8T+amZmZmZnxP5qZmZmZmfE\\u002fmpmZmZmZ8T+amZmZmZnxPzMzMzMzM\\u002fM\\u002fMzMzMzMz8z8zMzMzMzPzPzMzMzMzM\\u002fM\\u002fMzMzMzMz8z8zMzMzMzPzP83MzMzMzPQ\\u002fzczMzMzM9D\\u002fNzMzMzMz0P2ZmZmZmZvY\\u002fAAAAAAAA+D8AAAAAAAD4PwAAAAAAAPg\\u002fAAAAAAAA+D8AAAAAAAD4PwAAAAAAAPg\\u002fAAAAAAAA+D8AAAAAAAD4PwAAAAAAAPg\\u002fAAAAAAAA+D8AAAAAAAD4P5qZmZmZmfk\\u002fmpmZmZmZ+T+amZmZmZn5P5qZmZmZmfk\\u002fmpmZmZmZ+T+amZmZmZn5P5qZmZmZmfk\\u002fMzMzMzMz+z8zMzMzMzP7PzMzMzMzM\\u002fs\\u002fMzMzMzMz+z8zMzMzMzP7PzMzMzMzM\\u002fs\\u002fzczMzMzM\\u002fD\\u002fNzMzMzMz8P83MzMzMzPw\\u002fzczMzMzM\\u002fD9mZmZmZmb+P2ZmZmZmZv4\\u002fZmZmZmZm\\u002fj9mZmZmZmb+P2ZmZmZmZv4\\u002fAAAAAAAAAEAAAAAAAAAAQAAAAAAAAABAzczMzMzMAEDNzMzMzMwAQM3MzMzMzABAzczMzMzMAEB4\\u002fKnZi1oBQJqZmZmZmQFAZmZmZmZmAkBmZmZmZmYCQGZmZmZmZgJAZmZmZmZmAkAzMzMzMzMDQDMzMzMzMwNAMzMzMzMzA0AzMzMzMzMDQDMzMzMzMwNAAAAAAAAABEAAAAAAAAAEQAAAAAAAAARAzczMzMzMBEDNzMzMzMwEQJqZmZmZmQVAmpmZmZmZBUCamZmZmZkFQJqZmZmZmQVAmpmZmZmZBUCamZmZmZkFQGZmZmZmZgZAZmZmZmZmBkBmZmZmZmYGQGZmZmZmZgZAZmZmZmZmBkBmZmZmZmYGQGZmZmZmZgZAMzMzMzMzB0AzMzMzMzMHQDMzMzMzMwdAMzMzMzMzB0AAAAAAAAAIQAAAAAAAAAhAAAAAAAAACEDNzMzMzMwIQM3MzMzMzAhAmpmZmZmZCUCamZmZmZkJQJqZmZmZmQlAmpmZmZmZCUBmZmZmZmYKQDMzMzMzMwtAMzMzMzMzC0AzMzMzMzMLQDMzMzMzMwtAMzMzMzMzC0AzMzMzMzMLQAAAAAAAAAxAAAAAAAAADEAAAAAAAAAMQAAAAAAAAAxAAAAAAAAADEDNzMzMzMwMQM3MzMzMzAxAmpmZmZmZDUBmZmZmZmYOQGZmZmZmZg5AMzMzMzMzD0AAAAAAAAAQQAAAAAAAABBAAAAAAAAAEEBmZmZmZmYQQGZmZmZmZhBAZmZmZmZmEEAzMzMzMzMRQDMzMzMzMxFAMzMzMzMzEUCamZmZmZkRQAAAAAAAABJAZmZmZmZmEkBmZmZmZmYSQGZmZmZmZhJAZmZmZmZmEkDNzMzMzMwSQDMzMzMzMxNAMzMzMzMzE0CamZmZmZkTQJqZmZmZmRNAmpmZmZmZE0AzMzMzMzMVQDMzMzMzMxVAmpmZmZmZFUAAAAAAAAAWQAAAAAAAABZAZmZmZmZmFkBmZmZmZmYWQGZmZmZmZhZAZmZmZmZmFkDNzMzMzMwWQM3MzMzMzBZAMzMzMzMzF0AzMzMzMzMXQJqZmZmZmRdAZmZmZmZmGEDNzMzMzMwYQM3MzMzMzBhAzczMzMzMGEDNzMzMzMwYQDMzMzMzMxlAmpmZmZmZGUCamZmZmZkZQAAAAAAAABpAMzMzMzMzG0AAAAAAAAAcQM3MzMzMzBxAzczMzMzMHkDNzMzMzMweQJqZmZmZmR9AmpmZmZmZH0CamZmZmZkfQGZmZmZmZiBAmpmZmZmZIECamZmZmZkgQJqZmZmZmSBAzczMzMzMIEAzMzMzMzMhQGZmZmZmZiFAZmZmZmZmIUBmZmZmZmYhQAAAAAAAACJAmpmZmZmZIkDNzMzMzMwiQM3MzMzMzCJAzczMzMzMIkBmZmZmZmYjQAAAAAAAACRAAAAAAAAAJECamZmZmZkkQAAAAAAAACVAAAAAAAAAJUBmZmZmZmYlQJqZmZmZmSVAzczMzMzMJUBmZmZmZmYmQGZmZmZmZidAmpmZmZmZJ0DNzMzMzMwnQM3MzMzMzCdAAAAAAAAAKECamZmZmZkoQM3MzMzMzChAmpmZmZmZKUCamZmZmZkpQAAAAAAAACpAMzMzMzMzKkAzMzMzMzMrQDMzMzMzMytAZmZmZmZmK0DNzMzMzMwrQM3MzMzMzCtAzczMzMzMK0DNzMzMzMwtQJqZmZmZmS9AAAAAAACAMUCamZmZmRkyQDMzMzMzszNAMzMzMzMzNEDNzMzMzEw0QJqZmZmZmTVAzczMzMxMN0AAAAAAAAA5QM3MzMzMzDlAMzMzMzMzPUAzMzMzM7NIQA==\"},\"xaxis\":\"x\",\"y\":{\"dtype\":\"f8\",\"bdata\":\"tUTtdVR\\u002f1UC1RO11VH\\u002fVQLVE7XVUf9VAtUTtdVR\\u002f1UC1RO11VH\\u002fVQLVE7XVUf9VAtUTtdVR\\u002f1UC1RO11VH\\u002fVQLVE7XVUf9VAtUTtdVR\\u002f1UC1RO11VH\\u002fVQLVE7XVUf9VAtUTtdVR\\u002f1UC1RO11VH\\u002fVQLVE7XVUf9VAtUTtdVR\\u002f1UC1RO11VH\\u002fVQLVE7XVUf9VAtUTtdVR\\u002f1UC1RO11VH\\u002fVQLVE7XVUf9VAtUTtdVR\\u002f1UC1RO11VH\\u002fVQLVE7XVUf9VAtUTtdVR\\u002f1UC1RO11VH\\u002fVQLVE7XVUf9VAtUTtdVR\\u002f1UC1RO11VH\\u002fVQLVE7XVUf9VAtUTtdVR\\u002f1UC1RO11VH\\u002fVQLVE7XVUf9VAtUTtdVR\\u002f1UC1RO11VH\\u002fVQLVE7XVUf9VAtUTtdVR\\u002f1UC1RO11VH\\u002fVQLVE7XVUf9VAtUTtdVR\\u002f1UC1RO11VH\\u002fVQLVE7XVUf9VAtUTtdVR\\u002f1UC1RO11VH\\u002fVQLVE7XVUf9VAtUTtdVR\\u002f1UC1RO11VH\\u002fVQLVE7XVUf9VAtUTtdVR\\u002f1UC1RO11VH\\u002fVQLVE7XVUf9VAtUTtdVR\\u002f1UC1RO11VH\\u002fVQLVE7XVUf9VAtUTtdVR\\u002f1UC1RO11VH\\u002fVQLVE7XVUf9VAtUTtdVR\\u002f1UC1RO11VH\\u002fVQLVE7XVUf9VAtUTtdVR\\u002f1UC1RO11VH\\u002fVQLVE7XVUf9VAtUTtdVR\\u002f1UC1RO11VH\\u002fVQLVE7XVUf9VAtUTtdVR\\u002f1UC1RO11VH\\u002fVQLVE7XVUf9VAtUTtdVR\\u002f1UC1RO11VH\\u002fVQLVE7XVUf9VAtUTtdVR\\u002f1UC1RO11VH\\u002fVQLVE7XVUf9VAtUTtdVR\\u002f1UC1RO11VH\\u002fVQLVE7XVUf9VAtUTtdVR\\u002f1UC1RO11VH\\u002fVQLVE7XVUf9VAtUTtdVR\\u002f1UC1RO11VH\\u002fVQLVE7XVUf9VAtUTtdVR\\u002f1UC1RO11VH\\u002fVQLVE7XVUf9VAtUTtdVR\\u002f1UC1RO11VH\\u002fVQLVE7XVUf9VAtUTtdVR\\u002f1UC1RO11VH\\u002fVQLVE7XVUf9VAtUTtdVR\\u002f1UC1RO11VH\\u002fVQLVE7XVUf9VAtUTtdVR\\u002f1UC1RO11VH\\u002fVQLVE7XVUf9VAtUTtdVR\\u002f1UC1RO11VH\\u002fVQLVE7XVUf9VAtUTtdVR\\u002f1UC1RO11VH\\u002fVQLVE7XVUf9VAtUTtdVR\\u002f1UC1RO11VH\\u002fVQLVE7XVUf9VAtUTtdVR\\u002f1UC1RO11VH\\u002fVQLVE7XVUf9VAtUTtdVR\\u002f1UC1RO11VH\\u002fVQLVE7XVUf9VAtUTtdVR\\u002f1UC1RO11VH\\u002fVQLVE7XVUf9VAtUTtdVR\\u002f1UC1RO11VH\\u002fVQLVE7XVUf9VAtUTtdVR\\u002f1UC1RO11VH\\u002fVQLVE7XVUf9VAtUTtdVR\\u002f1UC1RO11VH\\u002fVQLVE7XVUf9VAtUTtdVR\\u002f1UC1RO11VH\\u002fVQLVE7XVUf9VAtUTtdVR\\u002f1UC1RO11VH\\u002fVQLVE7XVUf9VAtUTtdVR\\u002f1UC1RO11VH\\u002fVQLVE7XVUf9VAtUTtdVR\\u002f1UC1RO11VH\\u002fVQLVE7XVUf9VAtUTtdVR\\u002f1UC1RO11VH\\u002fVQLVE7XVUf9VAtUTtdVR\\u002f1UC1RO11VH\\u002fVQLVE7XVUf9VAtUTtdVR\\u002f1UC1RO11VH\\u002fVQLVE7XVUf9VAtUTtdVR\\u002f1UC1RO11VH\\u002fVQLVE7XVUf9VAtUTtdVR\\u002f1UC1RO11VH\\u002fVQLVE7XVUf9VAtUTtdVR\\u002f1UC1RO11VH\\u002fVQLVE7XVUf9VAtUTtdVR\\u002f1UC1RO11VH\\u002fVQLVE7XVUf9VAtUTtdVR\\u002f1UC1RO11VH\\u002fVQLVE7XVUf9VAtUTtdVR\\u002f1UC1RO11VH\\u002fVQLVE7XVUf9VAtUTtdVR\\u002f1UC1RO11VH\\u002fVQLVE7XVUf9VAtUTtdVR\\u002f1UC1RO11VH\\u002fVQLVE7XVUf9VAtUTtdVR\\u002f1UC1RO11VH\\u002fVQLVE7XVUf9VAtUTtdVR\\u002f1UC1RO11VH\\u002fVQLVE7XVUf9VAtUTtdVR\\u002f1UC1RO11VH\\u002fVQLVE7XVUf9VAtUTtdVR\\u002f1UC1RO11VH\\u002fVQLVE7XVUf9VAtUTtdVR\\u002f1UC1RO11VH\\u002fVQLVE7XVUf9VAtUTtdVR\\u002f1UC1RO11VH\\u002fVQLVE7XVUf9VAtUTtdVR\\u002f1UC1RO11VH\\u002fVQLVE7XVUf9VAtUTtdVR\\u002f1UC1RO11VH\\u002fVQLVE7XVUf9VAtUTtdVR\\u002f1UC1RO11VH\\u002fVQLVE7XVUf9VAtUTtdVR\\u002f1UC1RO11VH\\u002fVQLVE7XVUf9VAtUTtdVR\\u002f1UC1RO11VH\\u002fVQLVE7XVUf9VAtUTtdVR\\u002f1UC1RO11VH\\u002fVQLVE7XVUf9VAtUTtdVR\\u002f1UC1RO11VH\\u002fVQLVE7XVUf9VAtUTtdVR\\u002f1UC1RO11VH\\u002fVQLVE7XVUf9VAtUTtdVR\\u002f1UC1RO11VH\\u002fVQLVE7XVUf9VAtUTtdVR\\u002f1UC1RO11VH\\u002fVQLVE7XVUf9VAtUTtdVR\\u002f1UC1RO11VH\\u002fVQLVE7XVUf9VAtUTtdVR\\u002f1UC1RO11VH\\u002fVQLVE7XVUf9VAtUTtdVR\\u002f1UC1RO11VH\\u002fVQLVE7XVUf9VAtUTtdVR\\u002f1UC1RO11VH\\u002fVQLVE7XVUf9VAtUTtdVR\\u002f1UC1RO11VH\\u002fVQLVE7XVUf9VAtUTtdVR\\u002f1UC1RO11VH\\u002fVQLVE7XVUf9VAtUTtdVR\\u002f1UC1RO11VH\\u002fVQLVE7XVUf9VAtUTtdVR\\u002f1UC1RO11VH\\u002fVQLVE7XVUf9VAtUTtdVR\\u002f1UC1RO11VH\\u002fVQLVE7XVUf9VAtUTtdVR\\u002f1UC1RO11VH\\u002fVQLVE7XVUf9VAtUTtdVR\\u002f1UC1RO11VH\\u002fVQLVE7XVUf9VAtUTtdVR\\u002f1UC1RO11VH\\u002fVQLVE7XVUf9VAtUTtdVR\\u002f1UC1RO11VH\\u002fVQLVE7XVUf9VAtUTtdVR\\u002f1UC1RO11VH\\u002fVQLVE7XVUf9VAtUTtdVR\\u002f1UC1RO11VH\\u002fVQLVE7XVUf9VAtUTtdVR\\u002f1UC1RO11VH\\u002fVQLVE7XVUf9VAtUTtdVR\\u002f1UC1RO11VH\\u002fVQLVE7XVUf9VAtUTtdVR\\u002f1UC1RO11VH\\u002fVQLVE7XVUf9VAtUTtdVR\\u002f1UC1RO11VH\\u002fVQLVE7XVUf9VAtUTtdVR\\u002f1UC1RO11VH\\u002fVQLVE7XVUf9VAtUTtdVR\\u002f1UC1RO11VH\\u002fVQLVE7XVUf9VAtUTtdVR\\u002f1UC1RO11VH\\u002fVQLVE7XVUf9VAtUTtdVR\\u002f1UC1RO11VH\\u002fVQLVE7XVUf9VAtUTtdVR\\u002f1UC1RO11VH\\u002fVQLVE7XVUf9VAtUTtdVR\\u002f1UC1RO11VH\\u002fVQLVE7XVUf9VAtUTtdVR\\u002f1UC1RO11VH\\u002fVQLVE7XVUf9VAtUTtdVR\\u002f1UC1RO11VH\\u002fVQLVE7XVUf9VAtUTtdVR\\u002f1UC1RO11VH\\u002fVQLVE7XVUf9VAtUTtdVR\\u002f1UC1RO11VH\\u002fVQLVE7XVUf9VAtUTtdVR\\u002f1UC1RO11VH\\u002fVQLVE7XVUf9VAtUTtdVR\\u002f1UC1RO11VH\\u002fVQLVE7XVUf9VAtUTtdVR\\u002f1UC1RO11VH\\u002fVQLVE7XVUf9VAtUTtdVR\\u002f1UC1RO11VH\\u002fVQLVE7XVUf9VAtUTtdVR\\u002f1UC1RO11VH\\u002fVQLVE7XVUf9VAtUTtdVR\\u002f1UC1RO11VH\\u002fVQLVE7XVUf9VAtUTtdVR\\u002f1UC1RO11VH\\u002fVQLVE7XVUf9VAtUTtdVR\\u002f1UC1RO11VH\\u002fVQLVE7XVUf9VAtUTtdVR\\u002f1UC1RO11VH\\u002fVQLVE7XVUf9VAtUTtdVR\\u002f1UC1RO11VH\\u002fVQLVE7XVUf9VAtUTtdVR\\u002f1UC1RO11VH\\u002fVQLVE7XVUf9VAtUTtdVR\\u002f1UC1RO11VH\\u002fVQLVE7XVUf9VAtUTtdVR\\u002f1UC1RO11VH\\u002fVQLVE7XVUf9VAtUTtdVR\\u002f1UC1RO11VH\\u002fVQLVE7XVUf9VAtUTtdVR\\u002f1UC1RO11VH\\u002fVQLVE7XVUf9VAtUTtdVR\\u002f1UC1RO11VH\\u002fVQLVE7XVUf9VAtUTtdVR\\u002f1UC1RO11VH\\u002fVQLVE7XVUf9VAtUTtdVR\\u002f1UC1RO11VH\\u002fVQLVE7XVUf9VAtUTtdVR\\u002f1UC1RO11VH\\u002fVQLVE7XVUf9VAtUTtdVR\\u002f1UC1RO11VH\\u002fVQLVE7XVUf9VAtUTtdVR\\u002f1UC1RO11VH\\u002fVQLVE7XVUf9VAtUTtdVR\\u002f1UC1RO11VH\\u002fVQLVE7XVUf9VAtUTtdVR\\u002f1UC1RO11VH\\u002fVQLVE7XVUf9VAtUTtdVR\\u002f1UC1RO11VH\\u002fVQLVE7XVUf9VAtUTtdVR\\u002f1UC1RO11VH\\u002fVQLVE7XVUf9VAtUTtdVR\\u002f1UC1RO11VH\\u002fVQLVE7XVUf9VAtUTtdVR\\u002f1UC1RO11VH\\u002fVQLVE7XVUf9VAtUTtdVR\\u002f1UC1RO11VH\\u002fVQLVE7XVUf9VAtUTtdVR\\u002f1UC1RO11VH\\u002fVQLVE7XVUf9VAtUTtdVR\\u002f1UC1RO11VH\\u002fVQLVE7XVUf9VAtUTtdVR\\u002f1UC1RO11VH\\u002fVQLVE7XVUf9VAtUTtdVR\\u002f1UC1RO11VH\\u002fVQLVE7XVUf9VAtUTtdVR\\u002f1UC1RO11VH\\u002fVQLVE7XVUf9VAtUTtdVR\\u002f1UC1RO11VH\\u002fVQLVE7XVUf9VAtUTtdVR\\u002f1UC1RO11VH\\u002fVQLVE7XVUf9VAtUTtdVR\\u002f1UC1RO11VH\\u002fVQLVE7XVUf9VAtUTtdVR\\u002f1UC1RO11VH\\u002fVQLVE7XVUf9VAtUTtdVR\\u002f1UC1RO11VH\\u002fVQLVE7XVUf9VAtUTtdVR\\u002f1UC1RO11VH\\u002fVQLVE7XVUf9VAtUTtdVR\\u002f1UC1RO11VH\\u002fVQLVE7XVUf9VAtUTtdVR\\u002f1UC1RO11VH\\u002fVQLVE7XVUf9VAtUTtdVR\\u002f1UC1RO11VH\\u002fVQLVE7XVUf9VAtUTtdVR\\u002f1UC1RO11VH\\u002fVQLVE7XVUf9VAtUTtdVR\\u002f1UC1RO11VH\\u002fVQLVE7XVUf9VAtUTtdVR\\u002f1UC1RO11VH\\u002fVQLVE7XVUf9VAtUTtdVR\\u002f1UC1RO11VH\\u002fVQLVE7XVUf9VAtUTtdVR\\u002f1UC1RO11VH\\u002fVQLVE7XVUf9VAtUTtdVR\\u002f1UC1RO11VH\\u002fVQLVE7XVUf9VAtUTtdVR\\u002f1UC1RO11VH\\u002fVQLVE7XVUf9VAtUTtdVR\\u002f1UC1RO11VH\\u002fVQLVE7XVUf9VAtUTtdVR\\u002f1UC1RO11VH\\u002fVQLVE7XVUf9VAtUTtdVR\\u002f1UC1RO11VH\\u002fVQLVE7XVUf9VAtUTtdVR\\u002f1UC1RO11VH\\u002fVQLVE7XVUf9VAtUTtdVR\\u002f1UC1RO11VH\\u002fVQLVE7XVUf9VAtUTtdVR\\u002f1UC1RO11VH\\u002fVQLVE7XVUf9VAtUTtdVR\\u002f1UC1RO11VH\\u002fVQLVE7XVUf9VAtUTtdVR\\u002f1UC1RO11VH\\u002fVQLVE7XVUf9VAtUTtdVR\\u002f1UC1RO11VH\\u002fVQLVE7XVUf9VAtUTtdVR\\u002f1UC1RO11VH\\u002fVQLVE7XVUf9VAtUTtdVR\\u002f1UC1RO11VH\\u002fVQLVE7XVUf9VAtUTtdVR\\u002f1UC1RO11VH\\u002fVQLVE7XVUf9VAtUTtdVR\\u002f1UC1RO11VH\\u002fVQLVE7XVUf9VAtUTtdVR\\u002f1UC1RO11VH\\u002fVQLVE7XVUf9VAtUTtdVR\\u002f1UC1RO11VH\\u002fVQLVE7XVUf9VAtUTtdVR\\u002f1UC1RO11VH\\u002fVQLVE7XVUf9VAtUTtdVR\\u002f1UC1RO11VH\\u002fVQLVE7XVUf9VAtUTtdVR\\u002f1UC1RO11VH\\u002fVQLVE7XVUf9VAtUTtdVR\\u002f1UC1RO11VH\\u002fVQLVE7XVUf9VAtUTtdVR\\u002f1UC1RO11VH\\u002fVQLVE7XVUf9VAtUTtdVR\\u002f1UC1RO11VH\\u002fVQLVE7XVUf9VAtUTtdVR\\u002f1UC1RO11VH\\u002fVQLVE7XVUf9VAtUTtdVR\\u002f1UC1RO11VH\\u002fVQLVE7XVUf9VAtUTtdVR\\u002f1UC1RO11VH\\u002fVQLVE7XVUf9VAtUTtdVR\\u002f1UC1RO11VH\\u002fVQLVE7XVUf9VAtUTtdVR\\u002f1UC1RO11VH\\u002fVQLVE7XVUf9VAtUTtdVR\\u002f1UC1RO11VH\\u002fVQLVE7XVUf9VAtUTtdVR\\u002f1UC1RO11VH\\u002fVQLVE7XVUf9VAtUTtdVR\\u002f1UC1RO11VH\\u002fVQLVE7XVUf9VAtUTtdVR\\u002f1UC1RO11VH\\u002fVQLVE7XVUf9VAtUTtdVR\\u002f1UC1RO11VH\\u002fVQLVE7XVUf9VAtUTtdVR\\u002f1UC1RO11VH\\u002fVQLVE7XVUf9VAtUTtdVR\\u002f1UC1RO11VH\\u002fVQLVE7XVUf9VAtUTtdVR\\u002f1UC1RO11VH\\u002fVQLVE7XVUf9VAtUTtdVR\\u002f1UC1RO11VH\\u002fVQLVE7XVUf9VAtUTtdVR\\u002f1UC1RO11VH\\u002fVQLVE7XVUf9VAtUTtdVR\\u002f1UC1RO11VH\\u002fVQLVE7XVUf9VAtUTtdVR\\u002f1UC1RO11VH\\u002fVQLVE7XVUf9VAtUTtdVR\\u002f1UC1RO11VH\\u002fVQEzXtJw2gtVATNe0nDaC1UBM17ScNoLVQEzXtJw2gtVATNe0nDaC1UBM17ScNoLVQEzXtJw2gtVATNe0nDaC1UBM17ScNoLVQEzXtJw2gtVATNe0nDaC1UBM17ScNoLVQEzXtJw2gtVATNe0nDaC1UBM17ScNoLVQEzXtJw2gtVATNe0nDaC1UBM17ScNoLVQEzXtJw2gtVATNe0nDaC1UBM17ScNoLVQEzXtJw2gtVATNe0nDaC1UBM17ScNoLVQEzXtJw2gtVATNe0nDaC1UBM17ScNoLVQEzXtJw2gtVATNe0nDaC1UBM17ScNoLVQEzXtJw2gtVATNe0nDaC1UBM17ScNoLVQEzXtJw2gtVATNe0nDaC1UBM17ScNoLVQEzXtJw2gtVATNe0nDaC1UBM17ScNoLVQEzXtJw2gtVATNe0nDaC1UDeJr1+n4PVQONpfMMYhdVA42l8wxiF1UDjaXzDGIXVQONpfMMYhdVA42l8wxiF1UDjaXzDGIXVQONpfMMYhdVA42l8wxiF1UDjaXzDGIXVQONpfMMYhdVA42l8wxiF1UDjaXzDGIXVQONpfMMYhdVA42l8wxiF1UDjaXzDGIXVQONpfMMYhdVA42l8wxiF1UDjaXzDGIXVQONpfMMYhdVA42l8wxiF1UB6\\u002fEPq+ofVQHr8Q+r6h9VAevxD6vqH1UB6\\u002fEPq+ofVQHr8Q+r6h9VAevxD6vqH1UB6\\u002fEPq+ofVQHr8Q+r6h9VAevxD6vqH1UB6\\u002fEPq+ofVQBGPCxHditVAEY8LEd2K1UARjwsR3YrVQBGPCxHditVAEY8LEd2K1UARjwsR3YrVQBGPCxHditVAEY8LEd2K1UARjwsR3YrVQBGPCxHditVAEY8LEd2K1UARjwsR3YrVQN9BLrm9jNVAqCHTN7+N1UCoIdM3v43VQKgh0ze\\u002fjdVAqCHTN7+N1UCoIdM3v43VQKgh0ze\\u002fjdVAqCHTN7+N1UCoIdM3v43VQKgh0ze\\u002fjdVAqCHTN7+N1UCoIdM3v43VQKgh0ze\\u002fjdVAqCHTN7+N1UCoIdM3v43VQFy\\u002faev1jtVAP7SaXqGQ1UA\\u002ftJpeoZDVQD+0ml6hkNVAP7SaXqGQ1UA\\u002ftJpeoZDVQD+0ml6hkNVAP7SaXqGQ1UA\\u002ftJpeoZDVQFAPvJPCkNVA10ZihYOT1UDXRmKFg5PVQNdGYoWDk9VA10ZihYOT1UDXRmKFg5PVQNdGYoWDk9VA10ZihYOT1UDXRmKFg5PVQNdGYoWDk9VA10ZihYOT1UDXRmKFg5PVQNdGYoWDk9VA10ZihYOT1UDXRmKFg5PVQG7ZKaxlltVAbtkprGWW1UBu2SmsZZbVQG7ZKaxlltVAbtkprGWW1UBu2SmsZZbVQAVs8dJHmdVABWzx0keZ1UAFbPHSR5nVQAVs8dJHmdVABWzx0keZ1UAFbPHSR5nVQAVs8dJHmdVABWzx0keZ1UCc\\u002frj5KZzVQJz+uPkpnNVAnP64+Smc1UCc\\u002frj5KZzVQDORgCAMn9VAM5GAIAyf1UAzkYAgDJ\\u002fVQDORgCAMn9VAM5GAIAyf1UAzkYAgDJ\\u002fVQMojSEfuodVAyiNIR+6h1UDKI0hH7qHVQMojSEfuodVAyiNIR+6h1UDKI0hH7qHVQGG2D27QpNVAYbYPbtCk1UBhtg9u0KTVQPhI15Syp9VAj9ueu5Sq1UCP2567lKrVQI\\u002fbnruUqtVAj9ueu5Sq1UCP2567lKrVQI\\u002fbnruUqtVAj9ueu5Sq1UCP2567lKrVQI\\u002fbnruUqtVAj9ueu5Sq1UCP2567lKrVQCZuZuJ2rdVAJm5m4nat1UAmbmbidq3VQCZuZuJ2rdVAJm5m4nat1UAmbmbidq3VQCZuZuJ2rdVAvQAuCVmw1UC9AC4JWbDVQL0ALglZsNVAvQAuCVmw1UC9AC4JWbDVQL0ALglZsNVAVJP1Lzuz1UBUk\\u002fUvO7PVQFST9S87s9VAVJP1Lzuz1UDrJb1WHbbVQOslvVYdttVA6yW9Vh221UDrJb1WHbbVQOslvVYdttVAgriEff+41UCCuIR9\\u002f7jVQIK4hH3\\u002fuNVAGktMpOG71UAaS0yk4bvVQBpLTKThu9VAGktMpOG71UDiOReI4L3VQLHdE8vDvtVASHDb8aXB1UBIcNvxpcHVQEhw2\\u002fGlwdVASHDb8aXB1UDfAqMYiMTVQN8CoxiIxNVA3wKjGIjE1UDfAqMYiMTVQN8CoxiIxNVAdpVqP2rH1UB2lWo\\u002fasfVQHaVaj9qx9VADSgyZkzK1UANKDJmTMrVQKS6+YwuzdVApLr5jC7N1UCkuvmMLs3VQKS6+YwuzdVApLr5jC7N1UCkuvmMLs3VQDtNwbMQ0NVAO03BsxDQ1UA7TcGzENDVQDtNwbMQ0NVAO03BsxDQ1UA7TcGzENDVQDtNwbMQ0NVA0t+I2vLS1UDS34ja8tLVQNLfiNry0tVA0t+I2vLS1UBpclAB1dXVQGlyUAHV1dVAaXJQAdXV1UAABRgot9jVQAAFGCi32NVAl5ffTpnb1UCXl99OmdvVQJeX306Z29VAl5ffTpnb1UAuKqd1e97VQMW8bpxd4dVAxbxunF3h1UDFvG6cXeHVQMW8bpxd4dVAxbxunF3h1UDFvG6cXeHVQF1PNsM\\u002f5NVAXU82wz\\u002fk1UBdTzbDP+TVQF1PNsM\\u002f5NVAXU82wz\\u002fk1UD04f3pIefVQPTh\\u002fekh59VAi3TFEATq1UAiB4035uzVQCIHjTfm7NVAuZlUXsjv1UBQLByFqvLVQFAsHIWq8tVAUCwchary1UDnvuOrjPXVQOe+46uM9dVA577jq4z11UAV5HL5UPvVQBXkcvlQ+9VAFeRy+VD71UCsdjogM\\u002f7VQEMJAkcVAdZA2pvJbfcD1kDam8lt9wPWQNqbyW33A9ZA2pvJbfcD1kBxLpGU2QbWQAjBWLu7CdZACMFYu7sJ1kCgUyDinQzWQKBTIOKdDNZAoFMg4p0M1kD8nT59JhjWQPydPn0mGNZAkzAGpAgb1kAqw83K6h3WQCrDzcrqHdZAwVWV8cwg1kDBVZXxzCDWQMFVlfHMINZAwVWV8cwg1kBY6FwYryPWQFjoXBivI9ZA73okP5Em1kDveiQ\\u002fkSbWQIYN7GVzKdZAtDJ7szcv1kBMxULaGTLWQEzFQtoZMtZATMVC2hky1kBMxULaGTLWQONXCgH8NNZAeurRJ9431kB66tEn3jfWQBF9mU7AOtZA1jTwwmZD1kAEWn8QK0nWQDJ\\u002fDl7vTtZAJlz0H1pd1kAmXPQfWl3WQFSBg20eY9ZAVIGDbR5j1kBUgYNtHmPWQBk52uHEa9ZAsMuhCKdu1kCwy6EIp27WQLDLoQinbtZAR15pL4lx1kB1g\\u002fh8TXfWQAwWwKMvetZADBbAoy961kAMFsCjL3rWQNLNFhjWgtZAl4VtjHyL1kAuGDWzXo7WQC4YNbNejtZALhg1s16O1kDzz4snBZfWQLiH4purn9ZAuIfim6uf1kB+PzkQUqjWQKxkyF0WrtZArGTIXRau1kDaiVer2rPWQHEcH9K8ttZACK\\u002fm+J651kDNZj1tRcLWQMBDIy+w0NZAWNbqVZLT1kDvaLJ8dNbWQO9osnx01tZAhvt5o1bZ1kBLs9AX\\u002feHWQOJFmD7f5NZAPpC22Wfw1kA+kLbZZ\\u002fDWQGy1RScs9tZABEgNTg751kD3JPMPeQfXQPck8w95B9dAjre6NlsK10C83EmEHxDXQLzcSYQfENdAvNxJhB8Q10CjlhUI9SzXQPO9GWXoRtdA+3la+Ox310CF6QfhOYnXQPYSgU1ct9dA6u9mD8fF10CBgi42qcjXQC30UC4l7tdANbCRwSkf2EA9bNJULlDYQPYAD4s\\u002fZ9hABnmQsUjJ2EA7JApLuw\\u002fbQA==\"},\"yaxis\":\"y\",\"type\":\"scatter\"}],                        {\"template\":{\"data\":{\"histogram2dcontour\":[{\"type\":\"histogram2dcontour\",\"colorbar\":{\"outlinewidth\":0,\"ticks\":\"\"},\"colorscale\":[[0.0,\"#0d0887\"],[0.1111111111111111,\"#46039f\"],[0.2222222222222222,\"#7201a8\"],[0.3333333333333333,\"#9c179e\"],[0.4444444444444444,\"#bd3786\"],[0.5555555555555556,\"#d8576b\"],[0.6666666666666666,\"#ed7953\"],[0.7777777777777778,\"#fb9f3a\"],[0.8888888888888888,\"#fdca26\"],[1.0,\"#f0f921\"]]}],\"choropleth\":[{\"type\":\"choropleth\",\"colorbar\":{\"outlinewidth\":0,\"ticks\":\"\"}}],\"histogram2d\":[{\"type\":\"histogram2d\",\"colorbar\":{\"outlinewidth\":0,\"ticks\":\"\"},\"colorscale\":[[0.0,\"#0d0887\"],[0.1111111111111111,\"#46039f\"],[0.2222222222222222,\"#7201a8\"],[0.3333333333333333,\"#9c179e\"],[0.4444444444444444,\"#bd3786\"],[0.5555555555555556,\"#d8576b\"],[0.6666666666666666,\"#ed7953\"],[0.7777777777777778,\"#fb9f3a\"],[0.8888888888888888,\"#fdca26\"],[1.0,\"#f0f921\"]]}],\"heatmap\":[{\"type\":\"heatmap\",\"colorbar\":{\"outlinewidth\":0,\"ticks\":\"\"},\"colorscale\":[[0.0,\"#0d0887\"],[0.1111111111111111,\"#46039f\"],[0.2222222222222222,\"#7201a8\"],[0.3333333333333333,\"#9c179e\"],[0.4444444444444444,\"#bd3786\"],[0.5555555555555556,\"#d8576b\"],[0.6666666666666666,\"#ed7953\"],[0.7777777777777778,\"#fb9f3a\"],[0.8888888888888888,\"#fdca26\"],[1.0,\"#f0f921\"]]}],\"contourcarpet\":[{\"type\":\"contourcarpet\",\"colorbar\":{\"outlinewidth\":0,\"ticks\":\"\"}}],\"contour\":[{\"type\":\"contour\",\"colorbar\":{\"outlinewidth\":0,\"ticks\":\"\"},\"colorscale\":[[0.0,\"#0d0887\"],[0.1111111111111111,\"#46039f\"],[0.2222222222222222,\"#7201a8\"],[0.3333333333333333,\"#9c179e\"],[0.4444444444444444,\"#bd3786\"],[0.5555555555555556,\"#d8576b\"],[0.6666666666666666,\"#ed7953\"],[0.7777777777777778,\"#fb9f3a\"],[0.8888888888888888,\"#fdca26\"],[1.0,\"#f0f921\"]]}],\"surface\":[{\"type\":\"surface\",\"colorbar\":{\"outlinewidth\":0,\"ticks\":\"\"},\"colorscale\":[[0.0,\"#0d0887\"],[0.1111111111111111,\"#46039f\"],[0.2222222222222222,\"#7201a8\"],[0.3333333333333333,\"#9c179e\"],[0.4444444444444444,\"#bd3786\"],[0.5555555555555556,\"#d8576b\"],[0.6666666666666666,\"#ed7953\"],[0.7777777777777778,\"#fb9f3a\"],[0.8888888888888888,\"#fdca26\"],[1.0,\"#f0f921\"]]}],\"mesh3d\":[{\"type\":\"mesh3d\",\"colorbar\":{\"outlinewidth\":0,\"ticks\":\"\"}}],\"scatter\":[{\"fillpattern\":{\"fillmode\":\"overlay\",\"size\":10,\"solidity\":0.2},\"type\":\"scatter\"}],\"parcoords\":[{\"type\":\"parcoords\",\"line\":{\"colorbar\":{\"outlinewidth\":0,\"ticks\":\"\"}}}],\"scatterpolargl\":[{\"type\":\"scatterpolargl\",\"marker\":{\"colorbar\":{\"outlinewidth\":0,\"ticks\":\"\"}}}],\"bar\":[{\"error_x\":{\"color\":\"#2a3f5f\"},\"error_y\":{\"color\":\"#2a3f5f\"},\"marker\":{\"line\":{\"color\":\"#E5ECF6\",\"width\":0.5},\"pattern\":{\"fillmode\":\"overlay\",\"size\":10,\"solidity\":0.2}},\"type\":\"bar\"}],\"scattergeo\":[{\"type\":\"scattergeo\",\"marker\":{\"colorbar\":{\"outlinewidth\":0,\"ticks\":\"\"}}}],\"scatterpolar\":[{\"type\":\"scatterpolar\",\"marker\":{\"colorbar\":{\"outlinewidth\":0,\"ticks\":\"\"}}}],\"histogram\":[{\"marker\":{\"pattern\":{\"fillmode\":\"overlay\",\"size\":10,\"solidity\":0.2}},\"type\":\"histogram\"}],\"scattergl\":[{\"type\":\"scattergl\",\"marker\":{\"colorbar\":{\"outlinewidth\":0,\"ticks\":\"\"}}}],\"scatter3d\":[{\"type\":\"scatter3d\",\"line\":{\"colorbar\":{\"outlinewidth\":0,\"ticks\":\"\"}},\"marker\":{\"colorbar\":{\"outlinewidth\":0,\"ticks\":\"\"}}}],\"scattermap\":[{\"type\":\"scattermap\",\"marker\":{\"colorbar\":{\"outlinewidth\":0,\"ticks\":\"\"}}}],\"scattermapbox\":[{\"type\":\"scattermapbox\",\"marker\":{\"colorbar\":{\"outlinewidth\":0,\"ticks\":\"\"}}}],\"scatterternary\":[{\"type\":\"scatterternary\",\"marker\":{\"colorbar\":{\"outlinewidth\":0,\"ticks\":\"\"}}}],\"scattercarpet\":[{\"type\":\"scattercarpet\",\"marker\":{\"colorbar\":{\"outlinewidth\":0,\"ticks\":\"\"}}}],\"carpet\":[{\"aaxis\":{\"endlinecolor\":\"#2a3f5f\",\"gridcolor\":\"white\",\"linecolor\":\"white\",\"minorgridcolor\":\"white\",\"startlinecolor\":\"#2a3f5f\"},\"baxis\":{\"endlinecolor\":\"#2a3f5f\",\"gridcolor\":\"white\",\"linecolor\":\"white\",\"minorgridcolor\":\"white\",\"startlinecolor\":\"#2a3f5f\"},\"type\":\"carpet\"}],\"table\":[{\"cells\":{\"fill\":{\"color\":\"#EBF0F8\"},\"line\":{\"color\":\"white\"}},\"header\":{\"fill\":{\"color\":\"#C8D4E3\"},\"line\":{\"color\":\"white\"}},\"type\":\"table\"}],\"barpolar\":[{\"marker\":{\"line\":{\"color\":\"#E5ECF6\",\"width\":0.5},\"pattern\":{\"fillmode\":\"overlay\",\"size\":10,\"solidity\":0.2}},\"type\":\"barpolar\"}],\"pie\":[{\"automargin\":true,\"type\":\"pie\"}]},\"layout\":{\"autotypenumbers\":\"strict\",\"colorway\":[\"#636efa\",\"#EF553B\",\"#00cc96\",\"#ab63fa\",\"#FFA15A\",\"#19d3f3\",\"#FF6692\",\"#B6E880\",\"#FF97FF\",\"#FECB52\"],\"font\":{\"color\":\"#2a3f5f\"},\"hovermode\":\"closest\",\"hoverlabel\":{\"align\":\"left\"},\"paper_bgcolor\":\"white\",\"plot_bgcolor\":\"#E5ECF6\",\"polar\":{\"bgcolor\":\"#E5ECF6\",\"angularaxis\":{\"gridcolor\":\"white\",\"linecolor\":\"white\",\"ticks\":\"\"},\"radialaxis\":{\"gridcolor\":\"white\",\"linecolor\":\"white\",\"ticks\":\"\"}},\"ternary\":{\"bgcolor\":\"#E5ECF6\",\"aaxis\":{\"gridcolor\":\"white\",\"linecolor\":\"white\",\"ticks\":\"\"},\"baxis\":{\"gridcolor\":\"white\",\"linecolor\":\"white\",\"ticks\":\"\"},\"caxis\":{\"gridcolor\":\"white\",\"linecolor\":\"white\",\"ticks\":\"\"}},\"coloraxis\":{\"colorbar\":{\"outlinewidth\":0,\"ticks\":\"\"}},\"colorscale\":{\"sequential\":[[0.0,\"#0d0887\"],[0.1111111111111111,\"#46039f\"],[0.2222222222222222,\"#7201a8\"],[0.3333333333333333,\"#9c179e\"],[0.4444444444444444,\"#bd3786\"],[0.5555555555555556,\"#d8576b\"],[0.6666666666666666,\"#ed7953\"],[0.7777777777777778,\"#fb9f3a\"],[0.8888888888888888,\"#fdca26\"],[1.0,\"#f0f921\"]],\"sequentialminus\":[[0.0,\"#0d0887\"],[0.1111111111111111,\"#46039f\"],[0.2222222222222222,\"#7201a8\"],[0.3333333333333333,\"#9c179e\"],[0.4444444444444444,\"#bd3786\"],[0.5555555555555556,\"#d8576b\"],[0.6666666666666666,\"#ed7953\"],[0.7777777777777778,\"#fb9f3a\"],[0.8888888888888888,\"#fdca26\"],[1.0,\"#f0f921\"]],\"diverging\":[[0,\"#8e0152\"],[0.1,\"#c51b7d\"],[0.2,\"#de77ae\"],[0.3,\"#f1b6da\"],[0.4,\"#fde0ef\"],[0.5,\"#f7f7f7\"],[0.6,\"#e6f5d0\"],[0.7,\"#b8e186\"],[0.8,\"#7fbc41\"],[0.9,\"#4d9221\"],[1,\"#276419\"]]},\"xaxis\":{\"gridcolor\":\"white\",\"linecolor\":\"white\",\"ticks\":\"\",\"title\":{\"standoff\":15},\"zerolinecolor\":\"white\",\"automargin\":true,\"zerolinewidth\":2},\"yaxis\":{\"gridcolor\":\"white\",\"linecolor\":\"white\",\"ticks\":\"\",\"title\":{\"standoff\":15},\"zerolinecolor\":\"white\",\"automargin\":true,\"zerolinewidth\":2},\"scene\":{\"xaxis\":{\"backgroundcolor\":\"#E5ECF6\",\"gridcolor\":\"white\",\"linecolor\":\"white\",\"showbackground\":true,\"ticks\":\"\",\"zerolinecolor\":\"white\",\"gridwidth\":2},\"yaxis\":{\"backgroundcolor\":\"#E5ECF6\",\"gridcolor\":\"white\",\"linecolor\":\"white\",\"showbackground\":true,\"ticks\":\"\",\"zerolinecolor\":\"white\",\"gridwidth\":2},\"zaxis\":{\"backgroundcolor\":\"#E5ECF6\",\"gridcolor\":\"white\",\"linecolor\":\"white\",\"showbackground\":true,\"ticks\":\"\",\"zerolinecolor\":\"white\",\"gridwidth\":2}},\"shapedefaults\":{\"line\":{\"color\":\"#2a3f5f\"}},\"annotationdefaults\":{\"arrowcolor\":\"#2a3f5f\",\"arrowhead\":0,\"arrowwidth\":1},\"geo\":{\"bgcolor\":\"white\",\"landcolor\":\"#E5ECF6\",\"subunitcolor\":\"white\",\"showland\":true,\"showlakes\":true,\"lakecolor\":\"white\"},\"title\":{\"x\":0.05},\"mapbox\":{\"style\":\"light\"}}},\"xaxis\":{\"anchor\":\"y\",\"domain\":[0.0,1.0],\"title\":{\"text\":\"Migrant (%)\"}},\"yaxis\":{\"anchor\":\"x\",\"domain\":[0.0,1.0],\"title\":{\"text\":\"Expense per ADA ($)\"}},\"legend\":{\"tracegroupgap\":0},\"title\":{\"text\":\"Expense per ADA vs. Migrant (%)\"}},                        {\"responsive\": true}                    ).then(function(){\n                            \nvar gd = document.getElementById('557927c8-9bda-4b46-a09d-376171fab40e');\nvar x = new MutationObserver(function (mutations, observer) {{\n        var display = window.getComputedStyle(gd).display;\n        if (!display || display === 'none') {{\n            console.log([gd, 'removed!']);\n            Plotly.purge(gd);\n            observer.disconnect();\n        }}\n}});\n\n// Listen for the removal of the full notebook cells\nvar notebookContainer = gd.closest('#notebook-container');\nif (notebookContainer) {{\n    x.observe(notebookContainer, {childList: true});\n}}\n\n// Listen for the clearing of the current output cell\nvar outputEl = gd.closest('.output');\nif (outputEl) {{\n    x.observe(outputEl, {childList: true});\n}}\n\n                        })                };            </script>        </div>\n</body>\n</html>"
          },
          "metadata": {},
          "output_type": "display_data"
        }
      ],
      "outputs_reference": null,
      "content_dependencies": null
    },
    {
      "cell_type": "markdown",
      "metadata": {
        "cell_id": "2f3ee1baba9e49f78d69200762696e31",
        "deepnote_cell_type": "markdown"
      },
      "source": "The R-squared value is extremely low (0.0015), suggesting that there may be no linear relationship between the percentage of migrant students and per-pupil spending. However, we will do further regression analysis to determine if this relationship is statistically significant.",
      "block_group": "514f2b6765384dc78c81c389c4482e37"
    },
    {
      "cell_type": "markdown",
      "metadata": {
        "formattedRanges": [
          {
            "type": "marks",
            "marks": {
              "code": true
            },
            "toCodePoint": 37,
            "fromCodePoint": 20
          }
        ],
        "cell_id": "548945319baf48488aa741292cb65bbc",
        "deepnote_cell_type": "text-cell-h3"
      },
      "source": "### 4.6. Scatter Plot - 'Expense per ADA' vs. Percentage of English Learner Pupils",
      "block_group": "a63fd2a95adf44f0878fc9ec5f1d9e04"
    },
    {
      "cell_type": "markdown",
      "metadata": {
        "cell_id": "eee8e8634e1842ef91e6240062b5c1f1",
        "deepnote_cell_type": "markdown"
      },
      "source": "We wanted to know whether English Learners (in a similar manner as Migrant demographics) may impact per-pupil spending due to their unique needs and the resources required to support them.",
      "block_group": "9193e59a581445aaadf3bf1061e7dfbc"
    },
    {
      "cell_type": "code",
      "metadata": {
        "source_hash": "ea58cdb0",
        "execution_start": 1760127668535,
        "execution_millis": 9,
        "execution_context_id": "79fa4d62-8961-4dfa-a5c8-892d38695664",
        "cell_id": "ceeb48684f4a439ab7c1249bd5f2209e",
        "deepnote_cell_type": "code"
      },
      "source": "fig_homeless = px.scatter(\n    district_and_expenses,\n    x='English Learner (%)',\n    y='Expense per ADA',\n    hover_data=['District Name', 'County Name'],\n    title='Expense per ADA vs. English Learner (%)',\n    labels={'English Learner (%)': 'English Learner (%)', 'Expense per ADA': 'Expense per ADA ($)'},\n    trendline='ols',\n    trendline_color_override='red'\n)\nfig_homeless.show()",
      "block_group": "56e3460a62c245b4940eb29b12f35b39",
      "execution_count": 13,
      "outputs": [
        {
          "data": {
            "text/html": "<html>\n<head><meta charset=\"utf-8\" /></head>\n<body>\n    <div>            <script src=\"https://cdnjs.cloudflare.com/ajax/libs/mathjax/2.7.5/MathJax.js?config=TeX-AMS-MML_SVG\"></script><script type=\"text/javascript\">if (window.MathJax && window.MathJax.Hub && window.MathJax.Hub.Config) {window.MathJax.Hub.Config({SVG: {font: \"STIX-Web\"}});}</script>                <script type=\"text/javascript\">window.PlotlyConfig = {MathJaxConfig: 'local'};</script>\n        <script charset=\"utf-8\" src=\"https://cdn.plot.ly/plotly-3.1.0.min.js\" integrity=\"sha256-Ei4740bWZhaUTQuD6q9yQlgVCMPBz6CZWhevDYPv93A=\" crossorigin=\"anonymous\"></script>                <div id=\"f0f1936b-65f9-4e99-8da2-35484f491386\" class=\"plotly-graph-div\" style=\"height:525px; width:100%;\"></div>            <script type=\"text/javascript\">                window.PLOTLYENV=window.PLOTLYENV || {};                                if (document.getElementById(\"f0f1936b-65f9-4e99-8da2-35484f491386\")) {                    Plotly.newPlot(                        \"f0f1936b-65f9-4e99-8da2-35484f491386\",                        [{\"customdata\":[[\"Alameda Unified\",\"Alameda\"],[\"Albany City Unified\",\"Alameda\"],[\"Berkeley Unified\",\"Alameda\"],[\"Castro Valley Unified\",\"Alameda\"],[\"Emery Unified\",\"Alameda\"],[\"Fremont Unified\",\"Alameda\"],[\"Hayward Unified\",\"Alameda\"],[\"Livermore Valley Joint Unified\",\"Alameda\"],[\"Mountain House Elementary\",\"Alameda\"],[\"Newark Unified\",\"Alameda\"],[\"New Haven Unified\",\"Alameda\"],[\"Oakland Unified\",\"Alameda\"],[\"Piedmont City Unified\",\"Alameda\"],[\"San Leandro Unified\",\"Alameda\"],[\"San Lorenzo Unified\",\"Alameda\"],[\"Dublin Unified\",\"Alameda\"],[\"Pleasanton Unified\",\"Alameda\"],[\"Sunol Glen Unified\",\"Alameda\"],[\"Alpine County Unified\",\"Alpine\"],[\"Amador County Unified\",\"Amador\"],[\"Bangor Union Elementary\",\"Butte\"],[\"Biggs Unified\",\"Butte\"],[\"Chico Unified\",\"Butte\"],[\"Durham Unified\",\"Butte\"],[\"Golden Feather Union Elementary\",\"Butte\"],[\"Manzanita Elementary\",\"Butte\"],[\"Oroville City Elementary\",\"Butte\"],[\"Oroville Union High\",\"Butte\"],[\"Palermo Union Elementary\",\"Butte\"],[\"Paradise Unified\",\"Butte\"],[\"Thermalito Union Elementary\",\"Butte\"],[\"Pioneer Union Elementary\",\"Butte\"],[\"Gridley Unified\",\"Butte\"],[\"Bret Harte Union High\",\"Calaveras\"],[\"Calaveras Unified\",\"Calaveras\"],[\"Mark Twain Union Elementary\",\"Calaveras\"],[\"Vallecito Union Elementary\",\"Calaveras\"],[\"Colusa Unified\",\"Colusa\"],[\"Maxwell Unified\",\"Colusa\"],[\"Pierce Joint Unified\",\"Colusa\"],[\"Williams Unified\",\"Colusa\"],[\"Acalanes Union High\",\"Contra Costa\"],[\"Antioch Unified\",\"Contra Costa\"],[\"Brentwood Union Elementary\",\"Contra Costa\"],[\"Byron Union Elementary\",\"Contra Costa\"],[\"Canyon Elementary\",\"Contra Costa\"],[\"John Swett Unified\",\"Contra Costa\"],[\"Knightsen Elementary\",\"Contra Costa\"],[\"Lafayette Elementary\",\"Contra Costa\"],[\"Liberty Union High\",\"Contra Costa\"],[\"Martinez Unified\",\"Contra Costa\"],[\"Moraga Elementary\",\"Contra Costa\"],[\"Mt. Diablo Unified\",\"Contra Costa\"],[\"Oakley Union Elementary\",\"Contra Costa\"],[\"Orinda Union Elementary\",\"Contra Costa\"],[\"Pittsburg Unified\",\"Contra Costa\"],[\"West Contra Costa Unified\",\"Contra Costa\"],[\"San Ramon Valley Unified\",\"Contra Costa\"],[\"Walnut Creek Elementary\",\"Contra Costa\"],[\"Del Norte County Unified\",\"Del Norte\"],[\"Buckeye Union Elementary\",\"El Dorado\"],[\"Camino Union Elementary\",\"El Dorado\"],[\"El Dorado Union High\",\"El Dorado\"],[\"Gold Oak Union Elementary\",\"El Dorado\"],[\"Gold Trail Union Elementary\",\"El Dorado\"],[\"Indian Diggings Elementary\",\"El Dorado\"],[\"Lake Tahoe Unified\",\"El Dorado\"],[\"Latrobe Elementary\",\"El Dorado\"],[\"Mother Lode Union Elementary\",\"El Dorado\"],[\"Pioneer Union Elementary\",\"El Dorado\"],[\"Placerville Union Elementary\",\"El Dorado\"],[\"Pollock Pines Elementary\",\"El Dorado\"],[\"Rescue Union Elementary\",\"El Dorado\"],[\"Silver Fork Elementary\",\"El Dorado\"],[\"Black Oak Mine Unified\",\"El Dorado\"],[\"Alvina Elementary\",\"Fresno\"],[\"Big Creek Elementary\",\"Fresno\"],[\"Burrel Union Elementary\",\"Fresno\"],[\"Clay Joint Elementary\",\"Fresno\"],[\"Clovis Unified\",\"Fresno\"],[\"Coalinga-Huron Unified\",\"Fresno\"],[\"Fowler Unified\",\"Fresno\"],[\"Fresno Unified\",\"Fresno\"],[\"Kingsburg Elementary Charter\",\"Fresno\"],[\"Kingsburg Joint Union High\",\"Fresno\"],[\"Kings Canyon Joint Unified\",\"Fresno\"],[\"Laton Joint Unified\",\"Fresno\"],[\"Monroe Elementary\",\"Fresno\"],[\"Orange Center Elementary\",\"Fresno\"],[\"Pacific Union Elementary\",\"Fresno\"],[\"Parlier Unified\",\"Fresno\"],[\"Pine Ridge Elementary\",\"Fresno\"],[\"Raisin City Elementary\",\"Fresno\"],[\"Sanger Unified\",\"Fresno\"],[\"Selma Unified\",\"Fresno\"],[\"Washington Colony Elementary\",\"Fresno\"],[\"West Park Elementary\",\"Fresno\"],[\"Westside Elementary\",\"Fresno\"],[\"Firebaugh-Las Deltas Unified\",\"Fresno\"],[\"Central Unified\",\"Fresno\"],[\"Kerman Unified\",\"Fresno\"],[\"Mendota Unified\",\"Fresno\"],[\"Golden Plains Unified\",\"Fresno\"],[\"Sierra Unified\",\"Fresno\"],[\"Riverdale Joint Unified\",\"Fresno\"],[\"Caruthers Unified\",\"Fresno\"],[\"Washington Unified\",\"Fresno\"],[\"Capay Joint Union Elementary\",\"Glenn\"],[\"Lake Elementary\",\"Glenn\"],[\"Plaza Elementary\",\"Glenn\"],[\"Princeton Joint Unified\",\"Glenn\"],[\"Stony Creek Joint Unified\",\"Glenn\"],[\"Willows Unified\",\"Glenn\"],[\"Orland Joint Unified\",\"Glenn\"],[\"Hamilton Unified\",\"Glenn\"],[\"Arcata Elementary\",\"Humboldt\"],[\"Northern Humboldt Union High\",\"Humboldt\"],[\"Big Lagoon Union Elementary\",\"Humboldt\"],[\"Blue Lake Union Elementary\",\"Humboldt\"],[\"Bridgeville Elementary\",\"Humboldt\"],[\"Cuddeback Union Elementary\",\"Humboldt\"],[\"Cutten Elementary\",\"Humboldt\"],[\"Fieldbrook Elementary\",\"Humboldt\"],[\"Fortuna Union High\",\"Humboldt\"],[\"Freshwater Elementary\",\"Humboldt\"],[\"Garfield Elementary\",\"Humboldt\"],[\"Green Point Elementary\",\"Humboldt\"],[\"Hydesville Elementary\",\"Humboldt\"],[\"Jacoby Creek Elementary\",\"Humboldt\"],[\"Klamath-Trinity Joint Unified\",\"Humboldt\"],[\"Kneeland Elementary\",\"Humboldt\"],[\"Loleta Union Elementary\",\"Humboldt\"],[\"Maple Creek Elementary\",\"Humboldt\"],[\"Mckinleyville Union Elementary\",\"Humboldt\"],[\"Orick Elementary\",\"Humboldt\"],[\"Pacific Union Elementary\",\"Humboldt\"],[\"Peninsula Union Elementary\",\"Humboldt\"],[\"Rio Dell Elementary\",\"Humboldt\"],[\"Scotia Union Elementary\",\"Humboldt\"],[\"South Bay Union Elementary\",\"Humboldt\"],[\"Southern Humboldt Joint Unified\",\"Humboldt\"],[\"Trinidad Union Elementary\",\"Humboldt\"],[\"Ferndale Unified\",\"Humboldt\"],[\"Mattole Unified\",\"Humboldt\"],[\"Eureka City Unified\",\"Humboldt\"],[\"Fortuna Elementary\",\"Humboldt\"],[\"Brawley Elementary\",\"Imperial\"],[\"Brawley Union High\",\"Imperial\"],[\"Calexico Unified\",\"Imperial\"],[\"Calipatria Unified\",\"Imperial\"],[\"Central Union High\",\"Imperial\"],[\"El Centro Elementary\",\"Imperial\"],[\"Heber Elementary\",\"Imperial\"],[\"Holtville Unified\",\"Imperial\"],[\"Imperial Unified\",\"Imperial\"],[\"Magnolia Union Elementary\",\"Imperial\"],[\"Mccabe Union Elementary\",\"Imperial\"],[\"Meadows Union Elementary\",\"Imperial\"],[\"Mulberry Elementary\",\"Imperial\"],[\"San Pasqual Valley Unified\",\"Imperial\"],[\"Seeley Union Elementary\",\"Imperial\"],[\"Westmorland Union Elementary\",\"Imperial\"],[\"Big Pine Unified\",\"Inyo\"],[\"Death Valley Unified\",\"Inyo\"],[\"Lone Pine Unified\",\"Inyo\"],[\"Owens Valley Unified\",\"Inyo\"],[\"Round Valley Joint Elementary\",\"Inyo\"],[\"Bishop Unified\",\"Inyo\"],[\"Arvin Union Elementary\",\"Kern\"],[\"Bakersfield City Elementary\",\"Kern\"],[\"Beardsley Elementary\",\"Kern\"],[\"Blake Elementary\",\"Kern\"],[\"Panama-Buena Vista Union Elementary\",\"Kern\"],[\"Buttonwillow Union Elementary\",\"Kern\"],[\"Caliente Union Elementary\",\"Kern\"],[\"Delano Union Elementary\",\"Kern\"],[\"Delano Joint Union High\",\"Kern\"],[\"Di Giorgio Elementary\",\"Kern\"],[\"Edison Elementary\",\"Kern\"],[\"Elk Hills Elementary\",\"Kern\"],[\"Fairfax Elementary\",\"Kern\"],[\"Fruitvale Elementary\",\"Kern\"],[\"General Shafter Elementary\",\"Kern\"],[\"Greenfield Union\",\"Kern\"],[\"Kern High\",\"Kern\"],[\"Kernville Union Elementary\",\"Kern\"],[\"Lakeside Union Elementary\",\"Kern\"],[\"Lamont Elementary\",\"Kern\"],[\"Richland Union Elementary\",\"Kern\"],[\"Linns Valley-Poso Flat Union\",\"Kern\"],[\"Lost Hills Union Elementary\",\"Kern\"],[\"Maple Elementary\",\"Kern\"],[\"Maricopa Unified\",\"Kern\"],[\"Mckittrick Elementary\",\"Kern\"],[\"Midway Elementary\",\"Kern\"],[\"Mojave Unified\",\"Kern\"],[\"Muroc Joint Unified\",\"Kern\"],[\"Norris Elementary\",\"Kern\"],[\"Pond Union Elementary\",\"Kern\"],[\"Rosedale Union Elementary\",\"Kern\"],[\"Semitropic Elementary\",\"Kern\"],[\"Southern Kern Unified\",\"Kern\"],[\"South Fork Union Elementary\",\"Kern\"],[\"Standard Elementary\",\"Kern\"],[\"Taft City Elementary\",\"Kern\"],[\"Taft Union High\",\"Kern\"],[\"Tehachapi Unified\",\"Kern\"],[\"Vineland Elementary\",\"Kern\"],[\"Wasco Union Elementary\",\"Kern\"],[\"Wasco Union High\",\"Kern\"],[\"Rio Bravo-Greeley Union Elementary\",\"Kern\"],[\"Sierra Sands Unified\",\"Kern\"],[\"Mcfarland Unified\",\"Kern\"],[\"El Tejon Unified\",\"Kern\"],[\"Armona Union Elementary\",\"Kings\"],[\"Central Union Elementary\",\"Kings\"],[\"Corcoran Joint Unified\",\"Kings\"],[\"Hanford Elementary\",\"Kings\"],[\"Hanford Joint Union High\",\"Kings\"],[\"Island Union Elementary\",\"Kings\"],[\"Kings River-Hardwick Union Elementary\",\"Kings\"],[\"Kit Carson Union Elementary\",\"Kings\"],[\"Lakeside Union Elementary\",\"Kings\"],[\"Lemoore Union Elementary\",\"Kings\"],[\"Lemoore Union High\",\"Kings\"],[\"Pioneer Union Elementary\",\"Kings\"],[\"Reef-Sunset Unified\",\"Kings\"],[\"Kelseyville Unified\",\"Lake\"],[\"Konocti Unified\",\"Lake\"],[\"Lakeport Unified\",\"Lake\"],[\"Lucerne Elementary\",\"Lake\"],[\"Middletown Unified\",\"Lake\"],[\"Upper Lake Unified\",\"Lake\"],[\"Big Valley Joint Unified\",\"Lassen\"],[\"Janesville Union Elementary\",\"Lassen\"],[\"Johnstonville Elementary\",\"Lassen\"],[\"Lassen Union High\",\"Lassen\"],[\"Ravendale-Termo Elementary\",\"Lassen\"],[\"Richmond Elementary\",\"Lassen\"],[\"Shaffer Union Elementary\",\"Lassen\"],[\"Susanville Elementary\",\"Lassen\"],[\"Westwood Unified\",\"Lassen\"],[\"Fort Sage Unified\",\"Lassen\"],[\"ABC Unified\",\"Los Angeles\"],[\"Antelope Valley Union High\",\"Los Angeles\"],[\"Arcadia Unified\",\"Los Angeles\"],[\"Azusa Unified\",\"Los Angeles\"],[\"Baldwin Park Unified\",\"Los Angeles\"],[\"Bassett Unified\",\"Los Angeles\"],[\"Bellflower Unified\",\"Los Angeles\"],[\"Beverly Hills Unified\",\"Los Angeles\"],[\"Bonita Unified\",\"Los Angeles\"],[\"Burbank Unified\",\"Los Angeles\"],[\"Castaic Union Elementary\",\"Los Angeles\"],[\"Centinela Valley Union High\",\"Los Angeles\"],[\"Charter Oak Unified\",\"Los Angeles\"],[\"Claremont Unified\",\"Los Angeles\"],[\"Covina-Valley Unified\",\"Los Angeles\"],[\"Culver City Unified\",\"Los Angeles\"],[\"Downey Unified\",\"Los Angeles\"],[\"Duarte Unified\",\"Los Angeles\"],[\"Eastside Union Elementary\",\"Los Angeles\"],[\"East Whittier City Elementary\",\"Los Angeles\"],[\"El Monte City Elementary\",\"Los Angeles\"],[\"El Monte Union High\",\"Los Angeles\"],[\"El Rancho Unified\",\"Los Angeles\"],[\"El Segundo Unified\",\"Los Angeles\"],[\"Garvey Elementary\",\"Los Angeles\"],[\"Glendale Unified\",\"Los Angeles\"],[\"Glendora Unified\",\"Los Angeles\"],[\"Gorman Joint\",\"Los Angeles\"],[\"Hawthorne Elementary\",\"Los Angeles\"],[\"Hermosa Beach City Elementary\",\"Los Angeles\"],[\"Hughes-Elizabeth Lakes Union Elementary\",\"Los Angeles\"],[\"Inglewood Unified\",\"Los Angeles\"],[\"Keppel Union Elementary\",\"Los Angeles\"],[\"La Canada Unified\",\"Los Angeles\"],[\"Lancaster Elementary\",\"Los Angeles\"],[\"Lawndale Elementary\",\"Los Angeles\"],[\"Lennox Elementary\",\"Los Angeles\"],[\"Little Lake City Elementary\",\"Los Angeles\"],[\"Long Beach Unified\",\"Los Angeles\"],[\"Los Angeles Unified\",\"Los Angeles\"],[\"Los Nietos Elementary\",\"Los Angeles\"],[\"Lynwood Unified\",\"Los Angeles\"],[\"Monrovia Unified\",\"Los Angeles\"],[\"Montebello Unified\",\"Los Angeles\"],[\"Mountain View Elementary\",\"Los Angeles\"],[\"Newhall Elementary\",\"Los Angeles\"],[\"Norwalk-La Mirada Unified\",\"Los Angeles\"],[\"Palmdale Elementary\",\"Los Angeles\"],[\"Palos Verdes Peninsula Unified\",\"Los Angeles\"],[\"Paramount Unified\",\"Los Angeles\"],[\"Pasadena Unified\",\"Los Angeles\"],[\"Pomona Unified\",\"Los Angeles\"],[\"Rosemead Elementary\",\"Los Angeles\"],[\"San Marino Unified\",\"Los Angeles\"],[\"Santa Monica-Malibu Unified\",\"Los Angeles\"],[\"Saugus Union Elementary\",\"Los Angeles\"],[\"South Pasadena Unified\",\"Los Angeles\"],[\"South Whittier Elementary\",\"Los Angeles\"],[\"Sulphur Springs Union Elementary\",\"Los Angeles\"],[\"Temple City Unified\",\"Los Angeles\"],[\"Torrance Unified\",\"Los Angeles\"],[\"Valle Lindo Elementary\",\"Los Angeles\"],[\"West Covina Unified\",\"Los Angeles\"],[\"Westside Union Elementary\",\"Los Angeles\"],[\"Whittier City Elementary\",\"Los Angeles\"],[\"Whittier Union High\",\"Los Angeles\"],[\"William S. Hart Union High\",\"Los Angeles\"],[\"Wilsona Elementary\",\"Los Angeles\"],[\"Compton Unified\",\"Los Angeles\"],[\"Hacienda La Puente Unified\",\"Los Angeles\"],[\"Rowland Unified\",\"Los Angeles\"],[\"Walnut Valley Unified\",\"Los Angeles\"],[\"San Gabriel Unified\",\"Los Angeles\"],[\"Acton-Agua Dulce Unified\",\"Los Angeles\"],[\"Manhattan Beach Unified\",\"Los Angeles\"],[\"Redondo Beach Unified\",\"Los Angeles\"],[\"Alhambra Unified\",\"Los Angeles\"],[\"Wiseburn Unified\",\"Los Angeles\"],[\"Alview-Dairyland Union Elementary\",\"Madera\"],[\"Bass Lake Joint Union Elementary\",\"Madera\"],[\"Chowchilla Elementary\",\"Madera\"],[\"Chowchilla Union High\",\"Madera\"],[\"Madera Unified\",\"Madera\"],[\"Raymond-Knowles Union Elementary\",\"Madera\"],[\"Golden Valley Unified\",\"Madera\"],[\"Chawanakee Unified\",\"Madera\"],[\"Yosemite Unified\",\"Madera\"],[\"Bolinas-Stinson Union Elementary\",\"Marin\"],[\"Miller Creek Elementary\",\"Marin\"],[\"Kentfield Elementary\",\"Marin\"],[\"Laguna Joint Elementary\",\"Marin\"],[\"Lagunitas Elementary\",\"Marin\"],[\"Larkspur-Corte Madera\",\"Marin\"],[\"Mill Valley Elementary\",\"Marin\"],[\"Nicasio Elementary\",\"Marin\"],[\"Novato Unified\",\"Marin\"],[\"Reed Union Elementary\",\"Marin\"],[\"Ross Elementary\",\"Marin\"],[\"San Rafael City Elementary\",\"Marin\"],[\"San Rafael City High\",\"Marin\"],[\"Sausalito Marin City Elementary\",\"Marin\"],[\"Tamalpais Union High\",\"Marin\"],[\"Shoreline Unified\",\"Marin\"],[\"Ross Valley Elementary\",\"Marin\"],[\"Mariposa County Unified\",\"Mariposa\"],[\"Anderson Valley Unified\",\"Mendocino\"],[\"Fort Bragg Unified\",\"Mendocino\"],[\"Manchester Union Elementary\",\"Mendocino\"],[\"Mendocino Unified\",\"Mendocino\"],[\"Round Valley Unified\",\"Mendocino\"],[\"Ukiah Unified\",\"Mendocino\"],[\"Willits Unified\",\"Mendocino\"],[\"Potter Valley Community Unified\",\"Mendocino\"],[\"Laytonville Unified\",\"Mendocino\"],[\"Leggett Valley Unified\",\"Mendocino\"],[\"Atwater Elementary\",\"Merced\"],[\"Ballico-Cressey Elementary\",\"Merced\"],[\"El Nido Elementary\",\"Merced\"],[\"Hilmar Unified\",\"Merced\"],[\"Le Grand Union Elementary\",\"Merced\"],[\"Le Grand Union High\",\"Merced\"],[\"Livingston Union Elementary\",\"Merced\"],[\"Los Banos Unified\",\"Merced\"],[\"McSwain Union Elementary\",\"Merced\"],[\"Merced City Elementary\",\"Merced\"],[\"Merced Union High\",\"Merced\"],[\"Plainsburg Union Elementary\",\"Merced\"],[\"Planada Elementary\",\"Merced\"],[\"Snelling-Merced Falls Union Elementary\",\"Merced\"],[\"Weaver Union Elementary\",\"Merced\"],[\"Winton Elementary\",\"Merced\"],[\"Gustine Unified\",\"Merced\"],[\"Merced River Union Elementary\",\"Merced\"],[\"Dos Palos Oro Loma Joint Unified\",\"Merced\"],[\"Delhi Unified\",\"Merced\"],[\"Surprise Valley Joint Unified\",\"Modoc\"],[\"Modoc Joint Unified\",\"Modoc\"],[\"Tulelake Basin Joint Unified\",\"Modoc\"],[\"Eastern Sierra Unified\",\"Mono\"],[\"Mammoth Unified\",\"Mono\"],[\"Alisal Union Elementary\",\"Monterey\"],[\"Bradley Union Elementary\",\"Monterey\"],[\"Carmel Unified\",\"Monterey\"],[\"Chualar Union Elementary\",\"Monterey\"],[\"Graves Elementary\",\"Monterey\"],[\"Greenfield Union Elementary\",\"Monterey\"],[\"King City Union Elementary\",\"Monterey\"],[\"South Monterey County Joint Union High\",\"Monterey\"],[\"Lagunita Elementary\",\"Monterey\"],[\"Mission Union Elementary\",\"Monterey\"],[\"Monterey Peninsula Unified\",\"Monterey\"],[\"Pacific Grove Unified\",\"Monterey\"],[\"Salinas City Elementary\",\"Monterey\"],[\"Salinas Union High\",\"Monterey\"],[\"San Antonio Union Elementary\",\"Monterey\"],[\"San Ardo Union Elementary\",\"Monterey\"],[\"San Lucas Union Elementary\",\"Monterey\"],[\"Santa Rita Union Elementary\",\"Monterey\"],[\"Spreckels Union Elementary\",\"Monterey\"],[\"Washington Union Elementary\",\"Monterey\"],[\"North Monterey County Unified\",\"Monterey\"],[\"Big Sur Unified\",\"Monterey\"],[\"Soledad Unified\",\"Monterey\"],[\"Gonzales Unified\",\"Monterey\"],[\"Calistoga Joint Unified\",\"Napa\"],[\"Howell Mountain Elementary\",\"Napa\"],[\"Napa Valley Unified\",\"Napa\"],[\"Pope Valley Union Elementary\",\"Napa\"],[\"Saint Helena Unified\",\"Napa\"],[\"Chicago Park Elementary\",\"Nevada\"],[\"Clear Creek Elementary\",\"Nevada\"],[\"Grass Valley Elementary\",\"Nevada\"],[\"Nevada City Elementary\",\"Nevada\"],[\"Nevada Joint Union High\",\"Nevada\"],[\"Pleasant Ridge Union Elementary\",\"Nevada\"],[\"Union Hill Elementary\",\"Nevada\"],[\"Twin Ridges Elementary\",\"Nevada\"],[\"Penn Valley Union Elementary\",\"Nevada\"],[\"Lowell Joint Elementary\",\"Orange\"],[\"Anaheim Elementary\",\"Orange\"],[\"Anaheim Union High\",\"Orange\"],[\"Brea-Olinda Unified\",\"Orange\"],[\"Buena Park Elementary\",\"Orange\"],[\"Capistrano Unified\",\"Orange\"],[\"Centralia Elementary\",\"Orange\"],[\"Cypress Elementary\",\"Orange\"],[\"Fountain Valley Elementary\",\"Orange\"],[\"Fullerton Elementary\",\"Orange\"],[\"Fullerton Joint Union High\",\"Orange\"],[\"Garden Grove Unified\",\"Orange\"],[\"Huntington Beach City Elementary\",\"Orange\"],[\"Huntington Beach Union High\",\"Orange\"],[\"Laguna Beach Unified\",\"Orange\"],[\"La Habra City Elementary\",\"Orange\"],[\"Magnolia Elementary\",\"Orange\"],[\"Newport-Mesa Unified\",\"Orange\"],[\"Ocean View Elementary\",\"Orange\"],[\"Orange Unified\",\"Orange\"],[\"Placentia-Yorba Linda Unified\",\"Orange\"],[\"Santa Ana Unified\",\"Orange\"],[\"Savanna Elementary\",\"Orange\"],[\"Westminster Elementary\",\"Orange\"],[\"Saddleback Valley Unified\",\"Orange\"],[\"Tustin Unified\",\"Orange\"],[\"Irvine Unified\",\"Orange\"],[\"Los Alamitos Unified\",\"Orange\"],[\"Ackerman Charter\",\"Placer\"],[\"Alta-Dutch Flat Union Elementary\",\"Placer\"],[\"Auburn Union Elementary\",\"Placer\"],[\"Colfax Elementary\",\"Placer\"],[\"Dry Creek Joint Elementary\",\"Placer\"],[\"Eureka Union Elementary\",\"Placer\"],[\"Foresthill Union Elementary\",\"Placer\"],[\"Loomis Union Elementary\",\"Placer\"],[\"Newcastle Elementary\",\"Placer\"],[\"Placer Hills Union Elementary\",\"Placer\"],[\"Placer Union High\",\"Placer\"],[\"Roseville City Elementary\",\"Placer\"],[\"Roseville Joint Union High\",\"Placer\"],[\"Tahoe-Truckee Unified\",\"Placer\"],[\"Western Placer Unified\",\"Placer\"],[\"Rocklin Unified\",\"Placer\"],[\"Plumas Unified\",\"Plumas\"],[\"Alvord Unified\",\"Riverside\"],[\"Banning Unified\",\"Riverside\"],[\"Beaumont Unified\",\"Riverside\"],[\"Corona-Norco Unified\",\"Riverside\"],[\"Desert Center Unified\",\"Riverside\"],[\"Desert Sands Unified\",\"Riverside\"],[\"Hemet Unified\",\"Riverside\"],[\"Jurupa Unified\",\"Riverside\"],[\"Menifee Union Elementary\",\"Riverside\"],[\"Moreno Valley Unified\",\"Riverside\"],[\"Nuview Union Elementary\",\"Riverside\"],[\"Palm Springs Unified\",\"Riverside\"],[\"Palo Verde Unified\",\"Riverside\"],[\"Perris Elementary\",\"Riverside\"],[\"Perris Union High\",\"Riverside\"],[\"Riverside Unified\",\"Riverside\"],[\"Romoland Elementary\",\"Riverside\"],[\"San Jacinto Unified\",\"Riverside\"],[\"Coachella Valley Unified\",\"Riverside\"],[\"Lake Elsinore Unified\",\"Riverside\"],[\"Temecula Valley Unified\",\"Riverside\"],[\"Murrieta Valley Unified\",\"Riverside\"],[\"Val Verde Unified\",\"Riverside\"],[\"Arcohe Union Elementary\",\"Sacramento\"],[\"Elk Grove Unified\",\"Sacramento\"],[\"Elverta Joint Elementary\",\"Sacramento\"],[\"Folsom-Cordova Unified\",\"Sacramento\"],[\"Galt Joint Union Elementary\",\"Sacramento\"],[\"Galt Joint Union High\",\"Sacramento\"],[\"River Delta Joint Unified\",\"Sacramento\"],[\"Robla Elementary\",\"Sacramento\"],[\"Sacramento City Unified\",\"Sacramento\"],[\"San Juan Unified\",\"Sacramento\"],[\"Center Joint Unified\",\"Sacramento\"],[\"Natomas Unified\",\"Sacramento\"],[\"Twin Rivers Unified\",\"Sacramento\"],[\"Bitterwater-Tully Elementary\",\"San Benito\"],[\"Cienega Union Elementary\",\"San Benito\"],[\"Hollister Elementary\",\"San Benito\"],[\"Jefferson Elementary\",\"San Benito\"],[\"North County Joint Union Elementary\",\"San Benito\"],[\"Panoche Elementary\",\"San Benito\"],[\"San Benito High\",\"San Benito\"],[\"Southside Elementary\",\"San Benito\"],[\"Tres Pinos Union Elementary\",\"San Benito\"],[\"Willow Grove Union Elementary\",\"San Benito\"],[\"Aromas - San Juan Unified\",\"San Benito\"],[\"Adelanto Elementary\",\"San Bernardino\"],[\"Alta Loma Elementary\",\"San Bernardino\"],[\"Barstow Unified\",\"San Bernardino\"],[\"Bear Valley Unified\",\"San Bernardino\"],[\"Central Elementary\",\"San Bernardino\"],[\"Chaffey Joint Union High\",\"San Bernardino\"],[\"Chino Valley Unified\",\"San Bernardino\"],[\"Colton Joint Unified\",\"San Bernardino\"],[\"Cucamonga Elementary\",\"San Bernardino\"],[\"Etiwanda Elementary\",\"San Bernardino\"],[\"Fontana Unified\",\"San Bernardino\"],[\"Helendale Elementary\",\"San Bernardino\"],[\"Morongo Unified\",\"San Bernardino\"],[\"Mountain View Elementary\",\"San Bernardino\"],[\"Mt. Baldy Joint Elementary\",\"San Bernardino\"],[\"Needles Unified\",\"San Bernardino\"],[\"Ontario-Montclair Elementary\",\"San Bernardino\"],[\"Oro Grande Elementary\",\"San Bernardino\"],[\"Redlands Unified\",\"San Bernardino\"],[\"Rialto Unified\",\"San Bernardino\"],[\"Rim of The World Unified\",\"San Bernardino\"],[\"San Bernardino City Unified\",\"San Bernardino\"],[\"Trona Joint Unified\",\"San Bernardino\"],[\"Victor Elementary\",\"San Bernardino\"],[\"Victor Valley Union High\",\"San Bernardino\"],[\"Yucaipa-Calimesa Joint Unified\",\"San Bernardino\"],[\"Baker Valley Unified\",\"San Bernardino\"],[\"Silver Valley Unified\",\"San Bernardino\"],[\"Snowline Joint Unified\",\"San Bernardino\"],[\"Hesperia Unified\",\"San Bernardino\"],[\"Lucerne Valley Unified\",\"San Bernardino\"],[\"Upland Unified\",\"San Bernardino\"],[\"Apple Valley Unified\",\"San Bernardino\"],[\"Alpine Union Elementary\",\"San Diego\"],[\"Borrego Springs Unified\",\"San Diego\"],[\"Cajon Valley Union Elementary\",\"San Diego\"],[\"Cardiff Elementary\",\"San Diego\"],[\"Chula Vista Elementary\",\"San Diego\"],[\"Coronado Unified\",\"San Diego\"],[\"Dehesa Elementary\",\"San Diego\"],[\"Del Mar Union Elementary\",\"San Diego\"],[\"Encinitas Union Elementary\",\"San Diego\"],[\"Escondido Union Elementary\",\"San Diego\"],[\"Escondido Union High\",\"San Diego\"],[\"Fallbrook Union Elementary\",\"San Diego\"],[\"Fallbrook Union High\",\"San Diego\"],[\"Grossmont Union High\",\"San Diego\"],[\"Jamul-Dulzura Union Elementary\",\"San Diego\"],[\"Julian Union Elementary\",\"San Diego\"],[\"Julian Union High\",\"San Diego\"],[\"Lakeside Union Elementary\",\"San Diego\"],[\"La Mesa-Spring Valley\",\"San Diego\"],[\"Lemon Grove Elementary\",\"San Diego\"],[\"Mountain Empire Unified\",\"San Diego\"],[\"National Elementary\",\"San Diego\"],[\"Poway Unified\",\"San Diego\"],[\"Ramona City Unified\",\"San Diego\"],[\"Rancho Santa Fe Elementary\",\"San Diego\"],[\"San Diego Unified\",\"San Diego\"],[\"San Dieguito Union High\",\"San Diego\"],[\"San Pasqual Union Elementary\",\"San Diego\"],[\"Santee Elementary\",\"San Diego\"],[\"San Ysidro Elementary\",\"San Diego\"],[\"Solana Beach Elementary\",\"San Diego\"],[\"South Bay Union Elementary\",\"San Diego\"],[\"Spencer Valley Elementary\",\"San Diego\"],[\"Sweetwater Union High\",\"San Diego\"],[\"Vallecitos Elementary\",\"San Diego\"],[\"Vista Unified\",\"San Diego\"],[\"Carlsbad Unified\",\"San Diego\"],[\"Oceanside Unified\",\"San Diego\"],[\"San Marcos Unified\",\"San Diego\"],[\"Warner Unified\",\"San Diego\"],[\"Valley Center-Pauma Unified\",\"San Diego\"],[\"Bonsall Unified\",\"San Diego\"],[\"San Francisco Unified\",\"San Francisco\"],[\"Escalon Unified\",\"San Joaquin\"],[\"Jefferson Elementary\",\"San Joaquin\"],[\"Lincoln Unified\",\"San Joaquin\"],[\"Linden Unified\",\"San Joaquin\"],[\"Lodi Unified\",\"San Joaquin\"],[\"Manteca Unified\",\"San Joaquin\"],[\"New Hope Elementary\",\"San Joaquin\"],[\"Oak View Union Elementary\",\"San Joaquin\"],[\"Ripon Unified\",\"San Joaquin\"],[\"Stockton Unified\",\"San Joaquin\"],[\"Tracy Joint Unified\",\"San Joaquin\"],[\"Lammersville Joint Unified\",\"San Joaquin\"],[\"Banta Unified\",\"San Joaquin\"],[\"Atascadero Unified\",\"San Luis Obispo\"],[\"Cayucos Elementary\",\"San Luis Obispo\"],[\"Lucia Mar Unified\",\"San Luis Obispo\"],[\"Pleasant Valley Joint Union Elementary\",\"San Luis Obispo\"],[\"San Luis Coastal Unified\",\"San Luis Obispo\"],[\"San Miguel Joint Union Elementary\",\"San Luis Obispo\"],[\"Shandon Joint Unified\",\"San Luis Obispo\"],[\"Templeton Unified\",\"San Luis Obispo\"],[\"Paso Robles Joint Unified\",\"San Luis Obispo\"],[\"Coast Unified\",\"San Luis Obispo\"],[\"Bayshore Elementary\",\"San Mateo\"],[\"Belmont-Redwood Shores Elementary\",\"San Mateo\"],[\"Brisbane Elementary\",\"San Mateo\"],[\"Burlingame Elementary\",\"San Mateo\"],[\"Cabrillo Unified\",\"San Mateo\"],[\"Hillsborough City Elementary\",\"San Mateo\"],[\"Jefferson Elementary\",\"San Mateo\"],[\"Jefferson Union High\",\"San Mateo\"],[\"Pacifica Elementary\",\"San Mateo\"],[\"La Honda-Pescadero Unified\",\"San Mateo\"],[\"Las Lomitas Elementary\",\"San Mateo\"],[\"Menlo Park City Elementary\",\"San Mateo\"],[\"Millbrae Elementary\",\"San Mateo\"],[\"Portola Valley Elementary\",\"San Mateo\"],[\"Ravenswood City Elementary\",\"San Mateo\"],[\"Redwood City Elementary\",\"San Mateo\"],[\"San Bruno Park Elementary\",\"San Mateo\"],[\"San Carlos Elementary\",\"San Mateo\"],[\"San Mateo-Foster City Elementary\",\"San Mateo\"],[\"San Mateo Union High\",\"San Mateo\"],[\"Sequoia Union High\",\"San Mateo\"],[\"South San Francisco Unified\",\"San Mateo\"],[\"Woodside Elementary\",\"San Mateo\"],[\"Ballard Elementary\",\"Santa Barbara\"],[\"Blochman Union Elementary\",\"Santa Barbara\"],[\"Santa Maria-Bonita Elementary\",\"Santa Barbara\"],[\"Buellton Union Elementary\",\"Santa Barbara\"],[\"Carpinteria Unified\",\"Santa Barbara\"],[\"Cold Spring Elementary\",\"Santa Barbara\"],[\"College Elementary\",\"Santa Barbara\"],[\"Goleta Union Elementary\",\"Santa Barbara\"],[\"Guadalupe Union Elementary\",\"Santa Barbara\"],[\"Hope Elementary\",\"Santa Barbara\"],[\"Lompoc Unified\",\"Santa Barbara\"],[\"Los Olivos Elementary\",\"Santa Barbara\"],[\"Montecito Union Elementary\",\"Santa Barbara\"],[\"Orcutt Union Elementary\",\"Santa Barbara\"],[\"Santa Maria Joint Union High\",\"Santa Barbara\"],[\"Santa Ynez Valley Union High\",\"Santa Barbara\"],[\"Solvang Elementary\",\"Santa Barbara\"],[\"Vista Del Mar Union Elementary\",\"Santa Barbara\"],[\"Cuyama Joint Unified\",\"Santa Barbara\"],[\"Santa Barbara Unified\",\"Santa Barbara\"],[\"Alum Rock Union Elementary\",\"Santa Clara\"],[\"Berryessa Union Elementary\",\"Santa Clara\"],[\"Cambrian Elementary\",\"Santa Clara\"],[\"Campbell Union Elementary\",\"Santa Clara\"],[\"Campbell Union High\",\"Santa Clara\"],[\"Cupertino Union Elementary\",\"Santa Clara\"],[\"East Side Union High\",\"Santa Clara\"],[\"Evergreen Elementary\",\"Santa Clara\"],[\"Franklin-McKinley Elementary\",\"Santa Clara\"],[\"Fremont Union High\",\"Santa Clara\"],[\"Gilroy Unified\",\"Santa Clara\"],[\"Lakeside Joint Elementary\",\"Santa Clara\"],[\"Loma Prieta Joint Union Elementary\",\"Santa Clara\"],[\"Los Altos Elementary\",\"Santa Clara\"],[\"Los Gatos Union Elementary\",\"Santa Clara\"],[\"Los Gatos-Saratoga Union High\",\"Santa Clara\"],[\"Luther Burbank Elementary\",\"Santa Clara\"],[\"Moreland Elementary\",\"Santa Clara\"],[\"Morgan Hill Unified\",\"Santa Clara\"],[\"Mountain View Whisman Elementary\",\"Santa Clara\"],[\"Mountain View-Los Altos Union High\",\"Santa Clara\"],[\"Mount Pleasant Elementary\",\"Santa Clara\"],[\"Oak Grove Elementary\",\"Santa Clara\"],[\"Orchard Elementary\",\"Santa Clara\"],[\"Palo Alto Unified\",\"Santa Clara\"],[\"San Jose Unified\",\"Santa Clara\"],[\"Santa Clara Unified\",\"Santa Clara\"],[\"Saratoga Union Elementary\",\"Santa Clara\"],[\"Sunnyvale Elementary\",\"Santa Clara\"],[\"Union Elementary\",\"Santa Clara\"],[\"Milpitas Unified\",\"Santa Clara\"],[\"Bonny Doon Union Elementary\",\"Santa Cruz\"],[\"Happy Valley Elementary\",\"Santa Cruz\"],[\"Live Oak Elementary\",\"Santa Cruz\"],[\"Mountain Elementary\",\"Santa Cruz\"],[\"Pacific Elementary\",\"Santa Cruz\"],[\"Pajaro Valley Unified\",\"Santa Cruz\"],[\"San Lorenzo Valley Unified\",\"Santa Cruz\"],[\"Soquel Union Elementary\",\"Santa Cruz\"],[\"Scotts Valley Unified\",\"Santa Cruz\"],[\"Anderson Union High\",\"Shasta\"],[\"Bella Vista Elementary\",\"Shasta\"],[\"Black Butte Union Elementary\",\"Shasta\"],[\"Cascade Union Elementary\",\"Shasta\"],[\"Castle Rock Union Elementary\",\"Shasta\"],[\"Columbia Elementary\",\"Shasta\"],[\"Cottonwood Union Elementary\",\"Shasta\"],[\"Enterprise Elementary\",\"Shasta\"],[\"Fall River Joint Unified\",\"Shasta\"],[\"French Gulch-Whiskeytown Elementary\",\"Shasta\"],[\"Grant Elementary\",\"Shasta\"],[\"Happy Valley Union Elementary\",\"Shasta\"],[\"Igo, Ono, Platina Union Elementary\",\"Shasta\"],[\"Junction Elementary\",\"Shasta\"],[\"Millville Elementary\",\"Shasta\"],[\"North Cow Creek Elementary\",\"Shasta\"],[\"Oak Run Elementary\",\"Shasta\"],[\"Pacheco Union Elementary\",\"Shasta\"],[\"Redding Elementary\",\"Shasta\"],[\"Shasta Union Elementary\",\"Shasta\"],[\"Shasta Union High\",\"Shasta\"],[\"Whitmore Union Elementary\",\"Shasta\"],[\"Mountain Union Elementary\",\"Shasta\"],[\"Gateway Unified\",\"Shasta\"],[\"Sierra-Plumas Joint Unified\",\"Sierra\"],[\"Big Springs Union Elementary\",\"Siskiyou\"],[\"Bogus Elementary\",\"Siskiyou\"],[\"Butteville Union Elementary\",\"Siskiyou\"],[\"Delphic Elementary\",\"Siskiyou\"],[\"Dunsmuir Elementary\",\"Siskiyou\"],[\"Dunsmuir Joint Union High\",\"Siskiyou\"],[\"Gazelle Union Elementary\",\"Siskiyou\"],[\"Grenada Elementary\",\"Siskiyou\"],[\"Happy Camp Union Elementary\",\"Siskiyou\"],[\"Hornbrook Elementary\",\"Siskiyou\"],[\"Klamath River Union Elementary\",\"Siskiyou\"],[\"Little Shasta Elementary\",\"Siskiyou\"],[\"McCloud Union Elementary\",\"Siskiyou\"],[\"Montague Elementary\",\"Siskiyou\"],[\"Mt. Shasta Union Elementary\",\"Siskiyou\"],[\"Seiad Elementary\",\"Siskiyou\"],[\"Siskiyou Union High\",\"Siskiyou\"],[\"Weed Union Elementary\",\"Siskiyou\"],[\"Willow Creek Elementary\",\"Siskiyou\"],[\"Yreka Union Elementary\",\"Siskiyou\"],[\"Yreka Union High\",\"Siskiyou\"],[\"Butte Valley Unified\",\"Siskiyou\"],[\"Scott Valley Unified\",\"Siskiyou\"],[\"Benicia Unified\",\"Solano\"],[\"Dixon Unified\",\"Solano\"],[\"Fairfield-Suisun Unified\",\"Solano\"],[\"Travis Unified\",\"Solano\"],[\"Vacaville Unified\",\"Solano\"],[\"Vallejo City Unified\",\"Solano\"],[\"Alexander Valley Union Elementary\",\"Sonoma\"],[\"West Sonoma County Union High\",\"Sonoma\"],[\"Bellevue Union Elementary\",\"Sonoma\"],[\"Bennett Valley Union Elementary\",\"Sonoma\"],[\"Cinnabar Elementary\",\"Sonoma\"],[\"Cloverdale Unified\",\"Sonoma\"],[\"Dunham Elementary\",\"Sonoma\"],[\"Forestville Union Elementary\",\"Sonoma\"],[\"Fort Ross Elementary\",\"Sonoma\"],[\"Geyserville Unified\",\"Sonoma\"],[\"Gravenstein Union Elementary\",\"Sonoma\"],[\"Guerneville Elementary\",\"Sonoma\"],[\"Harmony Union Elementary\",\"Sonoma\"],[\"Horicon Elementary\",\"Sonoma\"],[\"Kenwood Elementary\",\"Sonoma\"],[\"Liberty Elementary\",\"Sonoma\"],[\"Mark West Union Elementary\",\"Sonoma\"],[\"Monte Rio Union Elementary\",\"Sonoma\"],[\"Montgomery Elementary\",\"Sonoma\"],[\"Oak Grove Union Elementary\",\"Sonoma\"],[\"Old Adobe Union Elementary\",\"Sonoma\"],[\"Piner-Olivet Union Elementary\",\"Sonoma\"],[\"Kashia Elementary\",\"Sonoma\"],[\"Rincon Valley Union Elementary\",\"Sonoma\"],[\"Roseland Elementary\",\"Sonoma\"],[\"Sebastopol Union Elementary\",\"Sonoma\"],[\"Sonoma Valley Unified\",\"Sonoma\"],[\"Twin Hills Union Elementary\",\"Sonoma\"],[\"Two Rock Union Elementary\",\"Sonoma\"],[\"Waugh Elementary\",\"Sonoma\"],[\"West Side Union Elementary\",\"Sonoma\"],[\"Wilmar Union Elementary\",\"Sonoma\"],[\"Wright Elementary\",\"Sonoma\"],[\"Cotati-Rohnert Park Unified\",\"Sonoma\"],[\"Windsor Unified\",\"Sonoma\"],[\"Healdsburg Unified\",\"Sonoma\"],[\"Ceres Unified\",\"Stanislaus\"],[\"Chatom Union Elementary\",\"Stanislaus\"],[\"Denair Unified\",\"Stanislaus\"],[\"Empire Union Elementary\",\"Stanislaus\"],[\"Gratton Elementary\",\"Stanislaus\"],[\"Hart-Ransom Union Elementary\",\"Stanislaus\"],[\"Hickman Community Charter\",\"Stanislaus\"],[\"Keyes Union Elementary\",\"Stanislaus\"],[\"Knights Ferry Elementary\",\"Stanislaus\"],[\"Paradise Elementary\",\"Stanislaus\"],[\"Patterson Joint Unified\",\"Stanislaus\"],[\"Roberts Ferry Union Elementary\",\"Stanislaus\"],[\"Salida Union Elementary\",\"Stanislaus\"],[\"Shiloh Elementary\",\"Stanislaus\"],[\"Stanislaus Union Elementary\",\"Stanislaus\"],[\"Sylvan Union Elementary\",\"Stanislaus\"],[\"Valley Home Joint Elementary\",\"Stanislaus\"],[\"Newman-Crows Landing Unified\",\"Stanislaus\"],[\"Hughson Unified\",\"Stanislaus\"],[\"Riverbank Unified\",\"Stanislaus\"],[\"Oakdale Joint Unified\",\"Stanislaus\"],[\"Waterford Unified\",\"Stanislaus\"],[\"Turlock Unified\",\"Stanislaus\"],[\"Brittan Elementary\",\"Sutter\"],[\"Browns Elementary\",\"Sutter\"],[\"East Nicolaus Joint Union High\",\"Sutter\"],[\"Franklin Elementary\",\"Sutter\"],[\"Live Oak Unified\",\"Sutter\"],[\"Marcum-Illinois Union Elementary\",\"Sutter\"],[\"Meridian Elementary\",\"Sutter\"],[\"Nuestro Elementary\",\"Sutter\"],[\"Pleasant Grove Joint Union Elementary\",\"Sutter\"],[\"Sutter Union High\",\"Sutter\"],[\"Winship-Robbins Elementary\",\"Sutter\"],[\"Yuba City Unified\",\"Sutter\"],[\"Antelope Elementary\",\"Tehama\"],[\"Corning Union Elementary\",\"Tehama\"],[\"Corning Union High\",\"Tehama\"],[\"Evergreen Union Elementary\",\"Tehama\"],[\"Flournoy Union Elementary\",\"Tehama\"],[\"Gerber Union Elementary\",\"Tehama\"],[\"Kirkwood Elementary\",\"Tehama\"],[\"Lassen View Union Elementary\",\"Tehama\"],[\"Los Molinos Unified\",\"Tehama\"],[\"Red Bluff Union Elementary\",\"Tehama\"],[\"Red Bluff Joint Union High\",\"Tehama\"],[\"Reeds Creek Elementary\",\"Tehama\"],[\"Richfield Elementary\",\"Tehama\"],[\"Burnt Ranch Elementary\",\"Trinity\"],[\"Coffee Creek Elementary\",\"Trinity\"],[\"Douglas City Elementary\",\"Trinity\"],[\"Junction City Elementary\",\"Trinity\"],[\"Lewiston Elementary\",\"Trinity\"],[\"Trinity Center Elementary\",\"Trinity\"],[\"Southern Trinity Joint Unified\",\"Trinity\"],[\"Mountain Valley Unified\",\"Trinity\"],[\"Trinity Alps Unified\",\"Trinity\"],[\"Allensworth Elementary\",\"Tulare\"],[\"Alpaugh Unified\",\"Tulare\"],[\"Alta Vista Elementary\",\"Tulare\"],[\"Buena Vista Elementary\",\"Tulare\"],[\"Burton Elementary\",\"Tulare\"],[\"Columbine Elementary\",\"Tulare\"],[\"Cutler-Orosi Joint Unified\",\"Tulare\"],[\"Ducor Union Elementary\",\"Tulare\"],[\"Earlimart Elementary\",\"Tulare\"],[\"Hope Elementary\",\"Tulare\"],[\"Hot Springs Elementary\",\"Tulare\"],[\"Kings River Union Elementary\",\"Tulare\"],[\"Liberty Elementary\",\"Tulare\"],[\"Lindsay Unified\",\"Tulare\"],[\"Monson-Sultana Joint Union Elementary\",\"Tulare\"],[\"Oak Valley Union Elementary\",\"Tulare\"],[\"Outside Creek Elementary\",\"Tulare\"],[\"Palo Verde Union Elementary\",\"Tulare\"],[\"Pixley Union Elementary\",\"Tulare\"],[\"Pleasant View Elementary\",\"Tulare\"],[\"Richgrove Elementary\",\"Tulare\"],[\"Rockford Elementary\",\"Tulare\"],[\"Saucelito Elementary\",\"Tulare\"],[\"Sequoia Union Elementary\",\"Tulare\"],[\"Springville Union Elementary\",\"Tulare\"],[\"Stone Corral Elementary\",\"Tulare\"],[\"Strathmore Union Elementary\",\"Tulare\"],[\"Sundale Union Elementary\",\"Tulare\"],[\"Sunnyside Union Elementary\",\"Tulare\"],[\"Terra Bella Union Elementary\",\"Tulare\"],[\"Three Rivers Union Elementary\",\"Tulare\"],[\"Tipton Elementary\",\"Tulare\"],[\"Traver Joint Elementary\",\"Tulare\"],[\"Tulare City Elementary\",\"Tulare\"],[\"Tulare Joint Union High\",\"Tulare\"],[\"Visalia Unified\",\"Tulare\"],[\"Waukena Joint Union Elementary\",\"Tulare\"],[\"Woodville Union Elementary\",\"Tulare\"],[\"Farmersville Unified\",\"Tulare\"],[\"Porterville Unified\",\"Tulare\"],[\"Dinuba Unified\",\"Tulare\"],[\"Woodlake Unified\",\"Tulare\"],[\"Exeter Unified\",\"Tulare\"],[\"Belleview Elementary\",\"Tuolumne\"],[\"Columbia Union Elementary\",\"Tuolumne\"],[\"Curtis Creek Elementary\",\"Tuolumne\"],[\"Jamestown Elementary\",\"Tuolumne\"],[\"Sonora Elementary\",\"Tuolumne\"],[\"Sonora Union High\",\"Tuolumne\"],[\"Soulsbyville Elementary\",\"Tuolumne\"],[\"Summerville Elementary\",\"Tuolumne\"],[\"Summerville Union High\",\"Tuolumne\"],[\"Twain Harte Elementary\",\"Tuolumne\"],[\"Big Oak Flat-Groveland Unified\",\"Tuolumne\"],[\"Briggs Elementary\",\"Ventura\"],[\"Fillmore Unified\",\"Ventura\"],[\"Hueneme Elementary\",\"Ventura\"],[\"Mesa Union Elementary\",\"Ventura\"],[\"Mupu Elementary\",\"Ventura\"],[\"Ocean View Elementary\",\"Ventura\"],[\"Ojai Unified\",\"Ventura\"],[\"Oxnard Elementary\",\"Ventura\"],[\"Oxnard Union High\",\"Ventura\"],[\"Pleasant Valley\",\"Ventura\"],[\"Rio Elementary\",\"Ventura\"],[\"Santa Clara Elementary\",\"Ventura\"],[\"Simi Valley Unified\",\"Ventura\"],[\"Somis Union Elementary\",\"Ventura\"],[\"Ventura Unified\",\"Ventura\"],[\"Conejo Valley Unified\",\"Ventura\"],[\"Oak Park Unified\",\"Ventura\"],[\"Moorpark Unified\",\"Ventura\"],[\"Santa Paula Unified\",\"Ventura\"],[\"Davis Joint Unified\",\"Yolo\"],[\"Esparto Unified\",\"Yolo\"],[\"Washington Unified\",\"Yolo\"],[\"Winters Joint Unified\",\"Yolo\"],[\"Woodland Joint Unified\",\"Yolo\"],[\"Camptonville Elementary\",\"Yuba\"],[\"Marysville Joint Unified\",\"Yuba\"],[\"Plumas Lake Elementary\",\"Yuba\"],[\"Wheatland Elementary\",\"Yuba\"],[\"Wheatland Union High\",\"Yuba\"],[\"Las Virgenes Unified\",\"Los Angeles\"],[\"Junction Elementary\",\"Siskiyou\"],[\"Arena Union Elementary\\u002fPoint Arena Joint Union High \",\"Mendocino\"],[\"Santa Cruz City Elementary\\u002fHigh\",\"Santa Cruz\"],[\"Petaluma City Elementary\\u002fJoint Union High\",\"Sonoma\"],[\"Santa Rosa City Schools\",\"Sonoma\"],[\"Modesto City Schools\",\"Stanislaus\"]],\"hovertemplate\":\"English Learner (%)=%{x}\\u003cbr\\u003eExpense per ADA ($)=%{y}\\u003cbr\\u003eDistrict Name=%{customdata[0]}\\u003cbr\\u003eCounty Name=%{customdata[1]}\\u003cextra\\u003e\\u003c\\u002fextra\\u003e\",\"legendgroup\":\"\",\"marker\":{\"color\":\"#636efa\",\"symbol\":\"circle\"},\"mode\":\"markers\",\"name\":\"\",\"orientation\":\"v\",\"showlegend\":false,\"x\":{\"dtype\":\"f8\",\"bdata\":\"MzMzMzMzIUCamZmZmZkpQAAAAAAAABpAmpmZmZmZKkDNzMzMzEwwQDMzMzMzszBAAAAAAAAAPUAAAAAAAAAjQAAAAAAAAElAzczMzMxMNUCamZmZmZkxQM3MzMzMjEBAMzMzMzMz8z9mZmZmZmY4QDMzMzMzMz9AzczMzMzMGECamZmZmZkkQM3MzMzMzBRAAAAAAAAA+D\\u002fNzMzMzMwIQGZmZmZmZihAMzMzMzMzIUBmZmZmZmYYQDMzMzMzMx1AmpmZmZmZG0DNzMzMzEwyQGZmZmZmZhhAzczMzMzMFEAAAAAAAAAoQAAAAAAAAPg\\u002fMzMzMzMzKUDNzMzMzMwIQJqZmZmZmSxAZmZmZmZmDkBmZmZmZmYOQGZmZmZmZhhAMzMzMzMzE0BmZmZmZmY1QAAAAAAAAEFAAAAAAAAAOkDNzMzMzExKQM3MzMzMzARAzczMzMxMNEBmZmZmZmYiQJqZmZmZmRNAAAAAAAAAAACamZmZmRkzQDMzMzMzMyhAzczMzMzMDEDNzMzMzMwcQM3MzMzMzBxAmpmZmZmZDUCamZmZmRk2QM3MzMzMzClAmpmZmZmZAUAAAAAAAIA4QGZmZmZmJkBAzczMzMzMEkAzMzMzMzMsQAAAAAAAABZAzczMzMzMEkAAAAAAAAAsQDMzMzMzMwNAAAAAAAAABEDNzMzMzMwMQAAAAAAAAAAAzczMzMzMMUDNzMzMzMwQQDMzMzMzMylAZmZmZmZmBkDNzMzMzMwmQJqZmZmZmfk\\u002fMzMzMzMzD0AAAAAAAAAAAM3MzMzMzPQ\\u002fmpmZmZkZOkAAAAAAAAAAAAAAAAAAQEhAzczMzMzMAEAzMzMzMzMTQM3MzMzMDERAmpmZmZmZMECamZmZmRk0QJqZmZmZmSRAMzMzMzMzIEAzMzMzM7M6QM3MzMzMTDxAAAAAAAAASkCamZmZmZkrQJqZmZmZGUtAmpmZmZkZRUAAAAAAAAAAAGZmZmZmJkNAZmZmZmZmKkDNzMzMzMw8QJqZmZmZmT9AZmZmZmbmPUAAAAAAAAAeQDMzMzMz80FAzczMzMzMK0BmZmZmZmY8QM3MzMzMzExAMzMzMzPzSUAzMzMzMzPzP2ZmZmZmZkBAzczMzMxMOkAzMzMzM7M8QM3MzMzMzCdAMzMzMzMz+z+amZmZmZkhQGZmZmZm5jdAAAAAAAAAAABmZmZmZmYzQDMzMzMzMzhAZmZmZmbmPkAAAAAAAAAAQJqZmZmZmQVAAAAAAAAAAAAAAAAAAAAAAAAAAAAAAAAAAAAAAAAAAADNzMzMzMwMQAAAAAAAAAAAZmZmZmZmGEAAAAAAAADwPwAAAAAAAAAAAAAAAAAAAACamZmZmZkBQJqZmZmZmdk\\u002fMzMzMzMz0z8AAAAAAAAAAAAAAAAAADhAAAAAAAAAAAAzMzMzMzMRQAAAAAAAAAAAzczMzMzMHkDNzMzMzMwIQDMzMzMzMyBAzczMzMzMCEBmZmZmZmYWQAAAAAAAABxAAAAAAAAAAADNzMzMzMwIQAAAAAAAAAAAMzMzMzOzMEAzMzMzMzMqQGZmZmZmpkNAAAAAAAAAN0BmZmZmZuZNQAAAAAAAgDxAAAAAAAAAOUCamZmZmRlGQDMzMzMzM0tAmpmZmZkZRkAAAAAAAAA4QDMzMzMzMyNAMzMzMzMzK0AAAAAAAMBNQDMzMzMzMydAZmZmZmbmNUAzMzMzMzNJQM3MzMzMTEhAZmZmZmZmGkAAAAAAAIA3QGZmZmZmZjFAAAAAAAAA8D9mZmZmZmb2P5qZmZmZmSRAmpmZmZkZT0DNzMzMzEw7QJqZmZmZmSlAAAAAAAAAJUAAAAAAAAAtQM3MzMzMDExAAAAAAAAAAACamZmZmRlBQDMzMzMzszdAZmZmZmYmQEAAAAAAAAA6QAAAAAAAABhAzczMzMzMQEAAAAAAAAAcQJqZmZmZGTpAMzMzMzOzN0BmZmZmZmYkQM3MzMzMzPw\\u002fZmZmZmZmMEAzMzMzM\\u002fNJQJqZmZmZGT9AAAAAAAAAAADNzMzMzIxIQGZmZmZmZiRAMzMzMzMzB0AzMzMzMzMHQAAAAAAAABJAmpmZmZmZL0CamZmZmZnxP83MzMzMzBJAMzMzMzMzMUBmZmZmZmYUQM3MzMzMzEtAmpmZmZmZLkDNzMzMzMwEQDMzMzMzMyBAAAAAAAAAR0AzMzMzMzMyQM3MzMzMzBZAZmZmZmZmTUBmZmZmZmY\\u002fQGZmZmZm5jRAAAAAAAAAIEAAAAAAAAAWQGZmZmZmJkFAmpmZmZmZJECamZmZmZkxQJqZmZmZmSJAmpmZmZmZM0BmZmZmZuYyQJqZmZmZmSZAzczMzMzMFEDNzMzMzMwMQGZmZmZmZjFAZmZmZmYmREAAAAAAAAAsQM3MzMzMzCBAmpmZmZmZH0AAAAAAAABLQDMzMzMzMy9AMzMzMzOzO0DNzMzMzMwkQAAAAAAAACZAzczMzMzMHkDNzMzMzMwYQDMzMzMzMxtAAAAAAAAAAAAAAAAAAAD4P2ZmZmZmZhBAMzMzMzOzMEAAAAAAAAAAAAAAAAAAAARAzczMzMzMEECamZmZmZn5PzMzMzMzM\\u002fM\\u002fzczMzMzMJUDNzMzMzMwkQGZmZmZmZipAzczMzMxMN0BmZmZmZmYzQM3MzMzMTDdAAAAAAAAAMUBmZmZmZmYiQM3MzMzMzBRAMzMzMzMzKEBmZmZmZmYhQJqZmZmZGTBAMzMzMzMzIECamZmZmZkVQM3MzMzMzCRAmpmZmZmZJEDNzMzMzMwsQGZmZmZmZi5AZmZmZmZmNUCamZmZmZkhQGZmZmZmZkBAMzMzMzMzNUBmZmZmZuYwQJqZmZmZmQFAAAAAAABAQ0AAAAAAAAA2QGZmZmZmZhhAAAAAAAAADEAzMzMzMzM5QDMzMzMzMwdAAAAAAAAAAADNzMzMzEw1QAAAAAAAgDxAzczMzMzMCEAzMzMzMzMrQJqZmZmZGTpAZmZmZmYmQkBmZmZmZmYjQDMzMzMzszBAmpmZmZkZNECamZmZmRk5QGZmZmZmZjpAzczMzMzMJUBmZmZmZmY7QJqZmZmZmUdAZmZmZmZmNEAAAAAAAAAvQJqZmZmZmTNAAAAAAAAAFkDNzMzMzMw0QM3MzMzMzClAAAAAAAAAOUCamZmZmVlCQM3MzMzMzCJAmpmZmZmZG0AAAAAAAAAgQGZmZmZmZhRAMzMzMzOzPkAzMzMzMzMxQDMzMzMzMzZAzczMzMzMKEDNzMzMzEwyQGZmZmZmZiJAMzMzMzMzH0AAAAAAAAArQJqZmZmZmSNAZmZmZmZmFkAzMzMzMzNBQM3MzMzMzDdAMzMzMzMzM0DNzMzMzEw3QDMzMzMzMyxAmpmZmZmZNUCamZmZmZkhQGZmZmZmZv4\\u002fzczMzMzMEkCamZmZmRk6QGZmZmZmZhZAmpmZmZmZQUAAAAAAAAAiQDMzMzMzsztAmpmZmZkZMkAzMzMzMzM8QDMzMzMzMwNAmpmZmZmZIEDNzMzMzMz0P2ZmZmZmZg5AZmZmZmZmKkAAAAAAAAAtQGZmZmZmZiFAzczMzMysUEDNzMzMzMwYQGZmZmZmZhJAZmZmZmZmEEDNzMzMzMw7QM3MzMzMTDFAZmZmZmZmCkAAAAAAAAAAAGZmZmZmZkpAmpmZmZkZOUDNzMzMzMwqQM3MzMzMzABAzczMzMwMQECamZmZmZkVQM3MzMzMzBRAAAAAAABAQkCamZmZmRkzQGZmZmZmpkBAZmZmZmZmEEBmZmZmZuY3QJqZmZmZmTZAZmZmZmZmJkDNzMzMzMwqQAAAAAAAABhAmpmZmZmZHUAzMzMzMzM7QAAAAAAAAEFAmpmZmZmZTEAzMzMzMzM2QM3MzMzMDEVAmpmZmZmZOEDNzMzMzMxDQM3MzMzMzDdAmpmZmZmZIUAAAAAAAIAxQDMzMzMzMydAMzMzMzMzKkCamZmZmdlIQM3MzMzMzDpAmpmZmZkZOEAAAAAAAMBJQAAAAAAAAEJAMzMzMzOzOkAzMzMzMzM7QDMzMzMz80JAmpmZmZmZ8T+amZmZmZkJQM3MzMzMzDpAmpmZmZmZKkCamZmZmRk7QAAAAAAAwE5AmpmZmZmZJEAzMzMzMzMHQAAAAAAAgFJAzczMzMzMK0AzMzMzM1NQQJqZmZmZ2UtAMzMzMzMzMkBmZmZmZmYKQAAAAAAAAC5AmpmZmZkZOUDNzMzMzMwQQM3MzMzMjElAZmZmZmZmM0BmZmZmZmY6QAAAAAAAQE5AmpmZmZkZR0BmZmZmZuZGQDMzMzMzMyBAmpmZmZmZBUCamZmZmVlIQJqZmZmZmQ1AmpmZmZmZQECamZmZmRlGQM3MzMzMDEFAmpmZmZlZQ0BmZmZmZuY3QM3MzMzMzENAZmZmZmZmLEAAAAAAAAAAAAAAAAAAAAAAAAAAAAAADECamZmZmZm5P5qZmZmZmfE\\u002fmpmZmZmZ8T9mZmZmZmYCQM3MzMzMzPw\\u002fZmZmZmZm9j8AAAAAAAAaQJqZmZmZ2UZAZmZmZmbmNUCamZmZmZkiQGZmZmZm5j5AzczMzMzMIEDNzMzMzEw6QAAAAAAAACxAzczMzMzMJUBmZmZmZuYyQJqZmZmZmSRAZmZmZmbmPkBmZmZmZmYUQJqZmZmZmSNAzczMzMzMAECamZmZmZk0QDMzMzMzc0RAAAAAAACAMEAAAAAAAIAyQGZmZmZmZjBAAAAAAAAAK0AAAAAAAEBEQM3MzMzMjEBAAAAAAABAQUAzMzMzMzMvQDMzMzMzMzBAzczMzMzMK0AzMzMzMzMDQGZmZmZmZhBAmpmZmZmZ8T9mZmZmZmYuQM3MzMzMzOw\\u002fmpmZmZkZMUDNzMzMzMweQDMzMzMzM+M\\u002fMzMzMzMzB0DNzMzMzMwYQAAAAAAAAABAzczMzMzMDEDNzMzMzMwmQAAAAAAAABpAMzMzMzMzKkCamZmZmZkfQM3MzMzMzBZAmpmZmZmZEUBmZmZmZuY3QAAAAAAAADJAAAAAAAAAFkAzMzMzMzMsQAAAAAAAADBAMzMzMzOzM0DNzMzMzMwqQAAAAAAAAD5AAAAAAAAAHEAAAAAAAAAzQDMzMzMzszdAMzMzMzMzPECamZmZmZkfQGZmZmZmJkZAzczMzMzMLEAzMzMzMzMxQGZmZmZmZjBAZmZmZmZmMEAzMzMzMzNFQM3MzMzMzCdAmpmZmZmZFUAzMzMzMzMVQM3MzMzMTDVAAAAAAAAAJECamZmZmZkwQGZmZmZmZjJAzczMzMzMKkAzMzMzMzMzQDMzMzMzMyJAmpmZmZmZM0AAAAAAAEBBQDMzMzMzszNAmpmZmZmZMUBmZmZmZmYuQDMzMzMzMytAMzMzMzMzN0DNzMzMzMwuQAAAAAAAACVAzczMzMxMPEAAAAAAAMBSQGZmZmZmZipAAAAAAAAAREDNzMzMzMwqQDMzMzMzMzVAzczMzMxMMECamZmZmRk6QJqZmZmZmT5AmpmZmZkZMEAAAAAAAAAYQJqZmZmZmSFAMzMzMzMzK0AAAAAAAAApQAAAAAAAACFAZmZmZmZmJECamZmZmRkyQDMzMzMzMyZAmpmZmZmZI0DNzMzMzMw4QGZmZmZmZhRAmpmZmZmZDUAAAAAAAIAwQM3MzMzMzABAmpmZmZmZuT8AAAAAAAA8QGZmZmZmZihAzczMzMzMIEDNzMzMzMw0QAAAAAAAACJAAAAAAAAANkAzMzMzMzPzPzMzMzMzMzBAzczMzMzMK0BmZmZmZmYeQJqZmZmZmUlAMzMzMzMzE0DNzMzMzMwpQJqZmZmZmTFAAAAAAAAAGEBmZmZmZmYhQM3MzMzMzCRAMzMzMzMzF0DNzMzMzMw1QAAAAAAAQEFAmpmZmZmZFUAzMzMzMzM9QM3MzMzMzBBAmpmZmZmZAUAAAAAAAAAtQGZmZmZmZiFAAAAAAACAP0CamZmZmZkxQM3MzMzMzDpAmpmZmZmZNkDNzMzMzMwoQAAAAAAAgDJAMzMzMzMzMEBmZmZmZmYpQDMzMzMzMx9AzczMzMxMMUDNzMzMzMw5QAAAAAAAgDBAmpmZmZmZSkDNzMzMzMweQJqZmZmZmSpAmpmZmZmZGUDNzMzMzEwxQAAAAAAAABJAzczMzMzMJEDNzMzMzMwiQDMzMzMzs0hAmpmZmZmZJUCamZmZmVlHQGZmZmZmZiJAAAAAAACANkCamZmZmRlGQM3MzMzMTDBAZmZmZmZmEkCamZmZmZklQM3MzMzMzCdAMzMzMzMzFUAzMzMzMzM4QM3MzMzMzCRAzczMzMxMOECamZmZmZktQAAAAAAAADBAzczMzMzMKEBmZmZmZuY1QDMzMzMzMzNAMzMzMzOzNUCamZmZmVlDQDMzMzMzszJAAAAAAAAAIUCamZmZmZk3QGZmZmZmZjdAZmZmZmZmJUCamZmZmRkwQGZmZmZmZhxAmpmZmZmZEUAAAAAAAAAnQAAAAAAAACRAzczMzMzMIUBmZmZmZuZCQAAAAAAAwEVAmpmZmZmZBUDNzMzMzEw0QJqZmZmZGUNAMzMzMzNzQECamZmZmZkpQGZmZmZmZi9AZmZmZmZmK0BmZmZmZuYwQGZmZmZmZvY\\u002fAAAAAABAQEDNzMzMzMwrQDMzMzMzMyBAmpmZmZkZPkAzMzMzMzMnQJqZmZmZmSBAZmZmZmZmM0DNzMzMzMwMQDMzMzMz80pAzczMzMwMQ0AzMzMzM7M5QM3MzMzMzBhAMzMzMzMzPECamZmZmZkmQJqZmZmZmS5AAAAAAACAN0CamZmZmZkRQAAAAAAAAAAAmpmZmZmZBUAAAAAAAEBMQM3MzMzMzC1AMzMzMzMzMUAAAAAAAAAAAJqZmZmZmSRAmpmZmZkZMUBmZmZmZuZKQDMzMzMzMyRAAAAAAAAALkAzMzMzMzMdQAAAAAAAABZAmpmZmZmZJUAzMzMzMzMtQDMzMzMzMwdAAAAAAACANkCamZmZmZkjQJqZmZmZmSdAzczMzMzMK0AAAAAAAMBGQM3MzMzMzDZAZmZmZmZmLUAzMzMzM7M8QM3MzMzMzCBAMzMzMzMzMkBmZmZmZmY2QGZmZmZm5jVAZmZmZmbmRkDNzMzMzMwiQJqZmZmZGTtAzczMzMzMJEBmZmZmZmYOQJqZmZmZmSRAAAAAAAAAHEAzMzMzMzMDQJqZmZmZmUtAAAAAAACAPkDNzMzMzMwwQGZmZmZmZjhAZmZmZmZmHEAzMzMzMzNGQJqZmZmZGTlAAAAAAABAREAzMzMzMzMlQJqZmZmZmTdAmpmZmZkZNkCamZmZmZkdQAAAAAAAgD1AAAAAAAAAL0DNzMzMzEw2QM3MzMzMzBRAmpmZmZmZ+T9mZmZmZmY2QDMzMzMzM+M\\u002fAAAAAAAAGEAzMzMzM\\u002fNCQM3MzMzMzARAAAAAAAAAJ0DNzMzMzMwQQGZmZmZmZgpAzczMzMzM\\u002fD+amZmZmZnpPzMzMzMzMyNAAAAAAAAAAADNzMzMzMz8P83MzMzMzABAzczMzMzMEkBmZmZmZmYYQAAAAAAAAAAAAAAAAAAA4D\\u002fNzMzMzMweQJqZmZmZmRtAzczMzMzM9D9mZmZmZmb2P5qZmZmZmfk\\u002fmpmZmZmZE0CamZmZmZkBQGZmZmZmZgJAZmZmZmZm\\u002fj9mZmZmZmb+PwAAAAAAAAAAAAAAAAAAAACamZmZmZkBQJqZmZmZmQ1AAAAAAAAAKUAAAAAAAAAAAGZmZmZmZuY\\u002fAAAAAAAAAADNzMzMzMz0PwAAAAAAAPg\\u002fAAAAAAAAAAAAAAAAAADgPwAAAAAAAAAAAAAAAAAAAAAAAAAAAAAAAAAAAAAAAAAAAAAAAAAAAAAzMzMzMzPjPwAAAAAAAAhAAAAAAAAAAAAAAAAAAAAEQDMzMzMzMyRAAAAAAAAABEAzMzMzMzMRQAAAAAAAAABAAAAAAACAOEAAAAAAAADwP2ZmZmZmZgpAMzMzMzOzM0BmZmZmZmYuQDMzMzMzMwdAZmZmZmZmIEAzMzMzMzM6QAAAAAAAABxAAAAAAAAABEAAAAAAAMBLQDMzMzMzMypAAAAAAAAAS0AAAAAAAAA7QDMzMzMzMwNAAAAAAAAAK0AAAAAAAAA0QJqZmZmZGTpAmpmZmZmZFUCamZmZmZkbQM3MzMzMzARAAAAAAAAAN0DNzMzMzMwcQM3MzMzMzBRAZmZmZmZmI0DNzMzMzMwkQDMzMzMzMytAAAAAAAAAGEAzMzMzM7M2QGZmZmZm5jRAAAAAAAAAAABmZmZmZmYpQJqZmZmZWUpAMzMzMzMzIUAAAAAAAIA4QGZmZmZmZgZAmpmZmZmZPECamZmZmZkVQGZmZmZmZhRAzczMzMzMGkCamZmZmZlCQGZmZmZmZjFAZmZmZmZmMUDNzMzMzMwwQGZmZmZm5j9AZmZmZmYmQ0AzMzMzM7M1QDMzMzMzszlAMzMzMzMzF0DNzMzMzMwUQM3MzMzMzB5AZmZmZmbmOkDNzMzMzMwQQJqZmZmZmTxAZmZmZmYmQEAzMzMzM7MwQGZmZmZm5jdAAAAAAACAP0AzMzMzM7M1QAAAAAAAAC9AzczMzMzMKkCamZmZmRlAQGZmZmZmZjBAAAAAAAAAQUCamZmZmZkmQGZmZmZmZjJAZmZmZmZmOkDNzMzMzMwEQM3MzMzMzCZAzczMzMzMEkCamZmZmZkfQM3MzMzMzC9AZmZmZmZmHkCamZmZmZkbQJqZmZmZmRNAzczMzMzMIUBmZmZmZmYKQGZmZmZmZiBAmpmZmZmZNUCamZmZmZkVQAAAAAAAQEVAMzMzMzMzOkAzMzMzMzMRQAAAAAAAAAAAzczMzMwMQUAzMzMzMzMXQAAAAAAAAAxAzczMzMzMNUCamZmZmZkrQDMzMzMzMxtAzczMzMzMAEAAAAAAAIA5QAAAAAAAAAAAAAAAAAAAAABmZmZmZmYYQAAAAAAAAAAAAAAAAAAAAAAAAAAAAAAAAAAAAAAAAAAAAAAAAAAAJEDNzMzMzMzsPwAAAAAAwEdAMzMzMzOzMEDNzMzMzMwwQDMzMzMzMy9AAAAAAAAAL0AzMzMzMzMZQJqZmZmZmURAMzMzMzMzRkBmZmZmZqZMQGZmZmZm5jBAAAAAAAAAAAAzMzMzM3NHQAAAAAAAABhAzczMzMxMQEDNzMzMzAxDQM3MzMzMzDVAAAAAAACAPkAAAAAAAIBEQGZmZmZmJkZAmpmZmZkZSkCamZmZmRlMQGZmZmZmZi5AAAAAAACANkAzMzMzMzMjQDMzMzMzMwNAzczMzMzMNEBmZmZmZqZEQJqZmZmZmSNAMzMzMzMzQ0DNzMzMzCxRQJqZmZmZmRFAZmZmZmYmTkDNzMzMzMxMQAAAAAAAgDpAmpmZmZmZJ0DNzMzMzMwsQGZmZmZmZkZAzczMzMyMS0AAAAAAAIBCQM3MzMzMTDpAmpmZmZkZPkBmZmZmZuY5QM3MzMzMTDBAMzMzMzMz8z\\u002fNzMzMzMwEQM3MzMzMzAhAAAAAAAAAIUBmZmZmZmYOQAAAAAAAAARAMzMzMzMz4z9mZmZmZmbmPzMzMzMzM+M\\u002fAAAAAAAAAABmZmZmZmYWQDMzMzMz80FAmpmZmZkZN0DNzMzMzIxFQM3MzMzMzCBAMzMzMzMzLUCamZmZmdlLQAAAAAAAACFAAAAAAAAASUAAAAAAAAAuQGZmZmZmZiJAmpmZmZkZQkBmZmZmZmb+P83MzMzMzCdAzczMzMxMPEAzMzMzMzMtQDMzMzMzMyZAZmZmZmZmEkAzMzMzMzMlQJqZmZmZGT9AMzMzMzMzIUCamZmZmVlBQJqZmZmZGTFAmpmZmZmZMkAAAAAAAIA1QM3MzMzMzAhAMzMzMzOzMUDNzMzMzMwcQDMzMzMzMxdAAAAAAAAADEBmZmZmZmYSQAAAAAAAAAAAEnfEHXFHMEAFL6fg5UQlQKa3Rb9EcCRAcY24RlwjNkDO+pEbAcg4QA==\"},\"xaxis\":\"x\",\"y\":{\"dtype\":\"f8\",\"bdata\":\"UrgehXut0UBcj8L1yHrRQM3MzMwsINlAZmZmZqbzzkCPwvUoXO3bQD0K16OQu89AmpmZmSmc1kBxPQrX80bQQAAAAACwj+tAj8L1KKxt0EB7FK5H8czQQClcj8IFFNtA16NwPbph1kDXo3A9KkLTQKRwPQoX5dRAhetRuP5BzkAK16NwLfPQQK5H4Xr0gtJAH4XrUVgb7UA9CtejsJXOQPYoXI\\u002fyBNdAUrgehQul0UCF61G4zrLQQClcj8LVQMtAH4XrUfDr4UCamZmZeVXOQArXo3Cd+tRAAAAAAGB31EApXI\\u002fCNVvTQMP1KFw\\u002f59ZASOF6FB5900DsUbgenbXlQLgehetRedFAXI\\u002fC9Ujt2kApXI\\u002fClevPQOxRuB7luM5AH4XrUci\\u002f00CF61G4DlPQQOF6FK5nH9JA16NwPWohzUBcj8L16PPPQB+F61F40NJASOF6FK7m1ECamZmZWYXMQDMzMzODb9JA16NwPTqE0kCuR+F6FMDVQHsUrkdhictAAAAAAGAT0kCF61G4TlzQQHE9CteDkNBAcT0K11OI0ECPwvUobJrQQFK4HoVLh89AUrgehZuK0ECF61G4zvPTQHE9CtfjJ9VAH4XrURh+0EApXI\\u002fCFZnNQLgeheuhw9RArkfhehSizEAK16NwPXrRQAAAAAAAr89ArkfhekRY0EDXo3A9alHPQIXrUbjOjulAPQrXowBG0kA9CtejIIjTQEjhehSu4NBAKVyPwrU20UAzMzMz8+bNQPYoXI\\u002fSX9BAH4XrUdjvykCPwvUo1FriQFK4HoWr289APQrXo1Bp1EDD9Shc+xf0QEjhehR+PNhA9ihcj4IBzEAAAAAAwHrOQPYoXI\\u002fSs9ZAmpmZmbmk00BxPQrXg3TXQHsUrkcRJdBAmpmZmekW0UBcj8L1WDDUQClcj8Ll8dhAj8L1KCx720BmZmZmNgrZQB+F61EY+dZAw\\u002fUoXN\\u002fp1ECkcD0Kf+flQNejcD0qn9RA16NwPVrX0UBSuB6FO+jVQFK4HoVrRtJAw\\u002fUoXB871kCPwvUofNzkQKRwPQoX1tNAMzMzMwPT0UCPwvUoXC\\u002fRQHsUrkcxcdJAj8L1KAyR2UBSuB6FW0vUQGZmZmam29NAMzMzM5My0kBI4XoU7t7WQI\\u002fC9Shchs1AzczMzCyUzECF61G4vlDIQM3MzMxM2dxAXI\\u002fC9Zhx6EDNzMzM7OzNQHE9CtfjXM9A16NwPapZzkDD9ShcX9XVQPYoXI9y1tRAcT0K19vl4UApXI\\u002fC1YnVQHE9CtdDcdpA7FG4HrUt0EBmZmZmBrzNQFK4HoWrxc9AexSuR6Ex0ECamZmZCTrRQArXo3Ddz9JAUrgehesK80CuR+F6lA\\u002fLQPYoXI9i7ctAH4XrURga3EC4HoXrkQnYQJqZmZn5JeBAZmZmZuZs8UBSuB6Fy7DSQIXrUbhaF\\u002flAzczMzCz7zkAAAAAAoAnYQB+F61GootNA9ihcj8JM0kAfhetRuAvWQEjhehQuYdZAUrgehQun0kCamZmZOR\\u002fVQB+F61EImONAw\\u002fUoXE\\u002fv0UAK16Nw3T3TQAAAAACA7dNAexSuR6FF00AK16NwvV\\u002fVQB+F61FIn9VACtejcJ3b00CamZmZ6brTQB+F61HocNRAZmZmZjaY00DXo3A9KqXPQHsUrkfxNNFAFK5H4ZoczUAUrkfhyiLXQEjhehSu5s9AhetRuM5o4UBI4XoUnvPXQFK4HoV719xAexSuR0Gh4kDNzMzMeGv3QMP1KFzPndlAH4XrUehu30AzMzMz83baQBSuR+Gqx9FAuB6F68Hh00CkcD0K153UQAAAAACADNRAj8L1KNzO0UAUrkfh6jDRQBSuR+GqKt1AAAAAAOCU10CPwvUojJ3XQBSuR+FKEdRAPQrXozCU1UBmZmZmFi\\u002fTQArXo3AdcNFA16NwPaod0kDXo3A9qq3OQBSuR+Gq3tJAPQrXoyA20kDD9ShcT8vSQFK4HoXrsNdA7FG4HiWqyUAAAAAAgF\\u002fSQD0K16Nwj9VACtejcDUM4kCPwvUo7BrdQOxRuB6l+tBAj8L1KBwa20A9CtejEKTeQDMzMzOz69pA16NwPSpS1UBSuB6F++HRQHsUrkdBJMpApHA9Cufr1kCPwvUoXADKQFyPwvU4Y99ArkfhepTY0UAK16Nw3avSQOxRuB5Vd9NAAAAAACAzzkDhehSuN4vYQAAAAADQH9BASOF6FL761kDsUbgedZrTQI\\u002fC9Si8C9NACtejcD2PzUCkcD0KlwbRQLgehevBZNJAhetRuL6G1UBmZmZmRvPQQOxRuB61WdVACtejcF3J0kBI4XoUnsjRQEjhehTO99BACtejcF2qzEBcj8L1qOTKQJqZmZlZi9BAzczMzOwa1UBmZmZmVgPRQDMzMzOzhNFA4XoUrgfty0C4HoXr4avSQDMzMzPjhdFAzczMzOyj1UAfhetRCKLTQAAAAABgQtJASOF6FH6q0EA9Ctej4CPXQM3MzMys19hAcT0K1yNAz0Bcj8L1SNTJQM3MzMxMvdBAMzMzM9dh9kAfhetRuFnMQDMzMzMTPMxAFK5H4Xq3zUB7FK5HIX3UQBSuR+ESSuJAKVyPwuVi0kAzMzMzU0jSQPYoXI8yFNFAzczMzMzX1kB7FK5H4Y3WQAAAAADQRNZAzczMzMzH1UAUrkfhCvreQIXrUbie8s9AexSuR8GBz0CPwvUo3BbQQIXrUbhebdRAMzMzM2OB00DsUbgexZ3QQClcj8LVH9NAKVyPwlV000AfhetRqBzTQI\\u002fC9Sj8MNNAcT0K1wMS1kAK16NwXSbSQDMzMzNT0ddArkfhekSf2EAAAAAA4ILTQHE9Cteju89AAAAAADB21EAAAAAAUBTQQJqZmZn5+M9AMzMzM\\u002fPa0UCkcD0Kd9zUQJqZmZk5ys5ACtejcD3zyEAUrkfhuvDaQArXo3CdZtNAPQrXowDT0ECkcD0KpwPVQAAAAAAgqtpAH4XrUTjQ1kD2KFyPUtTUQFK4HoX72tVACtejcH1w2kBcj8L1CG7XQJqZmZmJXdZAKVyPwjVU0kBcj8L16BrZQAAAAAAg5NlAFK5H4fr8zUCuR+F69OzUQJqZmZmZw9NAFK5H4erg0ECPwvUorBnXQOF6FK5XYtlArkfherQA1kD2KFyPcpXTQNejcD3qJNBAZmZmZgYG1kBI4XoUzk7NQClcj8I1XM9A7FG4HuVh10BmZmZmtkbQQBSuR+FKM9FAmpmZmXmLzkAAAAAA0MTTQNejcD3qdNRAKVyPwrUMzkC4HoXr0S\\u002fUQGZmZmZGxdZAexSuR1GM0ECuR+F6BEHVQKRwPQqng9ZACtejcG0400CamZmZqWbWQK5H4XrUVc9AcT0K18NJ00DNzMzM\\u002fKjVQI\\u002fC9SjMTtFAMzMzMxN0zUBmZmZm1s\\u002fTQOF6FK7Hes5APQrXo2A50UCPwvUovBHUQKRwPQoHitJA9ihcj5IU0kBmZmZmRqfTQDMzMzMTa9FAj8L1KPzMykD2KFyPgnDUQHsUrkdh1NJA16NwPdoj7EAfhetRyNTRQJqZmZnJ1dRAcT0K15Mn6UAAAAAAUIrdQBSuR+Eas9VAuB6F6yFD2EDD9ShcfwLhQGZmZma2V9FAPQrXo4AA20B7FK5HUWbeQB+F61F4\\u002fdJAUrgehesw00AUrkfhymblQDMzMzODTdhA7FG4Hu1R40BI4XoUXo7RQLgehesBt9NApHA9Cqdy10ApXI\\u002fCZd3TQK5H4XqUcOdAAAAAANCc2EAfhetRWPDZQHsUrkfBL9RA9ihcj7Lz1EDD9Shcrx3UQHE9Ctfj2NVAFK5H4arS4ECkcD0K96jRQD0K16MgI+BAFK5H4Sph10CuR+F6hE3QQD0K16NwvtVAPQrXo1BT2EDNzMzMfArRQMP1KFxP0tFAexSuR6EFy0DXo3A9KhPRQOF6FK5HH9JAKVyPwnU+0EDhehSu5yrWQOF6FK6HA9RAMzMzM5Pn0UAfhetR+LTQQMP1KFwPy9NAUrgehQs7z0BI4XoUjh3TQHsUrkfRn9VA16NwPRrL20AAAAAAMFzRQHsUrkcxWtRAUrgehVNU4UDhehSuRz7SQArXo3CNU9ZAH4XrUYjP30BxPQrXA8PiQI\\u002fC9ShsItZAexSuR0Hg0EDD9ShcDz7TQNejcD2qsNJAZmZmZka70EBSuB6FKyvSQI\\u002fC9Sg8yc5AuB6F6zFf1UAzMzMzo9HbQJqZmZkJedVAcT0K14Pq00AUrkfh2hPPQFyPwvVIWtxAH4XrUdjj3EDD9Shcn\\u002fjSQJqZmZn5zMpA16NwPYpOzkCF61G4vm\\u002fUQGZmZmbeI\\u002flArkfheiQ11EBI4XoU7lrWQIXrUbget99Aj8L1KIxa3ECPwvUozITQQClcj8IVIOFArkfhekxT4kAK16NwTQrSQJqZmZlZNMtAj8L1KCyq00Bcj8L1SE3PQClcj8IVjdNA7FG4HqWFy0DsUbgeRfvOQEjhehTOLNtA9ihcjyJ3z0B7FK5Hwb3NQHsUrkeB1NdAuB6F69GF00D2KFyPQmDPQD0K16OwE9VAAAAAAMAa0UA9CtejkNHQQKRwPQqnTNBA4XoUruemzkAAAAAAoAzRQLgehethJNFA16NwPfpU1UDD9ShcLxLRQClcj8LV99FAZmZmZkYM4UAUrkfhWgnVQLgehesxMNVAw\\u002fUoXM9b2UBSuB6Fq+HRQBSuR+EaL9BAXI\\u002fC9RhY0EDsUbge5YLYQClcj8L1rNNAFK5H4Up81EDD9ShcH+7QQArXo3Ad2s9Aw\\u002fUoXO9OzkApXI\\u002fCdXrPQNejcD1qsslAAAAAAIDk0kCkcD0K503RQDMzMzMzt9FA4XoUrsfKykAK16Nw\\u002fULLQClcj8I1cc5A9ihcj+KtyUAUrkfhynzYQOxRuB7lYM5A9ihcjzIQ0kDNzMzMrNDMQM3MzMyshtBAcT0K18Nb2UB7FK5HIcnNQM3MzMxsoc1AKVyPwkV410BxPQrXY1LUQM3MzMwccdVASOF6FO4P0kBI4XoUTuTRQJqZmZmJavxAj8L1KPx\\u002f1EDD9ShcryjVQOxRuB7FQdVA9ihcj0L6zkAK16NwDUfUQHsUrkeRltRAmpmZmWlW10BmZmZmFhvVQJqZmZnJi9NA7FG4HhVV1EA9CtejUHPSQKRwPQr3u89AH4XrUQiO1ECPwvUorFzYQHE9CtcjRtFAUrgehStIz0BI4XoUbgPPQArXo3DtddRAj8L1KHyGzEA9CtejwFHRQArXo3AdvNFAZmZmZob9zkBmZmZm1n\\u002fQQClcj8KFItJAUrgehQvE1ECuR+F6NPzSQAAAAABAVNZApHA9Cpfp0EA9CtejEEfRQKRwPQpHGNFAmpmZmZm11EDhehSuZ6PTQB+F61EIXNdAFK5H4Ro+0ECF61G4tkP2QM3MzMzs1MtAMzMzM0NH3kBSuB6Fy1vQQMP1KFxPnsZAPQrXoyAh0kBSuB6FS8vcQPYoXI\\u002fiL9NAAAAAALAZ00Bcj8L1KC\\u002fOQJqZmZm5uNBAMzMzM4Pt0UCF61G4rjbQQGZmZmZ2c9JAKVyPwkUR0EDXo3A9movVQM3MzMxc0ddAuB6F65EM0EApXI\\u002fCBVbTQBSuR+GawM9ApHA9CudY1EAfhetR+LrNQEjhehQeGdFA7FG4HoWm1UCPwvUoDKHXQHE9CteV+ABBmpmZmXmM0kAfhetROCfUQOF6FK63fNJAKVyPwnVM2ECamZmZ4ZzhQD0K16Pw7tNAKVyPwlVG1EBxPQrXo93RQEjhehRWFeBA16NwPQrd1UAzMzMzoxnRQD0K16NAMtBACtejcC2B1UBcj8L1OAHTQBSuR+GK0NJAPQrXo6Av0EBmZmZmxsTZQD0K16Ow39NA4XoUricZ1EDsUbgelSHSQK5H4XoEFdRASOF6FF4p0kBmZmZmhp7VQClcj8Kl89FAexSuR\\u002fEA1EDD9ShcX9XVQClcj8Klp9RA9ihcj+Jq1UDhehSuByPVQOxRuB51OdFAXI\\u002fC9VjU10DNzMzMvAXiQPYoXI8S3dBAFK5H4YqK0kCF61G4nlLVQArXo3A9rNRAzczMzFzO2EC4HoXrsWHOQNejcD3Khc9AZmZmZkaj3EA9Ctej8G\\u002fVQGZmZmYmic5ACtejcJ0zy0C4HoXr8UTQQHE9Ctezf9VAUrgehSvI1kCPwvUoXNLZQDMzMzPzWeFArkfheqT10EBcj8L1mBzVQBSuR+GKO9NAhetRuP74z0CamZmZSXXSQIXrUbie9M9AFK5H4Vqw3UBxPQrXUwXSQMP1KFyvw9BAzczMzNwK2UBcj8L1SBrMQJqZmZn5+8hA7FG4HpWu0EDXo3A92sTSQOF6FK7XTtJAhetRuP4Rz0ApXI\\u002fCFYzXQAAAAACgZslASOF6FA4QzEDsUbgeNQbYQFyPwvUI9NFAexSuR+H6yEDXo3A9uvjfQPYoXI+Cuc9AcT0K1yPN20A9CtejYATRQKRwPQrHnddAcT0K12Nk00DD9Shcj1rQQOF6FK6X59lAhetRuB5CzkDNzMzMLPTQQLgehevBKuFAUrgehesS00CF61G4ntrOQClcj8JlStlAKVyPwpVwzUDXo3A9+qDSQFyPwvXYHt5AZmZmZrbc0kB7FK5HoSHXQFK4HoVrmM5APQrXo\\u002fB630DsUbgelb7fQKRwPQo3K9tAKVyPwpXNz0AzMzMzcxjjQHsUrkc54+NA7FG4HsUL10BSuB6F2yPUQLgehevxWNFAmpmZmSl+1UDD9Shc\\u002f3jaQI\\u002fC9SgcQNxA16NwPYrz1EDNzMzMnMbiQNejcD06\\u002fNlAMzMzM9PnzkDXo3A9ynjTQGZmZmYGQt1ASOF6FM4s10DhehSuR97cQOxRuB7FuN5A4XoUrpcX1kBSuB6F63fUQJqZmZlp2dNAcT0K11O50EApXI\\u002fCVTXPQAAAAACwk+VAPQrXo9DDzECPwvUorJzTQK5H4Xr029FA9ihcjwIjzEDNzMzM\\u002fGHWQAAAAABA4dZA4XoUrifs0kC4HoXrcV7XQHsUrkdxadFA4XoUroeu0UD2KFyPMg7UQClcj8L1c9NAKVyPwqXC0UCamZmZaZDSQB+F61EoUNBAcT0K18PN2ECamZmZCUHYQHE9CtfzWtFA7FG4Hm124EAUrkfhWgzUQBSuR+Hqa9dAMzMzM7Pe1EDhehSuV6LYQI\\u002fC9Sg8GtZAKVyPwgVs00B7FK5H0QrSQJqZmZkJDtlAAAAAABC34EBcj8L1SKrYQKRwPQqnyNBAmpmZmRmq1ECF61G4\\u002ft3eQClcj8JlQdRAcT0K17Mp3UC4HoXroTfYQLgeheuxN9lAuB6F6zFD0EA9CtejcDvQQClcj8LFYt1AMzMzM0Mf0kAAAAAAALXTQGZmZmb2CtJApHA9CveaykAUrkfhqgLYQMP1KFw\\u002fatJAKVyPwhWX0ECkcD0Kl97PQGZmZmZGi9FAzczMzOwI0UAzMzMzUyvWQIXrUbge2tVAj8L1KNR64UAzMzMzAwLTQK5H4XoEVdBAw\\u002fUoXH8f0UCuR+F6JM7UQClcj8LF4eBAmpmZmZnOzUAfhetRuOfQQD0K16PAOOFAXI\\u002fC9fga0UDNzMzMDPrRQHE9CteDEclAuB6F62lf7kCkcD0K1+3PQB+F61HYBdNAuB6F6zEw1EDhehSud1\\u002fRQMP1KFwf3dBAUrgehSv22kAAAAAAEIvWQB+F61EI99VASOF6FA5L0ED2KFyPYunaQBSuR+Ga\\u002fc5AcT0K10PS1EDD9Shch3DiQPYoXI9yXORAFK5H4UoP2kDXo3A9anzNQK5H4XoU8NZAcT0K1+ND4UAK16NwnXP6QBSuR+HqMNdAcT0K1zOd00AzMzMzY+vQQClcj8KVj9BAUrgehWOz7EBmZmZmllbYQIXrUbg+SNhACtejcB0h1EDNzMzMDKzUQClcj8J1YNVAKVyPwnWJ1EA9CtejYBDUQFK4HoWryM5AMzMzMzOOzUAzMzMzk3fPQBSuR+G6O89AH4XrURhazUDhehSuZzbZQK5H4XpElNhAmpmZmTkn0kBSuB6Fm4zYQClcj8I1Z9BAXI\\u002fC9cgU2EBI4XoUTiLUQBSuR+Ga4sxAUrgehStX20AK16NwZarzQAAAAABwQ91A16NwPfqc0UApXI\\u002fCJW3gQArXo3Dde99AMzMzM7Mt5EBcj8L1aMjfQPYoXI9CONNAFK5H4eqV00CamZmZcf\\u002fgQBSuR+FK2OlAUrgehet10kB7FK5HwdHTQLgeheuxMdZA7FG4Hs3v8kCamZmZuSfSQHsUrkcpfuJAzczMzIxp1UAfhetR+FbZQNejcD16EdVAhetRuH4g1UAzMzMzEwrNQFK4HoVr49BApHA9CvfszkDsUbgeBQDWQD0K16PA6NBAexSuR5GA0UC4HoXrkebaQIXrUbg+PdNAKVyPwqU20UDsUbgeVVjRQEjhehROCNNA4XoUrietz0C4HoXrsWDKQFyPwvUoCMhAj8L1KPw21UDhehSu98nSQLgehethB9JAuB6F66He0UCamZmZuaPKQHsUrkcBp9RAPQrXo5DM0ECamZmZuWvTQClcj8K1ts9AmpmZmdlfzUCuR+F6JObTQFyPwvWo6dBApHA9Crcw1UCF61G4PiPQQIXrUbiewtRACtejcI3f0UCamZmZGV3HQHsUrkchb8lApHA9ChfX0EA9CtejEKHHQOxRuB4FvNFAmpmZmdlU0EDsUbgeVd3RQKRwPQpXgM1AhetRuB5ZzEAK16NwfVTOQFyPwvWoc91Aj8L1KHxS00C4HoXrgfXQQI\\u002fC9Sg8bdFA7FG4HpWP0kDhehSu5ybPQDMzMzMjctRAhetRuG4y0kCF61G47tTRQPYoXI\\u002filMxAZmZmZraM00BxPQrXg6DTQFyPwvX4VdNApHA9Ctc6ykCPwvUo\\u002fMPLQM3MzMz86NVAXI\\u002fC9WAz4kCPwvUoXBDPQIXrUbieTNJAuB6F6\\u002fEw1UBmZmZmVjjfQLgehespReRA4XoUrjcz00AfhetRuGjTQKRwPQp3aNFASOF6FE6h1UDsUbgeBaPSQB+F61E4DtJAH4XrUeiR0kDD9ShcTz7KQNejcD1qe9NAmpmZmWk11EDNzMzMXODXQLgehesxV9BA4XoUrjds3UB7FK5H0W3UQOF6FK4nXcVAFK5H4doz1kB7FK5Hge\\u002fRQJqZmZmJzdJAhetRuN5vw0AzMzMzw+LRQFyPwvXoctVA16NwPSof00BI4XoUrhzZQM3MzMyMysxAhetRuA7J00CamZmZSa3YQMP1KFyfJNBAH4XrUUjq2UCF61G4Pi7WQClcj8JVzctAPQrXo7Bl10DNzMzMDDDUQFK4HoW7gdZAFK5H4YrU00DsUbgexcvRQGZmZmZGNNFAAAAAAKBm00AzMzMz4\\u002fDSQHsUrkfxqNNA4XoUrjd11UB7FK5HgYnVQB+F61HYbNNAj8L1KHwD00AfhetRqBnTQAAAAAAwzdJAMzMzM+PZ0kDsUbgehX3RQNejcD2qT89ApHA9CveO0kB7FK5HwTbPQIXrUbgOXdRAzczMzEz7zUAfhetRGFbNQClcj8K1p9JArkfhekR600CF61G4PnLgQArXo3Ad2NBAZmZmZmZ61ECF61G4PlbUQI\\u002fC9Si8i81AzczMzKyxzUA9CtejIMfTQMP1KFxPf85AexSuR5FQ10CF61G47n3TQLgehetxBs1ACtejcH3X0UBxPQrXY3rSQOF6FK5X0tBAw\\u002fUoXA9t1UBxPQrXk6bSQK5H4XrUQdBAAAAAACDry0B7FK5HAc3NQJqZmZnp3NZAPQrXoyAm0UA9CtejoO\\u002fTQClcj8Jl6tFASOF6FN790kAzMzMzswLSQDMzMzPzlddAuB6F67FI0UBI4XoUbpzNQDMzMzOTTtZAexSuR8Fj00AAAAAAcNHQQArXo3AlfOBAMzMzM7N83kDsUbgepcrTQB+F61E4YtJAMzMzMxPB1ED2KFyPUlvTQA==\"},\"yaxis\":\"y\",\"type\":\"scatter\"},{\"hovertemplate\":\"\\u003cb\\u003eOLS trendline\\u003c\\u002fb\\u003e\\u003cbr\\u003eExpense per ADA = 26.3455 * English Learner (%) + 21741.9\\u003cbr\\u003eR\\u003csup\\u003e2\\u003c\\u002fsup\\u003e=0.001227\\u003cbr\\u003e\\u003cbr\\u003eEnglish Learner (%)=%{x}\\u003cbr\\u003eExpense per ADA ($)=%{y} \\u003cb\\u003e(trend)\\u003c\\u002fb\\u003e\\u003cextra\\u003e\\u003c\\u002fextra\\u003e\",\"legendgroup\":\"\",\"line\":{\"color\":\"red\"},\"marker\":{\"color\":\"#636efa\",\"symbol\":\"circle\"},\"mode\":\"lines\",\"name\":\"\",\"showlegend\":false,\"x\":{\"dtype\":\"f8\",\"bdata\":\"AAAAAAAAAAAAAAAAAAAAAAAAAAAAAAAAAAAAAAAAAAAAAAAAAAAAAAAAAAAAAAAAAAAAAAAAAAAAAAAAAAAAAAAAAAAAAAAAAAAAAAAAAAAAAAAAAAAAAAAAAAAAAAAAAAAAAAAAAAAAAAAAAAAAAAAAAAAAAAAAAAAAAAAAAAAAAAAAAAAAAAAAAAAAAAAAAAAAAAAAAAAAAAAAAAAAAAAAAAAAAAAAAAAAAAAAAAAAAAAAAAAAAAAAAAAAAAAAAAAAAAAAAAAAAAAAAAAAAAAAAAAAAAAAAAAAAAAAAAAAAAAAAAAAAAAAAAAAAAAAAAAAAAAAAAAAAAAAAAAAAAAAAAAAAAAAAAAAAAAAAAAAAAAAAAAAAAAAAAAAAAAAAAAAAAAAAAAAAAAAAAAAAAAAAAAAAAAAAAAAAAAAAAAAAAAAAAAAAAAAAAAAAAAAAAAAAAAAAAAAAAAAAAAAAAAAAAAAAAAAAAAAAAAAAAAAAAAAAAAAAAAAAAAAAAAAAAAAAAAAAAAAAAAAAAAAAAAAAAAAAAAAAAAAAAAAAACamZmZmZm5P5qZmZmZmbk\\u002fMzMzMzMz0z+amZmZmZnZPwAAAAAAAOA\\u002fAAAAAAAA4D8zMzMzMzPjPzMzMzMzM+M\\u002fMzMzMzMz4z8zMzMzMzPjPzMzMzMzM+M\\u002fZmZmZmZm5j9mZmZmZmbmP5qZmZmZmek\\u002fzczMzMzM7D\\u002fNzMzMzMzsPwAAAAAAAPA\\u002fAAAAAAAA8D8AAAAAAADwP5qZmZmZmfE\\u002fmpmZmZmZ8T+amZmZmZnxP5qZmZmZmfE\\u002fmpmZmZmZ8T8zMzMzMzPzPzMzMzMzM\\u002fM\\u002fMzMzMzMz8z8zMzMzMzPzPzMzMzMzM\\u002fM\\u002fzczMzMzM9D\\u002fNzMzMzMz0P83MzMzMzPQ\\u002fzczMzMzM9D9mZmZmZmb2P2ZmZmZmZvY\\u002fZmZmZmZm9j9mZmZmZmb2PwAAAAAAAPg\\u002fAAAAAAAA+D8AAAAAAAD4PwAAAAAAAPg\\u002fmpmZmZmZ+T+amZmZmZn5P5qZmZmZmfk\\u002fmpmZmZmZ+T8zMzMzMzP7P83MzMzMzPw\\u002fzczMzMzM\\u002fD\\u002fNzMzMzMz8P83MzMzMzPw\\u002fZmZmZmZm\\u002fj9mZmZmZmb+P2ZmZmZmZv4\\u002fZmZmZmZm\\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\\u002fQJqZmZmZGT9AMzMzMzMzP0BmZmZmZmY\\u002fQAAAAAAAgD9AAAAAAACAP0CamZmZmZk\\u002fQGZmZmZm5j9AzczMzMwMQECamZmZmRlAQGZmZmZmJkBAZmZmZmYmQEBmZmZmZiZAQAAAAAAAQEBAzczMzMxMQEBmZmZmZmZAQGZmZmZmZkBAMzMzMzNzQEDNzMzMzIxAQM3MzMzMjEBAmpmZmZmZQEBmZmZmZqZAQM3MzMzMzEBAAAAAAAAAQUAAAAAAAABBQAAAAAAAAEFAzczMzMwMQUDNzMzMzAxBQJqZmZmZGUFAZmZmZmYmQUAzMzMzMzNBQAAAAAAAQEFAAAAAAABAQUAAAAAAAEBBQJqZmZmZWUFAmpmZmZmZQUAzMzMzM\\u002fNBQDMzMzMz80FAAAAAAAAAQkCamZmZmRlCQGZmZmZmJkJAAAAAAABAQkCamZmZmVlCQAAAAAAAgEJAmpmZmZmZQkBmZmZmZuZCQDMzMzMz80JAMzMzMzPzQkDNzMzMzAxDQM3MzMzMDENAmpmZmZkZQ0BmZmZmZiZDQGZmZmZmJkNAMzMzMzMzQ0AAAAAAAEBDQJqZmZmZWUNAmpmZmZlZQ0BmZmZmZqZDQM3MzMzMzENAzczMzMzMQ0AAAAAAAABEQM3MzMzMDERAZmZmZmYmREAAAAAAAEBEQAAAAAAAQERAMzMzMzNzREAAAAAAAIBEQJqZmZmZmURAZmZmZmamREDNzMzMzAxFQJqZmZmZGUVAMzMzMzMzRUAAAAAAAEBFQM3MzMzMjEVAAAAAAADARUCamZmZmRlGQJqZmZmZGUZAmpmZmZkZRkCamZmZmRlGQGZmZmZmJkZAZmZmZmYmRkAzMzMzMzNGQDMzMzMzM0ZAZmZmZmZmRkAAAAAAAMBGQJqZmZmZ2UZAZmZmZmbmRkBmZmZmZuZGQAAAAAAAAEdAmpmZmZkZR0CamZmZmVlHQDMzMzMzc0dAmpmZmZmZR0AAAAAAAMBHQAAAAAAAQEhAzczMzMxMSECamZmZmVlIQM3MzMzMjEhAMzMzMzOzSECamZmZmdlIQAAAAAAAAElAAAAAAAAASUAzMzMzMzNJQM3MzMzMjElAmpmZmZmZSUAAAAAAAMBJQDMzMzMz80lAMzMzMzPzSUAAAAAAAABKQJqZmZmZGUpAzczMzMxMSkCamZmZmVlKQGZmZmZmZkpAmpmZmZmZSkBmZmZmZuZKQDMzMzMz80pAAAAAAAAAS0AAAAAAAABLQJqZmZmZGUtAMzMzMzMzS0DNzMzMzIxLQJqZmZmZmUtAAAAAAADAS0DNzMzMzMxLQJqZmZmZ2UtAmpmZmZnZS0DNzMzMzAxMQJqZmZmZGUxAAAAAAABATECamZmZmZlMQGZmZmZmpkxAzczMzMzMTEDNzMzMzMxMQGZmZmZmZk1AAAAAAADATUBmZmZmZuZNQGZmZmZmJk5AAAAAAABATkAAAAAAAMBOQJqZmZmZGU9AMzMzMzNTUEDNzMzMzKxQQM3MzMzMLFFAAAAAAACAUkAAAAAAAMBSQA==\"},\"xaxis\":\"x\",\"y\":{\"dtype\":\"f8\",\"bdata\":\"FBY3RHw71UAUFjdEfDvVQBQWN0R8O9VAFBY3RHw71UAUFjdEfDvVQBQWN0R8O9VAFBY3RHw71UAUFjdEfDvVQBQWN0R8O9VAFBY3RHw71UAUFjdEfDvVQBQWN0R8O9VAFBY3RHw71UAUFjdEfDvVQBQWN0R8O9VAFBY3RHw71UAUFjdEfDvVQBQWN0R8O9VAFBY3RHw71UAUFjdEfDvVQBQWN0R8O9VAFBY3RHw71UAUFjdEfDvVQBQWN0R8O9VAFBY3RHw71UAUFjdEfDvVQBQWN0R8O9VAFBY3RHw71UAUFjdEfDvVQBQWN0R8O9VAFBY3RHw71UAUFjdEfDvVQBQWN0R8O9VAFBY3RHw71UAUFjdEfDvVQBQWN0R8O9VAFBY3RHw71UAUFjdEfDvVQBQWN0R8O9VAFBY3RHw71UAUFjdEfDvVQBQWN0R8O9VAFBY3RHw71UAUFjdEfDvVQBQWN0R8O9VAFBY3RHw71UAUFjdEfDvVQBQWN0R8O9VAFBY3RHw71UAUFjdEfDvVQBQWN0R8O9VAFBY3RHw71UCnfZ7gJDzVQKd9nuAkPNVAzUxtGXY91UBhtNS1Hj7VQPQbPFLHPtVA9Bs8Usc+1UCHg6Pubz\\u002fVQIeDo+5vP9VAh4Oj7m8\\u002f1UCHg6Pubz\\u002fVQIeDo+5vP9VAGusKixhA1UAa6wqLGEDVQK1ScifBQNVAQLrZw2lB1UBAutnDaUHVQNMhQWASQtVA0yFBYBJC1UDTIUFgEkLVQGeJqPy6QtVAZ4mo\\u002fLpC1UBniaj8ukLVQGeJqPy6QtVAZ4mo\\u002fLpC1UD68A+ZY0PVQPrwD5ljQ9VA+vAPmWND1UD68A+ZY0PVQPrwD5ljQ9VAjVh3NQxE1UCNWHc1DETVQI1YdzUMRNVAjVh3NQxE1UAgwN7RtETVQCDA3tG0RNVAIMDe0bRE1UAgwN7RtETVQLMnRm5dRdVAsydGbl1F1UCzJ0ZuXUXVQLMnRm5dRdVARo+tCgZG1UBGj60KBkbVQEaPrQoGRtVARo+tCgZG1UDZ9hSnrkbVQG1efENXR9VAbV58Q1dH1UBtXnxDV0fVQG1efENXR9VAAMbj3\\u002f9H1UAAxuPf\\u002f0fVQADG49\\u002f\\u002fR9VAAMbj3\\u002f9H1UCTLUt8qEjVQJMtS3yoSNVAky1LfKhI1UAmlbIYUUnVQCaVshhRSdVAJpWyGFFJ1UAmlbIYUUnVQCaVshhRSdVAJpWyGFFJ1UC5\\u002fBm1+UnVQLn8GbX5SdVAufwZtflJ1UC5\\u002fBm1+UnVQLn8GbX5SdVAufwZtflJ1UBMZIFRokrVQExkgVGiStVA4Mvo7UpL1UDgy+jtSkvVQODL6O1KS9VA4Mvo7UpL1UDgy+jtSkvVQODL6O1KS9VAczNQivNL1UBzM1CK80vVQHMzUIrzS9VAczNQivNL1UBzM1CK80vVQHMzUIrzS9VABpu3JpxM1UAGm7cmnEzVQAabtyacTNVABpu3JpxM1UAGm7cmnEzVQAabtyacTNVAmQIfw0RN1UCZAh\\u002fDRE3VQJkCH8NETdVAmQIfw0RN1UAsaoZf7U3VQCxqhl\\u002ftTdVAv9Ht+5VO1UC\\u002f0e37lU7VQL\\u002fR7fuVTtVAv9Ht+5VO1UC\\u002f0e37lU7VQL\\u002fR7fuVTtVAv9Ht+5VO1UBSOVWYPk\\u002fVQOagvDTnT9VA5qC8NOdP1UDmoLw050\\u002fVQOagvDTnT9VA5qC8NOdP1UDmoLw050\\u002fVQOagvDTnT9VA5qC8NOdP1UB5CCTRj1DVQAxwi204UdVADHCLbThR1UAMcIttOFHVQAxwi204UdVADHCLbThR1UAyP1qmiVLVQDI\\u002fWqaJUtVAMj9apolS1UAyP1qmiVLVQMWmwUIyU9VAxabBQjJT1UDFpsFCMlPVQMWmwUIyU9VAxabBQjJT1UDFpsFCMlPVQFgOKd\\u002faU9VAWA4p39pT1UBYDinf2lPVQFgOKd\\u002faU9VA7HWQe4NU1UDsdZB7g1TVQOx1kHuDVNVA7HWQe4NU1UDsdZB7g1TVQH\\u002fd9xcsVdVApazGUH1W1UClrMZQfVbVQKWsxlB9VtVApazGUH1W1UA4FC7tJVfVQDgULu0lV9VAOBQu7SVX1UA4FC7tJVfVQDgULu0lV9VAOBQu7SVX1UDLe5WJzlfVQMt7lYnOV9VAy3uVic5X1UBe4\\u002fwld1jVQF7j\\u002fCV3WNVAXuP8JXdY1UBe4\\u002fwld1jVQPJKZMIfWdVA8kpkwh9Z1UCFssteyFnVQIWyy17IWdVAhbLLXshZ1UCFssteyFnVQBgaM\\u002ftwWtVAGBoz+3Ba1UAYGjP7cFrVQBgaM\\u002ftwWtVAGBoz+3Ba1UAYGjP7cFrVQKuBmpcZW9VAq4Galxlb1UCrgZqXGVvVQD7pATTCW9VAPukBNMJb1UA+6QE0wlvVQGS40GwTXdVAZLjQbBNd1UBkuNBsE13VQGS40GwTXdVAZLjQbBNd1UD4HzgJvF3VQPgfOAm8XdVA+B84Cbxd1UD4HzgJvF3VQPgfOAm8XdVA+B84Cbxd1UD4HzgJvF3VQPgfOAm8XdVAi4efpWRe1UCLh5+lZF7VQB7vBkINX9VAHu8GQg1f1UAe7wZCDV\\u002fVQB7vBkINX9VAHu8GQg1f1UAe7wZCDV\\u002fVQB7vBkINX9VAsVZu3rVf1UCxVm7etV\\u002fVQLFWbt61X9VAsVZu3rVf1UCxVm7etV\\u002fVQES+1XpeYNVARL7Vel5g1UBEvtV6XmDVQES+1XpeYNVA1yU9Fwdh1UDXJT0XB2HVQGuNpLOvYdVAa42ks69h1UBrjaSzr2HVQGuNpLOvYdVAkVxz7ABj1UCRXHPsAGPVQJFcc+wAY9VAkVxz7ABj1UCRXHPsAGPVQJFcc+wAY9VAkVxz7ABj1UAkxNqIqWPVQCTE2oipY9VAJMTaiKlj1UAkxNqIqWPVQCTE2oipY9VAJMTaiKlj1UAkxNqIqWPVQLcrQiVSZNVAtytCJVJk1UC3K0IlUmTVQLcrQiVSZNVAtytCJVJk1UBKk6nB+mTVQN36EF6jZdVAcWJ4+ktm1UBxYnj6S2bVQHFiePpLZtVABMrflvRm1UCXMUcznWfVQCqZrs9FaNVAKpmuz0Vo1UC9ABZs7mjVQL0AFmzuaNVAvQAWbO5o1UC9ABZs7mjVQL0AFmzuaNVAUGh9CJdp1UBQaH0Il2nVQFBofQiXadVAUGh9CJdp1UBQaH0Il2nVQOPP5KQ\\u002fatVA48\\u002fkpD9q1UB3N0xB6GrVQHc3TEHoatVAdzdMQehq1UB3N0xB6GrVQAqfs92Qa9VACp+z3ZBr1UCdBht6OWzVQJ0GG3o5bNVAMG6CFuJs1UDD1emyim3VQMPV6bKKbdVAVj1RTzNu1UBWPVFPM27VQFY9UU8zbtVAVj1RTzNu1UBWPVFPM27VQFY9UU8zbtVA6aS469tu1UDppLjr227VQH0MIIiEb9VAfQwgiIRv1UB9DCCIhG\\u002fVQH0MIIiEb9VAEHSHJC1w1UAQdIckLXDVQKPb7sDVcNVAo9vuwNVw1UCj2+7A1XDVQKPb7sDVcNVAo9vuwNVw1UCj2+7A1XDVQDZDVl1+cdVANkNWXX5x1UDJqr35JnLVQMmqvfkmctVAXBIlls9y1UBcEiWWz3LVQFwSJZbPctVAXBIlls9y1UBcEiWWz3LVQO95jDJ4c9VA73mMMnhz1UDveYwyeHPVQO95jDJ4c9VAg+HzziB01UCD4fPOIHTVQIPh884gdNVAg+HzziB01UAWSVtryXTVQBZJW2vJdNVAFklba8l01UAWSVtryXTVQKmwwgdyddVAqbDCB3J11UCpsMIHcnXVQKmwwgdyddVAqbDCB3J11UA8GCqkGnbVQDwYKqQadtVAz3+RQMN21UDPf5FAw3bVQGLn+Nxrd9VA9k5geRR41UD2TmB5FHjVQPZOYHkUeNVA9k5geRR41UD2TmB5FHjVQIm2xxW9eNVAibbHFb141UAcHi+yZXnVQBweL7JledVAHB4vsmV51UCvhZZODnrVQELt\\u002feq2etVAQu396rZ61UBC7f3qtnrVQNVUZYdfe9VA1VRlh1971UBovMwjCHzVQGi8zCMIfNVAaLzMIwh81UBovMwjCHzVQGi8zCMIfNVAj4ubXFl91UCPi5tcWX3VQI+Lm1xZfdVAIvMC+QF+1UAi8wL5AX7VQLVaapWqftVAtVpqlap+1UC1WmqVqn7VQINcIxXLftVASMLRMVN\\u002f1UBIwtExU3\\u002fVQEjC0TFTf9VASMLRMVN\\u002f1UBIwtExU3\\u002fVQEjC0TFTf9VASMLRMVN\\u002f1UBIwtExU3\\u002fVQEjC0TFTf9VA2yk5zvt\\u002f1UDbKTnO+3\\u002fVQNspOc77f9VA2yk5zvt\\u002f1UDbKTnO+3\\u002fVQNspOc77f9VA2yk5zvt\\u002f1UDbKTnO+3\\u002fVQG6RoGqkgNVAbpGgaqSA1UAC+QcHTYHVQAL5BwdNgdVAUkRhT4eB1UCVYG+j9YHVQCjI1j+egtVAKMjWP56C1UAoyNY\\u002fnoLVQLsvPtxGg9VAuy8+3EaD1UC7Lz7cRoPVQE6XpXjvg9VA4f4MFZiE1UDh\\u002fgwVmITVQHRmdLFAhdVACM7bTemF1UAIzttN6YXVQAjO203phdVAmzVD6pGG1UCbNUPqkYbVQJs1Q+qRhtVALp2qhjqH1UAunaqGOofVQMEEEiPjh9VAwQQSI+OH1UDBBBIj44fVQOfT4Fs0idVA59PgWzSJ1UB6O0j43InVQHo7SPjcidVAejtI+NyJ1UB6O0j43InVQA6jr5SFitVAoQoXMS6L1UChChcxLovVQDRyfs3Wi9VANHJ+zdaL1UBaQU0GKI3VQFpBTQYojdVAWkFNBiiN1UDtqLSi0I3VQO2otKLQjdVAgRAcP3mO1UCBEBw\\u002feY7VQBR4g9shj9VAFHiD2yGP1UCn3+p3yo\\u002fVQKff6nfKj9VAp9\\u002fqd8qP1UA6R1IUc5DVQDpHUhRzkNVAOkdSFHOQ1UBgFiFNxJHVQGAWIU3EkdVAYBYhTcSR1UBgFiFNxJHVQPN9iOlsktVA832I6WyS1UDzfYjpbJLVQPN9iOlsktVAh+XvhRWT1UCH5e+FFZPVQIfl74UVk9VAGk1XIr6T1UAaTVcivpPVQBpNVyK+k9VAGk1XIr6T1UAaTVcivpPVQBpNVyK+k9VArbS+vmaU1UCttL6+ZpTVQK20vr5mlNVAQBwmWw+V1UBAHCZbD5XVQEAcJlsPldVAQBwmWw+V1UBAHCZbD5XVQNODjfe3ldVAZuv0k2CW1UBm6\\u002fSTYJbVQPlSXDAJl9VA+VJcMAmX1UD5UlwwCZfVQPlSXDAJl9VA+VJcMAmX1UD5UlwwCZfVQI26w8yxl9VAjbrDzLGX1UCNusPMsZfVQCAiK2lamNVAICIraVqY1UAgIitpWpjVQLOJkgUDmdVARvH5oauZ1UDZWGE+VJrVQNlYYT5UmtVA2VhhPlSa1UBswMja\\u002fJrVQGzAyNr8mtVAbMDI2vya1UD\\u002fJzB3pZvVQP8nMHelm9VA\\u002fycwd6Wb1UCTj5cTTpzVQCb3\\u002fq\\u002f2nNVAuV5mTJ+d1UBMxs3oR57VQEzGzehHntVATMbN6Eee1UBylZwhmZ\\u002fVQHKVnCGZn9VAcpWcIZmf1UBylZwhmZ\\u002fVQHKVnCGZn9VABf0DvkGg1UAF\\u002fQO+QaDVQJlka1rqoNVALMzS9pKh1UAszNL2kqHVQCzM0vaSodVALMzS9pKh1UC\\u002fMzqTO6LVQL8zOpM7otVAvzM6kzui1UBSm6Ev5KLVQOUCCcyMo9VAeGpwaDWk1UAM0tcE3qTVQAzS1wTepNVAnzk\\u002foYal1UCfOT+hhqXVQJ85P6GGpdVAMqGmPS+m1UAyoaY9L6bVQDKhpj0vptVA6Aqlj7Sm1UDFCA7a16bVQMUIDtrXptVAxQgO2tem1UDFCA7a16bVQFhwdXaAp9VAWHB1doCn1UBYcHV2gKfVQFhwdXaAp9VAWHB1doCn1UDr19wSKajVQOvX3BIpqNVA69fcEimo1UB+P0Sv0ajVQH4\\u002fRK\\u002fRqNVAEqerS3qp1UASp6tLeqnVQBKnq0t6qdVAEqerS3qp1UASp6tLeqnVQBKnq0t6qdVApQ4T6CKq1UClDhPoIqrVQKUOE+giqtVAOHZ6hMuq1UA4dnqEy6rVQDh2eoTLqtVAy93hIHSr1UBeRUm9HKzVQF5FSb0crNVAXkVJvRys1UDxrLBZxazVQPGssFnFrNVA8aywWcWs1UDxrLBZxazVQIQUGPZtrdVAhBQY9m2t1UCEFBj2ba3VQBh8f5IWrtVAGHx\\u002fkhau1UAYfH+SFq7VQBh8f5IWrtVAq+PmLr+u1UA+S07LZ6\\u002fVQD5LTstnr9VAPktOy2ev1UA+S07LZ6\\u002fVQD5LTstnr9VA0bK1ZxCw1UBkGh0EubDVQIrp6zwKstVAHlFT2bKy1UAeUVPZsrLVQLG4unVbs9VAsbi6dVuz1UCxuLp1W7PVQEQgIhIEtNVARCAiEgS01UDXh4murLTVQNeHia6stNVAau\\u002fwSlW11UBq7\\u002fBKVbXVQP1WWOf9tdVAkL6\\u002fg6a21UC3jY6897fVQLeNjrz3t9VASvX1WKC41UDdXF31SLnVQN1cXfVIudVAcMTEkfG51UBwxMSR8bnVQHDExJHxudVAlpOTykK71UCWk5PKQrvVQJaTk8pCu9VAlpOTykK71UC9YmIDlLzVQL1iYgOUvNVAvWJiA5S81UBQysmfPL3VQFDKyZ88vdVAUMrJnzy91UAJAQB1Nr\\u002fVQJ1oZxHfv9VAnWhnEd+\\u002f1UDDNzZKMMHVQMM3NkowwdVAVp+d5tjB1UB8bmwfKsPVQKM9O1h7xNVAoz07WHvE1UCjPTtYe8TVQDalovQjxdVANqWi9CPF1UDv29jJHcfVQO\\u002fb2Mkdx9VAgkNAZsbH1UCCQ0BmxsfVQIJDQGbGx9VAFaunAm\\u002fI1UAVq6cCb8jVQKkSD58XydVAPHp2O8DJ1UA8enY7wMnVQM\\u002fh3ddoytVAz+Hd12jK1UDP4d3XaMrVQGJJRXQRy9VAYklFdBHL1UBiSUV0EcvVQPWwrBC6y9VA9bCsELrL1UD1sKwQusvVQPWwrBC6y9VAiBgUrWLM1UCIGBStYszVQByAe0kLzdVAHIB7SQvN1UDyVq2SS83VQK\\u002fn4uWzzdVAr+fi5bPN1UBCT0qCXM7VQNW2sR4Fz9VA1baxHgXP1UBoHhm7rc\\u002fVQGgeGbutz9VAaB4Zu63P1UD7hYBXVtDVQPuFgFdW0NVAju3n8\\u002f7Q1UAiVU+Qp9HVQEgkHsn40tVASCQeyfjS1UDbi4VlodPVQG7z7AFK1NVAAVtUnvLU1UABW1Se8tTVQAFbVJ7y1NVAlMK7OpvV1UAoKiPXQ9bVQCgqI9dD1tVAu5GKc+zW1UC7kYpz7NbVQE758Q+V19VATvnxD5XX1UBO+fEPldfVQOFgWaw92NVA4WBZrD3Y1UB0yMBI5tjVQHTIwEjm2NVAdMjASObY1UB0yMBI5tjVQHTIwEjm2NVABzAo5Y7Z1UAHMCjljtnVQJqXj4E32tVALv\\u002f2HeDa1UAu\\u002f\\u002fYd4NrVQMFmXrqI29VAVM7FVjHc1UBUzsVWMdzVQOc1LfPZ3NVA5zUt89nc1UDnNS3z2dzVQHqdlI+C3dVArrtbMrTe1UCgbGPI097VQMc7MgEl4NVAxzsyASXg1UBao5mdzeDVQFqjmZ3N4NVAWqOZnc3g1UBao5mdzeDVQO0KATp24dVApkE3D3Dj1UDNEAZIweTVQM0QBkjB5NVAYHht5Gnl1UDz39SAEubVQIZHPB275tVAhkc8Hbvm1UAZr6O5Y+fVQBmvo7lj59VAGa+juWPn1UAZr6O5Y+fVQBmvo7lj59VAGa+juWPn1UCsFgtWDOjVQKwWC1YM6NVAQH5y8rTo1UBAfnLytOjVQEB+cvK06NVA0+XZjl3p1UDT5dmOXenVQNPl2Y5d6dVAZk1BKwbq1UCMHBBkV+vVQIwcEGRX69VAH4R3AADs1UAfhHcAAOzVQB+EdwAA7NVAs+venKjs1UBGU0Y5Ue3VQNm6rdX57dVA2bqt1fnt1UBsIhVyou7VQGwiFXKi7tVA\\u002f4l8Dkvv1UCS8eOq8+\\u002fVQEwoGoDt8dVATCgagO3x1UDfj4EclvLVQAVfUFXn89VAKy4fjjj11UArLh+OOPXVQCsuH4449dVAv5WGKuH11UC\\u002flYYq4fXVQL+Vhirh9dVAUv3txon21UDlZFVjMvfVQOVkVWMy99VAeMy8\\u002f9r31UB4zLz\\u002f2vfVQAs0JJyD+NVACzQknIP41UCem4s4LPnVQMVqWnF9+tVA6zkpqs771UCkcF9\\u002fyP3VQPEO\\u002ffBqANZAhHZkjRMB1kAX3sspvAHWQBfeyym8AdZAZHxpm14E1kBkfGmbXgTWQPfj0DcHBdZAiks41K8F1kCwGgcNAQfWQLAaBw0BB9ZAsBoHDQEH1kDX6dVFUgjWQNfp1UVSCNZAalE94voI1kCQIAwbTArWQCOIc7f0CtZAI4hzt\\u002fQK1kC279pTnQvWQHAmESmXDdZAlvXfYegO1kApXUf+kA\\u002fWQLzErpo5ENZAvMSumjkQ1kC8xK6aORDWQOOTfdOKEdZAdvvkbzMS1kCcyrOohBPWQJzKs6iEE9ZALzIbRS0U1kBWAep9fhXWQFYB6n1+FdZA6WhRGicW1kB80Li2zxbWQDUH74vJGNZAgqWM\\u002fWsb1kCCpYz9axvWQIKljP1rG9ZAFQ30mRQc1kAVDfSZFBzWQKh0Wza9HNZAO9zC0mUd1kDPQypvDh7WQGKrkQu3HtZAYquRC7ce1kBiq5ELtx7WQIh6YEQIINZAaIBlUlMj1kBuVTmZ7yfWQG5VOZnvJ9ZAAb2gNZgo1kAnjG9u6SnWQLrz1gqSKtZA4cKlQ+Mr1kAHknR8NC3WQMDIqlEuL9ZA55d5in8w1kBaBeY0czTWQO1sTdEbNdZA7WxN0Rs11kATPBwKbTbWQBM8HAptNtZApqODphU31kA5C+tCvjfWQDkL60K+N9ZAzHJS32Y41kBg2rl7DznWQIapiLRgOtZAhqmItGA61kD5FvVeVD7WQLJNKzROQNZAsk0rNE5A1kD\\u002f68il8ELWQJJTMEKZQ9ZAuCL\\u002feupE1kDe8c2zO0bWQN7xzbM7RtZAK5BrJd5I1kC+99LBhknWQOXGofrXStZAeC4Jl4BL1kARa0R6xVDWQKTSqxZuUdZAyqF6T79S1kBdCeLrZ1PWQNB2TpZbV9ZAHRXsB\\u002f5Z1kAj6r9Oml7WQCPqv06aXtZAI+q\\u002fTppe1kAj6r9Oml7WQLZRJ+tCX9ZAtlEn60Jf1kBJuY6H61\\u002fWQEm5jofrX9ZAllcs+Y1i1kCcLABAKmfWQML7znh7aNZAVWM2FSRp1kBVYzYVJGnWQHwyBU51atZAogHUhsZr1kCCB9mUEW\\u002fWQKjWp81icNZAYQ3eolxy1kAbRBR4VnTWQNpPHpTsetZAbbeFMJV71kABH+3MPXzWQE29ij7gftZAB\\u002fTAE9qA1kDAKvfo04LWQHphLb7NhNZAemEtvs2E1kDG\\u002f8ovcIfWQMzUnnYMjNZAXzwGE7WM1kAZczzoro7WQGUR2llRkdZAZRHaWVGR1kD4eEH2+ZHWQB9IEC9Lk9ZAa+atoO2V1kD+TRU9lpbWQJK1fNk+l9ZA3lMaS+GZ1kBRwYb11J3WQOQo7pF9ntZAd5BVLiaf1kB3kFUuJp\\u002fWQJ5fJGd3oNZAxC7zn8ih1kDKA8fmZKbWQF1rLoMNp9ZAF6JkWAep1kCqCcz0r6nWQD1xM5FYqtZAPXEzkViq1kCJD9EC+6zWQB13OJ+jrdZA1q1udJ2v1kDcgkK7ObTWQG\\u002fqqVfitNZAKSHgLNy21kApIeAs3LbWQA78uIHDvtZAFNGMyF\\u002fD1kDOB8OdWcXWQK4NyKukyNZA1NyW5PXJ1kCT6KAAjNDWQJm9dEco1dZAa0j6N5Pp1kB38qHFy\\u002fLWQPYJtv33\\u002f9ZAbXseX+Ai10Ashyh7dinXQA==\"},\"yaxis\":\"y\",\"type\":\"scatter\"}],                        {\"template\":{\"data\":{\"histogram2dcontour\":[{\"type\":\"histogram2dcontour\",\"colorbar\":{\"outlinewidth\":0,\"ticks\":\"\"},\"colorscale\":[[0.0,\"#0d0887\"],[0.1111111111111111,\"#46039f\"],[0.2222222222222222,\"#7201a8\"],[0.3333333333333333,\"#9c179e\"],[0.4444444444444444,\"#bd3786\"],[0.5555555555555556,\"#d8576b\"],[0.6666666666666666,\"#ed7953\"],[0.7777777777777778,\"#fb9f3a\"],[0.8888888888888888,\"#fdca26\"],[1.0,\"#f0f921\"]]}],\"choropleth\":[{\"type\":\"choropleth\",\"colorbar\":{\"outlinewidth\":0,\"ticks\":\"\"}}],\"histogram2d\":[{\"type\":\"histogram2d\",\"colorbar\":{\"outlinewidth\":0,\"ticks\":\"\"},\"colorscale\":[[0.0,\"#0d0887\"],[0.1111111111111111,\"#46039f\"],[0.2222222222222222,\"#7201a8\"],[0.3333333333333333,\"#9c179e\"],[0.4444444444444444,\"#bd3786\"],[0.5555555555555556,\"#d8576b\"],[0.6666666666666666,\"#ed7953\"],[0.7777777777777778,\"#fb9f3a\"],[0.8888888888888888,\"#fdca26\"],[1.0,\"#f0f921\"]]}],\"heatmap\":[{\"type\":\"heatmap\",\"colorbar\":{\"outlinewidth\":0,\"ticks\":\"\"},\"colorscale\":[[0.0,\"#0d0887\"],[0.1111111111111111,\"#46039f\"],[0.2222222222222222,\"#7201a8\"],[0.3333333333333333,\"#9c179e\"],[0.4444444444444444,\"#bd3786\"],[0.5555555555555556,\"#d8576b\"],[0.6666666666666666,\"#ed7953\"],[0.7777777777777778,\"#fb9f3a\"],[0.8888888888888888,\"#fdca26\"],[1.0,\"#f0f921\"]]}],\"contourcarpet\":[{\"type\":\"contourcarpet\",\"colorbar\":{\"outlinewidth\":0,\"ticks\":\"\"}}],\"contour\":[{\"type\":\"contour\",\"colorbar\":{\"outlinewidth\":0,\"ticks\":\"\"},\"colorscale\":[[0.0,\"#0d0887\"],[0.1111111111111111,\"#46039f\"],[0.2222222222222222,\"#7201a8\"],[0.3333333333333333,\"#9c179e\"],[0.4444444444444444,\"#bd3786\"],[0.5555555555555556,\"#d8576b\"],[0.6666666666666666,\"#ed7953\"],[0.7777777777777778,\"#fb9f3a\"],[0.8888888888888888,\"#fdca26\"],[1.0,\"#f0f921\"]]}],\"surface\":[{\"type\":\"surface\",\"colorbar\":{\"outlinewidth\":0,\"ticks\":\"\"},\"colorscale\":[[0.0,\"#0d0887\"],[0.1111111111111111,\"#46039f\"],[0.2222222222222222,\"#7201a8\"],[0.3333333333333333,\"#9c179e\"],[0.4444444444444444,\"#bd3786\"],[0.5555555555555556,\"#d8576b\"],[0.6666666666666666,\"#ed7953\"],[0.7777777777777778,\"#fb9f3a\"],[0.8888888888888888,\"#fdca26\"],[1.0,\"#f0f921\"]]}],\"mesh3d\":[{\"type\":\"mesh3d\",\"colorbar\":{\"outlinewidth\":0,\"ticks\":\"\"}}],\"scatter\":[{\"fillpattern\":{\"fillmode\":\"overlay\",\"size\":10,\"solidity\":0.2},\"type\":\"scatter\"}],\"parcoords\":[{\"type\":\"parcoords\",\"line\":{\"colorbar\":{\"outlinewidth\":0,\"ticks\":\"\"}}}],\"scatterpolargl\":[{\"type\":\"scatterpolargl\",\"marker\":{\"colorbar\":{\"outlinewidth\":0,\"ticks\":\"\"}}}],\"bar\":[{\"error_x\":{\"color\":\"#2a3f5f\"},\"error_y\":{\"color\":\"#2a3f5f\"},\"marker\":{\"line\":{\"color\":\"#E5ECF6\",\"width\":0.5},\"pattern\":{\"fillmode\":\"overlay\",\"size\":10,\"solidity\":0.2}},\"type\":\"bar\"}],\"scattergeo\":[{\"type\":\"scattergeo\",\"marker\":{\"colorbar\":{\"outlinewidth\":0,\"ticks\":\"\"}}}],\"scatterpolar\":[{\"type\":\"scatterpolar\",\"marker\":{\"colorbar\":{\"outlinewidth\":0,\"ticks\":\"\"}}}],\"histogram\":[{\"marker\":{\"pattern\":{\"fillmode\":\"overlay\",\"size\":10,\"solidity\":0.2}},\"type\":\"histogram\"}],\"scattergl\":[{\"type\":\"scattergl\",\"marker\":{\"colorbar\":{\"outlinewidth\":0,\"ticks\":\"\"}}}],\"scatter3d\":[{\"type\":\"scatter3d\",\"line\":{\"colorbar\":{\"outlinewidth\":0,\"ticks\":\"\"}},\"marker\":{\"colorbar\":{\"outlinewidth\":0,\"ticks\":\"\"}}}],\"scattermap\":[{\"type\":\"scattermap\",\"marker\":{\"colorbar\":{\"outlinewidth\":0,\"ticks\":\"\"}}}],\"scattermapbox\":[{\"type\":\"scattermapbox\",\"marker\":{\"colorbar\":{\"outlinewidth\":0,\"ticks\":\"\"}}}],\"scatterternary\":[{\"type\":\"scatterternary\",\"marker\":{\"colorbar\":{\"outlinewidth\":0,\"ticks\":\"\"}}}],\"scattercarpet\":[{\"type\":\"scattercarpet\",\"marker\":{\"colorbar\":{\"outlinewidth\":0,\"ticks\":\"\"}}}],\"carpet\":[{\"aaxis\":{\"endlinecolor\":\"#2a3f5f\",\"gridcolor\":\"white\",\"linecolor\":\"white\",\"minorgridcolor\":\"white\",\"startlinecolor\":\"#2a3f5f\"},\"baxis\":{\"endlinecolor\":\"#2a3f5f\",\"gridcolor\":\"white\",\"linecolor\":\"white\",\"minorgridcolor\":\"white\",\"startlinecolor\":\"#2a3f5f\"},\"type\":\"carpet\"}],\"table\":[{\"cells\":{\"fill\":{\"color\":\"#EBF0F8\"},\"line\":{\"color\":\"white\"}},\"header\":{\"fill\":{\"color\":\"#C8D4E3\"},\"line\":{\"color\":\"white\"}},\"type\":\"table\"}],\"barpolar\":[{\"marker\":{\"line\":{\"color\":\"#E5ECF6\",\"width\":0.5},\"pattern\":{\"fillmode\":\"overlay\",\"size\":10,\"solidity\":0.2}},\"type\":\"barpolar\"}],\"pie\":[{\"automargin\":true,\"type\":\"pie\"}]},\"layout\":{\"autotypenumbers\":\"strict\",\"colorway\":[\"#636efa\",\"#EF553B\",\"#00cc96\",\"#ab63fa\",\"#FFA15A\",\"#19d3f3\",\"#FF6692\",\"#B6E880\",\"#FF97FF\",\"#FECB52\"],\"font\":{\"color\":\"#2a3f5f\"},\"hovermode\":\"closest\",\"hoverlabel\":{\"align\":\"left\"},\"paper_bgcolor\":\"white\",\"plot_bgcolor\":\"#E5ECF6\",\"polar\":{\"bgcolor\":\"#E5ECF6\",\"angularaxis\":{\"gridcolor\":\"white\",\"linecolor\":\"white\",\"ticks\":\"\"},\"radialaxis\":{\"gridcolor\":\"white\",\"linecolor\":\"white\",\"ticks\":\"\"}},\"ternary\":{\"bgcolor\":\"#E5ECF6\",\"aaxis\":{\"gridcolor\":\"white\",\"linecolor\":\"white\",\"ticks\":\"\"},\"baxis\":{\"gridcolor\":\"white\",\"linecolor\":\"white\",\"ticks\":\"\"},\"caxis\":{\"gridcolor\":\"white\",\"linecolor\":\"white\",\"ticks\":\"\"}},\"coloraxis\":{\"colorbar\":{\"outlinewidth\":0,\"ticks\":\"\"}},\"colorscale\":{\"sequential\":[[0.0,\"#0d0887\"],[0.1111111111111111,\"#46039f\"],[0.2222222222222222,\"#7201a8\"],[0.3333333333333333,\"#9c179e\"],[0.4444444444444444,\"#bd3786\"],[0.5555555555555556,\"#d8576b\"],[0.6666666666666666,\"#ed7953\"],[0.7777777777777778,\"#fb9f3a\"],[0.8888888888888888,\"#fdca26\"],[1.0,\"#f0f921\"]],\"sequentialminus\":[[0.0,\"#0d0887\"],[0.1111111111111111,\"#46039f\"],[0.2222222222222222,\"#7201a8\"],[0.3333333333333333,\"#9c179e\"],[0.4444444444444444,\"#bd3786\"],[0.5555555555555556,\"#d8576b\"],[0.6666666666666666,\"#ed7953\"],[0.7777777777777778,\"#fb9f3a\"],[0.8888888888888888,\"#fdca26\"],[1.0,\"#f0f921\"]],\"diverging\":[[0,\"#8e0152\"],[0.1,\"#c51b7d\"],[0.2,\"#de77ae\"],[0.3,\"#f1b6da\"],[0.4,\"#fde0ef\"],[0.5,\"#f7f7f7\"],[0.6,\"#e6f5d0\"],[0.7,\"#b8e186\"],[0.8,\"#7fbc41\"],[0.9,\"#4d9221\"],[1,\"#276419\"]]},\"xaxis\":{\"gridcolor\":\"white\",\"linecolor\":\"white\",\"ticks\":\"\",\"title\":{\"standoff\":15},\"zerolinecolor\":\"white\",\"automargin\":true,\"zerolinewidth\":2},\"yaxis\":{\"gridcolor\":\"white\",\"linecolor\":\"white\",\"ticks\":\"\",\"title\":{\"standoff\":15},\"zerolinecolor\":\"white\",\"automargin\":true,\"zerolinewidth\":2},\"scene\":{\"xaxis\":{\"backgroundcolor\":\"#E5ECF6\",\"gridcolor\":\"white\",\"linecolor\":\"white\",\"showbackground\":true,\"ticks\":\"\",\"zerolinecolor\":\"white\",\"gridwidth\":2},\"yaxis\":{\"backgroundcolor\":\"#E5ECF6\",\"gridcolor\":\"white\",\"linecolor\":\"white\",\"showbackground\":true,\"ticks\":\"\",\"zerolinecolor\":\"white\",\"gridwidth\":2},\"zaxis\":{\"backgroundcolor\":\"#E5ECF6\",\"gridcolor\":\"white\",\"linecolor\":\"white\",\"showbackground\":true,\"ticks\":\"\",\"zerolinecolor\":\"white\",\"gridwidth\":2}},\"shapedefaults\":{\"line\":{\"color\":\"#2a3f5f\"}},\"annotationdefaults\":{\"arrowcolor\":\"#2a3f5f\",\"arrowhead\":0,\"arrowwidth\":1},\"geo\":{\"bgcolor\":\"white\",\"landcolor\":\"#E5ECF6\",\"subunitcolor\":\"white\",\"showland\":true,\"showlakes\":true,\"lakecolor\":\"white\"},\"title\":{\"x\":0.05},\"mapbox\":{\"style\":\"light\"}}},\"xaxis\":{\"anchor\":\"y\",\"domain\":[0.0,1.0],\"title\":{\"text\":\"English Learner (%)\"}},\"yaxis\":{\"anchor\":\"x\",\"domain\":[0.0,1.0],\"title\":{\"text\":\"Expense per ADA ($)\"}},\"legend\":{\"tracegroupgap\":0},\"title\":{\"text\":\"Expense per ADA vs. English Learner (%)\"}},                        {\"responsive\": true}                    ).then(function(){\n                            \nvar gd = document.getElementById('f0f1936b-65f9-4e99-8da2-35484f491386');\nvar x = new MutationObserver(function (mutations, observer) {{\n        var display = window.getComputedStyle(gd).display;\n        if (!display || display === 'none') {{\n            console.log([gd, 'removed!']);\n            Plotly.purge(gd);\n            observer.disconnect();\n        }}\n}});\n\n// Listen for the removal of the full notebook cells\nvar notebookContainer = gd.closest('#notebook-container');\nif (notebookContainer) {{\n    x.observe(notebookContainer, {childList: true});\n}}\n\n// Listen for the clearing of the current output cell\nvar outputEl = gd.closest('.output');\nif (outputEl) {{\n    x.observe(outputEl, {childList: true});\n}}\n\n                        })                };            </script>        </div>\n</body>\n</html>"
          },
          "metadata": {},
          "output_type": "display_data"
        }
      ],
      "outputs_reference": null,
      "content_dependencies": null
    },
    {
      "cell_type": "markdown",
      "metadata": {
        "cell_id": "64f55dbe5d674c30b8c1ad61fa755064",
        "deepnote_cell_type": "markdown"
      },
      "source": "The R_squared value (0.0012) is extremely low, suggesting that there may be little or no linear relationship between the percentage of English Learners and per-pupil spending. However, we will do further regression analysis to determine if this relationship is statistically significant.",
      "block_group": "d37c7b68d9934337b8f00f877b826770"
    },
    {
      "cell_type": "markdown",
      "source": "<a style='text-decoration:none;line-height:16px;display:flex;color:#5B5B62;padding:10px;justify-content:end;' href='https://deepnote.com?utm_source=created-in-deepnote-cell&projectId=246b06f0-3e45-45e3-acef-efea2bae7701' target=\"_blank\">\n<img alt='Created in deepnote.com' style='display:inline;max-height:16px;margin:0px;margin-right:7.5px;' src='data:image/svg+xml;base64,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' > </img>\nCreated in <span style='font-weight:600;margin-left:4px;'>Deepnote</span></a>",
      "metadata": {
        "created_in_deepnote_cell": true,
        "deepnote_cell_type": "markdown"
      }
    }
  ],
  "nbformat": 4,
  "nbformat_minor": 0,
  "metadata": {
    "deepnote_persisted_session": {
      "createdAt": "2025-10-11T02:31:54.057Z"
    },
    "deepnote_notebook_id": "2b2fafe57d214333b7195c13bc29cd61"
  }
}