{
  "cells": [
    {
      "cell_type": "markdown",
      "metadata": {
        "id": "shYbHAfwfFfA",
        "deepnote_app_block_order": 0,
        "deepnote_app_block_visible": true,
        "deepnote_app_block_group_id": null,
        "cell_id": "9d58caee255f4e4a8cfcd5af68941a68",
        "deepnote_cell_type": "markdown"
      },
      "source": "# Notebook 1: Cleaning & Exporting Raw Data",
      "block_group": "10f1fabe716a4380b183ce065b560756"
    },
    {
      "cell_type": "markdown",
      "metadata": {
        "id": "fNvfkYtHIyAA",
        "deepnote_app_block_order": 1,
        "deepnote_app_block_visible": true,
        "deepnote_app_block_group_id": null,
        "cell_id": "79f71f4cfacf4c4789d8e73ac3384373",
        "deepnote_cell_type": "markdown"
      },
      "source": "# 1.0 Project Dependencies",
      "block_group": "e4edf12f17e94fc298724744738b6e59"
    },
    {
      "cell_type": "markdown",
      "metadata": {
        "id": "fNvfkYtHIyAA",
        "deepnote_app_block_order": 2,
        "deepnote_app_block_visible": true,
        "deepnote_app_block_group_id": null,
        "cell_id": "628e17745af543cebe74d8131d0e8655",
        "deepnote_cell_type": "markdown"
      },
      "source": "## 1.1 Pip Installs",
      "block_group": "8d5dee9528eb4052902f7d5865b2c46a"
    },
    {
      "cell_type": "code",
      "metadata": {
        "id": "MT4eqW9-HdoA",
        "source_hash": "b623e53d",
        "execution_start": 1759790534778,
        "execution_millis": 0,
        "execution_context_id": "f1ca50dd-93b4-4efd-8fa9-6064dddd03f8",
        "deepnote_app_block_order": 3,
        "deepnote_app_block_visible": true,
        "deepnote_app_block_group_id": null,
        "deepnote_app_is_code_hidden": true,
        "deepnote_app_is_output_hidden": false,
        "cell_id": "47d991ac77424a419c6d77b9c10db835",
        "deepnote_cell_type": "code"
      },
      "source": "",
      "block_group": "740b7d8cee424b699a1baa1d84e25db7",
      "execution_count": 0,
      "outputs": [],
      "outputs_reference": null,
      "content_dependencies": null
    },
    {
      "cell_type": "markdown",
      "metadata": {
        "id": "fNvfkYtHIyAA",
        "deepnote_app_block_order": 4,
        "deepnote_app_block_visible": true,
        "deepnote_app_block_group_id": null,
        "cell_id": "a3d6d3a82153446092b99931ba8b3408",
        "deepnote_cell_type": "markdown"
      },
      "source": "## 1.3 Import Libraries",
      "block_group": "9f7379e3c4e148a0b53bb81b374cb65b"
    },
    {
      "cell_type": "code",
      "metadata": {
        "id": "FR7lm7LDIm2M",
        "source_hash": "c76c7c51",
        "execution_start": 1759790534838,
        "execution_millis": 0,
        "execution_context_id": "f1ca50dd-93b4-4efd-8fa9-6064dddd03f8",
        "deepnote_app_block_order": 5,
        "deepnote_app_block_visible": true,
        "deepnote_app_block_group_id": null,
        "deepnote_app_is_code_hidden": true,
        "deepnote_app_is_output_hidden": false,
        "cell_id": "27558b6f02394e46aabac277b2430894",
        "deepnote_cell_type": "code"
      },
      "source": "import pandas as pd\nimport numpy as np",
      "block_group": "ab7c00b2888940c380325797a926ad69",
      "execution_count": 1,
      "outputs": [],
      "outputs_reference": null,
      "content_dependencies": null
    },
    {
      "cell_type": "markdown",
      "metadata": {
        "id": "fNvfkYtHIyAA",
        "deepnote_app_block_order": 6,
        "deepnote_app_block_visible": true,
        "deepnote_app_block_group_id": null,
        "cell_id": "5e0e28022ad94d66bf4ef240e273c01e",
        "deepnote_cell_type": "markdown"
      },
      "source": "## 1.3 Import Datasets",
      "block_group": "11ffc90e3eca4322acc631b2cb478ad0"
    },
    {
      "cell_type": "markdown",
      "metadata": {
        "id": "zE8uREGUJ2q8",
        "deepnote_app_block_order": 7,
        "deepnote_app_block_visible": true,
        "deepnote_app_block_group_id": null,
        "cell_id": "c1819171ad4a403983160bc088de8b2d",
        "deepnote_cell_type": "markdown"
      },
      "source": "### 1.3a Import District Expenses Data",
      "block_group": "01611a9f53114c2f9a58bddd2c957d71"
    },
    {
      "cell_type": "code",
      "metadata": {
        "id": "I-88ebUBIxff",
        "colab": {
          "height": 224,
          "base_uri": "https://localhost:8080/"
        },
        "outputId": "c036fa81-ee88-4178-c4d5-72c74ae1a916",
        "source_hash": "bf6e833a",
        "execution_start": 1759790534898,
        "execution_millis": 448,
        "execution_context_id": "f1ca50dd-93b4-4efd-8fa9-6064dddd03f8",
        "deepnote_app_block_order": 8,
        "deepnote_app_block_visible": true,
        "deepnote_app_block_group_id": null,
        "deepnote_app_is_code_hidden": true,
        "deepnote_app_is_output_hidden": false,
        "cell_id": "e7ff128b99b64002a876a88905a9cd37",
        "deepnote_cell_type": "code"
      },
      "source": "# Read in the expense data\nexpense_df = pd.read_excel('current_expense.xlsx', skiprows=10)\n\n# Cleaning the expense data\nexpense_df = expense_df.rename(columns={'CDS':'District Code',\n                                        'District': 'District Name',\n                                        'Current\\nExpense ADA': 'Expense ADA',\n                                        'Current\\nExpense per ADA': 'Expense per ADA'})\nexpense_df = expense_df.drop(['CO'], axis=1)\n\n# Display the cleaned expense data\ndisplay(expense_df.shape)\ndisplay(expense_df.head())\n# display(expense_df)",
      "block_group": "10b6240a0cff43a885a98e0eeca13f97",
      "execution_count": 2,
      "outputs": [
        {
          "data": {
            "text/plain": "(933, 6)"
          },
          "metadata": {},
          "output_type": "display_data"
        },
        {
          "data": {
            "application/vnd.deepnote.dataframe.v3+json": {
              "column_count": 6,
              "columns": [
                {
                  "name": "District Code",
                  "dtype": "int64",
                  "stats": {
                    "unique_count": 5,
                    "nan_count": 0,
                    "min": "61119",
                    "max": "61168",
                    "histogram": [
                      {
                        "bin_start": 61119,
                        "bin_end": 61123.9,
                        "count": 1
                      },
                      {
                        "bin_start": 61123.9,
                        "bin_end": 61128.8,
                        "count": 1
                      },
                      {
                        "bin_start": 61128.8,
                        "bin_end": 61133.7,
                        "count": 0
                      },
                      {
                        "bin_start": 61133.7,
                        "bin_end": 61138.6,
                        "count": 0
                      },
                      {
                        "bin_start": 61138.6,
                        "bin_end": 61143.5,
                        "count": 1
                      },
                      {
                        "bin_start": 61143.5,
                        "bin_end": 61148.4,
                        "count": 0
                      },
                      {
                        "bin_start": 61148.4,
                        "bin_end": 61153.3,
                        "count": 1
                      },
                      {
                        "bin_start": 61153.3,
                        "bin_end": 61158.2,
                        "count": 0
                      },
                      {
                        "bin_start": 61158.2,
                        "bin_end": 61163.1,
                        "count": 0
                      },
                      {
                        "bin_start": 61163.1,
                        "bin_end": 61168,
                        "count": 1
                      }
                    ],
                    "categories": null
                  }
                },
                {
                  "name": "District Name",
                  "dtype": "object",
                  "stats": {
                    "unique_count": 5,
                    "nan_count": 0,
                    "min": null,
                    "max": null,
                    "histogram": null,
                    "categories": [
                      {
                        "name": "Alameda Unified",
                        "count": 1
                      },
                      {
                        "name": "Albany City Unified",
                        "count": 1
                      },
                      {
                        "name": "3 others",
                        "count": 3
                      }
                    ]
                  }
                },
                {
                  "name": "EDP 365",
                  "dtype": "float64",
                  "stats": {
                    "unique_count": 5,
                    "nan_count": 0,
                    "min": "15862999.59",
                    "max": "220550807.98",
                    "histogram": [
                      {
                        "bin_start": 15862999.59,
                        "bin_end": 36331780.429,
                        "count": 1
                      },
                      {
                        "bin_start": 36331780.429,
                        "bin_end": 56800561.26799999,
                        "count": 0
                      },
                      {
                        "bin_start": 56800561.26799999,
                        "bin_end": 77269342.107,
                        "count": 1
                      },
                      {
                        "bin_start": 77269342.107,
                        "bin_end": 97738122.946,
                        "count": 0
                      },
                      {
                        "bin_start": 97738122.946,
                        "bin_end": 118206903.785,
                        "count": 0
                      },
                      {
                        "bin_start": 118206903.785,
                        "bin_end": 138675684.62399998,
                        "count": 0
                      },
                      {
                        "bin_start": 138675684.62399998,
                        "bin_end": 159144465.463,
                        "count": 2
                      },
                      {
                        "bin_start": 159144465.463,
                        "bin_end": 179613246.302,
                        "count": 0
                      },
                      {
                        "bin_start": 179613246.302,
                        "bin_end": 200082027.14099997,
                        "count": 0
                      },
                      {
                        "bin_start": 200082027.14099997,
                        "bin_end": 220550807.98,
                        "count": 1
                      }
                    ],
                    "categories": null
                  }
                },
                {
                  "name": "Expense ADA",
                  "dtype": "float64",
                  "stats": {
                    "unique_count": 5,
                    "nan_count": 0,
                    "min": "554.7",
                    "max": "8991.52",
                    "histogram": [
                      {
                        "bin_start": 554.7,
                        "bin_end": 1398.382,
                        "count": 1
                      },
                      {
                        "bin_start": 1398.382,
                        "bin_end": 2242.0640000000003,
                        "count": 0
                      },
                      {
                        "bin_start": 2242.0640000000003,
                        "bin_end": 3085.746,
                        "count": 0
                      },
                      {
                        "bin_start": 3085.746,
                        "bin_end": 3929.428,
                        "count": 1
                      },
                      {
                        "bin_start": 3929.428,
                        "bin_end": 4773.11,
                        "count": 0
                      },
                      {
                        "bin_start": 4773.11,
                        "bin_end": 5616.792,
                        "count": 0
                      },
                      {
                        "bin_start": 5616.792,
                        "bin_end": 6460.474,
                        "count": 0
                      },
                      {
                        "bin_start": 6460.474,
                        "bin_end": 7304.156,
                        "count": 0
                      },
                      {
                        "bin_start": 7304.156,
                        "bin_end": 8147.838,
                        "count": 0
                      },
                      {
                        "bin_start": 8147.838,
                        "bin_end": 8991.52,
                        "count": 3
                      }
                    ],
                    "categories": null
                  }
                },
                {
                  "name": "Expense per ADA",
                  "dtype": "float64",
                  "stats": {
                    "unique_count": 5,
                    "nan_count": 0,
                    "min": "15847.3",
                    "max": "28597.44",
                    "histogram": [
                      {
                        "bin_start": 15847.3,
                        "bin_end": 17122.314,
                        "count": 1
                      },
                      {
                        "bin_start": 17122.314,
                        "bin_end": 18397.327999999998,
                        "count": 2
                      },
                      {
                        "bin_start": 18397.327999999998,
                        "bin_end": 19672.341999999997,
                        "count": 0
                      },
                      {
                        "bin_start": 19672.341999999997,
                        "bin_end": 20947.356,
                        "count": 0
                      },
                      {
                        "bin_start": 20947.356,
                        "bin_end": 22222.37,
                        "count": 0
                      },
                      {
                        "bin_start": 22222.37,
                        "bin_end": 23497.384,
                        "count": 0
                      },
                      {
                        "bin_start": 23497.384,
                        "bin_end": 24772.398,
                        "count": 0
                      },
                      {
                        "bin_start": 24772.398,
                        "bin_end": 26047.411999999997,
                        "count": 1
                      },
                      {
                        "bin_start": 26047.411999999997,
                        "bin_end": 27322.426,
                        "count": 0
                      },
                      {
                        "bin_start": 27322.426,
                        "bin_end": 28597.44,
                        "count": 1
                      }
                    ],
                    "categories": null
                  }
                },
                {
                  "name": "LEA Type",
                  "dtype": "object",
                  "stats": {
                    "unique_count": 1,
                    "nan_count": 0,
                    "min": null,
                    "max": null,
                    "histogram": null,
                    "categories": [
                      {
                        "name": "Unified",
                        "count": 5
                      }
                    ]
                  }
                },
                {
                  "name": "_deepnote_index_column",
                  "dtype": "int64"
                }
              ],
              "row_count": 5,
              "preview_row_count": 5,
              "rows": [
                {
                  "District Code": 61119,
                  "District Name": "Alameda Unified",
                  "EDP 365": 155094777.67,
                  "Expense ADA": 8567.86,
                  "Expense per ADA": 18101.93,
                  "LEA Type": "Unified",
                  "_deepnote_index_column": 0
                },
                {
                  "District Code": 61127,
                  "District Name": "Albany City Unified",
                  "EDP 365": 61490895.29,
                  "Expense ADA": 3435.41,
                  "Expense per ADA": 17899.14,
                  "LEA Type": "Unified",
                  "_deepnote_index_column": 1
                },
                {
                  "District Code": 61143,
                  "District Name": "Berkeley Unified",
                  "EDP 365": 220550807.98,
                  "Expense ADA": 8572.17,
                  "Expense per ADA": 25728.7,
                  "LEA Type": "Unified",
                  "_deepnote_index_column": 2
                },
                {
                  "District Code": 61150,
                  "District Name": "Castro Valley Unified",
                  "EDP 365": 142491340.82,
                  "Expense ADA": 8991.52,
                  "Expense per ADA": 15847.3,
                  "LEA Type": "Unified",
                  "_deepnote_index_column": 3
                },
                {
                  "District Code": 61168,
                  "District Name": "Emery Unified",
                  "EDP 365": 15862999.59,
                  "Expense ADA": 554.7,
                  "Expense per ADA": 28597.44,
                  "LEA Type": "Unified",
                  "_deepnote_index_column": 4
                }
              ],
              "type": "dataframe"
            },
            "text/plain": "   District Code          District Name       EDP 365  Expense ADA  \\\n0          61119        Alameda Unified  1.550948e+08      8567.86   \n1          61127    Albany City Unified  6.149090e+07      3435.41   \n2          61143       Berkeley Unified  2.205508e+08      8572.17   \n3          61150  Castro Valley Unified  1.424913e+08      8991.52   \n4          61168          Emery Unified  1.586300e+07       554.70   \n\n   Expense per ADA LEA Type  \n0         18101.93  Unified  \n1         17899.14  Unified  \n2         25728.70  Unified  \n3         15847.30  Unified  \n4         28597.44  Unified  ",
            "text/html": "<div>\n<style scoped>\n    .dataframe tbody tr th:only-of-type {\n        vertical-align: middle;\n    }\n\n    .dataframe tbody tr th {\n        vertical-align: top;\n    }\n\n    .dataframe thead th {\n        text-align: right;\n    }\n</style>\n<table border=\"1\" class=\"dataframe\">\n  <thead>\n    <tr style=\"text-align: right;\">\n      <th></th>\n      <th>District Code</th>\n      <th>District Name</th>\n      <th>EDP 365</th>\n      <th>Expense ADA</th>\n      <th>Expense per ADA</th>\n      <th>LEA Type</th>\n    </tr>\n  </thead>\n  <tbody>\n    <tr>\n      <th>0</th>\n      <td>61119</td>\n      <td>Alameda Unified</td>\n      <td>1.550948e+08</td>\n      <td>8567.86</td>\n      <td>18101.93</td>\n      <td>Unified</td>\n    </tr>\n    <tr>\n      <th>1</th>\n      <td>61127</td>\n      <td>Albany City Unified</td>\n      <td>6.149090e+07</td>\n      <td>3435.41</td>\n      <td>17899.14</td>\n      <td>Unified</td>\n    </tr>\n    <tr>\n      <th>2</th>\n      <td>61143</td>\n      <td>Berkeley Unified</td>\n      <td>2.205508e+08</td>\n      <td>8572.17</td>\n      <td>25728.70</td>\n      <td>Unified</td>\n    </tr>\n    <tr>\n      <th>3</th>\n      <td>61150</td>\n      <td>Castro Valley Unified</td>\n      <td>1.424913e+08</td>\n      <td>8991.52</td>\n      <td>15847.30</td>\n      <td>Unified</td>\n    </tr>\n    <tr>\n      <th>4</th>\n      <td>61168</td>\n      <td>Emery Unified</td>\n      <td>1.586300e+07</td>\n      <td>554.70</td>\n      <td>28597.44</td>\n      <td>Unified</td>\n    </tr>\n  </tbody>\n</table>\n</div>"
          },
          "metadata": {},
          "output_type": "display_data"
        }
      ],
      "outputs_reference": null,
      "content_dependencies": null
    },
    {
      "cell_type": "markdown",
      "metadata": {
        "id": "e4WsQGHrJI6t",
        "deepnote_app_block_order": 9,
        "deepnote_app_block_visible": true,
        "deepnote_app_block_group_id": null,
        "cell_id": "1047bc34f21549c4901b5bfa0ad86985",
        "deepnote_cell_type": "markdown"
      },
      "source": "### 1.3b Import District Demographic Data",
      "block_group": "5698f519a08c48a6aa3b560c1f2ec251"
    },
    {
      "cell_type": "code",
      "metadata": {
        "id": "MI-gkKDDJHRs",
        "colab": {
          "height": 447,
          "base_uri": "https://localhost:8080/"
        },
        "outputId": "337650db-23b0-4f49-afcd-192846013505",
        "source_hash": "6fcd4598",
        "execution_start": 1759790535398,
        "execution_millis": 465,
        "execution_context_id": "f1ca50dd-93b4-4efd-8fa9-6064dddd03f8",
        "deepnote_app_block_order": 10,
        "deepnote_app_block_visible": true,
        "deepnote_app_block_group_id": null,
        "deepnote_app_is_code_hidden": true,
        "deepnote_app_is_output_hidden": false,
        "cell_id": "2b648d45e9114b24bbce99a8c985e198",
        "deepnote_cell_type": "code"
      },
      "source": "# Read in the district data\ndistrict_df = pd.read_excel('district_areas.xlsx')\n\n# Cleaning the district data\ndistrict_df['District Code'] = district_df['District Code'].astype(str).str[-5:].astype('int64')\ndistrict_df = district_df.drop(['Year',\n                                    'DistrctAreaSqMi',\n                                    'Shape__Area',\n                                    'Shape__Length',\n                                    'OBJECTID',\n                                    'US Congress District',\n                                    'CA Senate District',\n                                    'CA Assembly District',\n                                    'Update Notes'], axis=1)\n\n# Display the cleaned district data\ndisplay(district_df.shape)\ndisplay(district_df.head())\n# display(district_df)",
      "block_group": "69bac3c9c2eb45918b034e81cee87d66",
      "execution_count": 3,
      "outputs": [
        {
          "data": {
            "text/plain": "(938, 45)"
          },
          "metadata": {},
          "output_type": "display_data"
        },
        {
          "data": {
            "application/vnd.deepnote.dataframe.v3+json": {
              "column_count": 45,
              "columns": [
                {
                  "name": "Fed ID",
                  "dtype": "int64",
                  "stats": {
                    "unique_count": 5,
                    "nan_count": 0,
                    "min": "601770",
                    "max": "612630",
                    "histogram": [
                      {
                        "bin_start": 601770,
                        "bin_end": 602856,
                        "count": 2
                      },
                      {
                        "bin_start": 602856,
                        "bin_end": 603942,
                        "count": 0
                      },
                      {
                        "bin_start": 603942,
                        "bin_end": 605028,
                        "count": 1
                      },
                      {
                        "bin_start": 605028,
                        "bin_end": 606114,
                        "count": 0
                      },
                      {
                        "bin_start": 606114,
                        "bin_end": 607200,
                        "count": 0
                      },
                      {
                        "bin_start": 607200,
                        "bin_end": 608286,
                        "count": 1
                      },
                      {
                        "bin_start": 608286,
                        "bin_end": 609372,
                        "count": 0
                      },
                      {
                        "bin_start": 609372,
                        "bin_end": 610458,
                        "count": 0
                      },
                      {
                        "bin_start": 610458,
                        "bin_end": 611544,
                        "count": 0
                      },
                      {
                        "bin_start": 611544,
                        "bin_end": 612630,
                        "count": 1
                      }
                    ],
                    "categories": null
                  }
                },
                {
                  "name": "District Code",
                  "dtype": "int64",
                  "stats": {
                    "unique_count": 5,
                    "nan_count": 0,
                    "min": "61119",
                    "max": "61168",
                    "histogram": [
                      {
                        "bin_start": 61119,
                        "bin_end": 61123.9,
                        "count": 1
                      },
                      {
                        "bin_start": 61123.9,
                        "bin_end": 61128.8,
                        "count": 1
                      },
                      {
                        "bin_start": 61128.8,
                        "bin_end": 61133.7,
                        "count": 0
                      },
                      {
                        "bin_start": 61133.7,
                        "bin_end": 61138.6,
                        "count": 0
                      },
                      {
                        "bin_start": 61138.6,
                        "bin_end": 61143.5,
                        "count": 1
                      },
                      {
                        "bin_start": 61143.5,
                        "bin_end": 61148.4,
                        "count": 0
                      },
                      {
                        "bin_start": 61148.4,
                        "bin_end": 61153.3,
                        "count": 1
                      },
                      {
                        "bin_start": 61153.3,
                        "bin_end": 61158.2,
                        "count": 0
                      },
                      {
                        "bin_start": 61158.2,
                        "bin_end": 61163.1,
                        "count": 0
                      },
                      {
                        "bin_start": 61163.1,
                        "bin_end": 61168,
                        "count": 1
                      }
                    ],
                    "categories": null
                  }
                },
                {
                  "name": "CDS Code",
                  "dtype": "int64",
                  "stats": {
                    "unique_count": 5,
                    "nan_count": 0,
                    "min": "1611190000000",
                    "max": "1611680000000",
                    "histogram": [
                      {
                        "bin_start": 1611190000000,
                        "bin_end": 1611239000000,
                        "count": 1
                      },
                      {
                        "bin_start": 1611239000000,
                        "bin_end": 1611288000000,
                        "count": 1
                      },
                      {
                        "bin_start": 1611288000000,
                        "bin_end": 1611337000000,
                        "count": 0
                      },
                      {
                        "bin_start": 1611337000000,
                        "bin_end": 1611386000000,
                        "count": 0
                      },
                      {
                        "bin_start": 1611386000000,
                        "bin_end": 1611435000000,
                        "count": 1
                      },
                      {
                        "bin_start": 1611435000000,
                        "bin_end": 1611484000000,
                        "count": 0
                      },
                      {
                        "bin_start": 1611484000000,
                        "bin_end": 1611533000000,
                        "count": 1
                      },
                      {
                        "bin_start": 1611533000000,
                        "bin_end": 1611582000000,
                        "count": 0
                      },
                      {
                        "bin_start": 1611582000000,
                        "bin_end": 1611631000000,
                        "count": 0
                      },
                      {
                        "bin_start": 1611631000000,
                        "bin_end": 1611680000000,
                        "count": 1
                      }
                    ],
                    "categories": null
                  }
                },
                {
                  "name": "County Name",
                  "dtype": "object",
                  "stats": {
                    "unique_count": 1,
                    "nan_count": 0,
                    "min": null,
                    "max": null,
                    "histogram": null,
                    "categories": [
                      {
                        "name": "Alameda",
                        "count": 5
                      }
                    ]
                  }
                },
                {
                  "name": "District Name",
                  "dtype": "object",
                  "stats": {
                    "unique_count": 5,
                    "nan_count": 0,
                    "min": null,
                    "max": null,
                    "histogram": null,
                    "categories": [
                      {
                        "name": "Alameda Unified",
                        "count": 1
                      },
                      {
                        "name": "Albany City Unified",
                        "count": 1
                      },
                      {
                        "name": "3 others",
                        "count": 3
                      }
                    ]
                  }
                },
                {
                  "name": "District Type",
                  "dtype": "object",
                  "stats": {
                    "unique_count": 1,
                    "nan_count": 0,
                    "min": null,
                    "max": null,
                    "histogram": null,
                    "categories": [
                      {
                        "name": "Unified",
                        "count": 5
                      }
                    ]
                  }
                },
                {
                  "name": "Grade Low",
                  "dtype": "object",
                  "stats": {
                    "unique_count": 1,
                    "nan_count": 0,
                    "min": null,
                    "max": null,
                    "histogram": null,
                    "categories": [
                      {
                        "name": "KG",
                        "count": 5
                      }
                    ]
                  }
                },
                {
                  "name": "Grade High",
                  "dtype": "int64",
                  "stats": {
                    "unique_count": 1,
                    "nan_count": 0,
                    "min": "12",
                    "max": "12",
                    "histogram": [
                      {
                        "bin_start": 11.5,
                        "bin_end": 11.6,
                        "count": 0
                      },
                      {
                        "bin_start": 11.6,
                        "bin_end": 11.7,
                        "count": 0
                      },
                      {
                        "bin_start": 11.7,
                        "bin_end": 11.8,
                        "count": 0
                      },
                      {
                        "bin_start": 11.8,
                        "bin_end": 11.9,
                        "count": 0
                      },
                      {
                        "bin_start": 11.9,
                        "bin_end": 12,
                        "count": 0
                      },
                      {
                        "bin_start": 12,
                        "bin_end": 12.1,
                        "count": 5
                      },
                      {
                        "bin_start": 12.1,
                        "bin_end": 12.2,
                        "count": 0
                      },
                      {
                        "bin_start": 12.2,
                        "bin_end": 12.3,
                        "count": 0
                      },
                      {
                        "bin_start": 12.3,
                        "bin_end": 12.4,
                        "count": 0
                      },
                      {
                        "bin_start": 12.4,
                        "bin_end": 12.5,
                        "count": 0
                      }
                    ],
                    "categories": null
                  }
                },
                {
                  "name": "Grade Low Census",
                  "dtype": "object",
                  "stats": {
                    "unique_count": 1,
                    "nan_count": 0,
                    "min": null,
                    "max": null,
                    "histogram": null,
                    "categories": [
                      {
                        "name": "KG",
                        "count": 5
                      }
                    ]
                  }
                },
                {
                  "name": "Grade High Census",
                  "dtype": "int64",
                  "stats": {
                    "unique_count": 1,
                    "nan_count": 0,
                    "min": "12",
                    "max": "12",
                    "histogram": [
                      {
                        "bin_start": 11.5,
                        "bin_end": 11.6,
                        "count": 0
                      },
                      {
                        "bin_start": 11.6,
                        "bin_end": 11.7,
                        "count": 0
                      },
                      {
                        "bin_start": 11.7,
                        "bin_end": 11.8,
                        "count": 0
                      },
                      {
                        "bin_start": 11.8,
                        "bin_end": 11.9,
                        "count": 0
                      },
                      {
                        "bin_start": 11.9,
                        "bin_end": 12,
                        "count": 0
                      },
                      {
                        "bin_start": 12,
                        "bin_end": 12.1,
                        "count": 5
                      },
                      {
                        "bin_start": 12.1,
                        "bin_end": 12.2,
                        "count": 0
                      },
                      {
                        "bin_start": 12.2,
                        "bin_end": 12.3,
                        "count": 0
                      },
                      {
                        "bin_start": 12.3,
                        "bin_end": 12.4,
                        "count": 0
                      },
                      {
                        "bin_start": 12.4,
                        "bin_end": 12.5,
                        "count": 0
                      }
                    ],
                    "categories": null
                  }
                },
                {
                  "name": "Assistance Status",
                  "dtype": "object",
                  "stats": {
                    "unique_count": 1,
                    "nan_count": 0,
                    "min": null,
                    "max": null,
                    "histogram": null,
                    "categories": [
                      {
                        "name": "General Assistance",
                        "count": 5
                      }
                    ]
                  }
                },
                {
                  "name": "Locale",
                  "dtype": "object",
                  "stats": {
                    "unique_count": 2,
                    "nan_count": 0,
                    "min": null,
                    "max": null,
                    "histogram": null,
                    "categories": [
                      {
                        "name": "21 - Suburban, Large",
                        "count": 4
                      },
                      {
                        "name": "12 - City, Midsize ",
                        "count": 1
                      }
                    ]
                  }
                },
                {
                  "name": "Enroll Total",
                  "dtype": "int64",
                  "stats": {
                    "unique_count": 5,
                    "nan_count": 0,
                    "min": "600",
                    "max": "10557",
                    "histogram": [
                      {
                        "bin_start": 600,
                        "bin_end": 1595.7,
                        "count": 1
                      },
                      {
                        "bin_start": 1595.7,
                        "bin_end": 2591.4,
                        "count": 0
                      },
                      {
                        "bin_start": 2591.4,
                        "bin_end": 3587.1000000000004,
                        "count": 1
                      },
                      {
                        "bin_start": 3587.1000000000004,
                        "bin_end": 4582.8,
                        "count": 0
                      },
                      {
                        "bin_start": 4582.8,
                        "bin_end": 5578.5,
                        "count": 0
                      },
                      {
                        "bin_start": 5578.5,
                        "bin_end": 6574.200000000001,
                        "count": 0
                      },
                      {
                        "bin_start": 6574.200000000001,
                        "bin_end": 7569.900000000001,
                        "count": 0
                      },
                      {
                        "bin_start": 7569.900000000001,
                        "bin_end": 8565.6,
                        "count": 0
                      },
                      {
                        "bin_start": 8565.6,
                        "bin_end": 9561.300000000001,
                        "count": 2
                      },
                      {
                        "bin_start": 9561.300000000001,
                        "bin_end": 10557,
                        "count": 1
                      }
                    ],
                    "categories": null
                  }
                },
                {
                  "name": "Enroll Charter",
                  "dtype": "int64",
                  "stats": {
                    "unique_count": 2,
                    "nan_count": 0,
                    "min": "0",
                    "max": "1496",
                    "histogram": [
                      {
                        "bin_start": 0,
                        "bin_end": 149.6,
                        "count": 4
                      },
                      {
                        "bin_start": 149.6,
                        "bin_end": 299.2,
                        "count": 0
                      },
                      {
                        "bin_start": 299.2,
                        "bin_end": 448.79999999999995,
                        "count": 0
                      },
                      {
                        "bin_start": 448.79999999999995,
                        "bin_end": 598.4,
                        "count": 0
                      },
                      {
                        "bin_start": 598.4,
                        "bin_end": 748,
                        "count": 0
                      },
                      {
                        "bin_start": 748,
                        "bin_end": 897.5999999999999,
                        "count": 0
                      },
                      {
                        "bin_start": 897.5999999999999,
                        "bin_end": 1047.2,
                        "count": 0
                      },
                      {
                        "bin_start": 1047.2,
                        "bin_end": 1196.8,
                        "count": 0
                      },
                      {
                        "bin_start": 1196.8,
                        "bin_end": 1346.3999999999999,
                        "count": 0
                      },
                      {
                        "bin_start": 1346.3999999999999,
                        "bin_end": 1496,
                        "count": 1
                      }
                    ],
                    "categories": null
                  }
                },
                {
                  "name": "Enroll Non Charter",
                  "dtype": "int64",
                  "stats": {
                    "unique_count": 5,
                    "nan_count": 0,
                    "min": "600",
                    "max": "9489",
                    "histogram": [
                      {
                        "bin_start": 600,
                        "bin_end": 1488.9,
                        "count": 1
                      },
                      {
                        "bin_start": 1488.9,
                        "bin_end": 2377.8,
                        "count": 0
                      },
                      {
                        "bin_start": 2377.8,
                        "bin_end": 3266.7,
                        "count": 0
                      },
                      {
                        "bin_start": 3266.7,
                        "bin_end": 4155.6,
                        "count": 1
                      },
                      {
                        "bin_start": 4155.6,
                        "bin_end": 5044.5,
                        "count": 0
                      },
                      {
                        "bin_start": 5044.5,
                        "bin_end": 5933.4,
                        "count": 0
                      },
                      {
                        "bin_start": 5933.4,
                        "bin_end": 6822.3,
                        "count": 0
                      },
                      {
                        "bin_start": 6822.3,
                        "bin_end": 7711.2,
                        "count": 0
                      },
                      {
                        "bin_start": 7711.2,
                        "bin_end": 8600.099999999999,
                        "count": 0
                      },
                      {
                        "bin_start": 8600.099999999999,
                        "bin_end": 9489,
                        "count": 3
                      }
                    ],
                    "categories": null
                  }
                },
                {
                  "name": "African American",
                  "dtype": "int64",
                  "stats": {
                    "unique_count": 5,
                    "nan_count": 0,
                    "min": "152",
                    "max": "1052",
                    "histogram": [
                      {
                        "bin_start": 152,
                        "bin_end": 242,
                        "count": 1
                      },
                      {
                        "bin_start": 242,
                        "bin_end": 332,
                        "count": 1
                      },
                      {
                        "bin_start": 332,
                        "bin_end": 422,
                        "count": 1
                      },
                      {
                        "bin_start": 422,
                        "bin_end": 512,
                        "count": 0
                      },
                      {
                        "bin_start": 512,
                        "bin_end": 602,
                        "count": 0
                      },
                      {
                        "bin_start": 602,
                        "bin_end": 692,
                        "count": 0
                      },
                      {
                        "bin_start": 692,
                        "bin_end": 782,
                        "count": 1
                      },
                      {
                        "bin_start": 782,
                        "bin_end": 872,
                        "count": 0
                      },
                      {
                        "bin_start": 872,
                        "bin_end": 962,
                        "count": 0
                      },
                      {
                        "bin_start": 962,
                        "bin_end": 1052,
                        "count": 1
                      }
                    ],
                    "categories": null
                  }
                },
                {
                  "name": "African American (%)",
                  "dtype": "float64",
                  "stats": {
                    "unique_count": 4,
                    "nan_count": 0,
                    "min": "4.3",
                    "max": "44.2",
                    "histogram": [
                      {
                        "bin_start": 4.3,
                        "bin_end": 8.290000000000001,
                        "count": 3
                      },
                      {
                        "bin_start": 8.290000000000001,
                        "bin_end": 12.280000000000001,
                        "count": 1
                      },
                      {
                        "bin_start": 12.280000000000001,
                        "bin_end": 16.270000000000003,
                        "count": 0
                      },
                      {
                        "bin_start": 16.270000000000003,
                        "bin_end": 20.26,
                        "count": 0
                      },
                      {
                        "bin_start": 20.26,
                        "bin_end": 24.250000000000004,
                        "count": 0
                      },
                      {
                        "bin_start": 24.250000000000004,
                        "bin_end": 28.240000000000006,
                        "count": 0
                      },
                      {
                        "bin_start": 28.240000000000006,
                        "bin_end": 32.230000000000004,
                        "count": 0
                      },
                      {
                        "bin_start": 32.230000000000004,
                        "bin_end": 36.220000000000006,
                        "count": 0
                      },
                      {
                        "bin_start": 36.220000000000006,
                        "bin_end": 40.21,
                        "count": 0
                      },
                      {
                        "bin_start": 40.21,
                        "bin_end": 44.2,
                        "count": 1
                      }
                    ],
                    "categories": null
                  }
                },
                {
                  "name": "American Indian",
                  "dtype": "int64",
                  "stats": {
                    "unique_count": 5,
                    "nan_count": 0,
                    "min": "0",
                    "max": "25",
                    "histogram": [
                      {
                        "bin_start": 0,
                        "bin_end": 2.5,
                        "count": 1
                      },
                      {
                        "bin_start": 2.5,
                        "bin_end": 5,
                        "count": 0
                      },
                      {
                        "bin_start": 5,
                        "bin_end": 7.5,
                        "count": 1
                      },
                      {
                        "bin_start": 7.5,
                        "bin_end": 10,
                        "count": 0
                      },
                      {
                        "bin_start": 10,
                        "bin_end": 12.5,
                        "count": 1
                      },
                      {
                        "bin_start": 12.5,
                        "bin_end": 15,
                        "count": 0
                      },
                      {
                        "bin_start": 15,
                        "bin_end": 17.5,
                        "count": 0
                      },
                      {
                        "bin_start": 17.5,
                        "bin_end": 20,
                        "count": 0
                      },
                      {
                        "bin_start": 20,
                        "bin_end": 22.5,
                        "count": 1
                      },
                      {
                        "bin_start": 22.5,
                        "bin_end": 25,
                        "count": 1
                      }
                    ],
                    "categories": null
                  }
                },
                {
                  "name": "American Indian (%)",
                  "dtype": "float64",
                  "stats": {
                    "unique_count": 4,
                    "nan_count": 0,
                    "min": "0.0",
                    "max": "0.3",
                    "histogram": [
                      {
                        "bin_start": 0,
                        "bin_end": 0.03,
                        "count": 1
                      },
                      {
                        "bin_start": 0.03,
                        "bin_end": 0.06,
                        "count": 0
                      },
                      {
                        "bin_start": 0.06,
                        "bin_end": 0.09,
                        "count": 0
                      },
                      {
                        "bin_start": 0.09,
                        "bin_end": 0.12,
                        "count": 1
                      },
                      {
                        "bin_start": 0.12,
                        "bin_end": 0.15,
                        "count": 0
                      },
                      {
                        "bin_start": 0.15,
                        "bin_end": 0.18,
                        "count": 0
                      },
                      {
                        "bin_start": 0.18,
                        "bin_end": 0.21,
                        "count": 2
                      },
                      {
                        "bin_start": 0.21,
                        "bin_end": 0.24,
                        "count": 0
                      },
                      {
                        "bin_start": 0.24,
                        "bin_end": 0.27,
                        "count": 0
                      },
                      {
                        "bin_start": 0.27,
                        "bin_end": 0.3,
                        "count": 1
                      }
                    ],
                    "categories": null
                  }
                },
                {
                  "name": "Asian",
                  "dtype": "int64",
                  "stats": {
                    "unique_count": 5,
                    "nan_count": 0,
                    "min": "56",
                    "max": "3119",
                    "histogram": [
                      {
                        "bin_start": 56,
                        "bin_end": 362.3,
                        "count": 1
                      },
                      {
                        "bin_start": 362.3,
                        "bin_end": 668.6,
                        "count": 0
                      },
                      {
                        "bin_start": 668.6,
                        "bin_end": 974.9000000000001,
                        "count": 1
                      },
                      {
                        "bin_start": 974.9000000000001,
                        "bin_end": 1281.2,
                        "count": 1
                      },
                      {
                        "bin_start": 1281.2,
                        "bin_end": 1587.5,
                        "count": 0
                      },
                      {
                        "bin_start": 1587.5,
                        "bin_end": 1893.8000000000002,
                        "count": 0
                      },
                      {
                        "bin_start": 1893.8000000000002,
                        "bin_end": 2200.1,
                        "count": 0
                      },
                      {
                        "bin_start": 2200.1,
                        "bin_end": 2506.4,
                        "count": 0
                      },
                      {
                        "bin_start": 2506.4,
                        "bin_end": 2812.7000000000003,
                        "count": 1
                      },
                      {
                        "bin_start": 2812.7000000000003,
                        "bin_end": 3119,
                        "count": 1
                      }
                    ],
                    "categories": null
                  }
                },
                {
                  "name": "Asian (%)",
                  "dtype": "float64",
                  "stats": {
                    "unique_count": 5,
                    "nan_count": 0,
                    "min": "8.1",
                    "max": "32.9",
                    "histogram": [
                      {
                        "bin_start": 8.1,
                        "bin_end": 10.579999999999998,
                        "count": 2
                      },
                      {
                        "bin_start": 10.579999999999998,
                        "bin_end": 13.059999999999999,
                        "count": 0
                      },
                      {
                        "bin_start": 13.059999999999999,
                        "bin_end": 15.54,
                        "count": 0
                      },
                      {
                        "bin_start": 15.54,
                        "bin_end": 18.019999999999996,
                        "count": 0
                      },
                      {
                        "bin_start": 18.019999999999996,
                        "bin_end": 20.5,
                        "count": 0
                      },
                      {
                        "bin_start": 20.5,
                        "bin_end": 22.979999999999997,
                        "count": 0
                      },
                      {
                        "bin_start": 22.979999999999997,
                        "bin_end": 25.459999999999994,
                        "count": 1
                      },
                      {
                        "bin_start": 25.459999999999994,
                        "bin_end": 27.939999999999998,
                        "count": 0
                      },
                      {
                        "bin_start": 27.939999999999998,
                        "bin_end": 30.419999999999995,
                        "count": 0
                      },
                      {
                        "bin_start": 30.419999999999995,
                        "bin_end": 32.9,
                        "count": 2
                      }
                    ],
                    "categories": null
                  }
                },
                {
                  "name": "Filipino",
                  "dtype": "int64",
                  "stats": {
                    "unique_count": 5,
                    "nan_count": 0,
                    "min": "5",
                    "max": "484",
                    "histogram": [
                      {
                        "bin_start": 5,
                        "bin_end": 52.9,
                        "count": 2
                      },
                      {
                        "bin_start": 52.9,
                        "bin_end": 100.8,
                        "count": 1
                      },
                      {
                        "bin_start": 100.8,
                        "bin_end": 148.7,
                        "count": 0
                      },
                      {
                        "bin_start": 148.7,
                        "bin_end": 196.6,
                        "count": 0
                      },
                      {
                        "bin_start": 196.6,
                        "bin_end": 244.5,
                        "count": 0
                      },
                      {
                        "bin_start": 244.5,
                        "bin_end": 292.4,
                        "count": 0
                      },
                      {
                        "bin_start": 292.4,
                        "bin_end": 340.3,
                        "count": 0
                      },
                      {
                        "bin_start": 340.3,
                        "bin_end": 388.2,
                        "count": 0
                      },
                      {
                        "bin_start": 388.2,
                        "bin_end": 436.09999999999997,
                        "count": 1
                      },
                      {
                        "bin_start": 436.09999999999997,
                        "bin_end": 484,
                        "count": 1
                      }
                    ],
                    "categories": null
                  }
                },
                {
                  "name": "Filipino (%)",
                  "dtype": "float64",
                  "stats": {
                    "unique_count": 4,
                    "nan_count": 0,
                    "min": "0.8",
                    "max": "4.6",
                    "histogram": [
                      {
                        "bin_start": 0.8,
                        "bin_end": 1.1800000000000002,
                        "count": 2
                      },
                      {
                        "bin_start": 1.1800000000000002,
                        "bin_end": 1.56,
                        "count": 1
                      },
                      {
                        "bin_start": 1.56,
                        "bin_end": 1.9400000000000002,
                        "count": 0
                      },
                      {
                        "bin_start": 1.9400000000000002,
                        "bin_end": 2.3200000000000003,
                        "count": 0
                      },
                      {
                        "bin_start": 2.3200000000000003,
                        "bin_end": 2.7,
                        "count": 0
                      },
                      {
                        "bin_start": 2.7,
                        "bin_end": 3.08,
                        "count": 0
                      },
                      {
                        "bin_start": 3.08,
                        "bin_end": 3.46,
                        "count": 0
                      },
                      {
                        "bin_start": 3.46,
                        "bin_end": 3.84,
                        "count": 0
                      },
                      {
                        "bin_start": 3.84,
                        "bin_end": 4.22,
                        "count": 0
                      },
                      {
                        "bin_start": 4.22,
                        "bin_end": 4.6,
                        "count": 2
                      }
                    ],
                    "categories": null
                  }
                },
                {
                  "name": "Hispanic",
                  "dtype": "int64",
                  "stats": {
                    "unique_count": 5,
                    "nan_count": 0,
                    "min": "126",
                    "max": "2331",
                    "histogram": [
                      {
                        "bin_start": 126,
                        "bin_end": 346.5,
                        "count": 1
                      },
                      {
                        "bin_start": 346.5,
                        "bin_end": 567,
                        "count": 0
                      },
                      {
                        "bin_start": 567,
                        "bin_end": 787.5,
                        "count": 1
                      },
                      {
                        "bin_start": 787.5,
                        "bin_end": 1008,
                        "count": 0
                      },
                      {
                        "bin_start": 1008,
                        "bin_end": 1228.5,
                        "count": 0
                      },
                      {
                        "bin_start": 1228.5,
                        "bin_end": 1449,
                        "count": 0
                      },
                      {
                        "bin_start": 1449,
                        "bin_end": 1669.5,
                        "count": 0
                      },
                      {
                        "bin_start": 1669.5,
                        "bin_end": 1890,
                        "count": 1
                      },
                      {
                        "bin_start": 1890,
                        "bin_end": 2110.5,
                        "count": 1
                      },
                      {
                        "bin_start": 2110.5,
                        "bin_end": 2331,
                        "count": 1
                      }
                    ],
                    "categories": null
                  }
                },
                {
                  "name": "Hispanic (%)",
                  "dtype": "float64",
                  "stats": {
                    "unique_count": 5,
                    "nan_count": 0,
                    "min": "17.2",
                    "max": "24.6",
                    "histogram": [
                      {
                        "bin_start": 17.2,
                        "bin_end": 17.939999999999998,
                        "count": 2
                      },
                      {
                        "bin_start": 17.939999999999998,
                        "bin_end": 18.68,
                        "count": 0
                      },
                      {
                        "bin_start": 18.68,
                        "bin_end": 19.42,
                        "count": 0
                      },
                      {
                        "bin_start": 19.42,
                        "bin_end": 20.16,
                        "count": 0
                      },
                      {
                        "bin_start": 20.16,
                        "bin_end": 20.9,
                        "count": 0
                      },
                      {
                        "bin_start": 20.9,
                        "bin_end": 21.64,
                        "count": 1
                      },
                      {
                        "bin_start": 21.64,
                        "bin_end": 22.380000000000003,
                        "count": 0
                      },
                      {
                        "bin_start": 22.380000000000003,
                        "bin_end": 23.12,
                        "count": 1
                      },
                      {
                        "bin_start": 23.12,
                        "bin_end": 23.86,
                        "count": 0
                      },
                      {
                        "bin_start": 23.86,
                        "bin_end": 24.6,
                        "count": 1
                      }
                    ],
                    "categories": null
                  }
                },
                {
                  "name": "Pacific Islander",
                  "dtype": "int64",
                  "stats": {
                    "unique_count": 4,
                    "nan_count": 0,
                    "min": "4",
                    "max": "52",
                    "histogram": [
                      {
                        "bin_start": 4,
                        "bin_end": 8.8,
                        "count": 2
                      },
                      {
                        "bin_start": 8.8,
                        "bin_end": 13.6,
                        "count": 0
                      },
                      {
                        "bin_start": 13.6,
                        "bin_end": 18.4,
                        "count": 1
                      },
                      {
                        "bin_start": 18.4,
                        "bin_end": 23.2,
                        "count": 0
                      },
                      {
                        "bin_start": 23.2,
                        "bin_end": 28,
                        "count": 0
                      },
                      {
                        "bin_start": 28,
                        "bin_end": 32.8,
                        "count": 0
                      },
                      {
                        "bin_start": 32.8,
                        "bin_end": 37.6,
                        "count": 0
                      },
                      {
                        "bin_start": 37.6,
                        "bin_end": 42.4,
                        "count": 1
                      },
                      {
                        "bin_start": 42.4,
                        "bin_end": 47.199999999999996,
                        "count": 0
                      },
                      {
                        "bin_start": 47.199999999999996,
                        "bin_end": 52,
                        "count": 1
                      }
                    ],
                    "categories": null
                  }
                },
                {
                  "name": "Pacific Islander (%)",
                  "dtype": "float64",
                  "stats": {
                    "unique_count": 5,
                    "nan_count": 0,
                    "min": "0.1",
                    "max": "0.7",
                    "histogram": [
                      {
                        "bin_start": 0.1,
                        "bin_end": 0.16,
                        "count": 1
                      },
                      {
                        "bin_start": 0.16,
                        "bin_end": 0.22,
                        "count": 1
                      },
                      {
                        "bin_start": 0.22,
                        "bin_end": 0.28,
                        "count": 0
                      },
                      {
                        "bin_start": 0.28,
                        "bin_end": 0.33999999999999997,
                        "count": 0
                      },
                      {
                        "bin_start": 0.33999999999999997,
                        "bin_end": 0.4,
                        "count": 0
                      },
                      {
                        "bin_start": 0.4,
                        "bin_end": 0.45999999999999996,
                        "count": 1
                      },
                      {
                        "bin_start": 0.45999999999999996,
                        "bin_end": 0.52,
                        "count": 1
                      },
                      {
                        "bin_start": 0.52,
                        "bin_end": 0.58,
                        "count": 0
                      },
                      {
                        "bin_start": 0.58,
                        "bin_end": 0.64,
                        "count": 0
                      },
                      {
                        "bin_start": 0.64,
                        "bin_end": 0.7,
                        "count": 1
                      }
                    ],
                    "categories": null
                  }
                },
                {
                  "name": "White",
                  "dtype": "int64",
                  "stats": {
                    "unique_count": 5,
                    "nan_count": 0,
                    "min": "76",
                    "max": "3733",
                    "histogram": [
                      {
                        "bin_start": 76,
                        "bin_end": 441.7,
                        "count": 1
                      },
                      {
                        "bin_start": 441.7,
                        "bin_end": 807.4,
                        "count": 0
                      },
                      {
                        "bin_start": 807.4,
                        "bin_end": 1173.1,
                        "count": 1
                      },
                      {
                        "bin_start": 1173.1,
                        "bin_end": 1538.8,
                        "count": 0
                      },
                      {
                        "bin_start": 1538.8,
                        "bin_end": 1904.5,
                        "count": 1
                      },
                      {
                        "bin_start": 1904.5,
                        "bin_end": 2270.2,
                        "count": 0
                      },
                      {
                        "bin_start": 2270.2,
                        "bin_end": 2635.9,
                        "count": 0
                      },
                      {
                        "bin_start": 2635.9,
                        "bin_end": 3001.6,
                        "count": 1
                      },
                      {
                        "bin_start": 3001.6,
                        "bin_end": 3367.2999999999997,
                        "count": 0
                      },
                      {
                        "bin_start": 3367.2999999999997,
                        "bin_end": 3733,
                        "count": 1
                      }
                    ],
                    "categories": null
                  }
                },
                {
                  "name": "White (%)",
                  "dtype": "float64",
                  "stats": {
                    "unique_count": 5,
                    "nan_count": 0,
                    "min": "12.7",
                    "max": "41.1",
                    "histogram": [
                      {
                        "bin_start": 12.7,
                        "bin_end": 15.54,
                        "count": 1
                      },
                      {
                        "bin_start": 15.54,
                        "bin_end": 18.38,
                        "count": 0
                      },
                      {
                        "bin_start": 18.38,
                        "bin_end": 21.22,
                        "count": 1
                      },
                      {
                        "bin_start": 21.22,
                        "bin_end": 24.060000000000002,
                        "count": 0
                      },
                      {
                        "bin_start": 24.060000000000002,
                        "bin_end": 26.9,
                        "count": 1
                      },
                      {
                        "bin_start": 26.9,
                        "bin_end": 29.740000000000002,
                        "count": 1
                      },
                      {
                        "bin_start": 29.740000000000002,
                        "bin_end": 32.58,
                        "count": 0
                      },
                      {
                        "bin_start": 32.58,
                        "bin_end": 35.42,
                        "count": 0
                      },
                      {
                        "bin_start": 35.42,
                        "bin_end": 38.260000000000005,
                        "count": 0
                      },
                      {
                        "bin_start": 38.260000000000005,
                        "bin_end": 41.1,
                        "count": 1
                      }
                    ],
                    "categories": null
                  }
                },
                {
                  "name": "Two or More Races",
                  "dtype": "int64",
                  "stats": {
                    "unique_count": 5,
                    "nan_count": 0,
                    "min": "56",
                    "max": "1596",
                    "histogram": [
                      {
                        "bin_start": 56,
                        "bin_end": 210,
                        "count": 1
                      },
                      {
                        "bin_start": 210,
                        "bin_end": 364,
                        "count": 0
                      },
                      {
                        "bin_start": 364,
                        "bin_end": 518,
                        "count": 1
                      },
                      {
                        "bin_start": 518,
                        "bin_end": 672,
                        "count": 0
                      },
                      {
                        "bin_start": 672,
                        "bin_end": 826,
                        "count": 0
                      },
                      {
                        "bin_start": 826,
                        "bin_end": 980,
                        "count": 1
                      },
                      {
                        "bin_start": 980,
                        "bin_end": 1134,
                        "count": 0
                      },
                      {
                        "bin_start": 1134,
                        "bin_end": 1288,
                        "count": 0
                      },
                      {
                        "bin_start": 1288,
                        "bin_end": 1442,
                        "count": 1
                      },
                      {
                        "bin_start": 1442,
                        "bin_end": 1596,
                        "count": 1
                      }
                    ],
                    "categories": null
                  }
                },
                {
                  "name": "Two or More Races (%)",
                  "dtype": "float64",
                  "stats": {
                    "unique_count": 5,
                    "nan_count": 0,
                    "min": "9.3",
                    "max": "15.3",
                    "histogram": [
                      {
                        "bin_start": 9.3,
                        "bin_end": 9.9,
                        "count": 1
                      },
                      {
                        "bin_start": 9.9,
                        "bin_end": 10.5,
                        "count": 1
                      },
                      {
                        "bin_start": 10.5,
                        "bin_end": 11.100000000000001,
                        "count": 0
                      },
                      {
                        "bin_start": 11.100000000000001,
                        "bin_end": 11.700000000000001,
                        "count": 0
                      },
                      {
                        "bin_start": 11.700000000000001,
                        "bin_end": 12.3,
                        "count": 0
                      },
                      {
                        "bin_start": 12.3,
                        "bin_end": 12.9,
                        "count": 0
                      },
                      {
                        "bin_start": 12.9,
                        "bin_end": 13.5,
                        "count": 0
                      },
                      {
                        "bin_start": 13.5,
                        "bin_end": 14.100000000000001,
                        "count": 1
                      },
                      {
                        "bin_start": 14.100000000000001,
                        "bin_end": 14.7,
                        "count": 0
                      },
                      {
                        "bin_start": 14.7,
                        "bin_end": 15.3,
                        "count": 2
                      }
                    ],
                    "categories": null
                  }
                },
                {
                  "name": "Not Reported",
                  "dtype": "int64",
                  "stats": {
                    "unique_count": 5,
                    "nan_count": 0,
                    "min": "9",
                    "max": "327",
                    "histogram": [
                      {
                        "bin_start": 9,
                        "bin_end": 40.8,
                        "count": 2
                      },
                      {
                        "bin_start": 40.8,
                        "bin_end": 72.6,
                        "count": 0
                      },
                      {
                        "bin_start": 72.6,
                        "bin_end": 104.4,
                        "count": 0
                      },
                      {
                        "bin_start": 104.4,
                        "bin_end": 136.2,
                        "count": 0
                      },
                      {
                        "bin_start": 136.2,
                        "bin_end": 168,
                        "count": 0
                      },
                      {
                        "bin_start": 168,
                        "bin_end": 199.8,
                        "count": 0
                      },
                      {
                        "bin_start": 199.8,
                        "bin_end": 231.6,
                        "count": 1
                      },
                      {
                        "bin_start": 231.6,
                        "bin_end": 263.4,
                        "count": 0
                      },
                      {
                        "bin_start": 263.4,
                        "bin_end": 295.2,
                        "count": 0
                      },
                      {
                        "bin_start": 295.2,
                        "bin_end": 327,
                        "count": 2
                      }
                    ],
                    "categories": null
                  }
                },
                {
                  "name": "Not Reported (%)",
                  "dtype": "float64",
                  "stats": {
                    "unique_count": 5,
                    "nan_count": 0,
                    "min": "0.1",
                    "max": "5.7",
                    "histogram": [
                      {
                        "bin_start": 0.1,
                        "bin_end": 0.66,
                        "count": 1
                      },
                      {
                        "bin_start": 0.66,
                        "bin_end": 1.2200000000000002,
                        "count": 0
                      },
                      {
                        "bin_start": 1.2200000000000002,
                        "bin_end": 1.7800000000000002,
                        "count": 0
                      },
                      {
                        "bin_start": 1.7800000000000002,
                        "bin_end": 2.3400000000000003,
                        "count": 1
                      },
                      {
                        "bin_start": 2.3400000000000003,
                        "bin_end": 2.9000000000000004,
                        "count": 0
                      },
                      {
                        "bin_start": 2.9000000000000004,
                        "bin_end": 3.4600000000000004,
                        "count": 2
                      },
                      {
                        "bin_start": 3.4600000000000004,
                        "bin_end": 4.0200000000000005,
                        "count": 0
                      },
                      {
                        "bin_start": 4.0200000000000005,
                        "bin_end": 4.58,
                        "count": 0
                      },
                      {
                        "bin_start": 4.58,
                        "bin_end": 5.140000000000001,
                        "count": 0
                      },
                      {
                        "bin_start": 5.140000000000001,
                        "bin_end": 5.7,
                        "count": 1
                      }
                    ],
                    "categories": null
                  }
                },
                {
                  "name": "English Learner",
                  "dtype": "int64",
                  "stats": {
                    "unique_count": 5,
                    "nan_count": 0,
                    "min": "98",
                    "max": "1266",
                    "histogram": [
                      {
                        "bin_start": 98,
                        "bin_end": 214.8,
                        "count": 1
                      },
                      {
                        "bin_start": 214.8,
                        "bin_end": 331.6,
                        "count": 0
                      },
                      {
                        "bin_start": 331.6,
                        "bin_end": 448.4,
                        "count": 0
                      },
                      {
                        "bin_start": 448.4,
                        "bin_end": 565.2,
                        "count": 1
                      },
                      {
                        "bin_start": 565.2,
                        "bin_end": 682,
                        "count": 1
                      },
                      {
                        "bin_start": 682,
                        "bin_end": 798.8,
                        "count": 0
                      },
                      {
                        "bin_start": 798.8,
                        "bin_end": 915.6,
                        "count": 1
                      },
                      {
                        "bin_start": 915.6,
                        "bin_end": 1032.4,
                        "count": 0
                      },
                      {
                        "bin_start": 1032.4,
                        "bin_end": 1149.2,
                        "count": 0
                      },
                      {
                        "bin_start": 1149.2,
                        "bin_end": 1266,
                        "count": 1
                      }
                    ],
                    "categories": null
                  }
                },
                {
                  "name": "English Learner (%)",
                  "dtype": "float64",
                  "stats": {
                    "unique_count": 5,
                    "nan_count": 0,
                    "min": "6.5",
                    "max": "16.3",
                    "histogram": [
                      {
                        "bin_start": 6.5,
                        "bin_end": 7.48,
                        "count": 1
                      },
                      {
                        "bin_start": 7.48,
                        "bin_end": 8.46,
                        "count": 0
                      },
                      {
                        "bin_start": 8.46,
                        "bin_end": 9.440000000000001,
                        "count": 1
                      },
                      {
                        "bin_start": 9.440000000000001,
                        "bin_end": 10.42,
                        "count": 0
                      },
                      {
                        "bin_start": 10.42,
                        "bin_end": 11.4,
                        "count": 0
                      },
                      {
                        "bin_start": 11.4,
                        "bin_end": 12.38,
                        "count": 0
                      },
                      {
                        "bin_start": 12.38,
                        "bin_end": 13.36,
                        "count": 2
                      },
                      {
                        "bin_start": 13.36,
                        "bin_end": 14.34,
                        "count": 0
                      },
                      {
                        "bin_start": 14.34,
                        "bin_end": 15.32,
                        "count": 0
                      },
                      {
                        "bin_start": 15.32,
                        "bin_end": 16.3,
                        "count": 1
                      }
                    ],
                    "categories": null
                  }
                },
                {
                  "name": "Foster",
                  "dtype": "int64",
                  "stats": {
                    "unique_count": 4,
                    "nan_count": 0,
                    "min": "1",
                    "max": "32",
                    "histogram": [
                      {
                        "bin_start": 1,
                        "bin_end": 4.1,
                        "count": 2
                      },
                      {
                        "bin_start": 4.1,
                        "bin_end": 7.2,
                        "count": 1
                      },
                      {
                        "bin_start": 7.2,
                        "bin_end": 10.3,
                        "count": 0
                      },
                      {
                        "bin_start": 10.3,
                        "bin_end": 13.4,
                        "count": 0
                      },
                      {
                        "bin_start": 13.4,
                        "bin_end": 16.5,
                        "count": 0
                      },
                      {
                        "bin_start": 16.5,
                        "bin_end": 19.6,
                        "count": 0
                      },
                      {
                        "bin_start": 19.6,
                        "bin_end": 22.7,
                        "count": 0
                      },
                      {
                        "bin_start": 22.7,
                        "bin_end": 25.8,
                        "count": 0
                      },
                      {
                        "bin_start": 25.8,
                        "bin_end": 28.900000000000002,
                        "count": 1
                      },
                      {
                        "bin_start": 28.900000000000002,
                        "bin_end": 32,
                        "count": 1
                      }
                    ],
                    "categories": null
                  }
                },
                {
                  "name": "Foster (%)",
                  "dtype": "float64",
                  "stats": {
                    "unique_count": 5,
                    "nan_count": 0,
                    "min": "0.0",
                    "max": "0.4",
                    "histogram": [
                      {
                        "bin_start": 0,
                        "bin_end": 0.04,
                        "count": 1
                      },
                      {
                        "bin_start": 0.04,
                        "bin_end": 0.08,
                        "count": 0
                      },
                      {
                        "bin_start": 0.08,
                        "bin_end": 0.12,
                        "count": 1
                      },
                      {
                        "bin_start": 0.12,
                        "bin_end": 0.16,
                        "count": 0
                      },
                      {
                        "bin_start": 0.16,
                        "bin_end": 0.2,
                        "count": 0
                      },
                      {
                        "bin_start": 0.2,
                        "bin_end": 0.24,
                        "count": 1
                      },
                      {
                        "bin_start": 0.24,
                        "bin_end": 0.28,
                        "count": 0
                      },
                      {
                        "bin_start": 0.28,
                        "bin_end": 0.32,
                        "count": 1
                      },
                      {
                        "bin_start": 0.32,
                        "bin_end": 0.36,
                        "count": 0
                      },
                      {
                        "bin_start": 0.36,
                        "bin_end": 0.4,
                        "count": 1
                      }
                    ],
                    "categories": null
                  }
                },
                {
                  "name": "Homeless",
                  "dtype": "int64",
                  "stats": {
                    "unique_count": 5,
                    "nan_count": 0,
                    "min": "13",
                    "max": "150",
                    "histogram": [
                      {
                        "bin_start": 13,
                        "bin_end": 26.7,
                        "count": 2
                      },
                      {
                        "bin_start": 26.7,
                        "bin_end": 40.4,
                        "count": 0
                      },
                      {
                        "bin_start": 40.4,
                        "bin_end": 54.099999999999994,
                        "count": 0
                      },
                      {
                        "bin_start": 54.099999999999994,
                        "bin_end": 67.8,
                        "count": 0
                      },
                      {
                        "bin_start": 67.8,
                        "bin_end": 81.5,
                        "count": 0
                      },
                      {
                        "bin_start": 81.5,
                        "bin_end": 95.19999999999999,
                        "count": 1
                      },
                      {
                        "bin_start": 95.19999999999999,
                        "bin_end": 108.89999999999999,
                        "count": 0
                      },
                      {
                        "bin_start": 108.89999999999999,
                        "bin_end": 122.6,
                        "count": 0
                      },
                      {
                        "bin_start": 122.6,
                        "bin_end": 136.3,
                        "count": 1
                      },
                      {
                        "bin_start": 136.3,
                        "bin_end": 150,
                        "count": 1
                      }
                    ],
                    "categories": null
                  }
                },
                {
                  "name": "Homeless (%)",
                  "dtype": "float64",
                  "stats": {
                    "unique_count": 5,
                    "nan_count": 0,
                    "min": "0.7",
                    "max": "2.2",
                    "histogram": [
                      {
                        "bin_start": 0.7,
                        "bin_end": 0.85,
                        "count": 1
                      },
                      {
                        "bin_start": 0.85,
                        "bin_end": 1,
                        "count": 1
                      },
                      {
                        "bin_start": 1,
                        "bin_end": 1.15,
                        "count": 0
                      },
                      {
                        "bin_start": 1.15,
                        "bin_end": 1.3,
                        "count": 0
                      },
                      {
                        "bin_start": 1.3,
                        "bin_end": 1.4500000000000002,
                        "count": 1
                      },
                      {
                        "bin_start": 1.4500000000000002,
                        "bin_end": 1.6,
                        "count": 0
                      },
                      {
                        "bin_start": 1.6,
                        "bin_end": 1.7500000000000002,
                        "count": 1
                      },
                      {
                        "bin_start": 1.7500000000000002,
                        "bin_end": 1.9000000000000001,
                        "count": 0
                      },
                      {
                        "bin_start": 1.9000000000000001,
                        "bin_end": 2.05,
                        "count": 0
                      },
                      {
                        "bin_start": 2.05,
                        "bin_end": 2.2,
                        "count": 1
                      }
                    ],
                    "categories": null
                  }
                },
                {
                  "name": "Migrant",
                  "dtype": "int64",
                  "stats": {
                    "unique_count": 1,
                    "nan_count": 0,
                    "min": "0",
                    "max": "0",
                    "histogram": [
                      {
                        "bin_start": -0.5,
                        "bin_end": -0.4,
                        "count": 0
                      },
                      {
                        "bin_start": -0.4,
                        "bin_end": -0.3,
                        "count": 0
                      },
                      {
                        "bin_start": -0.3,
                        "bin_end": -0.19999999999999996,
                        "count": 0
                      },
                      {
                        "bin_start": -0.19999999999999996,
                        "bin_end": -0.09999999999999998,
                        "count": 0
                      },
                      {
                        "bin_start": -0.09999999999999998,
                        "bin_end": 0,
                        "count": 0
                      },
                      {
                        "bin_start": 0,
                        "bin_end": 0.10000000000000009,
                        "count": 5
                      },
                      {
                        "bin_start": 0.10000000000000009,
                        "bin_end": 0.20000000000000007,
                        "count": 0
                      },
                      {
                        "bin_start": 0.20000000000000007,
                        "bin_end": 0.30000000000000004,
                        "count": 0
                      },
                      {
                        "bin_start": 0.30000000000000004,
                        "bin_end": 0.4,
                        "count": 0
                      },
                      {
                        "bin_start": 0.4,
                        "bin_end": 0.5,
                        "count": 0
                      }
                    ],
                    "categories": null
                  }
                },
                {
                  "name": "Migrant (%)",
                  "dtype": "float64",
                  "stats": {
                    "unique_count": 1,
                    "nan_count": 0,
                    "min": "0.0",
                    "max": "0.0",
                    "histogram": [
                      {
                        "bin_start": -0.5,
                        "bin_end": -0.4,
                        "count": 0
                      },
                      {
                        "bin_start": -0.4,
                        "bin_end": -0.3,
                        "count": 0
                      },
                      {
                        "bin_start": -0.3,
                        "bin_end": -0.19999999999999996,
                        "count": 0
                      },
                      {
                        "bin_start": -0.19999999999999996,
                        "bin_end": -0.09999999999999998,
                        "count": 0
                      },
                      {
                        "bin_start": -0.09999999999999998,
                        "bin_end": 0,
                        "count": 0
                      },
                      {
                        "bin_start": 0,
                        "bin_end": 0.10000000000000009,
                        "count": 5
                      },
                      {
                        "bin_start": 0.10000000000000009,
                        "bin_end": 0.20000000000000007,
                        "count": 0
                      },
                      {
                        "bin_start": 0.20000000000000007,
                        "bin_end": 0.30000000000000004,
                        "count": 0
                      },
                      {
                        "bin_start": 0.30000000000000004,
                        "bin_end": 0.4,
                        "count": 0
                      },
                      {
                        "bin_start": 0.4,
                        "bin_end": 0.5,
                        "count": 0
                      }
                    ],
                    "categories": null
                  }
                },
                {
                  "name": "Students with Disabilities",
                  "dtype": "int64",
                  "stats": {
                    "unique_count": 5,
                    "nan_count": 0,
                    "min": "75",
                    "max": "1286",
                    "histogram": [
                      {
                        "bin_start": 75,
                        "bin_end": 196.1,
                        "count": 1
                      },
                      {
                        "bin_start": 196.1,
                        "bin_end": 317.2,
                        "count": 0
                      },
                      {
                        "bin_start": 317.2,
                        "bin_end": 438.29999999999995,
                        "count": 1
                      },
                      {
                        "bin_start": 438.29999999999995,
                        "bin_end": 559.4,
                        "count": 0
                      },
                      {
                        "bin_start": 559.4,
                        "bin_end": 680.5,
                        "count": 0
                      },
                      {
                        "bin_start": 680.5,
                        "bin_end": 801.5999999999999,
                        "count": 0
                      },
                      {
                        "bin_start": 801.5999999999999,
                        "bin_end": 922.6999999999999,
                        "count": 0
                      },
                      {
                        "bin_start": 922.6999999999999,
                        "bin_end": 1043.8,
                        "count": 0
                      },
                      {
                        "bin_start": 1043.8,
                        "bin_end": 1164.8999999999999,
                        "count": 2
                      },
                      {
                        "bin_start": 1164.8999999999999,
                        "bin_end": 1286,
                        "count": 1
                      }
                    ],
                    "categories": null
                  }
                },
                {
                  "name": "Students with Disabilities (%)",
                  "dtype": "float64",
                  "stats": {
                    "unique_count": 5,
                    "nan_count": 0,
                    "min": "9.0",
                    "max": "12.5",
                    "histogram": [
                      {
                        "bin_start": 9,
                        "bin_end": 9.35,
                        "count": 1
                      },
                      {
                        "bin_start": 9.35,
                        "bin_end": 9.7,
                        "count": 0
                      },
                      {
                        "bin_start": 9.7,
                        "bin_end": 10.05,
                        "count": 0
                      },
                      {
                        "bin_start": 10.05,
                        "bin_end": 10.4,
                        "count": 0
                      },
                      {
                        "bin_start": 10.4,
                        "bin_end": 10.75,
                        "count": 0
                      },
                      {
                        "bin_start": 10.75,
                        "bin_end": 11.1,
                        "count": 1
                      },
                      {
                        "bin_start": 11.1,
                        "bin_end": 11.45,
                        "count": 0
                      },
                      {
                        "bin_start": 11.45,
                        "bin_end": 11.8,
                        "count": 0
                      },
                      {
                        "bin_start": 11.8,
                        "bin_end": 12.15,
                        "count": 1
                      },
                      {
                        "bin_start": 12.15,
                        "bin_end": 12.5,
                        "count": 2
                      }
                    ],
                    "categories": null
                  }
                },
                {
                  "name": "Socioeconomically Disadvantaged",
                  "dtype": "int64",
                  "stats": {
                    "unique_count": 5,
                    "nan_count": 0,
                    "min": "327",
                    "max": "4035",
                    "histogram": [
                      {
                        "bin_start": 327,
                        "bin_end": 697.8,
                        "count": 1
                      },
                      {
                        "bin_start": 697.8,
                        "bin_end": 1068.6,
                        "count": 0
                      },
                      {
                        "bin_start": 1068.6,
                        "bin_end": 1439.4,
                        "count": 1
                      },
                      {
                        "bin_start": 1439.4,
                        "bin_end": 1810.2,
                        "count": 0
                      },
                      {
                        "bin_start": 1810.2,
                        "bin_end": 2181,
                        "count": 0
                      },
                      {
                        "bin_start": 2181,
                        "bin_end": 2551.8,
                        "count": 1
                      },
                      {
                        "bin_start": 2551.8,
                        "bin_end": 2922.6,
                        "count": 0
                      },
                      {
                        "bin_start": 2922.6,
                        "bin_end": 3293.4,
                        "count": 0
                      },
                      {
                        "bin_start": 3293.4,
                        "bin_end": 3664.2000000000003,
                        "count": 0
                      },
                      {
                        "bin_start": 3664.2000000000003,
                        "bin_end": 4035,
                        "count": 2
                      }
                    ],
                    "categories": null
                  }
                },
                {
                  "name": "Socioeconomically Disadvantaged (%)",
                  "dtype": "float64",
                  "stats": {
                    "unique_count": 5,
                    "nan_count": 0,
                    "min": "27.6",
                    "max": "54.5",
                    "histogram": [
                      {
                        "bin_start": 27.6,
                        "bin_end": 30.290000000000003,
                        "count": 1
                      },
                      {
                        "bin_start": 30.290000000000003,
                        "bin_end": 32.980000000000004,
                        "count": 1
                      },
                      {
                        "bin_start": 32.980000000000004,
                        "bin_end": 35.67,
                        "count": 0
                      },
                      {
                        "bin_start": 35.67,
                        "bin_end": 38.36,
                        "count": 1
                      },
                      {
                        "bin_start": 38.36,
                        "bin_end": 41.05,
                        "count": 1
                      },
                      {
                        "bin_start": 41.05,
                        "bin_end": 43.74,
                        "count": 0
                      },
                      {
                        "bin_start": 43.74,
                        "bin_end": 46.43,
                        "count": 0
                      },
                      {
                        "bin_start": 46.43,
                        "bin_end": 49.120000000000005,
                        "count": 0
                      },
                      {
                        "bin_start": 49.120000000000005,
                        "bin_end": 51.81,
                        "count": 0
                      },
                      {
                        "bin_start": 51.81,
                        "bin_end": 54.5,
                        "count": 1
                      }
                    ],
                    "categories": null
                  }
                },
                {
                  "name": "_deepnote_index_column",
                  "dtype": "int64"
                }
              ],
              "row_count": 5,
              "preview_row_count": 5,
              "rows": [
                {
                  "Fed ID": 601770,
                  "District Code": 61119,
                  "CDS Code": 1611190000000,
                  "County Name": "Alameda",
                  "District Name": "Alameda Unified",
                  "District Type": "Unified",
                  "Grade Low": "KG",
                  "Grade High": 12,
                  "Grade Low Census": "KG",
                  "Grade High Census": 12,
                  "Assistance Status": "General Assistance",
                  "Locale": "21 - Suburban, Large",
                  "Enroll Total": 10557,
                  "Enroll Charter": 1496,
                  "Enroll Non Charter": 9061,
                  "African American": 748,
                  "African American (%)": 7.1,
                  "American Indian": 25,
                  "American Indian (%)": 0.2,
                  "Asian": 2610,
                  "Asian (%)": 24.7,
                  "Filipino": 484,
                  "Filipino (%)": 4.6,
                  "Hispanic": 1878,
                  "Hispanic (%)": 17.8,
                  "Pacific Islander": 52,
                  "Pacific Islander (%)": 0.5,
                  "White": 2844,
                  "White (%)": 26.9,
                  "Two or More Races": 1596,
                  "Two or More Races (%)": 15.1,
                  "Not Reported": 320,
                  "Not Reported (%)": 3,
                  "English Learner": 906,
                  "English Learner (%)": 8.6,
                  "Foster": 27,
                  "Foster (%)": 0.3,
                  "Homeless": 91,
                  "Homeless (%)": 0.9,
                  "Migrant": 0,
                  "Migrant (%)": 0,
                  "Students with Disabilities": 1286,
                  "Students with Disabilities (%)": 12.2,
                  "Socioeconomically Disadvantaged": 4035,
                  "Socioeconomically Disadvantaged (%)": 38.2,
                  "_deepnote_index_column": 0
                },
                {
                  "Fed ID": 601860,
                  "District Code": 61127,
                  "CDS Code": 1611270000000,
                  "County Name": "Alameda",
                  "District Name": "Albany City Unified",
                  "District Type": "Unified",
                  "Grade Low": "KG",
                  "Grade High": 12,
                  "Grade Low Census": "KG",
                  "Grade High Census": 12,
                  "Assistance Status": "General Assistance",
                  "Locale": "21 - Suburban, Large",
                  "Enroll Total": 3574,
                  "Enroll Charter": 0,
                  "Enroll Non Charter": 3574,
                  "African American": 152,
                  "African American (%)": 4.3,
                  "American Indian": 10,
                  "American Indian (%)": 0.3,
                  "Asian": 1130,
                  "Asian (%)": 31.6,
                  "Filipino": 51,
                  "Filipino (%)": 1.4,
                  "Hispanic": 616,
                  "Hispanic (%)": 17.2,
                  "Pacific Islander": 4,
                  "Pacific Islander (%)": 0.1,
                  "White": 923,
                  "White (%)": 25.8,
                  "Two or More Races": 483,
                  "Two or More Races (%)": 13.5,
                  "Not Reported": 205,
                  "Not Reported (%)": 5.7,
                  "English Learner": 456,
                  "English Learner (%)": 12.8,
                  "Foster": 1,
                  "Foster (%)": 0,
                  "Homeless": 24,
                  "Homeless (%)": 0.7,
                  "Migrant": 0,
                  "Migrant (%)": 0,
                  "Students with Disabilities": 320,
                  "Students with Disabilities (%)": 9,
                  "Socioeconomically Disadvantaged": 1122,
                  "Socioeconomically Disadvantaged (%)": 31.4,
                  "_deepnote_index_column": 1
                },
                {
                  "Fed ID": 604740,
                  "District Code": 61143,
                  "CDS Code": 1611430000000,
                  "County Name": "Alameda",
                  "District Name": "Berkeley Unified",
                  "District Type": "Unified",
                  "Grade Low": "KG",
                  "Grade High": 12,
                  "Grade Low Census": "KG",
                  "Grade High Census": 12,
                  "Assistance Status": "General Assistance",
                  "Locale": "12 - City, Midsize ",
                  "Enroll Total": 9077,
                  "Enroll Charter": 0,
                  "Enroll Non Charter": 9077,
                  "African American": 1052,
                  "African American (%)": 11.6,
                  "American Indian": 21,
                  "American Indian (%)": 0.2,
                  "Asian": 736,
                  "Asian (%)": 8.1,
                  "Filipino": 73,
                  "Filipino (%)": 0.8,
                  "Hispanic": 2045,
                  "Hispanic (%)": 22.5,
                  "Pacific Islander": 16,
                  "Pacific Islander (%)": 0.2,
                  "White": 3733,
                  "White (%)": 41.1,
                  "Two or More Races": 1392,
                  "Two or More Races (%)": 15.3,
                  "Not Reported": 9,
                  "Not Reported (%)": 0.1,
                  "English Learner": 594,
                  "English Learner (%)": 6.5,
                  "Foster": 32,
                  "Foster (%)": 0.4,
                  "Homeless": 150,
                  "Homeless (%)": 1.7,
                  "Migrant": 0,
                  "Migrant (%)": 0,
                  "Students with Disabilities": 1092,
                  "Students with Disabilities (%)": 12,
                  "Socioeconomically Disadvantaged": 2508,
                  "Socioeconomically Disadvantaged (%)": 27.6,
                  "_deepnote_index_column": 2
                },
                {
                  "Fed ID": 607800,
                  "District Code": 61150,
                  "CDS Code": 1611500000000,
                  "County Name": "Alameda",
                  "District Name": "Castro Valley Unified",
                  "District Type": "Unified",
                  "Grade Low": "KG",
                  "Grade High": 12,
                  "Grade Low Census": "KG",
                  "Grade High Census": 12,
                  "Assistance Status": "General Assistance",
                  "Locale": "21 - Suburban, Large",
                  "Enroll Total": 9489,
                  "Enroll Charter": 0,
                  "Enroll Non Charter": 9489,
                  "African American": 406,
                  "African American (%)": 4.3,
                  "American Indian": 7,
                  "American Indian (%)": 0.1,
                  "Asian": 3119,
                  "Asian (%)": 32.9,
                  "Filipino": 423,
                  "Filipino (%)": 4.5,
                  "Hispanic": 2331,
                  "Hispanic (%)": 24.6,
                  "Pacific Islander": 40,
                  "Pacific Islander (%)": 0.4,
                  "White": 1862,
                  "White (%)": 19.6,
                  "Two or More Races": 974,
                  "Two or More Races (%)": 10.3,
                  "Not Reported": 327,
                  "Not Reported (%)": 3.4,
                  "English Learner": 1266,
                  "English Learner (%)": 13.3,
                  "Foster": 5,
                  "Foster (%)": 0.1,
                  "Homeless": 135,
                  "Homeless (%)": 1.4,
                  "Migrant": 0,
                  "Migrant (%)": 0,
                  "Students with Disabilities": 1048,
                  "Students with Disabilities (%)": 11,
                  "Socioeconomically Disadvantaged": 3686,
                  "Socioeconomically Disadvantaged (%)": 38.8,
                  "_deepnote_index_column": 3
                },
                {
                  "Fed ID": 612630,
                  "District Code": 61168,
                  "CDS Code": 1611680000000,
                  "County Name": "Alameda",
                  "District Name": "Emery Unified",
                  "District Type": "Unified",
                  "Grade Low": "KG",
                  "Grade High": 12,
                  "Grade Low Census": "KG",
                  "Grade High Census": 12,
                  "Assistance Status": "General Assistance",
                  "Locale": "21 - Suburban, Large",
                  "Enroll Total": 600,
                  "Enroll Charter": 0,
                  "Enroll Non Charter": 600,
                  "African American": 265,
                  "African American (%)": 44.2,
                  "American Indian": 0,
                  "American Indian (%)": 0,
                  "Asian": 56,
                  "Asian (%)": 9.3,
                  "Filipino": 5,
                  "Filipino (%)": 0.8,
                  "Hispanic": 126,
                  "Hispanic (%)": 21,
                  "Pacific Islander": 4,
                  "Pacific Islander (%)": 0.7,
                  "White": 76,
                  "White (%)": 12.7,
                  "Two or More Races": 56,
                  "Two or More Races (%)": 9.3,
                  "Not Reported": 12,
                  "Not Reported (%)": 2,
                  "English Learner": 98,
                  "English Learner (%)": 16.3,
                  "Foster": 1,
                  "Foster (%)": 0.2,
                  "Homeless": 13,
                  "Homeless (%)": 2.2,
                  "Migrant": 0,
                  "Migrant (%)": 0,
                  "Students with Disabilities": 75,
                  "Students with Disabilities (%)": 12.5,
                  "Socioeconomically Disadvantaged": 327,
                  "Socioeconomically Disadvantaged (%)": 54.5,
                  "_deepnote_index_column": 4
                }
              ],
              "type": "dataframe"
            },
            "text/plain": "   Fed ID  District Code       CDS Code County Name          District Name  \\\n0  601770          61119  1611190000000     Alameda        Alameda Unified   \n1  601860          61127  1611270000000     Alameda    Albany City Unified   \n2  604740          61143  1611430000000     Alameda       Berkeley Unified   \n3  607800          61150  1611500000000     Alameda  Castro Valley Unified   \n4  612630          61168  1611680000000     Alameda          Emery Unified   \n\n  District Type Grade Low  Grade High Grade Low Census  Grade High Census  \\\n0       Unified        KG          12               KG                 12   \n1       Unified        KG          12               KG                 12   \n2       Unified        KG          12               KG                 12   \n3       Unified        KG          12               KG                 12   \n4       Unified        KG          12               KG                 12   \n\n   ... Foster Foster (%)  Homeless  Homeless (%)  Migrant  Migrant (%)  \\\n0  ...     27        0.3        91           0.9        0          0.0   \n1  ...      1        0.0        24           0.7        0          0.0   \n2  ...     32        0.4       150           1.7        0          0.0   \n3  ...      5        0.1       135           1.4        0          0.0   \n4  ...      1        0.2        13           2.2        0          0.0   \n\n   Students with Disabilities  Students with Disabilities (%)  \\\n0                        1286                            12.2   \n1                         320                             9.0   \n2                        1092                            12.0   \n3                        1048                            11.0   \n4                          75                            12.5   \n\n   Socioeconomically Disadvantaged  Socioeconomically Disadvantaged (%)  \n0                             4035                                 38.2  \n1                             1122                                 31.4  \n2                             2508                                 27.6  \n3                             3686                                 38.8  \n4                              327                                 54.5  \n\n[5 rows x 45 columns]",
            "text/html": "<div>\n<style scoped>\n    .dataframe tbody tr th:only-of-type {\n        vertical-align: middle;\n    }\n\n    .dataframe tbody tr th {\n        vertical-align: top;\n    }\n\n    .dataframe thead th {\n        text-align: right;\n    }\n</style>\n<table border=\"1\" class=\"dataframe\">\n  <thead>\n    <tr style=\"text-align: right;\">\n      <th></th>\n      <th>Fed ID</th>\n      <th>District Code</th>\n      <th>CDS Code</th>\n      <th>County Name</th>\n      <th>District Name</th>\n      <th>District Type</th>\n      <th>Grade Low</th>\n      <th>Grade High</th>\n      <th>Grade Low Census</th>\n      <th>Grade High Census</th>\n      <th>...</th>\n      <th>Foster</th>\n      <th>Foster (%)</th>\n      <th>Homeless</th>\n      <th>Homeless (%)</th>\n      <th>Migrant</th>\n      <th>Migrant (%)</th>\n      <th>Students with Disabilities</th>\n      <th>Students with Disabilities (%)</th>\n      <th>Socioeconomically Disadvantaged</th>\n      <th>Socioeconomically Disadvantaged (%)</th>\n    </tr>\n  </thead>\n  <tbody>\n    <tr>\n      <th>0</th>\n      <td>601770</td>\n      <td>61119</td>\n      <td>1611190000000</td>\n      <td>Alameda</td>\n      <td>Alameda Unified</td>\n      <td>Unified</td>\n      <td>KG</td>\n      <td>12</td>\n      <td>KG</td>\n      <td>12</td>\n      <td>...</td>\n      <td>27</td>\n      <td>0.3</td>\n      <td>91</td>\n      <td>0.9</td>\n      <td>0</td>\n      <td>0.0</td>\n      <td>1286</td>\n      <td>12.2</td>\n      <td>4035</td>\n      <td>38.2</td>\n    </tr>\n    <tr>\n      <th>1</th>\n      <td>601860</td>\n      <td>61127</td>\n      <td>1611270000000</td>\n      <td>Alameda</td>\n      <td>Albany City Unified</td>\n      <td>Unified</td>\n      <td>KG</td>\n      <td>12</td>\n      <td>KG</td>\n      <td>12</td>\n      <td>...</td>\n      <td>1</td>\n      <td>0.0</td>\n      <td>24</td>\n      <td>0.7</td>\n      <td>0</td>\n      <td>0.0</td>\n      <td>320</td>\n      <td>9.0</td>\n      <td>1122</td>\n      <td>31.4</td>\n    </tr>\n    <tr>\n      <th>2</th>\n      <td>604740</td>\n      <td>61143</td>\n      <td>1611430000000</td>\n      <td>Alameda</td>\n      <td>Berkeley Unified</td>\n      <td>Unified</td>\n      <td>KG</td>\n      <td>12</td>\n      <td>KG</td>\n      <td>12</td>\n      <td>...</td>\n      <td>32</td>\n      <td>0.4</td>\n      <td>150</td>\n      <td>1.7</td>\n      <td>0</td>\n      <td>0.0</td>\n      <td>1092</td>\n      <td>12.0</td>\n      <td>2508</td>\n      <td>27.6</td>\n    </tr>\n    <tr>\n      <th>3</th>\n      <td>607800</td>\n      <td>61150</td>\n      <td>1611500000000</td>\n      <td>Alameda</td>\n      <td>Castro Valley Unified</td>\n      <td>Unified</td>\n      <td>KG</td>\n      <td>12</td>\n      <td>KG</td>\n      <td>12</td>\n      <td>...</td>\n      <td>5</td>\n      <td>0.1</td>\n      <td>135</td>\n      <td>1.4</td>\n      <td>0</td>\n      <td>0.0</td>\n      <td>1048</td>\n      <td>11.0</td>\n      <td>3686</td>\n      <td>38.8</td>\n    </tr>\n    <tr>\n      <th>4</th>\n      <td>612630</td>\n      <td>61168</td>\n      <td>1611680000000</td>\n      <td>Alameda</td>\n      <td>Emery Unified</td>\n      <td>Unified</td>\n      <td>KG</td>\n      <td>12</td>\n      <td>KG</td>\n      <td>12</td>\n      <td>...</td>\n      <td>1</td>\n      <td>0.2</td>\n      <td>13</td>\n      <td>2.2</td>\n      <td>0</td>\n      <td>0.0</td>\n      <td>75</td>\n      <td>12.5</td>\n      <td>327</td>\n      <td>54.5</td>\n    </tr>\n  </tbody>\n</table>\n<p>5 rows × 45 columns</p>\n</div>"
          },
          "metadata": {},
          "output_type": "display_data"
        }
      ],
      "outputs_reference": null,
      "content_dependencies": null
    },
    {
      "cell_type": "markdown",
      "metadata": {
        "id": "J542owVwJuxD",
        "deepnote_app_block_order": 11,
        "deepnote_app_block_visible": true,
        "deepnote_app_block_group_id": null,
        "cell_id": "37ca8f02c968488f8ce31833e28bbc6d",
        "deepnote_cell_type": "markdown"
      },
      "source": "# 2.0 Data Cleaning",
      "block_group": "e8eac8345d5d46ea9dc66e916aeb4fbb"
    },
    {
      "cell_type": "markdown",
      "metadata": {
        "id": "1p1_lOSwJ_sO",
        "deepnote_app_block_order": 12,
        "deepnote_app_block_visible": true,
        "deepnote_app_block_group_id": null,
        "cell_id": "a0f1f242ea6a461c9467526f0843a73e",
        "deepnote_cell_type": "markdown"
      },
      "source": "### 2.1 Check for Column Types & NaN Values",
      "block_group": "213751990af645c8908689f30574dd34"
    },
    {
      "cell_type": "code",
      "metadata": {
        "id": "sTp0Kee4JudJ",
        "colab": {
          "height": 1000,
          "base_uri": "https://localhost:8080/"
        },
        "outputId": "57304978-c1f0-4bb2-f727-25bdb2372bad",
        "source_hash": "89388626",
        "execution_start": 1759790535918,
        "execution_millis": 0,
        "execution_context_id": "f1ca50dd-93b4-4efd-8fa9-6064dddd03f8",
        "deepnote_app_block_order": 13,
        "deepnote_app_block_visible": true,
        "deepnote_app_block_group_id": null,
        "deepnote_app_is_code_hidden": true,
        "deepnote_app_is_output_hidden": false,
        "cell_id": "23fc75e9cf704500a0929992bc3014e3",
        "deepnote_cell_type": "code"
      },
      "source": "display(expense_df.info())\ndisplay(district_df.info())",
      "block_group": "1985f6f722134c38950df5c4f13059ec",
      "execution_count": 4,
      "outputs": [
        {
          "name": "stdout",
          "text": "<class 'pandas.core.frame.DataFrame'>\nRangeIndex: 933 entries, 0 to 932\nData columns (total 6 columns):\n #   Column           Non-Null Count  Dtype  \n---  ------           --------------  -----  \n 0   District Code    933 non-null    int64  \n 1   District Name    933 non-null    object \n 2   EDP 365          933 non-null    float64\n 3   Expense ADA      933 non-null    float64\n 4   Expense per ADA  933 non-null    float64\n 5   LEA Type         933 non-null    object \ndtypes: float64(3), int64(1), object(2)\nmemory usage: 43.9+ KB\n",
          "output_type": "stream"
        },
        {
          "data": {
            "text/plain": "None"
          },
          "metadata": {},
          "output_type": "display_data"
        },
        {
          "name": "stdout",
          "text": "<class 'pandas.core.frame.DataFrame'>\nRangeIndex: 938 entries, 0 to 937\nData columns (total 45 columns):\n #   Column                               Non-Null Count  Dtype  \n---  ------                               --------------  -----  \n 0   Fed ID                               938 non-null    int64  \n 1   District Code                        938 non-null    int64  \n 2   CDS Code                             938 non-null    int64  \n 3   County Name                          938 non-null    object \n 4   District Name                        938 non-null    object \n 5   District Type                        938 non-null    object \n 6   Grade Low                            938 non-null    object \n 7   Grade High                           938 non-null    int64  \n 8   Grade Low Census                     938 non-null    object \n 9   Grade High Census                    938 non-null    int64  \n 10  Assistance Status                    930 non-null    object \n 11  Locale                               938 non-null    object \n 12  Enroll Total                         938 non-null    int64  \n 13  Enroll Charter                       938 non-null    int64  \n 14  Enroll Non Charter                   938 non-null    int64  \n 15  African American                     938 non-null    int64  \n 16  African American (%)                 938 non-null    float64\n 17  American Indian                      938 non-null    int64  \n 18  American Indian (%)                  938 non-null    float64\n 19  Asian                                938 non-null    int64  \n 20  Asian (%)                            938 non-null    float64\n 21  Filipino                             938 non-null    int64  \n 22  Filipino (%)                         938 non-null    float64\n 23  Hispanic                             938 non-null    int64  \n 24  Hispanic (%)                         938 non-null    float64\n 25  Pacific Islander                     938 non-null    int64  \n 26  Pacific Islander (%)                 938 non-null    float64\n 27  White                                938 non-null    int64  \n 28  White (%)                            938 non-null    float64\n 29  Two or More Races                    938 non-null    int64  \n 30  Two or More Races (%)                938 non-null    float64\n 31  Not Reported                         938 non-null    int64  \n 32  Not Reported (%)                     938 non-null    float64\n 33  English Learner                      938 non-null    int64  \n 34  English Learner (%)                  938 non-null    float64\n 35  Foster                               938 non-null    int64  \n 36  Foster (%)                           938 non-null    float64\n 37  Homeless                             938 non-null    int64  \n 38  Homeless (%)                         938 non-null    float64\n 39  Migrant                              938 non-null    int64  \n 40  Migrant (%)                          938 non-null    float64\n 41  Students with Disabilities           938 non-null    int64  \n 42  Students with Disabilities (%)       938 non-null    float64\n 43  Socioeconomically Disadvantaged      938 non-null    int64  \n 44  Socioeconomically Disadvantaged (%)  938 non-null    float64\ndtypes: float64(15), int64(23), object(7)\nmemory usage: 329.9+ KB\n",
          "output_type": "stream"
        },
        {
          "data": {
            "text/plain": "None"
          },
          "metadata": {},
          "output_type": "display_data"
        }
      ],
      "outputs_reference": null,
      "content_dependencies": null
    },
    {
      "cell_type": "markdown",
      "metadata": {
        "id": "hYNQzrK0J8-v",
        "deepnote_app_block_order": 14,
        "deepnote_app_block_visible": true,
        "deepnote_app_block_group_id": null,
        "cell_id": "7fef1bcce93e463fa7f74bbb009ad9b9",
        "deepnote_cell_type": "markdown"
      },
      "source": "### 2.2 Determining District Differences Between `expense_df` and `district_df`\n\n---\n\n",
      "block_group": "4a72397ddddc4cbabcd0c55adf42a856"
    },
    {
      "cell_type": "code",
      "metadata": {
        "id": "pLA6ZPPhJ95h",
        "colab": {
          "base_uri": "https://localhost:8080/"
        },
        "outputId": "c277fe05-33b8-4826-f101-00b86054acd3",
        "source_hash": "57560dcf",
        "execution_start": 1759790535968,
        "execution_millis": 0,
        "execution_context_id": "f1ca50dd-93b4-4efd-8fa9-6064dddd03f8",
        "deepnote_app_block_order": 15,
        "deepnote_app_block_visible": true,
        "deepnote_app_block_group_id": null,
        "deepnote_app_is_code_hidden": true,
        "deepnote_app_is_output_hidden": false,
        "cell_id": "3efa18ed10e147f0a083fbd758287447",
        "deepnote_cell_type": "code"
      },
      "source": "# Correcting the code to ensure len(codes_excluded) is 933\n\n# Get unique district codes from both dataframes\nexpense_codes = expense_df['District Code'].unique()\ndistrict_codes = district_df['District Code'].unique()\n\n# Find codes that are in district(938) and NOT in expense(933)\ncodes_excluded_from_expense = [code for code in district_codes if code not in expense_codes]\n\n# Find codes that are in expense(933) and NOT in district(938)\ncodes_excluded_from_district = [code for code in expense_codes if code not in district_codes]\n\n# Check excluded codes between two datasets\nprint(f'Number of Values not in Expense: {len(codes_excluded_from_expense)} \\nList: {codes_excluded_from_expense}')\nprint(district_df[district_df['District Code'].isin(codes_excluded_from_expense)]['District Name'].tolist())\nprint(f'Number of Values not in District: {len(codes_excluded_from_district)} \\nList: {codes_excluded_from_district}')\nprint(expense_df[expense_df['District Code'].isin(codes_excluded_from_district)]['District Name'].tolist())",
      "block_group": "5d4384097b524be080e666105facc7c1",
      "execution_count": 5,
      "outputs": [
        {
          "name": "stdout",
          "text": "Number of Values not in Expense: 10 \nList: [65557, 65599, 69815, 69823, 70854, 70862, 70912, 70920, 71167, 71175]\n['Arena Union Elementary', 'Point Arena Joint Union High', 'Santa Cruz City Elementary', 'Santa Cruz City High', 'Petaluma City Elementary', 'Petaluma Joint Union High', 'Santa Rosa Elementary', 'Santa Rosa High', 'Modesto City Elementary', 'Modesto City High']\nNumber of Values not in District: 5 \nList: [76349, 40261, 40246, 40253, 40717]\n['Arena Union Elementary/Point Arena Joint Union High ', 'Santa Cruz City Elementary/High', 'Petaluma City Elementary/Joint Union High', 'Santa Rosa City Schools', 'Modesto City Schools']\n",
          "output_type": "stream"
        }
      ],
      "outputs_reference": null,
      "content_dependencies": null
    },
    {
      "cell_type": "markdown",
      "metadata": {
        "id": "AARU4pOoKjXu",
        "deepnote_app_block_order": 16,
        "deepnote_app_block_visible": true,
        "deepnote_app_block_group_id": null,
        "cell_id": "fea3eceb7cb34fd68887f2b331e43897",
        "deepnote_cell_type": "markdown"
      },
      "source": "### 2.3 Consolidating Non-Unifed Districts in `district_df` into Unified Districts, as shown in `expense_df`",
      "block_group": "e5d8a14eaa1d4be2950bb76ba2c5c1ea"
    },
    {
      "cell_type": "markdown",
      "metadata": {
        "id": "ypDiyJR5LDL8",
        "deepnote_app_block_order": 17,
        "deepnote_app_block_visible": true,
        "deepnote_app_block_group_id": null,
        "cell_id": "c425aa9914dd4629a1b3cd15f778f677",
        "deepnote_cell_type": "markdown"
      },
      "source": "During EDA, we identified 10 districts in our District DF dataset that were not included in our Expense DF dataset.\n\n>`['Arena Union Elementary', 'Point Arena Joint Union High', 'Santa Cruz City Elementary', 'Santa Cruz City High', 'Petaluma City Elementary', 'Petaluma Joint Union High', 'Santa Rosa Elementary', 'Santa Rosa High', 'Modesto City Elementary', 'Modesto City High']`\n\nLikewise, 5 districts in our Expense DF dataset were not in our District DF dataset.\n\n>`['Arena Union Elementary/Point Arena Joint Union High ', 'Santa Cruz City Elementary/High', 'Petaluma City Elementary/Joint Union High', 'Santa Rosa City Schools', 'Modesto City Schools']`\n\nAfter comparing the two lists, we found the following:",
      "block_group": "8841a1b62c43419e8bb2745957de7b01"
    },
    {
      "cell_type": "code",
      "metadata": {
        "id": "o-OoIMOsK1mS",
        "colab": {
          "height": 206,
          "base_uri": "https://localhost:8080/"
        },
        "outputId": "9ae92492-f302-41ab-8a61-4dedb191330b",
        "source_hash": "6750c21e",
        "execution_start": 1759790536028,
        "execution_millis": 0,
        "execution_context_id": "f1ca50dd-93b4-4efd-8fa9-6064dddd03f8",
        "deepnote_app_block_order": 18,
        "deepnote_app_block_visible": true,
        "deepnote_app_block_group_id": null,
        "deepnote_app_is_code_hidden": true,
        "deepnote_app_is_output_hidden": false,
        "cell_id": "585216874326408786984d64e12e3225",
        "deepnote_cell_type": "code"
      },
      "source": "district_table_dict = {\n    'Arena Union Elementary': 'Arena Union Elementary/Point Arena Joint Union High ',\n    'Point Arena Joint Union High': 'Arena Union Elementary/Point Arena Joint Union High ',\n    'Santa Cruz City Elementary': 'Santa Cruz City Elementary/High',\n    'Santa Cruz City High': 'Santa Cruz City Elementary/High',\n    'Petaluma City Elementary': 'Petaluma City Elementary/Joint Union High',\n    'Petaluma Joint Union High': 'Petaluma City Elementary/Joint Union High',\n    'Santa Rosa Elementary': 'Santa Rosa City Schools',\n    'Santa Rosa High': 'Santa Rosa City Schools',\n    'Modesto City Elementary': 'Modesto City Schools',\n    'Modesto City High': 'Modesto City Schools'\n}\n\ndict_df = (\n    pd.DataFrame(list(district_table_dict.items()), columns=['Original Districts', 'Unified District Name'])\n    .groupby('Unified District Name')['Original Districts']\n    .apply(lambda x: ', '.join(x))\n    .reset_index()\n)\n\ndisplay(dict_df)",
      "block_group": "51e2bff7c91243ec943bbaa028f89edb",
      "execution_count": 6,
      "outputs": [
        {
          "data": {
            "application/vnd.deepnote.dataframe.v3+json": {
              "column_count": 2,
              "columns": [
                {
                  "name": "Unified District Name",
                  "dtype": "object",
                  "stats": {
                    "unique_count": 5,
                    "nan_count": 0,
                    "min": null,
                    "max": null,
                    "histogram": null,
                    "categories": [
                      {
                        "name": "Arena Union Elementary/Point Arena Joint Union High ",
                        "count": 1
                      },
                      {
                        "name": "Modesto City Schools",
                        "count": 1
                      },
                      {
                        "name": "3 others",
                        "count": 3
                      }
                    ]
                  }
                },
                {
                  "name": "Original Districts",
                  "dtype": "object",
                  "stats": {
                    "unique_count": 5,
                    "nan_count": 0,
                    "min": null,
                    "max": null,
                    "histogram": null,
                    "categories": [
                      {
                        "name": "Arena Union Elementary, Point Arena Joint Union High",
                        "count": 1
                      },
                      {
                        "name": "Modesto City Elementary, Modesto City High",
                        "count": 1
                      },
                      {
                        "name": "3 others",
                        "count": 3
                      }
                    ]
                  }
                },
                {
                  "name": "_deepnote_index_column",
                  "dtype": "int64"
                }
              ],
              "row_count": 5,
              "preview_row_count": 5,
              "rows": [
                {
                  "Unified District Name": "Arena Union Elementary/Point Arena Joint Union High ",
                  "Original Districts": "Arena Union Elementary, Point Arena Joint Union High",
                  "_deepnote_index_column": 0
                },
                {
                  "Unified District Name": "Modesto City Schools",
                  "Original Districts": "Modesto City Elementary, Modesto City High",
                  "_deepnote_index_column": 1
                },
                {
                  "Unified District Name": "Petaluma City Elementary/Joint Union High",
                  "Original Districts": "Petaluma City Elementary, Petaluma Joint Union High",
                  "_deepnote_index_column": 2
                },
                {
                  "Unified District Name": "Santa Cruz City Elementary/High",
                  "Original Districts": "Santa Cruz City Elementary, Santa Cruz City High",
                  "_deepnote_index_column": 3
                },
                {
                  "Unified District Name": "Santa Rosa City Schools",
                  "Original Districts": "Santa Rosa Elementary, Santa Rosa High",
                  "_deepnote_index_column": 4
                }
              ],
              "type": "dataframe"
            },
            "text/plain": "                               Unified District Name  \\\n0  Arena Union Elementary/Point Arena Joint Union...   \n1                               Modesto City Schools   \n2          Petaluma City Elementary/Joint Union High   \n3                    Santa Cruz City Elementary/High   \n4                            Santa Rosa City Schools   \n\n                                  Original Districts  \n0  Arena Union Elementary, Point Arena Joint Unio...  \n1         Modesto City Elementary, Modesto City High  \n2  Petaluma City Elementary, Petaluma Joint Union...  \n3   Santa Cruz City Elementary, Santa Cruz City High  \n4             Santa Rosa Elementary, Santa Rosa High  ",
            "text/html": "<div>\n<style scoped>\n    .dataframe tbody tr th:only-of-type {\n        vertical-align: middle;\n    }\n\n    .dataframe tbody tr th {\n        vertical-align: top;\n    }\n\n    .dataframe thead th {\n        text-align: right;\n    }\n</style>\n<table border=\"1\" class=\"dataframe\">\n  <thead>\n    <tr style=\"text-align: right;\">\n      <th></th>\n      <th>Unified District Name</th>\n      <th>Original Districts</th>\n    </tr>\n  </thead>\n  <tbody>\n    <tr>\n      <th>0</th>\n      <td>Arena Union Elementary/Point Arena Joint Union...</td>\n      <td>Arena Union Elementary, Point Arena Joint Unio...</td>\n    </tr>\n    <tr>\n      <th>1</th>\n      <td>Modesto City Schools</td>\n      <td>Modesto City Elementary, Modesto City High</td>\n    </tr>\n    <tr>\n      <th>2</th>\n      <td>Petaluma City Elementary/Joint Union High</td>\n      <td>Petaluma City Elementary, Petaluma Joint Union...</td>\n    </tr>\n    <tr>\n      <th>3</th>\n      <td>Santa Cruz City Elementary/High</td>\n      <td>Santa Cruz City Elementary, Santa Cruz City High</td>\n    </tr>\n    <tr>\n      <th>4</th>\n      <td>Santa Rosa City Schools</td>\n      <td>Santa Rosa Elementary, Santa Rosa High</td>\n    </tr>\n  </tbody>\n</table>\n</div>"
          },
          "metadata": {},
          "output_type": "display_data"
        }
      ],
      "outputs_reference": null,
      "content_dependencies": null
    },
    {
      "cell_type": "markdown",
      "metadata": {
        "id": "H154bIPQLk70",
        "deepnote_app_block_order": 19,
        "deepnote_app_block_visible": true,
        "deepnote_app_block_group_id": null,
        "cell_id": "0e0c28b55af547b49322aa69de25a12f",
        "deepnote_cell_type": "markdown"
      },
      "source": "### 2.4 Plan to Maintain Fidelity with 5 Unified Districts\n\nGiven that the Expense data used only the Unified District Names, we decided to do the following:\n\n1. Manually identify all 10 districts in the District DF dataframe\n2. Locales were the same across unified districts, so we kept them as is.\n3. Sum the values for the following district values:\n>`['Enroll Total',  'Enroll Charter', 'Enroll Non Charter']`\n4. Sum the values for all:\n>`['Race & Ethnicity', 'English Learners', 'Foster, 'Homeless', 'Migrant', 'Students with Disabilities', and 'Socioeconomically Disadvantaged']` columns for Count values only.\n5. Recalculate the percentages for all values in **Step 4**.\n\nUltimately, our final merged dataset will **only** contain the Unified District Names for these 10 specific districts.",
      "block_group": "2721970bc5ae405588af6e46c14a3c27"
    },
    {
      "cell_type": "markdown",
      "metadata": {
        "id": "nZtleiGUMXC0",
        "deepnote_app_block_order": 20,
        "deepnote_app_block_visible": true,
        "deepnote_app_block_group_id": null,
        "cell_id": "c56638ffc4554ee5ac7cdfcc722c53db",
        "deepnote_cell_type": "markdown"
      },
      "source": "### 2.5 Manually Merging 10 Districts into 5 Unified Districts & Merging District Expense & District Areas Datasets",
      "block_group": "d78313d04d204520a7024682b7ae667a"
    },
    {
      "cell_type": "code",
      "metadata": {
        "id": "IxC4DJKJMb2h",
        "colab": {
          "base_uri": "https://localhost:8080/"
        },
        "outputId": "066918a3-ca68-442c-f8a0-dc91f7ecbf30",
        "source_hash": "6fe41543",
        "execution_start": 1759790536078,
        "execution_millis": 0,
        "execution_context_id": "f1ca50dd-93b4-4efd-8fa9-6064dddd03f8",
        "deepnote_app_block_order": 21,
        "deepnote_app_block_visible": true,
        "deepnote_app_block_group_id": null,
        "deepnote_app_is_code_hidden": true,
        "deepnote_app_is_output_hidden": false,
        "cell_id": "e7c23fbf0fb8449b95e0283761249e62",
        "deepnote_cell_type": "code"
      },
      "source": "print('Unique District Codes in district_df: ', district_df['District Code'].nunique())\nprint('Unique District Codes in expense_df: ', expense_df['District Code'].nunique())\nprint('\\n')\nprint('5 Codes Excluded from district_df: ', codes_excluded_from_district)\nprint('10 Codes Excluded from expense_df: ',codes_excluded_from_expense)",
      "block_group": "b7272cc4cba24b3b84b01a23840ef24d",
      "execution_count": 7,
      "outputs": [
        {
          "name": "stdout",
          "text": "Unique District Codes in district_df:  938\nUnique District Codes in expense_df:  933\n\n\n5 Codes Excluded from district_df:  [76349, 40261, 40246, 40253, 40717]\n10 Codes Excluded from expense_df:  [65557, 65599, 69815, 69823, 70854, 70862, 70912, 70920, 71167, 71175]\n",
          "output_type": "stream"
        }
      ],
      "outputs_reference": null,
      "content_dependencies": null
    },
    {
      "cell_type": "markdown",
      "metadata": {
        "id": "BMpFSG6mMQlA",
        "deepnote_app_block_order": 22,
        "deepnote_app_block_visible": true,
        "deepnote_app_block_group_id": null,
        "cell_id": "486ec0943a0c4eacaf4f419ab53de982",
        "deepnote_cell_type": "markdown"
      },
      "source": "#### Step 1: Creating a Dictionary of District Codes to be Unified",
      "block_group": "5c47265d655340f191a0b611480996c0"
    },
    {
      "cell_type": "code",
      "metadata": {
        "id": "0shytwVXLgXe",
        "colab": {
          "base_uri": "https://localhost:8080/"
        },
        "outputId": "786efc53-5697-41e4-bfae-8ad716b03b57",
        "source_hash": "21dfdbe2",
        "execution_start": 1759790536138,
        "execution_millis": 0,
        "execution_context_id": "f1ca50dd-93b4-4efd-8fa9-6064dddd03f8",
        "deepnote_app_block_order": 23,
        "deepnote_app_block_visible": true,
        "deepnote_app_block_group_id": null,
        "deepnote_app_is_code_hidden": true,
        "deepnote_app_is_output_hidden": false,
        "cell_id": "a51e487502d84cf3b568d517a1a869cc",
        "deepnote_cell_type": "code"
      },
      "source": "# Key:    Un-unified District Code to be replaced\n# Value:  UnifiedDistrict Code to replace with\ndict_of_codes = {\n    65557: 76349,\n    65599: 76349,\n    69815: 40261,\n    69823: 40261,\n    70854: 40246,\n    70862: 40246,\n    70912: 40253,\n    70920: 40253,\n    71167: 40717,\n    71175: 40717\n}\n\ndistrict_df = district_df.copy()\n\n# Replace 10 District Codes in `district_df` with 5 Unified District Codes\ndistrict_df['District Code'] = district_df['District Code'].replace(dict_of_codes)\n\nprint(\"Unique Codes after Code replacement:\", district_df['District Code'].nunique())                #933\nprint(\"Unique Names in district_df before Name replace: \", district_df['District Name'].nunique())   #927\nprint(\"Unique Names in expense_df before Name replace: \", expense_df['District Name'].nunique())     #919",
      "block_group": "cadf04482e004a74b3286d16e1898a33",
      "execution_count": 8,
      "outputs": [
        {
          "name": "stdout",
          "text": "Unique Codes after Code replacement: 933\nUnique Names in district_df before Name replace:  927\nUnique Names in expense_df before Name replace:  919\n",
          "output_type": "stream"
        }
      ],
      "outputs_reference": null,
      "content_dependencies": null
    },
    {
      "cell_type": "markdown",
      "metadata": {
        "id": "pzWKJXceMqUj",
        "deepnote_app_block_order": 24,
        "deepnote_app_block_visible": true,
        "deepnote_app_block_group_id": null,
        "cell_id": "e9a3e909a6954c479e57585360b0b2f0",
        "deepnote_cell_type": "markdown"
      },
      "source": "This tells us 2 things:\n1. *Number of District Codes* > *Number of District Names*\n2. `district_df` (927) **has 8 more names** than `expense_df` does (919)\n\n3. `district_df`: 933 – 927 = 6 “collisions” (situations where 2+ codes share the same name)\n\n4. `expense_df`: 933 – 919 = 14 collisions\n\nSo *Number of Codes* > *Number of Names* makes sense",
      "block_group": "a553aa5cd73a47c1b4fe2711de285d93"
    },
    {
      "cell_type": "markdown",
      "metadata": {
        "id": "zPu7cTytNdW6",
        "deepnote_app_block_order": 25,
        "deepnote_app_block_visible": true,
        "deepnote_app_block_group_id": null,
        "cell_id": "cb0f59e709384bc9af7d95522826abbf",
        "deepnote_cell_type": "markdown"
      },
      "source": "#### Step 2: Determine Different District Names in Expense & District DataFrames",
      "block_group": "56df74873d4b4ac79e793a9ddde353d1"
    },
    {
      "cell_type": "code",
      "metadata": {
        "id": "1czEnP0wNhWO",
        "colab": {
          "base_uri": "https://localhost:8080/"
        },
        "outputId": "3586fcfe-da69-4cc7-ada5-adb80b7d32ea",
        "source_hash": "a4a08a5e",
        "execution_start": 1759790536188,
        "execution_millis": 0,
        "execution_context_id": "f1ca50dd-93b4-4efd-8fa9-6064dddd03f8",
        "deepnote_app_block_order": 26,
        "deepnote_app_block_visible": true,
        "deepnote_app_block_group_id": null,
        "deepnote_app_is_code_hidden": true,
        "deepnote_app_is_output_hidden": false,
        "cell_id": "f08678fa3d444fd99e23e06e9541f2c8",
        "deepnote_cell_type": "code"
      },
      "source": "names_in_district = set(district_df['District Name'].unique())\nnames_in_expense  = set(expense_df['District Name'].unique())\n\nonly_in_district = names_in_district - names_in_expense\nonly_in_expense  = names_in_expense - names_in_district\n\nprint(\"Names only in district_df:\", len(only_in_district))\nprint(sorted(list(only_in_district)))\nprint(\"Names only in expense_df:\", len(only_in_expense))\nprint(sorted(list(only_in_expense)))\n\n# Now we know that:\n# district_df  uses  shorter names\n# expense_df   uses  longer names",
      "block_group": "381d74466c294241a2051bc68629573f",
      "execution_count": 9,
      "outputs": [
        {
          "name": "stdout",
          "text": "Names only in district_df: 92\n['Alisal Union', 'Arena Union Elementary', 'Arvin Union', 'Bakersfield City', 'Bellevue Union', 'Bolinas-Stinson Union', 'Brentwood Union', 'Cajon Valley Union', 'Cambrian', 'Campbell Union', 'Castaic Union', 'Chatom Union', 'Chualar Union', 'Columbia Union', 'Cupertino Union', 'El Monte City', 'Escondido Union', 'Eureka City Schools', 'Eureka Union', 'Evergreen Union', 'Hacienda la Puente Unified', 'Hawthorne', 'Hollister', 'Kenwood', 'Keyes Union', 'King City Union', 'Lakeside Joint', 'Lakeside Union', 'Latrobe', 'Lemon Grove', 'Lennox', 'Livingston Union', 'Los Nietos', 'Lowell Joint', 'Luther Burbank', 'McCabe Union Elementary', 'McFarland Unified', 'McKinleyville Union Elementary', 'McKittrick Elementary', 'Meadows Union', 'Menifee Union', 'Modesto City Elementary', 'Modesto City High', 'Moreland', 'Mountain View Whisman', 'Newhall', 'Nicasio', 'Nuview Union', 'Ocean View', 'Old Adobe Union', 'Ontario-Montclair', 'Orange Center', 'Orinda Union', 'Oro Grande', 'Oxnard', 'Pacifica', 'Panama-Buena Vista Union', 'Peninsula Union', 'Petaluma City Elementary', 'Petaluma Joint Union High', 'Pioneer Union', 'Pleasant Grove Joint Union', 'Point Arena Joint Union High', 'Rim of the World Unified', 'Roseland', 'San Mateo-Foster City', 'San Miguel Joint Union', 'Santa Cruz City Elementary', 'Santa Cruz City High', 'Santa Maria-Bonita', 'Santa Rosa Elementary', 'Santa Rosa High', 'Santee', 'Saugus Union', 'Sausalito Marin City', 'Somis Union', 'South Bay Union', 'South Fork Union', 'Sulphur Springs Union', 'Sunnyvale', 'Taft City', 'Tulare City', 'Twain Harte', 'Two Rock Union', 'Vallecito Union', 'Vista del Mar Union', 'Weaver Union', 'Westminster', 'Wheatland', 'Whittier City', 'Winship-Robbins', 'Winton']\nNames only in expense_df: 84\n['Alisal Union Elementary', 'Arena Union Elementary/Point Arena Joint Union High ', 'Arvin Union Elementary', 'Bakersfield City Elementary', 'Bellevue Union Elementary', 'Bolinas-Stinson Union Elementary', 'Brentwood Union Elementary', 'Cajon Valley Union Elementary', 'Cambrian Elementary', 'Campbell Union Elementary', 'Castaic Union Elementary', 'Chatom Union Elementary', 'Chualar Union Elementary', 'Columbia Union Elementary', 'Cupertino Union Elementary', 'El Monte City Elementary', 'Escondido Union Elementary', 'Eureka City Unified', 'Eureka Union Elementary', 'Evergreen Union Elementary', 'Hacienda La Puente Unified', 'Hawthorne Elementary', 'Hollister Elementary', 'Kenwood Elementary', 'Keyes Union Elementary', 'King City Union Elementary', 'Lakeside Joint Elementary', 'Latrobe Elementary', 'Lemon Grove Elementary', 'Lennox Elementary', 'Livingston Union Elementary', 'Los Nietos Elementary', 'Lowell Joint Elementary', 'Luther Burbank Elementary', 'Mccabe Union Elementary', 'Mcfarland Unified', 'Mckinleyville Union Elementary', 'Mckittrick Elementary', 'Meadows Union Elementary', 'Menifee Union Elementary', 'Modesto City Schools', 'Moreland Elementary', 'Mountain View Whisman Elementary', 'Newhall Elementary', 'Nicasio Elementary', 'Nuview Union Elementary', 'Ocean View Elementary', 'Old Adobe Union Elementary', 'Ontario-Montclair Elementary', 'Orange Center Elementary', 'Orinda Union Elementary', 'Oro Grande Elementary', 'Oxnard Elementary', 'Pacifica Elementary', 'Panama-Buena Vista Union Elementary', 'Peninsula Union Elementary', 'Petaluma City Elementary/Joint Union High', 'Pleasant Grove Joint Union Elementary', 'Rim of The World Unified', 'Roseland Elementary', 'San Mateo-Foster City Elementary', 'San Miguel Joint Union Elementary', 'Santa Cruz City Elementary/High', 'Santa Maria-Bonita Elementary', 'Santa Rosa City Schools', 'Santee Elementary', 'Saugus Union Elementary', 'Sausalito Marin City Elementary', 'Somis Union Elementary', 'South Fork Union Elementary', 'Sulphur Springs Union Elementary', 'Sunnyvale Elementary', 'Taft City Elementary', 'Tulare City Elementary', 'Twain Harte Elementary', 'Two Rock Union Elementary', 'Vallecito Union Elementary', 'Vista Del Mar Union Elementary', 'Weaver Union Elementary', 'Westminster Elementary', 'Wheatland Elementary', 'Whittier City Elementary', 'Winship-Robbins Elementary', 'Winton Elementary']\n",
          "output_type": "stream"
        }
      ],
      "outputs_reference": null,
      "content_dependencies": null
    },
    {
      "cell_type": "markdown",
      "metadata": {
        "id": "ujqzYrCONg4R",
        "deepnote_app_block_order": 27,
        "deepnote_app_block_visible": true,
        "deepnote_app_block_group_id": null,
        "cell_id": "b845c0cd4c214f9da8c2124ee9e6b4cd",
        "deepnote_cell_type": "markdown"
      },
      "source": "To summarize this information:\n1. There are 2+1+1+1+1+1+1+1+1+1 = 11 \"extra\" codes\n2. `expense_df` names are more descriptive than `district_df` names\n3. This makes sense because `district_df` puts descriptive elementary/middle/high names in the `District Type` column\n\nTherefore, we should use `expense_df`'s District Names as our \"standardized district names\".\n\nSince we've already established *#Codes* > *#Names*, we know that some names are used for multiple codes. In other words, `District Names` are **non-unique**.\n\nSo we should use:\n>District Code = Unique Authoritative Key\n\n>District Name = Non-Unique, Descriptive Key",
      "block_group": "401ddc77ef324c70aefcf842634e6a38"
    },
    {
      "cell_type": "markdown",
      "metadata": {
        "id": "e56NURMxQ_5H",
        "deepnote_app_block_order": 28,
        "deepnote_app_block_visible": true,
        "deepnote_app_block_group_id": null,
        "cell_id": "5265a0faa6df4845a668694d72ef6784",
        "deepnote_cell_type": "markdown"
      },
      "source": "#### Step 3: Determine Non-Unique District Names",
      "block_group": "5e9be5a23fcf4495ae688b325b4a193c"
    },
    {
      "cell_type": "code",
      "metadata": {
        "id": "6JE_2VO7Q-ki",
        "colab": {
          "base_uri": "https://localhost:8080/"
        },
        "outputId": "74ccbaf9-4525-43cf-e17d-9ae2c6e3c218",
        "source_hash": "ba26ee31",
        "execution_start": 1759790536238,
        "execution_millis": 0,
        "execution_context_id": "f1ca50dd-93b4-4efd-8fa9-6064dddd03f8",
        "deepnote_app_block_order": 29,
        "deepnote_app_block_visible": true,
        "deepnote_app_block_group_id": null,
        "deepnote_app_is_code_hidden": true,
        "deepnote_app_is_output_hidden": false,
        "cell_id": "2454edf929e3491db4052eab8b4e8214",
        "deepnote_cell_type": "code"
      },
      "source": "dupes = (\n    district_df.groupby('District Name')['District Code']\n    .nunique()\n    .sort_values(ascending=False)\n)\n\nprint(dupes[dupes > 1])",
      "block_group": "bd033110db944be792188c0b5b8f4851",
      "execution_count": 10,
      "outputs": [
        {
          "name": "stdout",
          "text": "District Name\nJefferson Elementary         3\nWashington Unified           2\nPacific Union Elementary     2\nLakeside Union Elementary    2\nOcean View                   2\nLiberty Elementary           2\nJunction Elementary          2\nHope Elementary              2\nPioneer Union Elementary     2\nMountain View Elementary     2\nName: District Code, dtype: int64\n",
          "output_type": "stream"
        }
      ],
      "outputs_reference": null,
      "content_dependencies": null
    },
    {
      "cell_type": "markdown",
      "metadata": {
        "id": "vWzhu7DsREtx",
        "deepnote_app_block_order": 30,
        "deepnote_app_block_visible": true,
        "deepnote_app_block_group_id": null,
        "cell_id": "9faeee64a0094f0ba734f43a69d8d959",
        "deepnote_cell_type": "markdown"
      },
      "source": "This means that there *11* non-unique District Names. In other words, the same District Name(str) is tied to multiple Codes!\n\nFor example, \"Jefferson Elementary\" District Name is tied to 3 District Codes (and Counties): San Benito, San Joaquin, & San Mateo\n\nHowever, `district_df` shows us `County Name`, which is important for visualization labels.\n>`expense_df` does not show us County Name, so identical `District Names` in `expense_df` will give us confusing visualizations.\n\nTherefore, going forward:\n1. **For Analysis & Grouping**: We should always reference to each row of data by `District Code` because codes are unique.\n2. **For Visualizations**: We should use the new `District Label` column, which will be a unique concatenation of \"District Name (County)\".",
      "block_group": "afb8d8596835496990a8d8f950e6623a"
    },
    {
      "cell_type": "markdown",
      "metadata": {
        "id": "Sc_8_nqaUjK1",
        "deepnote_app_block_order": 31,
        "deepnote_app_block_visible": true,
        "deepnote_app_block_group_id": null,
        "cell_id": "4968d39e9c724f8b918978b4703aba01",
        "deepnote_cell_type": "markdown"
      },
      "source": "#### Step 4: Concatenate Unified Districts",
      "block_group": "65c58c89de524f30a79d4ca58aaf0271"
    },
    {
      "cell_type": "markdown",
      "metadata": {
        "id": "4jqXIVJUUk3-",
        "deepnote_app_block_order": 32,
        "deepnote_app_block_visible": true,
        "deepnote_app_block_group_id": null,
        "cell_id": "020de625d2124a00b9d54ad70c71b621",
        "deepnote_cell_type": "markdown"
      },
      "source": "We've renamed the Codes to the Unified District Codes.\n\nSo let's first take care of the data for these 10 rows before we do our final merge.",
      "block_group": "c9a2d0ebd959446492316da020466041"
    },
    {
      "cell_type": "code",
      "metadata": {
        "id": "08mRZW3hREQe",
        "colab": {
          "base_uri": "https://localhost:8080/"
        },
        "outputId": "c0eb579a-462f-417b-eacb-4494ef6435b9",
        "source_hash": "89beef5a",
        "execution_start": 1759790536288,
        "execution_millis": 0,
        "execution_context_id": "f1ca50dd-93b4-4efd-8fa9-6064dddd03f8",
        "deepnote_app_block_order": 33,
        "deepnote_app_block_visible": true,
        "deepnote_app_block_group_id": null,
        "deepnote_app_is_code_hidden": true,
        "deepnote_app_is_output_hidden": false,
        "cell_id": "fabebd5b717e4c97b9a2b70f32e80180",
        "deepnote_cell_type": "code"
      },
      "source": "expense_data = expense_df.copy()\ndistrict_data = district_df.copy()\n\nprint(expense_data.shape)\nprint(district_data.shape)\n\ndupes = district_data['District Code'].value_counts()\nprint(dupes[dupes > 1])",
      "block_group": "95cfd7346c8c4b7f83b08c70be59e757",
      "execution_count": 11,
      "outputs": [
        {
          "name": "stdout",
          "text": "(933, 6)\n(938, 45)\nDistrict Code\n76349    2\n40261    2\n40253    2\n40246    2\n40717    2\nName: count, dtype: int64\n",
          "output_type": "stream"
        }
      ],
      "outputs_reference": null,
      "content_dependencies": null
    },
    {
      "cell_type": "markdown",
      "metadata": {
        "id": "Sci3SxIkVvoo",
        "deepnote_app_block_order": 34,
        "deepnote_app_block_visible": true,
        "deepnote_app_block_group_id": null,
        "cell_id": "21ee7eb270a84f98bca061838e42ed1e",
        "deepnote_cell_type": "markdown"
      },
      "source": "#### Step 5: Pair Up Unified Districts & Ascertain dtypes",
      "block_group": "1c55e1b4a12d4571aedc296436bafba2"
    },
    {
      "cell_type": "code",
      "metadata": {
        "id": "YkYx1tmkVxPK",
        "colab": {
          "height": 1000,
          "base_uri": "https://localhost:8080/"
        },
        "outputId": "4263c254-4e0e-4874-8c92-60b84c486900",
        "source_hash": "f8c7e2d",
        "execution_start": 1759790536329,
        "execution_millis": 60,
        "execution_context_id": "f1ca50dd-93b4-4efd-8fa9-6064dddd03f8",
        "deepnote_app_block_order": 35,
        "deepnote_app_block_visible": true,
        "deepnote_app_block_group_id": null,
        "deepnote_app_is_code_hidden": true,
        "deepnote_app_is_output_hidden": false,
        "cell_id": "8c2448ed59154ef79f66b707e6c18609",
        "deepnote_cell_type": "code"
      },
      "source": "unified_list = [76349, 40261, 40246, 40253, 40717]\n\nunified_pair_1 = district_data[district_data['District Code'] == 76349]\nunified_pair_2 = district_data[district_data['District Code'] == 40261]\nunified_pair_3 = district_data[district_data['District Code'] == 40246]\nunified_pair_4 = district_data[district_data['District Code'] == 40253]\nunified_pair_5 = district_data[district_data['District Code'] == 40717]\n\nunified_pair_list = [unified_pair_1, unified_pair_2, unified_pair_3, unified_pair_4, unified_pair_5]\n\ndisplay(unified_pair_1)\nprint(unified_pair_1.dtypes)    # Checked: All columns with numeric values are int64 or float64\ndistrict_table_dict",
      "block_group": "76bca92ab7894cb9b41b1d5f985e4b9c",
      "execution_count": 12,
      "outputs": [
        {
          "data": {
            "text/plain": "     Fed ID  District Code        CDS Code County Name  \\\n349  603090          76349  23655570000000   Mendocino   \n353  631230          76349  23655990000000   Mendocino   \n\n                    District Name District Type Grade Low  Grade High  \\\n349        Arena Union Elementary    Elementary        KG          12   \n353  Point Arena Joint Union High          High        09          12   \n\n    Grade Low Census  Grade High Census  ... Foster Foster (%)  Homeless  \\\n349               KG                  8  ...      1        0.3        16   \n353               09                 12  ...      3        2.1        25   \n\n     Homeless (%)  Migrant  Migrant (%)  Students with Disabilities  \\\n349           5.6        0          0.0                          37   \n353          17.5        2          1.4                          27   \n\n     Students with Disabilities (%)  Socioeconomically Disadvantaged  \\\n349                            12.9                              160   \n353                            18.9                               83   \n\n     Socioeconomically Disadvantaged (%)  \n349                                 55.7  \n353                                 58.0  \n\n[2 rows x 45 columns]",
            "text/html": "<div>\n<style scoped>\n    .dataframe tbody tr th:only-of-type {\n        vertical-align: middle;\n    }\n\n    .dataframe tbody tr th {\n        vertical-align: top;\n    }\n\n    .dataframe thead th {\n        text-align: right;\n    }\n</style>\n<table border=\"1\" class=\"dataframe\">\n  <thead>\n    <tr style=\"text-align: right;\">\n      <th></th>\n      <th>Fed ID</th>\n      <th>District Code</th>\n      <th>CDS Code</th>\n      <th>County Name</th>\n      <th>District Name</th>\n      <th>District Type</th>\n      <th>Grade Low</th>\n      <th>Grade High</th>\n      <th>Grade Low Census</th>\n      <th>Grade High Census</th>\n      <th>...</th>\n      <th>Foster</th>\n      <th>Foster (%)</th>\n      <th>Homeless</th>\n      <th>Homeless (%)</th>\n      <th>Migrant</th>\n      <th>Migrant (%)</th>\n      <th>Students with Disabilities</th>\n      <th>Students with Disabilities (%)</th>\n      <th>Socioeconomically Disadvantaged</th>\n      <th>Socioeconomically Disadvantaged (%)</th>\n    </tr>\n  </thead>\n  <tbody>\n    <tr>\n      <th>349</th>\n      <td>603090</td>\n      <td>76349</td>\n      <td>23655570000000</td>\n      <td>Mendocino</td>\n      <td>Arena Union Elementary</td>\n      <td>Elementary</td>\n      <td>KG</td>\n      <td>12</td>\n      <td>KG</td>\n      <td>8</td>\n      <td>...</td>\n      <td>1</td>\n      <td>0.3</td>\n      <td>16</td>\n      <td>5.6</td>\n      <td>0</td>\n      <td>0.0</td>\n      <td>37</td>\n      <td>12.9</td>\n      <td>160</td>\n      <td>55.7</td>\n    </tr>\n    <tr>\n      <th>353</th>\n      <td>631230</td>\n      <td>76349</td>\n      <td>23655990000000</td>\n      <td>Mendocino</td>\n      <td>Point Arena Joint Union High</td>\n      <td>High</td>\n      <td>09</td>\n      <td>12</td>\n      <td>09</td>\n      <td>12</td>\n      <td>...</td>\n      <td>3</td>\n      <td>2.1</td>\n      <td>25</td>\n      <td>17.5</td>\n      <td>2</td>\n      <td>1.4</td>\n      <td>27</td>\n      <td>18.9</td>\n      <td>83</td>\n      <td>58.0</td>\n    </tr>\n  </tbody>\n</table>\n<p>2 rows × 45 columns</p>\n</div>"
          },
          "metadata": {},
          "output_type": "display_data"
        },
        {
          "name": "stdout",
          "text": "Fed ID                                   int64\nDistrict Code                            int64\nCDS Code                                 int64\nCounty Name                             object\nDistrict Name                           object\nDistrict Type                           object\nGrade Low                               object\nGrade High                               int64\nGrade Low Census                        object\nGrade High Census                        int64\nAssistance Status                       object\nLocale                                  object\nEnroll Total                             int64\nEnroll Charter                           int64\nEnroll Non Charter                       int64\nAfrican American                         int64\nAfrican American (%)                   float64\nAmerican Indian                          int64\nAmerican Indian (%)                    float64\nAsian                                    int64\nAsian (%)                              float64\nFilipino                                 int64\nFilipino (%)                           float64\nHispanic                                 int64\nHispanic (%)                           float64\nPacific Islander                         int64\nPacific Islander (%)                   float64\nWhite                                    int64\nWhite (%)                              float64\nTwo or More Races                        int64\nTwo or More Races (%)                  float64\nNot Reported                             int64\nNot Reported (%)                       float64\nEnglish Learner                          int64\nEnglish Learner (%)                    float64\nFoster                                   int64\nFoster (%)                             float64\nHomeless                                 int64\nHomeless (%)                           float64\nMigrant                                  int64\nMigrant (%)                            float64\nStudents with Disabilities               int64\nStudents with Disabilities (%)         float64\nSocioeconomically Disadvantaged          int64\nSocioeconomically Disadvantaged (%)    float64\ndtype: object\n",
          "output_type": "stream"
        },
        {
          "output_type": "execute_result",
          "execution_count": 12,
          "data": {
            "text/plain": "{'Arena Union Elementary': 'Arena Union Elementary/Point Arena Joint Union High ',\n 'Point Arena Joint Union High': 'Arena Union Elementary/Point Arena Joint Union High ',\n 'Santa Cruz City Elementary': 'Santa Cruz City Elementary/High',\n 'Santa Cruz City High': 'Santa Cruz City Elementary/High',\n 'Petaluma City Elementary': 'Petaluma City Elementary/Joint Union High',\n 'Petaluma Joint Union High': 'Petaluma City Elementary/Joint Union High',\n 'Santa Rosa Elementary': 'Santa Rosa City Schools',\n 'Santa Rosa High': 'Santa Rosa City Schools',\n 'Modesto City Elementary': 'Modesto City Schools',\n 'Modesto City High': 'Modesto City Schools'}"
          },
          "metadata": {}
        }
      ],
      "outputs_reference": null,
      "content_dependencies": null
    },
    {
      "cell_type": "markdown",
      "metadata": {
        "id": "bfh_aqlWV2z_",
        "deepnote_app_block_order": 36,
        "deepnote_app_block_visible": true,
        "deepnote_app_block_group_id": null,
        "cell_id": "cbce3fcb4d91429483b0397b4c1fafa6",
        "deepnote_cell_type": "markdown"
      },
      "source": "#### Step 6: Categorize Columns",
      "block_group": "e3264c7886ab4d7b8f766b95bac9a80d"
    },
    {
      "cell_type": "markdown",
      "metadata": {
        "id": "BVtCnZvdV55g",
        "deepnote_app_block_order": 37,
        "deepnote_app_block_visible": true,
        "deepnote_app_block_group_id": null,
        "cell_id": "56113e4c349742cd97b362852468015c",
        "deepnote_cell_type": "markdown"
      },
      "source": "We need to determine what to do with each of the columns for each Unified Pair.",
      "block_group": "8fd42f5cf90a45d2b09790f69c12ac6c"
    },
    {
      "cell_type": "code",
      "metadata": {
        "id": "OW-J2pH9V7NO",
        "source_hash": "deb9abc9",
        "execution_start": 1759790536438,
        "execution_millis": 0,
        "execution_context_id": "f1ca50dd-93b4-4efd-8fa9-6064dddd03f8",
        "deepnote_app_block_order": 38,
        "deepnote_app_block_visible": true,
        "deepnote_app_block_group_id": null,
        "deepnote_app_is_code_hidden": true,
        "deepnote_app_is_output_hidden": false,
        "cell_id": "a63ffd386c1a4248aeb7d928ee48b840",
        "deepnote_cell_type": "code"
      },
      "source": "keep_as_is_columns = [\n    'District Code',\n    'County Name',\n    'District Type',\n    'Grade Low',\n    'Grade High',\n    'Grade Low Census',\n    'Grade High Census',\n    'Assistance Status'\n]\n\ndelete_columns = [\n    'Fed ID',\n    'CDS Code'\n]\n\ncount_columns = [\n    'Enroll Total',\n    'Enroll Charter',\n    'Enroll Non Charter',\n    'African American',\n    'American Indian',\n    'Asian',\n    'Filipino',\n    'Hispanic',\n    'Pacific Islander',\n    'White',\n    'Two or More Races',\n    'Not Reported',\n    'English Learner',\n    'Foster',\n    'Homeless',\n    'Migrant',\n    'Students with Disabilities',\n    'Socioeconomically Disadvantaged']\n\npercent_columns_dict = {\n    'African American (%)': 'African American',\n    'American Indian (%)': 'American Indian',\n    'Asian (%)': 'Asian',\n    'Filipino (%)': 'Filipino',\n    'Hispanic (%)': 'Hispanic',\n    'Pacific Islander (%)': 'Pacific Islander',\n    'White (%)': 'White',\n    'Two or More Races (%)': 'Two or More Races',\n    'Not Reported (%)': 'Not Reported',\n    'English Learner (%)': 'English Learner',\n    'Foster (%)': 'Foster',\n    'Homeless (%)': 'Homeless',\n    'Migrant (%)': 'Migrant',\n    'Students with Disabilities (%)': 'Students with Disabilities',\n    'Socioeconomically Disadvantaged (%)': 'Socioeconomically Disadvantaged'\n}",
      "block_group": "44f5e88b19774892861c7b2381c977b1",
      "execution_count": 13,
      "outputs": [],
      "outputs_reference": null,
      "content_dependencies": null
    },
    {
      "cell_type": "markdown",
      "metadata": {
        "id": "jg8-1h4wV-II",
        "deepnote_app_block_order": 39,
        "deepnote_app_block_visible": true,
        "deepnote_app_block_group_id": null,
        "cell_id": "29e754bf97df40f089c34d76934cd0ce",
        "deepnote_cell_type": "markdown"
      },
      "source": "#### Step 7: Function to Merge Pair",
      "block_group": "33e07545db994de3ade10dabacf5cd18"
    },
    {
      "cell_type": "markdown",
      "metadata": {
        "id": "bMUS6OTAWGF5",
        "deepnote_app_block_order": 40,
        "deepnote_app_block_visible": true,
        "deepnote_app_block_group_id": null,
        "cell_id": "7f6d9e5ff4f5464580442d683238d77e",
        "deepnote_cell_type": "markdown"
      },
      "source": "# **Note for Cleaner Code:**\n## **Revise function below to take in additional parameters (args) for function (local variables) Convention: ALL CAPS for constants (global variables)**",
      "block_group": "06180cf5ae5042f7b761ea12c10043fd"
    },
    {
      "cell_type": "code",
      "metadata": {
        "id": "XbUabTkEV9Y0",
        "source_hash": "f20378e",
        "execution_start": 1759790536498,
        "execution_millis": 0,
        "execution_context_id": "f1ca50dd-93b4-4efd-8fa9-6064dddd03f8",
        "deepnote_app_block_order": 41,
        "deepnote_app_block_visible": true,
        "deepnote_app_block_group_id": null,
        "deepnote_app_is_code_hidden": true,
        "deepnote_app_is_output_hidden": false,
        "cell_id": "5ffa0bda8a5143e9ab3b8fe174ae3147",
        "deepnote_cell_type": "code"
      },
      "source": "def merge_unified_pairs(unified_pair): #, keep_cols, delete_cols, count_cols, percent_cols, district_table_dict)\n    # Delete Unneeded Columns\n    merge_pair = unified_pair.drop(columns=delete_columns)\n\n    # Sum Count Columns\n    count_sums = merge_pair[count_columns].sum()      # count_sums is a Series\n\n    # Calculate Percent Columns\n    for percent_column, cnt_column in percent_columns_dict.items():\n        count_sums[percent_column] = (count_sums[cnt_column] / count_sums['Enroll Total']) * 100\n\n    # Convert Series to DataFrame\n    merge_pair = count_sums.to_frame().T     # Transpose to convert from Column to Row\n\n    # Add the \"Keep As-Is\" columns\n    merge_pair[keep_as_is_columns] = unified_pair[keep_as_is_columns].iloc[0].values\n\n    # Add District Name from expense_df's name, which was used in Unified Pair\n    merge_pair['District Name'] = unified_pair['District Name'].iloc[0]\n\n    for non_unified_name, unified_name in district_table_dict.items():\n        if non_unified_name in unified_pair['District Name'].values:\n            merge_pair['District Name'] = unified_name\n\n    # Make shared District Names unique by adding County Name\n    # We will create a new column, District Label\n    merge_pair['District Label'] = (\n        merge_pair['District Name'].astype(str)\n        + \" (\" + unified_pair['County Name'].iloc[0] + \")\"\n    )\n\n    return merge_pair",
      "block_group": "ed3a45f7ae2d47548f9626f86fbce01f",
      "execution_count": 14,
      "outputs": [],
      "outputs_reference": null,
      "content_dependencies": null
    },
    {
      "cell_type": "markdown",
      "metadata": {
        "id": "CyVK2CbgWak7",
        "deepnote_app_block_order": 42,
        "deepnote_app_block_visible": true,
        "deepnote_app_block_group_id": null,
        "cell_id": "cf349d276bd745cbb9a244ac9d62502c",
        "deepnote_cell_type": "markdown"
      },
      "source": "#### Step 8: Run Function for All Unified Pairs",
      "block_group": "0af947c60fe34456a7533b7c759b69ce"
    },
    {
      "cell_type": "code",
      "metadata": {
        "id": "O0qVXO8VWbjz",
        "colab": {
          "height": 919,
          "base_uri": "https://localhost:8080/"
        },
        "outputId": "07d17bdd-76c5-4902-d3eb-c5996cd02be1",
        "source_hash": "439716a7",
        "execution_start": 1759790536571,
        "execution_millis": 201,
        "execution_context_id": "f1ca50dd-93b4-4efd-8fa9-6064dddd03f8",
        "deepnote_app_block_order": 43,
        "deepnote_app_block_visible": true,
        "deepnote_app_block_group_id": null,
        "deepnote_app_is_code_hidden": true,
        "deepnote_app_is_output_hidden": false,
        "cell_id": "ad039084011f4a538fabd7e225cff023",
        "deepnote_cell_type": "code"
      },
      "source": "# Run function for all unified pairs\n\nmerged_pair_1 = merge_unified_pairs(unified_pair_1)\nmerged_pair_2 = merge_unified_pairs(unified_pair_2)\nmerged_pair_3 = merge_unified_pairs(unified_pair_3)\nmerged_pair_4 = merge_unified_pairs(unified_pair_4)\nmerged_pair_5 = merge_unified_pairs(unified_pair_5)\n\ndisplay(merged_pair_1)\ndisplay(merged_pair_2)\ndisplay(merged_pair_3)\ndisplay(merged_pair_4)\ndisplay(merged_pair_5)",
      "block_group": "4b223c424d5f4e83b1328f88aeaba047",
      "execution_count": 15,
      "outputs": [
        {
          "data": {
            "text/plain": "   Enroll Total  Enroll Charter  Enroll Non Charter  African American  \\\n0         430.0            66.0               364.0               0.0   \n\n   American Indian  Asian  Filipino  Hispanic  Pacific Islander  White  ...  \\\n0             28.0    1.0       0.0     245.0               1.0  137.0  ...   \n\n   District Code  County Name  District Type  Grade Low  Grade High  \\\n0          76349    Mendocino     Elementary         KG          12   \n\n   Grade Low Census  Grade High Census   Assistance Status  \\\n0                KG                  8  General Assistance   \n\n                                       District Name  \\\n0  Arena Union Elementary/Point Arena Joint Union...   \n\n                                      District Label  \n0  Arena Union Elementary/Point Arena Joint Union...  \n\n[1 rows x 43 columns]",
            "text/html": "<div>\n<style scoped>\n    .dataframe tbody tr th:only-of-type {\n        vertical-align: middle;\n    }\n\n    .dataframe tbody tr th {\n        vertical-align: top;\n    }\n\n    .dataframe thead th {\n        text-align: right;\n    }\n</style>\n<table border=\"1\" class=\"dataframe\">\n  <thead>\n    <tr style=\"text-align: right;\">\n      <th></th>\n      <th>Enroll Total</th>\n      <th>Enroll Charter</th>\n      <th>Enroll Non Charter</th>\n      <th>African American</th>\n      <th>American Indian</th>\n      <th>Asian</th>\n      <th>Filipino</th>\n      <th>Hispanic</th>\n      <th>Pacific Islander</th>\n      <th>White</th>\n      <th>...</th>\n      <th>District Code</th>\n      <th>County Name</th>\n      <th>District Type</th>\n      <th>Grade Low</th>\n      <th>Grade High</th>\n      <th>Grade Low Census</th>\n      <th>Grade High Census</th>\n      <th>Assistance Status</th>\n      <th>District Name</th>\n      <th>District Label</th>\n    </tr>\n  </thead>\n  <tbody>\n    <tr>\n      <th>0</th>\n      <td>430.0</td>\n      <td>66.0</td>\n      <td>364.0</td>\n      <td>0.0</td>\n      <td>28.0</td>\n      <td>1.0</td>\n      <td>0.0</td>\n      <td>245.0</td>\n      <td>1.0</td>\n      <td>137.0</td>\n      <td>...</td>\n      <td>76349</td>\n      <td>Mendocino</td>\n      <td>Elementary</td>\n      <td>KG</td>\n      <td>12</td>\n      <td>KG</td>\n      <td>8</td>\n      <td>General Assistance</td>\n      <td>Arena Union Elementary/Point Arena Joint Union...</td>\n      <td>Arena Union Elementary/Point Arena Joint Union...</td>\n    </tr>\n  </tbody>\n</table>\n<p>1 rows × 43 columns</p>\n</div>"
          },
          "metadata": {},
          "output_type": "display_data"
        },
        {
          "data": {
            "text/plain": "   Enroll Total  Enroll Charter  Enroll Non Charter  African American  \\\n0        6272.0           116.0              6156.0              72.0   \n\n   American Indian  Asian  Filipino  Hispanic  Pacific Islander   White  ...  \\\n0             11.0  141.0      29.0    2537.0              13.0  2963.0  ...   \n\n   District Code  County Name  District Type  Grade Low  Grade High  \\\n0          40261   Santa Cruz     Elementary         KG           5   \n\n   Grade Low Census  Grade High Census   Assistance Status  \\\n0                KG                  5  General Assistance   \n\n                     District Name  \\\n0  Santa Cruz City Elementary/High   \n\n                                 District Label  \n0  Santa Cruz City Elementary/High (Santa Cruz)  \n\n[1 rows x 43 columns]",
            "text/html": "<div>\n<style scoped>\n    .dataframe tbody tr th:only-of-type {\n        vertical-align: middle;\n    }\n\n    .dataframe tbody tr th {\n        vertical-align: top;\n    }\n\n    .dataframe thead th {\n        text-align: right;\n    }\n</style>\n<table border=\"1\" class=\"dataframe\">\n  <thead>\n    <tr style=\"text-align: right;\">\n      <th></th>\n      <th>Enroll Total</th>\n      <th>Enroll Charter</th>\n      <th>Enroll Non Charter</th>\n      <th>African American</th>\n      <th>American Indian</th>\n      <th>Asian</th>\n      <th>Filipino</th>\n      <th>Hispanic</th>\n      <th>Pacific Islander</th>\n      <th>White</th>\n      <th>...</th>\n      <th>District Code</th>\n      <th>County Name</th>\n      <th>District Type</th>\n      <th>Grade Low</th>\n      <th>Grade High</th>\n      <th>Grade Low Census</th>\n      <th>Grade High Census</th>\n      <th>Assistance Status</th>\n      <th>District Name</th>\n      <th>District Label</th>\n    </tr>\n  </thead>\n  <tbody>\n    <tr>\n      <th>0</th>\n      <td>6272.0</td>\n      <td>116.0</td>\n      <td>6156.0</td>\n      <td>72.0</td>\n      <td>11.0</td>\n      <td>141.0</td>\n      <td>29.0</td>\n      <td>2537.0</td>\n      <td>13.0</td>\n      <td>2963.0</td>\n      <td>...</td>\n      <td>40261</td>\n      <td>Santa Cruz</td>\n      <td>Elementary</td>\n      <td>KG</td>\n      <td>5</td>\n      <td>KG</td>\n      <td>5</td>\n      <td>General Assistance</td>\n      <td>Santa Cruz City Elementary/High</td>\n      <td>Santa Cruz City Elementary/High (Santa Cruz)</td>\n    </tr>\n  </tbody>\n</table>\n<p>1 rows × 43 columns</p>\n</div>"
          },
          "metadata": {},
          "output_type": "display_data"
        },
        {
          "data": {
            "text/plain": "   Enroll Total  Enroll Charter  Enroll Non Charter  African American  \\\n0        7388.0          1325.0              6063.0              82.0   \n\n   American Indian  Asian  Filipino  Hispanic  Pacific Islander   White  ...  \\\n0             48.0  177.0      45.0    2593.0              28.0  3923.0  ...   \n\n   District Code  County Name  District Type  Grade Low  Grade High  \\\n0          40246       Sonoma     Elementary         KG          12   \n\n   Grade Low Census  Grade High Census  Assistance Status  \\\n0                KG                  6                NaN   \n\n                               District Name  \\\n0  Petaluma City Elementary/Joint Union High   \n\n                                      District Label  \n0  Petaluma City Elementary/Joint Union High (Son...  \n\n[1 rows x 43 columns]",
            "text/html": "<div>\n<style scoped>\n    .dataframe tbody tr th:only-of-type {\n        vertical-align: middle;\n    }\n\n    .dataframe tbody tr th {\n        vertical-align: top;\n    }\n\n    .dataframe thead th {\n        text-align: right;\n    }\n</style>\n<table border=\"1\" class=\"dataframe\">\n  <thead>\n    <tr style=\"text-align: right;\">\n      <th></th>\n      <th>Enroll Total</th>\n      <th>Enroll Charter</th>\n      <th>Enroll Non Charter</th>\n      <th>African American</th>\n      <th>American Indian</th>\n      <th>Asian</th>\n      <th>Filipino</th>\n      <th>Hispanic</th>\n      <th>Pacific Islander</th>\n      <th>White</th>\n      <th>...</th>\n      <th>District Code</th>\n      <th>County Name</th>\n      <th>District Type</th>\n      <th>Grade Low</th>\n      <th>Grade High</th>\n      <th>Grade Low Census</th>\n      <th>Grade High Census</th>\n      <th>Assistance Status</th>\n      <th>District Name</th>\n      <th>District Label</th>\n    </tr>\n  </thead>\n  <tbody>\n    <tr>\n      <th>0</th>\n      <td>7388.0</td>\n      <td>1325.0</td>\n      <td>6063.0</td>\n      <td>82.0</td>\n      <td>48.0</td>\n      <td>177.0</td>\n      <td>45.0</td>\n      <td>2593.0</td>\n      <td>28.0</td>\n      <td>3923.0</td>\n      <td>...</td>\n      <td>40246</td>\n      <td>Sonoma</td>\n      <td>Elementary</td>\n      <td>KG</td>\n      <td>12</td>\n      <td>KG</td>\n      <td>6</td>\n      <td>NaN</td>\n      <td>Petaluma City Elementary/Joint Union High</td>\n      <td>Petaluma City Elementary/Joint Union High (Son...</td>\n    </tr>\n  </tbody>\n</table>\n<p>1 rows × 43 columns</p>\n</div>"
          },
          "metadata": {},
          "output_type": "display_data"
        },
        {
          "data": {
            "text/plain": "   Enroll Total  Enroll Charter  Enroll Non Charter  African American  \\\n0       14798.0          1938.0             12860.0             265.0   \n\n   American Indian  Asian  Filipino  Hispanic  Pacific Islander   White  ...  \\\n0             89.0  586.0     145.0    8709.0             116.0  4113.0  ...   \n\n   District Code  County Name  District Type  Grade Low  Grade High  \\\n0          40253       Sonoma     Elementary         KG           8   \n\n   Grade Low Census  Grade High Census  Assistance Status  \\\n0                KG                  6                NaN   \n\n             District Name                    District Label  \n0  Santa Rosa City Schools  Santa Rosa City Schools (Sonoma)  \n\n[1 rows x 43 columns]",
            "text/html": "<div>\n<style scoped>\n    .dataframe tbody tr th:only-of-type {\n        vertical-align: middle;\n    }\n\n    .dataframe tbody tr th {\n        vertical-align: top;\n    }\n\n    .dataframe thead th {\n        text-align: right;\n    }\n</style>\n<table border=\"1\" class=\"dataframe\">\n  <thead>\n    <tr style=\"text-align: right;\">\n      <th></th>\n      <th>Enroll Total</th>\n      <th>Enroll Charter</th>\n      <th>Enroll Non Charter</th>\n      <th>African American</th>\n      <th>American Indian</th>\n      <th>Asian</th>\n      <th>Filipino</th>\n      <th>Hispanic</th>\n      <th>Pacific Islander</th>\n      <th>White</th>\n      <th>...</th>\n      <th>District Code</th>\n      <th>County Name</th>\n      <th>District Type</th>\n      <th>Grade Low</th>\n      <th>Grade High</th>\n      <th>Grade Low Census</th>\n      <th>Grade High Census</th>\n      <th>Assistance Status</th>\n      <th>District Name</th>\n      <th>District Label</th>\n    </tr>\n  </thead>\n  <tbody>\n    <tr>\n      <th>0</th>\n      <td>14798.0</td>\n      <td>1938.0</td>\n      <td>12860.0</td>\n      <td>265.0</td>\n      <td>89.0</td>\n      <td>586.0</td>\n      <td>145.0</td>\n      <td>8709.0</td>\n      <td>116.0</td>\n      <td>4113.0</td>\n      <td>...</td>\n      <td>40253</td>\n      <td>Sonoma</td>\n      <td>Elementary</td>\n      <td>KG</td>\n      <td>8</td>\n      <td>KG</td>\n      <td>6</td>\n      <td>NaN</td>\n      <td>Santa Rosa City Schools</td>\n      <td>Santa Rosa City Schools (Sonoma)</td>\n    </tr>\n  </tbody>\n</table>\n<p>1 rows × 43 columns</p>\n</div>"
          },
          "metadata": {},
          "output_type": "display_data"
        },
        {
          "data": {
            "application/vnd.deepnote.dataframe.v3+json": {
              "column_count": 43,
              "columns": [
                {
                  "name": "Enroll Total",
                  "dtype": "float64",
                  "stats": {
                    "unique_count": 1,
                    "nan_count": 0,
                    "min": "31431.0",
                    "max": "31431.0",
                    "histogram": [
                      {
                        "bin_start": 31430.5,
                        "bin_end": 31430.6,
                        "count": 0
                      },
                      {
                        "bin_start": 31430.6,
                        "bin_end": 31430.7,
                        "count": 0
                      },
                      {
                        "bin_start": 31430.7,
                        "bin_end": 31430.8,
                        "count": 0
                      },
                      {
                        "bin_start": 31430.8,
                        "bin_end": 31430.9,
                        "count": 0
                      },
                      {
                        "bin_start": 31430.9,
                        "bin_end": 31431,
                        "count": 0
                      },
                      {
                        "bin_start": 31431,
                        "bin_end": 31431.1,
                        "count": 1
                      },
                      {
                        "bin_start": 31431.1,
                        "bin_end": 31431.2,
                        "count": 0
                      },
                      {
                        "bin_start": 31431.2,
                        "bin_end": 31431.3,
                        "count": 0
                      },
                      {
                        "bin_start": 31431.3,
                        "bin_end": 31431.4,
                        "count": 0
                      },
                      {
                        "bin_start": 31431.4,
                        "bin_end": 31431.5,
                        "count": 0
                      }
                    ],
                    "categories": null
                  }
                },
                {
                  "name": "Enroll Charter",
                  "dtype": "float64",
                  "stats": {
                    "unique_count": 1,
                    "nan_count": 0,
                    "min": "1754.0",
                    "max": "1754.0",
                    "histogram": [
                      {
                        "bin_start": 1753.5,
                        "bin_end": 1753.6,
                        "count": 0
                      },
                      {
                        "bin_start": 1753.6,
                        "bin_end": 1753.7,
                        "count": 0
                      },
                      {
                        "bin_start": 1753.7,
                        "bin_end": 1753.8,
                        "count": 0
                      },
                      {
                        "bin_start": 1753.8,
                        "bin_end": 1753.9,
                        "count": 0
                      },
                      {
                        "bin_start": 1753.9,
                        "bin_end": 1754,
                        "count": 0
                      },
                      {
                        "bin_start": 1754,
                        "bin_end": 1754.1,
                        "count": 1
                      },
                      {
                        "bin_start": 1754.1,
                        "bin_end": 1754.2,
                        "count": 0
                      },
                      {
                        "bin_start": 1754.2,
                        "bin_end": 1754.3,
                        "count": 0
                      },
                      {
                        "bin_start": 1754.3,
                        "bin_end": 1754.4,
                        "count": 0
                      },
                      {
                        "bin_start": 1754.4,
                        "bin_end": 1754.5,
                        "count": 0
                      }
                    ],
                    "categories": null
                  }
                },
                {
                  "name": "Enroll Non Charter",
                  "dtype": "float64",
                  "stats": {
                    "unique_count": 1,
                    "nan_count": 0,
                    "min": "29677.0",
                    "max": "29677.0",
                    "histogram": [
                      {
                        "bin_start": 29676.5,
                        "bin_end": 29676.6,
                        "count": 0
                      },
                      {
                        "bin_start": 29676.6,
                        "bin_end": 29676.7,
                        "count": 0
                      },
                      {
                        "bin_start": 29676.7,
                        "bin_end": 29676.8,
                        "count": 0
                      },
                      {
                        "bin_start": 29676.8,
                        "bin_end": 29676.9,
                        "count": 0
                      },
                      {
                        "bin_start": 29676.9,
                        "bin_end": 29677,
                        "count": 0
                      },
                      {
                        "bin_start": 29677,
                        "bin_end": 29677.1,
                        "count": 1
                      },
                      {
                        "bin_start": 29677.1,
                        "bin_end": 29677.2,
                        "count": 0
                      },
                      {
                        "bin_start": 29677.2,
                        "bin_end": 29677.3,
                        "count": 0
                      },
                      {
                        "bin_start": 29677.3,
                        "bin_end": 29677.4,
                        "count": 0
                      },
                      {
                        "bin_start": 29677.4,
                        "bin_end": 29677.5,
                        "count": 0
                      }
                    ],
                    "categories": null
                  }
                },
                {
                  "name": "African American",
                  "dtype": "float64",
                  "stats": {
                    "unique_count": 1,
                    "nan_count": 0,
                    "min": "771.0",
                    "max": "771.0",
                    "histogram": [
                      {
                        "bin_start": 770.5,
                        "bin_end": 770.6,
                        "count": 0
                      },
                      {
                        "bin_start": 770.6,
                        "bin_end": 770.7,
                        "count": 0
                      },
                      {
                        "bin_start": 770.7,
                        "bin_end": 770.8,
                        "count": 0
                      },
                      {
                        "bin_start": 770.8,
                        "bin_end": 770.9,
                        "count": 0
                      },
                      {
                        "bin_start": 770.9,
                        "bin_end": 771,
                        "count": 0
                      },
                      {
                        "bin_start": 771,
                        "bin_end": 771.1,
                        "count": 1
                      },
                      {
                        "bin_start": 771.1,
                        "bin_end": 771.2,
                        "count": 0
                      },
                      {
                        "bin_start": 771.2,
                        "bin_end": 771.3,
                        "count": 0
                      },
                      {
                        "bin_start": 771.3,
                        "bin_end": 771.4,
                        "count": 0
                      },
                      {
                        "bin_start": 771.4,
                        "bin_end": 771.5,
                        "count": 0
                      }
                    ],
                    "categories": null
                  }
                },
                {
                  "name": "American Indian",
                  "dtype": "float64",
                  "stats": {
                    "unique_count": 1,
                    "nan_count": 0,
                    "min": "87.0",
                    "max": "87.0",
                    "histogram": [
                      {
                        "bin_start": 86.5,
                        "bin_end": 86.6,
                        "count": 0
                      },
                      {
                        "bin_start": 86.6,
                        "bin_end": 86.7,
                        "count": 0
                      },
                      {
                        "bin_start": 86.7,
                        "bin_end": 86.8,
                        "count": 0
                      },
                      {
                        "bin_start": 86.8,
                        "bin_end": 86.9,
                        "count": 0
                      },
                      {
                        "bin_start": 86.9,
                        "bin_end": 87,
                        "count": 0
                      },
                      {
                        "bin_start": 87,
                        "bin_end": 87.1,
                        "count": 1
                      },
                      {
                        "bin_start": 87.1,
                        "bin_end": 87.2,
                        "count": 0
                      },
                      {
                        "bin_start": 87.2,
                        "bin_end": 87.3,
                        "count": 0
                      },
                      {
                        "bin_start": 87.3,
                        "bin_end": 87.4,
                        "count": 0
                      },
                      {
                        "bin_start": 87.4,
                        "bin_end": 87.5,
                        "count": 0
                      }
                    ],
                    "categories": null
                  }
                },
                {
                  "name": "Asian",
                  "dtype": "float64",
                  "stats": {
                    "unique_count": 1,
                    "nan_count": 0,
                    "min": "1378.0",
                    "max": "1378.0",
                    "histogram": [
                      {
                        "bin_start": 1377.5,
                        "bin_end": 1377.6,
                        "count": 0
                      },
                      {
                        "bin_start": 1377.6,
                        "bin_end": 1377.7,
                        "count": 0
                      },
                      {
                        "bin_start": 1377.7,
                        "bin_end": 1377.8,
                        "count": 0
                      },
                      {
                        "bin_start": 1377.8,
                        "bin_end": 1377.9,
                        "count": 0
                      },
                      {
                        "bin_start": 1377.9,
                        "bin_end": 1378,
                        "count": 0
                      },
                      {
                        "bin_start": 1378,
                        "bin_end": 1378.1,
                        "count": 1
                      },
                      {
                        "bin_start": 1378.1,
                        "bin_end": 1378.2,
                        "count": 0
                      },
                      {
                        "bin_start": 1378.2,
                        "bin_end": 1378.3,
                        "count": 0
                      },
                      {
                        "bin_start": 1378.3,
                        "bin_end": 1378.4,
                        "count": 0
                      },
                      {
                        "bin_start": 1378.4,
                        "bin_end": 1378.5,
                        "count": 0
                      }
                    ],
                    "categories": null
                  }
                },
                {
                  "name": "Filipino",
                  "dtype": "float64",
                  "stats": {
                    "unique_count": 1,
                    "nan_count": 0,
                    "min": "259.0",
                    "max": "259.0",
                    "histogram": [
                      {
                        "bin_start": 258.5,
                        "bin_end": 258.6,
                        "count": 0
                      },
                      {
                        "bin_start": 258.6,
                        "bin_end": 258.7,
                        "count": 0
                      },
                      {
                        "bin_start": 258.7,
                        "bin_end": 258.8,
                        "count": 0
                      },
                      {
                        "bin_start": 258.8,
                        "bin_end": 258.9,
                        "count": 0
                      },
                      {
                        "bin_start": 258.9,
                        "bin_end": 259,
                        "count": 0
                      },
                      {
                        "bin_start": 259,
                        "bin_end": 259.1,
                        "count": 1
                      },
                      {
                        "bin_start": 259.1,
                        "bin_end": 259.2,
                        "count": 0
                      },
                      {
                        "bin_start": 259.2,
                        "bin_end": 259.3,
                        "count": 0
                      },
                      {
                        "bin_start": 259.3,
                        "bin_end": 259.4,
                        "count": 0
                      },
                      {
                        "bin_start": 259.4,
                        "bin_end": 259.5,
                        "count": 0
                      }
                    ],
                    "categories": null
                  }
                },
                {
                  "name": "Hispanic",
                  "dtype": "float64",
                  "stats": {
                    "unique_count": 1,
                    "nan_count": 0,
                    "min": "21296.0",
                    "max": "21296.0",
                    "histogram": [
                      {
                        "bin_start": 21295.5,
                        "bin_end": 21295.6,
                        "count": 0
                      },
                      {
                        "bin_start": 21295.6,
                        "bin_end": 21295.7,
                        "count": 0
                      },
                      {
                        "bin_start": 21295.7,
                        "bin_end": 21295.8,
                        "count": 0
                      },
                      {
                        "bin_start": 21295.8,
                        "bin_end": 21295.9,
                        "count": 0
                      },
                      {
                        "bin_start": 21295.9,
                        "bin_end": 21296,
                        "count": 0
                      },
                      {
                        "bin_start": 21296,
                        "bin_end": 21296.1,
                        "count": 1
                      },
                      {
                        "bin_start": 21296.1,
                        "bin_end": 21296.2,
                        "count": 0
                      },
                      {
                        "bin_start": 21296.2,
                        "bin_end": 21296.3,
                        "count": 0
                      },
                      {
                        "bin_start": 21296.3,
                        "bin_end": 21296.4,
                        "count": 0
                      },
                      {
                        "bin_start": 21296.4,
                        "bin_end": 21296.5,
                        "count": 0
                      }
                    ],
                    "categories": null
                  }
                },
                {
                  "name": "Pacific Islander",
                  "dtype": "float64",
                  "stats": {
                    "unique_count": 1,
                    "nan_count": 0,
                    "min": "155.0",
                    "max": "155.0",
                    "histogram": [
                      {
                        "bin_start": 154.5,
                        "bin_end": 154.6,
                        "count": 0
                      },
                      {
                        "bin_start": 154.6,
                        "bin_end": 154.7,
                        "count": 0
                      },
                      {
                        "bin_start": 154.7,
                        "bin_end": 154.8,
                        "count": 0
                      },
                      {
                        "bin_start": 154.8,
                        "bin_end": 154.9,
                        "count": 0
                      },
                      {
                        "bin_start": 154.9,
                        "bin_end": 155,
                        "count": 0
                      },
                      {
                        "bin_start": 155,
                        "bin_end": 155.1,
                        "count": 1
                      },
                      {
                        "bin_start": 155.1,
                        "bin_end": 155.2,
                        "count": 0
                      },
                      {
                        "bin_start": 155.2,
                        "bin_end": 155.3,
                        "count": 0
                      },
                      {
                        "bin_start": 155.3,
                        "bin_end": 155.4,
                        "count": 0
                      },
                      {
                        "bin_start": 155.4,
                        "bin_end": 155.5,
                        "count": 0
                      }
                    ],
                    "categories": null
                  }
                },
                {
                  "name": "White",
                  "dtype": "float64",
                  "stats": {
                    "unique_count": 1,
                    "nan_count": 0,
                    "min": "4999.0",
                    "max": "4999.0",
                    "histogram": [
                      {
                        "bin_start": 4998.5,
                        "bin_end": 4998.6,
                        "count": 0
                      },
                      {
                        "bin_start": 4998.6,
                        "bin_end": 4998.7,
                        "count": 0
                      },
                      {
                        "bin_start": 4998.7,
                        "bin_end": 4998.8,
                        "count": 0
                      },
                      {
                        "bin_start": 4998.8,
                        "bin_end": 4998.9,
                        "count": 0
                      },
                      {
                        "bin_start": 4998.9,
                        "bin_end": 4999,
                        "count": 0
                      },
                      {
                        "bin_start": 4999,
                        "bin_end": 4999.1,
                        "count": 1
                      },
                      {
                        "bin_start": 4999.1,
                        "bin_end": 4999.2,
                        "count": 0
                      },
                      {
                        "bin_start": 4999.2,
                        "bin_end": 4999.3,
                        "count": 0
                      },
                      {
                        "bin_start": 4999.3,
                        "bin_end": 4999.4,
                        "count": 0
                      },
                      {
                        "bin_start": 4999.4,
                        "bin_end": 4999.5,
                        "count": 0
                      }
                    ],
                    "categories": null
                  }
                },
                {
                  "name": "Two or More Races",
                  "dtype": "float64",
                  "stats": {
                    "unique_count": 1,
                    "nan_count": 0,
                    "min": "1325.0",
                    "max": "1325.0",
                    "histogram": [
                      {
                        "bin_start": 1324.5,
                        "bin_end": 1324.6,
                        "count": 0
                      },
                      {
                        "bin_start": 1324.6,
                        "bin_end": 1324.7,
                        "count": 0
                      },
                      {
                        "bin_start": 1324.7,
                        "bin_end": 1324.8,
                        "count": 0
                      },
                      {
                        "bin_start": 1324.8,
                        "bin_end": 1324.9,
                        "count": 0
                      },
                      {
                        "bin_start": 1324.9,
                        "bin_end": 1325,
                        "count": 0
                      },
                      {
                        "bin_start": 1325,
                        "bin_end": 1325.1,
                        "count": 1
                      },
                      {
                        "bin_start": 1325.1,
                        "bin_end": 1325.2,
                        "count": 0
                      },
                      {
                        "bin_start": 1325.2,
                        "bin_end": 1325.3,
                        "count": 0
                      },
                      {
                        "bin_start": 1325.3,
                        "bin_end": 1325.4,
                        "count": 0
                      },
                      {
                        "bin_start": 1325.4,
                        "bin_end": 1325.5,
                        "count": 0
                      }
                    ],
                    "categories": null
                  }
                },
                {
                  "name": "Not Reported",
                  "dtype": "float64",
                  "stats": {
                    "unique_count": 1,
                    "nan_count": 0,
                    "min": "1161.0",
                    "max": "1161.0",
                    "histogram": [
                      {
                        "bin_start": 1160.5,
                        "bin_end": 1160.6,
                        "count": 0
                      },
                      {
                        "bin_start": 1160.6,
                        "bin_end": 1160.7,
                        "count": 0
                      },
                      {
                        "bin_start": 1160.7,
                        "bin_end": 1160.8,
                        "count": 0
                      },
                      {
                        "bin_start": 1160.8,
                        "bin_end": 1160.9,
                        "count": 0
                      },
                      {
                        "bin_start": 1160.9,
                        "bin_end": 1161,
                        "count": 0
                      },
                      {
                        "bin_start": 1161,
                        "bin_end": 1161.1,
                        "count": 1
                      },
                      {
                        "bin_start": 1161.1,
                        "bin_end": 1161.2,
                        "count": 0
                      },
                      {
                        "bin_start": 1161.2,
                        "bin_end": 1161.3,
                        "count": 0
                      },
                      {
                        "bin_start": 1161.3,
                        "bin_end": 1161.4,
                        "count": 0
                      },
                      {
                        "bin_start": 1161.4,
                        "bin_end": 1161.5,
                        "count": 0
                      }
                    ],
                    "categories": null
                  }
                },
                {
                  "name": "English Learner",
                  "dtype": "float64",
                  "stats": {
                    "unique_count": 1,
                    "nan_count": 0,
                    "min": "7789.0",
                    "max": "7789.0",
                    "histogram": [
                      {
                        "bin_start": 7788.5,
                        "bin_end": 7788.6,
                        "count": 0
                      },
                      {
                        "bin_start": 7788.6,
                        "bin_end": 7788.7,
                        "count": 0
                      },
                      {
                        "bin_start": 7788.7,
                        "bin_end": 7788.8,
                        "count": 0
                      },
                      {
                        "bin_start": 7788.8,
                        "bin_end": 7788.9,
                        "count": 0
                      },
                      {
                        "bin_start": 7788.9,
                        "bin_end": 7789,
                        "count": 0
                      },
                      {
                        "bin_start": 7789,
                        "bin_end": 7789.1,
                        "count": 1
                      },
                      {
                        "bin_start": 7789.1,
                        "bin_end": 7789.2,
                        "count": 0
                      },
                      {
                        "bin_start": 7789.2,
                        "bin_end": 7789.3,
                        "count": 0
                      },
                      {
                        "bin_start": 7789.3,
                        "bin_end": 7789.4,
                        "count": 0
                      },
                      {
                        "bin_start": 7789.4,
                        "bin_end": 7789.5,
                        "count": 0
                      }
                    ],
                    "categories": null
                  }
                },
                {
                  "name": "Foster",
                  "dtype": "float64",
                  "stats": {
                    "unique_count": 1,
                    "nan_count": 0,
                    "min": "79.0",
                    "max": "79.0",
                    "histogram": [
                      {
                        "bin_start": 78.5,
                        "bin_end": 78.6,
                        "count": 0
                      },
                      {
                        "bin_start": 78.6,
                        "bin_end": 78.7,
                        "count": 0
                      },
                      {
                        "bin_start": 78.7,
                        "bin_end": 78.8,
                        "count": 0
                      },
                      {
                        "bin_start": 78.8,
                        "bin_end": 78.9,
                        "count": 0
                      },
                      {
                        "bin_start": 78.9,
                        "bin_end": 79,
                        "count": 0
                      },
                      {
                        "bin_start": 79,
                        "bin_end": 79.1,
                        "count": 1
                      },
                      {
                        "bin_start": 79.1,
                        "bin_end": 79.2,
                        "count": 0
                      },
                      {
                        "bin_start": 79.2,
                        "bin_end": 79.3,
                        "count": 0
                      },
                      {
                        "bin_start": 79.3,
                        "bin_end": 79.4,
                        "count": 0
                      },
                      {
                        "bin_start": 79.4,
                        "bin_end": 79.5,
                        "count": 0
                      }
                    ],
                    "categories": null
                  }
                },
                {
                  "name": "Homeless",
                  "dtype": "float64",
                  "stats": {
                    "unique_count": 1,
                    "nan_count": 0,
                    "min": "281.0",
                    "max": "281.0",
                    "histogram": [
                      {
                        "bin_start": 280.5,
                        "bin_end": 280.6,
                        "count": 0
                      },
                      {
                        "bin_start": 280.6,
                        "bin_end": 280.7,
                        "count": 0
                      },
                      {
                        "bin_start": 280.7,
                        "bin_end": 280.8,
                        "count": 0
                      },
                      {
                        "bin_start": 280.8,
                        "bin_end": 280.9,
                        "count": 0
                      },
                      {
                        "bin_start": 280.9,
                        "bin_end": 281,
                        "count": 0
                      },
                      {
                        "bin_start": 281,
                        "bin_end": 281.1,
                        "count": 1
                      },
                      {
                        "bin_start": 281.1,
                        "bin_end": 281.2,
                        "count": 0
                      },
                      {
                        "bin_start": 281.2,
                        "bin_end": 281.3,
                        "count": 0
                      },
                      {
                        "bin_start": 281.3,
                        "bin_end": 281.4,
                        "count": 0
                      },
                      {
                        "bin_start": 281.4,
                        "bin_end": 281.5,
                        "count": 0
                      }
                    ],
                    "categories": null
                  }
                },
                {
                  "name": "Migrant",
                  "dtype": "float64",
                  "stats": {
                    "unique_count": 1,
                    "nan_count": 0,
                    "min": "190.0",
                    "max": "190.0",
                    "histogram": [
                      {
                        "bin_start": 189.5,
                        "bin_end": 189.6,
                        "count": 0
                      },
                      {
                        "bin_start": 189.6,
                        "bin_end": 189.7,
                        "count": 0
                      },
                      {
                        "bin_start": 189.7,
                        "bin_end": 189.8,
                        "count": 0
                      },
                      {
                        "bin_start": 189.8,
                        "bin_end": 189.9,
                        "count": 0
                      },
                      {
                        "bin_start": 189.9,
                        "bin_end": 190,
                        "count": 0
                      },
                      {
                        "bin_start": 190,
                        "bin_end": 190.1,
                        "count": 1
                      },
                      {
                        "bin_start": 190.1,
                        "bin_end": 190.2,
                        "count": 0
                      },
                      {
                        "bin_start": 190.2,
                        "bin_end": 190.3,
                        "count": 0
                      },
                      {
                        "bin_start": 190.3,
                        "bin_end": 190.4,
                        "count": 0
                      },
                      {
                        "bin_start": 190.4,
                        "bin_end": 190.5,
                        "count": 0
                      }
                    ],
                    "categories": null
                  }
                },
                {
                  "name": "Students with Disabilities",
                  "dtype": "float64",
                  "stats": {
                    "unique_count": 1,
                    "nan_count": 0,
                    "min": "3995.0",
                    "max": "3995.0",
                    "histogram": [
                      {
                        "bin_start": 3994.5,
                        "bin_end": 3994.6,
                        "count": 0
                      },
                      {
                        "bin_start": 3994.6,
                        "bin_end": 3994.7,
                        "count": 0
                      },
                      {
                        "bin_start": 3994.7,
                        "bin_end": 3994.8,
                        "count": 0
                      },
                      {
                        "bin_start": 3994.8,
                        "bin_end": 3994.9,
                        "count": 0
                      },
                      {
                        "bin_start": 3994.9,
                        "bin_end": 3995,
                        "count": 0
                      },
                      {
                        "bin_start": 3995,
                        "bin_end": 3995.1,
                        "count": 1
                      },
                      {
                        "bin_start": 3995.1,
                        "bin_end": 3995.2,
                        "count": 0
                      },
                      {
                        "bin_start": 3995.2,
                        "bin_end": 3995.3,
                        "count": 0
                      },
                      {
                        "bin_start": 3995.3,
                        "bin_end": 3995.4,
                        "count": 0
                      },
                      {
                        "bin_start": 3995.4,
                        "bin_end": 3995.5,
                        "count": 0
                      }
                    ],
                    "categories": null
                  }
                },
                {
                  "name": "Socioeconomically Disadvantaged",
                  "dtype": "float64",
                  "stats": {
                    "unique_count": 1,
                    "nan_count": 0,
                    "min": "24229.0",
                    "max": "24229.0",
                    "histogram": [
                      {
                        "bin_start": 24228.5,
                        "bin_end": 24228.6,
                        "count": 0
                      },
                      {
                        "bin_start": 24228.6,
                        "bin_end": 24228.7,
                        "count": 0
                      },
                      {
                        "bin_start": 24228.7,
                        "bin_end": 24228.8,
                        "count": 0
                      },
                      {
                        "bin_start": 24228.8,
                        "bin_end": 24228.9,
                        "count": 0
                      },
                      {
                        "bin_start": 24228.9,
                        "bin_end": 24229,
                        "count": 0
                      },
                      {
                        "bin_start": 24229,
                        "bin_end": 24229.1,
                        "count": 1
                      },
                      {
                        "bin_start": 24229.1,
                        "bin_end": 24229.2,
                        "count": 0
                      },
                      {
                        "bin_start": 24229.2,
                        "bin_end": 24229.3,
                        "count": 0
                      },
                      {
                        "bin_start": 24229.3,
                        "bin_end": 24229.4,
                        "count": 0
                      },
                      {
                        "bin_start": 24229.4,
                        "bin_end": 24229.5,
                        "count": 0
                      }
                    ],
                    "categories": null
                  }
                },
                {
                  "name": "African American (%)",
                  "dtype": "float64",
                  "stats": {
                    "unique_count": 1,
                    "nan_count": 0,
                    "min": "2.452992268779231",
                    "max": "2.452992268779231",
                    "histogram": [
                      {
                        "bin_start": 1.952992268779231,
                        "bin_end": 2.052992268779231,
                        "count": 0
                      },
                      {
                        "bin_start": 2.052992268779231,
                        "bin_end": 2.152992268779231,
                        "count": 0
                      },
                      {
                        "bin_start": 2.152992268779231,
                        "bin_end": 2.2529922687792308,
                        "count": 0
                      },
                      {
                        "bin_start": 2.2529922687792308,
                        "bin_end": 2.352992268779231,
                        "count": 0
                      },
                      {
                        "bin_start": 2.352992268779231,
                        "bin_end": 2.452992268779231,
                        "count": 0
                      },
                      {
                        "bin_start": 2.452992268779231,
                        "bin_end": 2.552992268779231,
                        "count": 1
                      },
                      {
                        "bin_start": 2.552992268779231,
                        "bin_end": 2.652992268779231,
                        "count": 0
                      },
                      {
                        "bin_start": 2.652992268779231,
                        "bin_end": 2.7529922687792308,
                        "count": 0
                      },
                      {
                        "bin_start": 2.7529922687792308,
                        "bin_end": 2.852992268779231,
                        "count": 0
                      },
                      {
                        "bin_start": 2.852992268779231,
                        "bin_end": 2.952992268779231,
                        "count": 0
                      }
                    ],
                    "categories": null
                  }
                },
                {
                  "name": "American Indian (%)",
                  "dtype": "float64",
                  "stats": {
                    "unique_count": 1,
                    "nan_count": 0,
                    "min": "0.27679679297508825",
                    "max": "0.27679679297508825",
                    "histogram": [
                      {
                        "bin_start": -0.22320320702491175,
                        "bin_end": -0.12320320702491175,
                        "count": 0
                      },
                      {
                        "bin_start": -0.12320320702491175,
                        "bin_end": -0.023203207024911743,
                        "count": 0
                      },
                      {
                        "bin_start": -0.023203207024911743,
                        "bin_end": 0.07679679297508829,
                        "count": 0
                      },
                      {
                        "bin_start": 0.07679679297508829,
                        "bin_end": 0.17679679297508827,
                        "count": 0
                      },
                      {
                        "bin_start": 0.17679679297508827,
                        "bin_end": 0.27679679297508825,
                        "count": 0
                      },
                      {
                        "bin_start": 0.27679679297508825,
                        "bin_end": 0.37679679297508833,
                        "count": 1
                      },
                      {
                        "bin_start": 0.37679679297508833,
                        "bin_end": 0.4767967929750883,
                        "count": 0
                      },
                      {
                        "bin_start": 0.4767967929750883,
                        "bin_end": 0.5767967929750883,
                        "count": 0
                      },
                      {
                        "bin_start": 0.5767967929750883,
                        "bin_end": 0.6767967929750882,
                        "count": 0
                      },
                      {
                        "bin_start": 0.6767967929750882,
                        "bin_end": 0.7767967929750883,
                        "count": 0
                      }
                    ],
                    "categories": null
                  }
                },
                {
                  "name": "Asian (%)",
                  "dtype": "float64",
                  "stats": {
                    "unique_count": 1,
                    "nan_count": 0,
                    "min": "4.3842066749387545",
                    "max": "4.3842066749387545",
                    "histogram": [
                      {
                        "bin_start": 3.8842066749387545,
                        "bin_end": 3.9842066749387546,
                        "count": 0
                      },
                      {
                        "bin_start": 3.9842066749387546,
                        "bin_end": 4.084206674938755,
                        "count": 0
                      },
                      {
                        "bin_start": 4.084206674938755,
                        "bin_end": 4.184206674938754,
                        "count": 0
                      },
                      {
                        "bin_start": 4.184206674938754,
                        "bin_end": 4.284206674938755,
                        "count": 0
                      },
                      {
                        "bin_start": 4.284206674938755,
                        "bin_end": 4.3842066749387545,
                        "count": 0
                      },
                      {
                        "bin_start": 4.3842066749387545,
                        "bin_end": 4.484206674938754,
                        "count": 1
                      },
                      {
                        "bin_start": 4.484206674938754,
                        "bin_end": 4.584206674938755,
                        "count": 0
                      },
                      {
                        "bin_start": 4.584206674938755,
                        "bin_end": 4.684206674938754,
                        "count": 0
                      },
                      {
                        "bin_start": 4.684206674938754,
                        "bin_end": 4.784206674938755,
                        "count": 0
                      },
                      {
                        "bin_start": 4.784206674938755,
                        "bin_end": 4.8842066749387545,
                        "count": 0
                      }
                    ],
                    "categories": null
                  }
                },
                {
                  "name": "Filipino (%)",
                  "dtype": "float64",
                  "stats": {
                    "unique_count": 1,
                    "nan_count": 0,
                    "min": "0.8240272342591708",
                    "max": "0.8240272342591708",
                    "histogram": [
                      {
                        "bin_start": 0.3240272342591708,
                        "bin_end": 0.42402723425917077,
                        "count": 0
                      },
                      {
                        "bin_start": 0.42402723425917077,
                        "bin_end": 0.5240272342591707,
                        "count": 0
                      },
                      {
                        "bin_start": 0.5240272342591707,
                        "bin_end": 0.6240272342591708,
                        "count": 0
                      },
                      {
                        "bin_start": 0.6240272342591708,
                        "bin_end": 0.7240272342591708,
                        "count": 0
                      },
                      {
                        "bin_start": 0.7240272342591708,
                        "bin_end": 0.8240272342591708,
                        "count": 0
                      },
                      {
                        "bin_start": 0.8240272342591708,
                        "bin_end": 0.9240272342591709,
                        "count": 1
                      },
                      {
                        "bin_start": 0.9240272342591709,
                        "bin_end": 1.024027234259171,
                        "count": 0
                      },
                      {
                        "bin_start": 1.024027234259171,
                        "bin_end": 1.1240272342591708,
                        "count": 0
                      },
                      {
                        "bin_start": 1.1240272342591708,
                        "bin_end": 1.2240272342591707,
                        "count": 0
                      },
                      {
                        "bin_start": 1.2240272342591707,
                        "bin_end": 1.3240272342591708,
                        "count": 0
                      }
                    ],
                    "categories": null
                  }
                },
                {
                  "name": "Hispanic (%)",
                  "dtype": "float64",
                  "stats": {
                    "unique_count": 1,
                    "nan_count": 0,
                    "min": "67.75476440456873",
                    "max": "67.75476440456873",
                    "histogram": [
                      {
                        "bin_start": 67.25476440456873,
                        "bin_end": 67.35476440456873,
                        "count": 0
                      },
                      {
                        "bin_start": 67.35476440456873,
                        "bin_end": 67.45476440456873,
                        "count": 0
                      },
                      {
                        "bin_start": 67.45476440456873,
                        "bin_end": 67.55476440456873,
                        "count": 0
                      },
                      {
                        "bin_start": 67.55476440456873,
                        "bin_end": 67.65476440456874,
                        "count": 0
                      },
                      {
                        "bin_start": 67.65476440456874,
                        "bin_end": 67.75476440456873,
                        "count": 0
                      },
                      {
                        "bin_start": 67.75476440456873,
                        "bin_end": 67.85476440456873,
                        "count": 1
                      },
                      {
                        "bin_start": 67.85476440456873,
                        "bin_end": 67.95476440456873,
                        "count": 0
                      },
                      {
                        "bin_start": 67.95476440456873,
                        "bin_end": 68.05476440456873,
                        "count": 0
                      },
                      {
                        "bin_start": 68.05476440456873,
                        "bin_end": 68.15476440456874,
                        "count": 0
                      },
                      {
                        "bin_start": 68.15476440456874,
                        "bin_end": 68.25476440456873,
                        "count": 0
                      }
                    ],
                    "categories": null
                  }
                },
                {
                  "name": "Pacific Islander (%)",
                  "dtype": "float64",
                  "stats": {
                    "unique_count": 1,
                    "nan_count": 0,
                    "min": "0.4931437116222837",
                    "max": "0.4931437116222837",
                    "histogram": [
                      {
                        "bin_start": -0.006856288377716291,
                        "bin_end": 0.09314371162228371,
                        "count": 0
                      },
                      {
                        "bin_start": 0.09314371162228371,
                        "bin_end": 0.19314371162228372,
                        "count": 0
                      },
                      {
                        "bin_start": 0.19314371162228372,
                        "bin_end": 0.29314371162228375,
                        "count": 0
                      },
                      {
                        "bin_start": 0.29314371162228375,
                        "bin_end": 0.39314371162228373,
                        "count": 0
                      },
                      {
                        "bin_start": 0.39314371162228373,
                        "bin_end": 0.4931437116222837,
                        "count": 0
                      },
                      {
                        "bin_start": 0.4931437116222837,
                        "bin_end": 0.5931437116222837,
                        "count": 1
                      },
                      {
                        "bin_start": 0.5931437116222837,
                        "bin_end": 0.6931437116222838,
                        "count": 0
                      },
                      {
                        "bin_start": 0.6931437116222838,
                        "bin_end": 0.7931437116222837,
                        "count": 0
                      },
                      {
                        "bin_start": 0.7931437116222837,
                        "bin_end": 0.8931437116222838,
                        "count": 0
                      },
                      {
                        "bin_start": 0.8931437116222838,
                        "bin_end": 0.9931437116222837,
                        "count": 0
                      }
                    ],
                    "categories": null
                  }
                },
                {
                  "name": "White (%)",
                  "dtype": "float64",
                  "stats": {
                    "unique_count": 1,
                    "nan_count": 0,
                    "min": "15.904680092901913",
                    "max": "15.904680092901913",
                    "histogram": [
                      {
                        "bin_start": 15.404680092901913,
                        "bin_end": 15.504680092901912,
                        "count": 0
                      },
                      {
                        "bin_start": 15.504680092901912,
                        "bin_end": 15.604680092901912,
                        "count": 0
                      },
                      {
                        "bin_start": 15.604680092901912,
                        "bin_end": 15.704680092901913,
                        "count": 0
                      },
                      {
                        "bin_start": 15.704680092901913,
                        "bin_end": 15.804680092901913,
                        "count": 0
                      },
                      {
                        "bin_start": 15.804680092901913,
                        "bin_end": 15.904680092901913,
                        "count": 0
                      },
                      {
                        "bin_start": 15.904680092901913,
                        "bin_end": 16.004680092901914,
                        "count": 1
                      },
                      {
                        "bin_start": 16.004680092901914,
                        "bin_end": 16.104680092901912,
                        "count": 0
                      },
                      {
                        "bin_start": 16.104680092901912,
                        "bin_end": 16.204680092901913,
                        "count": 0
                      },
                      {
                        "bin_start": 16.204680092901913,
                        "bin_end": 16.30468009290191,
                        "count": 0
                      },
                      {
                        "bin_start": 16.30468009290191,
                        "bin_end": 16.404680092901913,
                        "count": 0
                      }
                    ],
                    "categories": null
                  }
                },
                {
                  "name": "Two or More Races (%)",
                  "dtype": "float64",
                  "stats": {
                    "unique_count": 1,
                    "nan_count": 0,
                    "min": "4.215583341287264",
                    "max": "4.215583341287264",
                    "histogram": [
                      {
                        "bin_start": 3.715583341287264,
                        "bin_end": 3.815583341287264,
                        "count": 0
                      },
                      {
                        "bin_start": 3.815583341287264,
                        "bin_end": 3.915583341287264,
                        "count": 0
                      },
                      {
                        "bin_start": 3.915583341287264,
                        "bin_end": 4.015583341287264,
                        "count": 0
                      },
                      {
                        "bin_start": 4.015583341287264,
                        "bin_end": 4.115583341287264,
                        "count": 0
                      },
                      {
                        "bin_start": 4.115583341287264,
                        "bin_end": 4.215583341287264,
                        "count": 0
                      },
                      {
                        "bin_start": 4.215583341287264,
                        "bin_end": 4.3155833412872635,
                        "count": 1
                      },
                      {
                        "bin_start": 4.3155833412872635,
                        "bin_end": 4.415583341287264,
                        "count": 0
                      },
                      {
                        "bin_start": 4.415583341287264,
                        "bin_end": 4.515583341287264,
                        "count": 0
                      },
                      {
                        "bin_start": 4.515583341287264,
                        "bin_end": 4.615583341287264,
                        "count": 0
                      },
                      {
                        "bin_start": 4.615583341287264,
                        "bin_end": 4.715583341287264,
                        "count": 0
                      }
                    ],
                    "categories": null
                  }
                },
                {
                  "name": "Not Reported (%)",
                  "dtype": "float64",
                  "stats": {
                    "unique_count": 1,
                    "nan_count": 0,
                    "min": "3.693805478667558",
                    "max": "3.693805478667558",
                    "histogram": [
                      {
                        "bin_start": 3.193805478667558,
                        "bin_end": 3.293805478667558,
                        "count": 0
                      },
                      {
                        "bin_start": 3.293805478667558,
                        "bin_end": 3.393805478667558,
                        "count": 0
                      },
                      {
                        "bin_start": 3.393805478667558,
                        "bin_end": 3.493805478667558,
                        "count": 0
                      },
                      {
                        "bin_start": 3.493805478667558,
                        "bin_end": 3.593805478667558,
                        "count": 0
                      },
                      {
                        "bin_start": 3.593805478667558,
                        "bin_end": 3.6938054786675583,
                        "count": 1
                      },
                      {
                        "bin_start": 3.6938054786675583,
                        "bin_end": 3.793805478667558,
                        "count": 0
                      },
                      {
                        "bin_start": 3.793805478667558,
                        "bin_end": 3.893805478667558,
                        "count": 0
                      },
                      {
                        "bin_start": 3.893805478667558,
                        "bin_end": 3.993805478667558,
                        "count": 0
                      },
                      {
                        "bin_start": 3.993805478667558,
                        "bin_end": 4.093805478667559,
                        "count": 0
                      },
                      {
                        "bin_start": 4.093805478667559,
                        "bin_end": 4.193805478667558,
                        "count": 0
                      }
                    ],
                    "categories": null
                  }
                },
                {
                  "name": "English Learner (%)",
                  "dtype": "float64",
                  "stats": {
                    "unique_count": 1,
                    "nan_count": 0,
                    "min": "24.78126690210302",
                    "max": "24.78126690210302",
                    "histogram": [
                      {
                        "bin_start": 24.28126690210302,
                        "bin_end": 24.38126690210302,
                        "count": 0
                      },
                      {
                        "bin_start": 24.38126690210302,
                        "bin_end": 24.48126690210302,
                        "count": 0
                      },
                      {
                        "bin_start": 24.48126690210302,
                        "bin_end": 24.58126690210302,
                        "count": 0
                      },
                      {
                        "bin_start": 24.58126690210302,
                        "bin_end": 24.68126690210302,
                        "count": 0
                      },
                      {
                        "bin_start": 24.68126690210302,
                        "bin_end": 24.78126690210302,
                        "count": 0
                      },
                      {
                        "bin_start": 24.78126690210302,
                        "bin_end": 24.88126690210302,
                        "count": 1
                      },
                      {
                        "bin_start": 24.88126690210302,
                        "bin_end": 24.98126690210302,
                        "count": 0
                      },
                      {
                        "bin_start": 24.98126690210302,
                        "bin_end": 25.08126690210302,
                        "count": 0
                      },
                      {
                        "bin_start": 25.08126690210302,
                        "bin_end": 25.18126690210302,
                        "count": 0
                      },
                      {
                        "bin_start": 25.18126690210302,
                        "bin_end": 25.28126690210302,
                        "count": 0
                      }
                    ],
                    "categories": null
                  }
                },
                {
                  "name": "Foster (%)",
                  "dtype": "float64",
                  "stats": {
                    "unique_count": 1,
                    "nan_count": 0,
                    "min": "0.25134421431071235",
                    "max": "0.25134421431071235",
                    "histogram": [
                      {
                        "bin_start": -0.24865578568928765,
                        "bin_end": -0.14865578568928764,
                        "count": 0
                      },
                      {
                        "bin_start": -0.14865578568928764,
                        "bin_end": -0.048655785689287634,
                        "count": 0
                      },
                      {
                        "bin_start": -0.048655785689287634,
                        "bin_end": 0.0513442143107124,
                        "count": 0
                      },
                      {
                        "bin_start": 0.0513442143107124,
                        "bin_end": 0.15134421431071238,
                        "count": 0
                      },
                      {
                        "bin_start": 0.15134421431071238,
                        "bin_end": 0.25134421431071235,
                        "count": 0
                      },
                      {
                        "bin_start": 0.25134421431071235,
                        "bin_end": 0.35134421431071244,
                        "count": 1
                      },
                      {
                        "bin_start": 0.35134421431071244,
                        "bin_end": 0.4513442143107124,
                        "count": 0
                      },
                      {
                        "bin_start": 0.4513442143107124,
                        "bin_end": 0.5513442143107123,
                        "count": 0
                      },
                      {
                        "bin_start": 0.5513442143107123,
                        "bin_end": 0.6513442143107124,
                        "count": 0
                      },
                      {
                        "bin_start": 0.6513442143107124,
                        "bin_end": 0.7513442143107123,
                        "count": 0
                      }
                    ],
                    "categories": null
                  }
                },
                {
                  "name": "Homeless (%)",
                  "dtype": "float64",
                  "stats": {
                    "unique_count": 1,
                    "nan_count": 0,
                    "min": "0.8940218255862047",
                    "max": "0.8940218255862047",
                    "histogram": [
                      {
                        "bin_start": 0.3940218255862047,
                        "bin_end": 0.49402182558620467,
                        "count": 0
                      },
                      {
                        "bin_start": 0.49402182558620467,
                        "bin_end": 0.5940218255862046,
                        "count": 0
                      },
                      {
                        "bin_start": 0.5940218255862046,
                        "bin_end": 0.6940218255862047,
                        "count": 0
                      },
                      {
                        "bin_start": 0.6940218255862047,
                        "bin_end": 0.7940218255862047,
                        "count": 0
                      },
                      {
                        "bin_start": 0.7940218255862047,
                        "bin_end": 0.8940218255862047,
                        "count": 0
                      },
                      {
                        "bin_start": 0.8940218255862047,
                        "bin_end": 0.9940218255862048,
                        "count": 1
                      },
                      {
                        "bin_start": 0.9940218255862048,
                        "bin_end": 1.0940218255862049,
                        "count": 0
                      },
                      {
                        "bin_start": 1.0940218255862049,
                        "bin_end": 1.1940218255862047,
                        "count": 0
                      },
                      {
                        "bin_start": 1.1940218255862047,
                        "bin_end": 1.2940218255862046,
                        "count": 0
                      },
                      {
                        "bin_start": 1.2940218255862046,
                        "bin_end": 1.3940218255862047,
                        "count": 0
                      }
                    ],
                    "categories": null
                  }
                },
                {
                  "name": "Migrant (%)",
                  "dtype": "float64",
                  "stats": {
                    "unique_count": 1,
                    "nan_count": 0,
                    "min": "0.6044987432789284",
                    "max": "0.6044987432789284",
                    "histogram": [
                      {
                        "bin_start": 0.10449874327892839,
                        "bin_end": 0.2044987432789284,
                        "count": 0
                      },
                      {
                        "bin_start": 0.2044987432789284,
                        "bin_end": 0.3044987432789284,
                        "count": 0
                      },
                      {
                        "bin_start": 0.3044987432789284,
                        "bin_end": 0.40449874327892843,
                        "count": 0
                      },
                      {
                        "bin_start": 0.40449874327892843,
                        "bin_end": 0.5044987432789284,
                        "count": 0
                      },
                      {
                        "bin_start": 0.5044987432789284,
                        "bin_end": 0.6044987432789284,
                        "count": 0
                      },
                      {
                        "bin_start": 0.6044987432789284,
                        "bin_end": 0.7044987432789285,
                        "count": 1
                      },
                      {
                        "bin_start": 0.7044987432789285,
                        "bin_end": 0.8044987432789285,
                        "count": 0
                      },
                      {
                        "bin_start": 0.8044987432789285,
                        "bin_end": 0.9044987432789284,
                        "count": 0
                      },
                      {
                        "bin_start": 0.9044987432789284,
                        "bin_end": 1.0044987432789285,
                        "count": 0
                      },
                      {
                        "bin_start": 1.0044987432789285,
                        "bin_end": 1.1044987432789284,
                        "count": 0
                      }
                    ],
                    "categories": null
                  }
                },
                {
                  "name": "Students with Disabilities (%)",
                  "dtype": "float64",
                  "stats": {
                    "unique_count": 1,
                    "nan_count": 0,
                    "min": "12.710381470522734",
                    "max": "12.710381470522734",
                    "histogram": [
                      {
                        "bin_start": 12.210381470522734,
                        "bin_end": 12.310381470522733,
                        "count": 0
                      },
                      {
                        "bin_start": 12.310381470522733,
                        "bin_end": 12.410381470522733,
                        "count": 0
                      },
                      {
                        "bin_start": 12.410381470522733,
                        "bin_end": 12.510381470522734,
                        "count": 0
                      },
                      {
                        "bin_start": 12.510381470522734,
                        "bin_end": 12.610381470522734,
                        "count": 0
                      },
                      {
                        "bin_start": 12.610381470522734,
                        "bin_end": 12.710381470522734,
                        "count": 0
                      },
                      {
                        "bin_start": 12.710381470522734,
                        "bin_end": 12.810381470522733,
                        "count": 1
                      },
                      {
                        "bin_start": 12.810381470522733,
                        "bin_end": 12.910381470522733,
                        "count": 0
                      },
                      {
                        "bin_start": 12.910381470522733,
                        "bin_end": 13.010381470522734,
                        "count": 0
                      },
                      {
                        "bin_start": 13.010381470522734,
                        "bin_end": 13.110381470522734,
                        "count": 0
                      },
                      {
                        "bin_start": 13.110381470522734,
                        "bin_end": 13.210381470522734,
                        "count": 0
                      }
                    ],
                    "categories": null
                  }
                },
                {
                  "name": "Socioeconomically Disadvantaged (%)",
                  "dtype": "float64",
                  "stats": {
                    "unique_count": 1,
                    "nan_count": 0,
                    "min": "77.08631605739556",
                    "max": "77.08631605739556",
                    "histogram": [
                      {
                        "bin_start": 76.58631605739556,
                        "bin_end": 76.68631605739556,
                        "count": 0
                      },
                      {
                        "bin_start": 76.68631605739556,
                        "bin_end": 76.78631605739557,
                        "count": 0
                      },
                      {
                        "bin_start": 76.78631605739557,
                        "bin_end": 76.88631605739556,
                        "count": 0
                      },
                      {
                        "bin_start": 76.88631605739556,
                        "bin_end": 76.98631605739557,
                        "count": 0
                      },
                      {
                        "bin_start": 76.98631605739557,
                        "bin_end": 77.08631605739556,
                        "count": 0
                      },
                      {
                        "bin_start": 77.08631605739556,
                        "bin_end": 77.18631605739556,
                        "count": 1
                      },
                      {
                        "bin_start": 77.18631605739556,
                        "bin_end": 77.28631605739557,
                        "count": 0
                      },
                      {
                        "bin_start": 77.28631605739557,
                        "bin_end": 77.38631605739556,
                        "count": 0
                      },
                      {
                        "bin_start": 77.38631605739556,
                        "bin_end": 77.48631605739557,
                        "count": 0
                      },
                      {
                        "bin_start": 77.48631605739557,
                        "bin_end": 77.58631605739556,
                        "count": 0
                      }
                    ],
                    "categories": null
                  }
                },
                {
                  "name": "District Code",
                  "dtype": "object",
                  "stats": {
                    "unique_count": 1,
                    "nan_count": 0,
                    "min": null,
                    "max": null,
                    "histogram": null,
                    "categories": [
                      {
                        "name": "40717",
                        "count": 1
                      }
                    ]
                  }
                },
                {
                  "name": "County Name",
                  "dtype": "object",
                  "stats": {
                    "unique_count": 1,
                    "nan_count": 0,
                    "min": null,
                    "max": null,
                    "histogram": null,
                    "categories": [
                      {
                        "name": "Stanislaus",
                        "count": 1
                      }
                    ]
                  }
                },
                {
                  "name": "District Type",
                  "dtype": "object",
                  "stats": {
                    "unique_count": 1,
                    "nan_count": 0,
                    "min": null,
                    "max": null,
                    "histogram": null,
                    "categories": [
                      {
                        "name": "Elementary",
                        "count": 1
                      }
                    ]
                  }
                },
                {
                  "name": "Grade Low",
                  "dtype": "object",
                  "stats": {
                    "unique_count": 1,
                    "nan_count": 0,
                    "min": null,
                    "max": null,
                    "histogram": null,
                    "categories": [
                      {
                        "name": "KG",
                        "count": 1
                      }
                    ]
                  }
                },
                {
                  "name": "Grade High",
                  "dtype": "object",
                  "stats": {
                    "unique_count": 1,
                    "nan_count": 0,
                    "min": null,
                    "max": null,
                    "histogram": null,
                    "categories": [
                      {
                        "name": "12",
                        "count": 1
                      }
                    ]
                  }
                },
                {
                  "name": "Grade Low Census",
                  "dtype": "object",
                  "stats": {
                    "unique_count": 1,
                    "nan_count": 0,
                    "min": null,
                    "max": null,
                    "histogram": null,
                    "categories": [
                      {
                        "name": "KG",
                        "count": 1
                      }
                    ]
                  }
                },
                {
                  "name": "Grade High Census",
                  "dtype": "object",
                  "stats": {
                    "unique_count": 1,
                    "nan_count": 0,
                    "min": null,
                    "max": null,
                    "histogram": null,
                    "categories": [
                      {
                        "name": "8",
                        "count": 1
                      }
                    ]
                  }
                },
                {
                  "name": "Assistance Status",
                  "dtype": "object",
                  "stats": {
                    "unique_count": 1,
                    "nan_count": 0,
                    "min": null,
                    "max": null,
                    "histogram": null,
                    "categories": [
                      {
                        "name": "Differentiated Assistance",
                        "count": 1
                      }
                    ]
                  }
                },
                {
                  "name": "District Name",
                  "dtype": "object",
                  "stats": {
                    "unique_count": 1,
                    "nan_count": 0,
                    "min": null,
                    "max": null,
                    "histogram": null,
                    "categories": [
                      {
                        "name": "Modesto City Schools",
                        "count": 1
                      }
                    ]
                  }
                },
                {
                  "name": "District Label",
                  "dtype": "object",
                  "stats": {
                    "unique_count": 1,
                    "nan_count": 0,
                    "min": null,
                    "max": null,
                    "histogram": null,
                    "categories": [
                      {
                        "name": "Modesto City Schools (Stanislaus)",
                        "count": 1
                      }
                    ]
                  }
                },
                {
                  "name": "_deepnote_index_column",
                  "dtype": "int64"
                }
              ],
              "row_count": 1,
              "preview_row_count": 1,
              "rows": [
                {
                  "Enroll Total": 31431,
                  "Enroll Charter": 1754,
                  "Enroll Non Charter": 29677,
                  "African American": 771,
                  "American Indian": 87,
                  "Asian": 1378,
                  "Filipino": 259,
                  "Hispanic": 21296,
                  "Pacific Islander": 155,
                  "White": 4999,
                  "Two or More Races": 1325,
                  "Not Reported": 1161,
                  "English Learner": 7789,
                  "Foster": 79,
                  "Homeless": 281,
                  "Migrant": 190,
                  "Students with Disabilities": 3995,
                  "Socioeconomically Disadvantaged": 24229,
                  "African American (%)": 2.452992268779231,
                  "American Indian (%)": 0.27679679297508825,
                  "Asian (%)": 4.3842066749387545,
                  "Filipino (%)": 0.8240272342591708,
                  "Hispanic (%)": 67.75476440456873,
                  "Pacific Islander (%)": 0.4931437116222837,
                  "White (%)": 15.904680092901913,
                  "Two or More Races (%)": 4.215583341287264,
                  "Not Reported (%)": 3.693805478667558,
                  "English Learner (%)": 24.78126690210302,
                  "Foster (%)": 0.25134421431071235,
                  "Homeless (%)": 0.8940218255862047,
                  "Migrant (%)": 0.6044987432789284,
                  "Students with Disabilities (%)": 12.710381470522734,
                  "Socioeconomically Disadvantaged (%)": 77.08631605739556,
                  "District Code": "40717",
                  "County Name": "Stanislaus",
                  "District Type": "Elementary",
                  "Grade Low": "KG",
                  "Grade High": "12",
                  "Grade Low Census": "KG",
                  "Grade High Census": "8",
                  "Assistance Status": "Differentiated Assistance",
                  "District Name": "Modesto City Schools",
                  "District Label": "Modesto City Schools (Stanislaus)",
                  "_deepnote_index_column": 0
                }
              ],
              "type": "dataframe"
            },
            "text/plain": "   Enroll Total  Enroll Charter  Enroll Non Charter  African American  \\\n0       31431.0          1754.0             29677.0             771.0   \n\n   American Indian   Asian  Filipino  Hispanic  Pacific Islander   White  ...  \\\n0             87.0  1378.0     259.0   21296.0             155.0  4999.0  ...   \n\n   District Code  County Name  District Type  Grade Low  Grade High  \\\n0          40717   Stanislaus     Elementary         KG          12   \n\n   Grade Low Census  Grade High Census          Assistance Status  \\\n0                KG                  8  Differentiated Assistance   \n\n          District Name                     District Label  \n0  Modesto City Schools  Modesto City Schools (Stanislaus)  \n\n[1 rows x 43 columns]",
            "text/html": "<div>\n<style scoped>\n    .dataframe tbody tr th:only-of-type {\n        vertical-align: middle;\n    }\n\n    .dataframe tbody tr th {\n        vertical-align: top;\n    }\n\n    .dataframe thead th {\n        text-align: right;\n    }\n</style>\n<table border=\"1\" class=\"dataframe\">\n  <thead>\n    <tr style=\"text-align: right;\">\n      <th></th>\n      <th>Enroll Total</th>\n      <th>Enroll Charter</th>\n      <th>Enroll Non Charter</th>\n      <th>African American</th>\n      <th>American Indian</th>\n      <th>Asian</th>\n      <th>Filipino</th>\n      <th>Hispanic</th>\n      <th>Pacific Islander</th>\n      <th>White</th>\n      <th>...</th>\n      <th>District Code</th>\n      <th>County Name</th>\n      <th>District Type</th>\n      <th>Grade Low</th>\n      <th>Grade High</th>\n      <th>Grade Low Census</th>\n      <th>Grade High Census</th>\n      <th>Assistance Status</th>\n      <th>District Name</th>\n      <th>District Label</th>\n    </tr>\n  </thead>\n  <tbody>\n    <tr>\n      <th>0</th>\n      <td>31431.0</td>\n      <td>1754.0</td>\n      <td>29677.0</td>\n      <td>771.0</td>\n      <td>87.0</td>\n      <td>1378.0</td>\n      <td>259.0</td>\n      <td>21296.0</td>\n      <td>155.0</td>\n      <td>4999.0</td>\n      <td>...</td>\n      <td>40717</td>\n      <td>Stanislaus</td>\n      <td>Elementary</td>\n      <td>KG</td>\n      <td>12</td>\n      <td>KG</td>\n      <td>8</td>\n      <td>Differentiated Assistance</td>\n      <td>Modesto City Schools</td>\n      <td>Modesto City Schools (Stanislaus)</td>\n    </tr>\n  </tbody>\n</table>\n<p>1 rows × 43 columns</p>\n</div>"
          },
          "metadata": {},
          "output_type": "display_data"
        }
      ],
      "outputs_reference": null,
      "content_dependencies": null
    },
    {
      "cell_type": "markdown",
      "metadata": {
        "id": "HCX6ljkJWhbY",
        "deepnote_app_block_order": 44,
        "deepnote_app_block_visible": true,
        "deepnote_app_block_group_id": null,
        "cell_id": "e6b87b79dc83498788aab3c342b16fb2",
        "deepnote_cell_type": "markdown"
      },
      "source": "#### Step 9: Add `District Label` Column to Rest of `district_data`",
      "block_group": "f98f48036771402a89a99d815350be5c"
    },
    {
      "cell_type": "code",
      "metadata": {
        "id": "6E7fiOceWhD6",
        "colab": {
          "height": 516,
          "base_uri": "https://localhost:8080/"
        },
        "outputId": "5ebcca53-c959-4c3b-b3d7-726df5d177d3",
        "source_hash": "39bbe8e4",
        "execution_start": 1759790536823,
        "execution_millis": 1,
        "execution_context_id": "f1ca50dd-93b4-4efd-8fa9-6064dddd03f8",
        "deepnote_app_block_order": 45,
        "deepnote_app_block_visible": true,
        "deepnote_app_block_group_id": null,
        "deepnote_app_is_code_hidden": true,
        "deepnote_app_is_output_hidden": false,
        "cell_id": "64c7df34854b44928e8f3d2e561cb4be",
        "deepnote_cell_type": "code"
      },
      "source": "# Add `District Label` Column to rest of `district_data`\n\ndistrict_data['District Label'] = (\n    district_data['District Name'].astype(str)\n    + \" (\" + district_data['County Name'] + \")\"\n)\n\ndistrict_data.head()",
      "block_group": "284523bd66634b8facaeb89f1e562f4d",
      "execution_count": 16,
      "outputs": [
        {
          "output_type": "execute_result",
          "execution_count": 16,
          "data": {
            "application/vnd.deepnote.dataframe.v3+json": {
              "column_count": 46,
              "columns": [
                {
                  "name": "Fed ID",
                  "dtype": "int64",
                  "stats": {
                    "unique_count": 5,
                    "nan_count": 0,
                    "min": "601770",
                    "max": "612630",
                    "histogram": [
                      {
                        "bin_start": 601770,
                        "bin_end": 602856,
                        "count": 2
                      },
                      {
                        "bin_start": 602856,
                        "bin_end": 603942,
                        "count": 0
                      },
                      {
                        "bin_start": 603942,
                        "bin_end": 605028,
                        "count": 1
                      },
                      {
                        "bin_start": 605028,
                        "bin_end": 606114,
                        "count": 0
                      },
                      {
                        "bin_start": 606114,
                        "bin_end": 607200,
                        "count": 0
                      },
                      {
                        "bin_start": 607200,
                        "bin_end": 608286,
                        "count": 1
                      },
                      {
                        "bin_start": 608286,
                        "bin_end": 609372,
                        "count": 0
                      },
                      {
                        "bin_start": 609372,
                        "bin_end": 610458,
                        "count": 0
                      },
                      {
                        "bin_start": 610458,
                        "bin_end": 611544,
                        "count": 0
                      },
                      {
                        "bin_start": 611544,
                        "bin_end": 612630,
                        "count": 1
                      }
                    ],
                    "categories": null
                  }
                },
                {
                  "name": "District Code",
                  "dtype": "int64",
                  "stats": {
                    "unique_count": 5,
                    "nan_count": 0,
                    "min": "61119",
                    "max": "61168",
                    "histogram": [
                      {
                        "bin_start": 61119,
                        "bin_end": 61123.9,
                        "count": 1
                      },
                      {
                        "bin_start": 61123.9,
                        "bin_end": 61128.8,
                        "count": 1
                      },
                      {
                        "bin_start": 61128.8,
                        "bin_end": 61133.7,
                        "count": 0
                      },
                      {
                        "bin_start": 61133.7,
                        "bin_end": 61138.6,
                        "count": 0
                      },
                      {
                        "bin_start": 61138.6,
                        "bin_end": 61143.5,
                        "count": 1
                      },
                      {
                        "bin_start": 61143.5,
                        "bin_end": 61148.4,
                        "count": 0
                      },
                      {
                        "bin_start": 61148.4,
                        "bin_end": 61153.3,
                        "count": 1
                      },
                      {
                        "bin_start": 61153.3,
                        "bin_end": 61158.2,
                        "count": 0
                      },
                      {
                        "bin_start": 61158.2,
                        "bin_end": 61163.1,
                        "count": 0
                      },
                      {
                        "bin_start": 61163.1,
                        "bin_end": 61168,
                        "count": 1
                      }
                    ],
                    "categories": null
                  }
                },
                {
                  "name": "CDS Code",
                  "dtype": "int64",
                  "stats": {
                    "unique_count": 5,
                    "nan_count": 0,
                    "min": "1611190000000",
                    "max": "1611680000000",
                    "histogram": [
                      {
                        "bin_start": 1611190000000,
                        "bin_end": 1611239000000,
                        "count": 1
                      },
                      {
                        "bin_start": 1611239000000,
                        "bin_end": 1611288000000,
                        "count": 1
                      },
                      {
                        "bin_start": 1611288000000,
                        "bin_end": 1611337000000,
                        "count": 0
                      },
                      {
                        "bin_start": 1611337000000,
                        "bin_end": 1611386000000,
                        "count": 0
                      },
                      {
                        "bin_start": 1611386000000,
                        "bin_end": 1611435000000,
                        "count": 1
                      },
                      {
                        "bin_start": 1611435000000,
                        "bin_end": 1611484000000,
                        "count": 0
                      },
                      {
                        "bin_start": 1611484000000,
                        "bin_end": 1611533000000,
                        "count": 1
                      },
                      {
                        "bin_start": 1611533000000,
                        "bin_end": 1611582000000,
                        "count": 0
                      },
                      {
                        "bin_start": 1611582000000,
                        "bin_end": 1611631000000,
                        "count": 0
                      },
                      {
                        "bin_start": 1611631000000,
                        "bin_end": 1611680000000,
                        "count": 1
                      }
                    ],
                    "categories": null
                  }
                },
                {
                  "name": "County Name",
                  "dtype": "object",
                  "stats": {
                    "unique_count": 1,
                    "nan_count": 0,
                    "min": null,
                    "max": null,
                    "histogram": null,
                    "categories": [
                      {
                        "name": "Alameda",
                        "count": 5
                      }
                    ]
                  }
                },
                {
                  "name": "District Name",
                  "dtype": "object",
                  "stats": {
                    "unique_count": 5,
                    "nan_count": 0,
                    "min": null,
                    "max": null,
                    "histogram": null,
                    "categories": [
                      {
                        "name": "Alameda Unified",
                        "count": 1
                      },
                      {
                        "name": "Albany City Unified",
                        "count": 1
                      },
                      {
                        "name": "3 others",
                        "count": 3
                      }
                    ]
                  }
                },
                {
                  "name": "District Type",
                  "dtype": "object",
                  "stats": {
                    "unique_count": 1,
                    "nan_count": 0,
                    "min": null,
                    "max": null,
                    "histogram": null,
                    "categories": [
                      {
                        "name": "Unified",
                        "count": 5
                      }
                    ]
                  }
                },
                {
                  "name": "Grade Low",
                  "dtype": "object",
                  "stats": {
                    "unique_count": 1,
                    "nan_count": 0,
                    "min": null,
                    "max": null,
                    "histogram": null,
                    "categories": [
                      {
                        "name": "KG",
                        "count": 5
                      }
                    ]
                  }
                },
                {
                  "name": "Grade High",
                  "dtype": "int64",
                  "stats": {
                    "unique_count": 1,
                    "nan_count": 0,
                    "min": "12",
                    "max": "12",
                    "histogram": [
                      {
                        "bin_start": 11.5,
                        "bin_end": 11.6,
                        "count": 0
                      },
                      {
                        "bin_start": 11.6,
                        "bin_end": 11.7,
                        "count": 0
                      },
                      {
                        "bin_start": 11.7,
                        "bin_end": 11.8,
                        "count": 0
                      },
                      {
                        "bin_start": 11.8,
                        "bin_end": 11.9,
                        "count": 0
                      },
                      {
                        "bin_start": 11.9,
                        "bin_end": 12,
                        "count": 0
                      },
                      {
                        "bin_start": 12,
                        "bin_end": 12.1,
                        "count": 5
                      },
                      {
                        "bin_start": 12.1,
                        "bin_end": 12.2,
                        "count": 0
                      },
                      {
                        "bin_start": 12.2,
                        "bin_end": 12.3,
                        "count": 0
                      },
                      {
                        "bin_start": 12.3,
                        "bin_end": 12.4,
                        "count": 0
                      },
                      {
                        "bin_start": 12.4,
                        "bin_end": 12.5,
                        "count": 0
                      }
                    ],
                    "categories": null
                  }
                },
                {
                  "name": "Grade Low Census",
                  "dtype": "object",
                  "stats": {
                    "unique_count": 1,
                    "nan_count": 0,
                    "min": null,
                    "max": null,
                    "histogram": null,
                    "categories": [
                      {
                        "name": "KG",
                        "count": 5
                      }
                    ]
                  }
                },
                {
                  "name": "Grade High Census",
                  "dtype": "int64",
                  "stats": {
                    "unique_count": 1,
                    "nan_count": 0,
                    "min": "12",
                    "max": "12",
                    "histogram": [
                      {
                        "bin_start": 11.5,
                        "bin_end": 11.6,
                        "count": 0
                      },
                      {
                        "bin_start": 11.6,
                        "bin_end": 11.7,
                        "count": 0
                      },
                      {
                        "bin_start": 11.7,
                        "bin_end": 11.8,
                        "count": 0
                      },
                      {
                        "bin_start": 11.8,
                        "bin_end": 11.9,
                        "count": 0
                      },
                      {
                        "bin_start": 11.9,
                        "bin_end": 12,
                        "count": 0
                      },
                      {
                        "bin_start": 12,
                        "bin_end": 12.1,
                        "count": 5
                      },
                      {
                        "bin_start": 12.1,
                        "bin_end": 12.2,
                        "count": 0
                      },
                      {
                        "bin_start": 12.2,
                        "bin_end": 12.3,
                        "count": 0
                      },
                      {
                        "bin_start": 12.3,
                        "bin_end": 12.4,
                        "count": 0
                      },
                      {
                        "bin_start": 12.4,
                        "bin_end": 12.5,
                        "count": 0
                      }
                    ],
                    "categories": null
                  }
                },
                {
                  "name": "Assistance Status",
                  "dtype": "object",
                  "stats": {
                    "unique_count": 1,
                    "nan_count": 0,
                    "min": null,
                    "max": null,
                    "histogram": null,
                    "categories": [
                      {
                        "name": "General Assistance",
                        "count": 5
                      }
                    ]
                  }
                },
                {
                  "name": "Locale",
                  "dtype": "object",
                  "stats": {
                    "unique_count": 2,
                    "nan_count": 0,
                    "min": null,
                    "max": null,
                    "histogram": null,
                    "categories": [
                      {
                        "name": "21 - Suburban, Large",
                        "count": 4
                      },
                      {
                        "name": "12 - City, Midsize ",
                        "count": 1
                      }
                    ]
                  }
                },
                {
                  "name": "Enroll Total",
                  "dtype": "int64",
                  "stats": {
                    "unique_count": 5,
                    "nan_count": 0,
                    "min": "600",
                    "max": "10557",
                    "histogram": [
                      {
                        "bin_start": 600,
                        "bin_end": 1595.7,
                        "count": 1
                      },
                      {
                        "bin_start": 1595.7,
                        "bin_end": 2591.4,
                        "count": 0
                      },
                      {
                        "bin_start": 2591.4,
                        "bin_end": 3587.1000000000004,
                        "count": 1
                      },
                      {
                        "bin_start": 3587.1000000000004,
                        "bin_end": 4582.8,
                        "count": 0
                      },
                      {
                        "bin_start": 4582.8,
                        "bin_end": 5578.5,
                        "count": 0
                      },
                      {
                        "bin_start": 5578.5,
                        "bin_end": 6574.200000000001,
                        "count": 0
                      },
                      {
                        "bin_start": 6574.200000000001,
                        "bin_end": 7569.900000000001,
                        "count": 0
                      },
                      {
                        "bin_start": 7569.900000000001,
                        "bin_end": 8565.6,
                        "count": 0
                      },
                      {
                        "bin_start": 8565.6,
                        "bin_end": 9561.300000000001,
                        "count": 2
                      },
                      {
                        "bin_start": 9561.300000000001,
                        "bin_end": 10557,
                        "count": 1
                      }
                    ],
                    "categories": null
                  }
                },
                {
                  "name": "Enroll Charter",
                  "dtype": "int64",
                  "stats": {
                    "unique_count": 2,
                    "nan_count": 0,
                    "min": "0",
                    "max": "1496",
                    "histogram": [
                      {
                        "bin_start": 0,
                        "bin_end": 149.6,
                        "count": 4
                      },
                      {
                        "bin_start": 149.6,
                        "bin_end": 299.2,
                        "count": 0
                      },
                      {
                        "bin_start": 299.2,
                        "bin_end": 448.79999999999995,
                        "count": 0
                      },
                      {
                        "bin_start": 448.79999999999995,
                        "bin_end": 598.4,
                        "count": 0
                      },
                      {
                        "bin_start": 598.4,
                        "bin_end": 748,
                        "count": 0
                      },
                      {
                        "bin_start": 748,
                        "bin_end": 897.5999999999999,
                        "count": 0
                      },
                      {
                        "bin_start": 897.5999999999999,
                        "bin_end": 1047.2,
                        "count": 0
                      },
                      {
                        "bin_start": 1047.2,
                        "bin_end": 1196.8,
                        "count": 0
                      },
                      {
                        "bin_start": 1196.8,
                        "bin_end": 1346.3999999999999,
                        "count": 0
                      },
                      {
                        "bin_start": 1346.3999999999999,
                        "bin_end": 1496,
                        "count": 1
                      }
                    ],
                    "categories": null
                  }
                },
                {
                  "name": "Enroll Non Charter",
                  "dtype": "int64",
                  "stats": {
                    "unique_count": 5,
                    "nan_count": 0,
                    "min": "600",
                    "max": "9489",
                    "histogram": [
                      {
                        "bin_start": 600,
                        "bin_end": 1488.9,
                        "count": 1
                      },
                      {
                        "bin_start": 1488.9,
                        "bin_end": 2377.8,
                        "count": 0
                      },
                      {
                        "bin_start": 2377.8,
                        "bin_end": 3266.7,
                        "count": 0
                      },
                      {
                        "bin_start": 3266.7,
                        "bin_end": 4155.6,
                        "count": 1
                      },
                      {
                        "bin_start": 4155.6,
                        "bin_end": 5044.5,
                        "count": 0
                      },
                      {
                        "bin_start": 5044.5,
                        "bin_end": 5933.4,
                        "count": 0
                      },
                      {
                        "bin_start": 5933.4,
                        "bin_end": 6822.3,
                        "count": 0
                      },
                      {
                        "bin_start": 6822.3,
                        "bin_end": 7711.2,
                        "count": 0
                      },
                      {
                        "bin_start": 7711.2,
                        "bin_end": 8600.099999999999,
                        "count": 0
                      },
                      {
                        "bin_start": 8600.099999999999,
                        "bin_end": 9489,
                        "count": 3
                      }
                    ],
                    "categories": null
                  }
                },
                {
                  "name": "African American",
                  "dtype": "int64",
                  "stats": {
                    "unique_count": 5,
                    "nan_count": 0,
                    "min": "152",
                    "max": "1052",
                    "histogram": [
                      {
                        "bin_start": 152,
                        "bin_end": 242,
                        "count": 1
                      },
                      {
                        "bin_start": 242,
                        "bin_end": 332,
                        "count": 1
                      },
                      {
                        "bin_start": 332,
                        "bin_end": 422,
                        "count": 1
                      },
                      {
                        "bin_start": 422,
                        "bin_end": 512,
                        "count": 0
                      },
                      {
                        "bin_start": 512,
                        "bin_end": 602,
                        "count": 0
                      },
                      {
                        "bin_start": 602,
                        "bin_end": 692,
                        "count": 0
                      },
                      {
                        "bin_start": 692,
                        "bin_end": 782,
                        "count": 1
                      },
                      {
                        "bin_start": 782,
                        "bin_end": 872,
                        "count": 0
                      },
                      {
                        "bin_start": 872,
                        "bin_end": 962,
                        "count": 0
                      },
                      {
                        "bin_start": 962,
                        "bin_end": 1052,
                        "count": 1
                      }
                    ],
                    "categories": null
                  }
                },
                {
                  "name": "African American (%)",
                  "dtype": "float64",
                  "stats": {
                    "unique_count": 4,
                    "nan_count": 0,
                    "min": "4.3",
                    "max": "44.2",
                    "histogram": [
                      {
                        "bin_start": 4.3,
                        "bin_end": 8.290000000000001,
                        "count": 3
                      },
                      {
                        "bin_start": 8.290000000000001,
                        "bin_end": 12.280000000000001,
                        "count": 1
                      },
                      {
                        "bin_start": 12.280000000000001,
                        "bin_end": 16.270000000000003,
                        "count": 0
                      },
                      {
                        "bin_start": 16.270000000000003,
                        "bin_end": 20.26,
                        "count": 0
                      },
                      {
                        "bin_start": 20.26,
                        "bin_end": 24.250000000000004,
                        "count": 0
                      },
                      {
                        "bin_start": 24.250000000000004,
                        "bin_end": 28.240000000000006,
                        "count": 0
                      },
                      {
                        "bin_start": 28.240000000000006,
                        "bin_end": 32.230000000000004,
                        "count": 0
                      },
                      {
                        "bin_start": 32.230000000000004,
                        "bin_end": 36.220000000000006,
                        "count": 0
                      },
                      {
                        "bin_start": 36.220000000000006,
                        "bin_end": 40.21,
                        "count": 0
                      },
                      {
                        "bin_start": 40.21,
                        "bin_end": 44.2,
                        "count": 1
                      }
                    ],
                    "categories": null
                  }
                },
                {
                  "name": "American Indian",
                  "dtype": "int64",
                  "stats": {
                    "unique_count": 5,
                    "nan_count": 0,
                    "min": "0",
                    "max": "25",
                    "histogram": [
                      {
                        "bin_start": 0,
                        "bin_end": 2.5,
                        "count": 1
                      },
                      {
                        "bin_start": 2.5,
                        "bin_end": 5,
                        "count": 0
                      },
                      {
                        "bin_start": 5,
                        "bin_end": 7.5,
                        "count": 1
                      },
                      {
                        "bin_start": 7.5,
                        "bin_end": 10,
                        "count": 0
                      },
                      {
                        "bin_start": 10,
                        "bin_end": 12.5,
                        "count": 1
                      },
                      {
                        "bin_start": 12.5,
                        "bin_end": 15,
                        "count": 0
                      },
                      {
                        "bin_start": 15,
                        "bin_end": 17.5,
                        "count": 0
                      },
                      {
                        "bin_start": 17.5,
                        "bin_end": 20,
                        "count": 0
                      },
                      {
                        "bin_start": 20,
                        "bin_end": 22.5,
                        "count": 1
                      },
                      {
                        "bin_start": 22.5,
                        "bin_end": 25,
                        "count": 1
                      }
                    ],
                    "categories": null
                  }
                },
                {
                  "name": "American Indian (%)",
                  "dtype": "float64",
                  "stats": {
                    "unique_count": 4,
                    "nan_count": 0,
                    "min": "0.0",
                    "max": "0.3",
                    "histogram": [
                      {
                        "bin_start": 0,
                        "bin_end": 0.03,
                        "count": 1
                      },
                      {
                        "bin_start": 0.03,
                        "bin_end": 0.06,
                        "count": 0
                      },
                      {
                        "bin_start": 0.06,
                        "bin_end": 0.09,
                        "count": 0
                      },
                      {
                        "bin_start": 0.09,
                        "bin_end": 0.12,
                        "count": 1
                      },
                      {
                        "bin_start": 0.12,
                        "bin_end": 0.15,
                        "count": 0
                      },
                      {
                        "bin_start": 0.15,
                        "bin_end": 0.18,
                        "count": 0
                      },
                      {
                        "bin_start": 0.18,
                        "bin_end": 0.21,
                        "count": 2
                      },
                      {
                        "bin_start": 0.21,
                        "bin_end": 0.24,
                        "count": 0
                      },
                      {
                        "bin_start": 0.24,
                        "bin_end": 0.27,
                        "count": 0
                      },
                      {
                        "bin_start": 0.27,
                        "bin_end": 0.3,
                        "count": 1
                      }
                    ],
                    "categories": null
                  }
                },
                {
                  "name": "Asian",
                  "dtype": "int64",
                  "stats": {
                    "unique_count": 5,
                    "nan_count": 0,
                    "min": "56",
                    "max": "3119",
                    "histogram": [
                      {
                        "bin_start": 56,
                        "bin_end": 362.3,
                        "count": 1
                      },
                      {
                        "bin_start": 362.3,
                        "bin_end": 668.6,
                        "count": 0
                      },
                      {
                        "bin_start": 668.6,
                        "bin_end": 974.9000000000001,
                        "count": 1
                      },
                      {
                        "bin_start": 974.9000000000001,
                        "bin_end": 1281.2,
                        "count": 1
                      },
                      {
                        "bin_start": 1281.2,
                        "bin_end": 1587.5,
                        "count": 0
                      },
                      {
                        "bin_start": 1587.5,
                        "bin_end": 1893.8000000000002,
                        "count": 0
                      },
                      {
                        "bin_start": 1893.8000000000002,
                        "bin_end": 2200.1,
                        "count": 0
                      },
                      {
                        "bin_start": 2200.1,
                        "bin_end": 2506.4,
                        "count": 0
                      },
                      {
                        "bin_start": 2506.4,
                        "bin_end": 2812.7000000000003,
                        "count": 1
                      },
                      {
                        "bin_start": 2812.7000000000003,
                        "bin_end": 3119,
                        "count": 1
                      }
                    ],
                    "categories": null
                  }
                },
                {
                  "name": "Asian (%)",
                  "dtype": "float64",
                  "stats": {
                    "unique_count": 5,
                    "nan_count": 0,
                    "min": "8.1",
                    "max": "32.9",
                    "histogram": [
                      {
                        "bin_start": 8.1,
                        "bin_end": 10.579999999999998,
                        "count": 2
                      },
                      {
                        "bin_start": 10.579999999999998,
                        "bin_end": 13.059999999999999,
                        "count": 0
                      },
                      {
                        "bin_start": 13.059999999999999,
                        "bin_end": 15.54,
                        "count": 0
                      },
                      {
                        "bin_start": 15.54,
                        "bin_end": 18.019999999999996,
                        "count": 0
                      },
                      {
                        "bin_start": 18.019999999999996,
                        "bin_end": 20.5,
                        "count": 0
                      },
                      {
                        "bin_start": 20.5,
                        "bin_end": 22.979999999999997,
                        "count": 0
                      },
                      {
                        "bin_start": 22.979999999999997,
                        "bin_end": 25.459999999999994,
                        "count": 1
                      },
                      {
                        "bin_start": 25.459999999999994,
                        "bin_end": 27.939999999999998,
                        "count": 0
                      },
                      {
                        "bin_start": 27.939999999999998,
                        "bin_end": 30.419999999999995,
                        "count": 0
                      },
                      {
                        "bin_start": 30.419999999999995,
                        "bin_end": 32.9,
                        "count": 2
                      }
                    ],
                    "categories": null
                  }
                },
                {
                  "name": "Filipino",
                  "dtype": "int64",
                  "stats": {
                    "unique_count": 5,
                    "nan_count": 0,
                    "min": "5",
                    "max": "484",
                    "histogram": [
                      {
                        "bin_start": 5,
                        "bin_end": 52.9,
                        "count": 2
                      },
                      {
                        "bin_start": 52.9,
                        "bin_end": 100.8,
                        "count": 1
                      },
                      {
                        "bin_start": 100.8,
                        "bin_end": 148.7,
                        "count": 0
                      },
                      {
                        "bin_start": 148.7,
                        "bin_end": 196.6,
                        "count": 0
                      },
                      {
                        "bin_start": 196.6,
                        "bin_end": 244.5,
                        "count": 0
                      },
                      {
                        "bin_start": 244.5,
                        "bin_end": 292.4,
                        "count": 0
                      },
                      {
                        "bin_start": 292.4,
                        "bin_end": 340.3,
                        "count": 0
                      },
                      {
                        "bin_start": 340.3,
                        "bin_end": 388.2,
                        "count": 0
                      },
                      {
                        "bin_start": 388.2,
                        "bin_end": 436.09999999999997,
                        "count": 1
                      },
                      {
                        "bin_start": 436.09999999999997,
                        "bin_end": 484,
                        "count": 1
                      }
                    ],
                    "categories": null
                  }
                },
                {
                  "name": "Filipino (%)",
                  "dtype": "float64",
                  "stats": {
                    "unique_count": 4,
                    "nan_count": 0,
                    "min": "0.8",
                    "max": "4.6",
                    "histogram": [
                      {
                        "bin_start": 0.8,
                        "bin_end": 1.1800000000000002,
                        "count": 2
                      },
                      {
                        "bin_start": 1.1800000000000002,
                        "bin_end": 1.56,
                        "count": 1
                      },
                      {
                        "bin_start": 1.56,
                        "bin_end": 1.9400000000000002,
                        "count": 0
                      },
                      {
                        "bin_start": 1.9400000000000002,
                        "bin_end": 2.3200000000000003,
                        "count": 0
                      },
                      {
                        "bin_start": 2.3200000000000003,
                        "bin_end": 2.7,
                        "count": 0
                      },
                      {
                        "bin_start": 2.7,
                        "bin_end": 3.08,
                        "count": 0
                      },
                      {
                        "bin_start": 3.08,
                        "bin_end": 3.46,
                        "count": 0
                      },
                      {
                        "bin_start": 3.46,
                        "bin_end": 3.84,
                        "count": 0
                      },
                      {
                        "bin_start": 3.84,
                        "bin_end": 4.22,
                        "count": 0
                      },
                      {
                        "bin_start": 4.22,
                        "bin_end": 4.6,
                        "count": 2
                      }
                    ],
                    "categories": null
                  }
                },
                {
                  "name": "Hispanic",
                  "dtype": "int64",
                  "stats": {
                    "unique_count": 5,
                    "nan_count": 0,
                    "min": "126",
                    "max": "2331",
                    "histogram": [
                      {
                        "bin_start": 126,
                        "bin_end": 346.5,
                        "count": 1
                      },
                      {
                        "bin_start": 346.5,
                        "bin_end": 567,
                        "count": 0
                      },
                      {
                        "bin_start": 567,
                        "bin_end": 787.5,
                        "count": 1
                      },
                      {
                        "bin_start": 787.5,
                        "bin_end": 1008,
                        "count": 0
                      },
                      {
                        "bin_start": 1008,
                        "bin_end": 1228.5,
                        "count": 0
                      },
                      {
                        "bin_start": 1228.5,
                        "bin_end": 1449,
                        "count": 0
                      },
                      {
                        "bin_start": 1449,
                        "bin_end": 1669.5,
                        "count": 0
                      },
                      {
                        "bin_start": 1669.5,
                        "bin_end": 1890,
                        "count": 1
                      },
                      {
                        "bin_start": 1890,
                        "bin_end": 2110.5,
                        "count": 1
                      },
                      {
                        "bin_start": 2110.5,
                        "bin_end": 2331,
                        "count": 1
                      }
                    ],
                    "categories": null
                  }
                },
                {
                  "name": "Hispanic (%)",
                  "dtype": "float64",
                  "stats": {
                    "unique_count": 5,
                    "nan_count": 0,
                    "min": "17.2",
                    "max": "24.6",
                    "histogram": [
                      {
                        "bin_start": 17.2,
                        "bin_end": 17.939999999999998,
                        "count": 2
                      },
                      {
                        "bin_start": 17.939999999999998,
                        "bin_end": 18.68,
                        "count": 0
                      },
                      {
                        "bin_start": 18.68,
                        "bin_end": 19.42,
                        "count": 0
                      },
                      {
                        "bin_start": 19.42,
                        "bin_end": 20.16,
                        "count": 0
                      },
                      {
                        "bin_start": 20.16,
                        "bin_end": 20.9,
                        "count": 0
                      },
                      {
                        "bin_start": 20.9,
                        "bin_end": 21.64,
                        "count": 1
                      },
                      {
                        "bin_start": 21.64,
                        "bin_end": 22.380000000000003,
                        "count": 0
                      },
                      {
                        "bin_start": 22.380000000000003,
                        "bin_end": 23.12,
                        "count": 1
                      },
                      {
                        "bin_start": 23.12,
                        "bin_end": 23.86,
                        "count": 0
                      },
                      {
                        "bin_start": 23.86,
                        "bin_end": 24.6,
                        "count": 1
                      }
                    ],
                    "categories": null
                  }
                },
                {
                  "name": "Pacific Islander",
                  "dtype": "int64",
                  "stats": {
                    "unique_count": 4,
                    "nan_count": 0,
                    "min": "4",
                    "max": "52",
                    "histogram": [
                      {
                        "bin_start": 4,
                        "bin_end": 8.8,
                        "count": 2
                      },
                      {
                        "bin_start": 8.8,
                        "bin_end": 13.6,
                        "count": 0
                      },
                      {
                        "bin_start": 13.6,
                        "bin_end": 18.4,
                        "count": 1
                      },
                      {
                        "bin_start": 18.4,
                        "bin_end": 23.2,
                        "count": 0
                      },
                      {
                        "bin_start": 23.2,
                        "bin_end": 28,
                        "count": 0
                      },
                      {
                        "bin_start": 28,
                        "bin_end": 32.8,
                        "count": 0
                      },
                      {
                        "bin_start": 32.8,
                        "bin_end": 37.6,
                        "count": 0
                      },
                      {
                        "bin_start": 37.6,
                        "bin_end": 42.4,
                        "count": 1
                      },
                      {
                        "bin_start": 42.4,
                        "bin_end": 47.199999999999996,
                        "count": 0
                      },
                      {
                        "bin_start": 47.199999999999996,
                        "bin_end": 52,
                        "count": 1
                      }
                    ],
                    "categories": null
                  }
                },
                {
                  "name": "Pacific Islander (%)",
                  "dtype": "float64",
                  "stats": {
                    "unique_count": 5,
                    "nan_count": 0,
                    "min": "0.1",
                    "max": "0.7",
                    "histogram": [
                      {
                        "bin_start": 0.1,
                        "bin_end": 0.16,
                        "count": 1
                      },
                      {
                        "bin_start": 0.16,
                        "bin_end": 0.22,
                        "count": 1
                      },
                      {
                        "bin_start": 0.22,
                        "bin_end": 0.28,
                        "count": 0
                      },
                      {
                        "bin_start": 0.28,
                        "bin_end": 0.33999999999999997,
                        "count": 0
                      },
                      {
                        "bin_start": 0.33999999999999997,
                        "bin_end": 0.4,
                        "count": 0
                      },
                      {
                        "bin_start": 0.4,
                        "bin_end": 0.45999999999999996,
                        "count": 1
                      },
                      {
                        "bin_start": 0.45999999999999996,
                        "bin_end": 0.52,
                        "count": 1
                      },
                      {
                        "bin_start": 0.52,
                        "bin_end": 0.58,
                        "count": 0
                      },
                      {
                        "bin_start": 0.58,
                        "bin_end": 0.64,
                        "count": 0
                      },
                      {
                        "bin_start": 0.64,
                        "bin_end": 0.7,
                        "count": 1
                      }
                    ],
                    "categories": null
                  }
                },
                {
                  "name": "White",
                  "dtype": "int64",
                  "stats": {
                    "unique_count": 5,
                    "nan_count": 0,
                    "min": "76",
                    "max": "3733",
                    "histogram": [
                      {
                        "bin_start": 76,
                        "bin_end": 441.7,
                        "count": 1
                      },
                      {
                        "bin_start": 441.7,
                        "bin_end": 807.4,
                        "count": 0
                      },
                      {
                        "bin_start": 807.4,
                        "bin_end": 1173.1,
                        "count": 1
                      },
                      {
                        "bin_start": 1173.1,
                        "bin_end": 1538.8,
                        "count": 0
                      },
                      {
                        "bin_start": 1538.8,
                        "bin_end": 1904.5,
                        "count": 1
                      },
                      {
                        "bin_start": 1904.5,
                        "bin_end": 2270.2,
                        "count": 0
                      },
                      {
                        "bin_start": 2270.2,
                        "bin_end": 2635.9,
                        "count": 0
                      },
                      {
                        "bin_start": 2635.9,
                        "bin_end": 3001.6,
                        "count": 1
                      },
                      {
                        "bin_start": 3001.6,
                        "bin_end": 3367.2999999999997,
                        "count": 0
                      },
                      {
                        "bin_start": 3367.2999999999997,
                        "bin_end": 3733,
                        "count": 1
                      }
                    ],
                    "categories": null
                  }
                },
                {
                  "name": "White (%)",
                  "dtype": "float64",
                  "stats": {
                    "unique_count": 5,
                    "nan_count": 0,
                    "min": "12.7",
                    "max": "41.1",
                    "histogram": [
                      {
                        "bin_start": 12.7,
                        "bin_end": 15.54,
                        "count": 1
                      },
                      {
                        "bin_start": 15.54,
                        "bin_end": 18.38,
                        "count": 0
                      },
                      {
                        "bin_start": 18.38,
                        "bin_end": 21.22,
                        "count": 1
                      },
                      {
                        "bin_start": 21.22,
                        "bin_end": 24.060000000000002,
                        "count": 0
                      },
                      {
                        "bin_start": 24.060000000000002,
                        "bin_end": 26.9,
                        "count": 1
                      },
                      {
                        "bin_start": 26.9,
                        "bin_end": 29.740000000000002,
                        "count": 1
                      },
                      {
                        "bin_start": 29.740000000000002,
                        "bin_end": 32.58,
                        "count": 0
                      },
                      {
                        "bin_start": 32.58,
                        "bin_end": 35.42,
                        "count": 0
                      },
                      {
                        "bin_start": 35.42,
                        "bin_end": 38.260000000000005,
                        "count": 0
                      },
                      {
                        "bin_start": 38.260000000000005,
                        "bin_end": 41.1,
                        "count": 1
                      }
                    ],
                    "categories": null
                  }
                },
                {
                  "name": "Two or More Races",
                  "dtype": "int64",
                  "stats": {
                    "unique_count": 5,
                    "nan_count": 0,
                    "min": "56",
                    "max": "1596",
                    "histogram": [
                      {
                        "bin_start": 56,
                        "bin_end": 210,
                        "count": 1
                      },
                      {
                        "bin_start": 210,
                        "bin_end": 364,
                        "count": 0
                      },
                      {
                        "bin_start": 364,
                        "bin_end": 518,
                        "count": 1
                      },
                      {
                        "bin_start": 518,
                        "bin_end": 672,
                        "count": 0
                      },
                      {
                        "bin_start": 672,
                        "bin_end": 826,
                        "count": 0
                      },
                      {
                        "bin_start": 826,
                        "bin_end": 980,
                        "count": 1
                      },
                      {
                        "bin_start": 980,
                        "bin_end": 1134,
                        "count": 0
                      },
                      {
                        "bin_start": 1134,
                        "bin_end": 1288,
                        "count": 0
                      },
                      {
                        "bin_start": 1288,
                        "bin_end": 1442,
                        "count": 1
                      },
                      {
                        "bin_start": 1442,
                        "bin_end": 1596,
                        "count": 1
                      }
                    ],
                    "categories": null
                  }
                },
                {
                  "name": "Two or More Races (%)",
                  "dtype": "float64",
                  "stats": {
                    "unique_count": 5,
                    "nan_count": 0,
                    "min": "9.3",
                    "max": "15.3",
                    "histogram": [
                      {
                        "bin_start": 9.3,
                        "bin_end": 9.9,
                        "count": 1
                      },
                      {
                        "bin_start": 9.9,
                        "bin_end": 10.5,
                        "count": 1
                      },
                      {
                        "bin_start": 10.5,
                        "bin_end": 11.100000000000001,
                        "count": 0
                      },
                      {
                        "bin_start": 11.100000000000001,
                        "bin_end": 11.700000000000001,
                        "count": 0
                      },
                      {
                        "bin_start": 11.700000000000001,
                        "bin_end": 12.3,
                        "count": 0
                      },
                      {
                        "bin_start": 12.3,
                        "bin_end": 12.9,
                        "count": 0
                      },
                      {
                        "bin_start": 12.9,
                        "bin_end": 13.5,
                        "count": 0
                      },
                      {
                        "bin_start": 13.5,
                        "bin_end": 14.100000000000001,
                        "count": 1
                      },
                      {
                        "bin_start": 14.100000000000001,
                        "bin_end": 14.7,
                        "count": 0
                      },
                      {
                        "bin_start": 14.7,
                        "bin_end": 15.3,
                        "count": 2
                      }
                    ],
                    "categories": null
                  }
                },
                {
                  "name": "Not Reported",
                  "dtype": "int64",
                  "stats": {
                    "unique_count": 5,
                    "nan_count": 0,
                    "min": "9",
                    "max": "327",
                    "histogram": [
                      {
                        "bin_start": 9,
                        "bin_end": 40.8,
                        "count": 2
                      },
                      {
                        "bin_start": 40.8,
                        "bin_end": 72.6,
                        "count": 0
                      },
                      {
                        "bin_start": 72.6,
                        "bin_end": 104.4,
                        "count": 0
                      },
                      {
                        "bin_start": 104.4,
                        "bin_end": 136.2,
                        "count": 0
                      },
                      {
                        "bin_start": 136.2,
                        "bin_end": 168,
                        "count": 0
                      },
                      {
                        "bin_start": 168,
                        "bin_end": 199.8,
                        "count": 0
                      },
                      {
                        "bin_start": 199.8,
                        "bin_end": 231.6,
                        "count": 1
                      },
                      {
                        "bin_start": 231.6,
                        "bin_end": 263.4,
                        "count": 0
                      },
                      {
                        "bin_start": 263.4,
                        "bin_end": 295.2,
                        "count": 0
                      },
                      {
                        "bin_start": 295.2,
                        "bin_end": 327,
                        "count": 2
                      }
                    ],
                    "categories": null
                  }
                },
                {
                  "name": "Not Reported (%)",
                  "dtype": "float64",
                  "stats": {
                    "unique_count": 5,
                    "nan_count": 0,
                    "min": "0.1",
                    "max": "5.7",
                    "histogram": [
                      {
                        "bin_start": 0.1,
                        "bin_end": 0.66,
                        "count": 1
                      },
                      {
                        "bin_start": 0.66,
                        "bin_end": 1.2200000000000002,
                        "count": 0
                      },
                      {
                        "bin_start": 1.2200000000000002,
                        "bin_end": 1.7800000000000002,
                        "count": 0
                      },
                      {
                        "bin_start": 1.7800000000000002,
                        "bin_end": 2.3400000000000003,
                        "count": 1
                      },
                      {
                        "bin_start": 2.3400000000000003,
                        "bin_end": 2.9000000000000004,
                        "count": 0
                      },
                      {
                        "bin_start": 2.9000000000000004,
                        "bin_end": 3.4600000000000004,
                        "count": 2
                      },
                      {
                        "bin_start": 3.4600000000000004,
                        "bin_end": 4.0200000000000005,
                        "count": 0
                      },
                      {
                        "bin_start": 4.0200000000000005,
                        "bin_end": 4.58,
                        "count": 0
                      },
                      {
                        "bin_start": 4.58,
                        "bin_end": 5.140000000000001,
                        "count": 0
                      },
                      {
                        "bin_start": 5.140000000000001,
                        "bin_end": 5.7,
                        "count": 1
                      }
                    ],
                    "categories": null
                  }
                },
                {
                  "name": "English Learner",
                  "dtype": "int64",
                  "stats": {
                    "unique_count": 5,
                    "nan_count": 0,
                    "min": "98",
                    "max": "1266",
                    "histogram": [
                      {
                        "bin_start": 98,
                        "bin_end": 214.8,
                        "count": 1
                      },
                      {
                        "bin_start": 214.8,
                        "bin_end": 331.6,
                        "count": 0
                      },
                      {
                        "bin_start": 331.6,
                        "bin_end": 448.4,
                        "count": 0
                      },
                      {
                        "bin_start": 448.4,
                        "bin_end": 565.2,
                        "count": 1
                      },
                      {
                        "bin_start": 565.2,
                        "bin_end": 682,
                        "count": 1
                      },
                      {
                        "bin_start": 682,
                        "bin_end": 798.8,
                        "count": 0
                      },
                      {
                        "bin_start": 798.8,
                        "bin_end": 915.6,
                        "count": 1
                      },
                      {
                        "bin_start": 915.6,
                        "bin_end": 1032.4,
                        "count": 0
                      },
                      {
                        "bin_start": 1032.4,
                        "bin_end": 1149.2,
                        "count": 0
                      },
                      {
                        "bin_start": 1149.2,
                        "bin_end": 1266,
                        "count": 1
                      }
                    ],
                    "categories": null
                  }
                },
                {
                  "name": "English Learner (%)",
                  "dtype": "float64",
                  "stats": {
                    "unique_count": 5,
                    "nan_count": 0,
                    "min": "6.5",
                    "max": "16.3",
                    "histogram": [
                      {
                        "bin_start": 6.5,
                        "bin_end": 7.48,
                        "count": 1
                      },
                      {
                        "bin_start": 7.48,
                        "bin_end": 8.46,
                        "count": 0
                      },
                      {
                        "bin_start": 8.46,
                        "bin_end": 9.440000000000001,
                        "count": 1
                      },
                      {
                        "bin_start": 9.440000000000001,
                        "bin_end": 10.42,
                        "count": 0
                      },
                      {
                        "bin_start": 10.42,
                        "bin_end": 11.4,
                        "count": 0
                      },
                      {
                        "bin_start": 11.4,
                        "bin_end": 12.38,
                        "count": 0
                      },
                      {
                        "bin_start": 12.38,
                        "bin_end": 13.36,
                        "count": 2
                      },
                      {
                        "bin_start": 13.36,
                        "bin_end": 14.34,
                        "count": 0
                      },
                      {
                        "bin_start": 14.34,
                        "bin_end": 15.32,
                        "count": 0
                      },
                      {
                        "bin_start": 15.32,
                        "bin_end": 16.3,
                        "count": 1
                      }
                    ],
                    "categories": null
                  }
                },
                {
                  "name": "Foster",
                  "dtype": "int64",
                  "stats": {
                    "unique_count": 4,
                    "nan_count": 0,
                    "min": "1",
                    "max": "32",
                    "histogram": [
                      {
                        "bin_start": 1,
                        "bin_end": 4.1,
                        "count": 2
                      },
                      {
                        "bin_start": 4.1,
                        "bin_end": 7.2,
                        "count": 1
                      },
                      {
                        "bin_start": 7.2,
                        "bin_end": 10.3,
                        "count": 0
                      },
                      {
                        "bin_start": 10.3,
                        "bin_end": 13.4,
                        "count": 0
                      },
                      {
                        "bin_start": 13.4,
                        "bin_end": 16.5,
                        "count": 0
                      },
                      {
                        "bin_start": 16.5,
                        "bin_end": 19.6,
                        "count": 0
                      },
                      {
                        "bin_start": 19.6,
                        "bin_end": 22.7,
                        "count": 0
                      },
                      {
                        "bin_start": 22.7,
                        "bin_end": 25.8,
                        "count": 0
                      },
                      {
                        "bin_start": 25.8,
                        "bin_end": 28.900000000000002,
                        "count": 1
                      },
                      {
                        "bin_start": 28.900000000000002,
                        "bin_end": 32,
                        "count": 1
                      }
                    ],
                    "categories": null
                  }
                },
                {
                  "name": "Foster (%)",
                  "dtype": "float64",
                  "stats": {
                    "unique_count": 5,
                    "nan_count": 0,
                    "min": "0.0",
                    "max": "0.4",
                    "histogram": [
                      {
                        "bin_start": 0,
                        "bin_end": 0.04,
                        "count": 1
                      },
                      {
                        "bin_start": 0.04,
                        "bin_end": 0.08,
                        "count": 0
                      },
                      {
                        "bin_start": 0.08,
                        "bin_end": 0.12,
                        "count": 1
                      },
                      {
                        "bin_start": 0.12,
                        "bin_end": 0.16,
                        "count": 0
                      },
                      {
                        "bin_start": 0.16,
                        "bin_end": 0.2,
                        "count": 0
                      },
                      {
                        "bin_start": 0.2,
                        "bin_end": 0.24,
                        "count": 1
                      },
                      {
                        "bin_start": 0.24,
                        "bin_end": 0.28,
                        "count": 0
                      },
                      {
                        "bin_start": 0.28,
                        "bin_end": 0.32,
                        "count": 1
                      },
                      {
                        "bin_start": 0.32,
                        "bin_end": 0.36,
                        "count": 0
                      },
                      {
                        "bin_start": 0.36,
                        "bin_end": 0.4,
                        "count": 1
                      }
                    ],
                    "categories": null
                  }
                },
                {
                  "name": "Homeless",
                  "dtype": "int64",
                  "stats": {
                    "unique_count": 5,
                    "nan_count": 0,
                    "min": "13",
                    "max": "150",
                    "histogram": [
                      {
                        "bin_start": 13,
                        "bin_end": 26.7,
                        "count": 2
                      },
                      {
                        "bin_start": 26.7,
                        "bin_end": 40.4,
                        "count": 0
                      },
                      {
                        "bin_start": 40.4,
                        "bin_end": 54.099999999999994,
                        "count": 0
                      },
                      {
                        "bin_start": 54.099999999999994,
                        "bin_end": 67.8,
                        "count": 0
                      },
                      {
                        "bin_start": 67.8,
                        "bin_end": 81.5,
                        "count": 0
                      },
                      {
                        "bin_start": 81.5,
                        "bin_end": 95.19999999999999,
                        "count": 1
                      },
                      {
                        "bin_start": 95.19999999999999,
                        "bin_end": 108.89999999999999,
                        "count": 0
                      },
                      {
                        "bin_start": 108.89999999999999,
                        "bin_end": 122.6,
                        "count": 0
                      },
                      {
                        "bin_start": 122.6,
                        "bin_end": 136.3,
                        "count": 1
                      },
                      {
                        "bin_start": 136.3,
                        "bin_end": 150,
                        "count": 1
                      }
                    ],
                    "categories": null
                  }
                },
                {
                  "name": "Homeless (%)",
                  "dtype": "float64",
                  "stats": {
                    "unique_count": 5,
                    "nan_count": 0,
                    "min": "0.7",
                    "max": "2.2",
                    "histogram": [
                      {
                        "bin_start": 0.7,
                        "bin_end": 0.85,
                        "count": 1
                      },
                      {
                        "bin_start": 0.85,
                        "bin_end": 1,
                        "count": 1
                      },
                      {
                        "bin_start": 1,
                        "bin_end": 1.15,
                        "count": 0
                      },
                      {
                        "bin_start": 1.15,
                        "bin_end": 1.3,
                        "count": 0
                      },
                      {
                        "bin_start": 1.3,
                        "bin_end": 1.4500000000000002,
                        "count": 1
                      },
                      {
                        "bin_start": 1.4500000000000002,
                        "bin_end": 1.6,
                        "count": 0
                      },
                      {
                        "bin_start": 1.6,
                        "bin_end": 1.7500000000000002,
                        "count": 1
                      },
                      {
                        "bin_start": 1.7500000000000002,
                        "bin_end": 1.9000000000000001,
                        "count": 0
                      },
                      {
                        "bin_start": 1.9000000000000001,
                        "bin_end": 2.05,
                        "count": 0
                      },
                      {
                        "bin_start": 2.05,
                        "bin_end": 2.2,
                        "count": 1
                      }
                    ],
                    "categories": null
                  }
                },
                {
                  "name": "Migrant",
                  "dtype": "int64",
                  "stats": {
                    "unique_count": 1,
                    "nan_count": 0,
                    "min": "0",
                    "max": "0",
                    "histogram": [
                      {
                        "bin_start": -0.5,
                        "bin_end": -0.4,
                        "count": 0
                      },
                      {
                        "bin_start": -0.4,
                        "bin_end": -0.3,
                        "count": 0
                      },
                      {
                        "bin_start": -0.3,
                        "bin_end": -0.19999999999999996,
                        "count": 0
                      },
                      {
                        "bin_start": -0.19999999999999996,
                        "bin_end": -0.09999999999999998,
                        "count": 0
                      },
                      {
                        "bin_start": -0.09999999999999998,
                        "bin_end": 0,
                        "count": 0
                      },
                      {
                        "bin_start": 0,
                        "bin_end": 0.10000000000000009,
                        "count": 5
                      },
                      {
                        "bin_start": 0.10000000000000009,
                        "bin_end": 0.20000000000000007,
                        "count": 0
                      },
                      {
                        "bin_start": 0.20000000000000007,
                        "bin_end": 0.30000000000000004,
                        "count": 0
                      },
                      {
                        "bin_start": 0.30000000000000004,
                        "bin_end": 0.4,
                        "count": 0
                      },
                      {
                        "bin_start": 0.4,
                        "bin_end": 0.5,
                        "count": 0
                      }
                    ],
                    "categories": null
                  }
                },
                {
                  "name": "Migrant (%)",
                  "dtype": "float64",
                  "stats": {
                    "unique_count": 1,
                    "nan_count": 0,
                    "min": "0.0",
                    "max": "0.0",
                    "histogram": [
                      {
                        "bin_start": -0.5,
                        "bin_end": -0.4,
                        "count": 0
                      },
                      {
                        "bin_start": -0.4,
                        "bin_end": -0.3,
                        "count": 0
                      },
                      {
                        "bin_start": -0.3,
                        "bin_end": -0.19999999999999996,
                        "count": 0
                      },
                      {
                        "bin_start": -0.19999999999999996,
                        "bin_end": -0.09999999999999998,
                        "count": 0
                      },
                      {
                        "bin_start": -0.09999999999999998,
                        "bin_end": 0,
                        "count": 0
                      },
                      {
                        "bin_start": 0,
                        "bin_end": 0.10000000000000009,
                        "count": 5
                      },
                      {
                        "bin_start": 0.10000000000000009,
                        "bin_end": 0.20000000000000007,
                        "count": 0
                      },
                      {
                        "bin_start": 0.20000000000000007,
                        "bin_end": 0.30000000000000004,
                        "count": 0
                      },
                      {
                        "bin_start": 0.30000000000000004,
                        "bin_end": 0.4,
                        "count": 0
                      },
                      {
                        "bin_start": 0.4,
                        "bin_end": 0.5,
                        "count": 0
                      }
                    ],
                    "categories": null
                  }
                },
                {
                  "name": "Students with Disabilities",
                  "dtype": "int64",
                  "stats": {
                    "unique_count": 5,
                    "nan_count": 0,
                    "min": "75",
                    "max": "1286",
                    "histogram": [
                      {
                        "bin_start": 75,
                        "bin_end": 196.1,
                        "count": 1
                      },
                      {
                        "bin_start": 196.1,
                        "bin_end": 317.2,
                        "count": 0
                      },
                      {
                        "bin_start": 317.2,
                        "bin_end": 438.29999999999995,
                        "count": 1
                      },
                      {
                        "bin_start": 438.29999999999995,
                        "bin_end": 559.4,
                        "count": 0
                      },
                      {
                        "bin_start": 559.4,
                        "bin_end": 680.5,
                        "count": 0
                      },
                      {
                        "bin_start": 680.5,
                        "bin_end": 801.5999999999999,
                        "count": 0
                      },
                      {
                        "bin_start": 801.5999999999999,
                        "bin_end": 922.6999999999999,
                        "count": 0
                      },
                      {
                        "bin_start": 922.6999999999999,
                        "bin_end": 1043.8,
                        "count": 0
                      },
                      {
                        "bin_start": 1043.8,
                        "bin_end": 1164.8999999999999,
                        "count": 2
                      },
                      {
                        "bin_start": 1164.8999999999999,
                        "bin_end": 1286,
                        "count": 1
                      }
                    ],
                    "categories": null
                  }
                },
                {
                  "name": "Students with Disabilities (%)",
                  "dtype": "float64",
                  "stats": {
                    "unique_count": 5,
                    "nan_count": 0,
                    "min": "9.0",
                    "max": "12.5",
                    "histogram": [
                      {
                        "bin_start": 9,
                        "bin_end": 9.35,
                        "count": 1
                      },
                      {
                        "bin_start": 9.35,
                        "bin_end": 9.7,
                        "count": 0
                      },
                      {
                        "bin_start": 9.7,
                        "bin_end": 10.05,
                        "count": 0
                      },
                      {
                        "bin_start": 10.05,
                        "bin_end": 10.4,
                        "count": 0
                      },
                      {
                        "bin_start": 10.4,
                        "bin_end": 10.75,
                        "count": 0
                      },
                      {
                        "bin_start": 10.75,
                        "bin_end": 11.1,
                        "count": 1
                      },
                      {
                        "bin_start": 11.1,
                        "bin_end": 11.45,
                        "count": 0
                      },
                      {
                        "bin_start": 11.45,
                        "bin_end": 11.8,
                        "count": 0
                      },
                      {
                        "bin_start": 11.8,
                        "bin_end": 12.15,
                        "count": 1
                      },
                      {
                        "bin_start": 12.15,
                        "bin_end": 12.5,
                        "count": 2
                      }
                    ],
                    "categories": null
                  }
                },
                {
                  "name": "Socioeconomically Disadvantaged",
                  "dtype": "int64",
                  "stats": {
                    "unique_count": 5,
                    "nan_count": 0,
                    "min": "327",
                    "max": "4035",
                    "histogram": [
                      {
                        "bin_start": 327,
                        "bin_end": 697.8,
                        "count": 1
                      },
                      {
                        "bin_start": 697.8,
                        "bin_end": 1068.6,
                        "count": 0
                      },
                      {
                        "bin_start": 1068.6,
                        "bin_end": 1439.4,
                        "count": 1
                      },
                      {
                        "bin_start": 1439.4,
                        "bin_end": 1810.2,
                        "count": 0
                      },
                      {
                        "bin_start": 1810.2,
                        "bin_end": 2181,
                        "count": 0
                      },
                      {
                        "bin_start": 2181,
                        "bin_end": 2551.8,
                        "count": 1
                      },
                      {
                        "bin_start": 2551.8,
                        "bin_end": 2922.6,
                        "count": 0
                      },
                      {
                        "bin_start": 2922.6,
                        "bin_end": 3293.4,
                        "count": 0
                      },
                      {
                        "bin_start": 3293.4,
                        "bin_end": 3664.2000000000003,
                        "count": 0
                      },
                      {
                        "bin_start": 3664.2000000000003,
                        "bin_end": 4035,
                        "count": 2
                      }
                    ],
                    "categories": null
                  }
                },
                {
                  "name": "Socioeconomically Disadvantaged (%)",
                  "dtype": "float64",
                  "stats": {
                    "unique_count": 5,
                    "nan_count": 0,
                    "min": "27.6",
                    "max": "54.5",
                    "histogram": [
                      {
                        "bin_start": 27.6,
                        "bin_end": 30.290000000000003,
                        "count": 1
                      },
                      {
                        "bin_start": 30.290000000000003,
                        "bin_end": 32.980000000000004,
                        "count": 1
                      },
                      {
                        "bin_start": 32.980000000000004,
                        "bin_end": 35.67,
                        "count": 0
                      },
                      {
                        "bin_start": 35.67,
                        "bin_end": 38.36,
                        "count": 1
                      },
                      {
                        "bin_start": 38.36,
                        "bin_end": 41.05,
                        "count": 1
                      },
                      {
                        "bin_start": 41.05,
                        "bin_end": 43.74,
                        "count": 0
                      },
                      {
                        "bin_start": 43.74,
                        "bin_end": 46.43,
                        "count": 0
                      },
                      {
                        "bin_start": 46.43,
                        "bin_end": 49.120000000000005,
                        "count": 0
                      },
                      {
                        "bin_start": 49.120000000000005,
                        "bin_end": 51.81,
                        "count": 0
                      },
                      {
                        "bin_start": 51.81,
                        "bin_end": 54.5,
                        "count": 1
                      }
                    ],
                    "categories": null
                  }
                },
                {
                  "name": "District Label",
                  "dtype": "object",
                  "stats": {
                    "unique_count": 5,
                    "nan_count": 0,
                    "min": null,
                    "max": null,
                    "histogram": null,
                    "categories": [
                      {
                        "name": "Alameda Unified (Alameda)",
                        "count": 1
                      },
                      {
                        "name": "Albany City Unified (Alameda)",
                        "count": 1
                      },
                      {
                        "name": "3 others",
                        "count": 3
                      }
                    ]
                  }
                },
                {
                  "name": "_deepnote_index_column",
                  "dtype": "int64"
                }
              ],
              "row_count": 5,
              "preview_row_count": 5,
              "rows": [
                {
                  "Fed ID": 601770,
                  "District Code": 61119,
                  "CDS Code": 1611190000000,
                  "County Name": "Alameda",
                  "District Name": "Alameda Unified",
                  "District Type": "Unified",
                  "Grade Low": "KG",
                  "Grade High": 12,
                  "Grade Low Census": "KG",
                  "Grade High Census": 12,
                  "Assistance Status": "General Assistance",
                  "Locale": "21 - Suburban, Large",
                  "Enroll Total": 10557,
                  "Enroll Charter": 1496,
                  "Enroll Non Charter": 9061,
                  "African American": 748,
                  "African American (%)": 7.1,
                  "American Indian": 25,
                  "American Indian (%)": 0.2,
                  "Asian": 2610,
                  "Asian (%)": 24.7,
                  "Filipino": 484,
                  "Filipino (%)": 4.6,
                  "Hispanic": 1878,
                  "Hispanic (%)": 17.8,
                  "Pacific Islander": 52,
                  "Pacific Islander (%)": 0.5,
                  "White": 2844,
                  "White (%)": 26.9,
                  "Two or More Races": 1596,
                  "Two or More Races (%)": 15.1,
                  "Not Reported": 320,
                  "Not Reported (%)": 3,
                  "English Learner": 906,
                  "English Learner (%)": 8.6,
                  "Foster": 27,
                  "Foster (%)": 0.3,
                  "Homeless": 91,
                  "Homeless (%)": 0.9,
                  "Migrant": 0,
                  "Migrant (%)": 0,
                  "Students with Disabilities": 1286,
                  "Students with Disabilities (%)": 12.2,
                  "Socioeconomically Disadvantaged": 4035,
                  "Socioeconomically Disadvantaged (%)": 38.2,
                  "District Label": "Alameda Unified (Alameda)",
                  "_deepnote_index_column": 0
                },
                {
                  "Fed ID": 601860,
                  "District Code": 61127,
                  "CDS Code": 1611270000000,
                  "County Name": "Alameda",
                  "District Name": "Albany City Unified",
                  "District Type": "Unified",
                  "Grade Low": "KG",
                  "Grade High": 12,
                  "Grade Low Census": "KG",
                  "Grade High Census": 12,
                  "Assistance Status": "General Assistance",
                  "Locale": "21 - Suburban, Large",
                  "Enroll Total": 3574,
                  "Enroll Charter": 0,
                  "Enroll Non Charter": 3574,
                  "African American": 152,
                  "African American (%)": 4.3,
                  "American Indian": 10,
                  "American Indian (%)": 0.3,
                  "Asian": 1130,
                  "Asian (%)": 31.6,
                  "Filipino": 51,
                  "Filipino (%)": 1.4,
                  "Hispanic": 616,
                  "Hispanic (%)": 17.2,
                  "Pacific Islander": 4,
                  "Pacific Islander (%)": 0.1,
                  "White": 923,
                  "White (%)": 25.8,
                  "Two or More Races": 483,
                  "Two or More Races (%)": 13.5,
                  "Not Reported": 205,
                  "Not Reported (%)": 5.7,
                  "English Learner": 456,
                  "English Learner (%)": 12.8,
                  "Foster": 1,
                  "Foster (%)": 0,
                  "Homeless": 24,
                  "Homeless (%)": 0.7,
                  "Migrant": 0,
                  "Migrant (%)": 0,
                  "Students with Disabilities": 320,
                  "Students with Disabilities (%)": 9,
                  "Socioeconomically Disadvantaged": 1122,
                  "Socioeconomically Disadvantaged (%)": 31.4,
                  "District Label": "Albany City Unified (Alameda)",
                  "_deepnote_index_column": 1
                },
                {
                  "Fed ID": 604740,
                  "District Code": 61143,
                  "CDS Code": 1611430000000,
                  "County Name": "Alameda",
                  "District Name": "Berkeley Unified",
                  "District Type": "Unified",
                  "Grade Low": "KG",
                  "Grade High": 12,
                  "Grade Low Census": "KG",
                  "Grade High Census": 12,
                  "Assistance Status": "General Assistance",
                  "Locale": "12 - City, Midsize ",
                  "Enroll Total": 9077,
                  "Enroll Charter": 0,
                  "Enroll Non Charter": 9077,
                  "African American": 1052,
                  "African American (%)": 11.6,
                  "American Indian": 21,
                  "American Indian (%)": 0.2,
                  "Asian": 736,
                  "Asian (%)": 8.1,
                  "Filipino": 73,
                  "Filipino (%)": 0.8,
                  "Hispanic": 2045,
                  "Hispanic (%)": 22.5,
                  "Pacific Islander": 16,
                  "Pacific Islander (%)": 0.2,
                  "White": 3733,
                  "White (%)": 41.1,
                  "Two or More Races": 1392,
                  "Two or More Races (%)": 15.3,
                  "Not Reported": 9,
                  "Not Reported (%)": 0.1,
                  "English Learner": 594,
                  "English Learner (%)": 6.5,
                  "Foster": 32,
                  "Foster (%)": 0.4,
                  "Homeless": 150,
                  "Homeless (%)": 1.7,
                  "Migrant": 0,
                  "Migrant (%)": 0,
                  "Students with Disabilities": 1092,
                  "Students with Disabilities (%)": 12,
                  "Socioeconomically Disadvantaged": 2508,
                  "Socioeconomically Disadvantaged (%)": 27.6,
                  "District Label": "Berkeley Unified (Alameda)",
                  "_deepnote_index_column": 2
                },
                {
                  "Fed ID": 607800,
                  "District Code": 61150,
                  "CDS Code": 1611500000000,
                  "County Name": "Alameda",
                  "District Name": "Castro Valley Unified",
                  "District Type": "Unified",
                  "Grade Low": "KG",
                  "Grade High": 12,
                  "Grade Low Census": "KG",
                  "Grade High Census": 12,
                  "Assistance Status": "General Assistance",
                  "Locale": "21 - Suburban, Large",
                  "Enroll Total": 9489,
                  "Enroll Charter": 0,
                  "Enroll Non Charter": 9489,
                  "African American": 406,
                  "African American (%)": 4.3,
                  "American Indian": 7,
                  "American Indian (%)": 0.1,
                  "Asian": 3119,
                  "Asian (%)": 32.9,
                  "Filipino": 423,
                  "Filipino (%)": 4.5,
                  "Hispanic": 2331,
                  "Hispanic (%)": 24.6,
                  "Pacific Islander": 40,
                  "Pacific Islander (%)": 0.4,
                  "White": 1862,
                  "White (%)": 19.6,
                  "Two or More Races": 974,
                  "Two or More Races (%)": 10.3,
                  "Not Reported": 327,
                  "Not Reported (%)": 3.4,
                  "English Learner": 1266,
                  "English Learner (%)": 13.3,
                  "Foster": 5,
                  "Foster (%)": 0.1,
                  "Homeless": 135,
                  "Homeless (%)": 1.4,
                  "Migrant": 0,
                  "Migrant (%)": 0,
                  "Students with Disabilities": 1048,
                  "Students with Disabilities (%)": 11,
                  "Socioeconomically Disadvantaged": 3686,
                  "Socioeconomically Disadvantaged (%)": 38.8,
                  "District Label": "Castro Valley Unified (Alameda)",
                  "_deepnote_index_column": 3
                },
                {
                  "Fed ID": 612630,
                  "District Code": 61168,
                  "CDS Code": 1611680000000,
                  "County Name": "Alameda",
                  "District Name": "Emery Unified",
                  "District Type": "Unified",
                  "Grade Low": "KG",
                  "Grade High": 12,
                  "Grade Low Census": "KG",
                  "Grade High Census": 12,
                  "Assistance Status": "General Assistance",
                  "Locale": "21 - Suburban, Large",
                  "Enroll Total": 600,
                  "Enroll Charter": 0,
                  "Enroll Non Charter": 600,
                  "African American": 265,
                  "African American (%)": 44.2,
                  "American Indian": 0,
                  "American Indian (%)": 0,
                  "Asian": 56,
                  "Asian (%)": 9.3,
                  "Filipino": 5,
                  "Filipino (%)": 0.8,
                  "Hispanic": 126,
                  "Hispanic (%)": 21,
                  "Pacific Islander": 4,
                  "Pacific Islander (%)": 0.7,
                  "White": 76,
                  "White (%)": 12.7,
                  "Two or More Races": 56,
                  "Two or More Races (%)": 9.3,
                  "Not Reported": 12,
                  "Not Reported (%)": 2,
                  "English Learner": 98,
                  "English Learner (%)": 16.3,
                  "Foster": 1,
                  "Foster (%)": 0.2,
                  "Homeless": 13,
                  "Homeless (%)": 2.2,
                  "Migrant": 0,
                  "Migrant (%)": 0,
                  "Students with Disabilities": 75,
                  "Students with Disabilities (%)": 12.5,
                  "Socioeconomically Disadvantaged": 327,
                  "Socioeconomically Disadvantaged (%)": 54.5,
                  "District Label": "Emery Unified (Alameda)",
                  "_deepnote_index_column": 4
                }
              ],
              "type": "dataframe"
            },
            "text/plain": "   Fed ID  District Code       CDS Code County Name          District Name  \\\n0  601770          61119  1611190000000     Alameda        Alameda Unified   \n1  601860          61127  1611270000000     Alameda    Albany City Unified   \n2  604740          61143  1611430000000     Alameda       Berkeley Unified   \n3  607800          61150  1611500000000     Alameda  Castro Valley Unified   \n4  612630          61168  1611680000000     Alameda          Emery Unified   \n\n  District Type Grade Low  Grade High Grade Low Census  Grade High Census  \\\n0       Unified        KG          12               KG                 12   \n1       Unified        KG          12               KG                 12   \n2       Unified        KG          12               KG                 12   \n3       Unified        KG          12               KG                 12   \n4       Unified        KG          12               KG                 12   \n\n   ... Foster (%) Homeless  Homeless (%)  Migrant  Migrant (%)  \\\n0  ...        0.3       91           0.9        0          0.0   \n1  ...        0.0       24           0.7        0          0.0   \n2  ...        0.4      150           1.7        0          0.0   \n3  ...        0.1      135           1.4        0          0.0   \n4  ...        0.2       13           2.2        0          0.0   \n\n   Students with Disabilities  Students with Disabilities (%)  \\\n0                        1286                            12.2   \n1                         320                             9.0   \n2                        1092                            12.0   \n3                        1048                            11.0   \n4                          75                            12.5   \n\n   Socioeconomically Disadvantaged  Socioeconomically Disadvantaged (%)  \\\n0                             4035                                 38.2   \n1                             1122                                 31.4   \n2                             2508                                 27.6   \n3                             3686                                 38.8   \n4                              327                                 54.5   \n\n                    District Label  \n0        Alameda Unified (Alameda)  \n1    Albany City Unified (Alameda)  \n2       Berkeley Unified (Alameda)  \n3  Castro Valley Unified (Alameda)  \n4          Emery Unified (Alameda)  \n\n[5 rows x 46 columns]",
            "text/html": "<div>\n<style scoped>\n    .dataframe tbody tr th:only-of-type {\n        vertical-align: middle;\n    }\n\n    .dataframe tbody tr th {\n        vertical-align: top;\n    }\n\n    .dataframe thead th {\n        text-align: right;\n    }\n</style>\n<table border=\"1\" class=\"dataframe\">\n  <thead>\n    <tr style=\"text-align: right;\">\n      <th></th>\n      <th>Fed ID</th>\n      <th>District Code</th>\n      <th>CDS Code</th>\n      <th>County Name</th>\n      <th>District Name</th>\n      <th>District Type</th>\n      <th>Grade Low</th>\n      <th>Grade High</th>\n      <th>Grade Low Census</th>\n      <th>Grade High Census</th>\n      <th>...</th>\n      <th>Foster (%)</th>\n      <th>Homeless</th>\n      <th>Homeless (%)</th>\n      <th>Migrant</th>\n      <th>Migrant (%)</th>\n      <th>Students with Disabilities</th>\n      <th>Students with Disabilities (%)</th>\n      <th>Socioeconomically Disadvantaged</th>\n      <th>Socioeconomically Disadvantaged (%)</th>\n      <th>District Label</th>\n    </tr>\n  </thead>\n  <tbody>\n    <tr>\n      <th>0</th>\n      <td>601770</td>\n      <td>61119</td>\n      <td>1611190000000</td>\n      <td>Alameda</td>\n      <td>Alameda Unified</td>\n      <td>Unified</td>\n      <td>KG</td>\n      <td>12</td>\n      <td>KG</td>\n      <td>12</td>\n      <td>...</td>\n      <td>0.3</td>\n      <td>91</td>\n      <td>0.9</td>\n      <td>0</td>\n      <td>0.0</td>\n      <td>1286</td>\n      <td>12.2</td>\n      <td>4035</td>\n      <td>38.2</td>\n      <td>Alameda Unified (Alameda)</td>\n    </tr>\n    <tr>\n      <th>1</th>\n      <td>601860</td>\n      <td>61127</td>\n      <td>1611270000000</td>\n      <td>Alameda</td>\n      <td>Albany City Unified</td>\n      <td>Unified</td>\n      <td>KG</td>\n      <td>12</td>\n      <td>KG</td>\n      <td>12</td>\n      <td>...</td>\n      <td>0.0</td>\n      <td>24</td>\n      <td>0.7</td>\n      <td>0</td>\n      <td>0.0</td>\n      <td>320</td>\n      <td>9.0</td>\n      <td>1122</td>\n      <td>31.4</td>\n      <td>Albany City Unified (Alameda)</td>\n    </tr>\n    <tr>\n      <th>2</th>\n      <td>604740</td>\n      <td>61143</td>\n      <td>1611430000000</td>\n      <td>Alameda</td>\n      <td>Berkeley Unified</td>\n      <td>Unified</td>\n      <td>KG</td>\n      <td>12</td>\n      <td>KG</td>\n      <td>12</td>\n      <td>...</td>\n      <td>0.4</td>\n      <td>150</td>\n      <td>1.7</td>\n      <td>0</td>\n      <td>0.0</td>\n      <td>1092</td>\n      <td>12.0</td>\n      <td>2508</td>\n      <td>27.6</td>\n      <td>Berkeley Unified (Alameda)</td>\n    </tr>\n    <tr>\n      <th>3</th>\n      <td>607800</td>\n      <td>61150</td>\n      <td>1611500000000</td>\n      <td>Alameda</td>\n      <td>Castro Valley Unified</td>\n      <td>Unified</td>\n      <td>KG</td>\n      <td>12</td>\n      <td>KG</td>\n      <td>12</td>\n      <td>...</td>\n      <td>0.1</td>\n      <td>135</td>\n      <td>1.4</td>\n      <td>0</td>\n      <td>0.0</td>\n      <td>1048</td>\n      <td>11.0</td>\n      <td>3686</td>\n      <td>38.8</td>\n      <td>Castro Valley Unified (Alameda)</td>\n    </tr>\n    <tr>\n      <th>4</th>\n      <td>612630</td>\n      <td>61168</td>\n      <td>1611680000000</td>\n      <td>Alameda</td>\n      <td>Emery Unified</td>\n      <td>Unified</td>\n      <td>KG</td>\n      <td>12</td>\n      <td>KG</td>\n      <td>12</td>\n      <td>...</td>\n      <td>0.2</td>\n      <td>13</td>\n      <td>2.2</td>\n      <td>0</td>\n      <td>0.0</td>\n      <td>75</td>\n      <td>12.5</td>\n      <td>327</td>\n      <td>54.5</td>\n      <td>Emery Unified (Alameda)</td>\n    </tr>\n  </tbody>\n</table>\n<p>5 rows × 46 columns</p>\n</div>"
          },
          "metadata": {}
        }
      ],
      "outputs_reference": null,
      "content_dependencies": null
    },
    {
      "cell_type": "markdown",
      "metadata": {
        "id": "uRc7Jt3zWmoe",
        "deepnote_app_block_order": 46,
        "deepnote_app_block_visible": true,
        "deepnote_app_block_group_id": null,
        "cell_id": "c40421d0999f47d08798acbc4a123578",
        "deepnote_cell_type": "markdown"
      },
      "source": "### Step 10: Add Newly Unified Rows to `district_data` & Drop Old, Non-unified Rows",
      "block_group": "596be55f98eb42bdaac7fa492bbbe27c"
    },
    {
      "cell_type": "code",
      "metadata": {
        "id": "Y1cwAC7WWpVF",
        "colab": {
          "height": 534,
          "base_uri": "https://localhost:8080/"
        },
        "outputId": "7b18107b-ab2d-4013-b0ef-75f59111aab2",
        "source_hash": "366b5627",
        "execution_start": 1759790536868,
        "execution_millis": 10,
        "execution_context_id": "f1ca50dd-93b4-4efd-8fa9-6064dddd03f8",
        "deepnote_app_block_order": 47,
        "deepnote_app_block_visible": true,
        "deepnote_app_block_group_id": null,
        "deepnote_app_is_code_hidden": true,
        "deepnote_app_is_output_hidden": false,
        "cell_id": "c785be8e3e5c4d68ae0e33a97dda0305",
        "deepnote_cell_type": "code"
      },
      "source": "# Add All Newly Unified/Merged Row to `district_data` & Drop Old Non-Unified Rows\n# Use .isin() to filter out the rows with specific District Codes\n\n#filter out existing district code data with ~\ndistrict_data = district_data[~district_data['District Code'].isin([76349, 40261, 40246, 40253, 40717])]\n\ndistrict_data = pd.concat([district_data, merged_pair_1, merged_pair_2, merged_pair_3, merged_pair_4, merged_pair_5], ignore_index=True)\n\nprint(district_data.shape) #933\ndisplay(district_data.head())",
      "block_group": "ca546e57c13047de943c6828129106b0",
      "execution_count": 17,
      "outputs": [
        {
          "name": "stdout",
          "text": "(933, 46)\n",
          "output_type": "stream"
        },
        {
          "data": {
            "application/vnd.deepnote.dataframe.v3+json": {
              "column_count": 46,
              "columns": [
                {
                  "name": "Fed ID",
                  "dtype": "float64",
                  "stats": {
                    "unique_count": 5,
                    "nan_count": 0,
                    "min": "601770.0",
                    "max": "612630.0",
                    "histogram": [
                      {
                        "bin_start": 601770,
                        "bin_end": 602856,
                        "count": 2
                      },
                      {
                        "bin_start": 602856,
                        "bin_end": 603942,
                        "count": 0
                      },
                      {
                        "bin_start": 603942,
                        "bin_end": 605028,
                        "count": 1
                      },
                      {
                        "bin_start": 605028,
                        "bin_end": 606114,
                        "count": 0
                      },
                      {
                        "bin_start": 606114,
                        "bin_end": 607200,
                        "count": 0
                      },
                      {
                        "bin_start": 607200,
                        "bin_end": 608286,
                        "count": 1
                      },
                      {
                        "bin_start": 608286,
                        "bin_end": 609372,
                        "count": 0
                      },
                      {
                        "bin_start": 609372,
                        "bin_end": 610458,
                        "count": 0
                      },
                      {
                        "bin_start": 610458,
                        "bin_end": 611544,
                        "count": 0
                      },
                      {
                        "bin_start": 611544,
                        "bin_end": 612630,
                        "count": 1
                      }
                    ],
                    "categories": null
                  }
                },
                {
                  "name": "District Code",
                  "dtype": "object",
                  "stats": {
                    "unique_count": 5,
                    "nan_count": 0,
                    "min": null,
                    "max": null,
                    "histogram": null,
                    "categories": [
                      {
                        "name": "61119",
                        "count": 1
                      },
                      {
                        "name": "61127",
                        "count": 1
                      },
                      {
                        "name": "3 others",
                        "count": 3
                      }
                    ]
                  }
                },
                {
                  "name": "CDS Code",
                  "dtype": "float64",
                  "stats": {
                    "unique_count": 5,
                    "nan_count": 0,
                    "min": "1611190000000.0",
                    "max": "1611680000000.0",
                    "histogram": [
                      {
                        "bin_start": 1611190000000,
                        "bin_end": 1611239000000,
                        "count": 1
                      },
                      {
                        "bin_start": 1611239000000,
                        "bin_end": 1611288000000,
                        "count": 1
                      },
                      {
                        "bin_start": 1611288000000,
                        "bin_end": 1611337000000,
                        "count": 0
                      },
                      {
                        "bin_start": 1611337000000,
                        "bin_end": 1611386000000,
                        "count": 0
                      },
                      {
                        "bin_start": 1611386000000,
                        "bin_end": 1611435000000,
                        "count": 1
                      },
                      {
                        "bin_start": 1611435000000,
                        "bin_end": 1611484000000,
                        "count": 0
                      },
                      {
                        "bin_start": 1611484000000,
                        "bin_end": 1611533000000,
                        "count": 1
                      },
                      {
                        "bin_start": 1611533000000,
                        "bin_end": 1611582000000,
                        "count": 0
                      },
                      {
                        "bin_start": 1611582000000,
                        "bin_end": 1611631000000,
                        "count": 0
                      },
                      {
                        "bin_start": 1611631000000,
                        "bin_end": 1611680000000,
                        "count": 1
                      }
                    ],
                    "categories": null
                  }
                },
                {
                  "name": "County Name",
                  "dtype": "object",
                  "stats": {
                    "unique_count": 1,
                    "nan_count": 0,
                    "min": null,
                    "max": null,
                    "histogram": null,
                    "categories": [
                      {
                        "name": "Alameda",
                        "count": 5
                      }
                    ]
                  }
                },
                {
                  "name": "District Name",
                  "dtype": "object",
                  "stats": {
                    "unique_count": 5,
                    "nan_count": 0,
                    "min": null,
                    "max": null,
                    "histogram": null,
                    "categories": [
                      {
                        "name": "Alameda Unified",
                        "count": 1
                      },
                      {
                        "name": "Albany City Unified",
                        "count": 1
                      },
                      {
                        "name": "3 others",
                        "count": 3
                      }
                    ]
                  }
                },
                {
                  "name": "District Type",
                  "dtype": "object",
                  "stats": {
                    "unique_count": 1,
                    "nan_count": 0,
                    "min": null,
                    "max": null,
                    "histogram": null,
                    "categories": [
                      {
                        "name": "Unified",
                        "count": 5
                      }
                    ]
                  }
                },
                {
                  "name": "Grade Low",
                  "dtype": "object",
                  "stats": {
                    "unique_count": 1,
                    "nan_count": 0,
                    "min": null,
                    "max": null,
                    "histogram": null,
                    "categories": [
                      {
                        "name": "KG",
                        "count": 5
                      }
                    ]
                  }
                },
                {
                  "name": "Grade High",
                  "dtype": "object",
                  "stats": {
                    "unique_count": 1,
                    "nan_count": 0,
                    "min": null,
                    "max": null,
                    "histogram": null,
                    "categories": [
                      {
                        "name": "12",
                        "count": 5
                      }
                    ]
                  }
                },
                {
                  "name": "Grade Low Census",
                  "dtype": "object",
                  "stats": {
                    "unique_count": 1,
                    "nan_count": 0,
                    "min": null,
                    "max": null,
                    "histogram": null,
                    "categories": [
                      {
                        "name": "KG",
                        "count": 5
                      }
                    ]
                  }
                },
                {
                  "name": "Grade High Census",
                  "dtype": "object",
                  "stats": {
                    "unique_count": 1,
                    "nan_count": 0,
                    "min": null,
                    "max": null,
                    "histogram": null,
                    "categories": [
                      {
                        "name": "12",
                        "count": 5
                      }
                    ]
                  }
                },
                {
                  "name": "Assistance Status",
                  "dtype": "object",
                  "stats": {
                    "unique_count": 1,
                    "nan_count": 0,
                    "min": null,
                    "max": null,
                    "histogram": null,
                    "categories": [
                      {
                        "name": "General Assistance",
                        "count": 5
                      }
                    ]
                  }
                },
                {
                  "name": "Locale",
                  "dtype": "object",
                  "stats": {
                    "unique_count": 2,
                    "nan_count": 0,
                    "min": null,
                    "max": null,
                    "histogram": null,
                    "categories": [
                      {
                        "name": "21 - Suburban, Large",
                        "count": 4
                      },
                      {
                        "name": "12 - City, Midsize ",
                        "count": 1
                      }
                    ]
                  }
                },
                {
                  "name": "Enroll Total",
                  "dtype": "float64",
                  "stats": {
                    "unique_count": 5,
                    "nan_count": 0,
                    "min": "600.0",
                    "max": "10557.0",
                    "histogram": [
                      {
                        "bin_start": 600,
                        "bin_end": 1595.7,
                        "count": 1
                      },
                      {
                        "bin_start": 1595.7,
                        "bin_end": 2591.4,
                        "count": 0
                      },
                      {
                        "bin_start": 2591.4,
                        "bin_end": 3587.1000000000004,
                        "count": 1
                      },
                      {
                        "bin_start": 3587.1000000000004,
                        "bin_end": 4582.8,
                        "count": 0
                      },
                      {
                        "bin_start": 4582.8,
                        "bin_end": 5578.5,
                        "count": 0
                      },
                      {
                        "bin_start": 5578.5,
                        "bin_end": 6574.200000000001,
                        "count": 0
                      },
                      {
                        "bin_start": 6574.200000000001,
                        "bin_end": 7569.900000000001,
                        "count": 0
                      },
                      {
                        "bin_start": 7569.900000000001,
                        "bin_end": 8565.6,
                        "count": 0
                      },
                      {
                        "bin_start": 8565.6,
                        "bin_end": 9561.300000000001,
                        "count": 2
                      },
                      {
                        "bin_start": 9561.300000000001,
                        "bin_end": 10557,
                        "count": 1
                      }
                    ],
                    "categories": null
                  }
                },
                {
                  "name": "Enroll Charter",
                  "dtype": "float64",
                  "stats": {
                    "unique_count": 2,
                    "nan_count": 0,
                    "min": "0.0",
                    "max": "1496.0",
                    "histogram": [
                      {
                        "bin_start": 0,
                        "bin_end": 149.6,
                        "count": 4
                      },
                      {
                        "bin_start": 149.6,
                        "bin_end": 299.2,
                        "count": 0
                      },
                      {
                        "bin_start": 299.2,
                        "bin_end": 448.79999999999995,
                        "count": 0
                      },
                      {
                        "bin_start": 448.79999999999995,
                        "bin_end": 598.4,
                        "count": 0
                      },
                      {
                        "bin_start": 598.4,
                        "bin_end": 748,
                        "count": 0
                      },
                      {
                        "bin_start": 748,
                        "bin_end": 897.5999999999999,
                        "count": 0
                      },
                      {
                        "bin_start": 897.5999999999999,
                        "bin_end": 1047.2,
                        "count": 0
                      },
                      {
                        "bin_start": 1047.2,
                        "bin_end": 1196.8,
                        "count": 0
                      },
                      {
                        "bin_start": 1196.8,
                        "bin_end": 1346.3999999999999,
                        "count": 0
                      },
                      {
                        "bin_start": 1346.3999999999999,
                        "bin_end": 1496,
                        "count": 1
                      }
                    ],
                    "categories": null
                  }
                },
                {
                  "name": "Enroll Non Charter",
                  "dtype": "float64",
                  "stats": {
                    "unique_count": 5,
                    "nan_count": 0,
                    "min": "600.0",
                    "max": "9489.0",
                    "histogram": [
                      {
                        "bin_start": 600,
                        "bin_end": 1488.9,
                        "count": 1
                      },
                      {
                        "bin_start": 1488.9,
                        "bin_end": 2377.8,
                        "count": 0
                      },
                      {
                        "bin_start": 2377.8,
                        "bin_end": 3266.7,
                        "count": 0
                      },
                      {
                        "bin_start": 3266.7,
                        "bin_end": 4155.6,
                        "count": 1
                      },
                      {
                        "bin_start": 4155.6,
                        "bin_end": 5044.5,
                        "count": 0
                      },
                      {
                        "bin_start": 5044.5,
                        "bin_end": 5933.4,
                        "count": 0
                      },
                      {
                        "bin_start": 5933.4,
                        "bin_end": 6822.3,
                        "count": 0
                      },
                      {
                        "bin_start": 6822.3,
                        "bin_end": 7711.2,
                        "count": 0
                      },
                      {
                        "bin_start": 7711.2,
                        "bin_end": 8600.099999999999,
                        "count": 0
                      },
                      {
                        "bin_start": 8600.099999999999,
                        "bin_end": 9489,
                        "count": 3
                      }
                    ],
                    "categories": null
                  }
                },
                {
                  "name": "African American",
                  "dtype": "float64",
                  "stats": {
                    "unique_count": 5,
                    "nan_count": 0,
                    "min": "152.0",
                    "max": "1052.0",
                    "histogram": [
                      {
                        "bin_start": 152,
                        "bin_end": 242,
                        "count": 1
                      },
                      {
                        "bin_start": 242,
                        "bin_end": 332,
                        "count": 1
                      },
                      {
                        "bin_start": 332,
                        "bin_end": 422,
                        "count": 1
                      },
                      {
                        "bin_start": 422,
                        "bin_end": 512,
                        "count": 0
                      },
                      {
                        "bin_start": 512,
                        "bin_end": 602,
                        "count": 0
                      },
                      {
                        "bin_start": 602,
                        "bin_end": 692,
                        "count": 0
                      },
                      {
                        "bin_start": 692,
                        "bin_end": 782,
                        "count": 1
                      },
                      {
                        "bin_start": 782,
                        "bin_end": 872,
                        "count": 0
                      },
                      {
                        "bin_start": 872,
                        "bin_end": 962,
                        "count": 0
                      },
                      {
                        "bin_start": 962,
                        "bin_end": 1052,
                        "count": 1
                      }
                    ],
                    "categories": null
                  }
                },
                {
                  "name": "African American (%)",
                  "dtype": "float64",
                  "stats": {
                    "unique_count": 4,
                    "nan_count": 0,
                    "min": "4.3",
                    "max": "44.2",
                    "histogram": [
                      {
                        "bin_start": 4.3,
                        "bin_end": 8.290000000000001,
                        "count": 3
                      },
                      {
                        "bin_start": 8.290000000000001,
                        "bin_end": 12.280000000000001,
                        "count": 1
                      },
                      {
                        "bin_start": 12.280000000000001,
                        "bin_end": 16.270000000000003,
                        "count": 0
                      },
                      {
                        "bin_start": 16.270000000000003,
                        "bin_end": 20.26,
                        "count": 0
                      },
                      {
                        "bin_start": 20.26,
                        "bin_end": 24.250000000000004,
                        "count": 0
                      },
                      {
                        "bin_start": 24.250000000000004,
                        "bin_end": 28.240000000000006,
                        "count": 0
                      },
                      {
                        "bin_start": 28.240000000000006,
                        "bin_end": 32.230000000000004,
                        "count": 0
                      },
                      {
                        "bin_start": 32.230000000000004,
                        "bin_end": 36.220000000000006,
                        "count": 0
                      },
                      {
                        "bin_start": 36.220000000000006,
                        "bin_end": 40.21,
                        "count": 0
                      },
                      {
                        "bin_start": 40.21,
                        "bin_end": 44.2,
                        "count": 1
                      }
                    ],
                    "categories": null
                  }
                },
                {
                  "name": "American Indian",
                  "dtype": "float64",
                  "stats": {
                    "unique_count": 5,
                    "nan_count": 0,
                    "min": "0.0",
                    "max": "25.0",
                    "histogram": [
                      {
                        "bin_start": 0,
                        "bin_end": 2.5,
                        "count": 1
                      },
                      {
                        "bin_start": 2.5,
                        "bin_end": 5,
                        "count": 0
                      },
                      {
                        "bin_start": 5,
                        "bin_end": 7.5,
                        "count": 1
                      },
                      {
                        "bin_start": 7.5,
                        "bin_end": 10,
                        "count": 0
                      },
                      {
                        "bin_start": 10,
                        "bin_end": 12.5,
                        "count": 1
                      },
                      {
                        "bin_start": 12.5,
                        "bin_end": 15,
                        "count": 0
                      },
                      {
                        "bin_start": 15,
                        "bin_end": 17.5,
                        "count": 0
                      },
                      {
                        "bin_start": 17.5,
                        "bin_end": 20,
                        "count": 0
                      },
                      {
                        "bin_start": 20,
                        "bin_end": 22.5,
                        "count": 1
                      },
                      {
                        "bin_start": 22.5,
                        "bin_end": 25,
                        "count": 1
                      }
                    ],
                    "categories": null
                  }
                },
                {
                  "name": "American Indian (%)",
                  "dtype": "float64",
                  "stats": {
                    "unique_count": 4,
                    "nan_count": 0,
                    "min": "0.0",
                    "max": "0.3",
                    "histogram": [
                      {
                        "bin_start": 0,
                        "bin_end": 0.03,
                        "count": 1
                      },
                      {
                        "bin_start": 0.03,
                        "bin_end": 0.06,
                        "count": 0
                      },
                      {
                        "bin_start": 0.06,
                        "bin_end": 0.09,
                        "count": 0
                      },
                      {
                        "bin_start": 0.09,
                        "bin_end": 0.12,
                        "count": 1
                      },
                      {
                        "bin_start": 0.12,
                        "bin_end": 0.15,
                        "count": 0
                      },
                      {
                        "bin_start": 0.15,
                        "bin_end": 0.18,
                        "count": 0
                      },
                      {
                        "bin_start": 0.18,
                        "bin_end": 0.21,
                        "count": 2
                      },
                      {
                        "bin_start": 0.21,
                        "bin_end": 0.24,
                        "count": 0
                      },
                      {
                        "bin_start": 0.24,
                        "bin_end": 0.27,
                        "count": 0
                      },
                      {
                        "bin_start": 0.27,
                        "bin_end": 0.3,
                        "count": 1
                      }
                    ],
                    "categories": null
                  }
                },
                {
                  "name": "Asian",
                  "dtype": "float64",
                  "stats": {
                    "unique_count": 5,
                    "nan_count": 0,
                    "min": "56.0",
                    "max": "3119.0",
                    "histogram": [
                      {
                        "bin_start": 56,
                        "bin_end": 362.3,
                        "count": 1
                      },
                      {
                        "bin_start": 362.3,
                        "bin_end": 668.6,
                        "count": 0
                      },
                      {
                        "bin_start": 668.6,
                        "bin_end": 974.9000000000001,
                        "count": 1
                      },
                      {
                        "bin_start": 974.9000000000001,
                        "bin_end": 1281.2,
                        "count": 1
                      },
                      {
                        "bin_start": 1281.2,
                        "bin_end": 1587.5,
                        "count": 0
                      },
                      {
                        "bin_start": 1587.5,
                        "bin_end": 1893.8000000000002,
                        "count": 0
                      },
                      {
                        "bin_start": 1893.8000000000002,
                        "bin_end": 2200.1,
                        "count": 0
                      },
                      {
                        "bin_start": 2200.1,
                        "bin_end": 2506.4,
                        "count": 0
                      },
                      {
                        "bin_start": 2506.4,
                        "bin_end": 2812.7000000000003,
                        "count": 1
                      },
                      {
                        "bin_start": 2812.7000000000003,
                        "bin_end": 3119,
                        "count": 1
                      }
                    ],
                    "categories": null
                  }
                },
                {
                  "name": "Asian (%)",
                  "dtype": "float64",
                  "stats": {
                    "unique_count": 5,
                    "nan_count": 0,
                    "min": "8.1",
                    "max": "32.9",
                    "histogram": [
                      {
                        "bin_start": 8.1,
                        "bin_end": 10.579999999999998,
                        "count": 2
                      },
                      {
                        "bin_start": 10.579999999999998,
                        "bin_end": 13.059999999999999,
                        "count": 0
                      },
                      {
                        "bin_start": 13.059999999999999,
                        "bin_end": 15.54,
                        "count": 0
                      },
                      {
                        "bin_start": 15.54,
                        "bin_end": 18.019999999999996,
                        "count": 0
                      },
                      {
                        "bin_start": 18.019999999999996,
                        "bin_end": 20.5,
                        "count": 0
                      },
                      {
                        "bin_start": 20.5,
                        "bin_end": 22.979999999999997,
                        "count": 0
                      },
                      {
                        "bin_start": 22.979999999999997,
                        "bin_end": 25.459999999999994,
                        "count": 1
                      },
                      {
                        "bin_start": 25.459999999999994,
                        "bin_end": 27.939999999999998,
                        "count": 0
                      },
                      {
                        "bin_start": 27.939999999999998,
                        "bin_end": 30.419999999999995,
                        "count": 0
                      },
                      {
                        "bin_start": 30.419999999999995,
                        "bin_end": 32.9,
                        "count": 2
                      }
                    ],
                    "categories": null
                  }
                },
                {
                  "name": "Filipino",
                  "dtype": "float64",
                  "stats": {
                    "unique_count": 5,
                    "nan_count": 0,
                    "min": "5.0",
                    "max": "484.0",
                    "histogram": [
                      {
                        "bin_start": 5,
                        "bin_end": 52.9,
                        "count": 2
                      },
                      {
                        "bin_start": 52.9,
                        "bin_end": 100.8,
                        "count": 1
                      },
                      {
                        "bin_start": 100.8,
                        "bin_end": 148.7,
                        "count": 0
                      },
                      {
                        "bin_start": 148.7,
                        "bin_end": 196.6,
                        "count": 0
                      },
                      {
                        "bin_start": 196.6,
                        "bin_end": 244.5,
                        "count": 0
                      },
                      {
                        "bin_start": 244.5,
                        "bin_end": 292.4,
                        "count": 0
                      },
                      {
                        "bin_start": 292.4,
                        "bin_end": 340.3,
                        "count": 0
                      },
                      {
                        "bin_start": 340.3,
                        "bin_end": 388.2,
                        "count": 0
                      },
                      {
                        "bin_start": 388.2,
                        "bin_end": 436.09999999999997,
                        "count": 1
                      },
                      {
                        "bin_start": 436.09999999999997,
                        "bin_end": 484,
                        "count": 1
                      }
                    ],
                    "categories": null
                  }
                },
                {
                  "name": "Filipino (%)",
                  "dtype": "float64",
                  "stats": {
                    "unique_count": 4,
                    "nan_count": 0,
                    "min": "0.8",
                    "max": "4.6",
                    "histogram": [
                      {
                        "bin_start": 0.8,
                        "bin_end": 1.1800000000000002,
                        "count": 2
                      },
                      {
                        "bin_start": 1.1800000000000002,
                        "bin_end": 1.56,
                        "count": 1
                      },
                      {
                        "bin_start": 1.56,
                        "bin_end": 1.9400000000000002,
                        "count": 0
                      },
                      {
                        "bin_start": 1.9400000000000002,
                        "bin_end": 2.3200000000000003,
                        "count": 0
                      },
                      {
                        "bin_start": 2.3200000000000003,
                        "bin_end": 2.7,
                        "count": 0
                      },
                      {
                        "bin_start": 2.7,
                        "bin_end": 3.08,
                        "count": 0
                      },
                      {
                        "bin_start": 3.08,
                        "bin_end": 3.46,
                        "count": 0
                      },
                      {
                        "bin_start": 3.46,
                        "bin_end": 3.84,
                        "count": 0
                      },
                      {
                        "bin_start": 3.84,
                        "bin_end": 4.22,
                        "count": 0
                      },
                      {
                        "bin_start": 4.22,
                        "bin_end": 4.6,
                        "count": 2
                      }
                    ],
                    "categories": null
                  }
                },
                {
                  "name": "Hispanic",
                  "dtype": "float64",
                  "stats": {
                    "unique_count": 5,
                    "nan_count": 0,
                    "min": "126.0",
                    "max": "2331.0",
                    "histogram": [
                      {
                        "bin_start": 126,
                        "bin_end": 346.5,
                        "count": 1
                      },
                      {
                        "bin_start": 346.5,
                        "bin_end": 567,
                        "count": 0
                      },
                      {
                        "bin_start": 567,
                        "bin_end": 787.5,
                        "count": 1
                      },
                      {
                        "bin_start": 787.5,
                        "bin_end": 1008,
                        "count": 0
                      },
                      {
                        "bin_start": 1008,
                        "bin_end": 1228.5,
                        "count": 0
                      },
                      {
                        "bin_start": 1228.5,
                        "bin_end": 1449,
                        "count": 0
                      },
                      {
                        "bin_start": 1449,
                        "bin_end": 1669.5,
                        "count": 0
                      },
                      {
                        "bin_start": 1669.5,
                        "bin_end": 1890,
                        "count": 1
                      },
                      {
                        "bin_start": 1890,
                        "bin_end": 2110.5,
                        "count": 1
                      },
                      {
                        "bin_start": 2110.5,
                        "bin_end": 2331,
                        "count": 1
                      }
                    ],
                    "categories": null
                  }
                },
                {
                  "name": "Hispanic (%)",
                  "dtype": "float64",
                  "stats": {
                    "unique_count": 5,
                    "nan_count": 0,
                    "min": "17.2",
                    "max": "24.6",
                    "histogram": [
                      {
                        "bin_start": 17.2,
                        "bin_end": 17.939999999999998,
                        "count": 2
                      },
                      {
                        "bin_start": 17.939999999999998,
                        "bin_end": 18.68,
                        "count": 0
                      },
                      {
                        "bin_start": 18.68,
                        "bin_end": 19.42,
                        "count": 0
                      },
                      {
                        "bin_start": 19.42,
                        "bin_end": 20.16,
                        "count": 0
                      },
                      {
                        "bin_start": 20.16,
                        "bin_end": 20.9,
                        "count": 0
                      },
                      {
                        "bin_start": 20.9,
                        "bin_end": 21.64,
                        "count": 1
                      },
                      {
                        "bin_start": 21.64,
                        "bin_end": 22.380000000000003,
                        "count": 0
                      },
                      {
                        "bin_start": 22.380000000000003,
                        "bin_end": 23.12,
                        "count": 1
                      },
                      {
                        "bin_start": 23.12,
                        "bin_end": 23.86,
                        "count": 0
                      },
                      {
                        "bin_start": 23.86,
                        "bin_end": 24.6,
                        "count": 1
                      }
                    ],
                    "categories": null
                  }
                },
                {
                  "name": "Pacific Islander",
                  "dtype": "float64",
                  "stats": {
                    "unique_count": 4,
                    "nan_count": 0,
                    "min": "4.0",
                    "max": "52.0",
                    "histogram": [
                      {
                        "bin_start": 4,
                        "bin_end": 8.8,
                        "count": 2
                      },
                      {
                        "bin_start": 8.8,
                        "bin_end": 13.6,
                        "count": 0
                      },
                      {
                        "bin_start": 13.6,
                        "bin_end": 18.4,
                        "count": 1
                      },
                      {
                        "bin_start": 18.4,
                        "bin_end": 23.2,
                        "count": 0
                      },
                      {
                        "bin_start": 23.2,
                        "bin_end": 28,
                        "count": 0
                      },
                      {
                        "bin_start": 28,
                        "bin_end": 32.8,
                        "count": 0
                      },
                      {
                        "bin_start": 32.8,
                        "bin_end": 37.6,
                        "count": 0
                      },
                      {
                        "bin_start": 37.6,
                        "bin_end": 42.4,
                        "count": 1
                      },
                      {
                        "bin_start": 42.4,
                        "bin_end": 47.199999999999996,
                        "count": 0
                      },
                      {
                        "bin_start": 47.199999999999996,
                        "bin_end": 52,
                        "count": 1
                      }
                    ],
                    "categories": null
                  }
                },
                {
                  "name": "Pacific Islander (%)",
                  "dtype": "float64",
                  "stats": {
                    "unique_count": 5,
                    "nan_count": 0,
                    "min": "0.1",
                    "max": "0.7",
                    "histogram": [
                      {
                        "bin_start": 0.1,
                        "bin_end": 0.16,
                        "count": 1
                      },
                      {
                        "bin_start": 0.16,
                        "bin_end": 0.22,
                        "count": 1
                      },
                      {
                        "bin_start": 0.22,
                        "bin_end": 0.28,
                        "count": 0
                      },
                      {
                        "bin_start": 0.28,
                        "bin_end": 0.33999999999999997,
                        "count": 0
                      },
                      {
                        "bin_start": 0.33999999999999997,
                        "bin_end": 0.4,
                        "count": 0
                      },
                      {
                        "bin_start": 0.4,
                        "bin_end": 0.45999999999999996,
                        "count": 1
                      },
                      {
                        "bin_start": 0.45999999999999996,
                        "bin_end": 0.52,
                        "count": 1
                      },
                      {
                        "bin_start": 0.52,
                        "bin_end": 0.58,
                        "count": 0
                      },
                      {
                        "bin_start": 0.58,
                        "bin_end": 0.64,
                        "count": 0
                      },
                      {
                        "bin_start": 0.64,
                        "bin_end": 0.7,
                        "count": 1
                      }
                    ],
                    "categories": null
                  }
                },
                {
                  "name": "White",
                  "dtype": "float64",
                  "stats": {
                    "unique_count": 5,
                    "nan_count": 0,
                    "min": "76.0",
                    "max": "3733.0",
                    "histogram": [
                      {
                        "bin_start": 76,
                        "bin_end": 441.7,
                        "count": 1
                      },
                      {
                        "bin_start": 441.7,
                        "bin_end": 807.4,
                        "count": 0
                      },
                      {
                        "bin_start": 807.4,
                        "bin_end": 1173.1,
                        "count": 1
                      },
                      {
                        "bin_start": 1173.1,
                        "bin_end": 1538.8,
                        "count": 0
                      },
                      {
                        "bin_start": 1538.8,
                        "bin_end": 1904.5,
                        "count": 1
                      },
                      {
                        "bin_start": 1904.5,
                        "bin_end": 2270.2,
                        "count": 0
                      },
                      {
                        "bin_start": 2270.2,
                        "bin_end": 2635.9,
                        "count": 0
                      },
                      {
                        "bin_start": 2635.9,
                        "bin_end": 3001.6,
                        "count": 1
                      },
                      {
                        "bin_start": 3001.6,
                        "bin_end": 3367.2999999999997,
                        "count": 0
                      },
                      {
                        "bin_start": 3367.2999999999997,
                        "bin_end": 3733,
                        "count": 1
                      }
                    ],
                    "categories": null
                  }
                },
                {
                  "name": "White (%)",
                  "dtype": "float64",
                  "stats": {
                    "unique_count": 5,
                    "nan_count": 0,
                    "min": "12.7",
                    "max": "41.1",
                    "histogram": [
                      {
                        "bin_start": 12.7,
                        "bin_end": 15.54,
                        "count": 1
                      },
                      {
                        "bin_start": 15.54,
                        "bin_end": 18.38,
                        "count": 0
                      },
                      {
                        "bin_start": 18.38,
                        "bin_end": 21.22,
                        "count": 1
                      },
                      {
                        "bin_start": 21.22,
                        "bin_end": 24.060000000000002,
                        "count": 0
                      },
                      {
                        "bin_start": 24.060000000000002,
                        "bin_end": 26.9,
                        "count": 1
                      },
                      {
                        "bin_start": 26.9,
                        "bin_end": 29.740000000000002,
                        "count": 1
                      },
                      {
                        "bin_start": 29.740000000000002,
                        "bin_end": 32.58,
                        "count": 0
                      },
                      {
                        "bin_start": 32.58,
                        "bin_end": 35.42,
                        "count": 0
                      },
                      {
                        "bin_start": 35.42,
                        "bin_end": 38.260000000000005,
                        "count": 0
                      },
                      {
                        "bin_start": 38.260000000000005,
                        "bin_end": 41.1,
                        "count": 1
                      }
                    ],
                    "categories": null
                  }
                },
                {
                  "name": "Two or More Races",
                  "dtype": "float64",
                  "stats": {
                    "unique_count": 5,
                    "nan_count": 0,
                    "min": "56.0",
                    "max": "1596.0",
                    "histogram": [
                      {
                        "bin_start": 56,
                        "bin_end": 210,
                        "count": 1
                      },
                      {
                        "bin_start": 210,
                        "bin_end": 364,
                        "count": 0
                      },
                      {
                        "bin_start": 364,
                        "bin_end": 518,
                        "count": 1
                      },
                      {
                        "bin_start": 518,
                        "bin_end": 672,
                        "count": 0
                      },
                      {
                        "bin_start": 672,
                        "bin_end": 826,
                        "count": 0
                      },
                      {
                        "bin_start": 826,
                        "bin_end": 980,
                        "count": 1
                      },
                      {
                        "bin_start": 980,
                        "bin_end": 1134,
                        "count": 0
                      },
                      {
                        "bin_start": 1134,
                        "bin_end": 1288,
                        "count": 0
                      },
                      {
                        "bin_start": 1288,
                        "bin_end": 1442,
                        "count": 1
                      },
                      {
                        "bin_start": 1442,
                        "bin_end": 1596,
                        "count": 1
                      }
                    ],
                    "categories": null
                  }
                },
                {
                  "name": "Two or More Races (%)",
                  "dtype": "float64",
                  "stats": {
                    "unique_count": 5,
                    "nan_count": 0,
                    "min": "9.3",
                    "max": "15.3",
                    "histogram": [
                      {
                        "bin_start": 9.3,
                        "bin_end": 9.9,
                        "count": 1
                      },
                      {
                        "bin_start": 9.9,
                        "bin_end": 10.5,
                        "count": 1
                      },
                      {
                        "bin_start": 10.5,
                        "bin_end": 11.100000000000001,
                        "count": 0
                      },
                      {
                        "bin_start": 11.100000000000001,
                        "bin_end": 11.700000000000001,
                        "count": 0
                      },
                      {
                        "bin_start": 11.700000000000001,
                        "bin_end": 12.3,
                        "count": 0
                      },
                      {
                        "bin_start": 12.3,
                        "bin_end": 12.9,
                        "count": 0
                      },
                      {
                        "bin_start": 12.9,
                        "bin_end": 13.5,
                        "count": 0
                      },
                      {
                        "bin_start": 13.5,
                        "bin_end": 14.100000000000001,
                        "count": 1
                      },
                      {
                        "bin_start": 14.100000000000001,
                        "bin_end": 14.7,
                        "count": 0
                      },
                      {
                        "bin_start": 14.7,
                        "bin_end": 15.3,
                        "count": 2
                      }
                    ],
                    "categories": null
                  }
                },
                {
                  "name": "Not Reported",
                  "dtype": "float64",
                  "stats": {
                    "unique_count": 5,
                    "nan_count": 0,
                    "min": "9.0",
                    "max": "327.0",
                    "histogram": [
                      {
                        "bin_start": 9,
                        "bin_end": 40.8,
                        "count": 2
                      },
                      {
                        "bin_start": 40.8,
                        "bin_end": 72.6,
                        "count": 0
                      },
                      {
                        "bin_start": 72.6,
                        "bin_end": 104.4,
                        "count": 0
                      },
                      {
                        "bin_start": 104.4,
                        "bin_end": 136.2,
                        "count": 0
                      },
                      {
                        "bin_start": 136.2,
                        "bin_end": 168,
                        "count": 0
                      },
                      {
                        "bin_start": 168,
                        "bin_end": 199.8,
                        "count": 0
                      },
                      {
                        "bin_start": 199.8,
                        "bin_end": 231.6,
                        "count": 1
                      },
                      {
                        "bin_start": 231.6,
                        "bin_end": 263.4,
                        "count": 0
                      },
                      {
                        "bin_start": 263.4,
                        "bin_end": 295.2,
                        "count": 0
                      },
                      {
                        "bin_start": 295.2,
                        "bin_end": 327,
                        "count": 2
                      }
                    ],
                    "categories": null
                  }
                },
                {
                  "name": "Not Reported (%)",
                  "dtype": "float64",
                  "stats": {
                    "unique_count": 5,
                    "nan_count": 0,
                    "min": "0.1",
                    "max": "5.7",
                    "histogram": [
                      {
                        "bin_start": 0.1,
                        "bin_end": 0.66,
                        "count": 1
                      },
                      {
                        "bin_start": 0.66,
                        "bin_end": 1.2200000000000002,
                        "count": 0
                      },
                      {
                        "bin_start": 1.2200000000000002,
                        "bin_end": 1.7800000000000002,
                        "count": 0
                      },
                      {
                        "bin_start": 1.7800000000000002,
                        "bin_end": 2.3400000000000003,
                        "count": 1
                      },
                      {
                        "bin_start": 2.3400000000000003,
                        "bin_end": 2.9000000000000004,
                        "count": 0
                      },
                      {
                        "bin_start": 2.9000000000000004,
                        "bin_end": 3.4600000000000004,
                        "count": 2
                      },
                      {
                        "bin_start": 3.4600000000000004,
                        "bin_end": 4.0200000000000005,
                        "count": 0
                      },
                      {
                        "bin_start": 4.0200000000000005,
                        "bin_end": 4.58,
                        "count": 0
                      },
                      {
                        "bin_start": 4.58,
                        "bin_end": 5.140000000000001,
                        "count": 0
                      },
                      {
                        "bin_start": 5.140000000000001,
                        "bin_end": 5.7,
                        "count": 1
                      }
                    ],
                    "categories": null
                  }
                },
                {
                  "name": "English Learner",
                  "dtype": "float64",
                  "stats": {
                    "unique_count": 5,
                    "nan_count": 0,
                    "min": "98.0",
                    "max": "1266.0",
                    "histogram": [
                      {
                        "bin_start": 98,
                        "bin_end": 214.8,
                        "count": 1
                      },
                      {
                        "bin_start": 214.8,
                        "bin_end": 331.6,
                        "count": 0
                      },
                      {
                        "bin_start": 331.6,
                        "bin_end": 448.4,
                        "count": 0
                      },
                      {
                        "bin_start": 448.4,
                        "bin_end": 565.2,
                        "count": 1
                      },
                      {
                        "bin_start": 565.2,
                        "bin_end": 682,
                        "count": 1
                      },
                      {
                        "bin_start": 682,
                        "bin_end": 798.8,
                        "count": 0
                      },
                      {
                        "bin_start": 798.8,
                        "bin_end": 915.6,
                        "count": 1
                      },
                      {
                        "bin_start": 915.6,
                        "bin_end": 1032.4,
                        "count": 0
                      },
                      {
                        "bin_start": 1032.4,
                        "bin_end": 1149.2,
                        "count": 0
                      },
                      {
                        "bin_start": 1149.2,
                        "bin_end": 1266,
                        "count": 1
                      }
                    ],
                    "categories": null
                  }
                },
                {
                  "name": "English Learner (%)",
                  "dtype": "float64",
                  "stats": {
                    "unique_count": 5,
                    "nan_count": 0,
                    "min": "6.5",
                    "max": "16.3",
                    "histogram": [
                      {
                        "bin_start": 6.5,
                        "bin_end": 7.48,
                        "count": 1
                      },
                      {
                        "bin_start": 7.48,
                        "bin_end": 8.46,
                        "count": 0
                      },
                      {
                        "bin_start": 8.46,
                        "bin_end": 9.440000000000001,
                        "count": 1
                      },
                      {
                        "bin_start": 9.440000000000001,
                        "bin_end": 10.42,
                        "count": 0
                      },
                      {
                        "bin_start": 10.42,
                        "bin_end": 11.4,
                        "count": 0
                      },
                      {
                        "bin_start": 11.4,
                        "bin_end": 12.38,
                        "count": 0
                      },
                      {
                        "bin_start": 12.38,
                        "bin_end": 13.36,
                        "count": 2
                      },
                      {
                        "bin_start": 13.36,
                        "bin_end": 14.34,
                        "count": 0
                      },
                      {
                        "bin_start": 14.34,
                        "bin_end": 15.32,
                        "count": 0
                      },
                      {
                        "bin_start": 15.32,
                        "bin_end": 16.3,
                        "count": 1
                      }
                    ],
                    "categories": null
                  }
                },
                {
                  "name": "Foster",
                  "dtype": "float64",
                  "stats": {
                    "unique_count": 4,
                    "nan_count": 0,
                    "min": "1.0",
                    "max": "32.0",
                    "histogram": [
                      {
                        "bin_start": 1,
                        "bin_end": 4.1,
                        "count": 2
                      },
                      {
                        "bin_start": 4.1,
                        "bin_end": 7.2,
                        "count": 1
                      },
                      {
                        "bin_start": 7.2,
                        "bin_end": 10.3,
                        "count": 0
                      },
                      {
                        "bin_start": 10.3,
                        "bin_end": 13.4,
                        "count": 0
                      },
                      {
                        "bin_start": 13.4,
                        "bin_end": 16.5,
                        "count": 0
                      },
                      {
                        "bin_start": 16.5,
                        "bin_end": 19.6,
                        "count": 0
                      },
                      {
                        "bin_start": 19.6,
                        "bin_end": 22.7,
                        "count": 0
                      },
                      {
                        "bin_start": 22.7,
                        "bin_end": 25.8,
                        "count": 0
                      },
                      {
                        "bin_start": 25.8,
                        "bin_end": 28.900000000000002,
                        "count": 1
                      },
                      {
                        "bin_start": 28.900000000000002,
                        "bin_end": 32,
                        "count": 1
                      }
                    ],
                    "categories": null
                  }
                },
                {
                  "name": "Foster (%)",
                  "dtype": "float64",
                  "stats": {
                    "unique_count": 5,
                    "nan_count": 0,
                    "min": "0.0",
                    "max": "0.4",
                    "histogram": [
                      {
                        "bin_start": 0,
                        "bin_end": 0.04,
                        "count": 1
                      },
                      {
                        "bin_start": 0.04,
                        "bin_end": 0.08,
                        "count": 0
                      },
                      {
                        "bin_start": 0.08,
                        "bin_end": 0.12,
                        "count": 1
                      },
                      {
                        "bin_start": 0.12,
                        "bin_end": 0.16,
                        "count": 0
                      },
                      {
                        "bin_start": 0.16,
                        "bin_end": 0.2,
                        "count": 0
                      },
                      {
                        "bin_start": 0.2,
                        "bin_end": 0.24,
                        "count": 1
                      },
                      {
                        "bin_start": 0.24,
                        "bin_end": 0.28,
                        "count": 0
                      },
                      {
                        "bin_start": 0.28,
                        "bin_end": 0.32,
                        "count": 1
                      },
                      {
                        "bin_start": 0.32,
                        "bin_end": 0.36,
                        "count": 0
                      },
                      {
                        "bin_start": 0.36,
                        "bin_end": 0.4,
                        "count": 1
                      }
                    ],
                    "categories": null
                  }
                },
                {
                  "name": "Homeless",
                  "dtype": "float64",
                  "stats": {
                    "unique_count": 5,
                    "nan_count": 0,
                    "min": "13.0",
                    "max": "150.0",
                    "histogram": [
                      {
                        "bin_start": 13,
                        "bin_end": 26.7,
                        "count": 2
                      },
                      {
                        "bin_start": 26.7,
                        "bin_end": 40.4,
                        "count": 0
                      },
                      {
                        "bin_start": 40.4,
                        "bin_end": 54.099999999999994,
                        "count": 0
                      },
                      {
                        "bin_start": 54.099999999999994,
                        "bin_end": 67.8,
                        "count": 0
                      },
                      {
                        "bin_start": 67.8,
                        "bin_end": 81.5,
                        "count": 0
                      },
                      {
                        "bin_start": 81.5,
                        "bin_end": 95.19999999999999,
                        "count": 1
                      },
                      {
                        "bin_start": 95.19999999999999,
                        "bin_end": 108.89999999999999,
                        "count": 0
                      },
                      {
                        "bin_start": 108.89999999999999,
                        "bin_end": 122.6,
                        "count": 0
                      },
                      {
                        "bin_start": 122.6,
                        "bin_end": 136.3,
                        "count": 1
                      },
                      {
                        "bin_start": 136.3,
                        "bin_end": 150,
                        "count": 1
                      }
                    ],
                    "categories": null
                  }
                },
                {
                  "name": "Homeless (%)",
                  "dtype": "float64",
                  "stats": {
                    "unique_count": 5,
                    "nan_count": 0,
                    "min": "0.7",
                    "max": "2.2",
                    "histogram": [
                      {
                        "bin_start": 0.7,
                        "bin_end": 0.85,
                        "count": 1
                      },
                      {
                        "bin_start": 0.85,
                        "bin_end": 1,
                        "count": 1
                      },
                      {
                        "bin_start": 1,
                        "bin_end": 1.15,
                        "count": 0
                      },
                      {
                        "bin_start": 1.15,
                        "bin_end": 1.3,
                        "count": 0
                      },
                      {
                        "bin_start": 1.3,
                        "bin_end": 1.4500000000000002,
                        "count": 1
                      },
                      {
                        "bin_start": 1.4500000000000002,
                        "bin_end": 1.6,
                        "count": 0
                      },
                      {
                        "bin_start": 1.6,
                        "bin_end": 1.7500000000000002,
                        "count": 1
                      },
                      {
                        "bin_start": 1.7500000000000002,
                        "bin_end": 1.9000000000000001,
                        "count": 0
                      },
                      {
                        "bin_start": 1.9000000000000001,
                        "bin_end": 2.05,
                        "count": 0
                      },
                      {
                        "bin_start": 2.05,
                        "bin_end": 2.2,
                        "count": 1
                      }
                    ],
                    "categories": null
                  }
                },
                {
                  "name": "Migrant",
                  "dtype": "float64",
                  "stats": {
                    "unique_count": 1,
                    "nan_count": 0,
                    "min": "0.0",
                    "max": "0.0",
                    "histogram": [
                      {
                        "bin_start": -0.5,
                        "bin_end": -0.4,
                        "count": 0
                      },
                      {
                        "bin_start": -0.4,
                        "bin_end": -0.3,
                        "count": 0
                      },
                      {
                        "bin_start": -0.3,
                        "bin_end": -0.19999999999999996,
                        "count": 0
                      },
                      {
                        "bin_start": -0.19999999999999996,
                        "bin_end": -0.09999999999999998,
                        "count": 0
                      },
                      {
                        "bin_start": -0.09999999999999998,
                        "bin_end": 0,
                        "count": 0
                      },
                      {
                        "bin_start": 0,
                        "bin_end": 0.10000000000000009,
                        "count": 5
                      },
                      {
                        "bin_start": 0.10000000000000009,
                        "bin_end": 0.20000000000000007,
                        "count": 0
                      },
                      {
                        "bin_start": 0.20000000000000007,
                        "bin_end": 0.30000000000000004,
                        "count": 0
                      },
                      {
                        "bin_start": 0.30000000000000004,
                        "bin_end": 0.4,
                        "count": 0
                      },
                      {
                        "bin_start": 0.4,
                        "bin_end": 0.5,
                        "count": 0
                      }
                    ],
                    "categories": null
                  }
                },
                {
                  "name": "Migrant (%)",
                  "dtype": "float64",
                  "stats": {
                    "unique_count": 1,
                    "nan_count": 0,
                    "min": "0.0",
                    "max": "0.0",
                    "histogram": [
                      {
                        "bin_start": -0.5,
                        "bin_end": -0.4,
                        "count": 0
                      },
                      {
                        "bin_start": -0.4,
                        "bin_end": -0.3,
                        "count": 0
                      },
                      {
                        "bin_start": -0.3,
                        "bin_end": -0.19999999999999996,
                        "count": 0
                      },
                      {
                        "bin_start": -0.19999999999999996,
                        "bin_end": -0.09999999999999998,
                        "count": 0
                      },
                      {
                        "bin_start": -0.09999999999999998,
                        "bin_end": 0,
                        "count": 0
                      },
                      {
                        "bin_start": 0,
                        "bin_end": 0.10000000000000009,
                        "count": 5
                      },
                      {
                        "bin_start": 0.10000000000000009,
                        "bin_end": 0.20000000000000007,
                        "count": 0
                      },
                      {
                        "bin_start": 0.20000000000000007,
                        "bin_end": 0.30000000000000004,
                        "count": 0
                      },
                      {
                        "bin_start": 0.30000000000000004,
                        "bin_end": 0.4,
                        "count": 0
                      },
                      {
                        "bin_start": 0.4,
                        "bin_end": 0.5,
                        "count": 0
                      }
                    ],
                    "categories": null
                  }
                },
                {
                  "name": "Students with Disabilities",
                  "dtype": "float64",
                  "stats": {
                    "unique_count": 5,
                    "nan_count": 0,
                    "min": "75.0",
                    "max": "1286.0",
                    "histogram": [
                      {
                        "bin_start": 75,
                        "bin_end": 196.1,
                        "count": 1
                      },
                      {
                        "bin_start": 196.1,
                        "bin_end": 317.2,
                        "count": 0
                      },
                      {
                        "bin_start": 317.2,
                        "bin_end": 438.29999999999995,
                        "count": 1
                      },
                      {
                        "bin_start": 438.29999999999995,
                        "bin_end": 559.4,
                        "count": 0
                      },
                      {
                        "bin_start": 559.4,
                        "bin_end": 680.5,
                        "count": 0
                      },
                      {
                        "bin_start": 680.5,
                        "bin_end": 801.5999999999999,
                        "count": 0
                      },
                      {
                        "bin_start": 801.5999999999999,
                        "bin_end": 922.6999999999999,
                        "count": 0
                      },
                      {
                        "bin_start": 922.6999999999999,
                        "bin_end": 1043.8,
                        "count": 0
                      },
                      {
                        "bin_start": 1043.8,
                        "bin_end": 1164.8999999999999,
                        "count": 2
                      },
                      {
                        "bin_start": 1164.8999999999999,
                        "bin_end": 1286,
                        "count": 1
                      }
                    ],
                    "categories": null
                  }
                },
                {
                  "name": "Students with Disabilities (%)",
                  "dtype": "float64",
                  "stats": {
                    "unique_count": 5,
                    "nan_count": 0,
                    "min": "9.0",
                    "max": "12.5",
                    "histogram": [
                      {
                        "bin_start": 9,
                        "bin_end": 9.35,
                        "count": 1
                      },
                      {
                        "bin_start": 9.35,
                        "bin_end": 9.7,
                        "count": 0
                      },
                      {
                        "bin_start": 9.7,
                        "bin_end": 10.05,
                        "count": 0
                      },
                      {
                        "bin_start": 10.05,
                        "bin_end": 10.4,
                        "count": 0
                      },
                      {
                        "bin_start": 10.4,
                        "bin_end": 10.75,
                        "count": 0
                      },
                      {
                        "bin_start": 10.75,
                        "bin_end": 11.1,
                        "count": 1
                      },
                      {
                        "bin_start": 11.1,
                        "bin_end": 11.45,
                        "count": 0
                      },
                      {
                        "bin_start": 11.45,
                        "bin_end": 11.8,
                        "count": 0
                      },
                      {
                        "bin_start": 11.8,
                        "bin_end": 12.15,
                        "count": 1
                      },
                      {
                        "bin_start": 12.15,
                        "bin_end": 12.5,
                        "count": 2
                      }
                    ],
                    "categories": null
                  }
                },
                {
                  "name": "Socioeconomically Disadvantaged",
                  "dtype": "float64",
                  "stats": {
                    "unique_count": 5,
                    "nan_count": 0,
                    "min": "327.0",
                    "max": "4035.0",
                    "histogram": [
                      {
                        "bin_start": 327,
                        "bin_end": 697.8,
                        "count": 1
                      },
                      {
                        "bin_start": 697.8,
                        "bin_end": 1068.6,
                        "count": 0
                      },
                      {
                        "bin_start": 1068.6,
                        "bin_end": 1439.4,
                        "count": 1
                      },
                      {
                        "bin_start": 1439.4,
                        "bin_end": 1810.2,
                        "count": 0
                      },
                      {
                        "bin_start": 1810.2,
                        "bin_end": 2181,
                        "count": 0
                      },
                      {
                        "bin_start": 2181,
                        "bin_end": 2551.8,
                        "count": 1
                      },
                      {
                        "bin_start": 2551.8,
                        "bin_end": 2922.6,
                        "count": 0
                      },
                      {
                        "bin_start": 2922.6,
                        "bin_end": 3293.4,
                        "count": 0
                      },
                      {
                        "bin_start": 3293.4,
                        "bin_end": 3664.2000000000003,
                        "count": 0
                      },
                      {
                        "bin_start": 3664.2000000000003,
                        "bin_end": 4035,
                        "count": 2
                      }
                    ],
                    "categories": null
                  }
                },
                {
                  "name": "Socioeconomically Disadvantaged (%)",
                  "dtype": "float64",
                  "stats": {
                    "unique_count": 5,
                    "nan_count": 0,
                    "min": "27.6",
                    "max": "54.5",
                    "histogram": [
                      {
                        "bin_start": 27.6,
                        "bin_end": 30.290000000000003,
                        "count": 1
                      },
                      {
                        "bin_start": 30.290000000000003,
                        "bin_end": 32.980000000000004,
                        "count": 1
                      },
                      {
                        "bin_start": 32.980000000000004,
                        "bin_end": 35.67,
                        "count": 0
                      },
                      {
                        "bin_start": 35.67,
                        "bin_end": 38.36,
                        "count": 1
                      },
                      {
                        "bin_start": 38.36,
                        "bin_end": 41.05,
                        "count": 1
                      },
                      {
                        "bin_start": 41.05,
                        "bin_end": 43.74,
                        "count": 0
                      },
                      {
                        "bin_start": 43.74,
                        "bin_end": 46.43,
                        "count": 0
                      },
                      {
                        "bin_start": 46.43,
                        "bin_end": 49.120000000000005,
                        "count": 0
                      },
                      {
                        "bin_start": 49.120000000000005,
                        "bin_end": 51.81,
                        "count": 0
                      },
                      {
                        "bin_start": 51.81,
                        "bin_end": 54.5,
                        "count": 1
                      }
                    ],
                    "categories": null
                  }
                },
                {
                  "name": "District Label",
                  "dtype": "object",
                  "stats": {
                    "unique_count": 5,
                    "nan_count": 0,
                    "min": null,
                    "max": null,
                    "histogram": null,
                    "categories": [
                      {
                        "name": "Alameda Unified (Alameda)",
                        "count": 1
                      },
                      {
                        "name": "Albany City Unified (Alameda)",
                        "count": 1
                      },
                      {
                        "name": "3 others",
                        "count": 3
                      }
                    ]
                  }
                },
                {
                  "name": "_deepnote_index_column",
                  "dtype": "int64"
                }
              ],
              "row_count": 5,
              "preview_row_count": 5,
              "rows": [
                {
                  "Fed ID": 601770,
                  "District Code": "61119",
                  "CDS Code": 1611190000000,
                  "County Name": "Alameda",
                  "District Name": "Alameda Unified",
                  "District Type": "Unified",
                  "Grade Low": "KG",
                  "Grade High": "12",
                  "Grade Low Census": "KG",
                  "Grade High Census": "12",
                  "Assistance Status": "General Assistance",
                  "Locale": "21 - Suburban, Large",
                  "Enroll Total": 10557,
                  "Enroll Charter": 1496,
                  "Enroll Non Charter": 9061,
                  "African American": 748,
                  "African American (%)": 7.1,
                  "American Indian": 25,
                  "American Indian (%)": 0.2,
                  "Asian": 2610,
                  "Asian (%)": 24.7,
                  "Filipino": 484,
                  "Filipino (%)": 4.6,
                  "Hispanic": 1878,
                  "Hispanic (%)": 17.8,
                  "Pacific Islander": 52,
                  "Pacific Islander (%)": 0.5,
                  "White": 2844,
                  "White (%)": 26.9,
                  "Two or More Races": 1596,
                  "Two or More Races (%)": 15.1,
                  "Not Reported": 320,
                  "Not Reported (%)": 3,
                  "English Learner": 906,
                  "English Learner (%)": 8.6,
                  "Foster": 27,
                  "Foster (%)": 0.3,
                  "Homeless": 91,
                  "Homeless (%)": 0.9,
                  "Migrant": 0,
                  "Migrant (%)": 0,
                  "Students with Disabilities": 1286,
                  "Students with Disabilities (%)": 12.2,
                  "Socioeconomically Disadvantaged": 4035,
                  "Socioeconomically Disadvantaged (%)": 38.2,
                  "District Label": "Alameda Unified (Alameda)",
                  "_deepnote_index_column": 0
                },
                {
                  "Fed ID": 601860,
                  "District Code": "61127",
                  "CDS Code": 1611270000000,
                  "County Name": "Alameda",
                  "District Name": "Albany City Unified",
                  "District Type": "Unified",
                  "Grade Low": "KG",
                  "Grade High": "12",
                  "Grade Low Census": "KG",
                  "Grade High Census": "12",
                  "Assistance Status": "General Assistance",
                  "Locale": "21 - Suburban, Large",
                  "Enroll Total": 3574,
                  "Enroll Charter": 0,
                  "Enroll Non Charter": 3574,
                  "African American": 152,
                  "African American (%)": 4.3,
                  "American Indian": 10,
                  "American Indian (%)": 0.3,
                  "Asian": 1130,
                  "Asian (%)": 31.6,
                  "Filipino": 51,
                  "Filipino (%)": 1.4,
                  "Hispanic": 616,
                  "Hispanic (%)": 17.2,
                  "Pacific Islander": 4,
                  "Pacific Islander (%)": 0.1,
                  "White": 923,
                  "White (%)": 25.8,
                  "Two or More Races": 483,
                  "Two or More Races (%)": 13.5,
                  "Not Reported": 205,
                  "Not Reported (%)": 5.7,
                  "English Learner": 456,
                  "English Learner (%)": 12.8,
                  "Foster": 1,
                  "Foster (%)": 0,
                  "Homeless": 24,
                  "Homeless (%)": 0.7,
                  "Migrant": 0,
                  "Migrant (%)": 0,
                  "Students with Disabilities": 320,
                  "Students with Disabilities (%)": 9,
                  "Socioeconomically Disadvantaged": 1122,
                  "Socioeconomically Disadvantaged (%)": 31.4,
                  "District Label": "Albany City Unified (Alameda)",
                  "_deepnote_index_column": 1
                },
                {
                  "Fed ID": 604740,
                  "District Code": "61143",
                  "CDS Code": 1611430000000,
                  "County Name": "Alameda",
                  "District Name": "Berkeley Unified",
                  "District Type": "Unified",
                  "Grade Low": "KG",
                  "Grade High": "12",
                  "Grade Low Census": "KG",
                  "Grade High Census": "12",
                  "Assistance Status": "General Assistance",
                  "Locale": "12 - City, Midsize ",
                  "Enroll Total": 9077,
                  "Enroll Charter": 0,
                  "Enroll Non Charter": 9077,
                  "African American": 1052,
                  "African American (%)": 11.6,
                  "American Indian": 21,
                  "American Indian (%)": 0.2,
                  "Asian": 736,
                  "Asian (%)": 8.1,
                  "Filipino": 73,
                  "Filipino (%)": 0.8,
                  "Hispanic": 2045,
                  "Hispanic (%)": 22.5,
                  "Pacific Islander": 16,
                  "Pacific Islander (%)": 0.2,
                  "White": 3733,
                  "White (%)": 41.1,
                  "Two or More Races": 1392,
                  "Two or More Races (%)": 15.3,
                  "Not Reported": 9,
                  "Not Reported (%)": 0.1,
                  "English Learner": 594,
                  "English Learner (%)": 6.5,
                  "Foster": 32,
                  "Foster (%)": 0.4,
                  "Homeless": 150,
                  "Homeless (%)": 1.7,
                  "Migrant": 0,
                  "Migrant (%)": 0,
                  "Students with Disabilities": 1092,
                  "Students with Disabilities (%)": 12,
                  "Socioeconomically Disadvantaged": 2508,
                  "Socioeconomically Disadvantaged (%)": 27.6,
                  "District Label": "Berkeley Unified (Alameda)",
                  "_deepnote_index_column": 2
                },
                {
                  "Fed ID": 607800,
                  "District Code": "61150",
                  "CDS Code": 1611500000000,
                  "County Name": "Alameda",
                  "District Name": "Castro Valley Unified",
                  "District Type": "Unified",
                  "Grade Low": "KG",
                  "Grade High": "12",
                  "Grade Low Census": "KG",
                  "Grade High Census": "12",
                  "Assistance Status": "General Assistance",
                  "Locale": "21 - Suburban, Large",
                  "Enroll Total": 9489,
                  "Enroll Charter": 0,
                  "Enroll Non Charter": 9489,
                  "African American": 406,
                  "African American (%)": 4.3,
                  "American Indian": 7,
                  "American Indian (%)": 0.1,
                  "Asian": 3119,
                  "Asian (%)": 32.9,
                  "Filipino": 423,
                  "Filipino (%)": 4.5,
                  "Hispanic": 2331,
                  "Hispanic (%)": 24.6,
                  "Pacific Islander": 40,
                  "Pacific Islander (%)": 0.4,
                  "White": 1862,
                  "White (%)": 19.6,
                  "Two or More Races": 974,
                  "Two or More Races (%)": 10.3,
                  "Not Reported": 327,
                  "Not Reported (%)": 3.4,
                  "English Learner": 1266,
                  "English Learner (%)": 13.3,
                  "Foster": 5,
                  "Foster (%)": 0.1,
                  "Homeless": 135,
                  "Homeless (%)": 1.4,
                  "Migrant": 0,
                  "Migrant (%)": 0,
                  "Students with Disabilities": 1048,
                  "Students with Disabilities (%)": 11,
                  "Socioeconomically Disadvantaged": 3686,
                  "Socioeconomically Disadvantaged (%)": 38.8,
                  "District Label": "Castro Valley Unified (Alameda)",
                  "_deepnote_index_column": 3
                },
                {
                  "Fed ID": 612630,
                  "District Code": "61168",
                  "CDS Code": 1611680000000,
                  "County Name": "Alameda",
                  "District Name": "Emery Unified",
                  "District Type": "Unified",
                  "Grade Low": "KG",
                  "Grade High": "12",
                  "Grade Low Census": "KG",
                  "Grade High Census": "12",
                  "Assistance Status": "General Assistance",
                  "Locale": "21 - Suburban, Large",
                  "Enroll Total": 600,
                  "Enroll Charter": 0,
                  "Enroll Non Charter": 600,
                  "African American": 265,
                  "African American (%)": 44.2,
                  "American Indian": 0,
                  "American Indian (%)": 0,
                  "Asian": 56,
                  "Asian (%)": 9.3,
                  "Filipino": 5,
                  "Filipino (%)": 0.8,
                  "Hispanic": 126,
                  "Hispanic (%)": 21,
                  "Pacific Islander": 4,
                  "Pacific Islander (%)": 0.7,
                  "White": 76,
                  "White (%)": 12.7,
                  "Two or More Races": 56,
                  "Two or More Races (%)": 9.3,
                  "Not Reported": 12,
                  "Not Reported (%)": 2,
                  "English Learner": 98,
                  "English Learner (%)": 16.3,
                  "Foster": 1,
                  "Foster (%)": 0.2,
                  "Homeless": 13,
                  "Homeless (%)": 2.2,
                  "Migrant": 0,
                  "Migrant (%)": 0,
                  "Students with Disabilities": 75,
                  "Students with Disabilities (%)": 12.5,
                  "Socioeconomically Disadvantaged": 327,
                  "Socioeconomically Disadvantaged (%)": 54.5,
                  "District Label": "Emery Unified (Alameda)",
                  "_deepnote_index_column": 4
                }
              ],
              "type": "dataframe"
            },
            "text/plain": "     Fed ID District Code      CDS Code County Name          District Name  \\\n0  601770.0         61119  1.611190e+12     Alameda        Alameda Unified   \n1  601860.0         61127  1.611270e+12     Alameda    Albany City Unified   \n2  604740.0         61143  1.611430e+12     Alameda       Berkeley Unified   \n3  607800.0         61150  1.611500e+12     Alameda  Castro Valley Unified   \n4  612630.0         61168  1.611680e+12     Alameda          Emery Unified   \n\n  District Type Grade Low Grade High Grade Low Census Grade High Census  ...  \\\n0       Unified        KG         12               KG                12  ...   \n1       Unified        KG         12               KG                12  ...   \n2       Unified        KG         12               KG                12  ...   \n3       Unified        KG         12               KG                12  ...   \n4       Unified        KG         12               KG                12  ...   \n\n  Foster (%) Homeless  Homeless (%)  Migrant  Migrant (%)  \\\n0        0.3     91.0           0.9      0.0          0.0   \n1        0.0     24.0           0.7      0.0          0.0   \n2        0.4    150.0           1.7      0.0          0.0   \n3        0.1    135.0           1.4      0.0          0.0   \n4        0.2     13.0           2.2      0.0          0.0   \n\n   Students with Disabilities  Students with Disabilities (%)  \\\n0                      1286.0                            12.2   \n1                       320.0                             9.0   \n2                      1092.0                            12.0   \n3                      1048.0                            11.0   \n4                        75.0                            12.5   \n\n   Socioeconomically Disadvantaged  Socioeconomically Disadvantaged (%)  \\\n0                           4035.0                                 38.2   \n1                           1122.0                                 31.4   \n2                           2508.0                                 27.6   \n3                           3686.0                                 38.8   \n4                            327.0                                 54.5   \n\n                    District Label  \n0        Alameda Unified (Alameda)  \n1    Albany City Unified (Alameda)  \n2       Berkeley Unified (Alameda)  \n3  Castro Valley Unified (Alameda)  \n4          Emery Unified (Alameda)  \n\n[5 rows x 46 columns]",
            "text/html": "<div>\n<style scoped>\n    .dataframe tbody tr th:only-of-type {\n        vertical-align: middle;\n    }\n\n    .dataframe tbody tr th {\n        vertical-align: top;\n    }\n\n    .dataframe thead th {\n        text-align: right;\n    }\n</style>\n<table border=\"1\" class=\"dataframe\">\n  <thead>\n    <tr style=\"text-align: right;\">\n      <th></th>\n      <th>Fed ID</th>\n      <th>District Code</th>\n      <th>CDS Code</th>\n      <th>County Name</th>\n      <th>District Name</th>\n      <th>District Type</th>\n      <th>Grade Low</th>\n      <th>Grade High</th>\n      <th>Grade Low Census</th>\n      <th>Grade High Census</th>\n      <th>...</th>\n      <th>Foster (%)</th>\n      <th>Homeless</th>\n      <th>Homeless (%)</th>\n      <th>Migrant</th>\n      <th>Migrant (%)</th>\n      <th>Students with Disabilities</th>\n      <th>Students with Disabilities (%)</th>\n      <th>Socioeconomically Disadvantaged</th>\n      <th>Socioeconomically Disadvantaged (%)</th>\n      <th>District Label</th>\n    </tr>\n  </thead>\n  <tbody>\n    <tr>\n      <th>0</th>\n      <td>601770.0</td>\n      <td>61119</td>\n      <td>1.611190e+12</td>\n      <td>Alameda</td>\n      <td>Alameda Unified</td>\n      <td>Unified</td>\n      <td>KG</td>\n      <td>12</td>\n      <td>KG</td>\n      <td>12</td>\n      <td>...</td>\n      <td>0.3</td>\n      <td>91.0</td>\n      <td>0.9</td>\n      <td>0.0</td>\n      <td>0.0</td>\n      <td>1286.0</td>\n      <td>12.2</td>\n      <td>4035.0</td>\n      <td>38.2</td>\n      <td>Alameda Unified (Alameda)</td>\n    </tr>\n    <tr>\n      <th>1</th>\n      <td>601860.0</td>\n      <td>61127</td>\n      <td>1.611270e+12</td>\n      <td>Alameda</td>\n      <td>Albany City Unified</td>\n      <td>Unified</td>\n      <td>KG</td>\n      <td>12</td>\n      <td>KG</td>\n      <td>12</td>\n      <td>...</td>\n      <td>0.0</td>\n      <td>24.0</td>\n      <td>0.7</td>\n      <td>0.0</td>\n      <td>0.0</td>\n      <td>320.0</td>\n      <td>9.0</td>\n      <td>1122.0</td>\n      <td>31.4</td>\n      <td>Albany City Unified (Alameda)</td>\n    </tr>\n    <tr>\n      <th>2</th>\n      <td>604740.0</td>\n      <td>61143</td>\n      <td>1.611430e+12</td>\n      <td>Alameda</td>\n      <td>Berkeley Unified</td>\n      <td>Unified</td>\n      <td>KG</td>\n      <td>12</td>\n      <td>KG</td>\n      <td>12</td>\n      <td>...</td>\n      <td>0.4</td>\n      <td>150.0</td>\n      <td>1.7</td>\n      <td>0.0</td>\n      <td>0.0</td>\n      <td>1092.0</td>\n      <td>12.0</td>\n      <td>2508.0</td>\n      <td>27.6</td>\n      <td>Berkeley Unified (Alameda)</td>\n    </tr>\n    <tr>\n      <th>3</th>\n      <td>607800.0</td>\n      <td>61150</td>\n      <td>1.611500e+12</td>\n      <td>Alameda</td>\n      <td>Castro Valley Unified</td>\n      <td>Unified</td>\n      <td>KG</td>\n      <td>12</td>\n      <td>KG</td>\n      <td>12</td>\n      <td>...</td>\n      <td>0.1</td>\n      <td>135.0</td>\n      <td>1.4</td>\n      <td>0.0</td>\n      <td>0.0</td>\n      <td>1048.0</td>\n      <td>11.0</td>\n      <td>3686.0</td>\n      <td>38.8</td>\n      <td>Castro Valley Unified (Alameda)</td>\n    </tr>\n    <tr>\n      <th>4</th>\n      <td>612630.0</td>\n      <td>61168</td>\n      <td>1.611680e+12</td>\n      <td>Alameda</td>\n      <td>Emery Unified</td>\n      <td>Unified</td>\n      <td>KG</td>\n      <td>12</td>\n      <td>KG</td>\n      <td>12</td>\n      <td>...</td>\n      <td>0.2</td>\n      <td>13.0</td>\n      <td>2.2</td>\n      <td>0.0</td>\n      <td>0.0</td>\n      <td>75.0</td>\n      <td>12.5</td>\n      <td>327.0</td>\n      <td>54.5</td>\n      <td>Emery Unified (Alameda)</td>\n    </tr>\n  </tbody>\n</table>\n<p>5 rows × 46 columns</p>\n</div>"
          },
          "metadata": {},
          "output_type": "display_data"
        }
      ],
      "outputs_reference": null,
      "content_dependencies": null
    },
    {
      "cell_type": "markdown",
      "metadata": {
        "id": "5ezU1gAHWsIj",
        "deepnote_app_block_order": 48,
        "deepnote_app_block_visible": true,
        "deepnote_app_block_group_id": null,
        "cell_id": "87a2004d15224592a0bc8e36eba08446",
        "deepnote_cell_type": "markdown"
      },
      "source": "#### Step 11: Combine `district_data` with `expense data`",
      "block_group": "eac4657c39bc465dbb73a1e30f2e5a36"
    },
    {
      "cell_type": "code",
      "metadata": {
        "id": "WK3VixsmWti-",
        "colab": {
          "height": 516,
          "base_uri": "https://localhost:8080/"
        },
        "outputId": "5495724c-b80b-4690-ba1a-5dfd05338808",
        "source_hash": "d0683445",
        "execution_start": 1759790536928,
        "execution_millis": 1,
        "execution_context_id": "f1ca50dd-93b4-4efd-8fa9-6064dddd03f8",
        "deepnote_app_block_order": 49,
        "deepnote_app_block_visible": true,
        "deepnote_app_block_group_id": null,
        "deepnote_app_is_code_hidden": true,
        "deepnote_app_is_output_hidden": false,
        "cell_id": "04898f733fdf4ed5bae8c6453a07260c",
        "deepnote_cell_type": "code"
      },
      "source": "# Use Merge\ndistrict_and_expenses = district_data.merge(expense_data, how='inner', on='District Code')\n\ndistrict_and_expenses.head()",
      "block_group": "f233b06413d14e7c8bbca6bf4f88ee20",
      "execution_count": 18,
      "outputs": [
        {
          "output_type": "execute_result",
          "execution_count": 18,
          "data": {
            "application/vnd.deepnote.dataframe.v3+json": {
              "column_count": 51,
              "columns": [
                {
                  "name": "Fed ID",
                  "dtype": "float64",
                  "stats": {
                    "unique_count": 5,
                    "nan_count": 0,
                    "min": "601770.0",
                    "max": "612630.0",
                    "histogram": [
                      {
                        "bin_start": 601770,
                        "bin_end": 602856,
                        "count": 2
                      },
                      {
                        "bin_start": 602856,
                        "bin_end": 603942,
                        "count": 0
                      },
                      {
                        "bin_start": 603942,
                        "bin_end": 605028,
                        "count": 1
                      },
                      {
                        "bin_start": 605028,
                        "bin_end": 606114,
                        "count": 0
                      },
                      {
                        "bin_start": 606114,
                        "bin_end": 607200,
                        "count": 0
                      },
                      {
                        "bin_start": 607200,
                        "bin_end": 608286,
                        "count": 1
                      },
                      {
                        "bin_start": 608286,
                        "bin_end": 609372,
                        "count": 0
                      },
                      {
                        "bin_start": 609372,
                        "bin_end": 610458,
                        "count": 0
                      },
                      {
                        "bin_start": 610458,
                        "bin_end": 611544,
                        "count": 0
                      },
                      {
                        "bin_start": 611544,
                        "bin_end": 612630,
                        "count": 1
                      }
                    ],
                    "categories": null
                  }
                },
                {
                  "name": "District Code",
                  "dtype": "object",
                  "stats": {
                    "unique_count": 5,
                    "nan_count": 0,
                    "min": null,
                    "max": null,
                    "histogram": null,
                    "categories": [
                      {
                        "name": "61119",
                        "count": 1
                      },
                      {
                        "name": "61127",
                        "count": 1
                      },
                      {
                        "name": "3 others",
                        "count": 3
                      }
                    ]
                  }
                },
                {
                  "name": "CDS Code",
                  "dtype": "float64",
                  "stats": {
                    "unique_count": 5,
                    "nan_count": 0,
                    "min": "1611190000000.0",
                    "max": "1611680000000.0",
                    "histogram": [
                      {
                        "bin_start": 1611190000000,
                        "bin_end": 1611239000000,
                        "count": 1
                      },
                      {
                        "bin_start": 1611239000000,
                        "bin_end": 1611288000000,
                        "count": 1
                      },
                      {
                        "bin_start": 1611288000000,
                        "bin_end": 1611337000000,
                        "count": 0
                      },
                      {
                        "bin_start": 1611337000000,
                        "bin_end": 1611386000000,
                        "count": 0
                      },
                      {
                        "bin_start": 1611386000000,
                        "bin_end": 1611435000000,
                        "count": 1
                      },
                      {
                        "bin_start": 1611435000000,
                        "bin_end": 1611484000000,
                        "count": 0
                      },
                      {
                        "bin_start": 1611484000000,
                        "bin_end": 1611533000000,
                        "count": 1
                      },
                      {
                        "bin_start": 1611533000000,
                        "bin_end": 1611582000000,
                        "count": 0
                      },
                      {
                        "bin_start": 1611582000000,
                        "bin_end": 1611631000000,
                        "count": 0
                      },
                      {
                        "bin_start": 1611631000000,
                        "bin_end": 1611680000000,
                        "count": 1
                      }
                    ],
                    "categories": null
                  }
                },
                {
                  "name": "County Name",
                  "dtype": "object",
                  "stats": {
                    "unique_count": 1,
                    "nan_count": 0,
                    "min": null,
                    "max": null,
                    "histogram": null,
                    "categories": [
                      {
                        "name": "Alameda",
                        "count": 5
                      }
                    ]
                  }
                },
                {
                  "name": "District Name_x",
                  "dtype": "object",
                  "stats": {
                    "unique_count": 5,
                    "nan_count": 0,
                    "min": null,
                    "max": null,
                    "histogram": null,
                    "categories": [
                      {
                        "name": "Alameda Unified",
                        "count": 1
                      },
                      {
                        "name": "Albany City Unified",
                        "count": 1
                      },
                      {
                        "name": "3 others",
                        "count": 3
                      }
                    ]
                  }
                },
                {
                  "name": "District Type",
                  "dtype": "object",
                  "stats": {
                    "unique_count": 1,
                    "nan_count": 0,
                    "min": null,
                    "max": null,
                    "histogram": null,
                    "categories": [
                      {
                        "name": "Unified",
                        "count": 5
                      }
                    ]
                  }
                },
                {
                  "name": "Grade Low",
                  "dtype": "object",
                  "stats": {
                    "unique_count": 1,
                    "nan_count": 0,
                    "min": null,
                    "max": null,
                    "histogram": null,
                    "categories": [
                      {
                        "name": "KG",
                        "count": 5
                      }
                    ]
                  }
                },
                {
                  "name": "Grade High",
                  "dtype": "object",
                  "stats": {
                    "unique_count": 1,
                    "nan_count": 0,
                    "min": null,
                    "max": null,
                    "histogram": null,
                    "categories": [
                      {
                        "name": "12",
                        "count": 5
                      }
                    ]
                  }
                },
                {
                  "name": "Grade Low Census",
                  "dtype": "object",
                  "stats": {
                    "unique_count": 1,
                    "nan_count": 0,
                    "min": null,
                    "max": null,
                    "histogram": null,
                    "categories": [
                      {
                        "name": "KG",
                        "count": 5
                      }
                    ]
                  }
                },
                {
                  "name": "Grade High Census",
                  "dtype": "object",
                  "stats": {
                    "unique_count": 1,
                    "nan_count": 0,
                    "min": null,
                    "max": null,
                    "histogram": null,
                    "categories": [
                      {
                        "name": "12",
                        "count": 5
                      }
                    ]
                  }
                },
                {
                  "name": "Assistance Status",
                  "dtype": "object",
                  "stats": {
                    "unique_count": 1,
                    "nan_count": 0,
                    "min": null,
                    "max": null,
                    "histogram": null,
                    "categories": [
                      {
                        "name": "General Assistance",
                        "count": 5
                      }
                    ]
                  }
                },
                {
                  "name": "Locale",
                  "dtype": "object",
                  "stats": {
                    "unique_count": 2,
                    "nan_count": 0,
                    "min": null,
                    "max": null,
                    "histogram": null,
                    "categories": [
                      {
                        "name": "21 - Suburban, Large",
                        "count": 4
                      },
                      {
                        "name": "12 - City, Midsize ",
                        "count": 1
                      }
                    ]
                  }
                },
                {
                  "name": "Enroll Total",
                  "dtype": "float64",
                  "stats": {
                    "unique_count": 5,
                    "nan_count": 0,
                    "min": "600.0",
                    "max": "10557.0",
                    "histogram": [
                      {
                        "bin_start": 600,
                        "bin_end": 1595.7,
                        "count": 1
                      },
                      {
                        "bin_start": 1595.7,
                        "bin_end": 2591.4,
                        "count": 0
                      },
                      {
                        "bin_start": 2591.4,
                        "bin_end": 3587.1000000000004,
                        "count": 1
                      },
                      {
                        "bin_start": 3587.1000000000004,
                        "bin_end": 4582.8,
                        "count": 0
                      },
                      {
                        "bin_start": 4582.8,
                        "bin_end": 5578.5,
                        "count": 0
                      },
                      {
                        "bin_start": 5578.5,
                        "bin_end": 6574.200000000001,
                        "count": 0
                      },
                      {
                        "bin_start": 6574.200000000001,
                        "bin_end": 7569.900000000001,
                        "count": 0
                      },
                      {
                        "bin_start": 7569.900000000001,
                        "bin_end": 8565.6,
                        "count": 0
                      },
                      {
                        "bin_start": 8565.6,
                        "bin_end": 9561.300000000001,
                        "count": 2
                      },
                      {
                        "bin_start": 9561.300000000001,
                        "bin_end": 10557,
                        "count": 1
                      }
                    ],
                    "categories": null
                  }
                },
                {
                  "name": "Enroll Charter",
                  "dtype": "float64",
                  "stats": {
                    "unique_count": 2,
                    "nan_count": 0,
                    "min": "0.0",
                    "max": "1496.0",
                    "histogram": [
                      {
                        "bin_start": 0,
                        "bin_end": 149.6,
                        "count": 4
                      },
                      {
                        "bin_start": 149.6,
                        "bin_end": 299.2,
                        "count": 0
                      },
                      {
                        "bin_start": 299.2,
                        "bin_end": 448.79999999999995,
                        "count": 0
                      },
                      {
                        "bin_start": 448.79999999999995,
                        "bin_end": 598.4,
                        "count": 0
                      },
                      {
                        "bin_start": 598.4,
                        "bin_end": 748,
                        "count": 0
                      },
                      {
                        "bin_start": 748,
                        "bin_end": 897.5999999999999,
                        "count": 0
                      },
                      {
                        "bin_start": 897.5999999999999,
                        "bin_end": 1047.2,
                        "count": 0
                      },
                      {
                        "bin_start": 1047.2,
                        "bin_end": 1196.8,
                        "count": 0
                      },
                      {
                        "bin_start": 1196.8,
                        "bin_end": 1346.3999999999999,
                        "count": 0
                      },
                      {
                        "bin_start": 1346.3999999999999,
                        "bin_end": 1496,
                        "count": 1
                      }
                    ],
                    "categories": null
                  }
                },
                {
                  "name": "Enroll Non Charter",
                  "dtype": "float64",
                  "stats": {
                    "unique_count": 5,
                    "nan_count": 0,
                    "min": "600.0",
                    "max": "9489.0",
                    "histogram": [
                      {
                        "bin_start": 600,
                        "bin_end": 1488.9,
                        "count": 1
                      },
                      {
                        "bin_start": 1488.9,
                        "bin_end": 2377.8,
                        "count": 0
                      },
                      {
                        "bin_start": 2377.8,
                        "bin_end": 3266.7,
                        "count": 0
                      },
                      {
                        "bin_start": 3266.7,
                        "bin_end": 4155.6,
                        "count": 1
                      },
                      {
                        "bin_start": 4155.6,
                        "bin_end": 5044.5,
                        "count": 0
                      },
                      {
                        "bin_start": 5044.5,
                        "bin_end": 5933.4,
                        "count": 0
                      },
                      {
                        "bin_start": 5933.4,
                        "bin_end": 6822.3,
                        "count": 0
                      },
                      {
                        "bin_start": 6822.3,
                        "bin_end": 7711.2,
                        "count": 0
                      },
                      {
                        "bin_start": 7711.2,
                        "bin_end": 8600.099999999999,
                        "count": 0
                      },
                      {
                        "bin_start": 8600.099999999999,
                        "bin_end": 9489,
                        "count": 3
                      }
                    ],
                    "categories": null
                  }
                },
                {
                  "name": "African American",
                  "dtype": "float64",
                  "stats": {
                    "unique_count": 5,
                    "nan_count": 0,
                    "min": "152.0",
                    "max": "1052.0",
                    "histogram": [
                      {
                        "bin_start": 152,
                        "bin_end": 242,
                        "count": 1
                      },
                      {
                        "bin_start": 242,
                        "bin_end": 332,
                        "count": 1
                      },
                      {
                        "bin_start": 332,
                        "bin_end": 422,
                        "count": 1
                      },
                      {
                        "bin_start": 422,
                        "bin_end": 512,
                        "count": 0
                      },
                      {
                        "bin_start": 512,
                        "bin_end": 602,
                        "count": 0
                      },
                      {
                        "bin_start": 602,
                        "bin_end": 692,
                        "count": 0
                      },
                      {
                        "bin_start": 692,
                        "bin_end": 782,
                        "count": 1
                      },
                      {
                        "bin_start": 782,
                        "bin_end": 872,
                        "count": 0
                      },
                      {
                        "bin_start": 872,
                        "bin_end": 962,
                        "count": 0
                      },
                      {
                        "bin_start": 962,
                        "bin_end": 1052,
                        "count": 1
                      }
                    ],
                    "categories": null
                  }
                },
                {
                  "name": "African American (%)",
                  "dtype": "float64",
                  "stats": {
                    "unique_count": 4,
                    "nan_count": 0,
                    "min": "4.3",
                    "max": "44.2",
                    "histogram": [
                      {
                        "bin_start": 4.3,
                        "bin_end": 8.290000000000001,
                        "count": 3
                      },
                      {
                        "bin_start": 8.290000000000001,
                        "bin_end": 12.280000000000001,
                        "count": 1
                      },
                      {
                        "bin_start": 12.280000000000001,
                        "bin_end": 16.270000000000003,
                        "count": 0
                      },
                      {
                        "bin_start": 16.270000000000003,
                        "bin_end": 20.26,
                        "count": 0
                      },
                      {
                        "bin_start": 20.26,
                        "bin_end": 24.250000000000004,
                        "count": 0
                      },
                      {
                        "bin_start": 24.250000000000004,
                        "bin_end": 28.240000000000006,
                        "count": 0
                      },
                      {
                        "bin_start": 28.240000000000006,
                        "bin_end": 32.230000000000004,
                        "count": 0
                      },
                      {
                        "bin_start": 32.230000000000004,
                        "bin_end": 36.220000000000006,
                        "count": 0
                      },
                      {
                        "bin_start": 36.220000000000006,
                        "bin_end": 40.21,
                        "count": 0
                      },
                      {
                        "bin_start": 40.21,
                        "bin_end": 44.2,
                        "count": 1
                      }
                    ],
                    "categories": null
                  }
                },
                {
                  "name": "American Indian",
                  "dtype": "float64",
                  "stats": {
                    "unique_count": 5,
                    "nan_count": 0,
                    "min": "0.0",
                    "max": "25.0",
                    "histogram": [
                      {
                        "bin_start": 0,
                        "bin_end": 2.5,
                        "count": 1
                      },
                      {
                        "bin_start": 2.5,
                        "bin_end": 5,
                        "count": 0
                      },
                      {
                        "bin_start": 5,
                        "bin_end": 7.5,
                        "count": 1
                      },
                      {
                        "bin_start": 7.5,
                        "bin_end": 10,
                        "count": 0
                      },
                      {
                        "bin_start": 10,
                        "bin_end": 12.5,
                        "count": 1
                      },
                      {
                        "bin_start": 12.5,
                        "bin_end": 15,
                        "count": 0
                      },
                      {
                        "bin_start": 15,
                        "bin_end": 17.5,
                        "count": 0
                      },
                      {
                        "bin_start": 17.5,
                        "bin_end": 20,
                        "count": 0
                      },
                      {
                        "bin_start": 20,
                        "bin_end": 22.5,
                        "count": 1
                      },
                      {
                        "bin_start": 22.5,
                        "bin_end": 25,
                        "count": 1
                      }
                    ],
                    "categories": null
                  }
                },
                {
                  "name": "American Indian (%)",
                  "dtype": "float64",
                  "stats": {
                    "unique_count": 4,
                    "nan_count": 0,
                    "min": "0.0",
                    "max": "0.3",
                    "histogram": [
                      {
                        "bin_start": 0,
                        "bin_end": 0.03,
                        "count": 1
                      },
                      {
                        "bin_start": 0.03,
                        "bin_end": 0.06,
                        "count": 0
                      },
                      {
                        "bin_start": 0.06,
                        "bin_end": 0.09,
                        "count": 0
                      },
                      {
                        "bin_start": 0.09,
                        "bin_end": 0.12,
                        "count": 1
                      },
                      {
                        "bin_start": 0.12,
                        "bin_end": 0.15,
                        "count": 0
                      },
                      {
                        "bin_start": 0.15,
                        "bin_end": 0.18,
                        "count": 0
                      },
                      {
                        "bin_start": 0.18,
                        "bin_end": 0.21,
                        "count": 2
                      },
                      {
                        "bin_start": 0.21,
                        "bin_end": 0.24,
                        "count": 0
                      },
                      {
                        "bin_start": 0.24,
                        "bin_end": 0.27,
                        "count": 0
                      },
                      {
                        "bin_start": 0.27,
                        "bin_end": 0.3,
                        "count": 1
                      }
                    ],
                    "categories": null
                  }
                },
                {
                  "name": "Asian",
                  "dtype": "float64",
                  "stats": {
                    "unique_count": 5,
                    "nan_count": 0,
                    "min": "56.0",
                    "max": "3119.0",
                    "histogram": [
                      {
                        "bin_start": 56,
                        "bin_end": 362.3,
                        "count": 1
                      },
                      {
                        "bin_start": 362.3,
                        "bin_end": 668.6,
                        "count": 0
                      },
                      {
                        "bin_start": 668.6,
                        "bin_end": 974.9000000000001,
                        "count": 1
                      },
                      {
                        "bin_start": 974.9000000000001,
                        "bin_end": 1281.2,
                        "count": 1
                      },
                      {
                        "bin_start": 1281.2,
                        "bin_end": 1587.5,
                        "count": 0
                      },
                      {
                        "bin_start": 1587.5,
                        "bin_end": 1893.8000000000002,
                        "count": 0
                      },
                      {
                        "bin_start": 1893.8000000000002,
                        "bin_end": 2200.1,
                        "count": 0
                      },
                      {
                        "bin_start": 2200.1,
                        "bin_end": 2506.4,
                        "count": 0
                      },
                      {
                        "bin_start": 2506.4,
                        "bin_end": 2812.7000000000003,
                        "count": 1
                      },
                      {
                        "bin_start": 2812.7000000000003,
                        "bin_end": 3119,
                        "count": 1
                      }
                    ],
                    "categories": null
                  }
                },
                {
                  "name": "Asian (%)",
                  "dtype": "float64",
                  "stats": {
                    "unique_count": 5,
                    "nan_count": 0,
                    "min": "8.1",
                    "max": "32.9",
                    "histogram": [
                      {
                        "bin_start": 8.1,
                        "bin_end": 10.579999999999998,
                        "count": 2
                      },
                      {
                        "bin_start": 10.579999999999998,
                        "bin_end": 13.059999999999999,
                        "count": 0
                      },
                      {
                        "bin_start": 13.059999999999999,
                        "bin_end": 15.54,
                        "count": 0
                      },
                      {
                        "bin_start": 15.54,
                        "bin_end": 18.019999999999996,
                        "count": 0
                      },
                      {
                        "bin_start": 18.019999999999996,
                        "bin_end": 20.5,
                        "count": 0
                      },
                      {
                        "bin_start": 20.5,
                        "bin_end": 22.979999999999997,
                        "count": 0
                      },
                      {
                        "bin_start": 22.979999999999997,
                        "bin_end": 25.459999999999994,
                        "count": 1
                      },
                      {
                        "bin_start": 25.459999999999994,
                        "bin_end": 27.939999999999998,
                        "count": 0
                      },
                      {
                        "bin_start": 27.939999999999998,
                        "bin_end": 30.419999999999995,
                        "count": 0
                      },
                      {
                        "bin_start": 30.419999999999995,
                        "bin_end": 32.9,
                        "count": 2
                      }
                    ],
                    "categories": null
                  }
                },
                {
                  "name": "Filipino",
                  "dtype": "float64",
                  "stats": {
                    "unique_count": 5,
                    "nan_count": 0,
                    "min": "5.0",
                    "max": "484.0",
                    "histogram": [
                      {
                        "bin_start": 5,
                        "bin_end": 52.9,
                        "count": 2
                      },
                      {
                        "bin_start": 52.9,
                        "bin_end": 100.8,
                        "count": 1
                      },
                      {
                        "bin_start": 100.8,
                        "bin_end": 148.7,
                        "count": 0
                      },
                      {
                        "bin_start": 148.7,
                        "bin_end": 196.6,
                        "count": 0
                      },
                      {
                        "bin_start": 196.6,
                        "bin_end": 244.5,
                        "count": 0
                      },
                      {
                        "bin_start": 244.5,
                        "bin_end": 292.4,
                        "count": 0
                      },
                      {
                        "bin_start": 292.4,
                        "bin_end": 340.3,
                        "count": 0
                      },
                      {
                        "bin_start": 340.3,
                        "bin_end": 388.2,
                        "count": 0
                      },
                      {
                        "bin_start": 388.2,
                        "bin_end": 436.09999999999997,
                        "count": 1
                      },
                      {
                        "bin_start": 436.09999999999997,
                        "bin_end": 484,
                        "count": 1
                      }
                    ],
                    "categories": null
                  }
                },
                {
                  "name": "Filipino (%)",
                  "dtype": "float64",
                  "stats": {
                    "unique_count": 4,
                    "nan_count": 0,
                    "min": "0.8",
                    "max": "4.6",
                    "histogram": [
                      {
                        "bin_start": 0.8,
                        "bin_end": 1.1800000000000002,
                        "count": 2
                      },
                      {
                        "bin_start": 1.1800000000000002,
                        "bin_end": 1.56,
                        "count": 1
                      },
                      {
                        "bin_start": 1.56,
                        "bin_end": 1.9400000000000002,
                        "count": 0
                      },
                      {
                        "bin_start": 1.9400000000000002,
                        "bin_end": 2.3200000000000003,
                        "count": 0
                      },
                      {
                        "bin_start": 2.3200000000000003,
                        "bin_end": 2.7,
                        "count": 0
                      },
                      {
                        "bin_start": 2.7,
                        "bin_end": 3.08,
                        "count": 0
                      },
                      {
                        "bin_start": 3.08,
                        "bin_end": 3.46,
                        "count": 0
                      },
                      {
                        "bin_start": 3.46,
                        "bin_end": 3.84,
                        "count": 0
                      },
                      {
                        "bin_start": 3.84,
                        "bin_end": 4.22,
                        "count": 0
                      },
                      {
                        "bin_start": 4.22,
                        "bin_end": 4.6,
                        "count": 2
                      }
                    ],
                    "categories": null
                  }
                },
                {
                  "name": "Hispanic",
                  "dtype": "float64",
                  "stats": {
                    "unique_count": 5,
                    "nan_count": 0,
                    "min": "126.0",
                    "max": "2331.0",
                    "histogram": [
                      {
                        "bin_start": 126,
                        "bin_end": 346.5,
                        "count": 1
                      },
                      {
                        "bin_start": 346.5,
                        "bin_end": 567,
                        "count": 0
                      },
                      {
                        "bin_start": 567,
                        "bin_end": 787.5,
                        "count": 1
                      },
                      {
                        "bin_start": 787.5,
                        "bin_end": 1008,
                        "count": 0
                      },
                      {
                        "bin_start": 1008,
                        "bin_end": 1228.5,
                        "count": 0
                      },
                      {
                        "bin_start": 1228.5,
                        "bin_end": 1449,
                        "count": 0
                      },
                      {
                        "bin_start": 1449,
                        "bin_end": 1669.5,
                        "count": 0
                      },
                      {
                        "bin_start": 1669.5,
                        "bin_end": 1890,
                        "count": 1
                      },
                      {
                        "bin_start": 1890,
                        "bin_end": 2110.5,
                        "count": 1
                      },
                      {
                        "bin_start": 2110.5,
                        "bin_end": 2331,
                        "count": 1
                      }
                    ],
                    "categories": null
                  }
                },
                {
                  "name": "Hispanic (%)",
                  "dtype": "float64",
                  "stats": {
                    "unique_count": 5,
                    "nan_count": 0,
                    "min": "17.2",
                    "max": "24.6",
                    "histogram": [
                      {
                        "bin_start": 17.2,
                        "bin_end": 17.939999999999998,
                        "count": 2
                      },
                      {
                        "bin_start": 17.939999999999998,
                        "bin_end": 18.68,
                        "count": 0
                      },
                      {
                        "bin_start": 18.68,
                        "bin_end": 19.42,
                        "count": 0
                      },
                      {
                        "bin_start": 19.42,
                        "bin_end": 20.16,
                        "count": 0
                      },
                      {
                        "bin_start": 20.16,
                        "bin_end": 20.9,
                        "count": 0
                      },
                      {
                        "bin_start": 20.9,
                        "bin_end": 21.64,
                        "count": 1
                      },
                      {
                        "bin_start": 21.64,
                        "bin_end": 22.380000000000003,
                        "count": 0
                      },
                      {
                        "bin_start": 22.380000000000003,
                        "bin_end": 23.12,
                        "count": 1
                      },
                      {
                        "bin_start": 23.12,
                        "bin_end": 23.86,
                        "count": 0
                      },
                      {
                        "bin_start": 23.86,
                        "bin_end": 24.6,
                        "count": 1
                      }
                    ],
                    "categories": null
                  }
                },
                {
                  "name": "Pacific Islander",
                  "dtype": "float64",
                  "stats": {
                    "unique_count": 4,
                    "nan_count": 0,
                    "min": "4.0",
                    "max": "52.0",
                    "histogram": [
                      {
                        "bin_start": 4,
                        "bin_end": 8.8,
                        "count": 2
                      },
                      {
                        "bin_start": 8.8,
                        "bin_end": 13.6,
                        "count": 0
                      },
                      {
                        "bin_start": 13.6,
                        "bin_end": 18.4,
                        "count": 1
                      },
                      {
                        "bin_start": 18.4,
                        "bin_end": 23.2,
                        "count": 0
                      },
                      {
                        "bin_start": 23.2,
                        "bin_end": 28,
                        "count": 0
                      },
                      {
                        "bin_start": 28,
                        "bin_end": 32.8,
                        "count": 0
                      },
                      {
                        "bin_start": 32.8,
                        "bin_end": 37.6,
                        "count": 0
                      },
                      {
                        "bin_start": 37.6,
                        "bin_end": 42.4,
                        "count": 1
                      },
                      {
                        "bin_start": 42.4,
                        "bin_end": 47.199999999999996,
                        "count": 0
                      },
                      {
                        "bin_start": 47.199999999999996,
                        "bin_end": 52,
                        "count": 1
                      }
                    ],
                    "categories": null
                  }
                },
                {
                  "name": "Pacific Islander (%)",
                  "dtype": "float64",
                  "stats": {
                    "unique_count": 5,
                    "nan_count": 0,
                    "min": "0.1",
                    "max": "0.7",
                    "histogram": [
                      {
                        "bin_start": 0.1,
                        "bin_end": 0.16,
                        "count": 1
                      },
                      {
                        "bin_start": 0.16,
                        "bin_end": 0.22,
                        "count": 1
                      },
                      {
                        "bin_start": 0.22,
                        "bin_end": 0.28,
                        "count": 0
                      },
                      {
                        "bin_start": 0.28,
                        "bin_end": 0.33999999999999997,
                        "count": 0
                      },
                      {
                        "bin_start": 0.33999999999999997,
                        "bin_end": 0.4,
                        "count": 0
                      },
                      {
                        "bin_start": 0.4,
                        "bin_end": 0.45999999999999996,
                        "count": 1
                      },
                      {
                        "bin_start": 0.45999999999999996,
                        "bin_end": 0.52,
                        "count": 1
                      },
                      {
                        "bin_start": 0.52,
                        "bin_end": 0.58,
                        "count": 0
                      },
                      {
                        "bin_start": 0.58,
                        "bin_end": 0.64,
                        "count": 0
                      },
                      {
                        "bin_start": 0.64,
                        "bin_end": 0.7,
                        "count": 1
                      }
                    ],
                    "categories": null
                  }
                },
                {
                  "name": "White",
                  "dtype": "float64",
                  "stats": {
                    "unique_count": 5,
                    "nan_count": 0,
                    "min": "76.0",
                    "max": "3733.0",
                    "histogram": [
                      {
                        "bin_start": 76,
                        "bin_end": 441.7,
                        "count": 1
                      },
                      {
                        "bin_start": 441.7,
                        "bin_end": 807.4,
                        "count": 0
                      },
                      {
                        "bin_start": 807.4,
                        "bin_end": 1173.1,
                        "count": 1
                      },
                      {
                        "bin_start": 1173.1,
                        "bin_end": 1538.8,
                        "count": 0
                      },
                      {
                        "bin_start": 1538.8,
                        "bin_end": 1904.5,
                        "count": 1
                      },
                      {
                        "bin_start": 1904.5,
                        "bin_end": 2270.2,
                        "count": 0
                      },
                      {
                        "bin_start": 2270.2,
                        "bin_end": 2635.9,
                        "count": 0
                      },
                      {
                        "bin_start": 2635.9,
                        "bin_end": 3001.6,
                        "count": 1
                      },
                      {
                        "bin_start": 3001.6,
                        "bin_end": 3367.2999999999997,
                        "count": 0
                      },
                      {
                        "bin_start": 3367.2999999999997,
                        "bin_end": 3733,
                        "count": 1
                      }
                    ],
                    "categories": null
                  }
                },
                {
                  "name": "White (%)",
                  "dtype": "float64",
                  "stats": {
                    "unique_count": 5,
                    "nan_count": 0,
                    "min": "12.7",
                    "max": "41.1",
                    "histogram": [
                      {
                        "bin_start": 12.7,
                        "bin_end": 15.54,
                        "count": 1
                      },
                      {
                        "bin_start": 15.54,
                        "bin_end": 18.38,
                        "count": 0
                      },
                      {
                        "bin_start": 18.38,
                        "bin_end": 21.22,
                        "count": 1
                      },
                      {
                        "bin_start": 21.22,
                        "bin_end": 24.060000000000002,
                        "count": 0
                      },
                      {
                        "bin_start": 24.060000000000002,
                        "bin_end": 26.9,
                        "count": 1
                      },
                      {
                        "bin_start": 26.9,
                        "bin_end": 29.740000000000002,
                        "count": 1
                      },
                      {
                        "bin_start": 29.740000000000002,
                        "bin_end": 32.58,
                        "count": 0
                      },
                      {
                        "bin_start": 32.58,
                        "bin_end": 35.42,
                        "count": 0
                      },
                      {
                        "bin_start": 35.42,
                        "bin_end": 38.260000000000005,
                        "count": 0
                      },
                      {
                        "bin_start": 38.260000000000005,
                        "bin_end": 41.1,
                        "count": 1
                      }
                    ],
                    "categories": null
                  }
                },
                {
                  "name": "Two or More Races",
                  "dtype": "float64",
                  "stats": {
                    "unique_count": 5,
                    "nan_count": 0,
                    "min": "56.0",
                    "max": "1596.0",
                    "histogram": [
                      {
                        "bin_start": 56,
                        "bin_end": 210,
                        "count": 1
                      },
                      {
                        "bin_start": 210,
                        "bin_end": 364,
                        "count": 0
                      },
                      {
                        "bin_start": 364,
                        "bin_end": 518,
                        "count": 1
                      },
                      {
                        "bin_start": 518,
                        "bin_end": 672,
                        "count": 0
                      },
                      {
                        "bin_start": 672,
                        "bin_end": 826,
                        "count": 0
                      },
                      {
                        "bin_start": 826,
                        "bin_end": 980,
                        "count": 1
                      },
                      {
                        "bin_start": 980,
                        "bin_end": 1134,
                        "count": 0
                      },
                      {
                        "bin_start": 1134,
                        "bin_end": 1288,
                        "count": 0
                      },
                      {
                        "bin_start": 1288,
                        "bin_end": 1442,
                        "count": 1
                      },
                      {
                        "bin_start": 1442,
                        "bin_end": 1596,
                        "count": 1
                      }
                    ],
                    "categories": null
                  }
                },
                {
                  "name": "Two or More Races (%)",
                  "dtype": "float64",
                  "stats": {
                    "unique_count": 5,
                    "nan_count": 0,
                    "min": "9.3",
                    "max": "15.3",
                    "histogram": [
                      {
                        "bin_start": 9.3,
                        "bin_end": 9.9,
                        "count": 1
                      },
                      {
                        "bin_start": 9.9,
                        "bin_end": 10.5,
                        "count": 1
                      },
                      {
                        "bin_start": 10.5,
                        "bin_end": 11.100000000000001,
                        "count": 0
                      },
                      {
                        "bin_start": 11.100000000000001,
                        "bin_end": 11.700000000000001,
                        "count": 0
                      },
                      {
                        "bin_start": 11.700000000000001,
                        "bin_end": 12.3,
                        "count": 0
                      },
                      {
                        "bin_start": 12.3,
                        "bin_end": 12.9,
                        "count": 0
                      },
                      {
                        "bin_start": 12.9,
                        "bin_end": 13.5,
                        "count": 0
                      },
                      {
                        "bin_start": 13.5,
                        "bin_end": 14.100000000000001,
                        "count": 1
                      },
                      {
                        "bin_start": 14.100000000000001,
                        "bin_end": 14.7,
                        "count": 0
                      },
                      {
                        "bin_start": 14.7,
                        "bin_end": 15.3,
                        "count": 2
                      }
                    ],
                    "categories": null
                  }
                },
                {
                  "name": "Not Reported",
                  "dtype": "float64",
                  "stats": {
                    "unique_count": 5,
                    "nan_count": 0,
                    "min": "9.0",
                    "max": "327.0",
                    "histogram": [
                      {
                        "bin_start": 9,
                        "bin_end": 40.8,
                        "count": 2
                      },
                      {
                        "bin_start": 40.8,
                        "bin_end": 72.6,
                        "count": 0
                      },
                      {
                        "bin_start": 72.6,
                        "bin_end": 104.4,
                        "count": 0
                      },
                      {
                        "bin_start": 104.4,
                        "bin_end": 136.2,
                        "count": 0
                      },
                      {
                        "bin_start": 136.2,
                        "bin_end": 168,
                        "count": 0
                      },
                      {
                        "bin_start": 168,
                        "bin_end": 199.8,
                        "count": 0
                      },
                      {
                        "bin_start": 199.8,
                        "bin_end": 231.6,
                        "count": 1
                      },
                      {
                        "bin_start": 231.6,
                        "bin_end": 263.4,
                        "count": 0
                      },
                      {
                        "bin_start": 263.4,
                        "bin_end": 295.2,
                        "count": 0
                      },
                      {
                        "bin_start": 295.2,
                        "bin_end": 327,
                        "count": 2
                      }
                    ],
                    "categories": null
                  }
                },
                {
                  "name": "Not Reported (%)",
                  "dtype": "float64",
                  "stats": {
                    "unique_count": 5,
                    "nan_count": 0,
                    "min": "0.1",
                    "max": "5.7",
                    "histogram": [
                      {
                        "bin_start": 0.1,
                        "bin_end": 0.66,
                        "count": 1
                      },
                      {
                        "bin_start": 0.66,
                        "bin_end": 1.2200000000000002,
                        "count": 0
                      },
                      {
                        "bin_start": 1.2200000000000002,
                        "bin_end": 1.7800000000000002,
                        "count": 0
                      },
                      {
                        "bin_start": 1.7800000000000002,
                        "bin_end": 2.3400000000000003,
                        "count": 1
                      },
                      {
                        "bin_start": 2.3400000000000003,
                        "bin_end": 2.9000000000000004,
                        "count": 0
                      },
                      {
                        "bin_start": 2.9000000000000004,
                        "bin_end": 3.4600000000000004,
                        "count": 2
                      },
                      {
                        "bin_start": 3.4600000000000004,
                        "bin_end": 4.0200000000000005,
                        "count": 0
                      },
                      {
                        "bin_start": 4.0200000000000005,
                        "bin_end": 4.58,
                        "count": 0
                      },
                      {
                        "bin_start": 4.58,
                        "bin_end": 5.140000000000001,
                        "count": 0
                      },
                      {
                        "bin_start": 5.140000000000001,
                        "bin_end": 5.7,
                        "count": 1
                      }
                    ],
                    "categories": null
                  }
                },
                {
                  "name": "English Learner",
                  "dtype": "float64",
                  "stats": {
                    "unique_count": 5,
                    "nan_count": 0,
                    "min": "98.0",
                    "max": "1266.0",
                    "histogram": [
                      {
                        "bin_start": 98,
                        "bin_end": 214.8,
                        "count": 1
                      },
                      {
                        "bin_start": 214.8,
                        "bin_end": 331.6,
                        "count": 0
                      },
                      {
                        "bin_start": 331.6,
                        "bin_end": 448.4,
                        "count": 0
                      },
                      {
                        "bin_start": 448.4,
                        "bin_end": 565.2,
                        "count": 1
                      },
                      {
                        "bin_start": 565.2,
                        "bin_end": 682,
                        "count": 1
                      },
                      {
                        "bin_start": 682,
                        "bin_end": 798.8,
                        "count": 0
                      },
                      {
                        "bin_start": 798.8,
                        "bin_end": 915.6,
                        "count": 1
                      },
                      {
                        "bin_start": 915.6,
                        "bin_end": 1032.4,
                        "count": 0
                      },
                      {
                        "bin_start": 1032.4,
                        "bin_end": 1149.2,
                        "count": 0
                      },
                      {
                        "bin_start": 1149.2,
                        "bin_end": 1266,
                        "count": 1
                      }
                    ],
                    "categories": null
                  }
                },
                {
                  "name": "English Learner (%)",
                  "dtype": "float64",
                  "stats": {
                    "unique_count": 5,
                    "nan_count": 0,
                    "min": "6.5",
                    "max": "16.3",
                    "histogram": [
                      {
                        "bin_start": 6.5,
                        "bin_end": 7.48,
                        "count": 1
                      },
                      {
                        "bin_start": 7.48,
                        "bin_end": 8.46,
                        "count": 0
                      },
                      {
                        "bin_start": 8.46,
                        "bin_end": 9.440000000000001,
                        "count": 1
                      },
                      {
                        "bin_start": 9.440000000000001,
                        "bin_end": 10.42,
                        "count": 0
                      },
                      {
                        "bin_start": 10.42,
                        "bin_end": 11.4,
                        "count": 0
                      },
                      {
                        "bin_start": 11.4,
                        "bin_end": 12.38,
                        "count": 0
                      },
                      {
                        "bin_start": 12.38,
                        "bin_end": 13.36,
                        "count": 2
                      },
                      {
                        "bin_start": 13.36,
                        "bin_end": 14.34,
                        "count": 0
                      },
                      {
                        "bin_start": 14.34,
                        "bin_end": 15.32,
                        "count": 0
                      },
                      {
                        "bin_start": 15.32,
                        "bin_end": 16.3,
                        "count": 1
                      }
                    ],
                    "categories": null
                  }
                },
                {
                  "name": "Foster",
                  "dtype": "float64",
                  "stats": {
                    "unique_count": 4,
                    "nan_count": 0,
                    "min": "1.0",
                    "max": "32.0",
                    "histogram": [
                      {
                        "bin_start": 1,
                        "bin_end": 4.1,
                        "count": 2
                      },
                      {
                        "bin_start": 4.1,
                        "bin_end": 7.2,
                        "count": 1
                      },
                      {
                        "bin_start": 7.2,
                        "bin_end": 10.3,
                        "count": 0
                      },
                      {
                        "bin_start": 10.3,
                        "bin_end": 13.4,
                        "count": 0
                      },
                      {
                        "bin_start": 13.4,
                        "bin_end": 16.5,
                        "count": 0
                      },
                      {
                        "bin_start": 16.5,
                        "bin_end": 19.6,
                        "count": 0
                      },
                      {
                        "bin_start": 19.6,
                        "bin_end": 22.7,
                        "count": 0
                      },
                      {
                        "bin_start": 22.7,
                        "bin_end": 25.8,
                        "count": 0
                      },
                      {
                        "bin_start": 25.8,
                        "bin_end": 28.900000000000002,
                        "count": 1
                      },
                      {
                        "bin_start": 28.900000000000002,
                        "bin_end": 32,
                        "count": 1
                      }
                    ],
                    "categories": null
                  }
                },
                {
                  "name": "Foster (%)",
                  "dtype": "float64",
                  "stats": {
                    "unique_count": 5,
                    "nan_count": 0,
                    "min": "0.0",
                    "max": "0.4",
                    "histogram": [
                      {
                        "bin_start": 0,
                        "bin_end": 0.04,
                        "count": 1
                      },
                      {
                        "bin_start": 0.04,
                        "bin_end": 0.08,
                        "count": 0
                      },
                      {
                        "bin_start": 0.08,
                        "bin_end": 0.12,
                        "count": 1
                      },
                      {
                        "bin_start": 0.12,
                        "bin_end": 0.16,
                        "count": 0
                      },
                      {
                        "bin_start": 0.16,
                        "bin_end": 0.2,
                        "count": 0
                      },
                      {
                        "bin_start": 0.2,
                        "bin_end": 0.24,
                        "count": 1
                      },
                      {
                        "bin_start": 0.24,
                        "bin_end": 0.28,
                        "count": 0
                      },
                      {
                        "bin_start": 0.28,
                        "bin_end": 0.32,
                        "count": 1
                      },
                      {
                        "bin_start": 0.32,
                        "bin_end": 0.36,
                        "count": 0
                      },
                      {
                        "bin_start": 0.36,
                        "bin_end": 0.4,
                        "count": 1
                      }
                    ],
                    "categories": null
                  }
                },
                {
                  "name": "Homeless",
                  "dtype": "float64",
                  "stats": {
                    "unique_count": 5,
                    "nan_count": 0,
                    "min": "13.0",
                    "max": "150.0",
                    "histogram": [
                      {
                        "bin_start": 13,
                        "bin_end": 26.7,
                        "count": 2
                      },
                      {
                        "bin_start": 26.7,
                        "bin_end": 40.4,
                        "count": 0
                      },
                      {
                        "bin_start": 40.4,
                        "bin_end": 54.099999999999994,
                        "count": 0
                      },
                      {
                        "bin_start": 54.099999999999994,
                        "bin_end": 67.8,
                        "count": 0
                      },
                      {
                        "bin_start": 67.8,
                        "bin_end": 81.5,
                        "count": 0
                      },
                      {
                        "bin_start": 81.5,
                        "bin_end": 95.19999999999999,
                        "count": 1
                      },
                      {
                        "bin_start": 95.19999999999999,
                        "bin_end": 108.89999999999999,
                        "count": 0
                      },
                      {
                        "bin_start": 108.89999999999999,
                        "bin_end": 122.6,
                        "count": 0
                      },
                      {
                        "bin_start": 122.6,
                        "bin_end": 136.3,
                        "count": 1
                      },
                      {
                        "bin_start": 136.3,
                        "bin_end": 150,
                        "count": 1
                      }
                    ],
                    "categories": null
                  }
                },
                {
                  "name": "Homeless (%)",
                  "dtype": "float64",
                  "stats": {
                    "unique_count": 5,
                    "nan_count": 0,
                    "min": "0.7",
                    "max": "2.2",
                    "histogram": [
                      {
                        "bin_start": 0.7,
                        "bin_end": 0.85,
                        "count": 1
                      },
                      {
                        "bin_start": 0.85,
                        "bin_end": 1,
                        "count": 1
                      },
                      {
                        "bin_start": 1,
                        "bin_end": 1.15,
                        "count": 0
                      },
                      {
                        "bin_start": 1.15,
                        "bin_end": 1.3,
                        "count": 0
                      },
                      {
                        "bin_start": 1.3,
                        "bin_end": 1.4500000000000002,
                        "count": 1
                      },
                      {
                        "bin_start": 1.4500000000000002,
                        "bin_end": 1.6,
                        "count": 0
                      },
                      {
                        "bin_start": 1.6,
                        "bin_end": 1.7500000000000002,
                        "count": 1
                      },
                      {
                        "bin_start": 1.7500000000000002,
                        "bin_end": 1.9000000000000001,
                        "count": 0
                      },
                      {
                        "bin_start": 1.9000000000000001,
                        "bin_end": 2.05,
                        "count": 0
                      },
                      {
                        "bin_start": 2.05,
                        "bin_end": 2.2,
                        "count": 1
                      }
                    ],
                    "categories": null
                  }
                },
                {
                  "name": "Migrant",
                  "dtype": "float64",
                  "stats": {
                    "unique_count": 1,
                    "nan_count": 0,
                    "min": "0.0",
                    "max": "0.0",
                    "histogram": [
                      {
                        "bin_start": -0.5,
                        "bin_end": -0.4,
                        "count": 0
                      },
                      {
                        "bin_start": -0.4,
                        "bin_end": -0.3,
                        "count": 0
                      },
                      {
                        "bin_start": -0.3,
                        "bin_end": -0.19999999999999996,
                        "count": 0
                      },
                      {
                        "bin_start": -0.19999999999999996,
                        "bin_end": -0.09999999999999998,
                        "count": 0
                      },
                      {
                        "bin_start": -0.09999999999999998,
                        "bin_end": 0,
                        "count": 0
                      },
                      {
                        "bin_start": 0,
                        "bin_end": 0.10000000000000009,
                        "count": 5
                      },
                      {
                        "bin_start": 0.10000000000000009,
                        "bin_end": 0.20000000000000007,
                        "count": 0
                      },
                      {
                        "bin_start": 0.20000000000000007,
                        "bin_end": 0.30000000000000004,
                        "count": 0
                      },
                      {
                        "bin_start": 0.30000000000000004,
                        "bin_end": 0.4,
                        "count": 0
                      },
                      {
                        "bin_start": 0.4,
                        "bin_end": 0.5,
                        "count": 0
                      }
                    ],
                    "categories": null
                  }
                },
                {
                  "name": "Migrant (%)",
                  "dtype": "float64",
                  "stats": {
                    "unique_count": 1,
                    "nan_count": 0,
                    "min": "0.0",
                    "max": "0.0",
                    "histogram": [
                      {
                        "bin_start": -0.5,
                        "bin_end": -0.4,
                        "count": 0
                      },
                      {
                        "bin_start": -0.4,
                        "bin_end": -0.3,
                        "count": 0
                      },
                      {
                        "bin_start": -0.3,
                        "bin_end": -0.19999999999999996,
                        "count": 0
                      },
                      {
                        "bin_start": -0.19999999999999996,
                        "bin_end": -0.09999999999999998,
                        "count": 0
                      },
                      {
                        "bin_start": -0.09999999999999998,
                        "bin_end": 0,
                        "count": 0
                      },
                      {
                        "bin_start": 0,
                        "bin_end": 0.10000000000000009,
                        "count": 5
                      },
                      {
                        "bin_start": 0.10000000000000009,
                        "bin_end": 0.20000000000000007,
                        "count": 0
                      },
                      {
                        "bin_start": 0.20000000000000007,
                        "bin_end": 0.30000000000000004,
                        "count": 0
                      },
                      {
                        "bin_start": 0.30000000000000004,
                        "bin_end": 0.4,
                        "count": 0
                      },
                      {
                        "bin_start": 0.4,
                        "bin_end": 0.5,
                        "count": 0
                      }
                    ],
                    "categories": null
                  }
                },
                {
                  "name": "Students with Disabilities",
                  "dtype": "float64",
                  "stats": {
                    "unique_count": 5,
                    "nan_count": 0,
                    "min": "75.0",
                    "max": "1286.0",
                    "histogram": [
                      {
                        "bin_start": 75,
                        "bin_end": 196.1,
                        "count": 1
                      },
                      {
                        "bin_start": 196.1,
                        "bin_end": 317.2,
                        "count": 0
                      },
                      {
                        "bin_start": 317.2,
                        "bin_end": 438.29999999999995,
                        "count": 1
                      },
                      {
                        "bin_start": 438.29999999999995,
                        "bin_end": 559.4,
                        "count": 0
                      },
                      {
                        "bin_start": 559.4,
                        "bin_end": 680.5,
                        "count": 0
                      },
                      {
                        "bin_start": 680.5,
                        "bin_end": 801.5999999999999,
                        "count": 0
                      },
                      {
                        "bin_start": 801.5999999999999,
                        "bin_end": 922.6999999999999,
                        "count": 0
                      },
                      {
                        "bin_start": 922.6999999999999,
                        "bin_end": 1043.8,
                        "count": 0
                      },
                      {
                        "bin_start": 1043.8,
                        "bin_end": 1164.8999999999999,
                        "count": 2
                      },
                      {
                        "bin_start": 1164.8999999999999,
                        "bin_end": 1286,
                        "count": 1
                      }
                    ],
                    "categories": null
                  }
                },
                {
                  "name": "Students with Disabilities (%)",
                  "dtype": "float64",
                  "stats": {
                    "unique_count": 5,
                    "nan_count": 0,
                    "min": "9.0",
                    "max": "12.5",
                    "histogram": [
                      {
                        "bin_start": 9,
                        "bin_end": 9.35,
                        "count": 1
                      },
                      {
                        "bin_start": 9.35,
                        "bin_end": 9.7,
                        "count": 0
                      },
                      {
                        "bin_start": 9.7,
                        "bin_end": 10.05,
                        "count": 0
                      },
                      {
                        "bin_start": 10.05,
                        "bin_end": 10.4,
                        "count": 0
                      },
                      {
                        "bin_start": 10.4,
                        "bin_end": 10.75,
                        "count": 0
                      },
                      {
                        "bin_start": 10.75,
                        "bin_end": 11.1,
                        "count": 1
                      },
                      {
                        "bin_start": 11.1,
                        "bin_end": 11.45,
                        "count": 0
                      },
                      {
                        "bin_start": 11.45,
                        "bin_end": 11.8,
                        "count": 0
                      },
                      {
                        "bin_start": 11.8,
                        "bin_end": 12.15,
                        "count": 1
                      },
                      {
                        "bin_start": 12.15,
                        "bin_end": 12.5,
                        "count": 2
                      }
                    ],
                    "categories": null
                  }
                },
                {
                  "name": "Socioeconomically Disadvantaged",
                  "dtype": "float64",
                  "stats": {
                    "unique_count": 5,
                    "nan_count": 0,
                    "min": "327.0",
                    "max": "4035.0",
                    "histogram": [
                      {
                        "bin_start": 327,
                        "bin_end": 697.8,
                        "count": 1
                      },
                      {
                        "bin_start": 697.8,
                        "bin_end": 1068.6,
                        "count": 0
                      },
                      {
                        "bin_start": 1068.6,
                        "bin_end": 1439.4,
                        "count": 1
                      },
                      {
                        "bin_start": 1439.4,
                        "bin_end": 1810.2,
                        "count": 0
                      },
                      {
                        "bin_start": 1810.2,
                        "bin_end": 2181,
                        "count": 0
                      },
                      {
                        "bin_start": 2181,
                        "bin_end": 2551.8,
                        "count": 1
                      },
                      {
                        "bin_start": 2551.8,
                        "bin_end": 2922.6,
                        "count": 0
                      },
                      {
                        "bin_start": 2922.6,
                        "bin_end": 3293.4,
                        "count": 0
                      },
                      {
                        "bin_start": 3293.4,
                        "bin_end": 3664.2000000000003,
                        "count": 0
                      },
                      {
                        "bin_start": 3664.2000000000003,
                        "bin_end": 4035,
                        "count": 2
                      }
                    ],
                    "categories": null
                  }
                },
                {
                  "name": "Socioeconomically Disadvantaged (%)",
                  "dtype": "float64",
                  "stats": {
                    "unique_count": 5,
                    "nan_count": 0,
                    "min": "27.6",
                    "max": "54.5",
                    "histogram": [
                      {
                        "bin_start": 27.6,
                        "bin_end": 30.290000000000003,
                        "count": 1
                      },
                      {
                        "bin_start": 30.290000000000003,
                        "bin_end": 32.980000000000004,
                        "count": 1
                      },
                      {
                        "bin_start": 32.980000000000004,
                        "bin_end": 35.67,
                        "count": 0
                      },
                      {
                        "bin_start": 35.67,
                        "bin_end": 38.36,
                        "count": 1
                      },
                      {
                        "bin_start": 38.36,
                        "bin_end": 41.05,
                        "count": 1
                      },
                      {
                        "bin_start": 41.05,
                        "bin_end": 43.74,
                        "count": 0
                      },
                      {
                        "bin_start": 43.74,
                        "bin_end": 46.43,
                        "count": 0
                      },
                      {
                        "bin_start": 46.43,
                        "bin_end": 49.120000000000005,
                        "count": 0
                      },
                      {
                        "bin_start": 49.120000000000005,
                        "bin_end": 51.81,
                        "count": 0
                      },
                      {
                        "bin_start": 51.81,
                        "bin_end": 54.5,
                        "count": 1
                      }
                    ],
                    "categories": null
                  }
                },
                {
                  "name": "District Label",
                  "dtype": "object",
                  "stats": {
                    "unique_count": 5,
                    "nan_count": 0,
                    "min": null,
                    "max": null,
                    "histogram": null,
                    "categories": [
                      {
                        "name": "Alameda Unified (Alameda)",
                        "count": 1
                      },
                      {
                        "name": "Albany City Unified (Alameda)",
                        "count": 1
                      },
                      {
                        "name": "3 others",
                        "count": 3
                      }
                    ]
                  }
                },
                {
                  "name": "District Name_y",
                  "dtype": "object",
                  "stats": {
                    "unique_count": 5,
                    "nan_count": 0,
                    "min": null,
                    "max": null,
                    "histogram": null,
                    "categories": [
                      {
                        "name": "Alameda Unified",
                        "count": 1
                      },
                      {
                        "name": "Albany City Unified",
                        "count": 1
                      },
                      {
                        "name": "3 others",
                        "count": 3
                      }
                    ]
                  }
                },
                {
                  "name": "EDP 365",
                  "dtype": "float64",
                  "stats": {
                    "unique_count": 5,
                    "nan_count": 0,
                    "min": "15862999.59",
                    "max": "220550807.98",
                    "histogram": [
                      {
                        "bin_start": 15862999.59,
                        "bin_end": 36331780.429,
                        "count": 1
                      },
                      {
                        "bin_start": 36331780.429,
                        "bin_end": 56800561.26799999,
                        "count": 0
                      },
                      {
                        "bin_start": 56800561.26799999,
                        "bin_end": 77269342.107,
                        "count": 1
                      },
                      {
                        "bin_start": 77269342.107,
                        "bin_end": 97738122.946,
                        "count": 0
                      },
                      {
                        "bin_start": 97738122.946,
                        "bin_end": 118206903.785,
                        "count": 0
                      },
                      {
                        "bin_start": 118206903.785,
                        "bin_end": 138675684.62399998,
                        "count": 0
                      },
                      {
                        "bin_start": 138675684.62399998,
                        "bin_end": 159144465.463,
                        "count": 2
                      },
                      {
                        "bin_start": 159144465.463,
                        "bin_end": 179613246.302,
                        "count": 0
                      },
                      {
                        "bin_start": 179613246.302,
                        "bin_end": 200082027.14099997,
                        "count": 0
                      },
                      {
                        "bin_start": 200082027.14099997,
                        "bin_end": 220550807.98,
                        "count": 1
                      }
                    ],
                    "categories": null
                  }
                },
                {
                  "name": "Expense ADA",
                  "dtype": "float64",
                  "stats": {
                    "unique_count": 5,
                    "nan_count": 0,
                    "min": "554.7",
                    "max": "8991.52",
                    "histogram": [
                      {
                        "bin_start": 554.7,
                        "bin_end": 1398.382,
                        "count": 1
                      },
                      {
                        "bin_start": 1398.382,
                        "bin_end": 2242.0640000000003,
                        "count": 0
                      },
                      {
                        "bin_start": 2242.0640000000003,
                        "bin_end": 3085.746,
                        "count": 0
                      },
                      {
                        "bin_start": 3085.746,
                        "bin_end": 3929.428,
                        "count": 1
                      },
                      {
                        "bin_start": 3929.428,
                        "bin_end": 4773.11,
                        "count": 0
                      },
                      {
                        "bin_start": 4773.11,
                        "bin_end": 5616.792,
                        "count": 0
                      },
                      {
                        "bin_start": 5616.792,
                        "bin_end": 6460.474,
                        "count": 0
                      },
                      {
                        "bin_start": 6460.474,
                        "bin_end": 7304.156,
                        "count": 0
                      },
                      {
                        "bin_start": 7304.156,
                        "bin_end": 8147.838,
                        "count": 0
                      },
                      {
                        "bin_start": 8147.838,
                        "bin_end": 8991.52,
                        "count": 3
                      }
                    ],
                    "categories": null
                  }
                },
                {
                  "name": "Expense per ADA",
                  "dtype": "float64",
                  "stats": {
                    "unique_count": 5,
                    "nan_count": 0,
                    "min": "15847.3",
                    "max": "28597.44",
                    "histogram": [
                      {
                        "bin_start": 15847.3,
                        "bin_end": 17122.314,
                        "count": 1
                      },
                      {
                        "bin_start": 17122.314,
                        "bin_end": 18397.327999999998,
                        "count": 2
                      },
                      {
                        "bin_start": 18397.327999999998,
                        "bin_end": 19672.341999999997,
                        "count": 0
                      },
                      {
                        "bin_start": 19672.341999999997,
                        "bin_end": 20947.356,
                        "count": 0
                      },
                      {
                        "bin_start": 20947.356,
                        "bin_end": 22222.37,
                        "count": 0
                      },
                      {
                        "bin_start": 22222.37,
                        "bin_end": 23497.384,
                        "count": 0
                      },
                      {
                        "bin_start": 23497.384,
                        "bin_end": 24772.398,
                        "count": 0
                      },
                      {
                        "bin_start": 24772.398,
                        "bin_end": 26047.411999999997,
                        "count": 1
                      },
                      {
                        "bin_start": 26047.411999999997,
                        "bin_end": 27322.426,
                        "count": 0
                      },
                      {
                        "bin_start": 27322.426,
                        "bin_end": 28597.44,
                        "count": 1
                      }
                    ],
                    "categories": null
                  }
                },
                {
                  "name": "LEA Type",
                  "dtype": "object",
                  "stats": {
                    "unique_count": 1,
                    "nan_count": 0,
                    "min": null,
                    "max": null,
                    "histogram": null,
                    "categories": [
                      {
                        "name": "Unified",
                        "count": 5
                      }
                    ]
                  }
                },
                {
                  "name": "_deepnote_index_column",
                  "dtype": "int64"
                }
              ],
              "row_count": 5,
              "preview_row_count": 5,
              "rows": [
                {
                  "Fed ID": 601770,
                  "District Code": "61119",
                  "CDS Code": 1611190000000,
                  "County Name": "Alameda",
                  "District Name_x": "Alameda Unified",
                  "District Type": "Unified",
                  "Grade Low": "KG",
                  "Grade High": "12",
                  "Grade Low Census": "KG",
                  "Grade High Census": "12",
                  "Assistance Status": "General Assistance",
                  "Locale": "21 - Suburban, Large",
                  "Enroll Total": 10557,
                  "Enroll Charter": 1496,
                  "Enroll Non Charter": 9061,
                  "African American": 748,
                  "African American (%)": 7.1,
                  "American Indian": 25,
                  "American Indian (%)": 0.2,
                  "Asian": 2610,
                  "Asian (%)": 24.7,
                  "Filipino": 484,
                  "Filipino (%)": 4.6,
                  "Hispanic": 1878,
                  "Hispanic (%)": 17.8,
                  "Pacific Islander": 52,
                  "Pacific Islander (%)": 0.5,
                  "White": 2844,
                  "White (%)": 26.9,
                  "Two or More Races": 1596,
                  "Two or More Races (%)": 15.1,
                  "Not Reported": 320,
                  "Not Reported (%)": 3,
                  "English Learner": 906,
                  "English Learner (%)": 8.6,
                  "Foster": 27,
                  "Foster (%)": 0.3,
                  "Homeless": 91,
                  "Homeless (%)": 0.9,
                  "Migrant": 0,
                  "Migrant (%)": 0,
                  "Students with Disabilities": 1286,
                  "Students with Disabilities (%)": 12.2,
                  "Socioeconomically Disadvantaged": 4035,
                  "Socioeconomically Disadvantaged (%)": 38.2,
                  "District Label": "Alameda Unified (Alameda)",
                  "District Name_y": "Alameda Unified",
                  "EDP 365": 155094777.67,
                  "Expense ADA": 8567.86,
                  "Expense per ADA": 18101.93,
                  "LEA Type": "Unified",
                  "_deepnote_index_column": 0
                },
                {
                  "Fed ID": 601860,
                  "District Code": "61127",
                  "CDS Code": 1611270000000,
                  "County Name": "Alameda",
                  "District Name_x": "Albany City Unified",
                  "District Type": "Unified",
                  "Grade Low": "KG",
                  "Grade High": "12",
                  "Grade Low Census": "KG",
                  "Grade High Census": "12",
                  "Assistance Status": "General Assistance",
                  "Locale": "21 - Suburban, Large",
                  "Enroll Total": 3574,
                  "Enroll Charter": 0,
                  "Enroll Non Charter": 3574,
                  "African American": 152,
                  "African American (%)": 4.3,
                  "American Indian": 10,
                  "American Indian (%)": 0.3,
                  "Asian": 1130,
                  "Asian (%)": 31.6,
                  "Filipino": 51,
                  "Filipino (%)": 1.4,
                  "Hispanic": 616,
                  "Hispanic (%)": 17.2,
                  "Pacific Islander": 4,
                  "Pacific Islander (%)": 0.1,
                  "White": 923,
                  "White (%)": 25.8,
                  "Two or More Races": 483,
                  "Two or More Races (%)": 13.5,
                  "Not Reported": 205,
                  "Not Reported (%)": 5.7,
                  "English Learner": 456,
                  "English Learner (%)": 12.8,
                  "Foster": 1,
                  "Foster (%)": 0,
                  "Homeless": 24,
                  "Homeless (%)": 0.7,
                  "Migrant": 0,
                  "Migrant (%)": 0,
                  "Students with Disabilities": 320,
                  "Students with Disabilities (%)": 9,
                  "Socioeconomically Disadvantaged": 1122,
                  "Socioeconomically Disadvantaged (%)": 31.4,
                  "District Label": "Albany City Unified (Alameda)",
                  "District Name_y": "Albany City Unified",
                  "EDP 365": 61490895.29,
                  "Expense ADA": 3435.41,
                  "Expense per ADA": 17899.14,
                  "LEA Type": "Unified",
                  "_deepnote_index_column": 1
                },
                {
                  "Fed ID": 604740,
                  "District Code": "61143",
                  "CDS Code": 1611430000000,
                  "County Name": "Alameda",
                  "District Name_x": "Berkeley Unified",
                  "District Type": "Unified",
                  "Grade Low": "KG",
                  "Grade High": "12",
                  "Grade Low Census": "KG",
                  "Grade High Census": "12",
                  "Assistance Status": "General Assistance",
                  "Locale": "12 - City, Midsize ",
                  "Enroll Total": 9077,
                  "Enroll Charter": 0,
                  "Enroll Non Charter": 9077,
                  "African American": 1052,
                  "African American (%)": 11.6,
                  "American Indian": 21,
                  "American Indian (%)": 0.2,
                  "Asian": 736,
                  "Asian (%)": 8.1,
                  "Filipino": 73,
                  "Filipino (%)": 0.8,
                  "Hispanic": 2045,
                  "Hispanic (%)": 22.5,
                  "Pacific Islander": 16,
                  "Pacific Islander (%)": 0.2,
                  "White": 3733,
                  "White (%)": 41.1,
                  "Two or More Races": 1392,
                  "Two or More Races (%)": 15.3,
                  "Not Reported": 9,
                  "Not Reported (%)": 0.1,
                  "English Learner": 594,
                  "English Learner (%)": 6.5,
                  "Foster": 32,
                  "Foster (%)": 0.4,
                  "Homeless": 150,
                  "Homeless (%)": 1.7,
                  "Migrant": 0,
                  "Migrant (%)": 0,
                  "Students with Disabilities": 1092,
                  "Students with Disabilities (%)": 12,
                  "Socioeconomically Disadvantaged": 2508,
                  "Socioeconomically Disadvantaged (%)": 27.6,
                  "District Label": "Berkeley Unified (Alameda)",
                  "District Name_y": "Berkeley Unified",
                  "EDP 365": 220550807.98,
                  "Expense ADA": 8572.17,
                  "Expense per ADA": 25728.7,
                  "LEA Type": "Unified",
                  "_deepnote_index_column": 2
                },
                {
                  "Fed ID": 607800,
                  "District Code": "61150",
                  "CDS Code": 1611500000000,
                  "County Name": "Alameda",
                  "District Name_x": "Castro Valley Unified",
                  "District Type": "Unified",
                  "Grade Low": "KG",
                  "Grade High": "12",
                  "Grade Low Census": "KG",
                  "Grade High Census": "12",
                  "Assistance Status": "General Assistance",
                  "Locale": "21 - Suburban, Large",
                  "Enroll Total": 9489,
                  "Enroll Charter": 0,
                  "Enroll Non Charter": 9489,
                  "African American": 406,
                  "African American (%)": 4.3,
                  "American Indian": 7,
                  "American Indian (%)": 0.1,
                  "Asian": 3119,
                  "Asian (%)": 32.9,
                  "Filipino": 423,
                  "Filipino (%)": 4.5,
                  "Hispanic": 2331,
                  "Hispanic (%)": 24.6,
                  "Pacific Islander": 40,
                  "Pacific Islander (%)": 0.4,
                  "White": 1862,
                  "White (%)": 19.6,
                  "Two or More Races": 974,
                  "Two or More Races (%)": 10.3,
                  "Not Reported": 327,
                  "Not Reported (%)": 3.4,
                  "English Learner": 1266,
                  "English Learner (%)": 13.3,
                  "Foster": 5,
                  "Foster (%)": 0.1,
                  "Homeless": 135,
                  "Homeless (%)": 1.4,
                  "Migrant": 0,
                  "Migrant (%)": 0,
                  "Students with Disabilities": 1048,
                  "Students with Disabilities (%)": 11,
                  "Socioeconomically Disadvantaged": 3686,
                  "Socioeconomically Disadvantaged (%)": 38.8,
                  "District Label": "Castro Valley Unified (Alameda)",
                  "District Name_y": "Castro Valley Unified",
                  "EDP 365": 142491340.82,
                  "Expense ADA": 8991.52,
                  "Expense per ADA": 15847.3,
                  "LEA Type": "Unified",
                  "_deepnote_index_column": 3
                },
                {
                  "Fed ID": 612630,
                  "District Code": "61168",
                  "CDS Code": 1611680000000,
                  "County Name": "Alameda",
                  "District Name_x": "Emery Unified",
                  "District Type": "Unified",
                  "Grade Low": "KG",
                  "Grade High": "12",
                  "Grade Low Census": "KG",
                  "Grade High Census": "12",
                  "Assistance Status": "General Assistance",
                  "Locale": "21 - Suburban, Large",
                  "Enroll Total": 600,
                  "Enroll Charter": 0,
                  "Enroll Non Charter": 600,
                  "African American": 265,
                  "African American (%)": 44.2,
                  "American Indian": 0,
                  "American Indian (%)": 0,
                  "Asian": 56,
                  "Asian (%)": 9.3,
                  "Filipino": 5,
                  "Filipino (%)": 0.8,
                  "Hispanic": 126,
                  "Hispanic (%)": 21,
                  "Pacific Islander": 4,
                  "Pacific Islander (%)": 0.7,
                  "White": 76,
                  "White (%)": 12.7,
                  "Two or More Races": 56,
                  "Two or More Races (%)": 9.3,
                  "Not Reported": 12,
                  "Not Reported (%)": 2,
                  "English Learner": 98,
                  "English Learner (%)": 16.3,
                  "Foster": 1,
                  "Foster (%)": 0.2,
                  "Homeless": 13,
                  "Homeless (%)": 2.2,
                  "Migrant": 0,
                  "Migrant (%)": 0,
                  "Students with Disabilities": 75,
                  "Students with Disabilities (%)": 12.5,
                  "Socioeconomically Disadvantaged": 327,
                  "Socioeconomically Disadvantaged (%)": 54.5,
                  "District Label": "Emery Unified (Alameda)",
                  "District Name_y": "Emery Unified",
                  "EDP 365": 15862999.59,
                  "Expense ADA": 554.7,
                  "Expense per ADA": 28597.44,
                  "LEA Type": "Unified",
                  "_deepnote_index_column": 4
                }
              ],
              "type": "dataframe"
            },
            "text/plain": "     Fed ID District Code      CDS Code County Name        District Name_x  \\\n0  601770.0         61119  1.611190e+12     Alameda        Alameda Unified   \n1  601860.0         61127  1.611270e+12     Alameda    Albany City Unified   \n2  604740.0         61143  1.611430e+12     Alameda       Berkeley Unified   \n3  607800.0         61150  1.611500e+12     Alameda  Castro Valley Unified   \n4  612630.0         61168  1.611680e+12     Alameda          Emery Unified   \n\n  District Type Grade Low Grade High Grade Low Census Grade High Census  ...  \\\n0       Unified        KG         12               KG                12  ...   \n1       Unified        KG         12               KG                12  ...   \n2       Unified        KG         12               KG                12  ...   \n3       Unified        KG         12               KG                12  ...   \n4       Unified        KG         12               KG                12  ...   \n\n  Students with Disabilities Students with Disabilities (%)  \\\n0                     1286.0                           12.2   \n1                      320.0                            9.0   \n2                     1092.0                           12.0   \n3                     1048.0                           11.0   \n4                       75.0                           12.5   \n\n   Socioeconomically Disadvantaged  Socioeconomically Disadvantaged (%)  \\\n0                           4035.0                                 38.2   \n1                           1122.0                                 31.4   \n2                           2508.0                                 27.6   \n3                           3686.0                                 38.8   \n4                            327.0                                 54.5   \n\n                    District Label        District Name_y       EDP 365  \\\n0        Alameda Unified (Alameda)        Alameda Unified  1.550948e+08   \n1    Albany City Unified (Alameda)    Albany City Unified  6.149090e+07   \n2       Berkeley Unified (Alameda)       Berkeley Unified  2.205508e+08   \n3  Castro Valley Unified (Alameda)  Castro Valley Unified  1.424913e+08   \n4          Emery Unified (Alameda)          Emery Unified  1.586300e+07   \n\n   Expense ADA  Expense per ADA  LEA Type  \n0      8567.86         18101.93   Unified  \n1      3435.41         17899.14   Unified  \n2      8572.17         25728.70   Unified  \n3      8991.52         15847.30   Unified  \n4       554.70         28597.44   Unified  \n\n[5 rows x 51 columns]",
            "text/html": "<div>\n<style scoped>\n    .dataframe tbody tr th:only-of-type {\n        vertical-align: middle;\n    }\n\n    .dataframe tbody tr th {\n        vertical-align: top;\n    }\n\n    .dataframe thead th {\n        text-align: right;\n    }\n</style>\n<table border=\"1\" class=\"dataframe\">\n  <thead>\n    <tr style=\"text-align: right;\">\n      <th></th>\n      <th>Fed ID</th>\n      <th>District Code</th>\n      <th>CDS Code</th>\n      <th>County Name</th>\n      <th>District Name_x</th>\n      <th>District Type</th>\n      <th>Grade Low</th>\n      <th>Grade High</th>\n      <th>Grade Low Census</th>\n      <th>Grade High Census</th>\n      <th>...</th>\n      <th>Students with Disabilities</th>\n      <th>Students with Disabilities (%)</th>\n      <th>Socioeconomically Disadvantaged</th>\n      <th>Socioeconomically Disadvantaged (%)</th>\n      <th>District Label</th>\n      <th>District Name_y</th>\n      <th>EDP 365</th>\n      <th>Expense ADA</th>\n      <th>Expense per ADA</th>\n      <th>LEA Type</th>\n    </tr>\n  </thead>\n  <tbody>\n    <tr>\n      <th>0</th>\n      <td>601770.0</td>\n      <td>61119</td>\n      <td>1.611190e+12</td>\n      <td>Alameda</td>\n      <td>Alameda Unified</td>\n      <td>Unified</td>\n      <td>KG</td>\n      <td>12</td>\n      <td>KG</td>\n      <td>12</td>\n      <td>...</td>\n      <td>1286.0</td>\n      <td>12.2</td>\n      <td>4035.0</td>\n      <td>38.2</td>\n      <td>Alameda Unified (Alameda)</td>\n      <td>Alameda Unified</td>\n      <td>1.550948e+08</td>\n      <td>8567.86</td>\n      <td>18101.93</td>\n      <td>Unified</td>\n    </tr>\n    <tr>\n      <th>1</th>\n      <td>601860.0</td>\n      <td>61127</td>\n      <td>1.611270e+12</td>\n      <td>Alameda</td>\n      <td>Albany City Unified</td>\n      <td>Unified</td>\n      <td>KG</td>\n      <td>12</td>\n      <td>KG</td>\n      <td>12</td>\n      <td>...</td>\n      <td>320.0</td>\n      <td>9.0</td>\n      <td>1122.0</td>\n      <td>31.4</td>\n      <td>Albany City Unified (Alameda)</td>\n      <td>Albany City Unified</td>\n      <td>6.149090e+07</td>\n      <td>3435.41</td>\n      <td>17899.14</td>\n      <td>Unified</td>\n    </tr>\n    <tr>\n      <th>2</th>\n      <td>604740.0</td>\n      <td>61143</td>\n      <td>1.611430e+12</td>\n      <td>Alameda</td>\n      <td>Berkeley Unified</td>\n      <td>Unified</td>\n      <td>KG</td>\n      <td>12</td>\n      <td>KG</td>\n      <td>12</td>\n      <td>...</td>\n      <td>1092.0</td>\n      <td>12.0</td>\n      <td>2508.0</td>\n      <td>27.6</td>\n      <td>Berkeley Unified (Alameda)</td>\n      <td>Berkeley Unified</td>\n      <td>2.205508e+08</td>\n      <td>8572.17</td>\n      <td>25728.70</td>\n      <td>Unified</td>\n    </tr>\n    <tr>\n      <th>3</th>\n      <td>607800.0</td>\n      <td>61150</td>\n      <td>1.611500e+12</td>\n      <td>Alameda</td>\n      <td>Castro Valley Unified</td>\n      <td>Unified</td>\n      <td>KG</td>\n      <td>12</td>\n      <td>KG</td>\n      <td>12</td>\n      <td>...</td>\n      <td>1048.0</td>\n      <td>11.0</td>\n      <td>3686.0</td>\n      <td>38.8</td>\n      <td>Castro Valley Unified (Alameda)</td>\n      <td>Castro Valley Unified</td>\n      <td>1.424913e+08</td>\n      <td>8991.52</td>\n      <td>15847.30</td>\n      <td>Unified</td>\n    </tr>\n    <tr>\n      <th>4</th>\n      <td>612630.0</td>\n      <td>61168</td>\n      <td>1.611680e+12</td>\n      <td>Alameda</td>\n      <td>Emery Unified</td>\n      <td>Unified</td>\n      <td>KG</td>\n      <td>12</td>\n      <td>KG</td>\n      <td>12</td>\n      <td>...</td>\n      <td>75.0</td>\n      <td>12.5</td>\n      <td>327.0</td>\n      <td>54.5</td>\n      <td>Emery Unified (Alameda)</td>\n      <td>Emery Unified</td>\n      <td>1.586300e+07</td>\n      <td>554.70</td>\n      <td>28597.44</td>\n      <td>Unified</td>\n    </tr>\n  </tbody>\n</table>\n<p>5 rows × 51 columns</p>\n</div>"
          },
          "metadata": {}
        }
      ],
      "outputs_reference": null,
      "content_dependencies": null
    },
    {
      "cell_type": "markdown",
      "metadata": {
        "id": "hxEoQUDWWwTz",
        "deepnote_app_block_order": 50,
        "deepnote_app_block_visible": true,
        "deepnote_app_block_group_id": null,
        "cell_id": "4b7ab8672f784d258f22092b9f47432c",
        "deepnote_cell_type": "markdown"
      },
      "source": "### 2.6 Drop `District Name_x` (from District DF) & Use `District Name_y` (from Expense DF) as Authoritative District Name",
      "block_group": "07c41de96d004b919ff6f905e0f345df"
    },
    {
      "cell_type": "markdown",
      "metadata": {
        "id": "8NslZiCd-f7Z",
        "deepnote_app_block_order": 51,
        "deepnote_app_block_visible": true,
        "deepnote_app_block_group_id": null,
        "cell_id": "f1eaffa9d2894531ad9ccc357b7467d7",
        "deepnote_cell_type": "markdown"
      },
      "source": "### 2.7 Cleaning the 'Locale' column",
      "block_group": "c7b024fc8bfd44688a95e5122cbe3e4f"
    },
    {
      "cell_type": "code",
      "metadata": {
        "id": "KS6bVIwoxfHB",
        "colab": {
          "base_uri": "https://localhost:8080/"
        },
        "outputId": "09087df6-b032-4b21-93f2-57b0168b47f3",
        "source_hash": "fdbaa09c",
        "execution_start": 1759790536978,
        "execution_millis": 0,
        "execution_context_id": "f1ca50dd-93b4-4efd-8fa9-6064dddd03f8",
        "deepnote_app_block_order": 52,
        "deepnote_app_block_visible": true,
        "deepnote_app_block_group_id": null,
        "deepnote_app_is_code_hidden": true,
        "deepnote_app_is_output_hidden": false,
        "cell_id": "f90604c2c8444d1fa082b9616063c26c",
        "deepnote_cell_type": "code"
      },
      "source": "# Change the data type of the 'Locale' column in the DataFrame to string\ndistrict_and_expenses['Locale'] = district_and_expenses['Locale'].astype(str)\n\n# Display the previous DataFrame 'Locale' column value counts\nprint(district_and_expenses['Locale'].value_counts())\n\n# Create a function that will update the 'Locale' value for each row in the DataFrame to not include the locale\n# code (ex. 21) or location subtype (ex. Large)\ndef assign_location_type(locale):\n  if locale == 'nan':\n    return 'Not Reported'\n  else:\n    return locale.split()[2].strip(',')\n\n# Apply the 'assign_location_type' function to update each value in the 'Locale' column\ndistrict_and_expenses['Locale'] = district_and_expenses['Locale'].apply(assign_location_type)\n\n# Display the new DataFrame 'Locale' column value counts\nprint(district_and_expenses['Locale'].value_counts())",
      "block_group": "557ef0328f904e0db7bdaf14293e4f17",
      "execution_count": 19,
      "outputs": [
        {
          "name": "stdout",
          "text": "Locale\n21 - Suburban, Large      228\n41 - Rural, Fringe        146\n42 - Rural, Distant       136\n32 - Town, Distant         67\n43 - Rural, Remote         60\n31 - Town, Fringe          57\n11 - City, Large           49\n12 - City, Midsize         43\n13 - City, Small           41\n22 - Suburban, Midsize     38\n33 - Town, Remote          33\n23 - Suburban, Small       30\nnan                         5\nName: count, dtype: int64\nLocale\nRural           342\nSuburban        296\nTown            157\nCity            133\nNot Reported      5\nName: count, dtype: int64\n",
          "output_type": "stream"
        }
      ],
      "outputs_reference": null,
      "content_dependencies": null
    },
    {
      "cell_type": "code",
      "metadata": {
        "id": "eFD7j57dXBgT",
        "colab": {
          "base_uri": "https://localhost:8080/"
        },
        "outputId": "60bf6262-9169-4453-c8aa-dcb3db61dd07",
        "source_hash": "94d0e4fe",
        "execution_start": 1759790537028,
        "execution_millis": 0,
        "execution_context_id": "f1ca50dd-93b4-4efd-8fa9-6064dddd03f8",
        "deepnote_app_block_order": 53,
        "deepnote_app_block_visible": true,
        "deepnote_app_block_group_id": null,
        "deepnote_app_is_code_hidden": true,
        "deepnote_app_is_output_hidden": false,
        "cell_id": "fa1668e0704b467586b5d72d59b5a81b",
        "deepnote_cell_type": "code"
      },
      "source": "district_and_expenses = district_and_expenses.drop(columns=['District Name_x']).rename(columns={'District Name_y':'District Name'})\n\ndistrict_and_expenses.columns\ndistrict_and_expenses['District Code'].nunique()",
      "block_group": "2922e51b0f634b6f8146aca306382c22",
      "execution_count": 20,
      "outputs": [
        {
          "output_type": "execute_result",
          "execution_count": 20,
          "data": {
            "text/plain": "933"
          },
          "metadata": {}
        }
      ],
      "outputs_reference": null,
      "content_dependencies": null
    },
    {
      "cell_type": "markdown",
      "metadata": {
        "id": "o96x0yQaXVSX",
        "deepnote_app_block_order": 54,
        "deepnote_app_block_visible": true,
        "deepnote_app_block_group_id": null,
        "cell_id": "71cea39a480b4f2c9a821043afddea51",
        "deepnote_cell_type": "markdown"
      },
      "source": "### 2.8 Looking into Outliers\n### Discrepancies between Total Enrollment & ADA",
      "block_group": "786f61865b86482ea847ba509681b5a7"
    },
    {
      "cell_type": "code",
      "metadata": {
        "id": "NxS8Mqf2XjNM",
        "colab": {
          "height": 585,
          "base_uri": "https://localhost:8080/"
        },
        "outputId": "0af27c9d-e3f9-45bd-e8b0-7aaa055db137",
        "source_hash": "7658a352",
        "execution_start": 1759790537077,
        "execution_millis": 41,
        "execution_context_id": "f1ca50dd-93b4-4efd-8fa9-6064dddd03f8",
        "deepnote_app_block_order": 55,
        "deepnote_app_block_visible": true,
        "deepnote_app_block_group_id": null,
        "deepnote_app_is_code_hidden": true,
        "deepnote_app_is_output_hidden": false,
        "cell_id": "be5ae9d756e04457a087b1e58ac45ba3",
        "deepnote_cell_type": "code"
      },
      "source": "# Explore Total Enrollment vs. ADA and filter outliers\n# (|ADA - Enrollment| / ADA >= 50)\n# 5000% Difference\n\ndistrict_and_expenses_no_out = district_and_expenses[\n    ~((abs(district_and_expenses['Expense ADA'] - district_and_expenses['Enroll Total']) / district_and_expenses['Expense ADA'] >= 50))]\n\ndistrict_and_expenses['Decimal Difference'] = (abs(district_and_expenses['Expense ADA'] - district_and_expenses['Enroll Total']) / district_and_expenses['Expense ADA'])\n\ndistrict_and_expenses_no_out.shape\n\n# Look at dropped values\ndistrict_and_expenses_out = district_and_expenses[\n    ((abs(district_and_expenses['Expense ADA'] - district_and_expenses['Enroll Total']) / district_and_expenses['Expense ADA'] >= 50))]\n\ndisplay(district_and_expenses_out)",
      "block_group": "cc7f69454c4f459394c7e43a0684b4f6",
      "execution_count": 21,
      "outputs": [
        {
          "data": {
            "application/vnd.deepnote.dataframe.v3+json": {
              "column_count": 51,
              "columns": [
                {
                  "name": "Fed ID",
                  "dtype": "float64",
                  "stats": {
                    "unique_count": 5,
                    "nan_count": 0,
                    "min": "610710.0",
                    "max": "637680.0",
                    "histogram": [
                      {
                        "bin_start": 610710,
                        "bin_end": 613407,
                        "count": 1
                      },
                      {
                        "bin_start": 613407,
                        "bin_end": 616104,
                        "count": 0
                      },
                      {
                        "bin_start": 616104,
                        "bin_end": 618801,
                        "count": 0
                      },
                      {
                        "bin_start": 618801,
                        "bin_end": 621498,
                        "count": 0
                      },
                      {
                        "bin_start": 621498,
                        "bin_end": 624195,
                        "count": 1
                      },
                      {
                        "bin_start": 624195,
                        "bin_end": 626892,
                        "count": 0
                      },
                      {
                        "bin_start": 626892,
                        "bin_end": 629589,
                        "count": 2
                      },
                      {
                        "bin_start": 629589,
                        "bin_end": 632286,
                        "count": 0
                      },
                      {
                        "bin_start": 632286,
                        "bin_end": 634983,
                        "count": 0
                      },
                      {
                        "bin_start": 634983,
                        "bin_end": 637680,
                        "count": 1
                      }
                    ],
                    "categories": null
                  }
                },
                {
                  "name": "District Code",
                  "dtype": "object",
                  "stats": {
                    "unique_count": 5,
                    "nan_count": 0,
                    "min": null,
                    "max": null,
                    "histogram": null,
                    "categories": [
                      {
                        "name": "63628",
                        "count": 1
                      },
                      {
                        "name": "67827",
                        "count": 1
                      },
                      {
                        "name": "3 others",
                        "count": 3
                      }
                    ]
                  }
                },
                {
                  "name": "CDS Code",
                  "dtype": "float64",
                  "stats": {
                    "unique_count": 5,
                    "nan_count": 0,
                    "min": "15636280000000.0",
                    "max": "39686270000000.0",
                    "histogram": [
                      {
                        "bin_start": 15636280000000,
                        "bin_end": 18041279000000,
                        "count": 1
                      },
                      {
                        "bin_start": 18041279000000,
                        "bin_end": 20446278000000,
                        "count": 0
                      },
                      {
                        "bin_start": 20446278000000,
                        "bin_end": 22851277000000,
                        "count": 0
                      },
                      {
                        "bin_start": 22851277000000,
                        "bin_end": 25256276000000,
                        "count": 0
                      },
                      {
                        "bin_start": 25256276000000,
                        "bin_end": 27661275000000,
                        "count": 0
                      },
                      {
                        "bin_start": 27661275000000,
                        "bin_end": 30066274000000,
                        "count": 0
                      },
                      {
                        "bin_start": 30066274000000,
                        "bin_end": 32471273000000,
                        "count": 0
                      },
                      {
                        "bin_start": 32471273000000,
                        "bin_end": 34876272000000,
                        "count": 0
                      },
                      {
                        "bin_start": 34876272000000,
                        "bin_end": 37281271000000,
                        "count": 1
                      },
                      {
                        "bin_start": 37281271000000,
                        "bin_end": 39686270000000,
                        "count": 3
                      }
                    ],
                    "categories": null
                  }
                },
                {
                  "name": "County Name",
                  "dtype": "object",
                  "stats": {
                    "unique_count": 4,
                    "nan_count": 0,
                    "min": null,
                    "max": null,
                    "histogram": null,
                    "categories": [
                      {
                        "name": "San Diego",
                        "count": 2
                      },
                      {
                        "name": "Kern",
                        "count": 1
                      },
                      {
                        "name": "2 others",
                        "count": 2
                      }
                    ]
                  }
                },
                {
                  "name": "District Type",
                  "dtype": "object",
                  "stats": {
                    "unique_count": 2,
                    "nan_count": 0,
                    "min": null,
                    "max": null,
                    "histogram": null,
                    "categories": [
                      {
                        "name": "Elementary",
                        "count": 4
                      },
                      {
                        "name": "Unified",
                        "count": 1
                      }
                    ]
                  }
                },
                {
                  "name": "Grade Low",
                  "dtype": "object",
                  "stats": {
                    "unique_count": 1,
                    "nan_count": 0,
                    "min": null,
                    "max": null,
                    "histogram": null,
                    "categories": [
                      {
                        "name": "KG",
                        "count": 5
                      }
                    ]
                  }
                },
                {
                  "name": "Grade High",
                  "dtype": "object",
                  "stats": {
                    "unique_count": 1,
                    "nan_count": 0,
                    "min": null,
                    "max": null,
                    "histogram": null,
                    "categories": [
                      {
                        "name": "12",
                        "count": 5
                      }
                    ]
                  }
                },
                {
                  "name": "Grade Low Census",
                  "dtype": "object",
                  "stats": {
                    "unique_count": 1,
                    "nan_count": 0,
                    "min": null,
                    "max": null,
                    "histogram": null,
                    "categories": [
                      {
                        "name": "KG",
                        "count": 5
                      }
                    ]
                  }
                },
                {
                  "name": "Grade High Census",
                  "dtype": "object",
                  "stats": {
                    "unique_count": 3,
                    "nan_count": 0,
                    "min": null,
                    "max": null,
                    "histogram": null,
                    "categories": [
                      {
                        "name": "8",
                        "count": 3
                      },
                      {
                        "name": "12",
                        "count": 1
                      },
                      {
                        "name": "6",
                        "count": 1
                      }
                    ]
                  }
                },
                {
                  "name": "Assistance Status",
                  "dtype": "object",
                  "stats": {
                    "unique_count": 2,
                    "nan_count": 0,
                    "min": null,
                    "max": null,
                    "histogram": null,
                    "categories": [
                      {
                        "name": "General Assistance",
                        "count": 4
                      },
                      {
                        "name": "Differentiated Assistance",
                        "count": 1
                      }
                    ]
                  }
                },
                {
                  "name": "Locale",
                  "dtype": "object",
                  "stats": {
                    "unique_count": 2,
                    "nan_count": 0,
                    "min": null,
                    "max": null,
                    "histogram": null,
                    "categories": [
                      {
                        "name": "Rural",
                        "count": 4
                      },
                      {
                        "name": "Suburban",
                        "count": 1
                      }
                    ]
                  }
                },
                {
                  "name": "Enroll Total",
                  "dtype": "float64",
                  "stats": {
                    "unique_count": 5,
                    "nan_count": 0,
                    "min": "3885.0",
                    "max": "14535.0",
                    "histogram": [
                      {
                        "bin_start": 3885,
                        "bin_end": 4950,
                        "count": 1
                      },
                      {
                        "bin_start": 4950,
                        "bin_end": 6015,
                        "count": 1
                      },
                      {
                        "bin_start": 6015,
                        "bin_end": 7080,
                        "count": 1
                      },
                      {
                        "bin_start": 7080,
                        "bin_end": 8145,
                        "count": 0
                      },
                      {
                        "bin_start": 8145,
                        "bin_end": 9210,
                        "count": 0
                      },
                      {
                        "bin_start": 9210,
                        "bin_end": 10275,
                        "count": 0
                      },
                      {
                        "bin_start": 10275,
                        "bin_end": 11340,
                        "count": 0
                      },
                      {
                        "bin_start": 11340,
                        "bin_end": 12405,
                        "count": 1
                      },
                      {
                        "bin_start": 12405,
                        "bin_end": 13470,
                        "count": 0
                      },
                      {
                        "bin_start": 13470,
                        "bin_end": 14535,
                        "count": 1
                      }
                    ],
                    "categories": null
                  }
                },
                {
                  "name": "Enroll Charter",
                  "dtype": "float64",
                  "stats": {
                    "unique_count": 5,
                    "nan_count": 0,
                    "min": "3838.0",
                    "max": "14229.0",
                    "histogram": [
                      {
                        "bin_start": 3838,
                        "bin_end": 4877.1,
                        "count": 1
                      },
                      {
                        "bin_start": 4877.1,
                        "bin_end": 5916.2,
                        "count": 1
                      },
                      {
                        "bin_start": 5916.2,
                        "bin_end": 6955.299999999999,
                        "count": 1
                      },
                      {
                        "bin_start": 6955.299999999999,
                        "bin_end": 7994.4,
                        "count": 0
                      },
                      {
                        "bin_start": 7994.4,
                        "bin_end": 9033.5,
                        "count": 0
                      },
                      {
                        "bin_start": 9033.5,
                        "bin_end": 10072.599999999999,
                        "count": 0
                      },
                      {
                        "bin_start": 10072.599999999999,
                        "bin_end": 11111.699999999999,
                        "count": 0
                      },
                      {
                        "bin_start": 11111.699999999999,
                        "bin_end": 12150.8,
                        "count": 1
                      },
                      {
                        "bin_start": 12150.8,
                        "bin_end": 13189.9,
                        "count": 0
                      },
                      {
                        "bin_start": 13189.9,
                        "bin_end": 14229,
                        "count": 1
                      }
                    ],
                    "categories": null
                  }
                },
                {
                  "name": "Enroll Non Charter",
                  "dtype": "float64",
                  "stats": {
                    "unique_count": 5,
                    "nan_count": 0,
                    "min": "16.0",
                    "max": "306.0",
                    "histogram": [
                      {
                        "bin_start": 16,
                        "bin_end": 45,
                        "count": 1
                      },
                      {
                        "bin_start": 45,
                        "bin_end": 74,
                        "count": 1
                      },
                      {
                        "bin_start": 74,
                        "bin_end": 103,
                        "count": 1
                      },
                      {
                        "bin_start": 103,
                        "bin_end": 132,
                        "count": 0
                      },
                      {
                        "bin_start": 132,
                        "bin_end": 161,
                        "count": 0
                      },
                      {
                        "bin_start": 161,
                        "bin_end": 190,
                        "count": 0
                      },
                      {
                        "bin_start": 190,
                        "bin_end": 219,
                        "count": 0
                      },
                      {
                        "bin_start": 219,
                        "bin_end": 248,
                        "count": 1
                      },
                      {
                        "bin_start": 248,
                        "bin_end": 277,
                        "count": 0
                      },
                      {
                        "bin_start": 277,
                        "bin_end": 306,
                        "count": 1
                      }
                    ],
                    "categories": null
                  }
                },
                {
                  "name": "African American",
                  "dtype": "float64",
                  "stats": {
                    "unique_count": 5,
                    "nan_count": 0,
                    "min": "225.0",
                    "max": "665.0",
                    "histogram": [
                      {
                        "bin_start": 225,
                        "bin_end": 269,
                        "count": 1
                      },
                      {
                        "bin_start": 269,
                        "bin_end": 313,
                        "count": 0
                      },
                      {
                        "bin_start": 313,
                        "bin_end": 357,
                        "count": 0
                      },
                      {
                        "bin_start": 357,
                        "bin_end": 401,
                        "count": 1
                      },
                      {
                        "bin_start": 401,
                        "bin_end": 445,
                        "count": 0
                      },
                      {
                        "bin_start": 445,
                        "bin_end": 489,
                        "count": 0
                      },
                      {
                        "bin_start": 489,
                        "bin_end": 533,
                        "count": 0
                      },
                      {
                        "bin_start": 533,
                        "bin_end": 577,
                        "count": 0
                      },
                      {
                        "bin_start": 577,
                        "bin_end": 621,
                        "count": 2
                      },
                      {
                        "bin_start": 621,
                        "bin_end": 665,
                        "count": 1
                      }
                    ],
                    "categories": null
                  }
                },
                {
                  "name": "African American (%)",
                  "dtype": "float64",
                  "stats": {
                    "unique_count": 5,
                    "nan_count": 0,
                    "min": "1.9",
                    "max": "10.6",
                    "histogram": [
                      {
                        "bin_start": 1.9,
                        "bin_end": 2.7699999999999996,
                        "count": 1
                      },
                      {
                        "bin_start": 2.7699999999999996,
                        "bin_end": 3.6399999999999997,
                        "count": 0
                      },
                      {
                        "bin_start": 3.6399999999999997,
                        "bin_end": 4.51,
                        "count": 1
                      },
                      {
                        "bin_start": 4.51,
                        "bin_end": 5.379999999999999,
                        "count": 0
                      },
                      {
                        "bin_start": 5.379999999999999,
                        "bin_end": 6.25,
                        "count": 0
                      },
                      {
                        "bin_start": 6.25,
                        "bin_end": 7.119999999999999,
                        "count": 0
                      },
                      {
                        "bin_start": 7.119999999999999,
                        "bin_end": 7.989999999999998,
                        "count": 0
                      },
                      {
                        "bin_start": 7.989999999999998,
                        "bin_end": 8.86,
                        "count": 0
                      },
                      {
                        "bin_start": 8.86,
                        "bin_end": 9.729999999999999,
                        "count": 2
                      },
                      {
                        "bin_start": 9.729999999999999,
                        "bin_end": 10.6,
                        "count": 1
                      }
                    ],
                    "categories": null
                  }
                },
                {
                  "name": "American Indian",
                  "dtype": "float64",
                  "stats": {
                    "unique_count": 5,
                    "nan_count": 0,
                    "min": "29.0",
                    "max": "59.0",
                    "histogram": [
                      {
                        "bin_start": 29,
                        "bin_end": 32,
                        "count": 1
                      },
                      {
                        "bin_start": 32,
                        "bin_end": 35,
                        "count": 0
                      },
                      {
                        "bin_start": 35,
                        "bin_end": 38,
                        "count": 0
                      },
                      {
                        "bin_start": 38,
                        "bin_end": 41,
                        "count": 0
                      },
                      {
                        "bin_start": 41,
                        "bin_end": 44,
                        "count": 0
                      },
                      {
                        "bin_start": 44,
                        "bin_end": 47,
                        "count": 1
                      },
                      {
                        "bin_start": 47,
                        "bin_end": 50,
                        "count": 2
                      },
                      {
                        "bin_start": 50,
                        "bin_end": 53,
                        "count": 0
                      },
                      {
                        "bin_start": 53,
                        "bin_end": 56,
                        "count": 0
                      },
                      {
                        "bin_start": 56,
                        "bin_end": 59,
                        "count": 1
                      }
                    ],
                    "categories": null
                  }
                },
                {
                  "name": "American Indian (%)",
                  "dtype": "float64",
                  "stats": {
                    "unique_count": 4,
                    "nan_count": 0,
                    "min": "0.3",
                    "max": "0.9",
                    "histogram": [
                      {
                        "bin_start": 0.3,
                        "bin_end": 0.36,
                        "count": 1
                      },
                      {
                        "bin_start": 0.36,
                        "bin_end": 0.42000000000000004,
                        "count": 0
                      },
                      {
                        "bin_start": 0.42000000000000004,
                        "bin_end": 0.48000000000000004,
                        "count": 0
                      },
                      {
                        "bin_start": 0.48000000000000004,
                        "bin_end": 0.54,
                        "count": 1
                      },
                      {
                        "bin_start": 0.54,
                        "bin_end": 0.6000000000000001,
                        "count": 0
                      },
                      {
                        "bin_start": 0.6000000000000001,
                        "bin_end": 0.6600000000000001,
                        "count": 0
                      },
                      {
                        "bin_start": 0.6600000000000001,
                        "bin_end": 0.7200000000000001,
                        "count": 2
                      },
                      {
                        "bin_start": 0.7200000000000001,
                        "bin_end": 0.78,
                        "count": 0
                      },
                      {
                        "bin_start": 0.78,
                        "bin_end": 0.8400000000000001,
                        "count": 0
                      },
                      {
                        "bin_start": 0.8400000000000001,
                        "bin_end": 0.9,
                        "count": 1
                      }
                    ],
                    "categories": null
                  }
                },
                {
                  "name": "Asian",
                  "dtype": "float64",
                  "stats": {
                    "unique_count": 5,
                    "nan_count": 0,
                    "min": "25.0",
                    "max": "597.0",
                    "histogram": [
                      {
                        "bin_start": 25,
                        "bin_end": 82.2,
                        "count": 1
                      },
                      {
                        "bin_start": 82.2,
                        "bin_end": 139.4,
                        "count": 1
                      },
                      {
                        "bin_start": 139.4,
                        "bin_end": 196.60000000000002,
                        "count": 0
                      },
                      {
                        "bin_start": 196.60000000000002,
                        "bin_end": 253.8,
                        "count": 0
                      },
                      {
                        "bin_start": 253.8,
                        "bin_end": 311,
                        "count": 0
                      },
                      {
                        "bin_start": 311,
                        "bin_end": 368.20000000000005,
                        "count": 0
                      },
                      {
                        "bin_start": 368.20000000000005,
                        "bin_end": 425.40000000000003,
                        "count": 0
                      },
                      {
                        "bin_start": 425.40000000000003,
                        "bin_end": 482.6,
                        "count": 1
                      },
                      {
                        "bin_start": 482.6,
                        "bin_end": 539.8000000000001,
                        "count": 1
                      },
                      {
                        "bin_start": 539.8000000000001,
                        "bin_end": 597,
                        "count": 1
                      }
                    ],
                    "categories": null
                  }
                },
                {
                  "name": "Asian (%)",
                  "dtype": "float64",
                  "stats": {
                    "unique_count": 5,
                    "nan_count": 0,
                    "min": "0.4",
                    "max": "8.7",
                    "histogram": [
                      {
                        "bin_start": 0.4,
                        "bin_end": 1.23,
                        "count": 1
                      },
                      {
                        "bin_start": 1.23,
                        "bin_end": 2.0599999999999996,
                        "count": 0
                      },
                      {
                        "bin_start": 2.0599999999999996,
                        "bin_end": 2.8899999999999992,
                        "count": 0
                      },
                      {
                        "bin_start": 2.8899999999999992,
                        "bin_end": 3.7199999999999993,
                        "count": 2
                      },
                      {
                        "bin_start": 3.7199999999999993,
                        "bin_end": 4.55,
                        "count": 1
                      },
                      {
                        "bin_start": 4.55,
                        "bin_end": 5.379999999999999,
                        "count": 0
                      },
                      {
                        "bin_start": 5.379999999999999,
                        "bin_end": 6.209999999999999,
                        "count": 0
                      },
                      {
                        "bin_start": 6.209999999999999,
                        "bin_end": 7.039999999999999,
                        "count": 0
                      },
                      {
                        "bin_start": 7.039999999999999,
                        "bin_end": 7.869999999999999,
                        "count": 0
                      },
                      {
                        "bin_start": 7.869999999999999,
                        "bin_end": 8.7,
                        "count": 1
                      }
                    ],
                    "categories": null
                  }
                },
                {
                  "name": "Filipino",
                  "dtype": "float64",
                  "stats": {
                    "unique_count": 5,
                    "nan_count": 0,
                    "min": "20.0",
                    "max": "170.0",
                    "histogram": [
                      {
                        "bin_start": 20,
                        "bin_end": 35,
                        "count": 1
                      },
                      {
                        "bin_start": 35,
                        "bin_end": 50,
                        "count": 0
                      },
                      {
                        "bin_start": 50,
                        "bin_end": 65,
                        "count": 0
                      },
                      {
                        "bin_start": 65,
                        "bin_end": 80,
                        "count": 1
                      },
                      {
                        "bin_start": 80,
                        "bin_end": 95,
                        "count": 0
                      },
                      {
                        "bin_start": 95,
                        "bin_end": 110,
                        "count": 0
                      },
                      {
                        "bin_start": 110,
                        "bin_end": 125,
                        "count": 1
                      },
                      {
                        "bin_start": 125,
                        "bin_end": 140,
                        "count": 1
                      },
                      {
                        "bin_start": 140,
                        "bin_end": 155,
                        "count": 0
                      },
                      {
                        "bin_start": 155,
                        "bin_end": 170,
                        "count": 1
                      }
                    ],
                    "categories": null
                  }
                },
                {
                  "name": "Filipino (%)",
                  "dtype": "float64",
                  "stats": {
                    "unique_count": 5,
                    "nan_count": 0,
                    "min": "0.3",
                    "max": "2.5",
                    "histogram": [
                      {
                        "bin_start": 0.3,
                        "bin_end": 0.52,
                        "count": 1
                      },
                      {
                        "bin_start": 0.52,
                        "bin_end": 0.74,
                        "count": 0
                      },
                      {
                        "bin_start": 0.74,
                        "bin_end": 0.9600000000000002,
                        "count": 1
                      },
                      {
                        "bin_start": 0.9600000000000002,
                        "bin_end": 1.1800000000000002,
                        "count": 1
                      },
                      {
                        "bin_start": 1.1800000000000002,
                        "bin_end": 1.4000000000000001,
                        "count": 0
                      },
                      {
                        "bin_start": 1.4000000000000001,
                        "bin_end": 1.6200000000000003,
                        "count": 0
                      },
                      {
                        "bin_start": 1.6200000000000003,
                        "bin_end": 1.8400000000000003,
                        "count": 1
                      },
                      {
                        "bin_start": 1.8400000000000003,
                        "bin_end": 2.06,
                        "count": 0
                      },
                      {
                        "bin_start": 2.06,
                        "bin_end": 2.2800000000000002,
                        "count": 0
                      },
                      {
                        "bin_start": 2.2800000000000002,
                        "bin_end": 2.5,
                        "count": 1
                      }
                    ],
                    "categories": null
                  }
                },
                {
                  "name": "Hispanic",
                  "dtype": "float64",
                  "stats": {
                    "unique_count": 5,
                    "nan_count": 0,
                    "min": "2176.0",
                    "max": "5302.0",
                    "histogram": [
                      {
                        "bin_start": 2176,
                        "bin_end": 2488.6,
                        "count": 1
                      },
                      {
                        "bin_start": 2488.6,
                        "bin_end": 2801.2,
                        "count": 0
                      },
                      {
                        "bin_start": 2801.2,
                        "bin_end": 3113.8,
                        "count": 0
                      },
                      {
                        "bin_start": 3113.8,
                        "bin_end": 3426.4,
                        "count": 1
                      },
                      {
                        "bin_start": 3426.4,
                        "bin_end": 3739,
                        "count": 1
                      },
                      {
                        "bin_start": 3739,
                        "bin_end": 4051.6000000000004,
                        "count": 1
                      },
                      {
                        "bin_start": 4051.6000000000004,
                        "bin_end": 4364.200000000001,
                        "count": 0
                      },
                      {
                        "bin_start": 4364.200000000001,
                        "bin_end": 4676.8,
                        "count": 0
                      },
                      {
                        "bin_start": 4676.8,
                        "bin_end": 4989.4,
                        "count": 0
                      },
                      {
                        "bin_start": 4989.4,
                        "bin_end": 5302,
                        "count": 1
                      }
                    ],
                    "categories": null
                  }
                },
                {
                  "name": "Hispanic (%)",
                  "dtype": "float64",
                  "stats": {
                    "unique_count": 5,
                    "nan_count": 0,
                    "min": "30.7",
                    "max": "65.7",
                    "histogram": [
                      {
                        "bin_start": 30.7,
                        "bin_end": 34.2,
                        "count": 1
                      },
                      {
                        "bin_start": 34.2,
                        "bin_end": 37.7,
                        "count": 1
                      },
                      {
                        "bin_start": 37.7,
                        "bin_end": 41.2,
                        "count": 0
                      },
                      {
                        "bin_start": 41.2,
                        "bin_end": 44.7,
                        "count": 0
                      },
                      {
                        "bin_start": 44.7,
                        "bin_end": 48.2,
                        "count": 1
                      },
                      {
                        "bin_start": 48.2,
                        "bin_end": 51.7,
                        "count": 0
                      },
                      {
                        "bin_start": 51.7,
                        "bin_end": 55.2,
                        "count": 0
                      },
                      {
                        "bin_start": 55.2,
                        "bin_end": 58.7,
                        "count": 1
                      },
                      {
                        "bin_start": 58.7,
                        "bin_end": 62.2,
                        "count": 0
                      },
                      {
                        "bin_start": 62.2,
                        "bin_end": 65.7,
                        "count": 1
                      }
                    ],
                    "categories": null
                  }
                },
                {
                  "name": "Pacific Islander",
                  "dtype": "float64",
                  "stats": {
                    "unique_count": 5,
                    "nan_count": 0,
                    "min": "29.0",
                    "max": "74.0",
                    "histogram": [
                      {
                        "bin_start": 29,
                        "bin_end": 33.5,
                        "count": 2
                      },
                      {
                        "bin_start": 33.5,
                        "bin_end": 38,
                        "count": 0
                      },
                      {
                        "bin_start": 38,
                        "bin_end": 42.5,
                        "count": 2
                      },
                      {
                        "bin_start": 42.5,
                        "bin_end": 47,
                        "count": 0
                      },
                      {
                        "bin_start": 47,
                        "bin_end": 51.5,
                        "count": 0
                      },
                      {
                        "bin_start": 51.5,
                        "bin_end": 56,
                        "count": 0
                      },
                      {
                        "bin_start": 56,
                        "bin_end": 60.5,
                        "count": 0
                      },
                      {
                        "bin_start": 60.5,
                        "bin_end": 65,
                        "count": 0
                      },
                      {
                        "bin_start": 65,
                        "bin_end": 69.5,
                        "count": 0
                      },
                      {
                        "bin_start": 69.5,
                        "bin_end": 74,
                        "count": 1
                      }
                    ],
                    "categories": null
                  }
                },
                {
                  "name": "Pacific Islander (%)",
                  "dtype": "float64",
                  "stats": {
                    "unique_count": 4,
                    "nan_count": 0,
                    "min": "0.3",
                    "max": "1.1",
                    "histogram": [
                      {
                        "bin_start": 0.3,
                        "bin_end": 0.38,
                        "count": 2
                      },
                      {
                        "bin_start": 0.38,
                        "bin_end": 0.45999999999999996,
                        "count": 0
                      },
                      {
                        "bin_start": 0.45999999999999996,
                        "bin_end": 0.54,
                        "count": 1
                      },
                      {
                        "bin_start": 0.54,
                        "bin_end": 0.62,
                        "count": 0
                      },
                      {
                        "bin_start": 0.62,
                        "bin_end": 0.7,
                        "count": 0
                      },
                      {
                        "bin_start": 0.7,
                        "bin_end": 0.78,
                        "count": 0
                      },
                      {
                        "bin_start": 0.78,
                        "bin_end": 0.8600000000000001,
                        "count": 0
                      },
                      {
                        "bin_start": 0.8600000000000001,
                        "bin_end": 0.94,
                        "count": 0
                      },
                      {
                        "bin_start": 0.94,
                        "bin_end": 1.02,
                        "count": 1
                      },
                      {
                        "bin_start": 1.02,
                        "bin_end": 1.1,
                        "count": 1
                      }
                    ],
                    "categories": null
                  }
                },
                {
                  "name": "White",
                  "dtype": "float64",
                  "stats": {
                    "unique_count": 5,
                    "nan_count": 0,
                    "min": "836.0",
                    "max": "6736.0",
                    "histogram": [
                      {
                        "bin_start": 836,
                        "bin_end": 1426,
                        "count": 2
                      },
                      {
                        "bin_start": 1426,
                        "bin_end": 2016,
                        "count": 1
                      },
                      {
                        "bin_start": 2016,
                        "bin_end": 2606,
                        "count": 0
                      },
                      {
                        "bin_start": 2606,
                        "bin_end": 3196,
                        "count": 0
                      },
                      {
                        "bin_start": 3196,
                        "bin_end": 3786,
                        "count": 0
                      },
                      {
                        "bin_start": 3786,
                        "bin_end": 4376,
                        "count": 0
                      },
                      {
                        "bin_start": 4376,
                        "bin_end": 4966,
                        "count": 0
                      },
                      {
                        "bin_start": 4966,
                        "bin_end": 5556,
                        "count": 0
                      },
                      {
                        "bin_start": 5556,
                        "bin_end": 6146,
                        "count": 1
                      },
                      {
                        "bin_start": 6146,
                        "bin_end": 6736,
                        "count": 1
                      }
                    ],
                    "categories": null
                  }
                },
                {
                  "name": "White (%)",
                  "dtype": "float64",
                  "stats": {
                    "unique_count": 5,
                    "nan_count": 0,
                    "min": "17.2",
                    "max": "50.9",
                    "histogram": [
                      {
                        "bin_start": 17.2,
                        "bin_end": 20.57,
                        "count": 1
                      },
                      {
                        "bin_start": 20.57,
                        "bin_end": 23.939999999999998,
                        "count": 2
                      },
                      {
                        "bin_start": 23.939999999999998,
                        "bin_end": 27.31,
                        "count": 0
                      },
                      {
                        "bin_start": 27.31,
                        "bin_end": 30.68,
                        "count": 0
                      },
                      {
                        "bin_start": 30.68,
                        "bin_end": 34.05,
                        "count": 0
                      },
                      {
                        "bin_start": 34.05,
                        "bin_end": 37.42,
                        "count": 0
                      },
                      {
                        "bin_start": 37.42,
                        "bin_end": 40.79,
                        "count": 0
                      },
                      {
                        "bin_start": 40.79,
                        "bin_end": 44.16,
                        "count": 0
                      },
                      {
                        "bin_start": 44.16,
                        "bin_end": 47.53,
                        "count": 1
                      },
                      {
                        "bin_start": 47.53,
                        "bin_end": 50.9,
                        "count": 1
                      }
                    ],
                    "categories": null
                  }
                },
                {
                  "name": "Two or More Races",
                  "dtype": "float64",
                  "stats": {
                    "unique_count": 5,
                    "nan_count": 0,
                    "min": "214.0",
                    "max": "995.0",
                    "histogram": [
                      {
                        "bin_start": 214,
                        "bin_end": 292.1,
                        "count": 2
                      },
                      {
                        "bin_start": 292.1,
                        "bin_end": 370.2,
                        "count": 0
                      },
                      {
                        "bin_start": 370.2,
                        "bin_end": 448.29999999999995,
                        "count": 0
                      },
                      {
                        "bin_start": 448.29999999999995,
                        "bin_end": 526.4,
                        "count": 1
                      },
                      {
                        "bin_start": 526.4,
                        "bin_end": 604.5,
                        "count": 0
                      },
                      {
                        "bin_start": 604.5,
                        "bin_end": 682.5999999999999,
                        "count": 0
                      },
                      {
                        "bin_start": 682.5999999999999,
                        "bin_end": 760.6999999999999,
                        "count": 0
                      },
                      {
                        "bin_start": 760.6999999999999,
                        "bin_end": 838.8,
                        "count": 0
                      },
                      {
                        "bin_start": 838.8,
                        "bin_end": 916.9,
                        "count": 1
                      },
                      {
                        "bin_start": 916.9,
                        "bin_end": 995,
                        "count": 1
                      }
                    ],
                    "categories": null
                  }
                },
                {
                  "name": "Two or More Races (%)",
                  "dtype": "float64",
                  "stats": {
                    "unique_count": 5,
                    "nan_count": 0,
                    "min": "3.7",
                    "max": "7.7",
                    "histogram": [
                      {
                        "bin_start": 3.7,
                        "bin_end": 4.1000000000000005,
                        "count": 1
                      },
                      {
                        "bin_start": 4.1000000000000005,
                        "bin_end": 4.5,
                        "count": 0
                      },
                      {
                        "bin_start": 4.5,
                        "bin_end": 4.9,
                        "count": 0
                      },
                      {
                        "bin_start": 4.9,
                        "bin_end": 5.300000000000001,
                        "count": 0
                      },
                      {
                        "bin_start": 5.300000000000001,
                        "bin_end": 5.7,
                        "count": 0
                      },
                      {
                        "bin_start": 5.7,
                        "bin_end": 6.1000000000000005,
                        "count": 0
                      },
                      {
                        "bin_start": 6.1000000000000005,
                        "bin_end": 6.5,
                        "count": 0
                      },
                      {
                        "bin_start": 6.5,
                        "bin_end": 6.9,
                        "count": 1
                      },
                      {
                        "bin_start": 6.9,
                        "bin_end": 7.300000000000001,
                        "count": 2
                      },
                      {
                        "bin_start": 7.300000000000001,
                        "bin_end": 7.7,
                        "count": 1
                      }
                    ],
                    "categories": null
                  }
                },
                {
                  "name": "Not Reported",
                  "dtype": "float64",
                  "stats": {
                    "unique_count": 5,
                    "nan_count": 0,
                    "min": "0.0",
                    "max": "314.0",
                    "histogram": [
                      {
                        "bin_start": 0,
                        "bin_end": 31.4,
                        "count": 2
                      },
                      {
                        "bin_start": 31.4,
                        "bin_end": 62.8,
                        "count": 1
                      },
                      {
                        "bin_start": 62.8,
                        "bin_end": 94.19999999999999,
                        "count": 0
                      },
                      {
                        "bin_start": 94.19999999999999,
                        "bin_end": 125.6,
                        "count": 0
                      },
                      {
                        "bin_start": 125.6,
                        "bin_end": 157,
                        "count": 0
                      },
                      {
                        "bin_start": 157,
                        "bin_end": 188.39999999999998,
                        "count": 0
                      },
                      {
                        "bin_start": 188.39999999999998,
                        "bin_end": 219.79999999999998,
                        "count": 1
                      },
                      {
                        "bin_start": 219.79999999999998,
                        "bin_end": 251.2,
                        "count": 0
                      },
                      {
                        "bin_start": 251.2,
                        "bin_end": 282.59999999999997,
                        "count": 0
                      },
                      {
                        "bin_start": 282.59999999999997,
                        "bin_end": 314,
                        "count": 1
                      }
                    ],
                    "categories": null
                  }
                },
                {
                  "name": "Not Reported (%)",
                  "dtype": "float64",
                  "stats": {
                    "unique_count": 5,
                    "nan_count": 0,
                    "min": "0.0",
                    "max": "2.7",
                    "histogram": [
                      {
                        "bin_start": 0,
                        "bin_end": 0.27,
                        "count": 2
                      },
                      {
                        "bin_start": 0.27,
                        "bin_end": 0.54,
                        "count": 0
                      },
                      {
                        "bin_start": 0.54,
                        "bin_end": 0.81,
                        "count": 1
                      },
                      {
                        "bin_start": 0.81,
                        "bin_end": 1.08,
                        "count": 0
                      },
                      {
                        "bin_start": 1.08,
                        "bin_end": 1.35,
                        "count": 0
                      },
                      {
                        "bin_start": 1.35,
                        "bin_end": 1.62,
                        "count": 1
                      },
                      {
                        "bin_start": 1.62,
                        "bin_end": 1.8900000000000001,
                        "count": 0
                      },
                      {
                        "bin_start": 1.8900000000000001,
                        "bin_end": 2.16,
                        "count": 0
                      },
                      {
                        "bin_start": 2.16,
                        "bin_end": 2.43,
                        "count": 0
                      },
                      {
                        "bin_start": 2.43,
                        "bin_end": 2.7,
                        "count": 1
                      }
                    ],
                    "categories": null
                  }
                },
                {
                  "name": "English Learner",
                  "dtype": "float64",
                  "stats": {
                    "unique_count": 5,
                    "nan_count": 0,
                    "min": "262.0",
                    "max": "924.0",
                    "histogram": [
                      {
                        "bin_start": 262,
                        "bin_end": 328.2,
                        "count": 1
                      },
                      {
                        "bin_start": 328.2,
                        "bin_end": 394.4,
                        "count": 1
                      },
                      {
                        "bin_start": 394.4,
                        "bin_end": 460.6,
                        "count": 1
                      },
                      {
                        "bin_start": 460.6,
                        "bin_end": 526.8,
                        "count": 0
                      },
                      {
                        "bin_start": 526.8,
                        "bin_end": 593,
                        "count": 0
                      },
                      {
                        "bin_start": 593,
                        "bin_end": 659.2,
                        "count": 0
                      },
                      {
                        "bin_start": 659.2,
                        "bin_end": 725.4000000000001,
                        "count": 1
                      },
                      {
                        "bin_start": 725.4000000000001,
                        "bin_end": 791.6,
                        "count": 0
                      },
                      {
                        "bin_start": 791.6,
                        "bin_end": 857.8000000000001,
                        "count": 0
                      },
                      {
                        "bin_start": 857.8000000000001,
                        "bin_end": 924,
                        "count": 1
                      }
                    ],
                    "categories": null
                  }
                },
                {
                  "name": "English Learner (%)",
                  "dtype": "float64",
                  "stats": {
                    "unique_count": 5,
                    "nan_count": 0,
                    "min": "2.2",
                    "max": "13.4",
                    "histogram": [
                      {
                        "bin_start": 2.2,
                        "bin_end": 3.3200000000000003,
                        "count": 2
                      },
                      {
                        "bin_start": 3.3200000000000003,
                        "bin_end": 4.4399999999999995,
                        "count": 0
                      },
                      {
                        "bin_start": 4.4399999999999995,
                        "bin_end": 5.56,
                        "count": 0
                      },
                      {
                        "bin_start": 5.56,
                        "bin_end": 6.68,
                        "count": 0
                      },
                      {
                        "bin_start": 6.68,
                        "bin_end": 7.8,
                        "count": 0
                      },
                      {
                        "bin_start": 7.8,
                        "bin_end": 8.919999999999998,
                        "count": 0
                      },
                      {
                        "bin_start": 8.919999999999998,
                        "bin_end": 10.04,
                        "count": 1
                      },
                      {
                        "bin_start": 10.04,
                        "bin_end": 11.16,
                        "count": 0
                      },
                      {
                        "bin_start": 11.16,
                        "bin_end": 12.279999999999998,
                        "count": 1
                      },
                      {
                        "bin_start": 12.279999999999998,
                        "bin_end": 13.4,
                        "count": 1
                      }
                    ],
                    "categories": null
                  }
                },
                {
                  "name": "Foster",
                  "dtype": "float64",
                  "stats": {
                    "unique_count": 5,
                    "nan_count": 0,
                    "min": "8.0",
                    "max": "57.0",
                    "histogram": [
                      {
                        "bin_start": 8,
                        "bin_end": 12.9,
                        "count": 1
                      },
                      {
                        "bin_start": 12.9,
                        "bin_end": 17.8,
                        "count": 3
                      },
                      {
                        "bin_start": 17.8,
                        "bin_end": 22.700000000000003,
                        "count": 0
                      },
                      {
                        "bin_start": 22.700000000000003,
                        "bin_end": 27.6,
                        "count": 0
                      },
                      {
                        "bin_start": 27.6,
                        "bin_end": 32.5,
                        "count": 0
                      },
                      {
                        "bin_start": 32.5,
                        "bin_end": 37.400000000000006,
                        "count": 0
                      },
                      {
                        "bin_start": 37.400000000000006,
                        "bin_end": 42.300000000000004,
                        "count": 0
                      },
                      {
                        "bin_start": 42.300000000000004,
                        "bin_end": 47.2,
                        "count": 0
                      },
                      {
                        "bin_start": 47.2,
                        "bin_end": 52.1,
                        "count": 0
                      },
                      {
                        "bin_start": 52.1,
                        "bin_end": 57,
                        "count": 1
                      }
                    ],
                    "categories": null
                  }
                },
                {
                  "name": "Foster (%)",
                  "dtype": "float64",
                  "stats": {
                    "unique_count": 3,
                    "nan_count": 0,
                    "min": "0.1",
                    "max": "1.0",
                    "histogram": [
                      {
                        "bin_start": 0.1,
                        "bin_end": 0.19,
                        "count": 2
                      },
                      {
                        "bin_start": 0.19,
                        "bin_end": 0.28,
                        "count": 2
                      },
                      {
                        "bin_start": 0.28,
                        "bin_end": 0.37,
                        "count": 0
                      },
                      {
                        "bin_start": 0.37,
                        "bin_end": 0.45999999999999996,
                        "count": 0
                      },
                      {
                        "bin_start": 0.45999999999999996,
                        "bin_end": 0.5499999999999999,
                        "count": 0
                      },
                      {
                        "bin_start": 0.5499999999999999,
                        "bin_end": 0.64,
                        "count": 0
                      },
                      {
                        "bin_start": 0.64,
                        "bin_end": 0.73,
                        "count": 0
                      },
                      {
                        "bin_start": 0.73,
                        "bin_end": 0.82,
                        "count": 0
                      },
                      {
                        "bin_start": 0.82,
                        "bin_end": 0.9099999999999999,
                        "count": 0
                      },
                      {
                        "bin_start": 0.9099999999999999,
                        "bin_end": 1,
                        "count": 1
                      }
                    ],
                    "categories": null
                  }
                },
                {
                  "name": "Homeless",
                  "dtype": "float64",
                  "stats": {
                    "unique_count": 5,
                    "nan_count": 0,
                    "min": "89.0",
                    "max": "207.0",
                    "histogram": [
                      {
                        "bin_start": 89,
                        "bin_end": 100.8,
                        "count": 2
                      },
                      {
                        "bin_start": 100.8,
                        "bin_end": 112.6,
                        "count": 1
                      },
                      {
                        "bin_start": 112.6,
                        "bin_end": 124.4,
                        "count": 0
                      },
                      {
                        "bin_start": 124.4,
                        "bin_end": 136.2,
                        "count": 1
                      },
                      {
                        "bin_start": 136.2,
                        "bin_end": 148,
                        "count": 0
                      },
                      {
                        "bin_start": 148,
                        "bin_end": 159.8,
                        "count": 0
                      },
                      {
                        "bin_start": 159.8,
                        "bin_end": 171.60000000000002,
                        "count": 0
                      },
                      {
                        "bin_start": 171.60000000000002,
                        "bin_end": 183.4,
                        "count": 0
                      },
                      {
                        "bin_start": 183.4,
                        "bin_end": 195.2,
                        "count": 0
                      },
                      {
                        "bin_start": 195.2,
                        "bin_end": 207,
                        "count": 1
                      }
                    ],
                    "categories": null
                  }
                },
                {
                  "name": "Homeless (%)",
                  "dtype": "float64",
                  "stats": {
                    "unique_count": 5,
                    "nan_count": 0,
                    "min": "0.6",
                    "max": "3.6",
                    "histogram": [
                      {
                        "bin_start": 0.6,
                        "bin_end": 0.8999999999999999,
                        "count": 1
                      },
                      {
                        "bin_start": 0.8999999999999999,
                        "bin_end": 1.2,
                        "count": 1
                      },
                      {
                        "bin_start": 1.2,
                        "bin_end": 1.5,
                        "count": 0
                      },
                      {
                        "bin_start": 1.5,
                        "bin_end": 1.7999999999999998,
                        "count": 1
                      },
                      {
                        "bin_start": 1.7999999999999998,
                        "bin_end": 2.1,
                        "count": 0
                      },
                      {
                        "bin_start": 2.1,
                        "bin_end": 2.4,
                        "count": 1
                      },
                      {
                        "bin_start": 2.4,
                        "bin_end": 2.7,
                        "count": 0
                      },
                      {
                        "bin_start": 2.7,
                        "bin_end": 3,
                        "count": 0
                      },
                      {
                        "bin_start": 3,
                        "bin_end": 3.3,
                        "count": 0
                      },
                      {
                        "bin_start": 3.3,
                        "bin_end": 3.6,
                        "count": 1
                      }
                    ],
                    "categories": null
                  }
                },
                {
                  "name": "Migrant",
                  "dtype": "float64",
                  "stats": {
                    "unique_count": 4,
                    "nan_count": 0,
                    "min": "0.0",
                    "max": "26.0",
                    "histogram": [
                      {
                        "bin_start": 0,
                        "bin_end": 2.6,
                        "count": 3
                      },
                      {
                        "bin_start": 2.6,
                        "bin_end": 5.2,
                        "count": 0
                      },
                      {
                        "bin_start": 5.2,
                        "bin_end": 7.800000000000001,
                        "count": 0
                      },
                      {
                        "bin_start": 7.800000000000001,
                        "bin_end": 10.4,
                        "count": 1
                      },
                      {
                        "bin_start": 10.4,
                        "bin_end": 13,
                        "count": 0
                      },
                      {
                        "bin_start": 13,
                        "bin_end": 15.600000000000001,
                        "count": 0
                      },
                      {
                        "bin_start": 15.600000000000001,
                        "bin_end": 18.2,
                        "count": 0
                      },
                      {
                        "bin_start": 18.2,
                        "bin_end": 20.8,
                        "count": 0
                      },
                      {
                        "bin_start": 20.8,
                        "bin_end": 23.400000000000002,
                        "count": 0
                      },
                      {
                        "bin_start": 23.400000000000002,
                        "bin_end": 26,
                        "count": 1
                      }
                    ],
                    "categories": null
                  }
                },
                {
                  "name": "Migrant (%)",
                  "dtype": "float64",
                  "stats": {
                    "unique_count": 3,
                    "nan_count": 0,
                    "min": "0.0",
                    "max": "0.2",
                    "histogram": [
                      {
                        "bin_start": 0,
                        "bin_end": 0.02,
                        "count": 3
                      },
                      {
                        "bin_start": 0.02,
                        "bin_end": 0.04,
                        "count": 0
                      },
                      {
                        "bin_start": 0.04,
                        "bin_end": 0.06,
                        "count": 0
                      },
                      {
                        "bin_start": 0.06,
                        "bin_end": 0.08,
                        "count": 0
                      },
                      {
                        "bin_start": 0.08,
                        "bin_end": 0.1,
                        "count": 0
                      },
                      {
                        "bin_start": 0.1,
                        "bin_end": 0.12,
                        "count": 1
                      },
                      {
                        "bin_start": 0.12,
                        "bin_end": 0.14,
                        "count": 0
                      },
                      {
                        "bin_start": 0.14,
                        "bin_end": 0.16,
                        "count": 0
                      },
                      {
                        "bin_start": 0.16,
                        "bin_end": 0.18,
                        "count": 0
                      },
                      {
                        "bin_start": 0.18,
                        "bin_end": 0.2,
                        "count": 1
                      }
                    ],
                    "categories": null
                  }
                },
                {
                  "name": "Students with Disabilities",
                  "dtype": "float64",
                  "stats": {
                    "unique_count": 5,
                    "nan_count": 0,
                    "min": "559.0",
                    "max": "1469.0",
                    "histogram": [
                      {
                        "bin_start": 559,
                        "bin_end": 650,
                        "count": 1
                      },
                      {
                        "bin_start": 650,
                        "bin_end": 741,
                        "count": 0
                      },
                      {
                        "bin_start": 741,
                        "bin_end": 832,
                        "count": 1
                      },
                      {
                        "bin_start": 832,
                        "bin_end": 923,
                        "count": 1
                      },
                      {
                        "bin_start": 923,
                        "bin_end": 1014,
                        "count": 0
                      },
                      {
                        "bin_start": 1014,
                        "bin_end": 1105,
                        "count": 0
                      },
                      {
                        "bin_start": 1105,
                        "bin_end": 1196,
                        "count": 0
                      },
                      {
                        "bin_start": 1196,
                        "bin_end": 1287,
                        "count": 1
                      },
                      {
                        "bin_start": 1287,
                        "bin_end": 1378,
                        "count": 0
                      },
                      {
                        "bin_start": 1378,
                        "bin_end": 1469,
                        "count": 1
                      }
                    ],
                    "categories": null
                  }
                },
                {
                  "name": "Students with Disabilities (%)",
                  "dtype": "float64",
                  "stats": {
                    "unique_count": 5,
                    "nan_count": 0,
                    "min": "10.1",
                    "max": "14.4",
                    "histogram": [
                      {
                        "bin_start": 10.1,
                        "bin_end": 10.53,
                        "count": 2
                      },
                      {
                        "bin_start": 10.53,
                        "bin_end": 10.959999999999999,
                        "count": 0
                      },
                      {
                        "bin_start": 10.959999999999999,
                        "bin_end": 11.39,
                        "count": 0
                      },
                      {
                        "bin_start": 11.39,
                        "bin_end": 11.82,
                        "count": 0
                      },
                      {
                        "bin_start": 11.82,
                        "bin_end": 12.25,
                        "count": 0
                      },
                      {
                        "bin_start": 12.25,
                        "bin_end": 12.68,
                        "count": 0
                      },
                      {
                        "bin_start": 12.68,
                        "bin_end": 13.11,
                        "count": 1
                      },
                      {
                        "bin_start": 13.11,
                        "bin_end": 13.54,
                        "count": 1
                      },
                      {
                        "bin_start": 13.54,
                        "bin_end": 13.97,
                        "count": 0
                      },
                      {
                        "bin_start": 13.97,
                        "bin_end": 14.4,
                        "count": 1
                      }
                    ],
                    "categories": null
                  }
                },
                {
                  "name": "Socioeconomically Disadvantaged",
                  "dtype": "float64",
                  "stats": {
                    "unique_count": 5,
                    "nan_count": 0,
                    "min": "2644.0",
                    "max": "7075.0",
                    "histogram": [
                      {
                        "bin_start": 2644,
                        "bin_end": 3087.1,
                        "count": 1
                      },
                      {
                        "bin_start": 3087.1,
                        "bin_end": 3530.2,
                        "count": 0
                      },
                      {
                        "bin_start": 3530.2,
                        "bin_end": 3973.3,
                        "count": 0
                      },
                      {
                        "bin_start": 3973.3,
                        "bin_end": 4416.4,
                        "count": 2
                      },
                      {
                        "bin_start": 4416.4,
                        "bin_end": 4859.5,
                        "count": 1
                      },
                      {
                        "bin_start": 4859.5,
                        "bin_end": 5302.6,
                        "count": 0
                      },
                      {
                        "bin_start": 5302.6,
                        "bin_end": 5745.700000000001,
                        "count": 0
                      },
                      {
                        "bin_start": 5745.700000000001,
                        "bin_end": 6188.8,
                        "count": 0
                      },
                      {
                        "bin_start": 6188.8,
                        "bin_end": 6631.9,
                        "count": 0
                      },
                      {
                        "bin_start": 6631.9,
                        "bin_end": 7075,
                        "count": 1
                      }
                    ],
                    "categories": null
                  }
                },
                {
                  "name": "Socioeconomically Disadvantaged (%)",
                  "dtype": "float64",
                  "stats": {
                    "unique_count": 5,
                    "nan_count": 0,
                    "min": "37.7",
                    "max": "83.8",
                    "histogram": [
                      {
                        "bin_start": 37.7,
                        "bin_end": 42.31,
                        "count": 1
                      },
                      {
                        "bin_start": 42.31,
                        "bin_end": 46.92,
                        "count": 0
                      },
                      {
                        "bin_start": 46.92,
                        "bin_end": 51.53,
                        "count": 1
                      },
                      {
                        "bin_start": 51.53,
                        "bin_end": 56.14,
                        "count": 0
                      },
                      {
                        "bin_start": 56.14,
                        "bin_end": 60.75,
                        "count": 0
                      },
                      {
                        "bin_start": 60.75,
                        "bin_end": 65.36,
                        "count": 1
                      },
                      {
                        "bin_start": 65.36,
                        "bin_end": 69.97,
                        "count": 1
                      },
                      {
                        "bin_start": 69.97,
                        "bin_end": 74.58,
                        "count": 0
                      },
                      {
                        "bin_start": 74.58,
                        "bin_end": 79.19,
                        "count": 0
                      },
                      {
                        "bin_start": 79.19,
                        "bin_end": 83.8,
                        "count": 1
                      }
                    ],
                    "categories": null
                  }
                },
                {
                  "name": "District Label",
                  "dtype": "object",
                  "stats": {
                    "unique_count": 5,
                    "nan_count": 0,
                    "min": null,
                    "max": null,
                    "histogram": null,
                    "categories": [
                      {
                        "name": "Maricopa Unified (Kern)",
                        "count": 1
                      },
                      {
                        "name": "Oro Grande (San Bernardino)",
                        "count": 1
                      },
                      {
                        "name": "3 others",
                        "count": 3
                      }
                    ]
                  }
                },
                {
                  "name": "District Name",
                  "dtype": "object",
                  "stats": {
                    "unique_count": 5,
                    "nan_count": 0,
                    "min": null,
                    "max": null,
                    "histogram": null,
                    "categories": [
                      {
                        "name": "Maricopa Unified",
                        "count": 1
                      },
                      {
                        "name": "Oro Grande Elementary",
                        "count": 1
                      },
                      {
                        "name": "3 others",
                        "count": 3
                      }
                    ]
                  }
                },
                {
                  "name": "EDP 365",
                  "dtype": "float64",
                  "stats": {
                    "unique_count": 5,
                    "nan_count": 0,
                    "min": "1594837.91",
                    "max": "11112406.38",
                    "histogram": [
                      {
                        "bin_start": 1594837.91,
                        "bin_end": 2546594.757,
                        "count": 1
                      },
                      {
                        "bin_start": 2546594.757,
                        "bin_end": 3498351.6040000003,
                        "count": 0
                      },
                      {
                        "bin_start": 3498351.6040000003,
                        "bin_end": 4450108.451,
                        "count": 1
                      },
                      {
                        "bin_start": 4450108.451,
                        "bin_end": 5401865.298,
                        "count": 1
                      },
                      {
                        "bin_start": 5401865.298,
                        "bin_end": 6353622.1450000005,
                        "count": 0
                      },
                      {
                        "bin_start": 6353622.1450000005,
                        "bin_end": 7305378.992000001,
                        "count": 0
                      },
                      {
                        "bin_start": 7305378.992000001,
                        "bin_end": 8257135.839000001,
                        "count": 1
                      },
                      {
                        "bin_start": 8257135.839000001,
                        "bin_end": 9208892.686,
                        "count": 0
                      },
                      {
                        "bin_start": 9208892.686,
                        "bin_end": 10160649.533,
                        "count": 0
                      },
                      {
                        "bin_start": 10160649.533,
                        "bin_end": 11112406.38,
                        "count": 1
                      }
                    ],
                    "categories": null
                  }
                },
                {
                  "name": "Expense ADA",
                  "dtype": "float64",
                  "stats": {
                    "unique_count": 5,
                    "nan_count": 0,
                    "min": "13.45",
                    "max": "281.45",
                    "histogram": [
                      {
                        "bin_start": 13.45,
                        "bin_end": 40.25,
                        "count": 1
                      },
                      {
                        "bin_start": 40.25,
                        "bin_end": 67.05,
                        "count": 1
                      },
                      {
                        "bin_start": 67.05,
                        "bin_end": 93.85000000000001,
                        "count": 1
                      },
                      {
                        "bin_start": 93.85000000000001,
                        "bin_end": 120.65,
                        "count": 0
                      },
                      {
                        "bin_start": 120.65,
                        "bin_end": 147.45,
                        "count": 0
                      },
                      {
                        "bin_start": 147.45,
                        "bin_end": 174.25,
                        "count": 0
                      },
                      {
                        "bin_start": 174.25,
                        "bin_end": 201.04999999999998,
                        "count": 0
                      },
                      {
                        "bin_start": 201.04999999999998,
                        "bin_end": 227.85,
                        "count": 1
                      },
                      {
                        "bin_start": 227.85,
                        "bin_end": 254.65,
                        "count": 0
                      },
                      {
                        "bin_start": 254.65,
                        "bin_end": 281.45,
                        "count": 1
                      }
                    ],
                    "categories": null
                  }
                },
                {
                  "name": "Expense per ADA",
                  "dtype": "float64",
                  "stats": {
                    "unique_count": 5,
                    "nan_count": 0,
                    "min": "18597.47",
                    "max": "382603.79",
                    "histogram": [
                      {
                        "bin_start": 18597.47,
                        "bin_end": 54998.102,
                        "count": 3
                      },
                      {
                        "bin_start": 54998.102,
                        "bin_end": 91398.734,
                        "count": 0
                      },
                      {
                        "bin_start": 91398.734,
                        "bin_end": 127799.366,
                        "count": 0
                      },
                      {
                        "bin_start": 127799.366,
                        "bin_end": 164199.998,
                        "count": 1
                      },
                      {
                        "bin_start": 164199.998,
                        "bin_end": 200600.62999999998,
                        "count": 0
                      },
                      {
                        "bin_start": 200600.62999999998,
                        "bin_end": 237001.262,
                        "count": 0
                      },
                      {
                        "bin_start": 237001.262,
                        "bin_end": 273401.894,
                        "count": 0
                      },
                      {
                        "bin_start": 273401.894,
                        "bin_end": 309802.52599999995,
                        "count": 0
                      },
                      {
                        "bin_start": 309802.52599999995,
                        "bin_end": 346203.15799999994,
                        "count": 0
                      },
                      {
                        "bin_start": 346203.15799999994,
                        "bin_end": 382603.79,
                        "count": 1
                      }
                    ],
                    "categories": null
                  }
                },
                {
                  "name": "LEA Type",
                  "dtype": "object",
                  "stats": {
                    "unique_count": 2,
                    "nan_count": 0,
                    "min": null,
                    "max": null,
                    "histogram": null,
                    "categories": [
                      {
                        "name": "Elementary",
                        "count": 4
                      },
                      {
                        "name": "Unified",
                        "count": 1
                      }
                    ]
                  }
                },
                {
                  "name": "Decimal Difference",
                  "dtype": "float64",
                  "stats": {
                    "unique_count": 5,
                    "nan_count": 0,
                    "min": "50.281262362093976",
                    "max": "511.11895910780675",
                    "histogram": [
                      {
                        "bin_start": 50.281262362093976,
                        "bin_end": 96.36503203666526,
                        "count": 4
                      },
                      {
                        "bin_start": 96.36503203666526,
                        "bin_end": 142.44880171123654,
                        "count": 0
                      },
                      {
                        "bin_start": 142.44880171123654,
                        "bin_end": 188.5325713858078,
                        "count": 0
                      },
                      {
                        "bin_start": 188.5325713858078,
                        "bin_end": 234.61634106037909,
                        "count": 0
                      },
                      {
                        "bin_start": 234.61634106037909,
                        "bin_end": 280.7001107349504,
                        "count": 0
                      },
                      {
                        "bin_start": 280.7001107349504,
                        "bin_end": 326.78388040952166,
                        "count": 0
                      },
                      {
                        "bin_start": 326.78388040952166,
                        "bin_end": 372.86765008409293,
                        "count": 0
                      },
                      {
                        "bin_start": 372.86765008409293,
                        "bin_end": 418.9514197586642,
                        "count": 0
                      },
                      {
                        "bin_start": 418.9514197586642,
                        "bin_end": 465.0351894332355,
                        "count": 0
                      },
                      {
                        "bin_start": 465.0351894332355,
                        "bin_end": 511.11895910780675,
                        "count": 1
                      }
                    ],
                    "categories": null
                  }
                },
                {
                  "name": "_deepnote_index_column",
                  "dtype": "int64"
                }
              ],
              "row_count": 5,
              "preview_row_count": 5,
              "rows": [
                {
                  "Fed ID": 623820,
                  "District Code": "63628",
                  "CDS Code": 15636280000000,
                  "County Name": "Kern",
                  "District Type": "Unified",
                  "Grade Low": "KG",
                  "Grade High": "12",
                  "Grade Low Census": "KG",
                  "Grade High Census": "12",
                  "Assistance Status": "Differentiated Assistance",
                  "Locale": "Rural",
                  "Enroll Total": 14535,
                  "Enroll Charter": 14229,
                  "Enroll Non Charter": 306,
                  "African American": 613,
                  "African American (%)": 4.2,
                  "American Indian": 47,
                  "American Indian (%)": 0.3,
                  "Asian": 460,
                  "Asian (%)": 3.2,
                  "Filipino": 136,
                  "Filipino (%)": 0.9,
                  "Hispanic": 5302,
                  "Hispanic (%)": 36.5,
                  "Pacific Islander": 39,
                  "Pacific Islander (%)": 0.3,
                  "White": 6736,
                  "White (%)": 46.3,
                  "Two or More Races": 995,
                  "Two or More Races (%)": 6.8,
                  "Not Reported": 207,
                  "Not Reported (%)": 1.4,
                  "English Learner": 415,
                  "English Learner (%)": 2.9,
                  "Foster": 16,
                  "Foster (%)": 0.1,
                  "Homeless": 92,
                  "Homeless (%)": 0.6,
                  "Migrant": 26,
                  "Migrant (%)": 0.2,
                  "Students with Disabilities": 1469,
                  "Students with Disabilities (%)": 10.1,
                  "Socioeconomically Disadvantaged": 7075,
                  "Socioeconomically Disadvantaged (%)": 48.7,
                  "District Label": "Maricopa Unified (Kern)",
                  "District Name": "Maricopa Unified",
                  "EDP 365": 7810924.74,
                  "Expense ADA": 281.45,
                  "Expense per ADA": 27752.44,
                  "LEA Type": "Unified",
                  "Decimal Difference": 50.643275892698526,
                  "_deepnote_index_column": 192
                },
                {
                  "Fed ID": 628950,
                  "District Code": "67827",
                  "CDS Code": 36678270000000,
                  "County Name": "San Bernardino",
                  "District Type": "Elementary",
                  "Grade Low": "KG",
                  "Grade High": "12",
                  "Grade Low Census": "KG",
                  "Grade High Census": "6",
                  "Assistance Status": "General Assistance",
                  "Locale": "Suburban",
                  "Enroll Total": 5724,
                  "Enroll Charter": 5631,
                  "Enroll Non Charter": 93,
                  "African American": 605,
                  "African American (%)": 10.6,
                  "American Indian": 49,
                  "American Indian (%)": 0.9,
                  "Asian": 25,
                  "Asian (%)": 0.4,
                  "Filipino": 20,
                  "Filipino (%)": 0.3,
                  "Hispanic": 3763,
                  "Hispanic (%)": 65.7,
                  "Pacific Islander": 29,
                  "Pacific Islander (%)": 0.5,
                  "White": 987,
                  "White (%)": 17.2,
                  "Two or More Races": 214,
                  "Two or More Races (%)": 3.7,
                  "Not Reported": 32,
                  "Not Reported (%)": 0.6,
                  "English Learner": 696,
                  "English Learner (%)": 12.2,
                  "Foster": 57,
                  "Foster (%)": 1,
                  "Homeless": 207,
                  "Homeless (%)": 3.6,
                  "Migrant": 0,
                  "Migrant (%)": 0,
                  "Students with Disabilities": 765,
                  "Students with Disabilities (%)": 13.4,
                  "Socioeconomically Disadvantaged": 4794,
                  "Socioeconomically Disadvantaged (%)": 83.8,
                  "District Label": "Oro Grande (San Bernardino)",
                  "District Name": "Oro Grande Elementary",
                  "EDP 365": 11112406.38,
                  "Expense ADA": 79.93,
                  "Expense per ADA": 139026.73,
                  "LEA Type": "Elementary",
                  "Decimal Difference": 70.61266107844362,
                  "_deepnote_index_column": 530
                },
                {
                  "Fed ID": 610710,
                  "District Code": "68049",
                  "CDS Code": 37680490000000,
                  "County Name": "San Diego",
                  "District Type": "Elementary",
                  "Grade Low": "KG",
                  "Grade High": "12",
                  "Grade Low Census": "KG",
                  "Grade High Census": "8",
                  "Assistance Status": "General Assistance",
                  "Locale": "Rural",
                  "Enroll Total": 11667,
                  "Enroll Charter": 11444,
                  "Enroll Non Charter": 223,
                  "African American": 225,
                  "African American (%)": 1.9,
                  "American Indian": 59,
                  "American Indian (%)": 0.5,
                  "Asian": 492,
                  "Asian (%)": 4.2,
                  "Filipino": 121,
                  "Filipino (%)": 1,
                  "Hispanic": 3584,
                  "Hispanic (%)": 30.7,
                  "Pacific Islander": 30,
                  "Pacific Islander (%)": 0.3,
                  "White": 5944,
                  "White (%)": 50.9,
                  "Two or More Races": 898,
                  "Two or More Races (%)": 7.7,
                  "Not Reported": 314,
                  "Not Reported (%)": 2.7,
                  "English Learner": 262,
                  "English Learner (%)": 2.2,
                  "Foster": 14,
                  "Foster (%)": 0.1,
                  "Homeless": 129,
                  "Homeless (%)": 1.1,
                  "Migrant": 1,
                  "Migrant (%)": 0,
                  "Students with Disabilities": 1220,
                  "Students with Disabilities (%)": 10.5,
                  "Socioeconomically Disadvantaged": 4395,
                  "Socioeconomically Disadvantaged (%)": 37.7,
                  "District Label": "Dehesa Elementary (San Diego)",
                  "District Name": "Dehesa Elementary",
                  "EDP 365": 4231109.69,
                  "Expense ADA": 227.51,
                  "Expense per ADA": 18597.47,
                  "LEA Type": "Elementary",
                  "Decimal Difference": 50.281262362093976,
                  "_deepnote_index_column": 552
                },
                {
                  "Fed ID": 637680,
                  "District Code": "68403",
                  "CDS Code": 37684030000000,
                  "County Name": "San Diego",
                  "District Type": "Elementary",
                  "Grade Low": "KG",
                  "Grade High": "12",
                  "Grade Low Census": "KG",
                  "Grade High Census": "8",
                  "Assistance Status": "General Assistance",
                  "Locale": "Rural",
                  "Enroll Total": 3885,
                  "Enroll Charter": 3838,
                  "Enroll Non Charter": 47,
                  "African American": 359,
                  "African American (%)": 9.2,
                  "American Indian": 29,
                  "American Indian (%)": 0.7,
                  "Asian": 113,
                  "Asian (%)": 2.9,
                  "Filipino": 65,
                  "Filipino (%)": 1.7,
                  "Hispanic": 2176,
                  "Hispanic (%)": 56,
                  "Pacific Islander": 40,
                  "Pacific Islander (%)": 1,
                  "White": 836,
                  "White (%)": 21.5,
                  "Two or More Races": 267,
                  "Two or More Races (%)": 6.9,
                  "Not Reported": 0,
                  "Not Reported (%)": 0,
                  "English Learner": 359,
                  "English Learner (%)": 9.2,
                  "Foster": 8,
                  "Foster (%)": 0.2,
                  "Homeless": 89,
                  "Homeless (%)": 2.3,
                  "Migrant": 0,
                  "Migrant (%)": 0,
                  "Students with Disabilities": 559,
                  "Students with Disabilities (%)": 14.4,
                  "Socioeconomically Disadvantaged": 2644,
                  "Socioeconomically Disadvantaged (%)": 68.1,
                  "District Label": "Spencer Valley Elementary (San Diego)",
                  "District Name": "Spencer Valley Elementary",
                  "EDP 365": 1594837.91,
                  "Expense ADA": 44.88,
                  "Expense per ADA": 35535.6,
                  "LEA Type": "Elementary",
                  "Decimal Difference": 85.56417112299465,
                  "_deepnote_index_column": 578
                },
                {
                  "Fed ID": 627030,
                  "District Code": "68627",
                  "CDS Code": 39686270000000,
                  "County Name": "San Joaquin",
                  "District Type": "Elementary",
                  "Grade Low": "KG",
                  "Grade High": "12",
                  "Grade Low Census": "KG",
                  "Grade High Census": "8",
                  "Assistance Status": "General Assistance",
                  "Locale": "Rural",
                  "Enroll Total": 6888,
                  "Enroll Charter": 6872,
                  "Enroll Non Charter": 16,
                  "African American": 665,
                  "African American (%)": 9.7,
                  "American Indian": 46,
                  "American Indian (%)": 0.7,
                  "Asian": 597,
                  "Asian (%)": 8.7,
                  "Filipino": 170,
                  "Filipino (%)": 2.5,
                  "Hispanic": 3235,
                  "Hispanic (%)": 47,
                  "Pacific Islander": 74,
                  "Pacific Islander (%)": 1.1,
                  "White": 1585,
                  "White (%)": 23,
                  "Two or More Races": 503,
                  "Two or More Races (%)": 7.3,
                  "Not Reported": 13,
                  "Not Reported (%)": 0.2,
                  "English Learner": 924,
                  "English Learner (%)": 13.4,
                  "Foster": 17,
                  "Foster (%)": 0.2,
                  "Homeless": 108,
                  "Homeless (%)": 1.6,
                  "Migrant": 9,
                  "Migrant (%)": 0.1,
                  "Students with Disabilities": 872,
                  "Students with Disabilities (%)": 12.7,
                  "Socioeconomically Disadvantaged": 4379,
                  "Socioeconomically Disadvantaged (%)": 63.6,
                  "District Label": "New Jerusalem Elementary (San Joaquin)",
                  "District Name": "New Jerusalem Elementary",
                  "EDP 365": 5146020.92,
                  "Expense ADA": 13.45,
                  "Expense per ADA": 382603.79,
                  "LEA Type": "Elementary",
                  "Decimal Difference": 511.11895910780675,
                  "_deepnote_index_column": 596
                }
              ],
              "type": "dataframe"
            },
            "text/plain": "       Fed ID District Code      CDS Code     County Name District Type  \\\n192  623820.0         63628  1.563628e+13            Kern       Unified   \n530  628950.0         67827  3.667827e+13  San Bernardino    Elementary   \n552  610710.0         68049  3.768049e+13       San Diego    Elementary   \n578  637680.0         68403  3.768403e+13       San Diego    Elementary   \n596  627030.0         68627  3.968627e+13     San Joaquin    Elementary   \n\n    Grade Low Grade High Grade Low Census Grade High Census  \\\n192        KG         12               KG                12   \n530        KG         12               KG                 6   \n552        KG         12               KG                 8   \n578        KG         12               KG                 8   \n596        KG         12               KG                 8   \n\n             Assistance Status  ... Students with Disabilities (%)  \\\n192  Differentiated Assistance  ...                           10.1   \n530         General Assistance  ...                           13.4   \n552         General Assistance  ...                           10.5   \n578         General Assistance  ...                           14.4   \n596         General Assistance  ...                           12.7   \n\n     Socioeconomically Disadvantaged  Socioeconomically Disadvantaged (%)  \\\n192                           7075.0                                 48.7   \n530                           4794.0                                 83.8   \n552                           4395.0                                 37.7   \n578                           2644.0                                 68.1   \n596                           4379.0                                 63.6   \n\n                             District Label              District Name  \\\n192                 Maricopa Unified (Kern)           Maricopa Unified   \n530             Oro Grande (San Bernardino)      Oro Grande Elementary   \n552           Dehesa Elementary (San Diego)          Dehesa Elementary   \n578   Spencer Valley Elementary (San Diego)  Spencer Valley Elementary   \n596  New Jerusalem Elementary (San Joaquin)   New Jerusalem Elementary   \n\n         EDP 365  Expense ADA  Expense per ADA    LEA Type  Decimal Difference  \n192   7810924.74       281.45         27752.44     Unified           50.643276  \n530  11112406.38        79.93        139026.73  Elementary           70.612661  \n552   4231109.69       227.51         18597.47  Elementary           50.281262  \n578   1594837.91        44.88         35535.60  Elementary           85.564171  \n596   5146020.92        13.45        382603.79  Elementary          511.118959  \n\n[5 rows x 51 columns]",
            "text/html": "<div>\n<style scoped>\n    .dataframe tbody tr th:only-of-type {\n        vertical-align: middle;\n    }\n\n    .dataframe tbody tr th {\n        vertical-align: top;\n    }\n\n    .dataframe thead th {\n        text-align: right;\n    }\n</style>\n<table border=\"1\" class=\"dataframe\">\n  <thead>\n    <tr style=\"text-align: right;\">\n      <th></th>\n      <th>Fed ID</th>\n      <th>District Code</th>\n      <th>CDS Code</th>\n      <th>County Name</th>\n      <th>District Type</th>\n      <th>Grade Low</th>\n      <th>Grade High</th>\n      <th>Grade Low Census</th>\n      <th>Grade High Census</th>\n      <th>Assistance Status</th>\n      <th>...</th>\n      <th>Students with Disabilities (%)</th>\n      <th>Socioeconomically Disadvantaged</th>\n      <th>Socioeconomically Disadvantaged (%)</th>\n      <th>District Label</th>\n      <th>District Name</th>\n      <th>EDP 365</th>\n      <th>Expense ADA</th>\n      <th>Expense per ADA</th>\n      <th>LEA Type</th>\n      <th>Decimal Difference</th>\n    </tr>\n  </thead>\n  <tbody>\n    <tr>\n      <th>192</th>\n      <td>623820.0</td>\n      <td>63628</td>\n      <td>1.563628e+13</td>\n      <td>Kern</td>\n      <td>Unified</td>\n      <td>KG</td>\n      <td>12</td>\n      <td>KG</td>\n      <td>12</td>\n      <td>Differentiated Assistance</td>\n      <td>...</td>\n      <td>10.1</td>\n      <td>7075.0</td>\n      <td>48.7</td>\n      <td>Maricopa Unified (Kern)</td>\n      <td>Maricopa Unified</td>\n      <td>7810924.74</td>\n      <td>281.45</td>\n      <td>27752.44</td>\n      <td>Unified</td>\n      <td>50.643276</td>\n    </tr>\n    <tr>\n      <th>530</th>\n      <td>628950.0</td>\n      <td>67827</td>\n      <td>3.667827e+13</td>\n      <td>San Bernardino</td>\n      <td>Elementary</td>\n      <td>KG</td>\n      <td>12</td>\n      <td>KG</td>\n      <td>6</td>\n      <td>General Assistance</td>\n      <td>...</td>\n      <td>13.4</td>\n      <td>4794.0</td>\n      <td>83.8</td>\n      <td>Oro Grande (San Bernardino)</td>\n      <td>Oro Grande Elementary</td>\n      <td>11112406.38</td>\n      <td>79.93</td>\n      <td>139026.73</td>\n      <td>Elementary</td>\n      <td>70.612661</td>\n    </tr>\n    <tr>\n      <th>552</th>\n      <td>610710.0</td>\n      <td>68049</td>\n      <td>3.768049e+13</td>\n      <td>San Diego</td>\n      <td>Elementary</td>\n      <td>KG</td>\n      <td>12</td>\n      <td>KG</td>\n      <td>8</td>\n      <td>General Assistance</td>\n      <td>...</td>\n      <td>10.5</td>\n      <td>4395.0</td>\n      <td>37.7</td>\n      <td>Dehesa Elementary (San Diego)</td>\n      <td>Dehesa Elementary</td>\n      <td>4231109.69</td>\n      <td>227.51</td>\n      <td>18597.47</td>\n      <td>Elementary</td>\n      <td>50.281262</td>\n    </tr>\n    <tr>\n      <th>578</th>\n      <td>637680.0</td>\n      <td>68403</td>\n      <td>3.768403e+13</td>\n      <td>San Diego</td>\n      <td>Elementary</td>\n      <td>KG</td>\n      <td>12</td>\n      <td>KG</td>\n      <td>8</td>\n      <td>General Assistance</td>\n      <td>...</td>\n      <td>14.4</td>\n      <td>2644.0</td>\n      <td>68.1</td>\n      <td>Spencer Valley Elementary (San Diego)</td>\n      <td>Spencer Valley Elementary</td>\n      <td>1594837.91</td>\n      <td>44.88</td>\n      <td>35535.60</td>\n      <td>Elementary</td>\n      <td>85.564171</td>\n    </tr>\n    <tr>\n      <th>596</th>\n      <td>627030.0</td>\n      <td>68627</td>\n      <td>3.968627e+13</td>\n      <td>San Joaquin</td>\n      <td>Elementary</td>\n      <td>KG</td>\n      <td>12</td>\n      <td>KG</td>\n      <td>8</td>\n      <td>General Assistance</td>\n      <td>...</td>\n      <td>12.7</td>\n      <td>4379.0</td>\n      <td>63.6</td>\n      <td>New Jerusalem Elementary (San Joaquin)</td>\n      <td>New Jerusalem Elementary</td>\n      <td>5146020.92</td>\n      <td>13.45</td>\n      <td>382603.79</td>\n      <td>Elementary</td>\n      <td>511.118959</td>\n    </tr>\n  </tbody>\n</table>\n<p>5 rows × 51 columns</p>\n</div>"
          },
          "metadata": {},
          "output_type": "display_data"
        }
      ],
      "outputs_reference": null,
      "content_dependencies": null
    },
    {
      "cell_type": "markdown",
      "metadata": {
        "id": "gbKh0z7zY8uo",
        "deepnote_app_block_order": 56,
        "deepnote_app_block_visible": true,
        "deepnote_app_block_group_id": null,
        "cell_id": "2738098d4c4742af802a55e5232f191c",
        "deepnote_cell_type": "markdown"
      },
      "source": "After looking through the output data, we noticed that `New Jerusalem Elementary` had a proportional difference of ~51000% between its `Expense ADA` (Count Day Attendance) & `Total Enrollment`.\n\nDue to this extreme discrepancy, we decided to omit `New Jerusalmen Elementary` from our dataset.",
      "block_group": "55daf8077ae3452bb0556d511b39812a"
    },
    {
      "cell_type": "code",
      "metadata": {
        "id": "hLjErSUkbxCn",
        "colab": {
          "base_uri": "https://localhost:8080/"
        },
        "outputId": "086bfaad-b1a8-4300-b1a8-69037e3810b3",
        "source_hash": "b09a1c7c",
        "execution_start": 1759790537168,
        "execution_millis": 0,
        "execution_context_id": "f1ca50dd-93b4-4efd-8fa9-6064dddd03f8",
        "deepnote_app_block_order": 57,
        "deepnote_app_block_visible": true,
        "deepnote_app_block_group_id": null,
        "deepnote_app_is_code_hidden": true,
        "deepnote_app_is_output_hidden": false,
        "cell_id": "d7557038581745f98ea97c9e19201ff9",
        "deepnote_cell_type": "code"
      },
      "source": "# Drop 'New Jerusalem Elementary' data\ndistrict_and_expenses = district_and_expenses[district_and_expenses['District Name'] != 'New Jerusalem Elementary']\n\ndistrict_and_expenses.shape",
      "block_group": "b3988822e18941e48fc05eba55924942",
      "execution_count": 22,
      "outputs": [
        {
          "output_type": "execute_result",
          "execution_count": 22,
          "data": {
            "text/plain": "(932, 51)"
          },
          "metadata": {}
        }
      ],
      "outputs_reference": null,
      "content_dependencies": null
    },
    {
      "cell_type": "markdown",
      "metadata": {
        "id": "siArp7TBcHRL",
        "deepnote_app_block_order": 58,
        "deepnote_app_block_visible": true,
        "deepnote_app_block_group_id": null,
        "cell_id": "727bae9473c540bead31274febf01cd0",
        "deepnote_cell_type": "markdown"
      },
      "source": "# 3.0 Exporting Clean Data",
      "block_group": "4fdce42a77e942fc993ad00bd171bd9e"
    },
    {
      "cell_type": "markdown",
      "metadata": {
        "id": "qmAAlu9ncOJV",
        "deepnote_app_block_order": 59,
        "deepnote_app_block_visible": true,
        "deepnote_app_block_group_id": null,
        "cell_id": "9f414a971e554b49b08b7ed74c00baca",
        "deepnote_cell_type": "markdown"
      },
      "source": "To organize our workflow, we decided to export our clean data to a CSV for easy reference.\n\nThe CSV file will be saved in our Shared Google folder, `STUDENT-milestone_1`.",
      "block_group": "2407cb24562e46b99a4ac5490fdd0c63"
    },
    {
      "cell_type": "code",
      "metadata": {
        "id": "y-Eb1I_0cWtN",
        "source_hash": "db2b02ab",
        "execution_start": 1759790611998,
        "execution_millis": 295,
        "execution_context_id": "f1ca50dd-93b4-4efd-8fa9-6064dddd03f8",
        "deepnote_app_block_order": 60,
        "deepnote_app_block_visible": true,
        "deepnote_app_block_group_id": null,
        "deepnote_app_is_code_hidden": true,
        "deepnote_app_is_output_hidden": false,
        "cell_id": "c9f4b1cfc1bd4ba8a8be2dd107e6c9bb",
        "deepnote_cell_type": "code"
      },
      "source": "# Write district_and_expenses to CSV for export into\n\ndistrict_and_expenses.to_csv('district_and_expenses.csv', index=False)",
      "block_group": "6105c52b36e44ab4b70cedaba5cec52c",
      "execution_count": 26,
      "outputs": [],
      "outputs_reference": null,
      "content_dependencies": null
    },
    {
      "cell_type": "markdown",
      "source": "<a style='text-decoration:none;line-height:16px;display:flex;color:#5B5B62;padding:10px;justify-content:end;' href='https://deepnote.com?utm_source=created-in-deepnote-cell&projectId=246b06f0-3e45-45e3-acef-efea2bae7701' target=\"_blank\">\n<img alt='Created in deepnote.com' style='display:inline;max-height:16px;margin:0px;margin-right:7.5px;' src='data:image/svg+xml;base64,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' > </img>\nCreated in <span style='font-weight:600;margin-left:4px;'>Deepnote</span></a>",
      "metadata": {
        "created_in_deepnote_cell": true,
        "deepnote_cell_type": "markdown"
      }
    }
  ],
  "nbformat": 4,
  "nbformat_minor": 0,
  "metadata": {
    "deepnote_persisted_session": {
      "createdAt": "2025-10-07T01:51:30.093Z"
    },
    "deepnote_app_layout": "powerful-article",
    "deepnote_app_reactivity_enabled": true,
    "deepnote_notebook_id": "6f3aeda2c069437090592c7a0c78d4aa"
  }
}